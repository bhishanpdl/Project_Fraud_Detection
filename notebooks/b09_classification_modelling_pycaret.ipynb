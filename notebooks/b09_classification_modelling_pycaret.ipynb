{
 "cells": [
  {
   "cell_type": "markdown",
   "metadata": {
    "toc": true
   },
   "source": [
    "<h1>Table of Contents<span class=\"tocSkip\"></span></h1>\n",
    "<div class=\"toc\"><ul class=\"toc-item\"><li><span><a href=\"#Data-Description\" data-toc-modified-id=\"Data-Description-1\"><span class=\"toc-item-num\">1&nbsp;&nbsp;</span>Data Description</a></span></li><li><span><a href=\"#Business-Problem\" data-toc-modified-id=\"Business-Problem-2\"><span class=\"toc-item-num\">2&nbsp;&nbsp;</span>Business Problem</a></span></li><li><span><a href=\"#Introduction-to-Pycaret\" data-toc-modified-id=\"Introduction-to-Pycaret-3\"><span class=\"toc-item-num\">3&nbsp;&nbsp;</span>Introduction to Pycaret</a></span></li><li><span><a href=\"#Imports\" data-toc-modified-id=\"Imports-4\"><span class=\"toc-item-num\">4&nbsp;&nbsp;</span>Imports</a></span></li><li><span><a href=\"#Useful-Functions\" data-toc-modified-id=\"Useful-Functions-5\"><span class=\"toc-item-num\">5&nbsp;&nbsp;</span>Useful Functions</a></span></li><li><span><a href=\"#Load-the-data\" data-toc-modified-id=\"Load-the-data-6\"><span class=\"toc-item-num\">6&nbsp;&nbsp;</span>Load the data</a></span></li><li><span><a href=\"#Train-test-split-with-stratify\" data-toc-modified-id=\"Train-test-split-with-stratify-7\"><span class=\"toc-item-num\">7&nbsp;&nbsp;</span>Train test split with stratify</a></span></li><li><span><a href=\"#Pycaret-Setup\" data-toc-modified-id=\"Pycaret-Setup-8\"><span class=\"toc-item-num\">8&nbsp;&nbsp;</span>Pycaret Setup</a></span></li><li><span><a href=\"#Comparing-All-Models\" data-toc-modified-id=\"Comparing-All-Models-9\"><span class=\"toc-item-num\">9&nbsp;&nbsp;</span>Comparing All Models</a></span></li><li><span><a href=\"#Create-Models\" data-toc-modified-id=\"Create-Models-10\"><span class=\"toc-item-num\">10&nbsp;&nbsp;</span>Create Models</a></span></li><li><span><a href=\"#Hyperparameter-Tuning\" data-toc-modified-id=\"Hyperparameter-Tuning-11\"><span class=\"toc-item-num\">11&nbsp;&nbsp;</span>Hyperparameter Tuning</a></span></li><li><span><a href=\"#Further-tuning\" data-toc-modified-id=\"Further-tuning-12\"><span class=\"toc-item-num\">12&nbsp;&nbsp;</span>Further tuning</a></span></li><li><span><a href=\"#Model-Evaluation\" data-toc-modified-id=\"Model-Evaluation-13\"><span class=\"toc-item-num\">13&nbsp;&nbsp;</span>Model Evaluation</a></span></li><li><span><a href=\"#Ensemble--Modelling\" data-toc-modified-id=\"Ensemble--Modelling-14\"><span class=\"toc-item-num\">14&nbsp;&nbsp;</span>Ensemble  Modelling</a></span><ul class=\"toc-item\"><li><span><a href=\"#Bagging\" data-toc-modified-id=\"Bagging-14.1\"><span class=\"toc-item-num\">14.1&nbsp;&nbsp;</span>Bagging</a></span></li><li><span><a href=\"#Boosting\" data-toc-modified-id=\"Boosting-14.2\"><span class=\"toc-item-num\">14.2&nbsp;&nbsp;</span>Boosting</a></span></li><li><span><a href=\"#Blending\" data-toc-modified-id=\"Blending-14.3\"><span class=\"toc-item-num\">14.3&nbsp;&nbsp;</span>Blending</a></span></li><li><span><a href=\"#Stacking\" data-toc-modified-id=\"Stacking-14.4\"><span class=\"toc-item-num\">14.4&nbsp;&nbsp;</span>Stacking</a></span></li></ul></li><li><span><a href=\"#Model-Calibration\" data-toc-modified-id=\"Model-Calibration-15\"><span class=\"toc-item-num\">15&nbsp;&nbsp;</span>Model Calibration</a></span></li><li><span><a href=\"#Model-Interpretation\" data-toc-modified-id=\"Model-Interpretation-16\"><span class=\"toc-item-num\">16&nbsp;&nbsp;</span>Model Interpretation</a></span></li><li><span><a href=\"#Model-Predictions\" data-toc-modified-id=\"Model-Predictions-17\"><span class=\"toc-item-num\">17&nbsp;&nbsp;</span>Model Predictions</a></span></li><li><span><a href=\"#Model-Persistence\" data-toc-modified-id=\"Model-Persistence-18\"><span class=\"toc-item-num\">18&nbsp;&nbsp;</span>Model Persistence</a></span></li><li><span><a href=\"#Time-taken\" data-toc-modified-id=\"Time-taken-19\"><span class=\"toc-item-num\">19&nbsp;&nbsp;</span>Time taken</a></span></li></ul></div>"
   ]
  },
  {
   "cell_type": "markdown",
   "metadata": {},
   "source": [
    "<div class=\"alert alert-block alert-success\">\n",
    "<b>Kernel Author:</b>  <br>\n",
    "<a href=\"https://bhishanpdl.github.io/\" , target=\"_blank\">Bhishan Poudel,  Data Scientist, Ph.D Astrophysics</a> .\n",
    "</div>"
   ]
  },
  {
   "cell_type": "markdown",
   "metadata": {},
   "source": [
    "# Data Description\n",
    "\n",
    "> The datasets contains transactions made by credit cards in September\n",
    "2013 by european cardholders.\n",
    "\n",
    "\n",
    "> This dataset presents transactions that occurred in two days,\n",
    "where we have 492 frauds out of 284,807 transactions. \n",
    "\n",
    "> The dataset is highly unbalanced, the positive class (frauds)\n",
    "account for 0.172% of all transactions.\n",
    "\n",
    "> It contains only numerical input variables which are\n",
    "the result of a PCA transformation.\n",
    "\n",
    "\n",
    "> Unfortunately, due to confidentiality issues,\n",
    "we cannot provide the original features and \n",
    "more background information about the data.\n",
    "\n",
    "\n",
    "> Features V1, V2, ... V28 are the principal\n",
    "components obtained with PCA,\n",
    "the only features which have not been transformed with PCA are 'Time' and 'Amount'. \n",
    "\n",
    "> Feature 'Time' contains the seconds elapsed between each transaction\n",
    "and the first transaction in the dataset. The feature 'Amount'\n",
    "is the transaction Amount, this feature can be used for \n",
    "example-dependant cost-senstive learning. \n",
    "\n",
    "> Feature 'Class' is the response variable and it takes value\n",
    "1 in case of fraud and 0 otherwise.m"
   ]
  },
  {
   "cell_type": "markdown",
   "metadata": {},
   "source": [
    "# Business Problem\n",
    "\n",
    "<div class=\"alert alert-block alert-success\">\n",
    "<b>Business Problem:</b>  <br>\n",
    "Task &nbsp;&nbsp; : Detect the fraudulent activities. <br>\n",
    "Metric : Recall <br>\n",
    "Sampling: No sampling, use all the data. <br>\n",
    "Tools: Use python module Pycaret for classification. <br>\n",
    "Question: How many frauds are correctly classified?\n",
    "</div>"
   ]
  },
  {
   "cell_type": "markdown",
   "metadata": {},
   "source": [
    "# Introduction to Pycaret\n",
    "[Pycaret](https://github.com/pycaret/pycaret) is a high level python\n",
    "module which requires very few lines of code to solve the machine learning problem at hand. This module is useful when dealing with projects with extreme less time constraints.\n",
    "\n",
    "It has classes like `anomaly, classification, clustering, datasets,\n",
    "nlp, preprecess and regression`.\n",
    "\n",
    "\n",
    "Some resources for pycaret:\n",
    "- [pycaret github](https://github.com/pycaret/pycaret)\n",
    "- [pycaret classification 101](https://github.com/pycaret/pycaret/blob/master/Tutorials/Binary%20Classification%20Tutorial%20Level%20Beginner%20-%20%20CLF101.ipynb)\n",
    "- [pycaret classification 102](https://github.com/pycaret/pycaret/blob/master/Tutorials/Binary%20Classification%20Tutorial%20Level%20Intermediate%20-%20CLF102.ipynb)\n",
    "- [Running Low on Time? Use PyCaret to Build your Machine Learning Model in Seconds](https://www.analyticsvidhya.com/blog/2020/05/pycaret-machine-learning-model-seconds/)\n",
    "\n",
    "\n",
    "**Technical Note**  \n",
    "For google colab use:\n",
    "```python\n",
    "from pycaret.utils import enable_colab\n",
    "enable_colab()\n",
    "```"
   ]
  },
  {
   "cell_type": "markdown",
   "metadata": {},
   "source": [
    "# Imports"
   ]
  },
  {
   "cell_type": "code",
   "execution_count": 1,
   "metadata": {
    "ExecuteTime": {
     "end_time": "2020-05-31T20:32:58.433773Z",
     "start_time": "2020-05-31T20:32:58.430543Z"
    }
   },
   "outputs": [],
   "source": [
    "import time\n",
    "\n",
    "time_start_notebook = time.time()"
   ]
  },
  {
   "cell_type": "code",
   "execution_count": 2,
   "metadata": {
    "ExecuteTime": {
     "end_time": "2020-05-31T20:32:58.445883Z",
     "start_time": "2020-05-31T20:32:58.438958Z"
    }
   },
   "outputs": [],
   "source": [
    "import bhishan"
   ]
  },
  {
   "cell_type": "code",
   "execution_count": 3,
   "metadata": {
    "ExecuteTime": {
     "end_time": "2020-05-31T20:32:58.470681Z",
     "start_time": "2020-05-31T20:32:58.448298Z"
    }
   },
   "outputs": [],
   "source": [
    "%load_ext autoreload"
   ]
  },
  {
   "cell_type": "code",
   "execution_count": 4,
   "metadata": {
    "ExecuteTime": {
     "end_time": "2020-05-31T20:32:58.477662Z",
     "start_time": "2020-05-31T20:32:58.474197Z"
    }
   },
   "outputs": [],
   "source": [
    "%autoreload 2"
   ]
  },
  {
   "cell_type": "code",
   "execution_count": 5,
   "metadata": {
    "ExecuteTime": {
     "end_time": "2020-05-31T20:32:59.489076Z",
     "start_time": "2020-05-31T20:32:58.481368Z"
    }
   },
   "outputs": [
    {
     "data": {
      "text/plain": [
       "[('numpy', '1.18.4'), ('pandas', '1.0.4'), ('seaborn', '0.10.1')]"
      ]
     },
     "execution_count": 5,
     "metadata": {},
     "output_type": "execute_result"
    }
   ],
   "source": [
    "import numpy as np\n",
    "import pandas as pd\n",
    "import seaborn as sns\n",
    "import os\n",
    "from pathlib import Path\n",
    "\n",
    "from tqdm import tqdm_notebook as tqdm\n",
    "import matplotlib.pyplot as plt\n",
    "\n",
    "%matplotlib inline\n",
    "%config InlineBackend.figure_format = 'retina'\n",
    "plt.style.use('ggplot') \n",
    "\n",
    "# random state\n",
    "SEED=100\n",
    "\n",
    "home = os.path.expanduser('~')\n",
    "\n",
    "[(x.__name__,x.__version__) for x in [np,pd,sns]]"
   ]
  },
  {
   "cell_type": "code",
   "execution_count": 6,
   "metadata": {
    "ExecuteTime": {
     "end_time": "2020-05-31T20:32:59.525728Z",
     "start_time": "2020-05-31T20:32:59.490940Z"
    }
   },
   "outputs": [
    {
     "name": "stdout",
     "output_type": "stream",
     "text": [
      "1.0.0\n"
     ]
    }
   ],
   "source": [
    "import pycaret\n",
    "from pycaret.utils import version\n",
    "import pycaret.classification as pyc\n",
    "\n",
    "version()"
   ]
  },
  {
   "cell_type": "code",
   "execution_count": 7,
   "metadata": {
    "ExecuteTime": {
     "end_time": "2020-05-31T20:32:59.560101Z",
     "start_time": "2020-05-31T20:32:59.531317Z"
    }
   },
   "outputs": [],
   "source": [
    "from zipfile import ZipFile"
   ]
  },
  {
   "cell_type": "code",
   "execution_count": 8,
   "metadata": {
    "ExecuteTime": {
     "end_time": "2020-05-31T20:32:59.601955Z",
     "start_time": "2020-05-31T20:32:59.568321Z"
    }
   },
   "outputs": [],
   "source": [
    "import sys\n",
    "ENV_COLAB = 'google.colab' in sys.modules\n",
    "\n",
    "if ENV_COLAB:\n",
    "    #!pip install hpsklearn\n",
    "    !pip install shap eli5\n",
    "    !pip install catboost\n",
    "    !pip install ipywidgets\n",
    "    !jupyter nbextension enable --py widgetsnbextension\n",
    "\n",
    "    # set OMP_NUM_THREADS=1 for hpsklearn package\n",
    "    #!export OMP_NUM_THREADS=1\n",
    "    print('Environment: Google Colab')"
   ]
  },
  {
   "cell_type": "markdown",
   "metadata": {
    "ExecuteTime": {
     "end_time": "2020-05-31T14:52:17.673112Z",
     "start_time": "2020-05-31T14:52:17.652044Z"
    }
   },
   "source": [
    "# Useful Functions"
   ]
  },
  {
   "cell_type": "code",
   "execution_count": 9,
   "metadata": {
    "ExecuteTime": {
     "end_time": "2020-05-31T20:32:59.635246Z",
     "start_time": "2020-05-31T20:32:59.604429Z"
    }
   },
   "outputs": [],
   "source": [
    "def compare_new_models(name,desc,mean_row,df_eval=None,sort='Accuracy',show=True):\n",
    "    \"\"\"Create dataframe from output of pycaret new model.\n",
    "    Parameters\n",
    "    -----------\n",
    "    name: str\n",
    "        Name of the model. eg. xgboost\n",
    "    desc: str\n",
    "        Description of the model. e.g tuned,calibrated\n",
    "    mean_row: str\n",
    "        The line copied from jupyter notebook output from\n",
    "        pycaret new model. Note that fields are separated\n",
    "        with tabs.\n",
    "        e.g.\n",
    "        Mean\t0.9992\t0.9663\t0.7214\t0.8299\t0.7679\t0.7675\n",
    "    df_eval: Pandas Dataframe\n",
    "        Template pandas dataframe\n",
    "    sort: str\n",
    "       One of following string: Accuracy, AUC, Recall, Precision\n",
    "                                F1, Kappa\n",
    "    \n",
    "    \n",
    "    Returns:\n",
    "       Pandas Dataframe.\n",
    "    \n",
    "    \n",
    "    \"\"\"\n",
    "    mean_row_lst = mean_row.split('\\t')\n",
    "    assert len(mean_row_lst) == 7\n",
    "    \n",
    "    if not isinstance(df_eval, pd.DataFrame):\n",
    "        df_eval = pd.DataFrame({'Model': [],\n",
    "                                'Description':[],\n",
    "                                'Accuracy':[],\n",
    "                                'AUC':[],\n",
    "                                'Recall':[],\n",
    "                                'Precision':[],\n",
    "                                'F1':[],\n",
    "                                'Kappa':[]\n",
    "                               })\n",
    "\n",
    "    acc,auc,rec,pre,f1,kap = mean_row.split('\\t')[1:]\n",
    "    row = [name,desc,acc,auc,rec,pre,f1,kap]\n",
    "    \n",
    "    df_eval.loc[len(df_eval)] = row\n",
    "    df_eval = df_eval.drop_duplicates()\\\n",
    "                     .sort_values(sort,ascending=False)\n",
    "    df_eval.index = range(len(df_eval))\n",
    "    \n",
    "    df_style = (df_eval.style.apply(lambda ser:\n",
    "                ['background: lightblue'\n",
    "                 if ser.name == sort else ''\n",
    "                 for _ in ser]))\n",
    "    \n",
    "    if show:\n",
    "        display(df_style)\n",
    "    \n",
    "    return df_eval"
   ]
  },
  {
   "cell_type": "markdown",
   "metadata": {},
   "source": [
    "# Load the data"
   ]
  },
  {
   "cell_type": "code",
   "execution_count": 10,
   "metadata": {
    "ExecuteTime": {
     "end_time": "2020-05-31T20:32:59.684457Z",
     "start_time": "2020-05-31T20:32:59.637594Z"
    }
   },
   "outputs": [],
   "source": [
    "# ifile = 'https://github.com/bhishanpdl/Datasets/blob/master/fraud_detection/creditcard.csv.zip?raw=true'\n",
    "# df = pd.read_csv(ifile,compression='zip')\n",
    "# print(df.shape)\n",
    "# df.head()"
   ]
  },
  {
   "cell_type": "code",
   "execution_count": 11,
   "metadata": {
    "ExecuteTime": {
     "end_time": "2020-05-31T20:33:02.265826Z",
     "start_time": "2020-05-31T20:32:59.690351Z"
    }
   },
   "outputs": [
    {
     "name": "stdout",
     "output_type": "stream",
     "text": [
      "(284807, 31)\n"
     ]
    },
    {
     "data": {
      "text/html": [
       "<div>\n",
       "<style scoped>\n",
       "    .dataframe tbody tr th:only-of-type {\n",
       "        vertical-align: middle;\n",
       "    }\n",
       "\n",
       "    .dataframe tbody tr th {\n",
       "        vertical-align: top;\n",
       "    }\n",
       "\n",
       "    .dataframe thead th {\n",
       "        text-align: right;\n",
       "    }\n",
       "</style>\n",
       "<table border=\"1\" class=\"dataframe\">\n",
       "  <thead>\n",
       "    <tr style=\"text-align: right;\">\n",
       "      <th></th>\n",
       "      <th>Time</th>\n",
       "      <th>V1</th>\n",
       "      <th>V2</th>\n",
       "      <th>V3</th>\n",
       "      <th>V4</th>\n",
       "      <th>V5</th>\n",
       "      <th>V6</th>\n",
       "      <th>V7</th>\n",
       "      <th>V8</th>\n",
       "      <th>V9</th>\n",
       "      <th>...</th>\n",
       "      <th>V21</th>\n",
       "      <th>V22</th>\n",
       "      <th>V23</th>\n",
       "      <th>V24</th>\n",
       "      <th>V25</th>\n",
       "      <th>V26</th>\n",
       "      <th>V27</th>\n",
       "      <th>V28</th>\n",
       "      <th>Amount</th>\n",
       "      <th>Class</th>\n",
       "    </tr>\n",
       "  </thead>\n",
       "  <tbody>\n",
       "    <tr>\n",
       "      <th>0</th>\n",
       "      <td>0.0</td>\n",
       "      <td>-1.359807</td>\n",
       "      <td>-0.072781</td>\n",
       "      <td>2.536347</td>\n",
       "      <td>1.378155</td>\n",
       "      <td>-0.338321</td>\n",
       "      <td>0.462388</td>\n",
       "      <td>0.239599</td>\n",
       "      <td>0.098698</td>\n",
       "      <td>0.363787</td>\n",
       "      <td>...</td>\n",
       "      <td>-0.018307</td>\n",
       "      <td>0.277838</td>\n",
       "      <td>-0.110474</td>\n",
       "      <td>0.066928</td>\n",
       "      <td>0.128539</td>\n",
       "      <td>-0.189115</td>\n",
       "      <td>0.133558</td>\n",
       "      <td>-0.021053</td>\n",
       "      <td>149.62</td>\n",
       "      <td>0</td>\n",
       "    </tr>\n",
       "    <tr>\n",
       "      <th>1</th>\n",
       "      <td>0.0</td>\n",
       "      <td>1.191857</td>\n",
       "      <td>0.266151</td>\n",
       "      <td>0.166480</td>\n",
       "      <td>0.448154</td>\n",
       "      <td>0.060018</td>\n",
       "      <td>-0.082361</td>\n",
       "      <td>-0.078803</td>\n",
       "      <td>0.085102</td>\n",
       "      <td>-0.255425</td>\n",
       "      <td>...</td>\n",
       "      <td>-0.225775</td>\n",
       "      <td>-0.638672</td>\n",
       "      <td>0.101288</td>\n",
       "      <td>-0.339846</td>\n",
       "      <td>0.167170</td>\n",
       "      <td>0.125895</td>\n",
       "      <td>-0.008983</td>\n",
       "      <td>0.014724</td>\n",
       "      <td>2.69</td>\n",
       "      <td>0</td>\n",
       "    </tr>\n",
       "    <tr>\n",
       "      <th>2</th>\n",
       "      <td>1.0</td>\n",
       "      <td>-1.358354</td>\n",
       "      <td>-1.340163</td>\n",
       "      <td>1.773209</td>\n",
       "      <td>0.379780</td>\n",
       "      <td>-0.503198</td>\n",
       "      <td>1.800499</td>\n",
       "      <td>0.791461</td>\n",
       "      <td>0.247676</td>\n",
       "      <td>-1.514654</td>\n",
       "      <td>...</td>\n",
       "      <td>0.247998</td>\n",
       "      <td>0.771679</td>\n",
       "      <td>0.909412</td>\n",
       "      <td>-0.689281</td>\n",
       "      <td>-0.327642</td>\n",
       "      <td>-0.139097</td>\n",
       "      <td>-0.055353</td>\n",
       "      <td>-0.059752</td>\n",
       "      <td>378.66</td>\n",
       "      <td>0</td>\n",
       "    </tr>\n",
       "    <tr>\n",
       "      <th>3</th>\n",
       "      <td>1.0</td>\n",
       "      <td>-0.966272</td>\n",
       "      <td>-0.185226</td>\n",
       "      <td>1.792993</td>\n",
       "      <td>-0.863291</td>\n",
       "      <td>-0.010309</td>\n",
       "      <td>1.247203</td>\n",
       "      <td>0.237609</td>\n",
       "      <td>0.377436</td>\n",
       "      <td>-1.387024</td>\n",
       "      <td>...</td>\n",
       "      <td>-0.108300</td>\n",
       "      <td>0.005274</td>\n",
       "      <td>-0.190321</td>\n",
       "      <td>-1.175575</td>\n",
       "      <td>0.647376</td>\n",
       "      <td>-0.221929</td>\n",
       "      <td>0.062723</td>\n",
       "      <td>0.061458</td>\n",
       "      <td>123.50</td>\n",
       "      <td>0</td>\n",
       "    </tr>\n",
       "    <tr>\n",
       "      <th>4</th>\n",
       "      <td>2.0</td>\n",
       "      <td>-1.158233</td>\n",
       "      <td>0.877737</td>\n",
       "      <td>1.548718</td>\n",
       "      <td>0.403034</td>\n",
       "      <td>-0.407193</td>\n",
       "      <td>0.095921</td>\n",
       "      <td>0.592941</td>\n",
       "      <td>-0.270533</td>\n",
       "      <td>0.817739</td>\n",
       "      <td>...</td>\n",
       "      <td>-0.009431</td>\n",
       "      <td>0.798278</td>\n",
       "      <td>-0.137458</td>\n",
       "      <td>0.141267</td>\n",
       "      <td>-0.206010</td>\n",
       "      <td>0.502292</td>\n",
       "      <td>0.219422</td>\n",
       "      <td>0.215153</td>\n",
       "      <td>69.99</td>\n",
       "      <td>0</td>\n",
       "    </tr>\n",
       "  </tbody>\n",
       "</table>\n",
       "<p>5 rows × 31 columns</p>\n",
       "</div>"
      ],
      "text/plain": [
       "   Time        V1        V2        V3        V4        V5        V6        V7  \\\n",
       "0   0.0 -1.359807 -0.072781  2.536347  1.378155 -0.338321  0.462388  0.239599   \n",
       "1   0.0  1.191857  0.266151  0.166480  0.448154  0.060018 -0.082361 -0.078803   \n",
       "2   1.0 -1.358354 -1.340163  1.773209  0.379780 -0.503198  1.800499  0.791461   \n",
       "3   1.0 -0.966272 -0.185226  1.792993 -0.863291 -0.010309  1.247203  0.237609   \n",
       "4   2.0 -1.158233  0.877737  1.548718  0.403034 -0.407193  0.095921  0.592941   \n",
       "\n",
       "         V8        V9  ...       V21       V22       V23       V24       V25  \\\n",
       "0  0.098698  0.363787  ... -0.018307  0.277838 -0.110474  0.066928  0.128539   \n",
       "1  0.085102 -0.255425  ... -0.225775 -0.638672  0.101288 -0.339846  0.167170   \n",
       "2  0.247676 -1.514654  ...  0.247998  0.771679  0.909412 -0.689281 -0.327642   \n",
       "3  0.377436 -1.387024  ... -0.108300  0.005274 -0.190321 -1.175575  0.647376   \n",
       "4 -0.270533  0.817739  ... -0.009431  0.798278 -0.137458  0.141267 -0.206010   \n",
       "\n",
       "        V26       V27       V28  Amount  Class  \n",
       "0 -0.189115  0.133558 -0.021053  149.62      0  \n",
       "1  0.125895 -0.008983  0.014724    2.69      0  \n",
       "2 -0.139097 -0.055353 -0.059752  378.66      0  \n",
       "3 -0.221929  0.062723  0.061458  123.50      0  \n",
       "4  0.502292  0.219422  0.215153   69.99      0  \n",
       "\n",
       "[5 rows x 31 columns]"
      ]
     },
     "execution_count": 11,
     "metadata": {},
     "output_type": "execute_result"
    }
   ],
   "source": [
    "ifile = Path.home() / 'Datasets/kaggle/creditcard/creditcard.csv.zip'\n",
    "zip_file = ZipFile(ifile)\n",
    "df = pd.read_csv(zip_file.open('creditcard.csv'))\n",
    "print(df.shape)\n",
    "df.head()"
   ]
  },
  {
   "cell_type": "code",
   "execution_count": 12,
   "metadata": {
    "ExecuteTime": {
     "end_time": "2020-05-31T20:33:02.317204Z",
     "start_time": "2020-05-31T20:33:02.267871Z"
    }
   },
   "outputs": [
    {
     "data": {
      "text/plain": [
       "0    99.827251\n",
       "1     0.172749\n",
       "Name: Class, dtype: float64"
      ]
     },
     "execution_count": 12,
     "metadata": {},
     "output_type": "execute_result"
    }
   ],
   "source": [
    "target = 'Class'\n",
    "features = df.columns.drop(target)\n",
    "df[target].value_counts(normalize=True)*100"
   ]
  },
  {
   "cell_type": "code",
   "execution_count": 13,
   "metadata": {
    "ExecuteTime": {
     "end_time": "2020-05-31T20:33:02.567051Z",
     "start_time": "2020-05-31T20:33:02.319218Z"
    }
   },
   "outputs": [
    {
     "data": {
      "text/plain": [
       "<matplotlib.axes._subplots.AxesSubplot at 0x7fb5a3012050>"
      ]
     },
     "execution_count": 13,
     "metadata": {},
     "output_type": "execute_result"
    },
    {
     "data": {
      "image/png": "[encoded data removed]",
      "text/plain": [
       "<Figure size 432x288 with 1 Axes>"
      ]
     },
     "metadata": {
      "image/png": {
       "height": 264,
       "width": 410
      }
     },
     "output_type": "display_data"
    }
   ],
   "source": [
    "sns.countplot(df[target])"
   ]
  },
  {
   "cell_type": "markdown",
   "metadata": {},
   "source": [
    "# Train test split with stratify"
   ]
  },
  {
   "cell_type": "code",
   "execution_count": 14,
   "metadata": {
    "ExecuteTime": {
     "end_time": "2020-05-31T20:33:02.818031Z",
     "start_time": "2020-05-31T20:33:02.570006Z"
    }
   },
   "outputs": [
    {
     "name": "stdout",
     "output_type": "stream",
     "text": [
      "(227845, 31)\n"
     ]
    },
    {
     "data": {
      "text/html": [
       "<div>\n",
       "<style scoped>\n",
       "    .dataframe tbody tr th:only-of-type {\n",
       "        vertical-align: middle;\n",
       "    }\n",
       "\n",
       "    .dataframe tbody tr th {\n",
       "        vertical-align: top;\n",
       "    }\n",
       "\n",
       "    .dataframe thead th {\n",
       "        text-align: right;\n",
       "    }\n",
       "</style>\n",
       "<table border=\"1\" class=\"dataframe\">\n",
       "  <thead>\n",
       "    <tr style=\"text-align: right;\">\n",
       "      <th></th>\n",
       "      <th>Time</th>\n",
       "      <th>V1</th>\n",
       "      <th>V2</th>\n",
       "      <th>V3</th>\n",
       "      <th>V4</th>\n",
       "      <th>V5</th>\n",
       "      <th>V6</th>\n",
       "      <th>V7</th>\n",
       "      <th>V8</th>\n",
       "      <th>V9</th>\n",
       "      <th>...</th>\n",
       "      <th>V21</th>\n",
       "      <th>V22</th>\n",
       "      <th>V23</th>\n",
       "      <th>V24</th>\n",
       "      <th>V25</th>\n",
       "      <th>V26</th>\n",
       "      <th>V27</th>\n",
       "      <th>V28</th>\n",
       "      <th>Amount</th>\n",
       "      <th>Class</th>\n",
       "    </tr>\n",
       "  </thead>\n",
       "  <tbody>\n",
       "    <tr>\n",
       "      <th>211885</th>\n",
       "      <td>138616.0</td>\n",
       "      <td>-1.137612</td>\n",
       "      <td>2.345154</td>\n",
       "      <td>-1.767247</td>\n",
       "      <td>0.833982</td>\n",
       "      <td>0.973168</td>\n",
       "      <td>-0.073571</td>\n",
       "      <td>0.802433</td>\n",
       "      <td>0.733137</td>\n",
       "      <td>-1.154087</td>\n",
       "      <td>...</td>\n",
       "      <td>0.114953</td>\n",
       "      <td>0.430613</td>\n",
       "      <td>-0.240819</td>\n",
       "      <td>0.124011</td>\n",
       "      <td>0.187187</td>\n",
       "      <td>-0.402251</td>\n",
       "      <td>0.196277</td>\n",
       "      <td>0.190732</td>\n",
       "      <td>39.46</td>\n",
       "      <td>0</td>\n",
       "    </tr>\n",
       "    <tr>\n",
       "      <th>12542</th>\n",
       "      <td>21953.0</td>\n",
       "      <td>-1.028649</td>\n",
       "      <td>1.141569</td>\n",
       "      <td>2.492561</td>\n",
       "      <td>-0.242233</td>\n",
       "      <td>0.452842</td>\n",
       "      <td>-0.384273</td>\n",
       "      <td>1.256026</td>\n",
       "      <td>-0.816401</td>\n",
       "      <td>1.964560</td>\n",
       "      <td>...</td>\n",
       "      <td>-0.380356</td>\n",
       "      <td>-0.037432</td>\n",
       "      <td>-0.503934</td>\n",
       "      <td>0.407129</td>\n",
       "      <td>0.604252</td>\n",
       "      <td>0.233015</td>\n",
       "      <td>-0.433132</td>\n",
       "      <td>-0.491892</td>\n",
       "      <td>7.19</td>\n",
       "      <td>0</td>\n",
       "    </tr>\n",
       "    <tr>\n",
       "      <th>270932</th>\n",
       "      <td>164333.0</td>\n",
       "      <td>-1.121864</td>\n",
       "      <td>-0.195099</td>\n",
       "      <td>1.282634</td>\n",
       "      <td>-3.172847</td>\n",
       "      <td>-0.761969</td>\n",
       "      <td>-0.287013</td>\n",
       "      <td>-0.586367</td>\n",
       "      <td>0.496182</td>\n",
       "      <td>-2.352349</td>\n",
       "      <td>...</td>\n",
       "      <td>-0.328953</td>\n",
       "      <td>-0.856937</td>\n",
       "      <td>-0.056198</td>\n",
       "      <td>0.401905</td>\n",
       "      <td>0.406813</td>\n",
       "      <td>-0.440140</td>\n",
       "      <td>0.152356</td>\n",
       "      <td>0.030128</td>\n",
       "      <td>40.00</td>\n",
       "      <td>0</td>\n",
       "    </tr>\n",
       "    <tr>\n",
       "      <th>30330</th>\n",
       "      <td>35874.0</td>\n",
       "      <td>1.094238</td>\n",
       "      <td>-0.760568</td>\n",
       "      <td>-0.392822</td>\n",
       "      <td>-0.611720</td>\n",
       "      <td>-0.722850</td>\n",
       "      <td>-0.851978</td>\n",
       "      <td>-0.185505</td>\n",
       "      <td>-0.095131</td>\n",
       "      <td>-1.122304</td>\n",
       "      <td>...</td>\n",
       "      <td>-0.227392</td>\n",
       "      <td>-1.254285</td>\n",
       "      <td>0.022116</td>\n",
       "      <td>-0.141531</td>\n",
       "      <td>0.114515</td>\n",
       "      <td>-0.652427</td>\n",
       "      <td>-0.037897</td>\n",
       "      <td>0.051254</td>\n",
       "      <td>165.85</td>\n",
       "      <td>0</td>\n",
       "    </tr>\n",
       "    <tr>\n",
       "      <th>272477</th>\n",
       "      <td>165107.0</td>\n",
       "      <td>2.278095</td>\n",
       "      <td>-1.298924</td>\n",
       "      <td>-1.884035</td>\n",
       "      <td>-1.530435</td>\n",
       "      <td>-0.649500</td>\n",
       "      <td>-0.996024</td>\n",
       "      <td>-0.466776</td>\n",
       "      <td>-0.438025</td>\n",
       "      <td>-1.612665</td>\n",
       "      <td>...</td>\n",
       "      <td>0.123892</td>\n",
       "      <td>0.815909</td>\n",
       "      <td>-0.072537</td>\n",
       "      <td>0.784217</td>\n",
       "      <td>0.403428</td>\n",
       "      <td>0.193747</td>\n",
       "      <td>-0.043185</td>\n",
       "      <td>-0.058719</td>\n",
       "      <td>60.00</td>\n",
       "      <td>0</td>\n",
       "    </tr>\n",
       "  </tbody>\n",
       "</table>\n",
       "<p>5 rows × 31 columns</p>\n",
       "</div>"
      ],
      "text/plain": [
       "            Time        V1        V2        V3        V4        V5        V6  \\\n",
       "211885  138616.0 -1.137612  2.345154 -1.767247  0.833982  0.973168 -0.073571   \n",
       "12542    21953.0 -1.028649  1.141569  2.492561 -0.242233  0.452842 -0.384273   \n",
       "270932  164333.0 -1.121864 -0.195099  1.282634 -3.172847 -0.761969 -0.287013   \n",
       "30330    35874.0  1.094238 -0.760568 -0.392822 -0.611720 -0.722850 -0.851978   \n",
       "272477  165107.0  2.278095 -1.298924 -1.884035 -1.530435 -0.649500 -0.996024   \n",
       "\n",
       "              V7        V8        V9  ...       V21       V22       V23  \\\n",
       "211885  0.802433  0.733137 -1.154087  ...  0.114953  0.430613 -0.240819   \n",
       "12542   1.256026 -0.816401  1.964560  ... -0.380356 -0.037432 -0.503934   \n",
       "270932 -0.586367  0.496182 -2.352349  ... -0.328953 -0.856937 -0.056198   \n",
       "30330  -0.185505 -0.095131 -1.122304  ... -0.227392 -1.254285  0.022116   \n",
       "272477 -0.466776 -0.438025 -1.612665  ...  0.123892  0.815909 -0.072537   \n",
       "\n",
       "             V24       V25       V26       V27       V28  Amount  Class  \n",
       "211885  0.124011  0.187187 -0.402251  0.196277  0.190732   39.46      0  \n",
       "12542   0.407129  0.604252  0.233015 -0.433132 -0.491892    7.19      0  \n",
       "270932  0.401905  0.406813 -0.440140  0.152356  0.030128   40.00      0  \n",
       "30330  -0.141531  0.114515 -0.652427 -0.037897  0.051254  165.85      0  \n",
       "272477  0.784217  0.403428  0.193747 -0.043185 -0.058719   60.00      0  \n",
       "\n",
       "[5 rows x 31 columns]"
      ]
     },
     "execution_count": 14,
     "metadata": {},
     "output_type": "execute_result"
    }
   ],
   "source": [
    "from sklearn.model_selection import train_test_split\n",
    "\n",
    "df_train, df_test = train_test_split(\n",
    "    df,test_size=0.2, random_state=SEED, \n",
    "    stratify=df[target])\n",
    "\n",
    "print(df_train.shape)\n",
    "df_train.head()"
   ]
  },
  {
   "cell_type": "markdown",
   "metadata": {},
   "source": [
    "# Pycaret Setup\n",
    "- `setup` function will automatically infer datatypes, but if we \n",
    "  see wrong data inference, we can use parameters `numeric_features`   and `categorical_features`.\n"
   ]
  },
  {
   "cell_type": "code",
   "execution_count": 15,
   "metadata": {
    "ExecuteTime": {
     "end_time": "2020-05-31T20:33:03.816572Z",
     "start_time": "2020-05-31T20:33:02.820428Z"
    }
   },
   "outputs": [
    {
     "data": {
      "text/html": [
       "<div>\n",
       "<style scoped>\n",
       "    .dataframe tbody tr th:only-of-type {\n",
       "        vertical-align: middle;\n",
       "    }\n",
       "\n",
       "    .dataframe tbody tr th {\n",
       "        vertical-align: top;\n",
       "    }\n",
       "\n",
       "    .dataframe thead th {\n",
       "        text-align: right;\n",
       "    }\n",
       "</style>\n",
       "<table border=\"1\" class=\"dataframe\">\n",
       "  <thead>\n",
       "    <tr style=\"text-align: right;\">\n",
       "      <th></th>\n",
       "      <th>0</th>\n",
       "      <th>1</th>\n",
       "      <th>2</th>\n",
       "      <th>3</th>\n",
       "    </tr>\n",
       "  </thead>\n",
       "  <tbody>\n",
       "    <tr>\n",
       "      <th>0</th>\n",
       "      <td>blend_models</td>\n",
       "      <td>deploy_model</td>\n",
       "      <td>load_experiment</td>\n",
       "      <td>save_experiment</td>\n",
       "    </tr>\n",
       "    <tr>\n",
       "      <th>1</th>\n",
       "      <td>calibrate_model</td>\n",
       "      <td>ensemble_model</td>\n",
       "      <td>load_model</td>\n",
       "      <td>save_model</td>\n",
       "    </tr>\n",
       "    <tr>\n",
       "      <th>2</th>\n",
       "      <td>compare_models</td>\n",
       "      <td>evaluate_model</td>\n",
       "      <td>optimize_threshold</td>\n",
       "      <td>setup</td>\n",
       "    </tr>\n",
       "    <tr>\n",
       "      <th>3</th>\n",
       "      <td>create_model</td>\n",
       "      <td>finalize_model</td>\n",
       "      <td>plot_model</td>\n",
       "      <td>stack_models</td>\n",
       "    </tr>\n",
       "    <tr>\n",
       "      <th>4</th>\n",
       "      <td>create_stacknet</td>\n",
       "      <td>interpret_model</td>\n",
       "      <td>predict_model</td>\n",
       "      <td>tune_model</td>\n",
       "    </tr>\n",
       "  </tbody>\n",
       "</table>\n",
       "</div>"
      ],
      "text/plain": [
       "                 0                1                   2                3\n",
       "0     blend_models     deploy_model     load_experiment  save_experiment\n",
       "1  calibrate_model   ensemble_model          load_model       save_model\n",
       "2   compare_models   evaluate_model  optimize_threshold            setup\n",
       "3     create_model   finalize_model          plot_model     stack_models\n",
       "4  create_stacknet  interpret_model       predict_model       tune_model"
      ]
     },
     "execution_count": 15,
     "metadata": {},
     "output_type": "execute_result"
    }
   ],
   "source": [
    "from bhishan import bp\n",
    "bp.show_method_attributes(pyc,4)"
   ]
  },
  {
   "cell_type": "code",
   "execution_count": 16,
   "metadata": {
    "ExecuteTime": {
     "end_time": "2020-05-31T20:33:03.868602Z",
     "start_time": "2020-05-31T20:33:03.819343Z"
    }
   },
   "outputs": [],
   "source": [
    "# pyc.setup?"
   ]
  },
  {
   "cell_type": "markdown",
   "metadata": {
    "ExecuteTime": {
     "end_time": "2020-05-31T15:13:24.064188Z",
     "start_time": "2020-05-31T15:13:23.991296Z"
    }
   },
   "source": [
    "```python\n",
    "setup(data, target, train_size=0.7, sampling=True, sample_estimator=None, categorical_features=None, categorical_imputation='constant', ordinal_features=None, high_cardinality_features=None, high_cardinality_method='frequency', numeric_features=None, numeric_imputation='mean', date_features=None, ignore_features=None, normalize=False, normalize_method='zscore', transformation=False, transformation_method='yeo-johnson', handle_unknown_categorical=True, unknown_categorical_method='least_frequent', pca=False, pca_method='linear', pca_components=None, ignore_low_variance=False, combine_rare_levels=False, rare_level_threshold=0.1, bin_numeric_features=None, remove_outliers=False, outliers_threshold=0.05, remove_multicollinearity=False, multicollinearity_threshold=0.9, create_clusters=False, cluster_iter=20, polynomial_features=False, polynomial_degree=2, trigonometry_features=False, polynomial_threshold=0.1, group_features=None, group_names=None, feature_selection=False, feature_selection_threshold=0.8, feature_interaction=False, feature_ratio=False, interaction_threshold=0.01, session_id=None, silent=False, profile=False)\n",
    "\n",
    "sampling: bool, default = True\n",
    "When the sample size exceeds 25,000 samples, pycaret will build a base estimator at various sample sizes from the original dataset. This will return a performance  plot of AUC, Accuracy, Recall, Precision, Kappa and F1 values at various sample  levels, that will assist in deciding the preferred sample size for modeling. \n",
    "The desired sample size must then be entered for training and validation in the  pycaret environment. When sample_size entered is less than 1, the remaining dataset  (1 - sample) is used for fitting the model only when finalize_model() is called.\n",
    "```"
   ]
  },
  {
   "cell_type": "code",
   "execution_count": 17,
   "metadata": {
    "ExecuteTime": {
     "end_time": "2020-05-31T21:38:24.705782Z",
     "start_time": "2020-05-31T20:33:03.875578Z"
    }
   },
   "outputs": [
    {
     "name": "stdout",
     "output_type": "stream",
     "text": [
      " \n",
      "Setup Succesfully Completed! Loading Profile Now... Please Wait!\n"
     ]
    },
    {
     "data": {
      "text/html": [
       "<style  type=\"text/css\" >\n",
       "    #T_faaafe8a_a37d_11ea_a7a1_acde48001122row0_col1 {\n",
       "            background-color:  lightgreen;\n",
       "        }</style><table id=\"T_faaafe8a_a37d_11ea_a7a1_acde48001122\" ><thead>    <tr>        <th class=\"blank level0\" ></th>        <th class=\"col_heading level0 col0\" >Description</th>        <th class=\"col_heading level0 col1\" >Value</th>    </tr></thead><tbody>\n",
       "                <tr>\n",
       "                        <th id=\"T_faaafe8a_a37d_11ea_a7a1_acde48001122level0_row0\" class=\"row_heading level0 row0\" >0</th>\n",
       "                        <td id=\"T_faaafe8a_a37d_11ea_a7a1_acde48001122row0_col0\" class=\"data row0 col0\" >session_id</td>\n",
       "                        <td id=\"T_faaafe8a_a37d_11ea_a7a1_acde48001122row0_col1\" class=\"data row0 col1\" >1</td>\n",
       "            </tr>\n",
       "            <tr>\n",
       "                        <th id=\"T_faaafe8a_a37d_11ea_a7a1_acde48001122level0_row1\" class=\"row_heading level0 row1\" >1</th>\n",
       "                        <td id=\"T_faaafe8a_a37d_11ea_a7a1_acde48001122row1_col0\" class=\"data row1 col0\" >Target Type</td>\n",
       "                        <td id=\"T_faaafe8a_a37d_11ea_a7a1_acde48001122row1_col1\" class=\"data row1 col1\" >Binary</td>\n",
       "            </tr>\n",
       "            <tr>\n",
       "                        <th id=\"T_faaafe8a_a37d_11ea_a7a1_acde48001122level0_row2\" class=\"row_heading level0 row2\" >2</th>\n",
       "                        <td id=\"T_faaafe8a_a37d_11ea_a7a1_acde48001122row2_col0\" class=\"data row2 col0\" >Label Encoded</td>\n",
       "                        <td id=\"T_faaafe8a_a37d_11ea_a7a1_acde48001122row2_col1\" class=\"data row2 col1\" >None</td>\n",
       "            </tr>\n",
       "            <tr>\n",
       "                        <th id=\"T_faaafe8a_a37d_11ea_a7a1_acde48001122level0_row3\" class=\"row_heading level0 row3\" >3</th>\n",
       "                        <td id=\"T_faaafe8a_a37d_11ea_a7a1_acde48001122row3_col0\" class=\"data row3 col0\" >Original Data</td>\n",
       "                        <td id=\"T_faaafe8a_a37d_11ea_a7a1_acde48001122row3_col1\" class=\"data row3 col1\" >(227845, 31)</td>\n",
       "            </tr>\n",
       "            <tr>\n",
       "                        <th id=\"T_faaafe8a_a37d_11ea_a7a1_acde48001122level0_row4\" class=\"row_heading level0 row4\" >4</th>\n",
       "                        <td id=\"T_faaafe8a_a37d_11ea_a7a1_acde48001122row4_col0\" class=\"data row4 col0\" >Missing Values </td>\n",
       "                        <td id=\"T_faaafe8a_a37d_11ea_a7a1_acde48001122row4_col1\" class=\"data row4 col1\" >False</td>\n",
       "            </tr>\n",
       "            <tr>\n",
       "                        <th id=\"T_faaafe8a_a37d_11ea_a7a1_acde48001122level0_row5\" class=\"row_heading level0 row5\" >5</th>\n",
       "                        <td id=\"T_faaafe8a_a37d_11ea_a7a1_acde48001122row5_col0\" class=\"data row5 col0\" >Numeric Features </td>\n",
       "                        <td id=\"T_faaafe8a_a37d_11ea_a7a1_acde48001122row5_col1\" class=\"data row5 col1\" >30</td>\n",
       "            </tr>\n",
       "            <tr>\n",
       "                        <th id=\"T_faaafe8a_a37d_11ea_a7a1_acde48001122level0_row6\" class=\"row_heading level0 row6\" >6</th>\n",
       "                        <td id=\"T_faaafe8a_a37d_11ea_a7a1_acde48001122row6_col0\" class=\"data row6 col0\" >Categorical Features </td>\n",
       "                        <td id=\"T_faaafe8a_a37d_11ea_a7a1_acde48001122row6_col1\" class=\"data row6 col1\" >0</td>\n",
       "            </tr>\n",
       "            <tr>\n",
       "                        <th id=\"T_faaafe8a_a37d_11ea_a7a1_acde48001122level0_row7\" class=\"row_heading level0 row7\" >7</th>\n",
       "                        <td id=\"T_faaafe8a_a37d_11ea_a7a1_acde48001122row7_col0\" class=\"data row7 col0\" >Ordinal Features </td>\n",
       "                        <td id=\"T_faaafe8a_a37d_11ea_a7a1_acde48001122row7_col1\" class=\"data row7 col1\" >False</td>\n",
       "            </tr>\n",
       "            <tr>\n",
       "                        <th id=\"T_faaafe8a_a37d_11ea_a7a1_acde48001122level0_row8\" class=\"row_heading level0 row8\" >8</th>\n",
       "                        <td id=\"T_faaafe8a_a37d_11ea_a7a1_acde48001122row8_col0\" class=\"data row8 col0\" >High Cardinality Features </td>\n",
       "                        <td id=\"T_faaafe8a_a37d_11ea_a7a1_acde48001122row8_col1\" class=\"data row8 col1\" >False</td>\n",
       "            </tr>\n",
       "            <tr>\n",
       "                        <th id=\"T_faaafe8a_a37d_11ea_a7a1_acde48001122level0_row9\" class=\"row_heading level0 row9\" >9</th>\n",
       "                        <td id=\"T_faaafe8a_a37d_11ea_a7a1_acde48001122row9_col0\" class=\"data row9 col0\" >High Cardinality Method </td>\n",
       "                        <td id=\"T_faaafe8a_a37d_11ea_a7a1_acde48001122row9_col1\" class=\"data row9 col1\" >None</td>\n",
       "            </tr>\n",
       "            <tr>\n",
       "                        <th id=\"T_faaafe8a_a37d_11ea_a7a1_acde48001122level0_row10\" class=\"row_heading level0 row10\" >10</th>\n",
       "                        <td id=\"T_faaafe8a_a37d_11ea_a7a1_acde48001122row10_col0\" class=\"data row10 col0\" >Sampled Data</td>\n",
       "                        <td id=\"T_faaafe8a_a37d_11ea_a7a1_acde48001122row10_col1\" class=\"data row10 col1\" >(68353, 31)</td>\n",
       "            </tr>\n",
       "            <tr>\n",
       "                        <th id=\"T_faaafe8a_a37d_11ea_a7a1_acde48001122level0_row11\" class=\"row_heading level0 row11\" >11</th>\n",
       "                        <td id=\"T_faaafe8a_a37d_11ea_a7a1_acde48001122row11_col0\" class=\"data row11 col0\" >Transformed Train Set</td>\n",
       "                        <td id=\"T_faaafe8a_a37d_11ea_a7a1_acde48001122row11_col1\" class=\"data row11 col1\" >(54682, 30)</td>\n",
       "            </tr>\n",
       "            <tr>\n",
       "                        <th id=\"T_faaafe8a_a37d_11ea_a7a1_acde48001122level0_row12\" class=\"row_heading level0 row12\" >12</th>\n",
       "                        <td id=\"T_faaafe8a_a37d_11ea_a7a1_acde48001122row12_col0\" class=\"data row12 col0\" >Transformed Test Set</td>\n",
       "                        <td id=\"T_faaafe8a_a37d_11ea_a7a1_acde48001122row12_col1\" class=\"data row12 col1\" >(13671, 30)</td>\n",
       "            </tr>\n",
       "            <tr>\n",
       "                        <th id=\"T_faaafe8a_a37d_11ea_a7a1_acde48001122level0_row13\" class=\"row_heading level0 row13\" >13</th>\n",
       "                        <td id=\"T_faaafe8a_a37d_11ea_a7a1_acde48001122row13_col0\" class=\"data row13 col0\" >Numeric Imputer </td>\n",
       "                        <td id=\"T_faaafe8a_a37d_11ea_a7a1_acde48001122row13_col1\" class=\"data row13 col1\" >mean</td>\n",
       "            </tr>\n",
       "            <tr>\n",
       "                        <th id=\"T_faaafe8a_a37d_11ea_a7a1_acde48001122level0_row14\" class=\"row_heading level0 row14\" >14</th>\n",
       "                        <td id=\"T_faaafe8a_a37d_11ea_a7a1_acde48001122row14_col0\" class=\"data row14 col0\" >Categorical Imputer </td>\n",
       "                        <td id=\"T_faaafe8a_a37d_11ea_a7a1_acde48001122row14_col1\" class=\"data row14 col1\" >constant</td>\n",
       "            </tr>\n",
       "            <tr>\n",
       "                        <th id=\"T_faaafe8a_a37d_11ea_a7a1_acde48001122level0_row15\" class=\"row_heading level0 row15\" >15</th>\n",
       "                        <td id=\"T_faaafe8a_a37d_11ea_a7a1_acde48001122row15_col0\" class=\"data row15 col0\" >Normalize </td>\n",
       "                        <td id=\"T_faaafe8a_a37d_11ea_a7a1_acde48001122row15_col1\" class=\"data row15 col1\" >False</td>\n",
       "            </tr>\n",
       "            <tr>\n",
       "                        <th id=\"T_faaafe8a_a37d_11ea_a7a1_acde48001122level0_row16\" class=\"row_heading level0 row16\" >16</th>\n",
       "                        <td id=\"T_faaafe8a_a37d_11ea_a7a1_acde48001122row16_col0\" class=\"data row16 col0\" >Normalize Method </td>\n",
       "                        <td id=\"T_faaafe8a_a37d_11ea_a7a1_acde48001122row16_col1\" class=\"data row16 col1\" >None</td>\n",
       "            </tr>\n",
       "            <tr>\n",
       "                        <th id=\"T_faaafe8a_a37d_11ea_a7a1_acde48001122level0_row17\" class=\"row_heading level0 row17\" >17</th>\n",
       "                        <td id=\"T_faaafe8a_a37d_11ea_a7a1_acde48001122row17_col0\" class=\"data row17 col0\" >Transformation </td>\n",
       "                        <td id=\"T_faaafe8a_a37d_11ea_a7a1_acde48001122row17_col1\" class=\"data row17 col1\" >False</td>\n",
       "            </tr>\n",
       "            <tr>\n",
       "                        <th id=\"T_faaafe8a_a37d_11ea_a7a1_acde48001122level0_row18\" class=\"row_heading level0 row18\" >18</th>\n",
       "                        <td id=\"T_faaafe8a_a37d_11ea_a7a1_acde48001122row18_col0\" class=\"data row18 col0\" >Transformation Method </td>\n",
       "                        <td id=\"T_faaafe8a_a37d_11ea_a7a1_acde48001122row18_col1\" class=\"data row18 col1\" >None</td>\n",
       "            </tr>\n",
       "            <tr>\n",
       "                        <th id=\"T_faaafe8a_a37d_11ea_a7a1_acde48001122level0_row19\" class=\"row_heading level0 row19\" >19</th>\n",
       "                        <td id=\"T_faaafe8a_a37d_11ea_a7a1_acde48001122row19_col0\" class=\"data row19 col0\" >PCA </td>\n",
       "                        <td id=\"T_faaafe8a_a37d_11ea_a7a1_acde48001122row19_col1\" class=\"data row19 col1\" >False</td>\n",
       "            </tr>\n",
       "            <tr>\n",
       "                        <th id=\"T_faaafe8a_a37d_11ea_a7a1_acde48001122level0_row20\" class=\"row_heading level0 row20\" >20</th>\n",
       "                        <td id=\"T_faaafe8a_a37d_11ea_a7a1_acde48001122row20_col0\" class=\"data row20 col0\" >PCA Method </td>\n",
       "                        <td id=\"T_faaafe8a_a37d_11ea_a7a1_acde48001122row20_col1\" class=\"data row20 col1\" >None</td>\n",
       "            </tr>\n",
       "            <tr>\n",
       "                        <th id=\"T_faaafe8a_a37d_11ea_a7a1_acde48001122level0_row21\" class=\"row_heading level0 row21\" >21</th>\n",
       "                        <td id=\"T_faaafe8a_a37d_11ea_a7a1_acde48001122row21_col0\" class=\"data row21 col0\" >PCA Components </td>\n",
       "                        <td id=\"T_faaafe8a_a37d_11ea_a7a1_acde48001122row21_col1\" class=\"data row21 col1\" >None</td>\n",
       "            </tr>\n",
       "            <tr>\n",
       "                        <th id=\"T_faaafe8a_a37d_11ea_a7a1_acde48001122level0_row22\" class=\"row_heading level0 row22\" >22</th>\n",
       "                        <td id=\"T_faaafe8a_a37d_11ea_a7a1_acde48001122row22_col0\" class=\"data row22 col0\" >Ignore Low Variance </td>\n",
       "                        <td id=\"T_faaafe8a_a37d_11ea_a7a1_acde48001122row22_col1\" class=\"data row22 col1\" >False</td>\n",
       "            </tr>\n",
       "            <tr>\n",
       "                        <th id=\"T_faaafe8a_a37d_11ea_a7a1_acde48001122level0_row23\" class=\"row_heading level0 row23\" >23</th>\n",
       "                        <td id=\"T_faaafe8a_a37d_11ea_a7a1_acde48001122row23_col0\" class=\"data row23 col0\" >Combine Rare Levels </td>\n",
       "                        <td id=\"T_faaafe8a_a37d_11ea_a7a1_acde48001122row23_col1\" class=\"data row23 col1\" >False</td>\n",
       "            </tr>\n",
       "            <tr>\n",
       "                        <th id=\"T_faaafe8a_a37d_11ea_a7a1_acde48001122level0_row24\" class=\"row_heading level0 row24\" >24</th>\n",
       "                        <td id=\"T_faaafe8a_a37d_11ea_a7a1_acde48001122row24_col0\" class=\"data row24 col0\" >Rare Level Threshold </td>\n",
       "                        <td id=\"T_faaafe8a_a37d_11ea_a7a1_acde48001122row24_col1\" class=\"data row24 col1\" >None</td>\n",
       "            </tr>\n",
       "            <tr>\n",
       "                        <th id=\"T_faaafe8a_a37d_11ea_a7a1_acde48001122level0_row25\" class=\"row_heading level0 row25\" >25</th>\n",
       "                        <td id=\"T_faaafe8a_a37d_11ea_a7a1_acde48001122row25_col0\" class=\"data row25 col0\" >Numeric Binning </td>\n",
       "                        <td id=\"T_faaafe8a_a37d_11ea_a7a1_acde48001122row25_col1\" class=\"data row25 col1\" >False</td>\n",
       "            </tr>\n",
       "            <tr>\n",
       "                        <th id=\"T_faaafe8a_a37d_11ea_a7a1_acde48001122level0_row26\" class=\"row_heading level0 row26\" >26</th>\n",
       "                        <td id=\"T_faaafe8a_a37d_11ea_a7a1_acde48001122row26_col0\" class=\"data row26 col0\" >Remove Outliers </td>\n",
       "                        <td id=\"T_faaafe8a_a37d_11ea_a7a1_acde48001122row26_col1\" class=\"data row26 col1\" >False</td>\n",
       "            </tr>\n",
       "            <tr>\n",
       "                        <th id=\"T_faaafe8a_a37d_11ea_a7a1_acde48001122level0_row27\" class=\"row_heading level0 row27\" >27</th>\n",
       "                        <td id=\"T_faaafe8a_a37d_11ea_a7a1_acde48001122row27_col0\" class=\"data row27 col0\" >Outliers Threshold </td>\n",
       "                        <td id=\"T_faaafe8a_a37d_11ea_a7a1_acde48001122row27_col1\" class=\"data row27 col1\" >None</td>\n",
       "            </tr>\n",
       "            <tr>\n",
       "                        <th id=\"T_faaafe8a_a37d_11ea_a7a1_acde48001122level0_row28\" class=\"row_heading level0 row28\" >28</th>\n",
       "                        <td id=\"T_faaafe8a_a37d_11ea_a7a1_acde48001122row28_col0\" class=\"data row28 col0\" >Remove Multicollinearity </td>\n",
       "                        <td id=\"T_faaafe8a_a37d_11ea_a7a1_acde48001122row28_col1\" class=\"data row28 col1\" >False</td>\n",
       "            </tr>\n",
       "            <tr>\n",
       "                        <th id=\"T_faaafe8a_a37d_11ea_a7a1_acde48001122level0_row29\" class=\"row_heading level0 row29\" >29</th>\n",
       "                        <td id=\"T_faaafe8a_a37d_11ea_a7a1_acde48001122row29_col0\" class=\"data row29 col0\" >Multicollinearity Threshold </td>\n",
       "                        <td id=\"T_faaafe8a_a37d_11ea_a7a1_acde48001122row29_col1\" class=\"data row29 col1\" >None</td>\n",
       "            </tr>\n",
       "            <tr>\n",
       "                        <th id=\"T_faaafe8a_a37d_11ea_a7a1_acde48001122level0_row30\" class=\"row_heading level0 row30\" >30</th>\n",
       "                        <td id=\"T_faaafe8a_a37d_11ea_a7a1_acde48001122row30_col0\" class=\"data row30 col0\" >Clustering </td>\n",
       "                        <td id=\"T_faaafe8a_a37d_11ea_a7a1_acde48001122row30_col1\" class=\"data row30 col1\" >False</td>\n",
       "            </tr>\n",
       "            <tr>\n",
       "                        <th id=\"T_faaafe8a_a37d_11ea_a7a1_acde48001122level0_row31\" class=\"row_heading level0 row31\" >31</th>\n",
       "                        <td id=\"T_faaafe8a_a37d_11ea_a7a1_acde48001122row31_col0\" class=\"data row31 col0\" >Clustering Iteration </td>\n",
       "                        <td id=\"T_faaafe8a_a37d_11ea_a7a1_acde48001122row31_col1\" class=\"data row31 col1\" >None</td>\n",
       "            </tr>\n",
       "            <tr>\n",
       "                        <th id=\"T_faaafe8a_a37d_11ea_a7a1_acde48001122level0_row32\" class=\"row_heading level0 row32\" >32</th>\n",
       "                        <td id=\"T_faaafe8a_a37d_11ea_a7a1_acde48001122row32_col0\" class=\"data row32 col0\" >Polynomial Features </td>\n",
       "                        <td id=\"T_faaafe8a_a37d_11ea_a7a1_acde48001122row32_col1\" class=\"data row32 col1\" >False</td>\n",
       "            </tr>\n",
       "            <tr>\n",
       "                        <th id=\"T_faaafe8a_a37d_11ea_a7a1_acde48001122level0_row33\" class=\"row_heading level0 row33\" >33</th>\n",
       "                        <td id=\"T_faaafe8a_a37d_11ea_a7a1_acde48001122row33_col0\" class=\"data row33 col0\" >Polynomial Degree </td>\n",
       "                        <td id=\"T_faaafe8a_a37d_11ea_a7a1_acde48001122row33_col1\" class=\"data row33 col1\" >None</td>\n",
       "            </tr>\n",
       "            <tr>\n",
       "                        <th id=\"T_faaafe8a_a37d_11ea_a7a1_acde48001122level0_row34\" class=\"row_heading level0 row34\" >34</th>\n",
       "                        <td id=\"T_faaafe8a_a37d_11ea_a7a1_acde48001122row34_col0\" class=\"data row34 col0\" >Trignometry Features </td>\n",
       "                        <td id=\"T_faaafe8a_a37d_11ea_a7a1_acde48001122row34_col1\" class=\"data row34 col1\" >False</td>\n",
       "            </tr>\n",
       "            <tr>\n",
       "                        <th id=\"T_faaafe8a_a37d_11ea_a7a1_acde48001122level0_row35\" class=\"row_heading level0 row35\" >35</th>\n",
       "                        <td id=\"T_faaafe8a_a37d_11ea_a7a1_acde48001122row35_col0\" class=\"data row35 col0\" >Polynomial Threshold </td>\n",
       "                        <td id=\"T_faaafe8a_a37d_11ea_a7a1_acde48001122row35_col1\" class=\"data row35 col1\" >None</td>\n",
       "            </tr>\n",
       "            <tr>\n",
       "                        <th id=\"T_faaafe8a_a37d_11ea_a7a1_acde48001122level0_row36\" class=\"row_heading level0 row36\" >36</th>\n",
       "                        <td id=\"T_faaafe8a_a37d_11ea_a7a1_acde48001122row36_col0\" class=\"data row36 col0\" >Group Features </td>\n",
       "                        <td id=\"T_faaafe8a_a37d_11ea_a7a1_acde48001122row36_col1\" class=\"data row36 col1\" >False</td>\n",
       "            </tr>\n",
       "            <tr>\n",
       "                        <th id=\"T_faaafe8a_a37d_11ea_a7a1_acde48001122level0_row37\" class=\"row_heading level0 row37\" >37</th>\n",
       "                        <td id=\"T_faaafe8a_a37d_11ea_a7a1_acde48001122row37_col0\" class=\"data row37 col0\" >Feature Selection </td>\n",
       "                        <td id=\"T_faaafe8a_a37d_11ea_a7a1_acde48001122row37_col1\" class=\"data row37 col1\" >False</td>\n",
       "            </tr>\n",
       "            <tr>\n",
       "                        <th id=\"T_faaafe8a_a37d_11ea_a7a1_acde48001122level0_row38\" class=\"row_heading level0 row38\" >38</th>\n",
       "                        <td id=\"T_faaafe8a_a37d_11ea_a7a1_acde48001122row38_col0\" class=\"data row38 col0\" >Features Selection Threshold </td>\n",
       "                        <td id=\"T_faaafe8a_a37d_11ea_a7a1_acde48001122row38_col1\" class=\"data row38 col1\" >None</td>\n",
       "            </tr>\n",
       "            <tr>\n",
       "                        <th id=\"T_faaafe8a_a37d_11ea_a7a1_acde48001122level0_row39\" class=\"row_heading level0 row39\" >39</th>\n",
       "                        <td id=\"T_faaafe8a_a37d_11ea_a7a1_acde48001122row39_col0\" class=\"data row39 col0\" >Feature Interaction </td>\n",
       "                        <td id=\"T_faaafe8a_a37d_11ea_a7a1_acde48001122row39_col1\" class=\"data row39 col1\" >False</td>\n",
       "            </tr>\n",
       "            <tr>\n",
       "                        <th id=\"T_faaafe8a_a37d_11ea_a7a1_acde48001122level0_row40\" class=\"row_heading level0 row40\" >40</th>\n",
       "                        <td id=\"T_faaafe8a_a37d_11ea_a7a1_acde48001122row40_col0\" class=\"data row40 col0\" >Feature Ratio </td>\n",
       "                        <td id=\"T_faaafe8a_a37d_11ea_a7a1_acde48001122row40_col1\" class=\"data row40 col1\" >False</td>\n",
       "            </tr>\n",
       "            <tr>\n",
       "                        <th id=\"T_faaafe8a_a37d_11ea_a7a1_acde48001122level0_row41\" class=\"row_heading level0 row41\" >41</th>\n",
       "                        <td id=\"T_faaafe8a_a37d_11ea_a7a1_acde48001122row41_col0\" class=\"data row41 col0\" >Interaction Threshold </td>\n",
       "                        <td id=\"T_faaafe8a_a37d_11ea_a7a1_acde48001122row41_col1\" class=\"data row41 col1\" >None</td>\n",
       "            </tr>\n",
       "    </tbody></table>"
      ],
      "text/plain": [
       "<pandas.io.formats.style.Styler at 0x7fb56f7481d0>"
      ]
     },
     "metadata": {},
     "output_type": "display_data"
    },
    {
     "name": "stdout",
     "output_type": "stream",
     "text": [
      "Data Profiler Failed. No output to show, please continue with Modeling.\n"
     ]
    }
   ],
   "source": [
    "experiment_may31_2020 = pyc.setup(df_train,'Class',\n",
    "                                  train_size=0.8,\n",
    "                                  session_id=1,\n",
    "                                  sampling= True, \n",
    "                                  silent=True,\n",
    "                                  profile=True\n",
    "                                 )\n",
    "\n",
    "# use silent = True to check inferred datatypes\n",
    "# then assign numeric and categorical features yourself.\n",
    "#\n",
    "# if sampling = False, 100% of data is used and its too slow\n",
    "# if sampling = True, we need to enter number eg. 0.3 ourself."
   ]
  },
  {
   "cell_type": "markdown",
   "metadata": {},
   "source": [
    "# Comparing All Models\n",
    "\n",
    "- compare using stratified cross validation for metric evaluation.\n",
    "- shows average metrics for score grid for 10 fold cross-validation\n",
    "- default sorting is accuracy\n",
    "\n",
    "```python\n",
    "compare_models(blacklist = None,fold = 10, round = 4, \n",
    "               sort = 'Accuracy',turbo = True)\n",
    "```"
   ]
  },
  {
   "cell_type": "code",
   "execution_count": 19,
   "metadata": {
    "ExecuteTime": {
     "end_time": "2020-05-31T21:38:49.667695Z",
     "start_time": "2020-05-31T21:38:49.583640Z"
    }
   },
   "outputs": [],
   "source": [
    "pyc.compare_models(sort = 'Recall',fold=5)"
   ]
  },
  {
   "cell_type": "markdown",
   "metadata": {},
   "source": [
    "# Create Models\n",
    "\n",
    "\n",
    "- 'lr', 'knn', 'nb', 'dt', 'svm', 'rbfsvm', 'gpc'\n",
    "- 'mlp' (Multi Level Perceptron)\n",
    "- 'ridge', 'rf', 'qda'\n",
    "- 'ada' (AdaBoost)\n",
    "- 'gbc' (Gradient Boosting)\n",
    "- 'lda', 'et'\n",
    "- 'xgboost' (Extreme Gradient Boosting)\n",
    "- 'lightgbm', 'catboost'"
   ]
  },
  {
   "cell_type": "code",
   "execution_count": null,
   "metadata": {
    "ExecuteTime": {
     "end_time": "2020-05-31T21:38:30.077349Z",
     "start_time": "2020-05-31T20:32:58.466Z"
    }
   },
   "outputs": [],
   "source": [
    "# pyc.create_model?"
   ]
  },
  {
   "cell_type": "code",
   "execution_count": null,
   "metadata": {
    "ExecuteTime": {
     "end_time": "2020-05-31T21:38:30.081694Z",
     "start_time": "2020-05-31T20:32:58.469Z"
    }
   },
   "outputs": [],
   "source": [
    "# build the xgboost model\n",
    "clf_xgb = pyc.create_model('xgboost')"
   ]
  },
  {
   "cell_type": "code",
   "execution_count": null,
   "metadata": {
    "ExecuteTime": {
     "end_time": "2020-05-31T21:38:30.087887Z",
     "start_time": "2020-05-31T20:32:58.472Z"
    }
   },
   "outputs": [],
   "source": [
    "mean_row = 'Mean\t0.9994\t0.9585\t0.7345\t0.9102\t0.8047\t0.8044'\n",
    "df_eval = compare_new_models('xgb','default',mean_row)"
   ]
  },
  {
   "cell_type": "code",
   "execution_count": null,
   "metadata": {
    "ExecuteTime": {
     "end_time": "2020-05-31T21:38:30.090982Z",
     "start_time": "2020-05-31T20:32:58.474Z"
    }
   },
   "outputs": [],
   "source": [
    "clf_cb = pyc.create_model('catboost')"
   ]
  },
  {
   "cell_type": "code",
   "execution_count": null,
   "metadata": {
    "ExecuteTime": {
     "end_time": "2020-05-31T21:38:30.094658Z",
     "start_time": "2020-05-31T20:32:58.479Z"
    }
   },
   "outputs": [],
   "source": [
    "mean_row = 'Mean\t0.9995\t0.9554\t0.7345\t0.9548\t0.8215\t0.8212'\n",
    "df_eval = compare_new_models('catboost','default',mean_row,df_eval=df_eval,sort='Recall')"
   ]
  },
  {
   "cell_type": "code",
   "execution_count": null,
   "metadata": {
    "ExecuteTime": {
     "end_time": "2020-05-31T21:38:30.097414Z",
     "start_time": "2020-05-31T20:32:58.484Z"
    }
   },
   "outputs": [],
   "source": [
    "clf_lda = pyc.create_model('lda')"
   ]
  },
  {
   "cell_type": "code",
   "execution_count": null,
   "metadata": {
    "ExecuteTime": {
     "end_time": "2020-05-31T21:38:30.102847Z",
     "start_time": "2020-05-31T20:32:58.486Z"
    }
   },
   "outputs": [],
   "source": [
    "mean_row = 'Mean\t0.9992\t0.9677\t0.7255\t0.8340\t0.7661\t0.7657'\n",
    "df_eval = compare_new_models('lda','default',mean_row,df_eval=df_eval,sort='Recall')"
   ]
  },
  {
   "cell_type": "markdown",
   "metadata": {},
   "source": [
    "# Hyperparameter Tuning\n",
    "\n",
    "```python\n",
    "tune_model(estimator=None, fold=10, round=4, n_iter=10, optimize='Accuracy', ensemble=False, method=None, verbose=True)\n",
    "\n",
    "n_iter: integer, default = 10\n",
    "Number of iterations within the Random Grid Search. For every iteration, \n",
    "the model randomly selects one value from the pre-defined grid of hyperparameters.\n",
    "ensemble: Boolean, default = None\n",
    "True enables ensembling of the model through method defined in 'method' param.\n",
    "\n",
    "method: String, 'Bagging' or 'Boosting', default = None\n",
    "method comes into effect only when ensemble = True. Default is set to None. \n",
    "```"
   ]
  },
  {
   "cell_type": "code",
   "execution_count": null,
   "metadata": {
    "ExecuteTime": {
     "end_time": "2020-05-31T21:38:30.107020Z",
     "start_time": "2020-05-31T20:32:58.489Z"
    }
   },
   "outputs": [],
   "source": [
    "# pyc.tune_model?"
   ]
  },
  {
   "cell_type": "code",
   "execution_count": null,
   "metadata": {
    "ExecuteTime": {
     "end_time": "2020-05-31T21:38:30.119432Z",
     "start_time": "2020-05-31T20:32:58.494Z"
    }
   },
   "outputs": [],
   "source": [
    "# tune xgb\n",
    "clf_xgb_tuned = pyc.tune_model('xgboost',\n",
    "                                          fold=5,\n",
    "                                          optimize='Recall')"
   ]
  },
  {
   "cell_type": "code",
   "execution_count": null,
   "metadata": {
    "ExecuteTime": {
     "end_time": "2020-05-31T21:38:30.126022Z",
     "start_time": "2020-05-31T20:32:58.500Z"
    }
   },
   "outputs": [],
   "source": [
    "mean_row = 'Mean\t0.9992\t0.9677\t0.7255\t0.8340\t0.7661\t0.7657'\n",
    "df_eval = compare_new_models('xgb','tuned',mean_row,df_eval=df_eval,sort='Recall')"
   ]
  },
  {
   "cell_type": "code",
   "execution_count": null,
   "metadata": {
    "ExecuteTime": {
     "end_time": "2020-05-31T21:38:30.130237Z",
     "start_time": "2020-05-31T20:32:58.505Z"
    }
   },
   "outputs": [],
   "source": [
    "# tune catboost\n",
    "clf_cb_tuned = pyc.tune_model('catboost',\n",
    "                                          fold=5,\n",
    "                                          optimize='Recall')"
   ]
  },
  {
   "cell_type": "code",
   "execution_count": null,
   "metadata": {
    "ExecuteTime": {
     "end_time": "2020-05-31T21:38:30.134233Z",
     "start_time": "2020-05-31T20:32:58.508Z"
    }
   },
   "outputs": [],
   "source": [
    "# tune lda\n",
    "clf_lda_tuned = pyc.tune_model('lda',fold=5,optimize='Recall')"
   ]
  },
  {
   "cell_type": "code",
   "execution_count": null,
   "metadata": {
    "ExecuteTime": {
     "end_time": "2020-05-31T21:38:30.142481Z",
     "start_time": "2020-05-31T20:32:58.514Z"
    }
   },
   "outputs": [],
   "source": [
    "mean_row = 'Mean\t0.7791\t0.5712\t0.3276\t0.0027\t0.0054\t0.0020'\n",
    "df_eval = compare_new_models('lda','tuned',mean_row,df_eval=df_eval,sort='Recall')"
   ]
  },
  {
   "cell_type": "markdown",
   "metadata": {
    "ExecuteTime": {
     "end_time": "2020-05-31T16:30:58.131483Z",
     "start_time": "2020-05-31T16:30:57.974255Z"
    }
   },
   "source": [
    "# Further tuning\n",
    "```\n",
    "Estimator: Linear Disc. Analysis\n",
    "Abbreviation: 'lda'\n",
    "Scikit-learn: discriminant_analysis.LDA \n",
    "\n",
    "```\n",
    "\n",
    "- [sklearn.lda.LDA](https://scikit-learn.org/0.16/modules/generated/sklearn.lda.LDA.html)\n",
    "- [sklearn.discriminant_analysis.LinearDiscriminantAnalysis](https://scikit-learn.org/stable/modules/generated/sklearn.discriminant_analysis.LinearDiscriminantAnalysis.html)\n",
    "- [StatQuest: Linear Discriminant Analysis (LDA) clearly explained.](https://www.youtube.com/watch?v=azXCzI57Yfc)\n",
    "\n",
    "```python\n",
    "LinearDiscriminantAnalysis(n_components=None,\n",
    "                           priors=None,\n",
    "                           shrinkage=None,\n",
    "                           solver='svd',\n",
    "                           store_covariance=False,\n",
    "                           tol=0.0001)\n",
    "```\n",
    "\n",
    "```python\n",
    "import numpy as np\n",
    "from sklearn.discriminant_analysis import LinearDiscriminantAnalysis\n",
    "X = np.array([[-1, -1], [-2, -1], [-3, -2], [1, 1], [2, 1], [3, 2]])\n",
    "y = np.array([1, 1, 1, 2, 2, 2])\n",
    "clf = LinearDiscriminantAnalysis()\n",
    "clf.fit(X, y)\n",
    "\n",
    "print(clf.predict([[-0.8, -1]]))\n",
    "```"
   ]
  },
  {
   "cell_type": "code",
   "execution_count": null,
   "metadata": {
    "ExecuteTime": {
     "end_time": "2020-05-31T21:38:30.145846Z",
     "start_time": "2020-05-31T20:32:58.517Z"
    }
   },
   "outputs": [],
   "source": [
    "from sklearn.discriminant_analysis import LinearDiscriminantAnalysis\n",
    "\n",
    "lda = LinearDiscriminantAnalysis()"
   ]
  },
  {
   "cell_type": "code",
   "execution_count": null,
   "metadata": {
    "ExecuteTime": {
     "end_time": "2020-05-31T21:38:30.149622Z",
     "start_time": "2020-05-31T20:32:58.520Z"
    }
   },
   "outputs": [],
   "source": [
    "# lda?"
   ]
  },
  {
   "cell_type": "code",
   "execution_count": null,
   "metadata": {
    "ExecuteTime": {
     "end_time": "2020-05-31T21:38:30.156771Z",
     "start_time": "2020-05-31T20:32:58.522Z"
    }
   },
   "outputs": [],
   "source": [
    "# tune lda\n",
    "clf_lda_tuned = pyc.tune_model('lda',n_iter=100,fold=10,optimize='Recall')"
   ]
  },
  {
   "cell_type": "code",
   "execution_count": null,
   "metadata": {
    "ExecuteTime": {
     "end_time": "2020-05-31T21:38:30.162278Z",
     "start_time": "2020-05-31T20:32:58.525Z"
    }
   },
   "outputs": [],
   "source": [
    "mean_row = 'Mean\t0.9992\t0.9677\t0.7255\t0.8340\t0.7661\t0.7657'\n",
    "df_eval = compare_new_models('lda','tuned,n_iter=100,fold=10',mean_row,df_eval=df_eval,sort='Recall')"
   ]
  },
  {
   "cell_type": "code",
   "execution_count": null,
   "metadata": {
    "ExecuteTime": {
     "end_time": "2020-05-31T21:38:30.170755Z",
     "start_time": "2020-05-31T20:32:58.532Z"
    }
   },
   "outputs": [],
   "source": [
    "## tune xgb\n",
    "# clf_xgb_tuned = pyc.tune_model('xgboost',n_iter=20,fold=5,optimize='Recall')"
   ]
  },
  {
   "cell_type": "markdown",
   "metadata": {
    "ExecuteTime": {
     "end_time": "2020-05-31T17:21:16.522396Z",
     "start_time": "2020-05-31T17:21:16.466207Z"
    }
   },
   "source": [
    "# Model Evaluation\n",
    "\n",
    "```python\n",
    "plot_model(estimator, plot='auc')\n",
    "\n",
    "Name                        Abbreviated String     \n",
    "---------                   ------------------ \n",
    "Area Under the Curve         'auc'              \n",
    "Discrimination Threshold     'threshold'\n",
    "Precision Recall Curve       'pr'\n",
    "Confusion Matrix             'confusion_matrix'\n",
    "Class Prediction Error       'error'\n",
    "Classification Report        'class_report'\n",
    "Decision Boundary            'boundary'\n",
    "Recursive Feat. Selection    'rfe' \n",
    "Learning Curve               'learning'\n",
    "Manifold Learning            'manifold'\n",
    "Calibration Curve            'calibration'\n",
    "Validation Curve             'vc' \n",
    "Dimension Learning           'dimension'\n",
    "Feature Importance           'feature'\n",
    "Model Hyperparameter         'parameter'\n",
    "```"
   ]
  },
  {
   "cell_type": "code",
   "execution_count": null,
   "metadata": {
    "ExecuteTime": {
     "end_time": "2020-05-31T21:38:30.176180Z",
     "start_time": "2020-05-31T20:32:58.535Z"
    }
   },
   "outputs": [],
   "source": [
    "# pyc.plot_model?"
   ]
  },
  {
   "cell_type": "code",
   "execution_count": null,
   "metadata": {
    "ExecuteTime": {
     "end_time": "2020-05-31T21:38:30.180374Z",
     "start_time": "2020-05-31T20:32:58.537Z"
    }
   },
   "outputs": [],
   "source": [
    "# AUC-ROC plot\n",
    "pyc.plot_model(clf_lda, plot = 'auc')"
   ]
  },
  {
   "cell_type": "code",
   "execution_count": null,
   "metadata": {
    "ExecuteTime": {
     "end_time": "2020-05-31T21:38:30.188695Z",
     "start_time": "2020-05-31T20:32:58.540Z"
    }
   },
   "outputs": [],
   "source": [
    "# confusion matrix\n",
    "# pyc.plot_model(clf_lda, plot = 'confusion_matrix')"
   ]
  },
  {
   "cell_type": "code",
   "execution_count": null,
   "metadata": {
    "ExecuteTime": {
     "end_time": "2020-05-31T21:38:30.197142Z",
     "start_time": "2020-05-31T20:32:58.542Z"
    }
   },
   "outputs": [],
   "source": [
    "# evaluate model\n",
    "pyc.evaluate_model(clf_lda)"
   ]
  },
  {
   "cell_type": "markdown",
   "metadata": {},
   "source": [
    "# Ensemble  Modelling\n",
    "\n",
    "- [A Comprehensive Guide to Ensemble Learning](https://www.analyticsvidhya.com/blog/2018/06/comprehensive-guide-for-ensemble-models/?utm_source=blog&utm_medium=pycaret-machine-learning-model-seconds).\n",
    "\n",
    "```python\n",
    "ensemble_model(estimator, method='Bagging', fold=10, n_estimators=10, round=4, verbose=True)\n",
    "\n",
    "method: 'Bagging' or 'Boosting', default = 'Bagging'\n",
    "```"
   ]
  },
  {
   "cell_type": "code",
   "execution_count": null,
   "metadata": {
    "ExecuteTime": {
     "end_time": "2020-05-31T21:38:30.201946Z",
     "start_time": "2020-05-31T20:32:58.546Z"
    }
   },
   "outputs": [],
   "source": [
    "# pyc.ensemble_model?"
   ]
  },
  {
   "cell_type": "code",
   "execution_count": null,
   "metadata": {
    "ExecuteTime": {
     "end_time": "2020-05-31T21:38:30.213628Z",
     "start_time": "2020-05-31T20:32:58.549Z"
    }
   },
   "outputs": [],
   "source": [
    "clf_dt = pyc.create_model('dt')"
   ]
  },
  {
   "cell_type": "markdown",
   "metadata": {},
   "source": [
    "## Bagging"
   ]
  },
  {
   "cell_type": "code",
   "execution_count": null,
   "metadata": {
    "ExecuteTime": {
     "end_time": "2020-05-31T21:38:30.221120Z",
     "start_time": "2020-05-31T20:32:58.551Z"
    }
   },
   "outputs": [],
   "source": [
    "clf_dt_bagged = pyc.ensemble_model(clf_dt, n_estimators=50,method='Bagging')"
   ]
  },
  {
   "cell_type": "code",
   "execution_count": null,
   "metadata": {
    "ExecuteTime": {
     "end_time": "2020-05-31T21:38:30.229679Z",
     "start_time": "2020-05-31T20:32:58.554Z"
    }
   },
   "outputs": [],
   "source": [
    "# clf_dt_bagged_tuned = pyc.tune_model('dt', ensemble=True,\n",
    "#                                                 method='Bagging',fold=3, n_iter=10, optimize='Recall')"
   ]
  },
  {
   "cell_type": "markdown",
   "metadata": {},
   "source": [
    "## Boosting"
   ]
  },
  {
   "cell_type": "code",
   "execution_count": null,
   "metadata": {
    "ExecuteTime": {
     "end_time": "2020-05-31T21:38:30.240007Z",
     "start_time": "2020-05-31T20:32:58.557Z"
    }
   },
   "outputs": [],
   "source": [
    "# clf_dt_boosted_tuned = pyc.tune_model('dt', ensemble=True, method='Boosting')"
   ]
  },
  {
   "cell_type": "markdown",
   "metadata": {},
   "source": [
    "## Blending\n",
    "\n",
    "```python\n",
    "blend_models(estimator_list='All', fold=10, round=4, method='hard', turbo=True, verbose=True)\n",
    "```"
   ]
  },
  {
   "cell_type": "code",
   "execution_count": null,
   "metadata": {
    "ExecuteTime": {
     "end_time": "2020-05-31T21:38:30.247141Z",
     "start_time": "2020-05-31T20:32:58.561Z"
    }
   },
   "outputs": [],
   "source": [
    "# pyc.blend_models?"
   ]
  },
  {
   "cell_type": "code",
   "execution_count": null,
   "metadata": {
    "ExecuteTime": {
     "end_time": "2020-05-31T21:38:30.258363Z",
     "start_time": "2020-05-31T20:32:58.563Z"
    }
   },
   "outputs": [],
   "source": [
    "# blend_soft = pyc.blend_models(estimator_list = [clf_dt, clf_xgb,clf_lda], method = 'soft')"
   ]
  },
  {
   "cell_type": "code",
   "execution_count": null,
   "metadata": {
    "ExecuteTime": {
     "end_time": "2020-05-31T21:38:30.262040Z",
     "start_time": "2020-05-31T20:32:58.566Z"
    }
   },
   "outputs": [],
   "source": [
    "# blend_hard = pyc.blend_models(estimator_list = [clf_dt, clf_xgb,clf_lda], method = 'hard')"
   ]
  },
  {
   "cell_type": "markdown",
   "metadata": {},
   "source": [
    "## Stacking\n",
    "Stacking is another popular technique for ensembling but is less commonly implemented due to practical difficulties. Stacking is an ensemble learning technique that combines multiple models via a meta-model. Another way to think about stacking is that multiple models are trained to predict the outcome and a meta-model is created that uses the predictions from those models as an input along with the original features.\n",
    "\n",
    "Selecting which method and models to use in stacking depends on the statistical properties of the dataset. Experimenting with different models and methods is the best way to find out which configuration will work best. However as a general rule of thumb, the models with strong yet diverse performance tend to improve results when used in stacking. One way to measure diversity is the correlation of predictions between models. You can analyze this using the plot parameter.\n",
    "\n",
    "```python\n",
    "stack_models(estimator_list, meta_model=None, fold=10, round=4, method='soft', restack=True, plot=False, finalize=False, verbose=True)\n",
    "```"
   ]
  },
  {
   "cell_type": "code",
   "execution_count": null,
   "metadata": {
    "ExecuteTime": {
     "end_time": "2020-05-31T21:38:30.266996Z",
     "start_time": "2020-05-31T20:32:58.570Z"
    }
   },
   "outputs": [],
   "source": [
    "# pyc.stack_models?"
   ]
  },
  {
   "cell_type": "code",
   "execution_count": null,
   "metadata": {
    "ExecuteTime": {
     "end_time": "2020-05-31T21:38:30.273607Z",
     "start_time": "2020-05-31T20:32:58.572Z"
    }
   },
   "outputs": [],
   "source": [
    "# stack_soft = pyc.stack_models(estimator_list = [clf_dt, clf_xgb,clf_lda], method = 'soft')\n",
    "\n",
    "# stack_soft2 = pyc.stack_models(estimator_list = [clf_xgb, clf_lda],\n",
    "#                                           method = 'soft',\n",
    "#                                          meta_model=clf_dt)"
   ]
  },
  {
   "cell_type": "code",
   "execution_count": null,
   "metadata": {
    "ExecuteTime": {
     "end_time": "2020-05-31T21:38:30.277448Z",
     "start_time": "2020-05-31T20:32:58.575Z"
    }
   },
   "outputs": [],
   "source": [
    "# stack_hard = pyc.stack_models(estimator_list = [clf_dt, clf_xgb,clf_lda], method = 'hard')"
   ]
  },
  {
   "cell_type": "code",
   "execution_count": null,
   "metadata": {
    "ExecuteTime": {
     "end_time": "2020-05-31T21:38:30.280227Z",
     "start_time": "2020-05-31T20:32:58.578Z"
    }
   },
   "outputs": [],
   "source": [
    "stack_soft_plot = pyc.stack_models([clf_dt,clf_xgb,clf_lda], plot=True)"
   ]
  },
  {
   "cell_type": "markdown",
   "metadata": {},
   "source": [
    "# Model Calibration\n",
    "\n",
    "When performing classification you often not only want to predict the class label (outcome such as 0 or 1), but also obtain the probability of the respective outcome which provides a level of confidence on the prediction. Some models can give you poor estimates of the class probabilities and some do not even support probability prediction. Well calibrated classifiers are probabilistic and provide outputs in the form of probabilities that can be directly interpreted as a confidence level. PyCaret allows you to calibrate the probabilities of a given model through the calibrate_model() function. \n",
    "\n",
    "```python\n",
    "calibrate_model(estimator, method='sigmoid', fold=10, round=4, verbose=True)\n",
    "\n",
    "method : string, default = 'sigmoid'\n",
    "The method to use for calibration. Can be 'sigmoid' which corresponds to Platt's \n",
    "method or 'isotonic' which is a non-parametric approach. It is not advised to use\n",
    "isotonic calibration with too few calibration samples\n",
    "```"
   ]
  },
  {
   "cell_type": "code",
   "execution_count": null,
   "metadata": {
    "ExecuteTime": {
     "end_time": "2020-05-31T21:38:30.283092Z",
     "start_time": "2020-05-31T20:32:58.581Z"
    }
   },
   "outputs": [],
   "source": [
    "# pyc.calibrate_model?"
   ]
  },
  {
   "cell_type": "code",
   "execution_count": null,
   "metadata": {
    "ExecuteTime": {
     "end_time": "2020-05-31T21:38:30.288893Z",
     "start_time": "2020-05-31T20:32:58.584Z"
    }
   },
   "outputs": [],
   "source": [
    "pyc.plot_model(clf_lda_tuned, plot='calibration')"
   ]
  },
  {
   "cell_type": "code",
   "execution_count": null,
   "metadata": {
    "ExecuteTime": {
     "end_time": "2020-05-31T21:38:30.294533Z",
     "start_time": "2020-05-31T20:32:58.586Z"
    }
   },
   "outputs": [],
   "source": [
    "clf_lda_tuned_calibrated = pyc.calibrate_model(clf_lda_tuned,fold=5,\n",
    "                                                  method='sigmoid')"
   ]
  },
  {
   "cell_type": "code",
   "execution_count": null,
   "metadata": {
    "ExecuteTime": {
     "end_time": "2020-05-31T21:38:30.299464Z",
     "start_time": "2020-05-31T20:32:58.589Z"
    }
   },
   "outputs": [],
   "source": [
    "mean_row = 'Mean\t0.9989\t0.9668\t0.4538\t0.8367\t0.5778\t0.5773'\n",
    "df_eval = compare_new_models('lda','tuned,calibrated',mean_row,df_eval=df_eval,sort='Recall')"
   ]
  },
  {
   "cell_type": "code",
   "execution_count": null,
   "metadata": {
    "ExecuteTime": {
     "end_time": "2020-05-31T21:38:30.303775Z",
     "start_time": "2020-05-31T20:32:58.592Z"
    }
   },
   "outputs": [],
   "source": [
    "clf_lda_tuned_calibrated_iso = pyc.calibrate_model(clf_lda_tuned,\n",
    "                            fold=5, method='isotonic')"
   ]
  },
  {
   "cell_type": "code",
   "execution_count": null,
   "metadata": {
    "ExecuteTime": {
     "end_time": "2020-05-31T21:38:30.306713Z",
     "start_time": "2020-05-31T20:32:58.594Z"
    }
   },
   "outputs": [],
   "source": [
    "mean_row = 'Mean\t0.9992\t0.9663\t0.7214\t0.8299\t0.7679\t0.7675'\n",
    "df_eval = compare_new_models('lda','tuned,calibratedIsotonic',mean_row,df_eval=df_eval,sort='Recall')"
   ]
  },
  {
   "cell_type": "code",
   "execution_count": null,
   "metadata": {
    "ExecuteTime": {
     "end_time": "2020-05-31T21:38:30.311898Z",
     "start_time": "2020-05-31T20:32:58.597Z"
    }
   },
   "outputs": [],
   "source": [
    "pyc.plot_model(clf_lda_tuned_calibrated, plot='calibration')"
   ]
  },
  {
   "cell_type": "code",
   "execution_count": null,
   "metadata": {
    "ExecuteTime": {
     "end_time": "2020-05-31T21:38:30.315960Z",
     "start_time": "2020-05-31T20:32:58.600Z"
    }
   },
   "outputs": [],
   "source": [
    "pyc.plot_model(clf_lda_tuned_calibrated_iso, plot='calibration')"
   ]
  },
  {
   "cell_type": "markdown",
   "metadata": {},
   "source": [
    "# Model Interpretation"
   ]
  },
  {
   "cell_type": "code",
   "execution_count": null,
   "metadata": {
    "ExecuteTime": {
     "end_time": "2020-05-31T21:38:30.322003Z",
     "start_time": "2020-05-31T20:32:58.602Z"
    }
   },
   "outputs": [],
   "source": [
    "df_eval"
   ]
  },
  {
   "cell_type": "code",
   "execution_count": null,
   "metadata": {
    "ExecuteTime": {
     "end_time": "2020-05-31T21:38:30.327082Z",
     "start_time": "2020-05-31T20:32:58.605Z"
    }
   },
   "outputs": [],
   "source": [
    "# interpret_model: SHAP\n",
    "pyc.interpret_model(clf_xgb)"
   ]
  },
  {
   "cell_type": "code",
   "execution_count": null,
   "metadata": {
    "ExecuteTime": {
     "end_time": "2020-05-31T21:38:30.331909Z",
     "start_time": "2020-05-31T20:32:58.608Z"
    }
   },
   "outputs": [],
   "source": [
    "# interpret model : Correlation\n",
    "pyc.interpret_model(clf_xgb,plot='correlation')\n"
   ]
  },
  {
   "cell_type": "markdown",
   "metadata": {},
   "source": [
    "# Model Predictions"
   ]
  },
  {
   "cell_type": "code",
   "execution_count": null,
   "metadata": {
    "ExecuteTime": {
     "end_time": "2020-05-31T21:38:30.339811Z",
     "start_time": "2020-05-31T20:32:58.611Z"
    }
   },
   "outputs": [],
   "source": [
    "df_test.iloc[:5,-5:]"
   ]
  },
  {
   "cell_type": "code",
   "execution_count": null,
   "metadata": {
    "ExecuteTime": {
     "end_time": "2020-05-31T21:38:30.346709Z",
     "start_time": "2020-05-31T20:32:58.614Z"
    }
   },
   "outputs": [],
   "source": [
    "df_preds = pyc.predict_model(clf_lda_tuned_calibrated,df_test)\n",
    "df_preds.iloc[:5,-5:]"
   ]
  },
  {
   "cell_type": "markdown",
   "metadata": {},
   "source": [
    "# Model Persistence"
   ]
  },
  {
   "cell_type": "code",
   "execution_count": null,
   "metadata": {
    "ExecuteTime": {
     "end_time": "2020-05-31T21:38:30.351943Z",
     "start_time": "2020-05-31T20:32:58.617Z"
    }
   },
   "outputs": [],
   "source": [
    "pyc.save_model?"
   ]
  },
  {
   "cell_type": "code",
   "execution_count": null,
   "metadata": {
    "ExecuteTime": {
     "end_time": "2020-05-31T21:38:30.359045Z",
     "start_time": "2020-05-31T20:32:58.619Z"
    }
   },
   "outputs": [],
   "source": [
    "# save the model\n",
    "pyc.save_model(clf_lda_tuned, '../models/clf_lda_tuned_calibrated.pkl')"
   ]
  },
  {
   "cell_type": "code",
   "execution_count": null,
   "metadata": {
    "ExecuteTime": {
     "end_time": "2020-05-31T21:38:30.361769Z",
     "start_time": "2020-05-31T20:32:58.622Z"
    }
   },
   "outputs": [],
   "source": [
    "# load model\n",
    "clf_lda_tuned_calibrated = pyc.load_model(model_name='../models/clf_lda_tuned_calibrated.pkl')"
   ]
  },
  {
   "cell_type": "code",
   "execution_count": null,
   "metadata": {
    "ExecuteTime": {
     "end_time": "2020-05-31T21:38:30.367262Z",
     "start_time": "2020-05-31T20:32:58.625Z"
    }
   },
   "outputs": [],
   "source": [
    "# save entire experiment\n",
    "pyc.save_experiment(\"../models/experiment_may31_2020\")"
   ]
  },
  {
   "cell_type": "code",
   "execution_count": null,
   "metadata": {
    "ExecuteTime": {
     "end_time": "2020-05-31T21:38:30.372202Z",
     "start_time": "2020-05-31T20:32:58.627Z"
    }
   },
   "outputs": [],
   "source": [
    "saved_experiment = pyc.load_experiment('../models/experiment_may31_2020')"
   ]
  },
  {
   "cell_type": "code",
   "execution_count": null,
   "metadata": {
    "ExecuteTime": {
     "end_time": "2020-05-31T21:38:30.376709Z",
     "start_time": "2020-05-31T20:32:58.630Z"
    }
   },
   "outputs": [],
   "source": [
    "saved_experiment[47]"
   ]
  },
  {
   "cell_type": "markdown",
   "metadata": {},
   "source": [
    "# Time taken"
   ]
  },
  {
   "cell_type": "code",
   "execution_count": null,
   "metadata": {
    "ExecuteTime": {
     "end_time": "2020-05-31T21:38:30.383665Z",
     "start_time": "2020-05-31T20:32:58.634Z"
    }
   },
   "outputs": [],
   "source": [
    "time_taken = time.time() - time_start_notebook\n",
    "h,m = divmod(time_taken,60*60)\n",
    "print('Time taken to run whole notebook: {:.0f} hr '\\\n",
    "      '{:.0f} min {:.0f} secs'.format(h, *divmod(m,60)))\n",
    "\n",
    "import subprocess\n",
    "subprocess.call(['python', '-m', 'nbconvert', '*.ipynb'])"
   ]
  },
  {
   "cell_type": "code",
   "execution_count": null,
   "metadata": {
    "ExecuteTime": {
     "end_time": "2020-05-31T21:38:30.388762Z",
     "start_time": "2020-05-31T20:32:58.636Z"
    }
   },
   "outputs": [],
   "source": [
    "%%bash\n",
    "mkdir -p html\n",
    "mv *.html html/"
   ]
  }
 ],
 "metadata": {
  "kernelspec": {
   "display_name": "Python37(pycaret)",
   "language": "python",
   "name": "pycaret"
  },
  "toc": {
   "base_numbering": 1,
   "nav_menu": {},
   "number_sections": true,
   "sideBar": true,
   "skip_h1_title": false,
   "title_cell": "Table of Contents",
   "title_sidebar": "Contents",
   "toc_cell": true,
   "toc_position": {},
   "toc_section_display": true,
   "toc_window_display": true
  }
 },
 "nbformat": 4,
 "nbformat_minor": 4
}
