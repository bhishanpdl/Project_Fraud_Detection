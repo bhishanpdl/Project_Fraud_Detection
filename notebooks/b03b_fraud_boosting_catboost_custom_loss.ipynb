{
 "cells": [
  {
   "cell_type": "markdown",
   "metadata": {
    "id": "LMqh-pngyGNw",
    "toc": true
   },
   "source": [
    "<h1>Table of Contents<span class=\"tocSkip\"></span></h1>\n",
    "<div class=\"toc\"><ul class=\"toc-item\"><li><span><a href=\"#Data-Description\" data-toc-modified-id=\"Data-Description-1\"><span class=\"toc-item-num\">1&nbsp;&nbsp;</span>Data Description</a></span></li><li><span><a href=\"#Business-Problem\" data-toc-modified-id=\"Business-Problem-2\"><span class=\"toc-item-num\">2&nbsp;&nbsp;</span>Business Problem</a></span></li><li><span><a href=\"#Introduction-to-Boosting\" data-toc-modified-id=\"Introduction-to-Boosting-3\"><span class=\"toc-item-num\">3&nbsp;&nbsp;</span>Introduction to Boosting</a></span></li><li><span><a href=\"#Colab\" data-toc-modified-id=\"Colab-4\"><span class=\"toc-item-num\">4&nbsp;&nbsp;</span>Colab</a></span></li><li><span><a href=\"#Imports\" data-toc-modified-id=\"Imports-5\"><span class=\"toc-item-num\">5&nbsp;&nbsp;</span>Imports</a></span></li><li><span><a href=\"#Useful-Scripts\" data-toc-modified-id=\"Useful-Scripts-6\"><span class=\"toc-item-num\">6&nbsp;&nbsp;</span>Useful Scripts</a></span></li><li><span><a href=\"#Load-the-data\" data-toc-modified-id=\"Load-the-data-7\"><span class=\"toc-item-num\">7&nbsp;&nbsp;</span>Load the data</a></span></li><li><span><a href=\"#Train-test-split-with-stratify\" data-toc-modified-id=\"Train-test-split-with-stratify-8\"><span class=\"toc-item-num\">8&nbsp;&nbsp;</span>Train test split with stratify</a></span></li><li><span><a href=\"#Train-Validation-with-stratify\" data-toc-modified-id=\"Train-Validation-with-stratify-9\"><span class=\"toc-item-num\">9&nbsp;&nbsp;</span>Train Validation with stratify</a></span></li><li><span><a href=\"#Modelling-catboost\" data-toc-modified-id=\"Modelling-catboost-10\"><span class=\"toc-item-num\">10&nbsp;&nbsp;</span>Modelling catboost</a></span></li><li><span><a href=\"#Catboost-with-validation-set\" data-toc-modified-id=\"Catboost-with-validation-set-11\"><span class=\"toc-item-num\">11&nbsp;&nbsp;</span>Catboost with validation set</a></span></li><li><span><a href=\"#Feature-Statistics\" data-toc-modified-id=\"Feature-Statistics-12\"><span class=\"toc-item-num\">12&nbsp;&nbsp;</span>Feature Statistics</a></span></li><li><span><a href=\"#Feature-Importance\" data-toc-modified-id=\"Feature-Importance-13\"><span class=\"toc-item-num\">13&nbsp;&nbsp;</span>Feature Importance</a></span></li><li><span><a href=\"#catboost-using-Pool\" data-toc-modified-id=\"catboost-using-Pool-14\"><span class=\"toc-item-num\">14&nbsp;&nbsp;</span>catboost using Pool</a></span></li><li><span><a href=\"#Cross-Validation\" data-toc-modified-id=\"Cross-Validation-15\"><span class=\"toc-item-num\">15&nbsp;&nbsp;</span>Cross Validation</a></span></li><li><span><a href=\"#HPO-(Hyper-Parameter-Optimization)\" data-toc-modified-id=\"HPO-(Hyper-Parameter-Optimization)-16\"><span class=\"toc-item-num\">16&nbsp;&nbsp;</span>HPO (Hyper Parameter Optimization)</a></span><ul class=\"toc-item\"><li><span><a href=\"#Baseline-model\" data-toc-modified-id=\"Baseline-model-16.1\"><span class=\"toc-item-num\">16.1&nbsp;&nbsp;</span>Baseline model</a></span></li><li><span><a href=\"#Using-Early-Stopping-from-Validation-Set\" data-toc-modified-id=\"Using-Early-Stopping-from-Validation-Set-16.2\"><span class=\"toc-item-num\">16.2&nbsp;&nbsp;</span>Using Early Stopping from Validation Set</a></span></li><li><span><a href=\"#Try-Your-luck-with-different-random-states\" data-toc-modified-id=\"Try-Your-luck-with-different-random-states-16.3\"><span class=\"toc-item-num\">16.3&nbsp;&nbsp;</span>Try Your luck with different random states</a></span></li><li><span><a href=\"#HPO-Hyper-Parameter-Optimization-with-Optuna\" data-toc-modified-id=\"HPO-Hyper-Parameter-Optimization-with-Optuna-16.4\"><span class=\"toc-item-num\">16.4&nbsp;&nbsp;</span>HPO Hyper Parameter Optimization with Optuna</a></span></li></ul></li><li><span><a href=\"#Best-Model\" data-toc-modified-id=\"Best-Model-17\"><span class=\"toc-item-num\">17&nbsp;&nbsp;</span>Best Model</a></span><ul class=\"toc-item\"><li><span><a href=\"#Model-Interpretation\" data-toc-modified-id=\"Model-Interpretation-17.1\"><span class=\"toc-item-num\">17.1&nbsp;&nbsp;</span>Model Interpretation</a></span></li><li><span><a href=\"#Model-interpretation-using-eli5\" data-toc-modified-id=\"Model-interpretation-using-eli5-17.2\"><span class=\"toc-item-num\">17.2&nbsp;&nbsp;</span>Model interpretation using eli5</a></span></li><li><span><a href=\"#Model-interpretation-using-lime\" data-toc-modified-id=\"Model-interpretation-using-lime-17.3\"><span class=\"toc-item-num\">17.3&nbsp;&nbsp;</span>Model interpretation using lime</a></span></li><li><span><a href=\"#Model-Evaluation-Using-shap\" data-toc-modified-id=\"Model-Evaluation-Using-shap-17.4\"><span class=\"toc-item-num\">17.4&nbsp;&nbsp;</span>Model Evaluation Using shap</a></span></li></ul></li><li><span><a href=\"#Time-Taken\" data-toc-modified-id=\"Time-Taken-18\"><span class=\"toc-item-num\">18&nbsp;&nbsp;</span>Time Taken</a></span></li></ul></div>"
   ]
  },
  {
   "cell_type": "markdown",
   "metadata": {
    "id": "qmwyXzOYyGNx"
   },
   "source": [
    "<div class=\"alert alert-block alert-success\">\n",
    "<b>Kernel Author:</b>  <br>\n",
    "<a href=\"https://bhishanpdl.github.io/\" , target=\"_blank\">Bhishan Poudel,  Data Scientist, Ph.D Astrophysics</a> .\n",
    "</div>"
   ]
  },
  {
   "cell_type": "markdown",
   "metadata": {
    "id": "unwPyQQbyGNy"
   },
   "source": [
    "# Data Description\n",
    "\n",
    "> The datasets contains transactions made by credit cards in September\n",
    "2013 by european cardholders.\n",
    "\n",
    "\n",
    "> This dataset presents transactions that occurred in two days,\n",
    "where we have 492 frauds out of 284,807 transactions. \n",
    "\n",
    "> The dataset is highly unbalanced, the positive class (frauds)\n",
    "account for 0.172% of all transactions.\n",
    "\n",
    "> It contains only numerical input variables which are\n",
    "the result of a PCA transformation.\n",
    "\n",
    "\n",
    "> Unfortunately, due to confidentiality issues,\n",
    "we cannot provide the original features and \n",
    "more background information about the data.\n",
    "\n",
    "\n",
    "> Features V1, V2, ... V28 are the principal\n",
    "components obtained with PCA,\n",
    "the only features which have not been transformed with PCA are 'Time' and 'Amount'. \n",
    "\n",
    "> Feature 'Time' contains the seconds elapsed between each transaction\n",
    "and the first transaction in the dataset. The feature 'Amount'\n",
    "is the transaction Amount, this feature can be used for \n",
    "example-dependant cost-senstive learning. \n",
    "\n",
    "> Feature 'Class' is the response variable and it takes value\n",
    "1 in case of fraud and 0 otherwise.m"
   ]
  },
  {
   "cell_type": "markdown",
   "metadata": {
    "id": "M8_6nSlKyGNy"
   },
   "source": [
    "# Business Problem\n",
    "\n",
    "<div class=\"alert alert-block alert-success\">\n",
    "<b>Business Problem:</b>  <br>\n",
    "Task &nbsp;&nbsp; : Detect the fraudulent activities. <br>\n",
    "Metric : Recall <br>\n",
    "Sampling: No sampling, use all the data. <br>\n",
    "Tools: Use python module Pycaret for classification. <br>\n",
    "Question: How many frauds are correctly classified?\n",
    "</div>"
   ]
  },
  {
   "cell_type": "markdown",
   "metadata": {
    "id": "IMgpqhTv1olf"
   },
   "source": [
    "# Introduction to Boosting\n",
    "The term Boosting refers to a family of algorithms which converts weak learner to strong learners.\n",
    "\n",
    "There are many boosting algorithms:\n",
    "```\n",
    "sklearn.ensemble.GradientBoostingRegressor\n",
    "xgboost.XGBRegressor # fast and best\n",
    "lightgbm.LGBMRegressor # extreme fast, little acc than xgb\n",
    "catboost.CatBoostRegressor # good for categorical feats\n",
    "```"
   ]
  },
  {
   "cell_type": "markdown",
   "metadata": {
    "id": "x_p_gIOJyGNz"
   },
   "source": [
    "# Colab"
   ]
  },
  {
   "cell_type": "code",
   "execution_count": 2,
   "metadata": {
    "ExecuteTime": {
     "end_time": "2021-08-09T23:27:11.050556Z",
     "start_time": "2021-08-09T23:27:11.035538Z"
    },
    "id": "M6YwEQlYyGN2"
   },
   "outputs": [],
   "source": [
    "%%capture\n",
    "import sys\n",
    "ENV_COLAB = 'google.colab' in sys.modules\n",
    "\n",
    "if ENV_COLAB:\n",
    "    #!pip install hpsklearn\n",
    "    !pip install shap eli5 lime scikit-plot watermark\n",
    "    !pip install optuna hyperopt\n",
    "    !pip install catboost\n",
    "    !pip install ipywidgets\n",
    "    !pip install -U scikit-learn\n",
    "    !jupyter nbextension enable --py widgetsnbextension\n",
    "\n",
    "    # create project like folders\n",
    "    !mkdir -p ../outputs ../images ../reports ../html ../models\n",
    "\n",
    "    print('Environment: Google Colab')"
   ]
  },
  {
   "cell_type": "markdown",
   "metadata": {
    "id": "bqxjhKA10idV"
   },
   "source": [
    "# Imports"
   ]
  },
  {
   "cell_type": "code",
   "execution_count": 3,
   "metadata": {
    "ExecuteTime": {
     "end_time": "2021-08-09T23:27:11.057889Z",
     "start_time": "2021-08-09T23:27:11.053785Z"
    },
    "id": "vcErSdJgyGN4"
   },
   "outputs": [],
   "source": [
    "import time\n",
    "\n",
    "notebook_start_time = time.time()"
   ]
  },
  {
   "cell_type": "code",
   "execution_count": 4,
   "metadata": {
    "ExecuteTime": {
     "end_time": "2021-08-09T23:27:21.128738Z",
     "start_time": "2021-08-09T23:27:11.062701Z"
    },
    "colab": {
     "base_uri": "https://localhost:8080/",
     "height": 496
    },
    "id": "Q2rGIoPdzugp",
    "outputId": "d2a7f7b9-b97a-4727-bdd0-efaed2822729"
   },
   "outputs": [
    {
     "name": "stderr",
     "output_type": "stream",
     "text": [
      "/Users/poudel/opt/miniconda3/envs/dataSc/lib/python3.7/site-packages/sklearn/utils/deprecation.py:143: FutureWarning: The sklearn.metrics.scorer module is  deprecated in version 0.22 and will be removed in version 0.24. The corresponding classes / functions should instead be imported from sklearn.metrics. Anything that cannot be imported from sklearn.metrics is now part of the private API.\n",
      "  warnings.warn(message, FutureWarning)\n",
      "/Users/poudel/opt/miniconda3/envs/dataSc/lib/python3.7/site-packages/sklearn/utils/deprecation.py:143: FutureWarning: The sklearn.feature_selection.base module is  deprecated in version 0.22 and will be removed in version 0.24. The corresponding classes / functions should instead be imported from sklearn.feature_selection. Anything that cannot be imported from sklearn.feature_selection is now part of the private API.\n",
      "  warnings.warn(message, FutureWarning)\n"
     ]
    },
    {
     "name": "stdout",
     "output_type": "stream",
     "text": [
      "Bhishan Poudel 2021-08-09 \n",
      "\n",
      "CPython 3.7.7\n",
      "IPython 7.22.0\n",
      "\n",
      "compiler   : Clang 4.0.1 (tags/RELEASE_401/final)\n",
      "system     : Darwin\n",
      "release    : 19.6.0\n",
      "machine    : x86_64\n",
      "processor  : i386\n",
      "CPU cores  : 4\n",
      "interpreter: 64bit\n",
      "\n",
      "six         1.15.0\n",
      "sklearn     0.23.1\n",
      "shap        0.39.0\n",
      "yellowbrick 1.1\n",
      "joblib      1.0.1\n",
      "eli5        0.10.1\n",
      "lightgbm    2.3.1\n",
      "catboost    0.23.2\n",
      "scikitplot  0.3.7\n",
      "xgboost     1.2.0\n",
      "numpy       1.19.5\n",
      "seaborn     0.11.0\n",
      "autopep8    1.5.2\n",
      "json        2.0.9\n",
      "pandas      1.3.0\n",
      "\n"
     ]
    },
    {
     "name": "stderr",
     "output_type": "stream",
     "text": [
      "The sklearn.metrics.classification module is  deprecated in version 0.22 and will be removed in version 0.24. The corresponding classes / functions should instead be imported from sklearn.metrics. Anything that cannot be imported from sklearn.metrics is now part of the private API.\n"
     ]
    }
   ],
   "source": [
    "import numpy as np\n",
    "import pandas as pd\n",
    "\n",
    "pd.set_option('max_columns',100)\n",
    "\n",
    "# random state\n",
    "SEED = 0\n",
    "RNG = np.random.RandomState(SEED)\n",
    "\n",
    "# visualizatioin\n",
    "import matplotlib.pyplot as plt\n",
    "plt.rcParams['figure.figsize'] = 8,8\n",
    "plt.rcParams.update({'font.size': 16})\n",
    "plt.style.use('ggplot')\n",
    "%matplotlib inline\n",
    "import seaborn as sns\n",
    "sns.set(color_codes=True)\n",
    "\n",
    "# six and pickle\n",
    "import six\n",
    "import pickle\n",
    "import joblib\n",
    "\n",
    "# mixed\n",
    "import copy\n",
    "import pprint\n",
    "pp = pprint.PrettyPrinter(indent=4)\n",
    "\n",
    "# sklearn\n",
    "import sklearn\n",
    "\n",
    "# classifiers\n",
    "from sklearn.linear_model import LogisticRegression\n",
    "from sklearn.svm import SVC\n",
    "from sklearn.neighbors import KNeighborsClassifier\n",
    "from sklearn.tree import DecisionTreeClassifier\n",
    "from sklearn.ensemble import RandomForestClassifier\n",
    "\n",
    "# scale and split\n",
    "from sklearn.preprocessing import MinMaxScaler, StandardScaler, RobustScaler\n",
    "from sklearn.model_selection import train_test_split\n",
    "from sklearn.model_selection import StratifiedKFold\n",
    "\n",
    "# sklearn scalar metrics\n",
    "from sklearn.metrics import accuracy_score\n",
    "from sklearn.metrics import precision_score\n",
    "from sklearn.metrics import recall_score\n",
    "from sklearn.metrics import f1_score\n",
    "\n",
    "# roc auc and curves\n",
    "from sklearn.metrics import auc\n",
    "from sklearn.metrics import roc_auc_score\n",
    "from sklearn.metrics import roc_curve\n",
    "from sklearn.metrics import precision_recall_curve\n",
    "\n",
    "# confusion matrix and classification report\n",
    "from sklearn.metrics import confusion_matrix\n",
    "from sklearn.metrics import classification_report\n",
    "\n",
    "# boosting\n",
    "import xgboost, lightgbm, catboost\n",
    "import xgboost as xgb\n",
    "import lightgbm as lgb\n",
    "from sklearn.ensemble import GradientBoostingRegressor\n",
    "from xgboost import XGBClassifier, DMatrix\n",
    "from lightgbm import LGBMClassifier, Dataset\n",
    "from catboost import CatBoostClassifier, Pool, CatBoost\n",
    "\n",
    "# parameters tuning\n",
    "from hyperopt import hp, tpe, fmin, Trials, STATUS_OK, STATUS_FAIL\n",
    "from hyperopt.pyll import scope\n",
    "from hyperopt.pyll.stochastic import sample\n",
    "\n",
    "# model intepretation modules\n",
    "import eli5\n",
    "import shap\n",
    "import yellowbrick\n",
    "import lime\n",
    "import scikitplot\n",
    "\n",
    "# version\n",
    "%load_ext watermark\n",
    "%watermark -a \"Bhishan Poudel\" -d -v -m\n",
    "print()\n",
    "%watermark -iv"
   ]
  },
  {
   "cell_type": "code",
   "execution_count": 5,
   "metadata": {
    "ExecuteTime": {
     "end_time": "2021-08-09T23:27:22.864061Z",
     "start_time": "2021-08-09T23:27:21.134130Z"
    },
    "id": "ocBnXJtCFMCY"
   },
   "outputs": [],
   "source": [
    "# my local library\n",
    "import sys\n",
    "sys.path.append(\"/Users/poudel/Dropbox/a00_Bhishan_Modules/bhishan\")\n",
    "from bhishan import bp"
   ]
  },
  {
   "cell_type": "markdown",
   "metadata": {
    "id": "9K8cKDmzFKoP"
   },
   "source": [
    "# Useful Scripts"
   ]
  },
  {
   "cell_type": "code",
   "execution_count": 19,
   "metadata": {
    "ExecuteTime": {
     "end_time": "2021-08-09T23:31:19.673164Z",
     "start_time": "2021-08-09T23:31:19.664219Z"
    }
   },
   "outputs": [],
   "source": [
    "def get_profit(y_true, y_pred):\n",
    "    tn, fp, fn, tp = sklearn.metrics.confusion_matrix(y_true,y_pred).ravel()\n",
    "    profit = 400*tp - 200*fn - 100*fp\n",
    "    return profit\n",
    "\n",
    "# scoring = sklearn.metrics.make_scorer(get_profit, greater_is_better=True)\n",
    "\n",
    "#=========== for catboost\n",
    "class ProfitMetric:\n",
    "\n",
    "    @staticmethod\n",
    "    def get_profit(y_true, y_pred):\n",
    "        from scipy.special import expit\n",
    "\n",
    "        y_pred = expit(y_pred).astype(int)\n",
    "        y_true = y_true.astype(int)\n",
    "        tn, fp, fn, tp = confusion_matrix(y_true, y_pred).ravel()\n",
    "        loss = 400*tp - 200*fn - 100*fp\n",
    "        return loss\n",
    "    \n",
    "    def is_max_optimal(self):\n",
    "        return True # greater is better\n",
    "\n",
    "    def evaluate(self, approxes, target, weight):            \n",
    "        assert len(approxes) == 1\n",
    "        assert len(target) == len(approxes[0])\n",
    "        y_true = np.array(target).astype(int)\n",
    "        approx = approxes[0]\n",
    "        score = self.get_profit(y_true, approx)\n",
    "        return score, 1\n",
    "\n",
    "    def get_final_error(self, error, weight):\n",
    "        return error\n",
    "\n",
    "# model = CatBoostClassifier(metric_period=50,\n",
    "#   n_estimators=200,\n",
    "#   eval_metric=ProfitMetric()\n",
    "# )\n",
    "\n",
    "# model.fit(X, y, eval_set=(X_test, y_test))"
   ]
  },
  {
   "cell_type": "code",
   "execution_count": 38,
   "metadata": {
    "ExecuteTime": {
     "end_time": "2021-08-09T23:43:32.208553Z",
     "start_time": "2021-08-09T23:43:32.200681Z"
    },
    "id": "UUfr2Agl5kpJ"
   },
   "outputs": [],
   "source": [
    "def model_evaluation(model_name, desc, ser_ytest, yprobs1d,\n",
    "                     df_eval=None,threshold=0.5,\n",
    "                     show=True,col_sort='Recall'):\n",
    "    if df_eval is None:\n",
    "        df_eval = pd.DataFrame({'Model': [],\n",
    "                        'Description':[],\n",
    "                        'Accuracy':[],\n",
    "                        'Precision':[],\n",
    "                        'Recall':[],\n",
    "                        'F1':[],\n",
    "                        'AUC':[],\n",
    "                        'AUCPR':[],\n",
    "                    })\n",
    "\n",
    "    y_true = np.array(ser_ytest).flatten()\n",
    "    prec,rec,thr = sklearn.metrics.precision_recall_curve(y_true,yprobs1d)\n",
    "    auc_pr = sklearn.metrics.auc(rec,prec)\n",
    "    y_pred = (yprobs1d > threshold).astype(np.int8)\n",
    "\n",
    "    # model evaluation\n",
    "    average = 'binary'\n",
    "    row_eval = [model_name,desc, \n",
    "                sklearn.metrics.accuracy_score(y_true, y_pred),\n",
    "                sklearn.metrics.precision_score(y_true, y_pred, average=average),\n",
    "                sklearn.metrics.recall_score(y_true, y_pred, average=average),\n",
    "                sklearn.metrics.f1_score(y_true, y_pred, average=average),\n",
    "                sklearn.metrics.roc_auc_score(y_true, yprobs1d), # auc need probs\n",
    "                auc_pr\n",
    "                ]\n",
    "\n",
    "    df_eval.loc[len(df_eval)] = row_eval\n",
    "    df_eval = df_eval.drop_duplicates()\n",
    "    df_eval = df_eval.sort_values(col_sort,ascending=False)\n",
    "\n",
    "    if show:\n",
    "        display(df_eval.style.background_gradient(subset=[col_sort]))\n",
    "\n",
    "    return df_eval\n",
    "\n",
    "df_eval = None"
   ]
  },
  {
   "cell_type": "markdown",
   "metadata": {
    "id": "zXHhDh4TzzCj"
   },
   "source": [
    "# Load the data"
   ]
  },
  {
   "cell_type": "code",
   "execution_count": 8,
   "metadata": {
    "ExecuteTime": {
     "end_time": "2021-08-09T23:27:29.641212Z",
     "start_time": "2021-08-09T23:27:22.895577Z"
    },
    "colab": {
     "base_uri": "https://localhost:8080/",
     "height": 235
    },
    "id": "jPOJ1_zV0nrU",
    "outputId": "5990795c-366a-4856-f5cc-0282b5f07931"
   },
   "outputs": [
    {
     "name": "stdout",
     "output_type": "stream",
     "text": [
      "(284807, 31)\n"
     ]
    },
    {
     "data": {
      "text/html": [
       "<div>\n",
       "<style scoped>\n",
       "    .dataframe tbody tr th:only-of-type {\n",
       "        vertical-align: middle;\n",
       "    }\n",
       "\n",
       "    .dataframe tbody tr th {\n",
       "        vertical-align: top;\n",
       "    }\n",
       "\n",
       "    .dataframe thead th {\n",
       "        text-align: right;\n",
       "    }\n",
       "</style>\n",
       "<table border=\"1\" class=\"dataframe\">\n",
       "  <thead>\n",
       "    <tr style=\"text-align: right;\">\n",
       "      <th></th>\n",
       "      <th>Time</th>\n",
       "      <th>V1</th>\n",
       "      <th>V2</th>\n",
       "      <th>V3</th>\n",
       "      <th>V4</th>\n",
       "      <th>V5</th>\n",
       "      <th>V6</th>\n",
       "      <th>V7</th>\n",
       "      <th>V8</th>\n",
       "      <th>V9</th>\n",
       "      <th>V10</th>\n",
       "      <th>V11</th>\n",
       "      <th>V12</th>\n",
       "      <th>V13</th>\n",
       "      <th>V14</th>\n",
       "      <th>V15</th>\n",
       "      <th>V16</th>\n",
       "      <th>V17</th>\n",
       "      <th>V18</th>\n",
       "      <th>V19</th>\n",
       "      <th>V20</th>\n",
       "      <th>V21</th>\n",
       "      <th>V22</th>\n",
       "      <th>V23</th>\n",
       "      <th>V24</th>\n",
       "      <th>V25</th>\n",
       "      <th>V26</th>\n",
       "      <th>V27</th>\n",
       "      <th>V28</th>\n",
       "      <th>Amount</th>\n",
       "      <th>Class</th>\n",
       "    </tr>\n",
       "  </thead>\n",
       "  <tbody>\n",
       "    <tr>\n",
       "      <th>0</th>\n",
       "      <td>0.0</td>\n",
       "      <td>-1.359807</td>\n",
       "      <td>-0.072781</td>\n",
       "      <td>2.536347</td>\n",
       "      <td>1.378155</td>\n",
       "      <td>-0.338321</td>\n",
       "      <td>0.462388</td>\n",
       "      <td>0.239599</td>\n",
       "      <td>0.098698</td>\n",
       "      <td>0.363787</td>\n",
       "      <td>0.090794</td>\n",
       "      <td>-0.551600</td>\n",
       "      <td>-0.617801</td>\n",
       "      <td>-0.991390</td>\n",
       "      <td>-0.311169</td>\n",
       "      <td>1.468177</td>\n",
       "      <td>-0.470401</td>\n",
       "      <td>0.207971</td>\n",
       "      <td>0.025791</td>\n",
       "      <td>0.403993</td>\n",
       "      <td>0.251412</td>\n",
       "      <td>-0.018307</td>\n",
       "      <td>0.277838</td>\n",
       "      <td>-0.110474</td>\n",
       "      <td>0.066928</td>\n",
       "      <td>0.128539</td>\n",
       "      <td>-0.189115</td>\n",
       "      <td>0.133558</td>\n",
       "      <td>-0.021053</td>\n",
       "      <td>149.62</td>\n",
       "      <td>0</td>\n",
       "    </tr>\n",
       "    <tr>\n",
       "      <th>1</th>\n",
       "      <td>0.0</td>\n",
       "      <td>1.191857</td>\n",
       "      <td>0.266151</td>\n",
       "      <td>0.166480</td>\n",
       "      <td>0.448154</td>\n",
       "      <td>0.060018</td>\n",
       "      <td>-0.082361</td>\n",
       "      <td>-0.078803</td>\n",
       "      <td>0.085102</td>\n",
       "      <td>-0.255425</td>\n",
       "      <td>-0.166974</td>\n",
       "      <td>1.612727</td>\n",
       "      <td>1.065235</td>\n",
       "      <td>0.489095</td>\n",
       "      <td>-0.143772</td>\n",
       "      <td>0.635558</td>\n",
       "      <td>0.463917</td>\n",
       "      <td>-0.114805</td>\n",
       "      <td>-0.183361</td>\n",
       "      <td>-0.145783</td>\n",
       "      <td>-0.069083</td>\n",
       "      <td>-0.225775</td>\n",
       "      <td>-0.638672</td>\n",
       "      <td>0.101288</td>\n",
       "      <td>-0.339846</td>\n",
       "      <td>0.167170</td>\n",
       "      <td>0.125895</td>\n",
       "      <td>-0.008983</td>\n",
       "      <td>0.014724</td>\n",
       "      <td>2.69</td>\n",
       "      <td>0</td>\n",
       "    </tr>\n",
       "    <tr>\n",
       "      <th>2</th>\n",
       "      <td>1.0</td>\n",
       "      <td>-1.358354</td>\n",
       "      <td>-1.340163</td>\n",
       "      <td>1.773209</td>\n",
       "      <td>0.379780</td>\n",
       "      <td>-0.503198</td>\n",
       "      <td>1.800499</td>\n",
       "      <td>0.791461</td>\n",
       "      <td>0.247676</td>\n",
       "      <td>-1.514654</td>\n",
       "      <td>0.207643</td>\n",
       "      <td>0.624501</td>\n",
       "      <td>0.066084</td>\n",
       "      <td>0.717293</td>\n",
       "      <td>-0.165946</td>\n",
       "      <td>2.345865</td>\n",
       "      <td>-2.890083</td>\n",
       "      <td>1.109969</td>\n",
       "      <td>-0.121359</td>\n",
       "      <td>-2.261857</td>\n",
       "      <td>0.524980</td>\n",
       "      <td>0.247998</td>\n",
       "      <td>0.771679</td>\n",
       "      <td>0.909412</td>\n",
       "      <td>-0.689281</td>\n",
       "      <td>-0.327642</td>\n",
       "      <td>-0.139097</td>\n",
       "      <td>-0.055353</td>\n",
       "      <td>-0.059752</td>\n",
       "      <td>378.66</td>\n",
       "      <td>0</td>\n",
       "    </tr>\n",
       "    <tr>\n",
       "      <th>3</th>\n",
       "      <td>1.0</td>\n",
       "      <td>-0.966272</td>\n",
       "      <td>-0.185226</td>\n",
       "      <td>1.792993</td>\n",
       "      <td>-0.863291</td>\n",
       "      <td>-0.010309</td>\n",
       "      <td>1.247203</td>\n",
       "      <td>0.237609</td>\n",
       "      <td>0.377436</td>\n",
       "      <td>-1.387024</td>\n",
       "      <td>-0.054952</td>\n",
       "      <td>-0.226487</td>\n",
       "      <td>0.178228</td>\n",
       "      <td>0.507757</td>\n",
       "      <td>-0.287924</td>\n",
       "      <td>-0.631418</td>\n",
       "      <td>-1.059647</td>\n",
       "      <td>-0.684093</td>\n",
       "      <td>1.965775</td>\n",
       "      <td>-1.232622</td>\n",
       "      <td>-0.208038</td>\n",
       "      <td>-0.108300</td>\n",
       "      <td>0.005274</td>\n",
       "      <td>-0.190321</td>\n",
       "      <td>-1.175575</td>\n",
       "      <td>0.647376</td>\n",
       "      <td>-0.221929</td>\n",
       "      <td>0.062723</td>\n",
       "      <td>0.061458</td>\n",
       "      <td>123.50</td>\n",
       "      <td>0</td>\n",
       "    </tr>\n",
       "    <tr>\n",
       "      <th>4</th>\n",
       "      <td>2.0</td>\n",
       "      <td>-1.158233</td>\n",
       "      <td>0.877737</td>\n",
       "      <td>1.548718</td>\n",
       "      <td>0.403034</td>\n",
       "      <td>-0.407193</td>\n",
       "      <td>0.095921</td>\n",
       "      <td>0.592941</td>\n",
       "      <td>-0.270533</td>\n",
       "      <td>0.817739</td>\n",
       "      <td>0.753074</td>\n",
       "      <td>-0.822843</td>\n",
       "      <td>0.538196</td>\n",
       "      <td>1.345852</td>\n",
       "      <td>-1.119670</td>\n",
       "      <td>0.175121</td>\n",
       "      <td>-0.451449</td>\n",
       "      <td>-0.237033</td>\n",
       "      <td>-0.038195</td>\n",
       "      <td>0.803487</td>\n",
       "      <td>0.408542</td>\n",
       "      <td>-0.009431</td>\n",
       "      <td>0.798278</td>\n",
       "      <td>-0.137458</td>\n",
       "      <td>0.141267</td>\n",
       "      <td>-0.206010</td>\n",
       "      <td>0.502292</td>\n",
       "      <td>0.219422</td>\n",
       "      <td>0.215153</td>\n",
       "      <td>69.99</td>\n",
       "      <td>0</td>\n",
       "    </tr>\n",
       "  </tbody>\n",
       "</table>\n",
       "</div>"
      ],
      "text/plain": [
       "   Time        V1        V2        V3        V4        V5        V6        V7  \\\n",
       "0   0.0 -1.359807 -0.072781  2.536347  1.378155 -0.338321  0.462388  0.239599   \n",
       "1   0.0  1.191857  0.266151  0.166480  0.448154  0.060018 -0.082361 -0.078803   \n",
       "2   1.0 -1.358354 -1.340163  1.773209  0.379780 -0.503198  1.800499  0.791461   \n",
       "3   1.0 -0.966272 -0.185226  1.792993 -0.863291 -0.010309  1.247203  0.237609   \n",
       "4   2.0 -1.158233  0.877737  1.548718  0.403034 -0.407193  0.095921  0.592941   \n",
       "\n",
       "         V8        V9       V10       V11       V12       V13       V14  \\\n",
       "0  0.098698  0.363787  0.090794 -0.551600 -0.617801 -0.991390 -0.311169   \n",
       "1  0.085102 -0.255425 -0.166974  1.612727  1.065235  0.489095 -0.143772   \n",
       "2  0.247676 -1.514654  0.207643  0.624501  0.066084  0.717293 -0.165946   \n",
       "3  0.377436 -1.387024 -0.054952 -0.226487  0.178228  0.507757 -0.287924   \n",
       "4 -0.270533  0.817739  0.753074 -0.822843  0.538196  1.345852 -1.119670   \n",
       "\n",
       "        V15       V16       V17       V18       V19       V20       V21  \\\n",
       "0  1.468177 -0.470401  0.207971  0.025791  0.403993  0.251412 -0.018307   \n",
       "1  0.635558  0.463917 -0.114805 -0.183361 -0.145783 -0.069083 -0.225775   \n",
       "2  2.345865 -2.890083  1.109969 -0.121359 -2.261857  0.524980  0.247998   \n",
       "3 -0.631418 -1.059647 -0.684093  1.965775 -1.232622 -0.208038 -0.108300   \n",
       "4  0.175121 -0.451449 -0.237033 -0.038195  0.803487  0.408542 -0.009431   \n",
       "\n",
       "        V22       V23       V24       V25       V26       V27       V28  \\\n",
       "0  0.277838 -0.110474  0.066928  0.128539 -0.189115  0.133558 -0.021053   \n",
       "1 -0.638672  0.101288 -0.339846  0.167170  0.125895 -0.008983  0.014724   \n",
       "2  0.771679  0.909412 -0.689281 -0.327642 -0.139097 -0.055353 -0.059752   \n",
       "3  0.005274 -0.190321 -1.175575  0.647376 -0.221929  0.062723  0.061458   \n",
       "4  0.798278 -0.137458  0.141267 -0.206010  0.502292  0.219422  0.215153   \n",
       "\n",
       "   Amount  Class  \n",
       "0  149.62      0  \n",
       "1    2.69      0  \n",
       "2  378.66      0  \n",
       "3  123.50      0  \n",
       "4   69.99      0  "
      ]
     },
     "execution_count": 8,
     "metadata": {},
     "output_type": "execute_result"
    }
   ],
   "source": [
    "ifile = 'https://github.com/bhishanpdl/Datasets/blob/master/Projects/Fraud_detection/raw/creditcard.csv.zip?raw=true'\n",
    "df = pd.read_csv(ifile,compression='zip')\n",
    "print(df.shape)\n",
    "df.head()"
   ]
  },
  {
   "cell_type": "code",
   "execution_count": 9,
   "metadata": {
    "ExecuteTime": {
     "end_time": "2021-08-09T23:27:29.659770Z",
     "start_time": "2021-08-09T23:27:29.646369Z"
    },
    "colab": {
     "base_uri": "https://localhost:8080/",
     "height": 70
    },
    "id": "Q2xN1zIZ0_k-",
    "outputId": "0c5204f3-5b74-48e2-b9dd-338b44d60f0f"
   },
   "outputs": [
    {
     "data": {
      "text/plain": [
       "0    99.827251\n",
       "1     0.172749\n",
       "Name: Class, dtype: float64"
      ]
     },
     "execution_count": 9,
     "metadata": {},
     "output_type": "execute_result"
    }
   ],
   "source": [
    "target = 'Class'\n",
    "features = df.columns.drop(target)\n",
    "df[target].value_counts(normalize=True)*100"
   ]
  },
  {
   "cell_type": "code",
   "execution_count": 10,
   "metadata": {
    "ExecuteTime": {
     "end_time": "2021-08-09T23:27:29.922083Z",
     "start_time": "2021-08-09T23:27:29.672384Z"
    },
    "colab": {
     "base_uri": "https://localhost:8080/",
     "height": 305
    },
    "id": "uesTlRDE47sA",
    "outputId": "95ff2bf9-ec3f-4735-ee87-b1b672fb34ae"
   },
   "outputs": [
    {
     "data": {
      "text/plain": [
       "<matplotlib.axes._subplots.AxesSubplot at 0x7f93e2f94550>"
      ]
     },
     "execution_count": 10,
     "metadata": {},
     "output_type": "execute_result"
    },
    {
     "data": {
      "image/png": "[encoded data removed]",
      "text/plain": [
       "<Figure size 576x396 with 1 Axes>"
      ]
     },
     "metadata": {},
     "output_type": "display_data"
    }
   ],
   "source": [
    "sns.countplot(x=df[target])"
   ]
  },
  {
   "cell_type": "markdown",
   "metadata": {
    "id": "fTvH3c6a1D8m"
   },
   "source": [
    "# Train test split with stratify"
   ]
  },
  {
   "cell_type": "code",
   "execution_count": 11,
   "metadata": {
    "ExecuteTime": {
     "end_time": "2021-08-09T23:27:30.166254Z",
     "start_time": "2021-08-09T23:27:29.924901Z"
    },
    "colab": {
     "base_uri": "https://localhost:8080/",
     "height": 235
    },
    "id": "1AH6lRaO1H-4",
    "outputId": "4aab4acf-7c24-4d25-b75a-7f5b57c3f203"
   },
   "outputs": [
    {
     "name": "stdout",
     "output_type": "stream",
     "text": [
      "(227845, 30)\n"
     ]
    },
    {
     "data": {
      "text/html": [
       "<div>\n",
       "<style scoped>\n",
       "    .dataframe tbody tr th:only-of-type {\n",
       "        vertical-align: middle;\n",
       "    }\n",
       "\n",
       "    .dataframe tbody tr th {\n",
       "        vertical-align: top;\n",
       "    }\n",
       "\n",
       "    .dataframe thead th {\n",
       "        text-align: right;\n",
       "    }\n",
       "</style>\n",
       "<table border=\"1\" class=\"dataframe\">\n",
       "  <thead>\n",
       "    <tr style=\"text-align: right;\">\n",
       "      <th></th>\n",
       "      <th>Time</th>\n",
       "      <th>V1</th>\n",
       "      <th>V2</th>\n",
       "      <th>V3</th>\n",
       "      <th>V4</th>\n",
       "      <th>V5</th>\n",
       "      <th>V6</th>\n",
       "      <th>V7</th>\n",
       "      <th>V8</th>\n",
       "      <th>V9</th>\n",
       "      <th>V10</th>\n",
       "      <th>V11</th>\n",
       "      <th>V12</th>\n",
       "      <th>V13</th>\n",
       "      <th>V14</th>\n",
       "      <th>V15</th>\n",
       "      <th>V16</th>\n",
       "      <th>V17</th>\n",
       "      <th>V18</th>\n",
       "      <th>V19</th>\n",
       "      <th>V20</th>\n",
       "      <th>V21</th>\n",
       "      <th>V22</th>\n",
       "      <th>V23</th>\n",
       "      <th>V24</th>\n",
       "      <th>V25</th>\n",
       "      <th>V26</th>\n",
       "      <th>V27</th>\n",
       "      <th>V28</th>\n",
       "      <th>Amount</th>\n",
       "    </tr>\n",
       "  </thead>\n",
       "  <tbody>\n",
       "    <tr>\n",
       "      <th>36001</th>\n",
       "      <td>38355.0</td>\n",
       "      <td>1.043949</td>\n",
       "      <td>0.318555</td>\n",
       "      <td>1.045810</td>\n",
       "      <td>2.805989</td>\n",
       "      <td>-0.561113</td>\n",
       "      <td>-0.367956</td>\n",
       "      <td>0.032736</td>\n",
       "      <td>-0.042333</td>\n",
       "      <td>-0.322674</td>\n",
       "      <td>0.499167</td>\n",
       "      <td>-0.572665</td>\n",
       "      <td>0.346009</td>\n",
       "      <td>-0.047407</td>\n",
       "      <td>-0.098964</td>\n",
       "      <td>-0.663284</td>\n",
       "      <td>0.181411</td>\n",
       "      <td>-0.124345</td>\n",
       "      <td>-0.790453</td>\n",
       "      <td>-0.720944</td>\n",
       "      <td>-0.084556</td>\n",
       "      <td>-0.240105</td>\n",
       "      <td>-0.680315</td>\n",
       "      <td>0.085328</td>\n",
       "      <td>0.684812</td>\n",
       "      <td>0.318620</td>\n",
       "      <td>-0.204963</td>\n",
       "      <td>0.001662</td>\n",
       "      <td>0.037894</td>\n",
       "      <td>49.67</td>\n",
       "    </tr>\n",
       "    <tr>\n",
       "      <th>12844</th>\n",
       "      <td>22555.0</td>\n",
       "      <td>-1.665159</td>\n",
       "      <td>0.808440</td>\n",
       "      <td>1.805627</td>\n",
       "      <td>1.903416</td>\n",
       "      <td>-0.821627</td>\n",
       "      <td>0.934790</td>\n",
       "      <td>-0.824802</td>\n",
       "      <td>0.975890</td>\n",
       "      <td>1.747469</td>\n",
       "      <td>-0.658751</td>\n",
       "      <td>1.281502</td>\n",
       "      <td>-1.430087</td>\n",
       "      <td>0.372028</td>\n",
       "      <td>1.403024</td>\n",
       "      <td>-2.739413</td>\n",
       "      <td>-1.331766</td>\n",
       "      <td>1.964590</td>\n",
       "      <td>-0.205639</td>\n",
       "      <td>1.325588</td>\n",
       "      <td>-0.373759</td>\n",
       "      <td>-0.335332</td>\n",
       "      <td>-0.510994</td>\n",
       "      <td>0.035839</td>\n",
       "      <td>0.147565</td>\n",
       "      <td>-0.529358</td>\n",
       "      <td>-0.566950</td>\n",
       "      <td>-0.595998</td>\n",
       "      <td>-0.220086</td>\n",
       "      <td>16.94</td>\n",
       "    </tr>\n",
       "    <tr>\n",
       "      <th>2873</th>\n",
       "      <td>2431.0</td>\n",
       "      <td>-0.324096</td>\n",
       "      <td>0.601836</td>\n",
       "      <td>0.865329</td>\n",
       "      <td>-2.138000</td>\n",
       "      <td>0.294663</td>\n",
       "      <td>-1.251553</td>\n",
       "      <td>1.072114</td>\n",
       "      <td>-0.334896</td>\n",
       "      <td>1.071268</td>\n",
       "      <td>-1.109522</td>\n",
       "      <td>-1.016020</td>\n",
       "      <td>-0.654945</td>\n",
       "      <td>-1.473470</td>\n",
       "      <td>0.317345</td>\n",
       "      <td>1.067491</td>\n",
       "      <td>-0.372642</td>\n",
       "      <td>-0.674725</td>\n",
       "      <td>0.369841</td>\n",
       "      <td>0.095583</td>\n",
       "      <td>-0.039868</td>\n",
       "      <td>0.012220</td>\n",
       "      <td>0.352856</td>\n",
       "      <td>-0.341505</td>\n",
       "      <td>-0.145791</td>\n",
       "      <td>0.094194</td>\n",
       "      <td>-0.804026</td>\n",
       "      <td>0.229428</td>\n",
       "      <td>-0.021623</td>\n",
       "      <td>1.00</td>\n",
       "    </tr>\n",
       "    <tr>\n",
       "      <th>145263</th>\n",
       "      <td>86773.0</td>\n",
       "      <td>-0.258270</td>\n",
       "      <td>1.217501</td>\n",
       "      <td>-0.585348</td>\n",
       "      <td>-0.875347</td>\n",
       "      <td>1.222481</td>\n",
       "      <td>-0.311027</td>\n",
       "      <td>1.073860</td>\n",
       "      <td>-0.161408</td>\n",
       "      <td>0.200665</td>\n",
       "      <td>0.154307</td>\n",
       "      <td>0.882673</td>\n",
       "      <td>0.547890</td>\n",
       "      <td>0.269484</td>\n",
       "      <td>-1.253302</td>\n",
       "      <td>-0.883963</td>\n",
       "      <td>0.495221</td>\n",
       "      <td>-0.153212</td>\n",
       "      <td>0.296710</td>\n",
       "      <td>0.136148</td>\n",
       "      <td>0.382305</td>\n",
       "      <td>-0.424626</td>\n",
       "      <td>-0.781158</td>\n",
       "      <td>0.019316</td>\n",
       "      <td>0.178614</td>\n",
       "      <td>-0.315616</td>\n",
       "      <td>0.096665</td>\n",
       "      <td>0.269740</td>\n",
       "      <td>-0.020635</td>\n",
       "      <td>10.78</td>\n",
       "    </tr>\n",
       "    <tr>\n",
       "      <th>186658</th>\n",
       "      <td>127202.0</td>\n",
       "      <td>2.142162</td>\n",
       "      <td>-0.494988</td>\n",
       "      <td>-1.936511</td>\n",
       "      <td>-0.818288</td>\n",
       "      <td>-0.025213</td>\n",
       "      <td>-1.027245</td>\n",
       "      <td>-0.151627</td>\n",
       "      <td>-0.305750</td>\n",
       "      <td>-0.869482</td>\n",
       "      <td>0.428729</td>\n",
       "      <td>1.136666</td>\n",
       "      <td>0.273476</td>\n",
       "      <td>0.697123</td>\n",
       "      <td>-1.222134</td>\n",
       "      <td>-0.938820</td>\n",
       "      <td>1.298149</td>\n",
       "      <td>0.912921</td>\n",
       "      <td>-0.793721</td>\n",
       "      <td>1.064984</td>\n",
       "      <td>0.106592</td>\n",
       "      <td>0.010115</td>\n",
       "      <td>0.021722</td>\n",
       "      <td>0.079463</td>\n",
       "      <td>-0.480899</td>\n",
       "      <td>0.023846</td>\n",
       "      <td>-0.279076</td>\n",
       "      <td>-0.030121</td>\n",
       "      <td>-0.043888</td>\n",
       "      <td>39.96</td>\n",
       "    </tr>\n",
       "  </tbody>\n",
       "</table>\n",
       "</div>"
      ],
      "text/plain": [
       "            Time        V1        V2        V3        V4        V5        V6  \\\n",
       "36001    38355.0  1.043949  0.318555  1.045810  2.805989 -0.561113 -0.367956   \n",
       "12844    22555.0 -1.665159  0.808440  1.805627  1.903416 -0.821627  0.934790   \n",
       "2873      2431.0 -0.324096  0.601836  0.865329 -2.138000  0.294663 -1.251553   \n",
       "145263   86773.0 -0.258270  1.217501 -0.585348 -0.875347  1.222481 -0.311027   \n",
       "186658  127202.0  2.142162 -0.494988 -1.936511 -0.818288 -0.025213 -1.027245   \n",
       "\n",
       "              V7        V8        V9       V10       V11       V12       V13  \\\n",
       "36001   0.032736 -0.042333 -0.322674  0.499167 -0.572665  0.346009 -0.047407   \n",
       "12844  -0.824802  0.975890  1.747469 -0.658751  1.281502 -1.430087  0.372028   \n",
       "2873    1.072114 -0.334896  1.071268 -1.109522 -1.016020 -0.654945 -1.473470   \n",
       "145263  1.073860 -0.161408  0.200665  0.154307  0.882673  0.547890  0.269484   \n",
       "186658 -0.151627 -0.305750 -0.869482  0.428729  1.136666  0.273476  0.697123   \n",
       "\n",
       "             V14       V15       V16       V17       V18       V19       V20  \\\n",
       "36001  -0.098964 -0.663284  0.181411 -0.124345 -0.790453 -0.720944 -0.084556   \n",
       "12844   1.403024 -2.739413 -1.331766  1.964590 -0.205639  1.325588 -0.373759   \n",
       "2873    0.317345  1.067491 -0.372642 -0.674725  0.369841  0.095583 -0.039868   \n",
       "145263 -1.253302 -0.883963  0.495221 -0.153212  0.296710  0.136148  0.382305   \n",
       "186658 -1.222134 -0.938820  1.298149  0.912921 -0.793721  1.064984  0.106592   \n",
       "\n",
       "             V21       V22       V23       V24       V25       V26       V27  \\\n",
       "36001  -0.240105 -0.680315  0.085328  0.684812  0.318620 -0.204963  0.001662   \n",
       "12844  -0.335332 -0.510994  0.035839  0.147565 -0.529358 -0.566950 -0.595998   \n",
       "2873    0.012220  0.352856 -0.341505 -0.145791  0.094194 -0.804026  0.229428   \n",
       "145263 -0.424626 -0.781158  0.019316  0.178614 -0.315616  0.096665  0.269740   \n",
       "186658  0.010115  0.021722  0.079463 -0.480899  0.023846 -0.279076 -0.030121   \n",
       "\n",
       "             V28  Amount  \n",
       "36001   0.037894   49.67  \n",
       "12844  -0.220086   16.94  \n",
       "2873   -0.021623    1.00  \n",
       "145263 -0.020635   10.78  \n",
       "186658 -0.043888   39.96  "
      ]
     },
     "execution_count": 11,
     "metadata": {},
     "output_type": "execute_result"
    }
   ],
   "source": [
    "from sklearn.model_selection import train_test_split\n",
    "\n",
    "df_Xtrain_orig, df_Xtest, ser_ytrain_orig, ser_ytest = train_test_split(\n",
    "    df.drop(target,axis=1), \n",
    "    df[target],\n",
    "    test_size=0.2, \n",
    "    random_state=SEED, \n",
    "    stratify=df[target])\n",
    "\n",
    "ytrain_orig = ser_ytrain_orig.to_numpy().ravel()\n",
    "ytest = ser_ytest.to_numpy().ravel()\n",
    "\n",
    "print(df_Xtrain_orig.shape)\n",
    "df_Xtrain_orig.head()"
   ]
  },
  {
   "cell_type": "markdown",
   "metadata": {
    "id": "dzb7P4ZdM3c2"
   },
   "source": [
    "# Train Validation with stratify"
   ]
  },
  {
   "cell_type": "code",
   "execution_count": 12,
   "metadata": {
    "ExecuteTime": {
     "end_time": "2021-08-09T23:27:30.338201Z",
     "start_time": "2021-08-09T23:27:30.169312Z"
    },
    "colab": {
     "base_uri": "https://localhost:8080/",
     "height": 34
    },
    "id": "I96itfQwM7qD",
    "outputId": "476aed36-9ecd-46e6-ca76-e12f545a18eb"
   },
   "outputs": [
    {
     "name": "stdout",
     "output_type": "stream",
     "text": [
      "(182276, 30)\n"
     ]
    }
   ],
   "source": [
    "df_Xtrain, df_Xvalid, ser_ytrain, ser_yvalid = train_test_split(\n",
    "    df_Xtrain_orig, \n",
    "    ser_ytrain_orig,\n",
    "    test_size=0.2, \n",
    "    random_state=SEED, \n",
    "    stratify=ser_ytrain_orig)\n",
    "\n",
    "ytrain = ser_ytrain.to_numpy().ravel()\n",
    "yvalid = ser_yvalid.to_numpy().ravel()\n",
    "\n",
    "print(df_Xtrain.shape)"
   ]
  },
  {
   "cell_type": "markdown",
   "metadata": {
    "id": "33N72LeW1LO7"
   },
   "source": [
    "# Modelling catboost\n",
    "https://catboost.ai/docs/concepts/python-reference_catboostregressor.html\n",
    "\n",
    "```python\n",
    "class CatBoostRegressor(\n",
    "    \n",
    "iterations=None,                 learning_rate=None,\n",
    "depth=None,                      l2_leaf_reg=None,\n",
    "model_size_reg=None,             rsm=None,\n",
    "loss_function='RMSE',            border_count=None,\n",
    "feature_border_type=None,        per_float_feature_quantization=None,\n",
    "input_borders=None,              output_borders=None,\n",
    "fold_permutation_block=None,     od_pval=None,\n",
    "od_wait=None,                    od_type=None,\n",
    "nan_mode=None,                   counter_calc_method=None,\n",
    "leaf_estimation_iterations=None, leaf_estimation_method=None,\n",
    "thread_count=None,               random_seed=None,\n",
    "use_best_model=None,             best_model_min_trees=None,\n",
    "verbose=None,                    silent=None,\n",
    "logging_level=None,              metric_period=None,\n",
    "ctr_leaf_count_limit=None,       store_all_simple_ctr=None,\n",
    "max_ctr_complexity=None,         has_time=None,\n",
    "allow_const_label=None,          one_hot_max_size=None,\n",
    "random_strength=None,name=None,  ignored_features=None,\n",
    "train_dir=None,                  custom_metric=None,\n",
    "eval_metric=None,                bagging_temperature=None,\n",
    "save_snapshot=None,              snapshot_file=None,\n",
    "snapshot_interval=None,          fold_len_multiplier=None,\n",
    "used_ram_limit=None,             gpu_ram_part=None,\n",
    "pinned_memory_size=None,         allow_writing_files=None,\n",
    "final_ctr_computation_mode=None, approx_on_full_history=None,\n",
    "boosting_type=None,              simple_ctr=None,\n",
    "combinations_ctr=None,           per_feature_ctr=None,\n",
    "ctr_target_border_count=None,    task_type=None,\n",
    "device_config=None,              devices=None,\n",
    "bootstrap_type=None,             subsample=None,\n",
    "sampling_unit=None,              dev_score_calc_obj_block_size=None,\n",
    "max_depth=None,                  n_estimators=None,\n",
    "num_boost_round=None,            num_trees=None,\n",
    "colsample_bylevel=None,          random_state=None,\n",
    "reg_lambda=None,                 objective=None,\n",
    "eta=None,                        max_bin=None,\n",
    "gpu_cat_features_storage=None,   data_partition=None,\n",
    "metadata=None,                   early_stopping_rounds=None,\n",
    "cat_features=None,               grow_policy=None,\n",
    "min_data_in_leaf=None,           min_child_samples=None,\n",
    "max_leaves=None,                 num_leaves=None,\n",
    "score_function=None,             leaf_estimation_backtracking=None,\n",
    "ctr_history_unit=None,           monotone_constraints=None\n",
    ")\n",
    "```"
   ]
  },
  {
   "cell_type": "code",
   "execution_count": 23,
   "metadata": {
    "ExecuteTime": {
     "end_time": "2021-08-09T23:35:34.317279Z",
     "start_time": "2021-08-09T23:35:34.142680Z"
    },
    "colab": {
     "base_uri": "https://localhost:8080/",
     "height": 177
    },
    "id": "MGzErelS7eIS",
    "outputId": "e46a21bc-2422-47ce-c471-1918fe7c73e2"
   },
   "outputs": [
    {
     "name": "stdout",
     "output_type": "stream",
     "text": [
      "confusion matrix\n",
      " [[56859     5]\n",
      " [   24    74]]\n",
      "CPU times: user 152 ms, sys: 3.76 ms, total: 156 ms\n",
      "Wall time: 168 ms\n"
     ]
    }
   ],
   "source": [
    "%%time\n",
    "model = CatBoostClassifier(verbose=100,random_state=SEED,\n",
    "                          eval_metric=ProfitMetric())\n",
    "model.fit(df_Xtrain,ser_ytrain)\n",
    "\n",
    "ypreds = model.predict(df_Xtest)\n",
    "\n",
    "cm = sklearn.metrics.confusion_matrix(np.array(ser_ytest),ypreds)\n",
    "print('confusion matrix\\n',cm)"
   ]
  },
  {
   "cell_type": "code",
   "execution_count": 25,
   "metadata": {
    "ExecuteTime": {
     "end_time": "2021-08-09T23:35:49.562928Z",
     "start_time": "2021-08-09T23:35:49.515126Z"
    }
   },
   "outputs": [
    {
     "name": "stdout",
     "output_type": "stream",
     "text": [
      "profit = $24,300\n"
     ]
    }
   ],
   "source": [
    "profit = get_profit(ser_ytest, ypreds)\n",
    "print(f\"profit = ${profit:,}\")"
   ]
  },
  {
   "cell_type": "code",
   "execution_count": 32,
   "metadata": {
    "ExecuteTime": {
     "end_time": "2021-08-09T23:38:42.390526Z",
     "start_time": "2021-08-09T23:38:42.335080Z"
    },
    "colab": {
     "base_uri": "https://localhost:8080/",
     "height": 105
    },
    "id": "OzKB0uCC8FGv",
    "outputId": "5047c00e-6978-432c-d49c-29a47b5371d4"
   },
   "outputs": [
    {
     "name": "stdout",
     "output_type": "stream",
     "text": [
      "[[9.99998192e-01 1.80796544e-06]\n",
      " [9.99932577e-01 6.74226697e-05]\n",
      " [9.99998670e-01 1.32969613e-06]\n",
      " [9.99996711e-01 3.28938804e-06]\n",
      " [9.99994773e-01 5.22686104e-06]]\n"
     ]
    }
   ],
   "source": [
    "yprobs = model.predict_proba(df_Xtest)\n",
    "print(yprobs[:5])"
   ]
  },
  {
   "cell_type": "code",
   "execution_count": 33,
   "metadata": {
    "ExecuteTime": {
     "end_time": "2021-08-09T23:38:51.053987Z",
     "start_time": "2021-08-09T23:38:51.051205Z"
    }
   },
   "outputs": [],
   "source": [
    "yprobs1d = yprobs[:,1]"
   ]
  },
  {
   "cell_type": "code",
   "execution_count": 40,
   "metadata": {
    "ExecuteTime": {
     "end_time": "2021-08-09T23:43:47.530537Z",
     "start_time": "2021-08-09T23:43:47.441245Z"
    }
   },
   "outputs": [
    {
     "data": {
      "text/html": [
       "<style type=\"text/css\">\n",
       "#T_ecabc_row0_col4 {\n",
       "  background-color: #fff7fb;\n",
       "  color: #000000;\n",
       "}\n",
       "</style>\n",
       "<table id=\"T_ecabc_\">\n",
       "  <thead>\n",
       "    <tr>\n",
       "      <th class=\"blank level0\" >&nbsp;</th>\n",
       "      <th class=\"col_heading level0 col0\" >Model</th>\n",
       "      <th class=\"col_heading level0 col1\" >Description</th>\n",
       "      <th class=\"col_heading level0 col2\" >Accuracy</th>\n",
       "      <th class=\"col_heading level0 col3\" >Precision</th>\n",
       "      <th class=\"col_heading level0 col4\" >Recall</th>\n",
       "      <th class=\"col_heading level0 col5\" >F1</th>\n",
       "      <th class=\"col_heading level0 col6\" >AUC</th>\n",
       "      <th class=\"col_heading level0 col7\" >AUCPR</th>\n",
       "    </tr>\n",
       "  </thead>\n",
       "  <tbody>\n",
       "    <tr>\n",
       "      <th id=\"T_ecabc_level0_row0\" class=\"row_heading level0 row0\" >0</th>\n",
       "      <td id=\"T_ecabc_row0_col0\" class=\"data row0 col0\" >xgb</td>\n",
       "      <td id=\"T_ecabc_row0_col1\" class=\"data row0 col1\" >custom loss</td>\n",
       "      <td id=\"T_ecabc_row0_col2\" class=\"data row0 col2\" >0.999491</td>\n",
       "      <td id=\"T_ecabc_row0_col3\" class=\"data row0 col3\" >0.936709</td>\n",
       "      <td id=\"T_ecabc_row0_col4\" class=\"data row0 col4\" >0.755102</td>\n",
       "      <td id=\"T_ecabc_row0_col5\" class=\"data row0 col5\" >0.836158</td>\n",
       "      <td id=\"T_ecabc_row0_col6\" class=\"data row0 col6\" >0.987990</td>\n",
       "      <td id=\"T_ecabc_row0_col7\" class=\"data row0 col7\" >0.848748</td>\n",
       "    </tr>\n",
       "  </tbody>\n",
       "</table>\n"
      ],
      "text/plain": [
       "<pandas.io.formats.style.Styler at 0x7f93dced3ed0>"
      ]
     },
     "metadata": {},
     "output_type": "display_data"
    }
   ],
   "source": [
    "df_eval = model_evaluation('xgb', 'custom loss', ser_ytest, yprobs1d)"
   ]
  },
  {
   "cell_type": "code",
   "execution_count": 28,
   "metadata": {
    "ExecuteTime": {
     "end_time": "2021-08-09T23:36:05.834002Z",
     "start_time": "2021-08-09T23:36:05.577457Z"
    },
    "colab": {
     "base_uri": "https://localhost:8080/",
     "height": 325
    },
    "id": "0JI4pzI48bsr",
    "outputId": "55fa1940-82ac-4f5b-c78c-b357ce5d17f8"
   },
   "outputs": [
    {
     "data": {
      "text/plain": [
       "<matplotlib.axes._subplots.AxesSubplot at 0x7f93d228c050>"
      ]
     },
     "execution_count": 28,
     "metadata": {},
     "output_type": "execute_result"
    },
    {
     "data": {
      "image/png": "[encoded data removed]",
      "text/plain": [
       "<Figure size 576x396 with 2 Axes>"
      ]
     },
     "metadata": {},
     "output_type": "display_data"
    }
   ],
   "source": [
    "from scikitplot import metrics as skpmetrics\n",
    "\n",
    "skpmetrics.plot_confusion_matrix(ser_ytest, ypreds)"
   ]
  },
  {
   "cell_type": "code",
   "execution_count": 30,
   "metadata": {
    "ExecuteTime": {
     "end_time": "2021-08-09T23:36:28.044728Z",
     "start_time": "2021-08-09T23:36:27.738565Z"
    },
    "colab": {
     "base_uri": "https://localhost:8080/",
     "height": 543
    },
    "id": "CYwAWmsT8byW",
    "outputId": "0c4c1bfa-5777-4e30-f49a-250d668c7beb"
   },
   "outputs": [
    {
     "data": {
      "text/plain": [
       "<matplotlib.axes._subplots.AxesSubplot at 0x7f93d2415fd0>"
      ]
     },
     "execution_count": 30,
     "metadata": {},
     "output_type": "execute_result"
    },
    {
     "data": {
      "image/png": "[encoded data removed]",
      "text/plain": [
       "<Figure size 864x576 with 1 Axes>"
      ]
     },
     "metadata": {},
     "output_type": "display_data"
    }
   ],
   "source": [
    "fig, ax = plt.subplots(figsize=(12,8))\n",
    "skpmetrics.plot_roc(ser_ytest,yprobs,ax=ax)"
   ]
  },
  {
   "cell_type": "markdown",
   "metadata": {
    "id": "zOvba3qwyGP7"
   },
   "source": [
    "# Time Taken"
   ]
  },
  {
   "cell_type": "code",
   "execution_count": 31,
   "metadata": {
    "ExecuteTime": {
     "end_time": "2021-08-09T23:36:32.222147Z",
     "start_time": "2021-08-09T23:36:32.214551Z"
    },
    "colab": {
     "base_uri": "https://localhost:8080/",
     "height": 34
    },
    "id": "gO8b8czkyGP7",
    "outputId": "91700a75-fe16-4a22-b840-af3681c64a0f"
   },
   "outputs": [
    {
     "name": "stdout",
     "output_type": "stream",
     "text": [
      "Time taken to run whole noteook: 0 hr 9 min 21 secs\n"
     ]
    }
   ],
   "source": [
    "notebook_end_time = time.time()\n",
    "time_taken = time.time() - notebook_start_time\n",
    "h,m = divmod(time_taken,60*60)\n",
    "print('Time taken to run whole noteook: {:.0f} hr {:.0f} min {:.0f} secs'.format(h, *divmod(m,60)))"
   ]
  },
  {
   "cell_type": "code",
   "execution_count": null,
   "metadata": {},
   "outputs": [],
   "source": []
  }
 ],
 "metadata": {
  "colab": {
   "collapsed_sections": [],
   "name": "b08_classification_modelling_boosting_catboost.ipynb",
   "provenance": []
  },
  "kernelspec": {
   "display_name": "Python (dataSc)",
   "language": "python",
   "name": "datasc"
  },
  "language_info": {
   "codemirror_mode": {
    "name": "ipython",
    "version": 3
   },
   "file_extension": ".py",
   "mimetype": "text/x-python",
   "name": "python",
   "nbconvert_exporter": "python",
   "pygments_lexer": "ipython3",
   "version": "3.7.7"
  },
  "toc": {
   "base_numbering": 1,
   "nav_menu": {},
   "number_sections": true,
   "sideBar": true,
   "skip_h1_title": false,
   "title_cell": "Table of Contents",
   "title_sidebar": "Contents",
   "toc_cell": true,
   "toc_position": {},
   "toc_section_display": true,
   "toc_window_display": false
  },
  "varInspector": {
   "cols": {
    "lenName": 16,
    "lenType": 16,
    "lenVar": 40
   },
   "kernels_config": {
    "python": {
     "delete_cmd_postfix": "",
     "delete_cmd_prefix": "del ",
     "library": "var_list.py",
     "varRefreshCmd": "print(var_dic_list())"
    },
    "r": {
     "delete_cmd_postfix": ") ",
     "delete_cmd_prefix": "rm(",
     "library": "var_list.r",
     "varRefreshCmd": "cat(var_dic_list()) "
    }
   },
   "types_to_exclude": [
    "module",
    "function",
    "builtin_function_or_method",
    "instance",
    "_Feature"
   ],
   "window_display": false
  },
  "widgets": {
   "application/vnd.jupyter.widget-state+json": {
    "3326f0f7907445c08365eaefbb33fe8a": {
     "model_module": "@jupyter-widgets/base",
     "model_name": "LayoutModel",
     "state": {
      "_model_module": "@jupyter-widgets/base",
      "_model_module_version": "1.2.0",
      "_model_name": "LayoutModel",
      "_view_count": null,
      "_view_module": "@jupyter-widgets/base",
      "_view_module_version": "1.2.0",
      "_view_name": "LayoutView",
      "align_content": null,
      "align_items": null,
      "align_self": "stretch",
      "border": null,
      "bottom": null,
      "display": null,
      "flex": null,
      "flex_flow": null,
      "grid_area": null,
      "grid_auto_columns": null,
      "grid_auto_flow": null,
      "grid_auto_rows": null,
      "grid_column": null,
      "grid_gap": null,
      "grid_row": null,
      "grid_template_areas": null,
      "grid_template_columns": null,
      "grid_template_rows": null,
      "height": "500px",
      "justify_content": null,
      "justify_items": null,
      "left": null,
      "margin": null,
      "max_height": null,
      "max_width": null,
      "min_height": null,
      "min_width": null,
      "object_fit": null,
      "object_position": null,
      "order": null,
      "overflow": null,
      "overflow_x": null,
      "overflow_y": null,
      "padding": null,
      "right": null,
      "top": null,
      "visibility": null,
      "width": null
     }
    },
    "4f34dae649a84fc8a65f3189c56eade4": {
     "model_module": "@jupyter-widgets/base",
     "model_name": "DOMWidgetModel",
     "state": {
      "_dom_classes": [],
      "_model_module": "@jupyter-widgets/base",
      "_model_module_version": "1.2.0",
      "_model_name": "DOMWidgetModel",
      "_view_count": null,
      "_view_module": "catboost_module",
      "_view_module_version": "",
      "_view_name": "CatboostIpythonWidgetView",
      "data": {
       "catboost_info": {
        "content": {
         "data": {
          "iterations": [
           {
            "iteration": 0,
            "learn": [
             0.0747847667
            ],
            "passed_time": 0.09221391697,
            "remaining_time": 9.12917778,
            "test": [
             0.9426859708,
             0.07491795545
            ]
           },
           {
            "iteration": 1,
            "learn": [
             0.01484104424
            ],
            "passed_time": 0.1750712051,
            "remaining_time": 8.578489051,
            "test": [
             0.9533344371,
             0.01493911724
            ]
           },
           {
            "iteration": 2,
            "learn": [
             0.005902554238
            ],
            "passed_time": 0.2642075179,
            "remaining_time": 8.542709746,
            "test": [
             0.9534816388,
             0.00609274152
            ]
           },
           {
            "iteration": 3,
            "learn": [
             0.0035849546
            ],
            "passed_time": 0.3432183648,
            "remaining_time": 8.237240754,
            "test": [
             0.9695270347,
             0.003867193624
            ]
           },
           {
            "iteration": 4,
            "learn": [
             0.002958117654
            ],
            "passed_time": 0.4278726988,
            "remaining_time": 8.129581277,
            "test": [
             0.9762615793,
             0.00329381527
            ]
           },
           {
            "iteration": 5,
            "learn": [
             0.002759829843
            ],
            "passed_time": 0.5089399985,
            "remaining_time": 7.97339331,
            "test": [
             0.974766467,
             0.003196762519
            ]
           },
           {
            "iteration": 6,
            "learn": [
             0.002557326034
            ],
            "passed_time": 0.591115887,
            "remaining_time": 7.853396784,
            "test": [
             0.9753901956,
             0.002998747215
            ]
           },
           {
            "iteration": 7,
            "learn": [
             0.002460531643
            ],
            "passed_time": 0.6720557224,
            "remaining_time": 7.728640807,
            "test": [
             0.9768936559,
             0.002924934479
            ]
           },
           {
            "iteration": 8,
            "learn": [
             0.002336239586
            ],
            "passed_time": 0.7528530787,
            "remaining_time": 7.612181129,
            "test": [
             0.9791948989,
             0.002867506283
            ]
           },
           {
            "iteration": 9,
            "learn": [
             0.002287993491
            ],
            "passed_time": 0.8317546131,
            "remaining_time": 7.485791518,
            "test": [
             0.9786809453,
             0.002897916959
            ]
           },
           {
            "iteration": 10,
            "learn": [
             0.002221157788
            ],
            "passed_time": 0.9161525742,
            "remaining_time": 7.412507191,
            "test": [
             0.9784204902,
             0.002854863408
            ]
           },
           {
            "iteration": 11,
            "learn": [
             0.002147163963
            ],
            "passed_time": 1.010287634,
            "remaining_time": 7.408775981,
            "test": [
             0.9787427199,
             0.002830272957
            ]
           },
           {
            "iteration": 12,
            "learn": [
             0.002080343946
            ],
            "passed_time": 1.095950875,
            "remaining_time": 7.334440473,
            "test": [
             0.980269276,
             0.002797472113
            ]
           },
           {
            "iteration": 13,
            "learn": [
             0.002068018936
            ],
            "passed_time": 1.174156407,
            "remaining_time": 7.212675071,
            "test": [
             0.9799969947,
             0.002797409756
            ]
           },
           {
            "iteration": 14,
            "learn": [
             0.002008449331
            ],
            "passed_time": 1.262363522,
            "remaining_time": 7.153393292,
            "test": [
             0.9804994003,
             0.002749896413
            ]
           },
           {
            "iteration": 15,
            "learn": [
             0.001971499259
            ],
            "passed_time": 1.344485558,
            "remaining_time": 7.058549179,
            "test": [
             0.9799100373,
             0.002753270186
            ]
           },
           {
            "iteration": 16,
            "learn": [
             0.001944733363
            ],
            "passed_time": 1.430016136,
            "remaining_time": 6.981843489,
            "test": [
             0.9793590746,
             0.002755609488
            ]
           },
           {
            "iteration": 17,
            "learn": [
             0.001895354594
            ],
            "passed_time": 1.510749166,
            "remaining_time": 6.882301755,
            "test": [
             0.978011164,
             0.00276971627
            ]
           },
           {
            "iteration": 18,
            "learn": [
             0.001865681496
            ],
            "passed_time": 1.595449392,
            "remaining_time": 6.801652669,
            "test": [
             0.978230436,
             0.002787271391
            ]
           },
           {
            "iteration": 19,
            "learn": [
             0.001834922844
            ],
            "passed_time": 1.682892941,
            "remaining_time": 6.731571765,
            "test": [
             0.9777164824,
             0.002798207144
            ]
           },
           {
            "iteration": 20,
            "learn": [
             0.001804717042
            ],
            "passed_time": 1.770590175,
            "remaining_time": 6.660791612,
            "test": [
             0.9772804428,
             0.002777854972
            ]
           },
           {
            "iteration": 21,
            "learn": [
             0.001784353457
            ],
            "passed_time": 1.8547735,
            "remaining_time": 6.576015136,
            "test": [
             0.977722326,
             0.002751587931
            ]
           },
           {
            "iteration": 22,
            "learn": [
             0.001767251411
            ],
            "passed_time": 1.936043069,
            "remaining_time": 6.481535491,
            "test": [
             0.9778734233,
             0.002749319505
            ]
           },
           {
            "iteration": 23,
            "learn": [
             0.001752127464
            ],
            "passed_time": 2.026571042,
            "remaining_time": 6.417474966,
            "test": [
             0.9779552329,
             0.002746563334
            ]
           },
           {
            "iteration": 24,
            "learn": [
             0.001733045977
            ],
            "passed_time": 2.110744941,
            "remaining_time": 6.332234824,
            "test": [
             0.9800295516,
             0.002725437039
            ]
           },
           {
            "iteration": 25,
            "learn": [
             0.001720715597
            ],
            "passed_time": 2.188487965,
            "remaining_time": 6.228773439,
            "test": [
             0.9796650258,
             0.002730373773
            ]
           },
           {
            "iteration": 26,
            "learn": [
             0.001670157168
            ],
            "passed_time": 2.275426123,
            "remaining_time": 6.152078036,
            "test": [
             0.9771728938,
             0.002757835088
            ]
           },
           {
            "iteration": 27,
            "learn": [
             0.001647562223
            ],
            "passed_time": 2.35663667,
            "remaining_time": 6.059922866,
            "test": [
             0.9771737285,
             0.00274673373
            ]
           },
           {
            "iteration": 28,
            "learn": [
             0.00161720672
            ],
            "passed_time": 2.442746208,
            "remaining_time": 5.980516578,
            "test": [
             0.9761547259,
             0.002760588091
            ]
           },
           {
            "iteration": 29,
            "learn": [
             0.00159920105
            ],
            "passed_time": 2.531895903,
            "remaining_time": 5.907757107,
            "test": [
             0.9744141848,
             0.002760698148
            ]
           },
           {
            "iteration": 30,
            "learn": [
             0.001580614543
            ],
            "passed_time": 2.615695413,
            "remaining_time": 5.822031725,
            "test": [
             0.9743896976,
             0.002762408218
            ]
           },
           {
            "iteration": 31,
            "learn": [
             0.001548378103
            ],
            "passed_time": 2.702250192,
            "remaining_time": 5.742281658,
            "test": [
             0.9734753222,
             0.002752938484
            ]
           },
           {
            "iteration": 32,
            "learn": [
             0.001532860805
            ],
            "passed_time": 2.782789547,
            "remaining_time": 5.64990605,
            "test": [
             0.9738710135,
             0.002749756474
            ]
           },
           {
            "iteration": 33,
            "learn": [
             0.001501692728
            ],
            "passed_time": 2.861328412,
            "remaining_time": 5.554343389,
            "test": [
             0.9708721628,
             0.002771762281
            ]
           },
           {
            "iteration": 34,
            "learn": [
             0.001481205425
            ],
            "passed_time": 2.941814852,
            "remaining_time": 5.46337044,
            "test": [
             0.9698587254,
             0.002769445831
            ]
           },
           {
            "iteration": 35,
            "learn": [
             0.001468897521
            ],
            "passed_time": 3.02959768,
            "remaining_time": 5.385951431,
            "test": [
             0.9692743711,
             0.002780110423
            ]
           },
           {
            "iteration": 36,
            "learn": [
             0.001447405481
            ],
            "passed_time": 3.112650429,
            "remaining_time": 5.299918297,
            "test": [
             0.9703946618,
             0.002767957884
            ]
           },
           {
            "iteration": 37,
            "learn": [
             0.001404327958
            ],
            "passed_time": 3.198446844,
            "remaining_time": 5.218518536,
            "test": [
             0.9714506735,
             0.002787536898
            ]
           },
           {
            "iteration": 38,
            "learn": [
             0.001378369704
            ],
            "passed_time": 3.290439567,
            "remaining_time": 5.146584963,
            "test": [
             0.9708000924,
             0.002758707569
            ]
           },
           {
            "iteration": 39,
            "learn": [
             0.001369597981
            ],
            "passed_time": 3.373539436,
            "remaining_time": 5.060309155,
            "test": [
             0.9707856227,
             0.002765350535
            ]
           },
           {
            "iteration": 40,
            "learn": [
             0.001362415993
            ],
            "passed_time": 3.456843761,
            "remaining_time": 4.974482485,
            "test": [
             0.9706002989,
             0.00275593876
            ]
           },
           {
            "iteration": 41,
            "learn": [
             0.001322660029
            ],
            "passed_time": 3.539891624,
            "remaining_time": 4.888421767,
            "test": [
             0.9723394486,
             0.002738888847
            ]
           },
           {
            "iteration": 42,
            "learn": [
             0.001291924145
            ],
            "passed_time": 3.626831264,
            "remaining_time": 4.807660047,
            "test": [
             0.97074277,
             0.002749114458
            ]
           },
           {
            "iteration": 43,
            "learn": [
             0.001280905915
            ],
            "passed_time": 3.707591324,
            "remaining_time": 4.718752594,
            "test": [
             0.9706556734,
             0.002744749564
            ]
           },
           {
            "iteration": 44,
            "learn": [
             0.001271706086
            ],
            "passed_time": 3.789081891,
            "remaining_time": 4.631100089,
            "test": [
             0.9705221067,
             0.002750525261
            ]
           },
           {
            "iteration": 45,
            "learn": [
             0.001248189824
            ],
            "passed_time": 3.875105563,
            "remaining_time": 4.549036965,
            "test": [
             0.9716677194,
             0.002741135309
            ]
           },
           {
            "iteration": 46,
            "learn": [
             0.00122232525
            ],
            "passed_time": 3.962401578,
            "remaining_time": 4.468240077,
            "test": [
             0.9719176005,
             0.00274581208
            ]
           },
           {
            "iteration": 47,
            "learn": [
             0.001208989101
            ],
            "passed_time": 4.050736819,
            "remaining_time": 4.388298221,
            "test": [
             0.9716115101,
             0.002761700006
            ]
           },
           {
            "iteration": 48,
            "learn": [
             0.001188192467
            ],
            "passed_time": 4.137810319,
            "remaining_time": 4.306700536,
            "test": [
             0.9721335333,
             0.002770121184
            ]
           },
           {
            "iteration": 49,
            "learn": [
             0.001181140763
            ],
            "passed_time": 4.222161625,
            "remaining_time": 4.222161625,
            "test": [
             0.972251239,
             0.002760183539
            ]
           },
           {
            "iteration": 50,
            "learn": [
             0.001154171386
            ],
            "passed_time": 4.326258526,
            "remaining_time": 4.156601329,
            "test": [
             0.972566512,
             0.002762923582
            ]
           },
           {
            "iteration": 51,
            "learn": [
             0.001146702269
            ],
            "passed_time": 4.408775103,
            "remaining_time": 4.069638557,
            "test": [
             0.9717851468,
             0.00276336612
            ]
           },
           {
            "iteration": 52,
            "learn": [
             0.001141571173
            ],
            "passed_time": 4.487594291,
            "remaining_time": 3.979564749,
            "test": [
             0.971744242,
             0.002761896269
            ]
           },
           {
            "iteration": 53,
            "learn": [
             0.001125545274
            ],
            "passed_time": 4.57137847,
            "remaining_time": 3.894137215,
            "test": [
             0.9706999174,
             0.00276540985
            ]
           },
           {
            "iteration": 54,
            "learn": [
             0.00110785574
            ],
            "passed_time": 4.654610018,
            "remaining_time": 3.808317288,
            "test": [
             0.9710346689,
             0.00276856758
            ]
           },
           {
            "iteration": 55,
            "learn": [
             0.001098022642
            ],
            "passed_time": 4.7380628,
            "remaining_time": 3.722763629,
            "test": [
             0.9712044099,
             0.002745745793
            ]
           },
           {
            "iteration": 56,
            "learn": [
             0.00108389684
            ],
            "passed_time": 4.821233116,
            "remaining_time": 3.637070597,
            "test": [
             0.9707213437,
             0.00274204048
            ]
           },
           {
            "iteration": 57,
            "learn": [
             0.001080515103
            ],
            "passed_time": 4.905950121,
            "remaining_time": 3.55258457,
            "test": [
             0.9709823553,
             0.002736722896
            ]
           },
           {
            "iteration": 58,
            "learn": [
             0.001076976168
            ],
            "passed_time": 4.989096489,
            "remaining_time": 3.466999255,
            "test": [
             0.970837658,
             0.002741009794
            ]
           },
           {
            "iteration": 59,
            "learn": [
             0.0010667216
            ],
            "passed_time": 5.080559152,
            "remaining_time": 3.387039435,
            "test": [
             0.9710997827,
             0.002748016349
            ]
           },
           {
            "iteration": 60,
            "learn": [
             0.001049055678
            ],
            "passed_time": 5.166858718,
            "remaining_time": 3.303401475,
            "test": [
             0.972132142,
             0.002722897825
            ]
           },
           {
            "iteration": 61,
            "learn": [
             0.001046075633
            ],
            "passed_time": 5.269101757,
            "remaining_time": 3.229449464,
            "test": [
             0.9721032025,
             0.002725044212
            ]
           },
           {
            "iteration": 62,
            "learn": [
             0.001040185475
            ],
            "passed_time": 5.350278572,
            "remaining_time": 3.142227098,
            "test": [
             0.9720929068,
             0.002722712378
            ]
           },
           {
            "iteration": 63,
            "learn": [
             0.001021691458
            ],
            "passed_time": 5.432567798,
            "remaining_time": 3.055819386,
            "test": [
             0.9724844242,
             0.002716258436
            ]
           },
           {
            "iteration": 64,
            "learn": [
             0.001009359867
            ],
            "passed_time": 5.543663225,
            "remaining_time": 2.985049429,
            "test": [
             0.9708997109,
             0.002726688348
            ]
           },
           {
            "iteration": 65,
            "learn": [
             0.001001986017
            ],
            "passed_time": 5.62155824,
            "remaining_time": 2.895954245,
            "test": [
             0.9709228068,
             0.002731505162
            ]
           },
           {
            "iteration": 66,
            "learn": [
             0.0009896072184
            ],
            "passed_time": 5.701790953,
            "remaining_time": 2.808344798,
            "test": [
             0.971150705,
             0.002757211412
            ]
           },
           {
            "iteration": 67,
            "learn": [
             0.0009791584193
            ],
            "passed_time": 5.783125929,
            "remaining_time": 2.721471025,
            "test": [
             0.9705265589,
             0.002765714216
            ]
           },
           {
            "iteration": 68,
            "learn": [
             0.0009710915888
            ],
            "passed_time": 5.864457302,
            "remaining_time": 2.634756179,
            "test": [
             0.9708198491,
             0.002760431014
            ]
           },
           {
            "iteration": 69,
            "learn": [
             0.0009649851379
            ],
            "passed_time": 5.946108103,
            "remaining_time": 2.548332044,
            "test": [
             0.971385838,
             0.002757676607
            ]
           },
           {
            "iteration": 70,
            "learn": [
             0.0009614719797
            ],
            "passed_time": 6.020613622,
            "remaining_time": 2.459123874,
            "test": [
             0.9712965153,
             0.00275708997
            ]
           },
           {
            "iteration": 71,
            "learn": [
             0.0009497971719
            ],
            "passed_time": 6.113974136,
            "remaining_time": 2.377656609,
            "test": [
             0.9725169811,
             0.002743519554
            ]
           },
           {
            "iteration": 72,
            "learn": [
             0.0009388300896
            ],
            "passed_time": 6.197240206,
            "remaining_time": 2.292129939,
            "test": [
             0.9720336365,
             0.00274660143
            ]
           },
           {
            "iteration": 73,
            "learn": [
             0.0009331023094
            ],
            "passed_time": 6.294346274,
            "remaining_time": 2.211527069,
            "test": [
             0.9722696044,
             0.002744742091
            ]
           },
           {
            "iteration": 74,
            "learn": [
             0.0009201382645
            ],
            "passed_time": 6.378558464,
            "remaining_time": 2.126186155,
            "test": [
             0.9724877633,
             0.002745583768
            ]
           },
           {
            "iteration": 75,
            "learn": [
             0.000910355458
            ],
            "passed_time": 6.464318148,
            "remaining_time": 2.041363626,
            "test": [
             0.9727345835,
             0.002752033898
            ]
           },
           {
            "iteration": 76,
            "learn": [
             0.0009023882623
            ],
            "passed_time": 6.544472331,
            "remaining_time": 1.954842385,
            "test": [
             0.9722478998,
             0.002742919303
            ]
           },
           {
            "iteration": 77,
            "learn": [
             0.0008965046824
            ],
            "passed_time": 6.630116698,
            "remaining_time": 1.870032915,
            "test": [
             0.9726268953,
             0.002738422314
            ]
           },
           {
            "iteration": 78,
            "learn": [
             0.0008884077697
            ],
            "passed_time": 6.713644346,
            "remaining_time": 1.784639636,
            "test": [
             0.9729560816,
             0.002730294109
            ]
           },
           {
            "iteration": 79,
            "learn": [
             0.0008810331669
            ],
            "passed_time": 6.792511975,
            "remaining_time": 1.698127994,
            "test": [
             0.9736645417,
             0.002718647991
            ]
           },
           {
            "iteration": 80,
            "learn": [
             0.0008770066283
            ],
            "passed_time": 6.876380929,
            "remaining_time": 1.612978242,
            "test": [
             0.973895779,
             0.002714050496
            ]
           },
           {
            "iteration": 81,
            "learn": [
             0.0008647655552
            ],
            "passed_time": 6.96246625,
            "remaining_time": 1.52834625,
            "test": [
             0.9736645417,
             0.002718913363
            ]
           },
           {
            "iteration": 82,
            "learn": [
             0.0008582805322
            ],
            "passed_time": 7.044852928,
            "remaining_time": 1.442921684,
            "test": [
             0.9729825167,
             0.002726965745
            ]
           },
           {
            "iteration": 83,
            "learn": [
             0.0008553167997
            ],
            "passed_time": 7.139120522,
            "remaining_time": 1.35983248,
            "test": [
             0.9730626567,
             0.002725531991
            ]
           },
           {
            "iteration": 84,
            "learn": [
             0.000851398518
            ],
            "passed_time": 7.220178862,
            "remaining_time": 1.274149211,
            "test": [
             0.9732504849,
             0.002724248965
            ]
           },
           {
            "iteration": 85,
            "learn": [
             0.0008444975106
            ],
            "passed_time": 7.314689535,
            "remaining_time": 1.190763413,
            "test": [
             0.9732349021,
             0.002726482183
            ]
           },
           {
            "iteration": 86,
            "learn": [
             0.0008337485454
            ],
            "passed_time": 7.398814677,
            "remaining_time": 1.105570009,
            "test": [
             0.9734221737,
             0.002719336471
            ]
           },
           {
            "iteration": 87,
            "learn": [
             0.0008220486629
            ],
            "passed_time": 7.482737291,
            "remaining_time": 1.020373267,
            "test": [
             0.9731233182,
             0.00272749904
            ]
           },
           {
            "iteration": 88,
            "learn": [
             0.0008198278583
            ],
            "passed_time": 7.567510864,
            "remaining_time": 0.9353103315,
            "test": [
             0.9731806406,
             0.002726731005
            ]
           },
           {
            "iteration": 89,
            "learn": [
             0.0008173225801
            ],
            "passed_time": 7.658192365,
            "remaining_time": 0.8509102627,
            "test": [
             0.9732913897,
             0.002726040794
            ]
           },
           {
            "iteration": 90,
            "learn": [
             0.0008099503451
            ],
            "passed_time": 7.74528455,
            "remaining_time": 0.7660171533,
            "test": [
             0.9733754254,
             0.002727289581
            ]
           },
           {
            "iteration": 91,
            "learn": [
             0.0008047670421
            ],
            "passed_time": 7.826061915,
            "remaining_time": 0.6805271231,
            "test": [
             0.9732410239,
             0.00272686781
            ]
           },
           {
            "iteration": 92,
            "learn": [
             0.000797399882
            ],
            "passed_time": 7.915400562,
            "remaining_time": 0.595782838,
            "test": [
             0.9731795276,
             0.002716312063
            ]
           },
           {
            "iteration": 93,
            "learn": [
             0.0007882909441
            ],
            "passed_time": 7.998789135,
            "remaining_time": 0.5105610086,
            "test": [
             0.9729335422,
             0.002715949018
            ]
           },
           {
            "iteration": 94,
            "learn": [
             0.0007855187261
            ],
            "passed_time": 8.095545291,
            "remaining_time": 0.4260813311,
            "test": [
             0.9730006038,
             0.002719706694
            ]
           },
           {
            "iteration": 95,
            "learn": [
             0.0007547230306
            ],
            "passed_time": 8.186895519,
            "remaining_time": 0.3411206466,
            "test": [
             0.9736873593,
             0.002716962092
            ]
           },
           {
            "iteration": 96,
            "learn": [
             0.0007485611687
            ],
            "passed_time": 8.276734319,
            "remaining_time": 0.2559814738,
            "test": [
             0.973771395,
             0.002709524957
            ]
           },
           {
            "iteration": 97,
            "learn": [
             0.0007285908767
            ],
            "passed_time": 8.381156117,
            "remaining_time": 0.1710440024,
            "test": [
             0.9739603363,
             0.002738451292
            ]
           },
           {
            "iteration": 98,
            "learn": [
             0.0007213577422
            ],
            "passed_time": 8.469698356,
            "remaining_time": 0.08555250865,
            "test": [
             0.9734552872,
             0.002736360579
            ]
           },
           {
            "iteration": 99,
            "learn": [
             0.0007149844745
            ],
            "passed_time": 8.557248555,
            "remaining_time": 0,
            "test": [
             0.9732950071,
             0.002728037842
            ]
           }
          ],
          "meta": {
           "iteration_count": 100,
           "launch_mode": "Train",
           "learn_metrics": [
            {
             "best_value": "Min",
             "name": "Logloss"
            }
           ],
           "learn_sets": [
            "learn"
           ],
           "name": "experiment",
           "parameters": "",
           "test_metrics": [
            {
             "best_value": "Max",
             "name": "AUC"
            },
            {
             "best_value": "Min",
             "name": "Logloss"
            }
           ],
           "test_sets": [
            "test"
           ]
          }
         },
         "passed_iterations": 99,
         "total_iterations": 100
        },
        "name": "catboost_info",
        "path": "catboost_info"
       }
      },
      "layout": "IPY_MODEL_3326f0f7907445c08365eaefbb33fe8a"
     }
    },
    "53402614454841f69b0143eb21d24ef2": {
     "model_module": "@jupyter-widgets/base",
     "model_name": "DOMWidgetModel",
     "state": {
      "_dom_classes": [],
      "_model_module": "@jupyter-widgets/base",
      "_model_module_version": "1.2.0",
      "_model_name": "DOMWidgetModel",
      "_view_count": null,
      "_view_module": "catboost_module",
      "_view_module_version": "",
      "_view_name": "CatboostIpythonWidgetView",
      "data": {
       "catboost_info": {
        "content": {
         "data": {
          "iterations": [
           {
            "fold_0_learn": [
             0.5866508878
            ],
            "fold_0_test": [
             0.9292645119,
             0.586721461
            ],
            "fold_1_learn": [
             0.5849950684
            ],
            "fold_1_test": [
             0.907157239,
             0.584959468
            ],
            "iteration": 0,
            "passed_time": 0.2268753604,
            "remaining_time": 22.46066068
           },
           {
            "fold_0_learn": [
             0.5022421276
            ],
            "fold_0_test": [
             0.9420825659,
             0.5023524878
            ],
            "fold_1_learn": [
             0.4990752506
            ],
            "fold_1_test": [
             0.9026829582,
             0.4990246828
            ],
            "iteration": 1,
            "passed_time": 0.4246491761,
            "remaining_time": 20.80780963
           },
           {
            "fold_0_learn": [
             0.427290133
            ],
            "fold_0_test": [
             0.9497182191,
             0.4272670027
            ],
            "fold_1_learn": [
             0.422757754
            ],
            "fold_1_test": [
             0.9180240145,
             0.4228025203
            ],
            "iteration": 2,
            "passed_time": 0.6311131713,
            "remaining_time": 20.40599254
           },
           {
            "fold_0_learn": [
             0.3681813923
            ],
            "fold_0_test": [
             0.942838079,
             0.3681538356
            ],
            "fold_1_learn": [
             0.3632928775
            ],
            "fold_1_test": [
             0.9132848894,
             0.3634017999
            ],
            "iteration": 3,
            "passed_time": 0.8262714697,
            "remaining_time": 19.83051527
           },
           {
            "fold_0_learn": [
             0.3127658259
            ],
            "fold_0_test": [
             0.9516530368,
             0.3128497648
            ],
            "fold_1_learn": [
             0.3071512816
            ],
            "fold_1_test": [
             0.9274907483,
             0.3071854796
            ],
            "iteration": 4,
            "passed_time": 1.015236521,
            "remaining_time": 19.2894939
           },
           {
            "fold_0_learn": [
             0.2630568631
            ],
            "fold_0_test": [
             0.9598534205,
             0.2630859963
            ],
            "fold_1_learn": [
             0.2562964015
            ],
            "fold_1_test": [
             0.9416295035,
             0.256395874
            ],
            "iteration": 5,
            "passed_time": 1.205929951,
            "remaining_time": 18.89290257
           },
           {
            "fold_0_learn": [
             0.2260779892
            ],
            "fold_0_test": [
             0.9547391589,
             0.2260814146
            ],
            "fold_1_learn": [
             0.2195153331
            ],
            "fold_1_test": [
             0.9356382658,
             0.2196394354
            ],
            "iteration": 6,
            "passed_time": 1.399880966,
            "remaining_time": 18.59841854
           },
           {
            "fold_0_learn": [
             0.1911457666
            ],
            "fold_0_test": [
             0.9573522723,
             0.1910794338
            ],
            "fold_1_learn": [
             0.1829639624
            ],
            "fold_1_test": [
             0.9407901646,
             0.1830883965
            ],
            "iteration": 7,
            "passed_time": 1.586084503,
            "remaining_time": 18.23997178
           },
           {
            "fold_0_learn": [
             0.166102388
            ],
            "fold_0_test": [
             0.9550862894,
             0.1660242283
            ],
            "fold_1_learn": [
             0.1530145391
            ],
            "fold_1_test": [
             0.9442499436,
             0.1531703709
            ],
            "iteration": 8,
            "passed_time": 1.769987952,
            "remaining_time": 17.89654485
           },
           {
            "fold_0_learn": [
             0.1398798315
            ],
            "fold_0_test": [
             0.9575956463,
             0.1397807803
            ],
            "fold_1_learn": [
             0.1278289253
            ],
            "fold_1_test": [
             0.9479631206,
             0.1280209864
            ],
            "iteration": 9,
            "passed_time": 1.942649618,
            "remaining_time": 17.48384656
           },
           {
            "fold_0_learn": [
             0.1192207815
            ],
            "fold_0_test": [
             0.9645904299,
             0.1191182831
            ],
            "fold_1_learn": [
             0.1084182275
            ],
            "fold_1_test": [
             0.9557988877,
             0.1086454543
            ],
            "iteration": 10,
            "passed_time": 2.123772755,
            "remaining_time": 17.18325229
           },
           {
            "fold_0_learn": [
             0.1014404101
            ],
            "fold_0_test": [
             0.9671292476,
             0.1013165684
            ],
            "fold_1_learn": [
             0.09152669774
            ],
            "fold_1_test": [
             0.9560147957,
             0.09178110172
            ],
            "iteration": 11,
            "passed_time": 2.303152445,
            "remaining_time": 16.8897846
           },
           {
            "fold_0_learn": [
             0.08649992934
            ],
            "fold_0_test": [
             0.9714220482,
             0.08637280119
            ],
            "fold_1_learn": [
             0.07742483302
            ],
            "fold_1_test": [
             0.9588861484,
             0.07769403141
            ],
            "iteration": 12,
            "passed_time": 2.506070441,
            "remaining_time": 16.77139449
           },
           {
            "fold_0_learn": [
             0.0740423729
            ],
            "fold_0_test": [
             0.9718397178,
             0.07389739449
            ],
            "fold_1_learn": [
             0.06514528231
            ],
            "fold_1_test": [
             0.9584465614,
             0.06544789735
            ],
            "iteration": 13,
            "passed_time": 2.677738061,
            "remaining_time": 16.44896237
           },
           {
            "fold_0_learn": [
             0.06296620044
            ],
            "fold_0_test": [
             0.9755350922,
             0.06280972842
            ],
            "fold_1_learn": [
             0.05539923242
            ],
            "fold_1_test": [
             0.9590558504,
             0.05573517904
            ],
            "iteration": 14,
            "passed_time": 2.859366112,
            "remaining_time": 16.20307463
           },
           {
            "fold_0_learn": [
             0.05425780051
            ],
            "fold_0_test": [
             0.9771673012,
             0.05407153895
            ],
            "fold_1_learn": [
             0.04724441583
            ],
            "fold_1_test": [
             0.9596566684,
             0.04762050668
            ],
            "iteration": 15,
            "passed_time": 3.04334545,
            "remaining_time": 15.97756361
           },
           {
            "fold_0_learn": [
             0.04691680357
            ],
            "fold_0_test": [
             0.9789712319,
             0.04671276791
            ],
            "fold_1_learn": [
             0.03963265739
            ],
            "fold_1_test": [
             0.9653355956,
             0.04005715134
            ],
            "iteration": 16,
            "passed_time": 3.23145441,
            "remaining_time": 15.77710094
           },
           {
            "fold_0_learn": [
             0.04076153862
            ],
            "fold_0_test": [
             0.9818244496,
             0.04055120512
            ],
            "fold_1_learn": [
             0.0340932743
            ],
            "fold_1_test": [
             0.9649199516,
             0.03456335915
            ],
            "iteration": 17,
            "passed_time": 3.419275478,
            "remaining_time": 15.5766994
           },
           {
            "fold_0_learn": [
             0.03561613592
            ],
            "fold_0_test": [
             0.9824174932,
             0.0353805652
            ],
            "fold_1_learn": [
             0.02913992099
            ],
            "fold_1_test": [
             0.9648562433,
             0.02966547577
            ],
            "iteration": 18,
            "passed_time": 3.612644073,
            "remaining_time": 15.4012721
           },
           {
            "fold_0_learn": [
             0.0313154233
            ],
            "fold_0_test": [
             0.9822938758,
             0.03106628133
            ],
            "fold_1_learn": [
             0.02558267966
            ],
            "fold_1_test": [
             0.96498443,
             0.02614768426
            ],
            "iteration": 19,
            "passed_time": 3.790942354,
            "remaining_time": 15.16376942
           },
           {
            "fold_0_learn": [
             0.02757322596
            ],
            "fold_0_test": [
             0.9836167977,
             0.02731261605
            ],
            "fold_1_learn": [
             0.0221237463
            ],
            "fold_1_test": [
             0.9643203938,
             0.02272624778
            ],
            "iteration": 20,
            "passed_time": 3.961434711,
            "remaining_time": 14.9025401
           },
           {
            "fold_0_learn": [
             0.02438532653
            ],
            "fold_0_test": [
             0.9841838935,
             0.02410918976
            ],
            "fold_1_learn": [
             0.01962001638
            ],
            "fold_1_test": [
             0.9638461522,
             0.02026714161
            ],
            "iteration": 21,
            "passed_time": 4.131912886,
            "remaining_time": 14.64950932
           },
           {
            "fold_0_learn": [
             0.02166192194
            ],
            "fold_0_test": [
             0.9848028153,
             0.02137545397
            ],
            "fold_1_learn": [
             0.01722318489
            ],
            "fold_1_test": [
             0.963536572,
             0.01790587674
            ],
            "iteration": 22,
            "passed_time": 4.314710433,
            "remaining_time": 14.44490015
           },
           {
            "fold_0_learn": [
             0.01939218442
            ],
            "fold_0_test": [
             0.9849213544,
             0.01909530519
            ],
            "fold_1_learn": [
             0.01523032453
            ],
            "fold_1_test": [
             0.9632386834,
             0.01594121953
            ],
            "iteration": 23,
            "passed_time": 4.501713548,
            "remaining_time": 14.25542624
           },
           {
            "fold_0_learn": [
             0.01741711322
            ],
            "fold_0_test": [
             0.9856481024,
             0.01710729629
            ],
            "fold_1_learn": [
             0.01362569171
            ],
            "fold_1_test": [
             0.9634190968,
             0.01436748752
            ],
            "iteration": 24,
            "passed_time": 4.682825818,
            "remaining_time": 14.04847745
           },
           {
            "fold_0_learn": [
             0.0157506015
            ],
            "fold_0_test": [
             0.9860454589,
             0.01542536889
            ],
            "fold_1_learn": [
             0.01225742983
            ],
            "fold_1_test": [
             0.9637796436,
             0.01303383228
            ],
            "iteration": 25,
            "passed_time": 4.851404066,
            "remaining_time": 13.80784234
           },
           {
            "fold_0_learn": [
             0.01417475052
            ],
            "fold_0_test": [
             0.9866690416,
             0.01384651802
            ],
            "fold_1_learn": [
             0.01101395067
            ],
            "fold_1_test": [
             0.9629888209,
             0.01182346217
            ],
            "iteration": 26,
            "passed_time": 5.031349911,
            "remaining_time": 13.60327939
           },
           {
            "fold_0_learn": [
             0.0129273177
            ],
            "fold_0_test": [
             0.9867740156,
             0.01258382196
            ],
            "fold_1_learn": [
             0.009986306609
            ],
            "fold_1_test": [
             0.9626764404,
             0.01082397233
            ],
            "iteration": 27,
            "passed_time": 5.19921756,
            "remaining_time": 13.36941658
           },
           {
            "fold_0_learn": [
             0.01175143287
            ],
            "fold_0_test": [
             0.9875014243,
             0.01140348014
            ],
            "fold_1_learn": [
             0.009015000596
            ],
            "fold_1_test": [
             0.9645285308,
             0.009878234461
            ],
            "iteration": 28,
            "passed_time": 5.375752701,
            "remaining_time": 13.16132558
           },
           {
            "fold_0_learn": [
             0.01084203165
            ],
            "fold_0_test": [
             0.9876070244,
             0.01048904286
            ],
            "fold_1_learn": [
             0.00821343904
            ],
            "fold_1_test": [
             0.964167984,
             0.009106220134
            ],
            "iteration": 29,
            "passed_time": 5.547311945,
            "remaining_time": 12.94372787
           },
           {
            "fold_0_learn": [
             0.01004628755
            ],
            "fold_0_test": [
             0.9880635809,
             0.009679200522
            ],
            "fold_1_learn": [
             0.007489541523
            ],
            "fold_1_test": [
             0.9654806544,
             0.00840420642
            ],
            "iteration": 30,
            "passed_time": 5.721525906,
            "remaining_time": 12.73500927
           },
           {
            "fold_0_learn": [
             0.009318076029
            ],
            "fold_0_test": [
             0.9881917897,
             0.008948989077
            ],
            "fold_1_learn": [
             0.006915921936
            ],
            "fold_1_test": [
             0.9653319551,
             0.007851538685
            ],
            "iteration": 31,
            "passed_time": 5.88057039,
            "remaining_time": 12.49621208
           },
           {
            "fold_0_learn": [
             0.0086989218
            ],
            "fold_0_test": [
             0.9882259462,
             0.008329575432
            ],
            "fold_1_learn": [
             0.00641243477
            ],
            "fold_1_test": [
             0.9649022393,
             0.007368378457
            ],
            "iteration": 32,
            "passed_time": 6.072461487,
            "remaining_time": 12.32893696
           },
           {
            "fold_0_learn": [
             0.008162260644
            ],
            "fold_0_test": [
             0.9883503984,
             0.007789894391
            ],
            "fold_1_learn": [
             0.006008952145
            ],
            "fold_1_test": [
             0.9651728244,
             0.006989788026
            ],
            "iteration": 33,
            "passed_time": 6.273291492,
            "remaining_time": 12.17756584
           },
           {
            "fold_0_learn": [
             0.007611750777
            ],
            "fold_0_test": [
             0.9887718245,
             0.007234931444
            ],
            "fold_1_learn": [
             0.005530865145
            ],
            "fold_1_test": [
             0.9664350183,
             0.006527943947
            ],
            "iteration": 34,
            "passed_time": 6.454028316,
            "remaining_time": 11.98605259
           },
           {
            "fold_0_learn": [
             0.007180331204
            ],
            "fold_0_test": [
             0.9888260854,
             0.006798064561
            ],
            "fold_1_learn": [
             0.005156966442
            ],
            "fold_1_test": [
             0.9670153936,
             0.006167891114
            ],
            "iteration": 35,
            "passed_time": 6.631054644,
            "remaining_time": 11.78854159
           },
           {
            "fold_0_learn": [
             0.006802403243
            ],
            "fold_0_test": [
             0.9887534593,
             0.006422192513
            ],
            "fold_1_learn": [
             0.004813730009
            ],
            "fold_1_test": [
             0.9673209133,
             0.00583935867
            ],
            "iteration": 36,
            "passed_time": 6.798561292,
            "remaining_time": 11.57592869
           },
           {
            "fold_0_learn": [
             0.006469480306
            ],
            "fold_0_test": [
             0.9887811463,
             0.006078444914
            ],
            "fold_1_learn": [
             0.004517674618
            ],
            "fold_1_test": [
             0.9674229165,
             0.005557858317
            ],
            "iteration": 37,
            "passed_time": 6.973794871,
            "remaining_time": 11.37829689
           },
           {
            "fold_0_learn": [
             0.006159017308
            ],
            "fold_0_test": [
             0.9886671984,
             0.005769153381
            ],
            "fold_1_learn": [
             0.004296880916
            ],
            "fold_1_test": [
             0.9673889621,
             0.005353732045
            ],
            "iteration": 38,
            "passed_time": 7.142978578,
            "remaining_time": 11.17235111
           },
           {
            "fold_0_learn": [
             0.005881830842
            ],
            "fold_0_test": [
             0.9884937723,
             0.005489947001
            ],
            "fold_1_learn": [
             0.004093848532
            ],
            "fold_1_test": [
             0.9676458954,
             0.005167981017
            ],
            "iteration": 39,
            "passed_time": 7.330764523,
            "remaining_time": 10.99614678
           },
           {
            "fold_0_learn": [
             0.00559947404
            ],
            "fold_0_test": [
             0.9888442419,
             0.005209394164
            ],
            "fold_1_learn": [
             0.003887034721
            ],
            "fold_1_test": [
             0.9680560787,
             0.004977699442
            ],
            "iteration": 40,
            "passed_time": 7.50180447,
            "remaining_time": 10.7952796
           },
           {
            "fold_0_learn": [
             0.005350151493
            ],
            "fold_0_test": [
             0.9890891811,
             0.004960921189
            ],
            "fold_1_learn": [
             0.003740393747
            ],
            "fold_1_test": [
             0.9681669731,
             0.004847997961
            ],
            "iteration": 41,
            "passed_time": 7.669516631,
            "remaining_time": 10.59123725
           },
           {
            "fold_0_learn": [
             0.005153030616
            ],
            "fold_0_test": [
             0.9892004855,
             0.004761202732
            ],
            "fold_1_learn": [
             0.003582648534
            ],
            "fold_1_test": [
             0.9679547055,
             0.004708007565
            ],
            "iteration": 42,
            "passed_time": 7.833147543,
            "remaining_time": 10.38347465
           },
           {
            "fold_0_learn": [
             0.004935335771
            ],
            "fold_0_test": [
             0.9891079637,
             0.004549410296
            ],
            "fold_1_learn": [
             0.00346344497
            ],
            "fold_1_test": [
             0.967973958,
             0.004609958876
            ],
            "iteration": 43,
            "passed_time": 7.998042803,
            "remaining_time": 10.1793272
           },
           {
            "fold_0_learn": [
             0.004770180621
            ],
            "fold_0_test": [
             0.9890351289,
             0.00438771595
            ],
            "fold_1_learn": [
             0.003349174514
            ],
            "fold_1_test": [
             0.9683373052,
             0.004511347017
            ],
            "iteration": 44,
            "passed_time": 8.175387176,
            "remaining_time": 9.992139881
           },
           {
            "fold_0_learn": [
             0.004628605595
            ],
            "fold_0_test": [
             0.9890711637,
             0.004245593287
            ],
            "fold_1_learn": [
             0.003250355149
            ],
            "fold_1_test": [
             0.9684123549,
             0.00442743888
            ],
            "iteration": 45,
            "passed_time": 8.35445069,
            "remaining_time": 9.807398636
           },
           {
            "fold_0_learn": [
             0.004495629779
            ],
            "fold_0_test": [
             0.9891835115,
             0.004107469005
            ],
            "fold_1_learn": [
             0.003152653635
            ],
            "fold_1_test": [
             0.9685838422,
             0.004342217702
            ],
            "iteration": 46,
            "passed_time": 8.531945523,
            "remaining_time": 9.621130058
           },
           {
            "fold_0_learn": [
             0.004366752338
            ],
            "fold_0_test": [
             0.989060868,
             0.00398110842
            ],
            "fold_1_learn": [
             0.003049827655
            ],
            "fold_1_test": [
             0.9687117488,
             0.004248975794
            ],
            "iteration": 47,
            "passed_time": 8.700432066,
            "remaining_time": 9.425468072
           },
           {
            "fold_0_learn": [
             0.004249393966
            ],
            "fold_0_test": [
             0.9887972158,
             0.003860770899
            ],
            "fold_1_learn": [
             0.002961435416
            ],
            "fold_1_test": [
             0.9686339687,
             0.004175827405
            ],
            "iteration": 48,
            "passed_time": 8.869034597,
            "remaining_time": 9.231036009
           },
           {
            "fold_0_learn": [
             0.004156420856
            ],
            "fold_0_test": [
             0.9889910246,
             0.003769554674
            ],
            "fold_1_learn": [
             0.00289286664
            ],
            "fold_1_test": [
             0.9687578848,
             0.004123926878
            ],
            "iteration": 49,
            "passed_time": 9.042831225,
            "remaining_time": 9.042831225
           },
           {
            "fold_0_learn": [
             0.004058896674
            ],
            "fold_0_test": [
             0.9887995811,
             0.003675699679
            ],
            "fold_1_learn": [
             0.002822050147
            ],
            "fold_1_test": [
             0.9688017805,
             0.004063073392
            ],
            "iteration": 50,
            "passed_time": 9.219720901,
            "remaining_time": 8.858163219
           },
           {
            "fold_0_learn": [
             0.003984983449
            ],
            "fold_0_test": [
             0.988835268,
             0.003601328039
            ],
            "fold_1_learn": [
             0.002757473457
            ],
            "fold_1_test": [
             0.9687874286,
             0.00401081997
            ],
            "iteration": 51,
            "passed_time": 9.411707267,
            "remaining_time": 8.687729785
           },
           {
            "fold_0_learn": [
             0.003886597213
            ],
            "fold_0_test": [
             0.9890216333,
             0.003507887822
            ],
            "fold_1_learn": [
             0.002690822801
            ],
            "fold_1_test": [
             0.9689735828,
             0.00395147218
            ],
            "iteration": 52,
            "passed_time": 9.596501145,
            "remaining_time": 8.510104789
           },
           {
            "fold_0_learn": [
             0.003796141331
            ],
            "fold_0_test": [
             0.9888205202,
             0.003423918668
            ],
            "fold_1_learn": [
             0.002637301817
            ],
            "fold_1_test": [
             0.9690702653,
             0.003908991824
            ],
            "iteration": 53,
            "passed_time": 9.760438179,
            "remaining_time": 8.314447338
           },
           {
            "fold_0_learn": [
             0.003715063482
            ],
            "fold_0_test": [
             0.9888319984,
             0.003341706012
            ],
            "fold_1_learn": [
             0.002574246137
            ],
            "fold_1_test": [
             0.9691572166,
             0.003853780676
            ],
            "iteration": 54,
            "passed_time": 9.929943463,
            "remaining_time": 8.124499197
           },
           {
            "fold_0_learn": [
             0.003648680524
            ],
            "fold_0_test": [
             0.9888468158,
             0.003276500906
            ],
            "fold_1_learn": [
             0.002521223383
            ],
            "fold_1_test": [
             0.9691701683,
             0.00380898306
            ],
            "iteration": 55,
            "passed_time": 10.11043408,
            "remaining_time": 7.943912492
           },
           {
            "fold_0_learn": [
             0.003572472201
            ],
            "fold_0_test": [
             0.9891421898,
             0.003205702897
            ],
            "fold_1_learn": [
             0.002481717097
            ],
            "fold_1_test": [
             0.9694063789,
             0.003782271984
            ],
            "iteration": 56,
            "passed_time": 10.28307346,
            "remaining_time": 7.757406297
           },
           {
            "fold_0_learn": [
             0.003507347529
            ],
            "fold_0_test": [
             0.9889355811,
             0.003146931196
            ],
            "fold_1_learn": [
             0.002434484206
            ],
            "fold_1_test": [
             0.9693792154,
             0.003742544767
            ],
            "iteration": 57,
            "passed_time": 10.44678802,
            "remaining_time": 7.564915465
           },
           {
            "fold_0_learn": [
             0.003449537537
            ],
            "fold_0_test": [
             0.9888633028,
             0.003090896828
            ],
            "fold_1_learn": [
             0.002396572704
            ],
            "fold_1_test": [
             0.9692538291,
             0.003715995854
            ],
            "iteration": 58,
            "passed_time": 10.61796914,
            "remaining_time": 7.378588726
           },
           {
            "fold_0_learn": [
             0.003393915194
            ],
            "fold_0_test": [
             0.9886338071,
             0.0030414147
            ],
            "fold_1_learn": [
             0.00235965709
            ],
            "fold_1_test": [
             0.9692522189,
             0.003684218271
            ],
            "iteration": 59,
            "passed_time": 10.78251923,
            "remaining_time": 7.188346154
           },
           {
            "fold_0_learn": [
             0.003342922139
            ],
            "fold_0_test": [
             0.9887789897,
             0.00299519447
            ],
            "fold_1_learn": [
             0.002314765221
            ],
            "fold_1_test": [
             0.9691316633,
             0.003655930865
            ],
            "iteration": 60,
            "passed_time": 10.95969991,
            "remaining_time": 7.007021254
           },
           {
            "fold_0_learn": [
             0.003304012418
            ],
            "fold_0_test": [
             0.9887026071,
             0.002958674139
            ],
            "fold_1_learn": [
             0.002289787678
            ],
            "fold_1_test": [
             0.968928777,
             0.00363875913
            ],
            "iteration": 61,
            "passed_time": 11.1295456,
            "remaining_time": 6.821334402
           },
           {
            "fold_0_learn": [
             0.003256430574
            ],
            "fold_0_test": [
             0.9883957549,
             0.002917899481
            ],
            "fold_1_learn": [
             0.002259747427
            ],
            "fold_1_test": [
             0.9690715255,
             0.003620462254
            ],
            "iteration": 62,
            "passed_time": 11.31285977,
            "remaining_time": 6.644060502
           },
           {
            "fold_0_learn": [
             0.003231030309
            ],
            "fold_0_test": [
             0.9883607636,
             0.00289447571
            ],
            "fold_1_learn": [
             0.002225189809
            ],
            "fold_1_test": [
             0.9691352338,
             0.003595040973
            ],
            "iteration": 63,
            "passed_time": 11.50062996,
            "remaining_time": 6.469104353
           },
           {
            "fold_0_learn": [
             0.003192267323
            ],
            "fold_0_test": [
             0.9882831288,
             0.00285816101
            ],
            "fold_1_learn": [
             0.002200302422
            ],
            "fold_1_test": [
             0.9689586708,
             0.003580750952
            ],
            "iteration": 64,
            "passed_time": 11.68107238,
            "remaining_time": 6.289808205
           },
           {
            "fold_0_learn": [
             0.003156218103
            ],
            "fold_0_test": [
             0.9881906766,
             0.002825047716
            ],
            "fold_1_learn": [
             0.002176963874
            ],
            "fold_1_test": [
             0.9686235723,
             0.003568095429
            ],
            "iteration": 65,
            "passed_time": 11.85940239,
            "remaining_time": 6.109389109
           },
           {
            "fold_0_learn": [
             0.003124968841
            ],
            "fold_0_test": [
             0.9882322766,
             0.00279846408
            ],
            "fold_1_learn": [
             0.002147181525
            ],
            "fold_1_test": [
             0.9689068291,
             0.003551764012
            ],
            "iteration": 66,
            "passed_time": 12.03169525,
            "remaining_time": 5.926058853
           },
           {
            "fold_0_learn": [
             0.003094988889
            ],
            "fold_0_test": [
             0.9883615984,
             0.002772967997
            ],
            "fold_1_learn": [
             0.002123579122
            ],
            "fold_1_test": [
             0.9685683352,
             0.003534498866
            ],
            "iteration": 67,
            "passed_time": 12.20110537,
            "remaining_time": 5.741696643
           },
           {
            "fold_0_learn": [
             0.00305939032
            ],
            "fold_0_test": [
             0.9884996854,
             0.002743588165
            ],
            "fold_1_learn": [
             0.002102725257
            ],
            "fold_1_test": [
             0.968443509,
             0.003523963618
            ],
            "iteration": 68,
            "passed_time": 12.38570614,
            "remaining_time": 5.564592612
           },
           {
            "fold_0_learn": [
             0.003024625507
            ],
            "fold_0_test": [
             0.9886282419,
             0.002714309842
            ],
            "fold_1_learn": [
             0.002093307483
            ],
            "fold_1_test": [
             0.968312802,
             0.00352040025
            ],
            "iteration": 69,
            "passed_time": 12.56491065,
            "remaining_time": 5.384961709
           },
           {
            "fold_0_learn": [
             0.003000579583
            ],
            "fold_0_test": [
             0.9885609723,
             0.002695139548
            ],
            "fold_1_learn": [
             0.002066236906
            ],
            "fold_1_test": [
             0.968004342,
             0.003505395457
            ],
            "iteration": 70,
            "passed_time": 12.73909533,
            "remaining_time": 5.203292459
           },
           {
            "fold_0_learn": [
             0.002982697153
            ],
            "fold_0_test": [
             0.9884829201,
             0.002680711823
            ],
            "fold_1_learn": [
             0.00205348195
            ],
            "fold_1_test": [
             0.9679714377,
             0.003501173859
            ],
            "iteration": 71,
            "passed_time": 12.92000495,
            "remaining_time": 5.024446369
           },
           {
            "fold_0_learn": [
             0.002961008451
            ],
            "fold_0_test": [
             0.9884029201,
             0.002664227
            ],
            "fold_1_learn": [
             0.002030829632
            ],
            "fold_1_test": [
             0.9674663921,
             0.003491898914
            ],
            "iteration": 72,
            "passed_time": 13.10395108,
            "remaining_time": 4.846666838
           },
           {
            "fold_0_learn": [
             0.002936401289
            ],
            "fold_0_test": [
             0.9888577376,
             0.00264222019
            ],
            "fold_1_learn": [
             0.002015517322
            ],
            "fold_1_test": [
             0.9673335149,
             0.0034865611
            ],
            "iteration": 73,
            "passed_time": 13.2868206,
            "remaining_time": 4.668342373
           },
           {
            "fold_0_learn": [
             0.002904923463
            ],
            "fold_0_test": [
             0.9890809028,
             0.002615436102
            ],
            "fold_1_learn": [
             0.001996829973
            ],
            "fold_1_test": [
             0.9669454545,
             0.003480295445
            ],
            "iteration": 74,
            "passed_time": 13.47652534,
            "remaining_time": 4.492175114
           },
           {
            "fold_0_learn": [
             0.002892689654
            ],
            "fold_0_test": [
             0.9891735637,
             0.002605368977
            ],
            "fold_1_learn": [
             0.001988484685
            ],
            "fold_1_test": [
             0.9669975413,
             0.003478249826
            ],
            "iteration": 75,
            "passed_time": 13.65458414,
            "remaining_time": 4.311973939
           },
           {
            "fold_0_learn": [
             0.002869004563
            ],
            "fold_0_test": [
             0.9890338072,
             0.002587669726
            ],
            "fold_1_learn": [
             0.001970198327
            ],
            "fold_1_test": [
             0.9671351091,
             0.003463219847
            ],
            "iteration": 76,
            "passed_time": 13.83787169,
            "remaining_time": 4.133390245
           },
           {
            "fold_0_learn": [
             0.002857924514
            ],
            "fold_0_test": [
             0.9890450072,
             0.00258183792
            ],
            "fold_1_learn": [
             0.00195704122
            ],
            "fold_1_test": [
             0.9675298904,
             0.003455259931
            ],
            "iteration": 77,
            "passed_time": 14.02504221,
            "remaining_time": 3.955781136
           },
           {
            "fold_0_learn": [
             0.002835039443
            ],
            "fold_0_test": [
             0.9890676159,
             0.002567253427
            ],
            "fold_1_learn": [
             0.001936008326
            ],
            "fold_1_test": [
             0.9674217263,
             0.003447311624
            ],
            "iteration": 78,
            "passed_time": 14.20535748,
            "remaining_time": 3.776107684
           },
           {
            "fold_0_learn": [
             0.002815203245
            ],
            "fold_0_test": [
             0.9888734593,
             0.002556100965
            ],
            "fold_1_learn": [
             0.001927672832
            ],
            "fold_1_test": [
             0.9671680134,
             0.003446291966
            ],
            "iteration": 79,
            "passed_time": 14.38656666,
            "remaining_time": 3.596641665
           },
           {
            "fold_0_learn": [
             0.002795464723
            ],
            "fold_0_test": [
             0.9887675115,
             0.002540683131
            ],
            "fold_1_learn": [
             0.001912898646
            ],
            "fold_1_test": [
             0.967134199,
             0.003436026514
            ],
            "iteration": 80,
            "passed_time": 14.56592126,
            "remaining_time": 3.41669758
           },
           {
            "fold_0_learn": [
             0.002784646302
            ],
            "fold_0_test": [
             0.9888518245,
             0.002535650179
            ],
            "fold_1_learn": [
             0.001904261925
            ],
            "fold_1_test": [
             0.9671399398,
             0.00343438098
            ],
            "iteration": 81,
            "passed_time": 14.73594216,
            "remaining_time": 3.234719011
           },
           {
            "fold_0_learn": [
             0.002766291568
            ],
            "fold_0_test": [
             0.9888710245,
             0.002520875773
            ],
            "fold_1_learn": [
             0.00188919125
            ],
            "fold_1_test": [
             0.9669322928,
             0.003430979386
            ],
            "iteration": 82,
            "passed_time": 14.90424545,
            "remaining_time": 3.05267678
           },
           {
            "fold_0_learn": [
             0.002757168967
            ],
            "fold_0_test": [
             0.9888297724,
             0.002515738752
            ],
            "fold_1_learn": [
             0.001874779824
            ],
            "fold_1_test": [
             0.9669074396,
             0.003426656034
            ],
            "iteration": 83,
            "passed_time": 15.07221667,
            "remaining_time": 2.870898414
           },
           {
            "fold_0_learn": [
             0.00274227046
            ],
            "fold_0_test": [
             0.9888700506,
             0.002505965418
            ],
            "fold_1_learn": [
             0.001860994509
            ],
            "fold_1_test": [
             0.9664725431,
             0.003424585481
            ],
            "iteration": 84,
            "passed_time": 15.24520979,
            "remaining_time": 2.690331139
           },
           {
            "fold_0_learn": [
             0.002734158833
            ],
            "fold_0_test": [
             0.9889311985,
             0.002502262351
            ],
            "fold_1_learn": [
             0.001845617914
            ],
            "fold_1_test": [
             0.9664281574,
             0.003417314712
            ],
            "iteration": 85,
            "passed_time": 15.4336086,
            "remaining_time": 2.512447911
           },
           {
            "fold_0_learn": [
             0.002723289987
            ],
            "fold_0_test": [
             0.9889532506,
             0.002492503853
            ],
            "fold_1_learn": [
             0.001832548314
            ],
            "fold_1_test": [
             0.9662428433,
             0.003417731014
            ],
            "iteration": 86,
            "passed_time": 15.60136357,
            "remaining_time": 2.331238234
           },
           {
            "fold_0_learn": [
             0.00270655118
            ],
            "fold_0_test": [
             0.988758468,
             0.002477315771
            ],
            "fold_1_learn": [
             0.001827483202
            ],
            "fold_1_test": [
             0.9662618858,
             0.003416175962
            ],
            "iteration": 87,
            "passed_time": 15.77127043,
            "remaining_time": 2.150627786
           },
           {
            "fold_0_learn": [
             0.002694889931
            ],
            "fold_0_test": [
             0.9886786767,
             0.002468063277
            ],
            "fold_1_learn": [
             0.001811245373
            ],
            "fold_1_test": [
             0.966170664,
             0.003408005475
            ],
            "iteration": 88,
            "passed_time": 15.9386209,
            "remaining_time": 1.969941909
           },
           {
            "fold_0_learn": [
             0.002679212573
            ],
            "fold_0_test": [
             0.988798468,
             0.002457062296
            ],
            "fold_1_learn": [
             0.001797473365
            ],
            "fold_1_test": [
             0.9660230848,
             0.00340112179
            ],
            "iteration": 89,
            "passed_time": 16.11167255,
            "remaining_time": 1.790185839
           },
           {
            "fold_0_learn": [
             0.00266537971
            ],
            "fold_0_test": [
             0.9887773202,
             0.002446703225
            ],
            "fold_1_learn": [
             0.001783687701
            ],
            "fold_1_test": [
             0.9660791621,
             0.003394855055
            ],
            "iteration": 90,
            "passed_time": 16.28300971,
            "remaining_time": 1.610407554
           },
           {
            "fold_0_learn": [
             0.002658625102
            ],
            "fold_0_test": [
             0.9887798941,
             0.002444672203
            ],
            "fold_1_learn": [
             0.001780387015
            ],
            "fold_1_test": [
             0.9660392569,
             0.003395174973
            ],
            "iteration": 91,
            "passed_time": 16.5017425,
            "remaining_time": 1.43493413
           },
           {
            "fold_0_learn": [
             0.002645273463
            ],
            "fold_0_test": [
             0.9885981202,
             0.002437666889
            ],
            "fold_1_learn": [
             0.001769371908
            ],
            "fold_1_test": [
             0.9658636741,
             0.003391500837
            ],
            "iteration": 92,
            "passed_time": 16.68410169,
            "remaining_time": 1.2557926
           },
           {
            "fold_0_learn": [
             0.002632581572
            ],
            "fold_0_test": [
             0.9888518941,
             0.002427645341
            ],
            "fold_1_learn": [
             0.001757231308
            ],
            "fold_1_test": [
             0.9658901375,
             0.003386052517
            ],
            "iteration": 93,
            "passed_time": 16.85611544,
            "remaining_time": 1.075922262
           },
           {
            "fold_0_learn": [
             0.002627202097
            ],
            "fold_0_test": [
             0.9887574245,
             0.002426222659
            ],
            "fold_1_learn": [
             0.00175369307
            ],
            "fold_1_test": [
             0.9659080599,
             0.003385482786
            ],
            "iteration": 94,
            "passed_time": 17.02942353,
            "remaining_time": 0.8962854488
           },
           {
            "fold_0_learn": [
             0.002608645586
            ],
            "fold_0_test": [
             0.9888386071,
             0.002413106767
            ],
            "fold_1_learn": [
             0.001741529233
            ],
            "fold_1_test": [
             0.965554374,
             0.003380298685
            ],
            "iteration": 95,
            "passed_time": 17.19945491,
            "remaining_time": 0.7166439545
           },
           {
            "fold_0_learn": [
             0.002596696779
            ],
            "fold_0_test": [
             0.9888662941,
             0.002405464553
            ],
            "fold_1_learn": [
             0.001735608125
            ],
            "fold_1_test": [
             0.9655361716,
             0.003382014665
            ],
            "iteration": 96,
            "passed_time": 17.36785898,
            "remaining_time": 0.5371502777
           },
           {
            "fold_0_learn": [
             0.002591241041
            ],
            "fold_0_test": [
             0.9888429898,
             0.002402781149
            ],
            "fold_1_learn": [
             0.001733841386
            ],
            "fold_1_test": [
             0.9654874453,
             0.003381856194
            ],
            "iteration": 97,
            "passed_time": 17.58396621,
            "remaining_time": 0.3588564532
           },
           {
            "fold_0_learn": [
             0.002581106245
            ],
            "fold_0_test": [
             0.9887975637,
             0.002396116984
            ],
            "fold_1_learn": [
             0.001720969003
            ],
            "fold_1_test": [
             0.965361849,
             0.003376465776
            ],
            "iteration": 98,
            "passed_time": 17.7591339,
            "remaining_time": 0.1793851909
           },
           {
            "fold_0_learn": [
             0.00256985949
            ],
            "fold_0_test": [
             0.9888094593,
             0.002389190932
            ],
            "fold_1_learn": [
             0.00171035621
            ],
            "fold_1_test": [
             0.9650652905,
             0.003372525189
            ],
            "iteration": 99,
            "passed_time": 17.93402698,
            "remaining_time": 0
           }
          ],
          "meta": {
           "iteration_count": 100,
           "launch_mode": "CV",
           "learn_metrics": [
            {
             "best_value": "Min",
             "name": "Logloss"
            }
           ],
           "learn_sets": [
            "fold_0_learn",
            "fold_1_learn"
           ],
           "name": "experiment",
           "parameters": "",
           "test_metrics": [
            {
             "best_value": "Max",
             "name": "AUC"
            },
            {
             "best_value": "Min",
             "name": "Logloss"
            }
           ],
           "test_sets": [
            "fold_0_test",
            "fold_1_test"
           ]
          }
         },
         "passed_iterations": 99,
         "total_iterations": 100
        },
        "name": "catboost_info",
        "path": "catboost_info"
       }
      },
      "layout": "IPY_MODEL_9f092fa098014544b110b3a42fbd4f11"
     }
    },
    "9f092fa098014544b110b3a42fbd4f11": {
     "model_module": "@jupyter-widgets/base",
     "model_name": "LayoutModel",
     "state": {
      "_model_module": "@jupyter-widgets/base",
      "_model_module_version": "1.2.0",
      "_model_name": "LayoutModel",
      "_view_count": null,
      "_view_module": "@jupyter-widgets/base",
      "_view_module_version": "1.2.0",
      "_view_name": "LayoutView",
      "align_content": null,
      "align_items": null,
      "align_self": "stretch",
      "border": null,
      "bottom": null,
      "display": null,
      "flex": null,
      "flex_flow": null,
      "grid_area": null,
      "grid_auto_columns": null,
      "grid_auto_flow": null,
      "grid_auto_rows": null,
      "grid_column": null,
      "grid_gap": null,
      "grid_row": null,
      "grid_template_areas": null,
      "grid_template_columns": null,
      "grid_template_rows": null,
      "height": "500px",
      "justify_content": null,
      "justify_items": null,
      "left": null,
      "margin": null,
      "max_height": null,
      "max_width": null,
      "min_height": null,
      "min_width": null,
      "object_fit": null,
      "object_position": null,
      "order": null,
      "overflow": null,
      "overflow_x": null,
      "overflow_y": null,
      "padding": null,
      "right": null,
      "top": null,
      "visibility": null,
      "width": null
     }
    }
   }
  }
 },
 "nbformat": 4,
 "nbformat_minor": 1
}
