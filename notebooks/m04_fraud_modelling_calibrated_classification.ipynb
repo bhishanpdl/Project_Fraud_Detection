{
 "cells": [
  {
   "cell_type": "markdown",
   "metadata": {
    "toc": "true"
   },
   "source": [
    "<h1>Table of Contents<span class=\"tocSkip\"></span></h1>\n",
    "<div class=\"toc\"><ul class=\"toc-item\"><li><span><a href=\"#Imports\" data-toc-modified-id=\"Imports-1\"><span class=\"toc-item-num\">1&nbsp;&nbsp;</span>Imports</a></span></li><li><span><a href=\"#Useful-Scripts\" data-toc-modified-id=\"Useful-Scripts-2\"><span class=\"toc-item-num\">2&nbsp;&nbsp;</span>Useful Scripts</a></span></li><li><span><a href=\"#Load-the-data\" data-toc-modified-id=\"Load-the-data-3\"><span class=\"toc-item-num\">3&nbsp;&nbsp;</span>Load the data</a></span></li><li><span><a href=\"#Preprocessing\" data-toc-modified-id=\"Preprocessing-4\"><span class=\"toc-item-num\">4&nbsp;&nbsp;</span>Preprocessing</a></span><ul class=\"toc-item\"><li><span><a href=\"#Class-Balance\" data-toc-modified-id=\"Class-Balance-4.1\"><span class=\"toc-item-num\">4.1&nbsp;&nbsp;</span>Class Balance</a></span></li><li><span><a href=\"#Scaling\" data-toc-modified-id=\"Scaling-4.2\"><span class=\"toc-item-num\">4.2&nbsp;&nbsp;</span>Scaling</a></span></li><li><span><a href=\"#Random-Under-Sampling\" data-toc-modified-id=\"Random-Under-Sampling-4.3\"><span class=\"toc-item-num\">4.3&nbsp;&nbsp;</span>Random Under Sampling</a></span></li></ul></li><li><span><a href=\"#Train-Test-split-with-stratify-for-imbalanced-data\" data-toc-modified-id=\"Train-Test-split-with-stratify-for-imbalanced-data-5\"><span class=\"toc-item-num\">5&nbsp;&nbsp;</span>Train Test split with stratify for imbalanced data</a></span><ul class=\"toc-item\"><li><span><a href=\"#Check-for-nans-before-modelling\" data-toc-modified-id=\"Check-for-nans-before-modelling-5.1\"><span class=\"toc-item-num\">5.1&nbsp;&nbsp;</span>Check for nans before modelling</a></span></li></ul></li><li><span><a href=\"#Modelling\" data-toc-modified-id=\"Modelling-6\"><span class=\"toc-item-num\">6&nbsp;&nbsp;</span>Modelling</a></span><ul class=\"toc-item\"><li><span><a href=\"#Classifiers\" data-toc-modified-id=\"Classifiers-6.1\"><span class=\"toc-item-num\">6.1&nbsp;&nbsp;</span>Classifiers</a></span></li><li><span><a href=\"#Recall-Scores-from-Cross-Validation\" data-toc-modified-id=\"Recall-Scores-from-Cross-Validation-6.2\"><span class=\"toc-item-num\">6.2&nbsp;&nbsp;</span>Recall Scores from Cross Validation</a></span></li></ul></li><li><span><a href=\"#SVC-with-Calibrated-Probabilities\" data-toc-modified-id=\"SVC-with-Calibrated-Probabilities-7\"><span class=\"toc-item-num\">7&nbsp;&nbsp;</span>SVC with Calibrated Probabilities</a></span></li><li><span><a href=\"#Run-Time\" data-toc-modified-id=\"Run-Time-8\"><span class=\"toc-item-num\">8&nbsp;&nbsp;</span>Run Time</a></span></li></ul></div>"
   ]
  },
  {
   "cell_type": "markdown",
   "metadata": {},
   "source": [
    "<div class=\"alert alert-block alert-success\">\n",
    "<b>Kernel Author:</b>  <br>\n",
    "<a href=\"https://bhishanpdl.github.io/\" , target=\"_blank\">Bhishan Poudel,  Data Scientist, Ph.D Astrophysics</a> .\n",
    "</div>"
   ]
  },
  {
   "cell_type": "markdown",
   "metadata": {},
   "source": [
    "# Imports"
   ]
  },
  {
   "cell_type": "code",
   "execution_count": 1,
   "metadata": {
    "ExecuteTime": {
     "end_time": "2020-01-10T23:46:07.163961Z",
     "start_time": "2020-01-10T23:46:05.453405Z"
    }
   },
   "outputs": [
    {
     "name": "stdout",
     "output_type": "stream",
     "text": [
      "[('numpy', '1.16.4'), ('pandas', '0.25.3'), ('seaborn', '0.9.0'), ('matplotlib', '3.1.1')]\n"
     ]
    }
   ],
   "source": [
    "import time\n",
    "time_start_notebook = time.time()\n",
    "\n",
    "import numpy as np\n",
    "import pandas as pd\n",
    "import seaborn as sns\n",
    "sns.set(color_codes=True)\n",
    "\n",
    "import matplotlib\n",
    "import matplotlib.pyplot as plt\n",
    "%matplotlib inline\n",
    "\n",
    "import os\n",
    "import time\n",
    "\n",
    "# random state\n",
    "SEED=100\n",
    "np.random.seed(SEED) # we need this in each cell\n",
    "\n",
    "# Jupyter notebook settings for pandas\n",
    "pd.set_option('display.max_columns', 200)\n",
    "pd.set_option('display.max_rows', 100) # None for all the rows\n",
    "pd.set_option('display.max_colwidth', 50)\n",
    "\n",
    "print([(x.__name__,x.__version__) for x in [np, pd,sns,matplotlib]])"
   ]
  },
  {
   "cell_type": "code",
   "execution_count": 2,
   "metadata": {
    "ExecuteTime": {
     "end_time": "2020-01-10T23:46:07.170780Z",
     "start_time": "2020-01-10T23:46:07.166700Z"
    }
   },
   "outputs": [],
   "source": [
    "# six and pickle\n",
    "import six\n",
    "import pickle\n",
    "import joblib"
   ]
  },
  {
   "cell_type": "code",
   "execution_count": 3,
   "metadata": {
    "ExecuteTime": {
     "end_time": "2020-01-10T23:46:07.766772Z",
     "start_time": "2020-01-10T23:46:07.172818Z"
    }
   },
   "outputs": [],
   "source": [
    "# scale and split\n",
    "from sklearn.preprocessing import MinMaxScaler, StandardScaler, RobustScaler\n",
    "from sklearn.model_selection import train_test_split\n",
    "from sklearn.model_selection import StratifiedKFold"
   ]
  },
  {
   "cell_type": "code",
   "execution_count": 4,
   "metadata": {
    "ExecuteTime": {
     "end_time": "2020-01-10T23:46:07.898060Z",
     "start_time": "2020-01-10T23:46:07.769865Z"
    }
   },
   "outputs": [],
   "source": [
    "# classifiers\n",
    "from sklearn.linear_model import LogisticRegression\n",
    "from sklearn.svm import SVC\n",
    "from sklearn.neighbors import KNeighborsClassifier\n",
    "from sklearn.tree import DecisionTreeClassifier\n",
    "from sklearn.ensemble import RandomForestClassifier"
   ]
  },
  {
   "cell_type": "code",
   "execution_count": 5,
   "metadata": {
    "ExecuteTime": {
     "end_time": "2020-01-10T23:46:07.904357Z",
     "start_time": "2020-01-10T23:46:07.900310Z"
    }
   },
   "outputs": [],
   "source": [
    "# grid search\n",
    "from sklearn.model_selection import GridSearchCV, RandomizedSearchCV\n",
    "from sklearn.model_selection import StratifiedKFold"
   ]
  },
  {
   "cell_type": "code",
   "execution_count": 6,
   "metadata": {
    "ExecuteTime": {
     "end_time": "2020-01-10T23:46:07.911675Z",
     "start_time": "2020-01-10T23:46:07.906626Z"
    }
   },
   "outputs": [],
   "source": [
    "# pipeline\n",
    "from sklearn.pipeline import make_pipeline"
   ]
  },
  {
   "cell_type": "code",
   "execution_count": 7,
   "metadata": {
    "ExecuteTime": {
     "end_time": "2020-01-10T23:46:07.925126Z",
     "start_time": "2020-01-10T23:46:07.919858Z"
    }
   },
   "outputs": [],
   "source": [
    "# cross validations\n",
    "\n",
    "#------------------\n",
    "# cross_val_score(lasso, X, y, cv=5,n_jobs=-1,scoring='r2')\n",
    "# cross_val_score(clf,   X, y, cv=5,n_jobs=-1,scoring='recall')\n",
    "from sklearn.model_selection import cross_val_score\n",
    "\n",
    "#------------------\n",
    "# cross_val_predict may differ from cross_validate and cross_val_score\n",
    "# cross_val_predict can be used for plotting.\n",
    "# ypreds = cross_val_predict(lasso, X, y, cv=5,n_jobs=-1,scoring='r2')\n",
    "# ypreds = cross_val_predict(clf,   X, y, cv=5,n_jobs=-1,scoring='recall')\n",
    "from sklearn.model_selection import cross_val_predict\n",
    "\n",
    "#------------------\n",
    "# cv_results = cross_validate(lasso, X, y, cv=5,n_jobs=-1,scoring='r2')\n",
    "# print(cv_results['test_score'])\n",
    "from sklearn.metrics.scorer import make_scorer\n",
    "from sklearn.model_selection import cross_validate"
   ]
  },
  {
   "cell_type": "code",
   "execution_count": 8,
   "metadata": {
    "ExecuteTime": {
     "end_time": "2020-01-10T23:46:07.935421Z",
     "start_time": "2020-01-10T23:46:07.930628Z"
    }
   },
   "outputs": [],
   "source": [
    "# sklearn scalar metrics\n",
    "from sklearn.metrics import accuracy_score\n",
    "from sklearn.metrics import precision_score\n",
    "from sklearn.metrics import recall_score\n",
    "from sklearn.metrics import f1_score"
   ]
  },
  {
   "cell_type": "code",
   "execution_count": 9,
   "metadata": {
    "ExecuteTime": {
     "end_time": "2020-01-10T23:46:07.945924Z",
     "start_time": "2020-01-10T23:46:07.939690Z"
    }
   },
   "outputs": [],
   "source": [
    "# multiple metrics\n",
    "from sklearn.metrics import average_precision_score\n",
    "from sklearn.metrics import precision_recall_fscore_support"
   ]
  },
  {
   "cell_type": "code",
   "execution_count": 10,
   "metadata": {
    "ExecuteTime": {
     "end_time": "2020-01-10T23:46:07.952333Z",
     "start_time": "2020-01-10T23:46:07.948098Z"
    }
   },
   "outputs": [],
   "source": [
    "# roc auc and curves\n",
    "from sklearn.metrics import auc\n",
    "from sklearn.metrics import roc_auc_score\n",
    "from sklearn.metrics import roc_curve\n",
    "from sklearn.metrics import precision_recall_curve"
   ]
  },
  {
   "cell_type": "code",
   "execution_count": 11,
   "metadata": {
    "ExecuteTime": {
     "end_time": "2020-01-10T23:46:07.962676Z",
     "start_time": "2020-01-10T23:46:07.957288Z"
    }
   },
   "outputs": [],
   "source": [
    "# confusion matrix and classification report\n",
    "from sklearn.metrics import confusion_matrix\n",
    "from sklearn.metrics import classification_report"
   ]
  },
  {
   "cell_type": "markdown",
   "metadata": {},
   "source": [
    "# Useful Scripts"
   ]
  },
  {
   "cell_type": "code",
   "execution_count": 12,
   "metadata": {
    "ExecuteTime": {
     "end_time": "2020-01-10T23:46:07.971565Z",
     "start_time": "2020-01-10T23:46:07.964796Z"
    }
   },
   "outputs": [],
   "source": [
    "def show_method_attributes(obj, ncols=7,start=None, inside=None):\n",
    "    \"\"\" Show all the attributes of a given method.\n",
    "    Example:\n",
    "    ========\n",
    "    show_method_attributes(list)\n",
    "     \"\"\"\n",
    "\n",
    "    print(f'Object Type: {type(obj)}\\n')\n",
    "    lst = [elem for elem in dir(obj) if elem[0]!='_' ]\n",
    "    lst = [elem for elem in lst \n",
    "           if elem not in 'os np pd sys time psycopg2'.split() ]\n",
    "\n",
    "    if isinstance(start,str):\n",
    "        lst = [elem for elem in lst if elem.startswith(start)]\n",
    "        \n",
    "    if isinstance(start,tuple) or isinstance(start,list):\n",
    "        lst = [elem for elem in lst for start_elem in start\n",
    "               if elem.startswith(start_elem)]\n",
    "        \n",
    "    if isinstance(inside,str):\n",
    "        lst = [elem for elem in lst if inside in elem]\n",
    "        \n",
    "    if isinstance(inside,tuple) or isinstance(inside,list):\n",
    "        lst = [elem for elem in lst for inside_elem in inside\n",
    "               if inside_elem in elem]\n",
    "\n",
    "    return pd.DataFrame(np.array_split(lst,ncols)).T.fillna('')"
   ]
  },
  {
   "cell_type": "markdown",
   "metadata": {},
   "source": [
    "# Load the data"
   ]
  },
  {
   "cell_type": "code",
   "execution_count": 13,
   "metadata": {
    "ExecuteTime": {
     "end_time": "2020-01-10T23:46:10.245753Z",
     "start_time": "2020-01-10T23:46:07.977547Z"
    }
   },
   "outputs": [
    {
     "name": "stdout",
     "output_type": "stream",
     "text": [
      "(284807, 31)\n"
     ]
    },
    {
     "data": {
      "text/html": [
       "<div>\n",
       "<style scoped>\n",
       "    .dataframe tbody tr th:only-of-type {\n",
       "        vertical-align: middle;\n",
       "    }\n",
       "\n",
       "    .dataframe tbody tr th {\n",
       "        vertical-align: top;\n",
       "    }\n",
       "\n",
       "    .dataframe thead th {\n",
       "        text-align: right;\n",
       "    }\n",
       "</style>\n",
       "<table border=\"1\" class=\"dataframe\">\n",
       "  <thead>\n",
       "    <tr style=\"text-align: right;\">\n",
       "      <th></th>\n",
       "      <th>Time</th>\n",
       "      <th>V1</th>\n",
       "      <th>V2</th>\n",
       "      <th>V3</th>\n",
       "      <th>V4</th>\n",
       "      <th>V5</th>\n",
       "      <th>V6</th>\n",
       "      <th>V7</th>\n",
       "      <th>V8</th>\n",
       "      <th>V9</th>\n",
       "      <th>V10</th>\n",
       "      <th>V11</th>\n",
       "      <th>V12</th>\n",
       "      <th>V13</th>\n",
       "      <th>V14</th>\n",
       "      <th>V15</th>\n",
       "      <th>V16</th>\n",
       "      <th>V17</th>\n",
       "      <th>V18</th>\n",
       "      <th>V19</th>\n",
       "      <th>V20</th>\n",
       "      <th>V21</th>\n",
       "      <th>V22</th>\n",
       "      <th>V23</th>\n",
       "      <th>V24</th>\n",
       "      <th>V25</th>\n",
       "      <th>V26</th>\n",
       "      <th>V27</th>\n",
       "      <th>V28</th>\n",
       "      <th>Amount</th>\n",
       "      <th>Class</th>\n",
       "    </tr>\n",
       "  </thead>\n",
       "  <tbody>\n",
       "    <tr>\n",
       "      <th>0</th>\n",
       "      <td>0.0</td>\n",
       "      <td>-1.359807</td>\n",
       "      <td>-0.072781</td>\n",
       "      <td>2.536347</td>\n",
       "      <td>1.378155</td>\n",
       "      <td>-0.338321</td>\n",
       "      <td>0.462388</td>\n",
       "      <td>0.239599</td>\n",
       "      <td>0.098698</td>\n",
       "      <td>0.363787</td>\n",
       "      <td>0.090794</td>\n",
       "      <td>-0.551600</td>\n",
       "      <td>-0.617801</td>\n",
       "      <td>-0.991390</td>\n",
       "      <td>-0.311169</td>\n",
       "      <td>1.468177</td>\n",
       "      <td>-0.470401</td>\n",
       "      <td>0.207971</td>\n",
       "      <td>0.025791</td>\n",
       "      <td>0.403993</td>\n",
       "      <td>0.251412</td>\n",
       "      <td>-0.018307</td>\n",
       "      <td>0.277838</td>\n",
       "      <td>-0.110474</td>\n",
       "      <td>0.066928</td>\n",
       "      <td>0.128539</td>\n",
       "      <td>-0.189115</td>\n",
       "      <td>0.133558</td>\n",
       "      <td>-0.021053</td>\n",
       "      <td>149.62</td>\n",
       "      <td>0</td>\n",
       "    </tr>\n",
       "    <tr>\n",
       "      <th>1</th>\n",
       "      <td>0.0</td>\n",
       "      <td>1.191857</td>\n",
       "      <td>0.266151</td>\n",
       "      <td>0.166480</td>\n",
       "      <td>0.448154</td>\n",
       "      <td>0.060018</td>\n",
       "      <td>-0.082361</td>\n",
       "      <td>-0.078803</td>\n",
       "      <td>0.085102</td>\n",
       "      <td>-0.255425</td>\n",
       "      <td>-0.166974</td>\n",
       "      <td>1.612727</td>\n",
       "      <td>1.065235</td>\n",
       "      <td>0.489095</td>\n",
       "      <td>-0.143772</td>\n",
       "      <td>0.635558</td>\n",
       "      <td>0.463917</td>\n",
       "      <td>-0.114805</td>\n",
       "      <td>-0.183361</td>\n",
       "      <td>-0.145783</td>\n",
       "      <td>-0.069083</td>\n",
       "      <td>-0.225775</td>\n",
       "      <td>-0.638672</td>\n",
       "      <td>0.101288</td>\n",
       "      <td>-0.339846</td>\n",
       "      <td>0.167170</td>\n",
       "      <td>0.125895</td>\n",
       "      <td>-0.008983</td>\n",
       "      <td>0.014724</td>\n",
       "      <td>2.69</td>\n",
       "      <td>0</td>\n",
       "    </tr>\n",
       "    <tr>\n",
       "      <th>2</th>\n",
       "      <td>1.0</td>\n",
       "      <td>-1.358354</td>\n",
       "      <td>-1.340163</td>\n",
       "      <td>1.773209</td>\n",
       "      <td>0.379780</td>\n",
       "      <td>-0.503198</td>\n",
       "      <td>1.800499</td>\n",
       "      <td>0.791461</td>\n",
       "      <td>0.247676</td>\n",
       "      <td>-1.514654</td>\n",
       "      <td>0.207643</td>\n",
       "      <td>0.624501</td>\n",
       "      <td>0.066084</td>\n",
       "      <td>0.717293</td>\n",
       "      <td>-0.165946</td>\n",
       "      <td>2.345865</td>\n",
       "      <td>-2.890083</td>\n",
       "      <td>1.109969</td>\n",
       "      <td>-0.121359</td>\n",
       "      <td>-2.261857</td>\n",
       "      <td>0.524980</td>\n",
       "      <td>0.247998</td>\n",
       "      <td>0.771679</td>\n",
       "      <td>0.909412</td>\n",
       "      <td>-0.689281</td>\n",
       "      <td>-0.327642</td>\n",
       "      <td>-0.139097</td>\n",
       "      <td>-0.055353</td>\n",
       "      <td>-0.059752</td>\n",
       "      <td>378.66</td>\n",
       "      <td>0</td>\n",
       "    </tr>\n",
       "    <tr>\n",
       "      <th>3</th>\n",
       "      <td>1.0</td>\n",
       "      <td>-0.966272</td>\n",
       "      <td>-0.185226</td>\n",
       "      <td>1.792993</td>\n",
       "      <td>-0.863291</td>\n",
       "      <td>-0.010309</td>\n",
       "      <td>1.247203</td>\n",
       "      <td>0.237609</td>\n",
       "      <td>0.377436</td>\n",
       "      <td>-1.387024</td>\n",
       "      <td>-0.054952</td>\n",
       "      <td>-0.226487</td>\n",
       "      <td>0.178228</td>\n",
       "      <td>0.507757</td>\n",
       "      <td>-0.287924</td>\n",
       "      <td>-0.631418</td>\n",
       "      <td>-1.059647</td>\n",
       "      <td>-0.684093</td>\n",
       "      <td>1.965775</td>\n",
       "      <td>-1.232622</td>\n",
       "      <td>-0.208038</td>\n",
       "      <td>-0.108300</td>\n",
       "      <td>0.005274</td>\n",
       "      <td>-0.190321</td>\n",
       "      <td>-1.175575</td>\n",
       "      <td>0.647376</td>\n",
       "      <td>-0.221929</td>\n",
       "      <td>0.062723</td>\n",
       "      <td>0.061458</td>\n",
       "      <td>123.50</td>\n",
       "      <td>0</td>\n",
       "    </tr>\n",
       "    <tr>\n",
       "      <th>4</th>\n",
       "      <td>2.0</td>\n",
       "      <td>-1.158233</td>\n",
       "      <td>0.877737</td>\n",
       "      <td>1.548718</td>\n",
       "      <td>0.403034</td>\n",
       "      <td>-0.407193</td>\n",
       "      <td>0.095921</td>\n",
       "      <td>0.592941</td>\n",
       "      <td>-0.270533</td>\n",
       "      <td>0.817739</td>\n",
       "      <td>0.753074</td>\n",
       "      <td>-0.822843</td>\n",
       "      <td>0.538196</td>\n",
       "      <td>1.345852</td>\n",
       "      <td>-1.119670</td>\n",
       "      <td>0.175121</td>\n",
       "      <td>-0.451449</td>\n",
       "      <td>-0.237033</td>\n",
       "      <td>-0.038195</td>\n",
       "      <td>0.803487</td>\n",
       "      <td>0.408542</td>\n",
       "      <td>-0.009431</td>\n",
       "      <td>0.798278</td>\n",
       "      <td>-0.137458</td>\n",
       "      <td>0.141267</td>\n",
       "      <td>-0.206010</td>\n",
       "      <td>0.502292</td>\n",
       "      <td>0.219422</td>\n",
       "      <td>0.215153</td>\n",
       "      <td>69.99</td>\n",
       "      <td>0</td>\n",
       "    </tr>\n",
       "  </tbody>\n",
       "</table>\n",
       "</div>"
      ],
      "text/plain": [
       "   Time        V1        V2        V3        V4        V5        V6        V7  \\\n",
       "0   0.0 -1.359807 -0.072781  2.536347  1.378155 -0.338321  0.462388  0.239599   \n",
       "1   0.0  1.191857  0.266151  0.166480  0.448154  0.060018 -0.082361 -0.078803   \n",
       "2   1.0 -1.358354 -1.340163  1.773209  0.379780 -0.503198  1.800499  0.791461   \n",
       "3   1.0 -0.966272 -0.185226  1.792993 -0.863291 -0.010309  1.247203  0.237609   \n",
       "4   2.0 -1.158233  0.877737  1.548718  0.403034 -0.407193  0.095921  0.592941   \n",
       "\n",
       "         V8        V9       V10       V11       V12       V13       V14  \\\n",
       "0  0.098698  0.363787  0.090794 -0.551600 -0.617801 -0.991390 -0.311169   \n",
       "1  0.085102 -0.255425 -0.166974  1.612727  1.065235  0.489095 -0.143772   \n",
       "2  0.247676 -1.514654  0.207643  0.624501  0.066084  0.717293 -0.165946   \n",
       "3  0.377436 -1.387024 -0.054952 -0.226487  0.178228  0.507757 -0.287924   \n",
       "4 -0.270533  0.817739  0.753074 -0.822843  0.538196  1.345852 -1.119670   \n",
       "\n",
       "        V15       V16       V17       V18       V19       V20       V21  \\\n",
       "0  1.468177 -0.470401  0.207971  0.025791  0.403993  0.251412 -0.018307   \n",
       "1  0.635558  0.463917 -0.114805 -0.183361 -0.145783 -0.069083 -0.225775   \n",
       "2  2.345865 -2.890083  1.109969 -0.121359 -2.261857  0.524980  0.247998   \n",
       "3 -0.631418 -1.059647 -0.684093  1.965775 -1.232622 -0.208038 -0.108300   \n",
       "4  0.175121 -0.451449 -0.237033 -0.038195  0.803487  0.408542 -0.009431   \n",
       "\n",
       "        V22       V23       V24       V25       V26       V27       V28  \\\n",
       "0  0.277838 -0.110474  0.066928  0.128539 -0.189115  0.133558 -0.021053   \n",
       "1 -0.638672  0.101288 -0.339846  0.167170  0.125895 -0.008983  0.014724   \n",
       "2  0.771679  0.909412 -0.689281 -0.327642 -0.139097 -0.055353 -0.059752   \n",
       "3  0.005274 -0.190321 -1.175575  0.647376 -0.221929  0.062723  0.061458   \n",
       "4  0.798278 -0.137458  0.141267 -0.206010  0.502292  0.219422  0.215153   \n",
       "\n",
       "   Amount  Class  \n",
       "0  149.62      0  \n",
       "1    2.69      0  \n",
       "2  378.66      0  \n",
       "3  123.50      0  \n",
       "4   69.99      0  "
      ]
     },
     "execution_count": 13,
     "metadata": {},
     "output_type": "execute_result"
    }
   ],
   "source": [
    "df = pd.read_csv('../data/raw/creditcard.csv.zip',compression='zip')\n",
    "print(df.shape)\n",
    "df.head()"
   ]
  },
  {
   "cell_type": "markdown",
   "metadata": {},
   "source": [
    "# Preprocessing"
   ]
  },
  {
   "cell_type": "markdown",
   "metadata": {},
   "source": [
    "## Class Balance"
   ]
  },
  {
   "cell_type": "code",
   "execution_count": 14,
   "metadata": {
    "ExecuteTime": {
     "end_time": "2020-01-10T23:46:10.257992Z",
     "start_time": "2020-01-10T23:46:10.248847Z"
    }
   },
   "outputs": [
    {
     "data": {
      "text/plain": [
       "0    284315\n",
       "1       492\n",
       "Name: Class, dtype: int64"
      ]
     },
     "execution_count": 14,
     "metadata": {},
     "output_type": "execute_result"
    }
   ],
   "source": [
    "target = 'Class'\n",
    "df[target].value_counts()"
   ]
  },
  {
   "cell_type": "code",
   "execution_count": 15,
   "metadata": {
    "ExecuteTime": {
     "end_time": "2020-01-10T23:46:10.286441Z",
     "start_time": "2020-01-10T23:46:10.261307Z"
    }
   },
   "outputs": [
    {
     "data": {
      "text/plain": [
       "0    998.272514\n",
       "1      1.727486\n",
       "Name: Class, dtype: float64"
      ]
     },
     "execution_count": 15,
     "metadata": {},
     "output_type": "execute_result"
    }
   ],
   "source": [
    "df[target].value_counts(normalize=True)*1000"
   ]
  },
  {
   "cell_type": "markdown",
   "metadata": {},
   "source": [
    "## Scaling"
   ]
  },
  {
   "cell_type": "code",
   "execution_count": 16,
   "metadata": {
    "ExecuteTime": {
     "end_time": "2020-01-10T23:46:10.309073Z",
     "start_time": "2020-01-10T23:46:10.288563Z"
    }
   },
   "outputs": [],
   "source": [
    "# RobustScaler is less prone to outliers.\n",
    "from sklearn.preprocessing import StandardScaler, RobustScaler\n",
    "\n",
    "scaler = RobustScaler()\n",
    "\n",
    "df['scaled_amount'] = scaler.fit_transform(df['Amount'].values.reshape(-1,1))\n",
    "df['scaled_time'] = scaler.fit_transform(df['Time'].values.reshape(-1,1))"
   ]
  },
  {
   "cell_type": "markdown",
   "metadata": {},
   "source": [
    "## Random Under Sampling\n",
    "- If classes are imbalanced, more frequent class causes overfitting.\n",
    "- We can use undersampling of classes.\n",
    "- Faster to train the model, since lower number of samples are remained.\n",
    "\n",
    "Cons:\n",
    "- Large number of rows may be dropped and risk of information loss."
   ]
  },
  {
   "cell_type": "code",
   "execution_count": 17,
   "metadata": {
    "ExecuteTime": {
     "end_time": "2020-01-10T23:46:10.455756Z",
     "start_time": "2020-01-10T23:46:10.311179Z"
    }
   },
   "outputs": [
    {
     "data": {
      "text/plain": [
       "1    492\n",
       "0    492\n",
       "Name: Class, dtype: int64"
      ]
     },
     "execution_count": 17,
     "metadata": {},
     "output_type": "execute_result"
    }
   ],
   "source": [
    "# without removing outliers\n",
    "n = df[target].value_counts().values[-1]\n",
    "\n",
    "df_under = (df.groupby(target)\n",
    "                .apply(lambda x: x.sample(n,random_state=SEED))\n",
    "                .reset_index(drop=True)\n",
    "               )\n",
    "\n",
    "df_under[target].value_counts()"
   ]
  },
  {
   "cell_type": "code",
   "execution_count": 18,
   "metadata": {
    "ExecuteTime": {
     "end_time": "2020-01-10T23:46:10.464698Z",
     "start_time": "2020-01-10T23:46:10.458659Z"
    }
   },
   "outputs": [
    {
     "data": {
      "text/plain": [
       "((284807, 33), (984, 33))"
      ]
     },
     "execution_count": 18,
     "metadata": {},
     "output_type": "execute_result"
    }
   ],
   "source": [
    "df.shape, df_under.shape\n",
    "# out of 284k samples, we now have 984 samples for undersampling\n",
    "# we have lost 283k samples and have only 1k samples\n",
    "# this is a lot of information losss, but still I will test the \n",
    "# classifiers with this undersampling method.\n",
    "#\n",
    "# Later, I will use oversampling methods to do the modelling."
   ]
  },
  {
   "cell_type": "markdown",
   "metadata": {},
   "source": [
    "# Train Test split with stratify for imbalanced data"
   ]
  },
  {
   "cell_type": "code",
   "execution_count": 19,
   "metadata": {
    "ExecuteTime": {
     "end_time": "2020-01-10T23:46:10.474207Z",
     "start_time": "2020-01-10T23:46:10.467209Z"
    }
   },
   "outputs": [
    {
     "data": {
      "text/plain": [
       "Index(['Time', 'V1', 'V2', 'V3', 'V4', 'V5', 'V6', 'V7', 'V8', 'V9', 'V10',\n",
       "       'V11', 'V12', 'V13', 'V14', 'V15', 'V16', 'V17', 'V18', 'V19', 'V20',\n",
       "       'V21', 'V22', 'V23', 'V24', 'V25', 'V26', 'V27', 'V28', 'Amount',\n",
       "       'Class', 'scaled_amount', 'scaled_time'],\n",
       "      dtype='object')"
      ]
     },
     "execution_count": 19,
     "metadata": {},
     "output_type": "execute_result"
    }
   ],
   "source": [
    "df.columns"
   ]
  },
  {
   "cell_type": "code",
   "execution_count": 20,
   "metadata": {
    "ExecuteTime": {
     "end_time": "2020-01-10T23:46:10.511011Z",
     "start_time": "2020-01-10T23:46:10.476527Z"
    }
   },
   "outputs": [
    {
     "name": "stdout",
     "output_type": "stream",
     "text": [
      "(284807, 33) (787, 32) (197, 32)\n",
      "(284807, 33) (787, 33) (197, 33)\n"
     ]
    },
    {
     "data": {
      "text/html": [
       "<div>\n",
       "<style scoped>\n",
       "    .dataframe tbody tr th:only-of-type {\n",
       "        vertical-align: middle;\n",
       "    }\n",
       "\n",
       "    .dataframe tbody tr th {\n",
       "        vertical-align: top;\n",
       "    }\n",
       "\n",
       "    .dataframe thead th {\n",
       "        text-align: right;\n",
       "    }\n",
       "</style>\n",
       "<table border=\"1\" class=\"dataframe\">\n",
       "  <thead>\n",
       "    <tr style=\"text-align: right;\">\n",
       "      <th></th>\n",
       "      <th>Amount</th>\n",
       "      <th>Time</th>\n",
       "      <th>V1</th>\n",
       "      <th>V10</th>\n",
       "      <th>V11</th>\n",
       "      <th>V12</th>\n",
       "      <th>V13</th>\n",
       "      <th>V14</th>\n",
       "      <th>V15</th>\n",
       "      <th>V16</th>\n",
       "      <th>V17</th>\n",
       "      <th>V18</th>\n",
       "      <th>V19</th>\n",
       "      <th>V2</th>\n",
       "      <th>V20</th>\n",
       "      <th>V21</th>\n",
       "      <th>V22</th>\n",
       "      <th>V23</th>\n",
       "      <th>V24</th>\n",
       "      <th>V25</th>\n",
       "      <th>V26</th>\n",
       "      <th>V27</th>\n",
       "      <th>V28</th>\n",
       "      <th>V3</th>\n",
       "      <th>V4</th>\n",
       "      <th>V5</th>\n",
       "      <th>V6</th>\n",
       "      <th>V7</th>\n",
       "      <th>V8</th>\n",
       "      <th>V9</th>\n",
       "      <th>scaled_amount</th>\n",
       "      <th>scaled_time</th>\n",
       "      <th>Class</th>\n",
       "    </tr>\n",
       "  </thead>\n",
       "  <tbody>\n",
       "    <tr>\n",
       "      <th>0</th>\n",
       "      <td>147856.0</td>\n",
       "      <td>1.915851</td>\n",
       "      <td>0.665687</td>\n",
       "      <td>-0.884928</td>\n",
       "      <td>3.489039</td>\n",
       "      <td>0.842344</td>\n",
       "      <td>0.315856</td>\n",
       "      <td>0.220146</td>\n",
       "      <td>-0.016990</td>\n",
       "      <td>-1.539009</td>\n",
       "      <td>1.678634</td>\n",
       "      <td>0.800689</td>\n",
       "      <td>0.763875</td>\n",
       "      <td>0.839985</td>\n",
       "      <td>0.430142</td>\n",
       "      <td>-1.024695</td>\n",
       "      <td>1.021889</td>\n",
       "      <td>-1.179907</td>\n",
       "      <td>0.101768</td>\n",
       "      <td>-1.527063</td>\n",
       "      <td>-0.210279</td>\n",
       "      <td>0.289098</td>\n",
       "      <td>0.828991</td>\n",
       "      <td>0.088947</td>\n",
       "      <td>0.716084</td>\n",
       "      <td>0.127340</td>\n",
       "      <td>0.079675</td>\n",
       "      <td>-0.045138</td>\n",
       "      <td>-0.054328</td>\n",
       "      <td>0.00</td>\n",
       "      <td>-0.307413</td>\n",
       "      <td>0.742067</td>\n",
       "      <td>0.0</td>\n",
       "    </tr>\n",
       "    <tr>\n",
       "      <th>1</th>\n",
       "      <td>155662.0</td>\n",
       "      <td>-1.928613</td>\n",
       "      <td>4.601506</td>\n",
       "      <td>-7.124053</td>\n",
       "      <td>5.716088</td>\n",
       "      <td>1.026579</td>\n",
       "      <td>-3.189073</td>\n",
       "      <td>-2.261897</td>\n",
       "      <td>1.185096</td>\n",
       "      <td>-4.441942</td>\n",
       "      <td>-6.646154</td>\n",
       "      <td>3.827868</td>\n",
       "      <td>-6.518649</td>\n",
       "      <td>0.251137</td>\n",
       "      <td>-12.456706</td>\n",
       "      <td>-0.649166</td>\n",
       "      <td>-1.283145</td>\n",
       "      <td>-2.718560</td>\n",
       "      <td>-0.085466</td>\n",
       "      <td>-2.097385</td>\n",
       "      <td>0.328796</td>\n",
       "      <td>0.602291</td>\n",
       "      <td>-0.541287</td>\n",
       "      <td>-0.354639</td>\n",
       "      <td>-0.701492</td>\n",
       "      <td>-0.030973</td>\n",
       "      <td>0.034070</td>\n",
       "      <td>0.573393</td>\n",
       "      <td>0.294686</td>\n",
       "      <td>0.77</td>\n",
       "      <td>-0.296653</td>\n",
       "      <td>0.833774</td>\n",
       "      <td>1.0</td>\n",
       "    </tr>\n",
       "  </tbody>\n",
       "</table>\n",
       "</div>"
      ],
      "text/plain": [
       "     Amount      Time        V1       V10       V11       V12       V13  \\\n",
       "0  147856.0  1.915851  0.665687 -0.884928  3.489039  0.842344  0.315856   \n",
       "1  155662.0 -1.928613  4.601506 -7.124053  5.716088  1.026579 -3.189073   \n",
       "\n",
       "        V14       V15       V16       V17       V18       V19        V2  \\\n",
       "0  0.220146 -0.016990 -1.539009  1.678634  0.800689  0.763875  0.839985   \n",
       "1 -2.261897  1.185096 -4.441942 -6.646154  3.827868 -6.518649  0.251137   \n",
       "\n",
       "         V20       V21       V22       V23       V24       V25       V26  \\\n",
       "0   0.430142 -1.024695  1.021889 -1.179907  0.101768 -1.527063 -0.210279   \n",
       "1 -12.456706 -0.649166 -1.283145 -2.718560 -0.085466 -2.097385  0.328796   \n",
       "\n",
       "        V27       V28        V3        V4        V5        V6        V7  \\\n",
       "0  0.289098  0.828991  0.088947  0.716084  0.127340  0.079675 -0.045138   \n",
       "1  0.602291 -0.541287 -0.354639 -0.701492 -0.030973  0.034070  0.573393   \n",
       "\n",
       "         V8    V9  scaled_amount  scaled_time  Class  \n",
       "0 -0.054328  0.00      -0.307413     0.742067    0.0  \n",
       "1  0.294686  0.77      -0.296653     0.833774    1.0  "
      ]
     },
     "execution_count": 20,
     "metadata": {},
     "output_type": "execute_result"
    }
   ],
   "source": [
    "(Xtrain_under, Xtest_under,\n",
    " ytrain_under, ytest_under) = \\\n",
    "    train_test_split(df_under.drop([target],1),\n",
    "                     df_under[target],\n",
    "                     random_state=SEED,\n",
    "                     test_size=0.2,\n",
    "                     #stratify=df_under[target] # do no use stratify here.\n",
    "                     )\n",
    "\n",
    "print(df.shape, Xtrain_under.shape, Xtest_under.shape)\n",
    "columns = df.columns.difference([target]).values.tolist() + [target]\n",
    "\n",
    "df_train_under = pd.DataFrame(data=np.c_[Xtrain_under,\n",
    "                                         ytrain_under],\n",
    "                              columns=columns)\n",
    "\n",
    "df_test_under = pd.DataFrame(data=np.c_[Xtest_under\n",
    "                                        ,ytest_under],\n",
    "                             columns=columns)\n",
    "\n",
    "print(df.shape, df_train_under.shape, df_test_under.shape)\n",
    "df_train_under.head(2)"
   ]
  },
  {
   "cell_type": "code",
   "execution_count": 21,
   "metadata": {
    "ExecuteTime": {
     "end_time": "2020-01-10T23:46:10.520153Z",
     "start_time": "2020-01-10T23:46:10.513337Z"
    }
   },
   "outputs": [
    {
     "data": {
      "text/plain": [
       "1.0    401\n",
       "0.0    386\n",
       "Name: Class, dtype: int64"
      ]
     },
     "execution_count": 21,
     "metadata": {},
     "output_type": "execute_result"
    }
   ],
   "source": [
    "df_train_under[target].value_counts()"
   ]
  },
  {
   "cell_type": "code",
   "execution_count": 22,
   "metadata": {
    "ExecuteTime": {
     "end_time": "2020-01-10T23:46:10.539685Z",
     "start_time": "2020-01-10T23:46:10.532097Z"
    }
   },
   "outputs": [
    {
     "data": {
      "text/plain": [
       "0.0    106\n",
       "1.0     91\n",
       "Name: Class, dtype: int64"
      ]
     },
     "execution_count": 22,
     "metadata": {},
     "output_type": "execute_result"
    }
   ],
   "source": [
    "df_test_under[target].value_counts()"
   ]
  },
  {
   "cell_type": "markdown",
   "metadata": {},
   "source": [
    "## Check for nans before modelling"
   ]
  },
  {
   "cell_type": "code",
   "execution_count": 23,
   "metadata": {
    "ExecuteTime": {
     "end_time": "2020-01-10T23:46:10.597907Z",
     "start_time": "2020-01-10T23:46:10.544365Z"
    }
   },
   "outputs": [
    {
     "name": "stdout",
     "output_type": "stream",
     "text": [
      "0\n",
      "0\n",
      "0\n",
      "0\n"
     ]
    }
   ],
   "source": [
    "for x in [df, df_under,\n",
    "          df_train_under, df_test_under,\n",
    "         ]:\n",
    "    print(x.isnull().sum().sum())"
   ]
  },
  {
   "cell_type": "code",
   "execution_count": 24,
   "metadata": {
    "ExecuteTime": {
     "end_time": "2020-01-10T23:46:10.608175Z",
     "start_time": "2020-01-10T23:46:10.600934Z"
    }
   },
   "outputs": [
    {
     "data": {
      "text/plain": [
       "Index(['Time', 'V1', 'V2', 'V3', 'V4', 'V5', 'V6', 'V7', 'V8', 'V9', 'V10',\n",
       "       'V11', 'V12', 'V13', 'V14', 'V15', 'V16', 'V17', 'V18', 'V19', 'V20',\n",
       "       'V21', 'V22', 'V23', 'V24', 'V25', 'V26', 'V27', 'V28', 'Amount',\n",
       "       'Class', 'scaled_amount', 'scaled_time'],\n",
       "      dtype='object')"
      ]
     },
     "execution_count": 24,
     "metadata": {},
     "output_type": "execute_result"
    }
   ],
   "source": [
    "df_under.columns"
   ]
  },
  {
   "cell_type": "code",
   "execution_count": 25,
   "metadata": {
    "ExecuteTime": {
     "end_time": "2020-01-10T23:46:10.617882Z",
     "start_time": "2020-01-10T23:46:10.610284Z"
    }
   },
   "outputs": [
    {
     "data": {
      "text/plain": [
       "Index(['Amount', 'Time', 'V1', 'V10', 'V11', 'V12', 'V13', 'V14', 'V15', 'V16',\n",
       "       'V17', 'V18', 'V19', 'V2', 'V20', 'V21', 'V22', 'V23', 'V24', 'V25',\n",
       "       'V26', 'V27', 'V28', 'V3', 'V4', 'V5', 'V6', 'V7', 'V8', 'V9',\n",
       "       'scaled_amount', 'scaled_time', 'Class'],\n",
       "      dtype='object')"
      ]
     },
     "execution_count": 25,
     "metadata": {},
     "output_type": "execute_result"
    }
   ],
   "source": [
    "df_train_under.columns"
   ]
  },
  {
   "cell_type": "markdown",
   "metadata": {},
   "source": [
    "# Modelling\n",
    "\n",
    "<div class=\"alert alert-block alert-info\">\n",
    "<b>NOTE:</b> Always used random state and n_jobs whenever possible <br><br>\n",
    "No random_state: knn <br>\n",
    "No n_jobs: svc and dtree <br>\n",
    "<br>\n",
    "liblinear: It has both 'l1' and 'l2' penalty.<br>\n",
    "liblinear: It has n_jobs as +1, but lbfgs support -1. <br>\n",
    "lbfgs: It has only 'l2' but it is faster for large datasets.<br>\n",
    "<br>\n",
    "liblinear :random_state<br>\n",
    "lbfgs: both <br>\n",
    "svc: random_state only<br>\n",
    "knn: n_jobs only<br>\n",
    "dtree: n_jobs only<br>\n",
    "rf: both<br>\n",
    "\n",
    "\n",
    "</div>\n",
    "\n",
    "</div>\n",
    "\n",
    "<div class=\"alert alert-block alert-info\">\n",
    "<b>NOTE:</b> Confusion Matrix Terms\n",
    "    <br>\n",
    "Fraud ==> Fraud TP <br>\n",
    "Non-Fraud ==> Non-Fraud TN <br>\n",
    "Fraud ==> Non-Fraud FN (I am interested in this) <br>\n",
    "Non-Fraud ==> Fraud FP\n",
    "<br>\n",
    "\n",
    "</div>\n"
   ]
  },
  {
   "cell_type": "markdown",
   "metadata": {},
   "source": [
    "## Classifiers"
   ]
  },
  {
   "cell_type": "code",
   "execution_count": 45,
   "metadata": {
    "ExecuteTime": {
     "end_time": "2020-01-10T23:50:12.423731Z",
     "start_time": "2020-01-10T23:50:12.419263Z"
    }
   },
   "outputs": [],
   "source": [
    "from sklearn.linear_model import LogisticRegression\n",
    "from sklearn.svm import SVC\n",
    "from sklearn.neighbors import KNeighborsClassifier\n",
    "from sklearn.tree import DecisionTreeClassifier\n",
    "from sklearn.ensemble import RandomForestClassifier\n",
    "\n",
    "from sklearn.calibration import CalibratedClassifierCV"
   ]
  },
  {
   "cell_type": "code",
   "execution_count": 27,
   "metadata": {
    "ExecuteTime": {
     "end_time": "2020-01-10T23:46:10.638934Z",
     "start_time": "2020-01-10T23:46:10.627030Z"
    }
   },
   "outputs": [
    {
     "name": "stdout",
     "output_type": "stream",
     "text": [
      "['V1', 'V10', 'V11', 'V12', 'V13', 'V14', 'V15', 'V16', 'V17', 'V18', 'V19', 'V2', 'V20', 'V21', 'V22', 'V23', 'V24', 'V25', 'V26', 'V27', 'V28', 'V3', 'V4', 'V5', 'V6', 'V7', 'V8', 'V9', 'scaled_amount', 'scaled_time']\n"
     ]
    }
   ],
   "source": [
    "features_with_log = df_under.columns.difference(\n",
    "    ['Amount','Time','Class']).values.tolist()\n",
    "\n",
    "features = features_with_log\n",
    "print(features)"
   ]
  },
  {
   "cell_type": "code",
   "execution_count": 28,
   "metadata": {
    "ExecuteTime": {
     "end_time": "2020-01-10T23:46:10.653557Z",
     "start_time": "2020-01-10T23:46:10.643712Z"
    }
   },
   "outputs": [
    {
     "data": {
      "text/plain": [
       "((787, 30), (787,), (197, 30), (197,))"
      ]
     },
     "execution_count": 28,
     "metadata": {},
     "output_type": "execute_result"
    }
   ],
   "source": [
    "# numpy arrays\n",
    "Xtrain = df_train_under[features].values\n",
    "Xtest = df_test_under[features].values\n",
    "\n",
    "ytrain = df_train_under[target].values.ravel()\n",
    "ytest = df_test_under[target].values.ravel()\n",
    "\n",
    "Xtrain.shape, ytrain.shape, Xtest.shape,  ytest.shape"
   ]
  },
  {
   "cell_type": "code",
   "execution_count": 49,
   "metadata": {
    "ExecuteTime": {
     "end_time": "2020-01-10T23:52:50.039716Z",
     "start_time": "2020-01-10T23:52:50.031447Z"
    }
   },
   "outputs": [
    {
     "data": {
      "text/plain": [
       "['Logisitic Regression',\n",
       " 'Support Vector Classifier',\n",
       " 'KNN',\n",
       " 'Decision Tree Classifier',\n",
       " 'Random Forest Classifier',\n",
       " 'Calibrated Logisitic Regression',\n",
       " 'Calibrated Support Vector Classifier',\n",
       " 'Calibrated KNN',\n",
       " 'Calibrated Decision Tree Classifier',\n",
       " 'Calibrated Random Forest Classifier']"
      ]
     },
     "execution_count": 49,
     "metadata": {},
     "output_type": "execute_result"
    }
   ],
   "source": [
    "clf_lr = LogisticRegression(solver='liblinear',\n",
    "                            max_iter=4000,\n",
    "                            random_state=SEED,\n",
    "                            n_jobs=1,) # for liblinear n_jobs is +1.\n",
    "\n",
    "clf_svc = SVC(random_state=SEED,gamma='scale')\n",
    "clf_knn = KNeighborsClassifier(n_jobs=-1)\n",
    "clf_dtc = DecisionTreeClassifier(random_state=SEED)\n",
    "clf_rfc = RandomForestClassifier(n_estimators=100,\n",
    "                                random_state=SEED,n_jobs=-1)\n",
    "\n",
    "clf_lr_cali = CalibratedClassifierCV(clf_svc, method='sigmoid', cv=5)\n",
    "clf_svc_cali = CalibratedClassifierCV(clf_svc, method='sigmoid', cv=5)\n",
    "clf_knn_cali = CalibratedClassifierCV(clf_svc, method='sigmoid', cv=5)\n",
    "clf_dtc_cali = CalibratedClassifierCV(clf_svc, method='sigmoid', cv=5)\n",
    "clf_rfc_cali = CalibratedClassifierCV(clf_svc, method='sigmoid', cv=5)\n",
    "\n",
    "clf_names = [\"Logisitic Regression\",\"Support Vector Classifier\",\n",
    "            \"KNN\", \"Decision Tree Classifier\",\"Random Forest Classifier\",\n",
    "            ]\n",
    "\n",
    "clf_names +=  [\"Calibrated \" + i for i in clf_names]\n",
    "clf_names"
   ]
  },
  {
   "cell_type": "markdown",
   "metadata": {},
   "source": [
    "## Recall Scores from Cross Validation"
   ]
  },
  {
   "cell_type": "code",
   "execution_count": 30,
   "metadata": {
    "ExecuteTime": {
     "end_time": "2020-01-10T23:46:10.669930Z",
     "start_time": "2020-01-10T23:46:10.664634Z"
    }
   },
   "outputs": [],
   "source": [
    "X = df_under[features_with_log].values\n",
    "y = df_under[target].values.ravel()"
   ]
  },
  {
   "cell_type": "code",
   "execution_count": 50,
   "metadata": {
    "ExecuteTime": {
     "end_time": "2020-01-10T23:52:59.092680Z",
     "start_time": "2020-01-10T23:52:57.136304Z"
    }
   },
   "outputs": [
    {
     "name": "stdout",
     "output_type": "stream",
     "text": [
      "Time taken: 0.0 minutes 1.94 seconds\n"
     ]
    },
    {
     "data": {
      "text/html": [
       "<style  type=\"text/css\" >\n",
       "    #T_54872454_3404_11ea_b1f8_acde48001122row0_col1 {\n",
       "            background-color:  #023858;\n",
       "            color:  #f1f1f1;\n",
       "        }    #T_54872454_3404_11ea_b1f8_acde48001122row1_col1 {\n",
       "            background-color:  #023858;\n",
       "            color:  #f1f1f1;\n",
       "        }    #T_54872454_3404_11ea_b1f8_acde48001122row2_col1 {\n",
       "            background-color:  #034e7b;\n",
       "            color:  #f1f1f1;\n",
       "        }    #T_54872454_3404_11ea_b1f8_acde48001122row3_col1 {\n",
       "            background-color:  #034e7b;\n",
       "            color:  #f1f1f1;\n",
       "        }    #T_54872454_3404_11ea_b1f8_acde48001122row4_col1 {\n",
       "            background-color:  #056faf;\n",
       "            color:  #f1f1f1;\n",
       "        }    #T_54872454_3404_11ea_b1f8_acde48001122row5_col1 {\n",
       "            background-color:  #056faf;\n",
       "            color:  #f1f1f1;\n",
       "        }    #T_54872454_3404_11ea_b1f8_acde48001122row6_col1 {\n",
       "            background-color:  #056faf;\n",
       "            color:  #f1f1f1;\n",
       "        }    #T_54872454_3404_11ea_b1f8_acde48001122row7_col1 {\n",
       "            background-color:  #056faf;\n",
       "            color:  #f1f1f1;\n",
       "        }    #T_54872454_3404_11ea_b1f8_acde48001122row8_col1 {\n",
       "            background-color:  #056faf;\n",
       "            color:  #f1f1f1;\n",
       "        }    #T_54872454_3404_11ea_b1f8_acde48001122row9_col1 {\n",
       "            background-color:  #fff7fb;\n",
       "            color:  #000000;\n",
       "        }</style><table id=\"T_54872454_3404_11ea_b1f8_acde48001122\" ><caption>Recall Cross Validation Scores for Default Classifiers for Undersampled Data</caption><thead>    <tr>        <th class=\"blank level0\" ></th>        <th class=\"col_heading level0 col0\" >Classifier</th>        <th class=\"col_heading level0 col1\" >Recall Cross Validation Score</th>    </tr></thead><tbody>\n",
       "                <tr>\n",
       "                        <th id=\"T_54872454_3404_11ea_b1f8_acde48001122level0_row0\" class=\"row_heading level0 row0\" >0</th>\n",
       "                        <td id=\"T_54872454_3404_11ea_b1f8_acde48001122row0_col0\" class=\"data row0 col0\" >Logisitic Regression</td>\n",
       "                        <td id=\"T_54872454_3404_11ea_b1f8_acde48001122row0_col1\" class=\"data row0 col1\" >0.896269</td>\n",
       "            </tr>\n",
       "            <tr>\n",
       "                        <th id=\"T_54872454_3404_11ea_b1f8_acde48001122level0_row1\" class=\"row_heading level0 row1\" >1</th>\n",
       "                        <td id=\"T_54872454_3404_11ea_b1f8_acde48001122row1_col0\" class=\"data row1 col0\" >Random Forest Classifier</td>\n",
       "                        <td id=\"T_54872454_3404_11ea_b1f8_acde48001122row1_col1\" class=\"data row1 col1\" >0.896269</td>\n",
       "            </tr>\n",
       "            <tr>\n",
       "                        <th id=\"T_54872454_3404_11ea_b1f8_acde48001122level0_row2\" class=\"row_heading level0 row2\" >2</th>\n",
       "                        <td id=\"T_54872454_3404_11ea_b1f8_acde48001122row2_col0\" class=\"data row2 col0\" >Decision Tree Classifier</td>\n",
       "                        <td id=\"T_54872454_3404_11ea_b1f8_acde48001122row2_col1\" class=\"data row2 col1\" >0.894228</td>\n",
       "            </tr>\n",
       "            <tr>\n",
       "                        <th id=\"T_54872454_3404_11ea_b1f8_acde48001122level0_row3\" class=\"row_heading level0 row3\" >3</th>\n",
       "                        <td id=\"T_54872454_3404_11ea_b1f8_acde48001122row3_col0\" class=\"data row3 col0\" >KNN</td>\n",
       "                        <td id=\"T_54872454_3404_11ea_b1f8_acde48001122row3_col1\" class=\"data row3 col1\" >0.894207</td>\n",
       "            </tr>\n",
       "            <tr>\n",
       "                        <th id=\"T_54872454_3404_11ea_b1f8_acde48001122level0_row4\" class=\"row_heading level0 row4\" >4</th>\n",
       "                        <td id=\"T_54872454_3404_11ea_b1f8_acde48001122row4_col0\" class=\"data row4 col0\" >Calibrated Logisitic Regression</td>\n",
       "                        <td id=\"T_54872454_3404_11ea_b1f8_acde48001122row4_col1\" class=\"data row4 col1\" >0.890167</td>\n",
       "            </tr>\n",
       "            <tr>\n",
       "                        <th id=\"T_54872454_3404_11ea_b1f8_acde48001122level0_row5\" class=\"row_heading level0 row5\" >5</th>\n",
       "                        <td id=\"T_54872454_3404_11ea_b1f8_acde48001122row5_col0\" class=\"data row5 col0\" >Calibrated Support Vector Classifier</td>\n",
       "                        <td id=\"T_54872454_3404_11ea_b1f8_acde48001122row5_col1\" class=\"data row5 col1\" >0.890167</td>\n",
       "            </tr>\n",
       "            <tr>\n",
       "                        <th id=\"T_54872454_3404_11ea_b1f8_acde48001122level0_row6\" class=\"row_heading level0 row6\" >6</th>\n",
       "                        <td id=\"T_54872454_3404_11ea_b1f8_acde48001122row6_col0\" class=\"data row6 col0\" >Calibrated KNN</td>\n",
       "                        <td id=\"T_54872454_3404_11ea_b1f8_acde48001122row6_col1\" class=\"data row6 col1\" >0.890167</td>\n",
       "            </tr>\n",
       "            <tr>\n",
       "                        <th id=\"T_54872454_3404_11ea_b1f8_acde48001122level0_row7\" class=\"row_heading level0 row7\" >7</th>\n",
       "                        <td id=\"T_54872454_3404_11ea_b1f8_acde48001122row7_col0\" class=\"data row7 col0\" >Calibrated Decision Tree Classifier</td>\n",
       "                        <td id=\"T_54872454_3404_11ea_b1f8_acde48001122row7_col1\" class=\"data row7 col1\" >0.890167</td>\n",
       "            </tr>\n",
       "            <tr>\n",
       "                        <th id=\"T_54872454_3404_11ea_b1f8_acde48001122level0_row8\" class=\"row_heading level0 row8\" >8</th>\n",
       "                        <td id=\"T_54872454_3404_11ea_b1f8_acde48001122row8_col0\" class=\"data row8 col0\" >Calibrated Random Forest Classifier</td>\n",
       "                        <td id=\"T_54872454_3404_11ea_b1f8_acde48001122row8_col1\" class=\"data row8 col1\" >0.890167</td>\n",
       "            </tr>\n",
       "            <tr>\n",
       "                        <th id=\"T_54872454_3404_11ea_b1f8_acde48001122level0_row9\" class=\"row_heading level0 row9\" >9</th>\n",
       "                        <td id=\"T_54872454_3404_11ea_b1f8_acde48001122row9_col0\" class=\"data row9 col0\" >Support Vector Classifier</td>\n",
       "                        <td id=\"T_54872454_3404_11ea_b1f8_acde48001122row9_col1\" class=\"data row9 col1\" >0.871841</td>\n",
       "            </tr>\n",
       "    </tbody></table>"
      ],
      "text/plain": [
       "<pandas.io.formats.style.Styler at 0x11529ab00>"
      ]
     },
     "execution_count": 50,
     "metadata": {},
     "output_type": "execute_result"
    }
   ],
   "source": [
    "from sklearn.model_selection import cross_val_score\n",
    "\n",
    "classifiers = [clf_lr, clf_svc, clf_knn, clf_dtc, clf_rfc,\n",
    "               clf_lr_cali, clf_svc_cali, clf_knn_cali, clf_dtc_cali, clf_rfc_cali]\n",
    "recall_cross_val_scores = []\n",
    "\n",
    "t0 = time.time()\n",
    "for clf in classifiers:\n",
    "    clf.fit(X, y)\n",
    "    score = cross_val_score(clf, X, y, cv=5,n_jobs=-1,scoring='recall')\n",
    "    recall_cross_val_scores.append(score.mean())\n",
    "    \n",
    "t1 = (time.time() - t0)\n",
    "\n",
    "print('Time taken: {} minutes {:.2f} seconds'.format(*divmod(t1,60)))\n",
    "    \n",
    "df_recall_cross_val_scores = pd.DataFrame({'Classifier': clf_names,\n",
    "                'Recall Cross Validation Score': recall_cross_val_scores})\n",
    "\n",
    "df_recall_cross_val_scores = df_recall_cross_val_scores\\\n",
    "    .sort_values('Recall Cross Validation Score',ascending=False)\n",
    "\n",
    "df_recall_cross_val_scores.index = range(len(df_recall_cross_val_scores))\n",
    "\n",
    "df_recall_cross_val_scores.style.background_gradient(\n",
    "    subset=['Recall Cross Validation Score']).set_caption(\n",
    "    'Recall Cross Validation Scores for Default Classifiers for Undersampled Data')"
   ]
  },
  {
   "cell_type": "markdown",
   "metadata": {},
   "source": [
    "# SVC with Calibrated Probabilities\n",
    "\n",
    "Reference: https://machinelearningmastery.com/calibrated-classification-model-in-scikit-learn/"
   ]
  },
  {
   "cell_type": "code",
   "execution_count": 32,
   "metadata": {
    "ExecuteTime": {
     "end_time": "2020-01-10T23:46:13.487787Z",
     "start_time": "2020-01-10T23:46:13.479189Z"
    }
   },
   "outputs": [],
   "source": [
    "from sklearn.svm import SVC\n",
    "from sklearn.calibration import CalibratedClassifierCV"
   ]
  },
  {
   "cell_type": "code",
   "execution_count": 33,
   "metadata": {
    "ExecuteTime": {
     "end_time": "2020-01-10T23:46:13.503646Z",
     "start_time": "2020-01-10T23:46:13.491200Z"
    }
   },
   "outputs": [
    {
     "data": {
      "text/plain": [
       "SVC(C=1.0, cache_size=200, class_weight=None, coef0=0.0,\n",
       "    decision_function_shape='ovr', degree=3, gamma='auto_deprecated',\n",
       "    kernel='rbf', max_iter=-1, probability=False, random_state=None,\n",
       "    shrinking=True, tol=0.001, verbose=False)"
      ]
     },
     "execution_count": 33,
     "metadata": {},
     "output_type": "execute_result"
    }
   ],
   "source": [
    "model = SVC()\n",
    "model"
   ]
  },
  {
   "cell_type": "code",
   "execution_count": 34,
   "metadata": {
    "ExecuteTime": {
     "end_time": "2020-01-10T23:46:13.512446Z",
     "start_time": "2020-01-10T23:46:13.505898Z"
    }
   },
   "outputs": [],
   "source": [
    "def uncalibrated(Xtrain, Xtest, ytrain):\n",
    "    # fit a model\n",
    "    model = SVC(random_state=SEED,gamma='scale')\n",
    "    model.fit(Xtrain, ytrain)\n",
    "    \n",
    "    # predict probabilities\n",
    "    return model.decision_function(Xtest)"
   ]
  },
  {
   "cell_type": "code",
   "execution_count": 35,
   "metadata": {
    "ExecuteTime": {
     "end_time": "2020-01-10T23:46:13.520451Z",
     "start_time": "2020-01-10T23:46:13.514496Z"
    }
   },
   "outputs": [],
   "source": [
    "def calibrated(Xtrain, Xtest, ytrain):\n",
    "    # define model\n",
    "    model = SVC(random_state=SEED,gamma='scale')\n",
    "    \n",
    "    # define and fit calibration model\n",
    "    calibrated = CalibratedClassifierCV(model, method='sigmoid', cv=5)\n",
    "    calibrated.fit(Xtrain, ytrain)\n",
    "    \n",
    "    # predict probabilities\n",
    "    return calibrated.predict_proba(Xtest)[:, 1]"
   ]
  },
  {
   "cell_type": "code",
   "execution_count": 36,
   "metadata": {
    "ExecuteTime": {
     "end_time": "2020-01-10T23:46:13.570699Z",
     "start_time": "2020-01-10T23:46:13.523964Z"
    }
   },
   "outputs": [],
   "source": [
    "# uncalibrated predictions\n",
    "ypreds = uncalibrated(Xtrain, Xtest, ytrain)"
   ]
  },
  {
   "cell_type": "code",
   "execution_count": 37,
   "metadata": {
    "ExecuteTime": {
     "end_time": "2020-01-10T23:46:13.706563Z",
     "start_time": "2020-01-10T23:46:13.575935Z"
    }
   },
   "outputs": [],
   "source": [
    "# calibrated predictions\n",
    "ypreds_cal = calibrated(Xtrain, Xtest, ytrain)"
   ]
  },
  {
   "cell_type": "code",
   "execution_count": 38,
   "metadata": {
    "ExecuteTime": {
     "end_time": "2020-01-10T23:46:13.919772Z",
     "start_time": "2020-01-10T23:46:13.709135Z"
    }
   },
   "outputs": [
    {
     "data": {
      "image/png": "[encoded data removed]",
      "text/plain": [
       "<Figure size 432x288 with 1 Axes>"
      ]
     },
     "metadata": {
      "needs_background": "light"
     },
     "output_type": "display_data"
    }
   ],
   "source": [
    "# reliability diagrams\n",
    "from sklearn.calibration import calibration_curve\n",
    "\n",
    "fop, mpv = calibration_curve(ytest,ypreds,n_bins=10,normalize=True)\n",
    "\n",
    "fop_cal, mpv_cal = calibration_curve(ytest,ypreds_cal,n_bins=10)\n",
    "\n",
    "# plot perfectly calibrated\n",
    "plt.plot([0, 1], [0, 1], linestyle='--', color='black')\n",
    "\n",
    "# plot model reliabilities\n",
    "plt.plot(mpv, fop, marker='.')\n",
    "plt.plot(mpv_cal, fop_cal, marker='.')\n",
    "plt.show()"
   ]
  },
  {
   "cell_type": "markdown",
   "metadata": {},
   "source": [
    "# Run Time"
   ]
  },
  {
   "cell_type": "code",
   "execution_count": 39,
   "metadata": {
    "ExecuteTime": {
     "end_time": "2020-01-10T23:46:13.928800Z",
     "start_time": "2020-01-10T23:46:13.921936Z"
    }
   },
   "outputs": [
    {
     "name": "stdout",
     "output_type": "stream",
     "text": [
      "Time taken to run whole notebook: 0 hr 0 min 8 secs\n"
     ]
    }
   ],
   "source": [
    "time_taken = time.time() - time_start_notebook\n",
    "h,m = divmod(time_taken,60*60)\n",
    "print('Time taken to run whole notebook: {:.0f} hr '\\\n",
    "      '{:.0f} min {:.0f} secs'.format(h, *divmod(m,60)))"
   ]
  },
  {
   "cell_type": "code",
   "execution_count": 40,
   "metadata": {
    "ExecuteTime": {
     "end_time": "2020-01-10T23:46:21.707367Z",
     "start_time": "2020-01-10T23:46:13.931455Z"
    }
   },
   "outputs": [
    {
     "data": {
      "text/plain": [
       "0"
      ]
     },
     "execution_count": 40,
     "metadata": {},
     "output_type": "execute_result"
    }
   ],
   "source": [
    "import subprocess\n",
    "subprocess.call(['python', '-m', 'nbconvert', '*.ipynb'])"
   ]
  },
  {
   "cell_type": "code",
   "execution_count": 41,
   "metadata": {
    "ExecuteTime": {
     "end_time": "2020-01-10T23:46:21.848278Z",
     "start_time": "2020-01-10T23:46:21.710533Z"
    }
   },
   "outputs": [],
   "source": [
    "!mv *.html ../html/"
   ]
  },
  {
   "cell_type": "code",
   "execution_count": 42,
   "metadata": {
    "ExecuteTime": {
     "end_time": "2020-01-10T23:46:21.974712Z",
     "start_time": "2020-01-10T23:46:21.851288Z"
    }
   },
   "outputs": [
    {
     "name": "stdout",
     "output_type": "stream",
     "text": [
      "rm: catboost_info: No such file or directory\r\n"
     ]
    }
   ],
   "source": [
    "!rm -r catboost_info"
   ]
  },
  {
   "cell_type": "code",
   "execution_count": null,
   "metadata": {},
   "outputs": [],
   "source": []
  }
 ],
 "metadata": {
  "kernelspec": {
   "display_name": "Python (dataSc)",
   "language": "python",
   "name": "datasc"
  },
  "language_info": {
   "codemirror_mode": {
    "name": "ipython",
    "version": 3
   },
   "file_extension": ".py",
   "mimetype": "text/x-python",
   "name": "python",
   "nbconvert_exporter": "python",
   "pygments_lexer": "ipython3",
   "version": "3.7.3"
  },
  "toc": {
   "base_numbering": 1,
   "nav_menu": {},
   "number_sections": true,
   "sideBar": true,
   "skip_h1_title": false,
   "title_cell": "Table of Contents",
   "title_sidebar": "Contents",
   "toc_cell": true,
   "toc_position": {},
   "toc_section_display": true,
   "toc_window_display": true
  }
 },
 "nbformat": 4,
 "nbformat_minor": 2
}
