{
  "nbformat": 4,
  "nbformat_minor": 0,
  "metadata": {
    "colab": {
      "name": "d04_classification_modelling_keras_sklearn_api.ipynb",
      "provenance": [],
      "collapsed_sections": []
    },
    "kernelspec": {
      "display_name": "Python 3",
      "language": "python",
      "name": "python3"
    },
    "language_info": {
      "codemirror_mode": {
        "name": "ipython",
        "version": 3
      },
      "file_extension": ".py",
      "mimetype": "text/x-python",
      "name": "python",
      "nbconvert_exporter": "python",
      "pygments_lexer": "ipython3",
      "version": "3.7.0"
    }
  },
  "cells": [
    {
      "cell_type": "markdown",
      "metadata": {
        "id": "DNIUjELUU99w"
      },
      "source": [
        "<div class=\"alert alert-block alert-success\">\n",
        "<b>Kernel Author:</b>  <br>\n",
        "<a href=\"https://bhishanpdl.github.io/\" , target=\"_blank\">Bhishan Poudel,  Data Scientist, Ph.D Astrophysics</a> .\n",
        "</div>"
      ]
    },
    {
      "cell_type": "markdown",
      "metadata": {
        "id": "ANE19KrlVBYR"
      },
      "source": [
        "# Colab"
      ]
    },
    {
      "cell_type": "code",
      "metadata": {
        "id": "OtZ65y3cVC7Q"
      },
      "source": [
        "%%capture\n",
        "import os\n",
        "import sys\n",
        "ENV_COLAB = 'google.colab' in sys.modules\n",
        "\n",
        "if ENV_COLAB:\n",
        "    ## install modules\n",
        "    !pip install scikit-plot\n",
        "    !pip install lrcurve\n",
        "    !pip install watermark\n",
        "    !pip install -U scikit-learn\n",
        "\n",
        "    ## print\n",
        "    print('Environment: Google Colaboratory.')"
      ],
      "execution_count": 77,
      "outputs": []
    },
    {
      "cell_type": "markdown",
      "metadata": {
        "id": "kyZV9tBbUHBF"
      },
      "source": [
        "## Imports"
      ]
    },
    {
      "cell_type": "code",
      "metadata": {
        "id": "ogDZIUNxUHBG"
      },
      "source": [
        "import time\n",
        "time_start_notebook = time.time()"
      ],
      "execution_count": 78,
      "outputs": []
    },
    {
      "cell_type": "code",
      "metadata": {
        "id": "fcnPYmzKu4_T",
        "outputId": "c6bec2b5-7455-42e4-9e5c-5b855e05cde2",
        "colab": {
          "base_uri": "https://localhost:8080/",
          "height": 461
        }
      },
      "source": [
        "import numpy as np\n",
        "import pandas as pd\n",
        "import seaborn as sns\n",
        "sns.set(color_codes=True)\n",
        "\n",
        "\n",
        "import matplotlib\n",
        "import matplotlib.pyplot as plt\n",
        "%matplotlib inline\n",
        "matplotlib.rcParams['figure.figsize'] = (6, 4)\n",
        "colors = plt.rcParams['axes.prop_cycle'].by_key()['color']\n",
        "\n",
        "import os\n",
        "import sys\n",
        "\n",
        "# random state\n",
        "SEED=100\n",
        "np.random.seed(SEED) # we need this in each cell\n",
        "\n",
        "# Jupyter notebook settings for pandas\n",
        "pd.set_option('display.max_columns', 200)\n",
        "pd.set_option('display.max_rows', 100) # None for all the rows\n",
        "pd.set_option('display.max_colwidth', 50)\n",
        "\n",
        "import scipy\n",
        "from scipy import stats\n",
        "\n",
        "# scale and split\n",
        "import sklearn\n",
        "from sklearn.preprocessing import MinMaxScaler, StandardScaler, RobustScaler\n",
        "from sklearn.model_selection import train_test_split\n",
        "from sklearn.model_selection import StratifiedKFold\n",
        "from sklearn import metrics\n",
        "\n",
        "# deep learning\n",
        "import tensorflow\n",
        "import tensorflow as tf\n",
        "import keras\n",
        "from keras import backend as K\n",
        "from keras.models import Sequential\n",
        "from keras.layers import Activation\n",
        "from keras.layers import Dense, Dropout\n",
        "from keras.optimizers import Adam\n",
        "from keras.metrics import categorical_crossentropy\n",
        "\n",
        "# model evaluation\n",
        "import scikitplot\n",
        "from scikitplot import metrics as skmetrics\n",
        "import lrcurve\n",
        "from lrcurve import KerasLearningCurve\n",
        "\n",
        "# versions\n",
        "%load_ext watermark\n",
        "%watermark -a \"Bhishan Poudel\" -d -v -m\n",
        "print()\n",
        "%watermark -iv"
      ],
      "execution_count": 79,
      "outputs": [
        {
          "output_type": "stream",
          "text": [
            "The watermark extension is already loaded. To reload it, use:\n",
            "  %reload_ext watermark\n",
            "Bhishan Poudel 2020-10-05 \n",
            "\n",
            "CPython 3.6.9\n",
            "IPython 5.5.0\n",
            "\n",
            "compiler   : GCC 8.4.0\n",
            "system     : Linux\n",
            "release    : 4.19.112+\n",
            "machine    : x86_64\n",
            "processor  : x86_64\n",
            "CPU cores  : 2\n",
            "interpreter: 64bit\n",
            "\n",
            "pandas     1.1.2\n",
            "keras      2.4.3\n",
            "scipy      1.4.1\n",
            "matplotlib 3.2.2\n",
            "tensorflow 2.3.0\n",
            "scikitplot 0.3.7\n",
            "seaborn    0.11.0\n",
            "sklearn    0.23.2\n",
            "numpy      1.18.5\n",
            "\n"
          ],
          "name": "stdout"
        }
      ]
    },
    {
      "cell_type": "markdown",
      "metadata": {
        "id": "rUN5kcGyUHBI"
      },
      "source": [
        "# Useful Scripts"
      ]
    },
    {
      "cell_type": "code",
      "metadata": {
        "id": "BRwQuH-Nu_Kt"
      },
      "source": [
        "def show_methods(method, ncols=3):\n",
        "    \"\"\" Show all the attributes of a given method.\n",
        "    Example:\n",
        "    ========\n",
        "    show_methods(list)\n",
        "     \"\"\"\n",
        "    x = [i for i in dir(method) if i[0]!='_' ]\n",
        "    x = [i for i in x \n",
        "         if i not in 'os np pd sys time psycopg2'.split() ]\n",
        "\n",
        "    return pd.DataFrame(np.array_split(x,ncols)).T.fillna('')"
      ],
      "execution_count": 80,
      "outputs": []
    },
    {
      "cell_type": "code",
      "metadata": {
        "id": "y4D-hphPu_P4"
      },
      "source": [
        "def set_random_seed(seed):\n",
        "    import os\n",
        "    import random\n",
        "    import numpy as np\n",
        "    import tensorflow as tf\n",
        "    \n",
        "    os.environ['PYTHONHASHSEED']=str(seed)\n",
        "    tf.random.set_seed(seed)\n",
        "    np.random.seed(seed)\n",
        "    random.seed(seed)"
      ],
      "execution_count": 81,
      "outputs": []
    },
    {
      "cell_type": "code",
      "metadata": {
        "id": "Nw6RZo8Hu_TM"
      },
      "source": [
        "def model_evaluation(model_name, desc, ytest, ypreds,df_eval=None,\n",
        "                     show=True,sort_col='Recall'):\n",
        "    if df_eval is None:\n",
        "        df_eval = pd.DataFrame({'Model': [],\n",
        "                        'Description':[],\n",
        "                        'Accuracy':[],\n",
        "                        'Precision':[],\n",
        "                        'Recall':[],\n",
        "                        'F1':[],\n",
        "                        'AUC':[],\n",
        "                    })\n",
        "\n",
        "    # model evaluation\n",
        "    average = 'binary'\n",
        "    row_eval = [model_name,desc, \n",
        "                sklearn.metrics.accuracy_score(ytest, ypreds),\n",
        "                sklearn.metrics.precision_score(ytest, ypreds, average=average),\n",
        "                sklearn.metrics.recall_score(ytest, ypreds, average=average),\n",
        "                sklearn.metrics.f1_score(ytest, ypreds, average=average),\n",
        "                sklearn.metrics.roc_auc_score(ytest, ypreds),\n",
        "                ]\n",
        "\n",
        "    df_eval.loc[len(df_eval)] = row_eval\n",
        "    df_eval = df_eval.drop_duplicates()\n",
        "    df_eval = df_eval.sort_values(sort_col)\n",
        "\n",
        "    if show:\n",
        "        display(df_eval.style.background_gradient(subset=[sort_col]))\n",
        "\n",
        "    return df_eval"
      ],
      "execution_count": 82,
      "outputs": []
    },
    {
      "cell_type": "markdown",
      "metadata": {
        "id": "WmcYbS2bu_Y6"
      },
      "source": [
        "# Load the data"
      ]
    },
    {
      "cell_type": "code",
      "metadata": {
        "id": "AP5hjBJ-u_dT",
        "outputId": "4e35408c-0237-4448-e7ee-343dc13f5047",
        "colab": {
          "base_uri": "https://localhost:8080/",
          "height": 235
        }
      },
      "source": [
        "ifile = \"https://github.com/bhishanpdl/Datasets/blob/master/Projects/Fraud_detection/raw/creditcard.csv.zip?raw=true\"\n",
        "# ifile = '../data/raw/creditcard.csv.zip'\n",
        "\n",
        "df_raw = pd.read_csv(ifile,compression='zip')\n",
        "print(df_raw.shape)\n",
        "df_raw.head()"
      ],
      "execution_count": 83,
      "outputs": [
        {
          "output_type": "stream",
          "text": [
            "(284807, 31)\n"
          ],
          "name": "stdout"
        },
        {
          "output_type": "execute_result",
          "data": {
            "text/html": [
              "<div>\n",
              "<style scoped>\n",
              "    .dataframe tbody tr th:only-of-type {\n",
              "        vertical-align: middle;\n",
              "    }\n",
              "\n",
              "    .dataframe tbody tr th {\n",
              "        vertical-align: top;\n",
              "    }\n",
              "\n",
              "    .dataframe thead th {\n",
              "        text-align: right;\n",
              "    }\n",
              "</style>\n",
              "<table border=\"1\" class=\"dataframe\">\n",
              "  <thead>\n",
              "    <tr style=\"text-align: right;\">\n",
              "      <th></th>\n",
              "      <th>Time</th>\n",
              "      <th>V1</th>\n",
              "      <th>V2</th>\n",
              "      <th>V3</th>\n",
              "      <th>V4</th>\n",
              "      <th>V5</th>\n",
              "      <th>V6</th>\n",
              "      <th>V7</th>\n",
              "      <th>V8</th>\n",
              "      <th>V9</th>\n",
              "      <th>V10</th>\n",
              "      <th>V11</th>\n",
              "      <th>V12</th>\n",
              "      <th>V13</th>\n",
              "      <th>V14</th>\n",
              "      <th>V15</th>\n",
              "      <th>V16</th>\n",
              "      <th>V17</th>\n",
              "      <th>V18</th>\n",
              "      <th>V19</th>\n",
              "      <th>V20</th>\n",
              "      <th>V21</th>\n",
              "      <th>V22</th>\n",
              "      <th>V23</th>\n",
              "      <th>V24</th>\n",
              "      <th>V25</th>\n",
              "      <th>V26</th>\n",
              "      <th>V27</th>\n",
              "      <th>V28</th>\n",
              "      <th>Amount</th>\n",
              "      <th>Class</th>\n",
              "    </tr>\n",
              "  </thead>\n",
              "  <tbody>\n",
              "    <tr>\n",
              "      <th>0</th>\n",
              "      <td>0.0</td>\n",
              "      <td>-1.359807</td>\n",
              "      <td>-0.072781</td>\n",
              "      <td>2.536347</td>\n",
              "      <td>1.378155</td>\n",
              "      <td>-0.338321</td>\n",
              "      <td>0.462388</td>\n",
              "      <td>0.239599</td>\n",
              "      <td>0.098698</td>\n",
              "      <td>0.363787</td>\n",
              "      <td>0.090794</td>\n",
              "      <td>-0.551600</td>\n",
              "      <td>-0.617801</td>\n",
              "      <td>-0.991390</td>\n",
              "      <td>-0.311169</td>\n",
              "      <td>1.468177</td>\n",
              "      <td>-0.470401</td>\n",
              "      <td>0.207971</td>\n",
              "      <td>0.025791</td>\n",
              "      <td>0.403993</td>\n",
              "      <td>0.251412</td>\n",
              "      <td>-0.018307</td>\n",
              "      <td>0.277838</td>\n",
              "      <td>-0.110474</td>\n",
              "      <td>0.066928</td>\n",
              "      <td>0.128539</td>\n",
              "      <td>-0.189115</td>\n",
              "      <td>0.133558</td>\n",
              "      <td>-0.021053</td>\n",
              "      <td>149.62</td>\n",
              "      <td>0</td>\n",
              "    </tr>\n",
              "    <tr>\n",
              "      <th>1</th>\n",
              "      <td>0.0</td>\n",
              "      <td>1.191857</td>\n",
              "      <td>0.266151</td>\n",
              "      <td>0.166480</td>\n",
              "      <td>0.448154</td>\n",
              "      <td>0.060018</td>\n",
              "      <td>-0.082361</td>\n",
              "      <td>-0.078803</td>\n",
              "      <td>0.085102</td>\n",
              "      <td>-0.255425</td>\n",
              "      <td>-0.166974</td>\n",
              "      <td>1.612727</td>\n",
              "      <td>1.065235</td>\n",
              "      <td>0.489095</td>\n",
              "      <td>-0.143772</td>\n",
              "      <td>0.635558</td>\n",
              "      <td>0.463917</td>\n",
              "      <td>-0.114805</td>\n",
              "      <td>-0.183361</td>\n",
              "      <td>-0.145783</td>\n",
              "      <td>-0.069083</td>\n",
              "      <td>-0.225775</td>\n",
              "      <td>-0.638672</td>\n",
              "      <td>0.101288</td>\n",
              "      <td>-0.339846</td>\n",
              "      <td>0.167170</td>\n",
              "      <td>0.125895</td>\n",
              "      <td>-0.008983</td>\n",
              "      <td>0.014724</td>\n",
              "      <td>2.69</td>\n",
              "      <td>0</td>\n",
              "    </tr>\n",
              "    <tr>\n",
              "      <th>2</th>\n",
              "      <td>1.0</td>\n",
              "      <td>-1.358354</td>\n",
              "      <td>-1.340163</td>\n",
              "      <td>1.773209</td>\n",
              "      <td>0.379780</td>\n",
              "      <td>-0.503198</td>\n",
              "      <td>1.800499</td>\n",
              "      <td>0.791461</td>\n",
              "      <td>0.247676</td>\n",
              "      <td>-1.514654</td>\n",
              "      <td>0.207643</td>\n",
              "      <td>0.624501</td>\n",
              "      <td>0.066084</td>\n",
              "      <td>0.717293</td>\n",
              "      <td>-0.165946</td>\n",
              "      <td>2.345865</td>\n",
              "      <td>-2.890083</td>\n",
              "      <td>1.109969</td>\n",
              "      <td>-0.121359</td>\n",
              "      <td>-2.261857</td>\n",
              "      <td>0.524980</td>\n",
              "      <td>0.247998</td>\n",
              "      <td>0.771679</td>\n",
              "      <td>0.909412</td>\n",
              "      <td>-0.689281</td>\n",
              "      <td>-0.327642</td>\n",
              "      <td>-0.139097</td>\n",
              "      <td>-0.055353</td>\n",
              "      <td>-0.059752</td>\n",
              "      <td>378.66</td>\n",
              "      <td>0</td>\n",
              "    </tr>\n",
              "    <tr>\n",
              "      <th>3</th>\n",
              "      <td>1.0</td>\n",
              "      <td>-0.966272</td>\n",
              "      <td>-0.185226</td>\n",
              "      <td>1.792993</td>\n",
              "      <td>-0.863291</td>\n",
              "      <td>-0.010309</td>\n",
              "      <td>1.247203</td>\n",
              "      <td>0.237609</td>\n",
              "      <td>0.377436</td>\n",
              "      <td>-1.387024</td>\n",
              "      <td>-0.054952</td>\n",
              "      <td>-0.226487</td>\n",
              "      <td>0.178228</td>\n",
              "      <td>0.507757</td>\n",
              "      <td>-0.287924</td>\n",
              "      <td>-0.631418</td>\n",
              "      <td>-1.059647</td>\n",
              "      <td>-0.684093</td>\n",
              "      <td>1.965775</td>\n",
              "      <td>-1.232622</td>\n",
              "      <td>-0.208038</td>\n",
              "      <td>-0.108300</td>\n",
              "      <td>0.005274</td>\n",
              "      <td>-0.190321</td>\n",
              "      <td>-1.175575</td>\n",
              "      <td>0.647376</td>\n",
              "      <td>-0.221929</td>\n",
              "      <td>0.062723</td>\n",
              "      <td>0.061458</td>\n",
              "      <td>123.50</td>\n",
              "      <td>0</td>\n",
              "    </tr>\n",
              "    <tr>\n",
              "      <th>4</th>\n",
              "      <td>2.0</td>\n",
              "      <td>-1.158233</td>\n",
              "      <td>0.877737</td>\n",
              "      <td>1.548718</td>\n",
              "      <td>0.403034</td>\n",
              "      <td>-0.407193</td>\n",
              "      <td>0.095921</td>\n",
              "      <td>0.592941</td>\n",
              "      <td>-0.270533</td>\n",
              "      <td>0.817739</td>\n",
              "      <td>0.753074</td>\n",
              "      <td>-0.822843</td>\n",
              "      <td>0.538196</td>\n",
              "      <td>1.345852</td>\n",
              "      <td>-1.119670</td>\n",
              "      <td>0.175121</td>\n",
              "      <td>-0.451449</td>\n",
              "      <td>-0.237033</td>\n",
              "      <td>-0.038195</td>\n",
              "      <td>0.803487</td>\n",
              "      <td>0.408542</td>\n",
              "      <td>-0.009431</td>\n",
              "      <td>0.798278</td>\n",
              "      <td>-0.137458</td>\n",
              "      <td>0.141267</td>\n",
              "      <td>-0.206010</td>\n",
              "      <td>0.502292</td>\n",
              "      <td>0.219422</td>\n",
              "      <td>0.215153</td>\n",
              "      <td>69.99</td>\n",
              "      <td>0</td>\n",
              "    </tr>\n",
              "  </tbody>\n",
              "</table>\n",
              "</div>"
            ],
            "text/plain": [
              "   Time        V1        V2        V3        V4        V5        V6        V7  \\\n",
              "0   0.0 -1.359807 -0.072781  2.536347  1.378155 -0.338321  0.462388  0.239599   \n",
              "1   0.0  1.191857  0.266151  0.166480  0.448154  0.060018 -0.082361 -0.078803   \n",
              "2   1.0 -1.358354 -1.340163  1.773209  0.379780 -0.503198  1.800499  0.791461   \n",
              "3   1.0 -0.966272 -0.185226  1.792993 -0.863291 -0.010309  1.247203  0.237609   \n",
              "4   2.0 -1.158233  0.877737  1.548718  0.403034 -0.407193  0.095921  0.592941   \n",
              "\n",
              "         V8        V9       V10       V11       V12       V13       V14  \\\n",
              "0  0.098698  0.363787  0.090794 -0.551600 -0.617801 -0.991390 -0.311169   \n",
              "1  0.085102 -0.255425 -0.166974  1.612727  1.065235  0.489095 -0.143772   \n",
              "2  0.247676 -1.514654  0.207643  0.624501  0.066084  0.717293 -0.165946   \n",
              "3  0.377436 -1.387024 -0.054952 -0.226487  0.178228  0.507757 -0.287924   \n",
              "4 -0.270533  0.817739  0.753074 -0.822843  0.538196  1.345852 -1.119670   \n",
              "\n",
              "        V15       V16       V17       V18       V19       V20       V21  \\\n",
              "0  1.468177 -0.470401  0.207971  0.025791  0.403993  0.251412 -0.018307   \n",
              "1  0.635558  0.463917 -0.114805 -0.183361 -0.145783 -0.069083 -0.225775   \n",
              "2  2.345865 -2.890083  1.109969 -0.121359 -2.261857  0.524980  0.247998   \n",
              "3 -0.631418 -1.059647 -0.684093  1.965775 -1.232622 -0.208038 -0.108300   \n",
              "4  0.175121 -0.451449 -0.237033 -0.038195  0.803487  0.408542 -0.009431   \n",
              "\n",
              "        V22       V23       V24       V25       V26       V27       V28  \\\n",
              "0  0.277838 -0.110474  0.066928  0.128539 -0.189115  0.133558 -0.021053   \n",
              "1 -0.638672  0.101288 -0.339846  0.167170  0.125895 -0.008983  0.014724   \n",
              "2  0.771679  0.909412 -0.689281 -0.327642 -0.139097 -0.055353 -0.059752   \n",
              "3  0.005274 -0.190321 -1.175575  0.647376 -0.221929  0.062723  0.061458   \n",
              "4  0.798278 -0.137458  0.141267 -0.206010  0.502292  0.219422  0.215153   \n",
              "\n",
              "   Amount  Class  \n",
              "0  149.62      0  \n",
              "1    2.69      0  \n",
              "2  378.66      0  \n",
              "3  123.50      0  \n",
              "4   69.99      0  "
            ]
          },
          "metadata": {
            "tags": []
          },
          "execution_count": 83
        }
      ]
    },
    {
      "cell_type": "markdown",
      "metadata": {
        "id": "UdrVw9lTvVAN"
      },
      "source": [
        "# Data Processing"
      ]
    },
    {
      "cell_type": "markdown",
      "metadata": {
        "id": "3R14_djWvnZt"
      },
      "source": [
        "## Class balance"
      ]
    },
    {
      "cell_type": "code",
      "metadata": {
        "id": "RsfCvjqvvcKV",
        "outputId": "3e6bb55c-4df2-4346-cfc6-789049d21265",
        "colab": {
          "base_uri": "https://localhost:8080/",
          "height": 355
        }
      },
      "source": [
        "target = 'Class'\n",
        "display(df_raw[target].value_counts())\n",
        "sns.countplot(x=df_raw[target])"
      ],
      "execution_count": 84,
      "outputs": [
        {
          "output_type": "display_data",
          "data": {
            "text/plain": [
              "0    284315\n",
              "1       492\n",
              "Name: Class, dtype: int64"
            ]
          },
          "metadata": {
            "tags": []
          }
        },
        {
          "output_type": "execute_result",
          "data": {
            "text/plain": [
              "<matplotlib.axes._subplots.AxesSubplot at 0x7f64c7d0e898>"
            ]
          },
          "metadata": {
            "tags": []
          },
          "execution_count": 84
        },
        {
          "output_type": "display_data",
          "data": {
            "image/png": "[encoded data removed]",
            "text/plain": [
              "<Figure size 432x288 with 1 Axes>"
            ]
          },
          "metadata": {
            "tags": [],
            "needs_background": "light"
          }
        }
      ]
    },
    {
      "cell_type": "code",
      "metadata": {
        "id": "NbJVJySiUXiv",
        "outputId": "81dcdd45-c1fc-4c77-caaa-ea39b5026aa4",
        "colab": {
          "base_uri": "https://localhost:8080/",
          "height": 87
        }
      },
      "source": [
        "neg, pos = np.bincount(df_raw['Class'])\n",
        "total = neg + pos\n",
        "print('Examples:\\n    Total: {}\\n    Positive: {} ({:.2f}% of total)\\n'.format(\n",
        "    total, pos, 100 * pos / total))"
      ],
      "execution_count": 85,
      "outputs": [
        {
          "output_type": "stream",
          "text": [
            "Examples:\n",
            "    Total: 284807\n",
            "    Positive: 492 (0.17% of total)\n",
            "\n"
          ],
          "name": "stdout"
        }
      ]
    },
    {
      "cell_type": "markdown",
      "metadata": {
        "id": "j0IkTAJaQCBL"
      },
      "source": [
        "## Feature Selection"
      ]
    },
    {
      "cell_type": "code",
      "metadata": {
        "id": "SFCdMhm5QH7o",
        "outputId": "e8669af7-5413-4ed9-dcb9-7e300bd22766",
        "colab": {
          "base_uri": "https://localhost:8080/",
          "height": 34
        }
      },
      "source": [
        "cols_drop = ['Time']\n",
        "\n",
        "df = df_raw.drop(cols_drop,axis=1)\n",
        "df.shape"
      ],
      "execution_count": 86,
      "outputs": [
        {
          "output_type": "execute_result",
          "data": {
            "text/plain": [
              "(284807, 30)"
            ]
          },
          "metadata": {
            "tags": []
          },
          "execution_count": 86
        }
      ]
    },
    {
      "cell_type": "markdown",
      "metadata": {
        "id": "9yINccigTBTn"
      },
      "source": [
        "## Log transform"
      ]
    },
    {
      "cell_type": "code",
      "metadata": {
        "id": "YE9gTvVNTKFR"
      },
      "source": [
        "eps=0.001 # 0 => 0.1¢\n",
        "df['Ammount'] = np.log(df.pop('Amount')+eps)"
      ],
      "execution_count": 87,
      "outputs": []
    },
    {
      "cell_type": "markdown",
      "metadata": {
        "id": "2_34mhB7vcV1"
      },
      "source": [
        "## Train-validation-test split with stratify"
      ]
    },
    {
      "cell_type": "code",
      "metadata": {
        "id": "dqT5CbK6vtRd",
        "outputId": "2a03962b-6845-40d0-cea8-47bb5caf1f68",
        "colab": {
          "base_uri": "https://localhost:8080/",
          "height": 34
        }
      },
      "source": [
        "from sklearn.model_selection import train_test_split\n",
        "\n",
        "target = 'Class'\n",
        "\n",
        "df_Xtrain_orig,df_Xtest,ser_ytrain_orig,ser_ytest = train_test_split(df.drop([target],axis=1),\n",
        "                                             df[target],\n",
        "                                             test_size=0.2,\n",
        "                                             stratify=df[target],\n",
        "                                             random_state=SEED)\n",
        "\n",
        "df_Xtrain,df_Xvalid,ser_ytrain,ser_yvalid = train_test_split(df_Xtrain_orig,\n",
        "                                             ser_ytrain_orig,\n",
        "                                             test_size=0.2,\n",
        "                                             stratify=ser_ytrain_orig,\n",
        "                                             random_state=SEED)\n",
        "\n",
        "ytrain = np.array(ser_ytrain)\n",
        "yvalid = np.array(ser_yvalid)\n",
        "ytest = np.array(ser_ytest)\n",
        "\n",
        "df.shape, df_Xtrain.shape, ser_ytrain.shape"
      ],
      "execution_count": 88,
      "outputs": [
        {
          "output_type": "execute_result",
          "data": {
            "text/plain": [
              "((284807, 30), (182276, 29), (182276,))"
            ]
          },
          "metadata": {
            "tags": []
          },
          "execution_count": 88
        }
      ]
    },
    {
      "cell_type": "markdown",
      "metadata": {
        "id": "FB71gHgqvtV-"
      },
      "source": [
        "## Normalize the data"
      ]
    },
    {
      "cell_type": "code",
      "metadata": {
        "id": "6mbAqADGv6EV"
      },
      "source": [
        "from sklearn.preprocessing import StandardScaler\n",
        "\n",
        "scaler = StandardScaler()\n",
        "scaler.fit(df_Xtrain)\n",
        "\n",
        "Xtrain = scaler.transform(df_Xtrain)\n",
        "Xvalid = scaler.transform(df_Xvalid)\n",
        "Xtest  = scaler.transform(df_Xtest)\n",
        "\n",
        "# clip the values\n",
        "Xtrain = np.clip(Xtrain, -5, 5)\n",
        "Xvalid = np.clip(Xvalid, -5, 5)\n",
        "Xtest = np.clip(Xtest, -5, 5)"
      ],
      "execution_count": 89,
      "outputs": []
    },
    {
      "cell_type": "markdown",
      "metadata": {
        "id": "MbHZLOQNSbNl"
      },
      "source": [
        "# Modelling: Keras Sequential"
      ]
    },
    {
      "cell_type": "markdown",
      "metadata": {
        "id": "oz3fnx-vShxf"
      },
      "source": [
        "## Correct initial bias"
      ]
    },
    {
      "cell_type": "code",
      "metadata": {
        "id": "-zf3uodkSh3T",
        "outputId": "05243e5f-1b5d-42fa-a54e-6f263e2e0eaa",
        "colab": {
          "base_uri": "https://localhost:8080/",
          "height": 34
        }
      },
      "source": [
        "neg, pos = np.bincount(df_raw['Class'])\n",
        "total = neg + pos\n",
        "\n",
        "initial_bias = np.log([pos/neg])\n",
        "initial_bias"
      ],
      "execution_count": 90,
      "outputs": [
        {
          "output_type": "execute_result",
          "data": {
            "text/plain": [
              "array([-6.35935934])"
            ]
          },
          "metadata": {
            "tags": []
          },
          "execution_count": 90
        }
      ]
    },
    {
      "cell_type": "markdown",
      "metadata": {
        "id": "juBwlSVLwrDn"
      },
      "source": [
        "## Class weights"
      ]
    },
    {
      "cell_type": "code",
      "metadata": {
        "id": "nvaa7X0TUHBJ",
        "outputId": "053eedc6-2659-4fae-f8aa-df9b9218216f",
        "colab": {
          "base_uri": "https://localhost:8080/",
          "height": 52
        }
      },
      "source": [
        "weight_for_0 = (1 / neg)*(total)/2.0 \n",
        "weight_for_1 = (1 / pos)*(total)/2.0\n",
        "\n",
        "class_weight = {0: weight_for_0, 1: weight_for_1}\n",
        "\n",
        "print('Weight for class 0: {:.2f}'.format(weight_for_0))\n",
        "print('Weight for class 1: {:.2f}'.format(weight_for_1))"
      ],
      "execution_count": 91,
      "outputs": [
        {
          "output_type": "stream",
          "text": [
            "Weight for class 0: 0.50\n",
            "Weight for class 1: 289.44\n"
          ],
          "name": "stdout"
        }
      ]
    },
    {
      "cell_type": "markdown",
      "metadata": {
        "id": "zoyaaZ52yzKn"
      },
      "source": [
        "# Params and Metrics"
      ]
    },
    {
      "cell_type": "code",
      "metadata": {
        "id": "cvaqBp3Wy1SB"
      },
      "source": [
        "n_feats = Xtrain.shape[-1]\n",
        "class_weight = {0: weight_for_0, 1: weight_for_1}\n",
        "\n",
        "#============================================================\n",
        "PARAMS_MODEL = {\n",
        "    # layer 1\n",
        "    'L1_units': 16,\n",
        "    'L1_act': 'relu',\n",
        "    'L1_dropout': 0.5,\n",
        "\n",
        "    # optimizer\n",
        "    'adam_lr': 1e-3,\n",
        "}\n",
        "\n",
        "#============================================================\n",
        "METRICS = [\n",
        "      keras.metrics.TruePositives(name='tp'),\n",
        "      keras.metrics.FalsePositives(name='fp'),\n",
        "      keras.metrics.TrueNegatives(name='tn'),\n",
        "      keras.metrics.FalseNegatives(name='fn'), \n",
        "      keras.metrics.BinaryAccuracy(name='accuracy'),\n",
        "      keras.metrics.Precision(name='precision'),\n",
        "      keras.metrics.Recall(name='recall'),\n",
        "      keras.metrics.AUC(name='auc'),\n",
        "]\n",
        "\n",
        "#============================================================\n",
        "PARAMS_FIT = {'epochs': 100,\n",
        "          'batch_size': 2048,\n",
        "          'class_weight0': class_weight[0],\n",
        "          'class_weight1': class_weight[1],\n",
        "          'patience': 10,\n",
        "          'shuffle': True,\n",
        "          }\n",
        "\n",
        "#============================================================\n",
        "PARAMS_CLF   = {'class_weight' : class_weight}\n",
        "\n",
        "\n",
        "#============================================================\n",
        "# callbacks\n",
        "cb_early = tf.keras.callbacks.EarlyStopping(\n",
        "    monitor='val_auc', \n",
        "    verbose=1,\n",
        "    patience=PARAMS_FIT['patience'],\n",
        "    mode='max',\n",
        "    restore_best_weights=True)\n",
        "\n",
        "#cb_checkpt = keras.callbacks.ModelCheckpoint(\"fraud_model_at_epoch_{epoch}.h5\")\n",
        "cb_lr = lrcurve.KerasLearningCurve()\n",
        "callbacks = [cb_early, cb_lr]"
      ],
      "execution_count": 92,
      "outputs": []
    },
    {
      "cell_type": "markdown",
      "metadata": {
        "id": "bt4rkvVuUHBW"
      },
      "source": [
        "# Build the Model"
      ]
    },
    {
      "cell_type": "code",
      "metadata": {
        "id": "YUoVbcR8UHBY",
        "outputId": "1bad4654-3697-4c2d-d8d2-bb3c85219629",
        "colab": {
          "base_uri": "https://localhost:8080/",
          "height": 265
        }
      },
      "source": [
        "def one_layer(metrics=METRICS, output_bias=None,n_feats=n_feats):\n",
        "    if output_bias is not None:\n",
        "        output_bias = tf.keras.initializers.Constant(output_bias)\n",
        "\n",
        "    model = keras.Sequential([\n",
        "        # layer 1\n",
        "        keras.layers.Dense(PARAMS_MODEL['L1_units'],\n",
        "                           activation=PARAMS_MODEL['L1_act'],\n",
        "                           input_shape=(n_feats,)),\n",
        "\n",
        "        keras.layers.Dropout(PARAMS_MODEL['L1_dropout']),\n",
        "\n",
        "        # last layer is dense 1 with activation sigmoid\n",
        "        keras.layers.Dense(1, activation='sigmoid',\n",
        "                         bias_initializer=output_bias),\n",
        "    ])\n",
        "\n",
        "    model.compile(\n",
        "      optimizer=keras.optimizers.Adam(lr=PARAMS_MODEL['adam_lr']),\n",
        "      loss=keras.losses.BinaryCrossentropy(),\n",
        "      metrics=metrics)\n",
        "\n",
        "    return model\n",
        "\n",
        "model = make_model()\n",
        "model.summary()"
      ],
      "execution_count": 93,
      "outputs": [
        {
          "output_type": "stream",
          "text": [
            "Model: \"sequential_11\"\n",
            "_________________________________________________________________\n",
            "Layer (type)                 Output Shape              Param #   \n",
            "=================================================================\n",
            "dense_22 (Dense)             (None, 16)                480       \n",
            "_________________________________________________________________\n",
            "dropout_11 (Dropout)         (None, 16)                0         \n",
            "_________________________________________________________________\n",
            "dense_23 (Dense)             (None, 1)                 17        \n",
            "=================================================================\n",
            "Total params: 497\n",
            "Trainable params: 497\n",
            "Non-trainable params: 0\n",
            "_________________________________________________________________\n"
          ],
          "name": "stdout"
        }
      ]
    },
    {
      "cell_type": "markdown",
      "metadata": {
        "id": "9z4TFmVyUHBa"
      },
      "source": [
        "## Fit the model using KerasClassifier"
      ]
    },
    {
      "cell_type": "code",
      "metadata": {
        "id": "gIhdE1SPigoS"
      },
      "source": [
        "from keras.wrappers.scikit_learn import KerasClassifier\n",
        "from sklearn.model_selection import StratifiedKFold, cross_val_score"
      ],
      "execution_count": 94,
      "outputs": []
    },
    {
      "cell_type": "code",
      "metadata": {
        "id": "EUaJpv4MiY-p"
      },
      "source": [
        "clf = KerasClassifier(one_layer,\n",
        "                    batch_size=PARAMS_FIT['batch_size'],\n",
        "                    epochs=PARAMS_FIT['epochs'],\n",
        "                    class_weight=class_weight,\n",
        "                    verbose=0)"
      ],
      "execution_count": 113,
      "outputs": []
    },
    {
      "cell_type": "code",
      "metadata": {
        "id": "SdfPa3wO7iVm"
      },
      "source": [
        "# clf.fit accepts all sequential model.fit parameters"
      ],
      "execution_count": 96,
      "outputs": []
    },
    {
      "cell_type": "markdown",
      "metadata": {
        "id": "85SEhB9w2_pz"
      },
      "source": [
        "## Stratified Cross Validation"
      ]
    },
    {
      "cell_type": "code",
      "metadata": {
        "id": "EvFwjRcjXJ2g",
        "outputId": "b44ec405-4865-4536-970c-bc9cc92596f6",
        "colab": {
          "base_uri": "https://localhost:8080/",
          "height": 52
        }
      },
      "source": [
        "%%time\n",
        "set_random_seed(SEED)\n",
        "skf = StratifiedKFold(n_splits=5, shuffle=True, random_state=SEED)\n",
        "\n",
        "scores = []\n",
        "for idx_tr, idx_vd in skf.split(Xtrain, ytrain):\n",
        "    X_cv, y_cv = Xtrain[idx_tr], ytrain[idx_tr]\n",
        "    clf.fit(X_cv, y_cv)\n",
        "    scores.append(clf.score(X_cv, y_cv))"
      ],
      "execution_count": 114,
      "outputs": [
        {
          "output_type": "stream",
          "text": [
            "CPU times: user 7min 23s, sys: 27.8 s, total: 7min 51s\n",
            "Wall time: 4min 26s\n"
          ],
          "name": "stdout"
        }
      ]
    },
    {
      "cell_type": "code",
      "metadata": {
        "id": "lPQuAxd24H1k",
        "outputId": "35b389e1-face-422b-fb44-d68e9c001712",
        "colab": {
          "base_uri": "https://localhost:8080/",
          "height": 34
        }
      },
      "source": [
        "print(scores) "
      ],
      "execution_count": 108,
      "outputs": [
        {
          "output_type": "stream",
          "text": [
            "[0.9883418083190918, 0.9879372715950012, 0.9879372715950012, 0.9881910085678101, 0.9894047975540161]\n"
          ],
          "name": "stdout"
        }
      ]
    },
    {
      "cell_type": "code",
      "metadata": {
        "id": "24X4oCwfS-20",
        "outputId": "a2f4072b-ec21-417f-dbdd-e53449ffd59b",
        "colab": {
          "base_uri": "https://localhost:8080/",
          "height": 34
        }
      },
      "source": [
        "mean_acc = np.mean(scores)\n",
        "mean_acc"
      ],
      "execution_count": 115,
      "outputs": [
        {
          "output_type": "execute_result",
          "data": {
            "text/plain": [
              "0.9883624315261841"
            ]
          },
          "metadata": {
            "tags": []
          },
          "execution_count": 115
        }
      ]
    },
    {
      "cell_type": "code",
      "metadata": {
        "id": "mJRadX004TeV"
      },
      "source": [
        "# show_methods(model)"
      ],
      "execution_count": 99,
      "outputs": []
    },
    {
      "cell_type": "code",
      "metadata": {
        "id": "k4qG4J-D6quc"
      },
      "source": [
        "# clf.get_params()"
      ],
      "execution_count": 100,
      "outputs": []
    },
    {
      "cell_type": "code",
      "metadata": {
        "id": "gJ8x91vd67ba"
      },
      "source": [
        "# clf.sk_params"
      ],
      "execution_count": 101,
      "outputs": []
    },
    {
      "cell_type": "code",
      "metadata": {
        "id": "xx4fALmJ63Ks"
      },
      "source": [
        "# # last validation scores\n",
        "# clf.fit(X_cv, y_cv)\n",
        "# ypreds = clf.predict(X_cv).flatten()\n",
        "\n",
        "# df_tmp = model_evaluation(\"keras\", '', y_cv, ypreds,df_eval=None)\n",
        "# score = clf.score(X_cv,y_cv)\n",
        "\n",
        "# # I found that score is accuracy score"
      ],
      "execution_count": 102,
      "outputs": []
    },
    {
      "cell_type": "markdown",
      "metadata": {
        "id": "7yiT1hinV9_b"
      },
      "source": [
        "# Model Evaluation"
      ]
    },
    {
      "cell_type": "code",
      "metadata": {
        "id": "jr32JPm44v-P",
        "outputId": "6791e115-490f-4003-d3f9-394231c995e5",
        "colab": {
          "base_uri": "https://localhost:8080/",
          "height": 87
        }
      },
      "source": [
        "%%time\n",
        "history = clf.fit(Xtrain, ytrain,\n",
        "                  validation_data=(Xvalid,yvalid),\n",
        "                  callbacks=[cb_early]\n",
        "                  )"
      ],
      "execution_count": 143,
      "outputs": [
        {
          "output_type": "stream",
          "text": [
            "Restoring model weights from the end of the best epoch.\n",
            "Epoch 00023: early stopping\n",
            "CPU times: user 33.4 s, sys: 2.04 s, total: 35.4 s\n",
            "Wall time: 21.1 s\n"
          ],
          "name": "stdout"
        }
      ]
    },
    {
      "cell_type": "code",
      "metadata": {
        "id": "8HH6--phUttH",
        "outputId": "4c76cca7-b45e-4f38-ccce-1a7672ed1ef8",
        "colab": {
          "base_uri": "https://localhost:8080/",
          "height": 287
        }
      },
      "source": [
        "show_methods(history)"
      ],
      "execution_count": 144,
      "outputs": [
        {
          "output_type": "execute_result",
          "data": {
            "text/html": [
              "<div>\n",
              "<style scoped>\n",
              "    .dataframe tbody tr th:only-of-type {\n",
              "        vertical-align: middle;\n",
              "    }\n",
              "\n",
              "    .dataframe tbody tr th {\n",
              "        vertical-align: top;\n",
              "    }\n",
              "\n",
              "    .dataframe thead th {\n",
              "        text-align: right;\n",
              "    }\n",
              "</style>\n",
              "<table border=\"1\" class=\"dataframe\">\n",
              "  <thead>\n",
              "    <tr style=\"text-align: right;\">\n",
              "      <th></th>\n",
              "      <th>0</th>\n",
              "      <th>1</th>\n",
              "      <th>2</th>\n",
              "    </tr>\n",
              "  </thead>\n",
              "  <tbody>\n",
              "    <tr>\n",
              "      <th>0</th>\n",
              "      <td>epoch</td>\n",
              "      <td>on_predict_batch_end</td>\n",
              "      <td>on_train_batch_end</td>\n",
              "    </tr>\n",
              "    <tr>\n",
              "      <th>1</th>\n",
              "      <td>history</td>\n",
              "      <td>on_predict_begin</td>\n",
              "      <td>on_train_begin</td>\n",
              "    </tr>\n",
              "    <tr>\n",
              "      <th>2</th>\n",
              "      <td>model</td>\n",
              "      <td>on_predict_end</td>\n",
              "      <td>on_train_end</td>\n",
              "    </tr>\n",
              "    <tr>\n",
              "      <th>3</th>\n",
              "      <td>on_batch_begin</td>\n",
              "      <td>on_test_batch_begin</td>\n",
              "      <td>params</td>\n",
              "    </tr>\n",
              "    <tr>\n",
              "      <th>4</th>\n",
              "      <td>on_batch_end</td>\n",
              "      <td>on_test_batch_end</td>\n",
              "      <td>set_model</td>\n",
              "    </tr>\n",
              "    <tr>\n",
              "      <th>5</th>\n",
              "      <td>on_epoch_begin</td>\n",
              "      <td>on_test_begin</td>\n",
              "      <td>set_params</td>\n",
              "    </tr>\n",
              "    <tr>\n",
              "      <th>6</th>\n",
              "      <td>on_epoch_end</td>\n",
              "      <td>on_test_end</td>\n",
              "      <td>validation_data</td>\n",
              "    </tr>\n",
              "    <tr>\n",
              "      <th>7</th>\n",
              "      <td>on_predict_batch_begin</td>\n",
              "      <td>on_train_batch_begin</td>\n",
              "      <td></td>\n",
              "    </tr>\n",
              "  </tbody>\n",
              "</table>\n",
              "</div>"
            ],
            "text/plain": [
              "                        0                     1                   2\n",
              "0                   epoch  on_predict_batch_end  on_train_batch_end\n",
              "1                 history      on_predict_begin      on_train_begin\n",
              "2                   model        on_predict_end        on_train_end\n",
              "3          on_batch_begin   on_test_batch_begin              params\n",
              "4            on_batch_end     on_test_batch_end           set_model\n",
              "5          on_epoch_begin         on_test_begin          set_params\n",
              "6            on_epoch_end           on_test_end     validation_data\n",
              "7  on_predict_batch_begin  on_train_batch_begin                    "
            ]
          },
          "metadata": {
            "tags": []
          },
          "execution_count": 144
        }
      ]
    },
    {
      "cell_type": "code",
      "metadata": {
        "id": "ALBTPWAbZct9",
        "outputId": "e9007163-2c25-4173-89ed-5b7dbd76b132",
        "colab": {
          "base_uri": "https://localhost:8080/",
          "height": 217
        }
      },
      "source": [
        "df_history = pd.DataFrame(history.history)\n",
        "df_history.head()"
      ],
      "execution_count": 149,
      "outputs": [
        {
          "output_type": "execute_result",
          "data": {
            "text/html": [
              "<div>\n",
              "<style scoped>\n",
              "    .dataframe tbody tr th:only-of-type {\n",
              "        vertical-align: middle;\n",
              "    }\n",
              "\n",
              "    .dataframe tbody tr th {\n",
              "        vertical-align: top;\n",
              "    }\n",
              "\n",
              "    .dataframe thead th {\n",
              "        text-align: right;\n",
              "    }\n",
              "</style>\n",
              "<table border=\"1\" class=\"dataframe\">\n",
              "  <thead>\n",
              "    <tr style=\"text-align: right;\">\n",
              "      <th></th>\n",
              "      <th>loss</th>\n",
              "      <th>tp</th>\n",
              "      <th>fp</th>\n",
              "      <th>tn</th>\n",
              "      <th>fn</th>\n",
              "      <th>accuracy</th>\n",
              "      <th>precision</th>\n",
              "      <th>recall</th>\n",
              "      <th>auc</th>\n",
              "      <th>val_loss</th>\n",
              "      <th>val_tp</th>\n",
              "      <th>val_fp</th>\n",
              "      <th>val_tn</th>\n",
              "      <th>val_fn</th>\n",
              "      <th>val_accuracy</th>\n",
              "      <th>val_precision</th>\n",
              "      <th>val_recall</th>\n",
              "      <th>val_auc</th>\n",
              "    </tr>\n",
              "  </thead>\n",
              "  <tbody>\n",
              "    <tr>\n",
              "      <th>0</th>\n",
              "      <td>0.683066</td>\n",
              "      <td>229.0</td>\n",
              "      <td>43589.0</td>\n",
              "      <td>183862.0</td>\n",
              "      <td>165.0</td>\n",
              "      <td>0.807966</td>\n",
              "      <td>0.005226</td>\n",
              "      <td>0.581218</td>\n",
              "      <td>0.750562</td>\n",
              "      <td>0.478051</td>\n",
              "      <td>63.0</td>\n",
              "      <td>5305.0</td>\n",
              "      <td>40185.0</td>\n",
              "      <td>16.0</td>\n",
              "      <td>0.883232</td>\n",
              "      <td>0.011736</td>\n",
              "      <td>0.797468</td>\n",
              "      <td>0.867813</td>\n",
              "    </tr>\n",
              "    <tr>\n",
              "      <th>1</th>\n",
              "      <td>0.490947</td>\n",
              "      <td>216.0</td>\n",
              "      <td>28510.0</td>\n",
              "      <td>153451.0</td>\n",
              "      <td>99.0</td>\n",
              "      <td>0.843046</td>\n",
              "      <td>0.007519</td>\n",
              "      <td>0.685714</td>\n",
              "      <td>0.815893</td>\n",
              "      <td>0.396563</td>\n",
              "      <td>64.0</td>\n",
              "      <td>2119.0</td>\n",
              "      <td>43371.0</td>\n",
              "      <td>15.0</td>\n",
              "      <td>0.953170</td>\n",
              "      <td>0.029317</td>\n",
              "      <td>0.810127</td>\n",
              "      <td>0.921812</td>\n",
              "    </tr>\n",
              "    <tr>\n",
              "      <th>2</th>\n",
              "      <td>0.390479</td>\n",
              "      <td>236.0</td>\n",
              "      <td>19219.0</td>\n",
              "      <td>162742.0</td>\n",
              "      <td>79.0</td>\n",
              "      <td>0.894128</td>\n",
              "      <td>0.012131</td>\n",
              "      <td>0.749206</td>\n",
              "      <td>0.886122</td>\n",
              "      <td>0.333194</td>\n",
              "      <td>67.0</td>\n",
              "      <td>1204.0</td>\n",
              "      <td>44286.0</td>\n",
              "      <td>12.0</td>\n",
              "      <td>0.973315</td>\n",
              "      <td>0.052714</td>\n",
              "      <td>0.848101</td>\n",
              "      <td>0.937796</td>\n",
              "    </tr>\n",
              "    <tr>\n",
              "      <th>3</th>\n",
              "      <td>0.316840</td>\n",
              "      <td>258.0</td>\n",
              "      <td>13002.0</td>\n",
              "      <td>168959.0</td>\n",
              "      <td>57.0</td>\n",
              "      <td>0.928356</td>\n",
              "      <td>0.019457</td>\n",
              "      <td>0.819048</td>\n",
              "      <td>0.933932</td>\n",
              "      <td>0.280624</td>\n",
              "      <td>68.0</td>\n",
              "      <td>913.0</td>\n",
              "      <td>44577.0</td>\n",
              "      <td>11.0</td>\n",
              "      <td>0.979723</td>\n",
              "      <td>0.069317</td>\n",
              "      <td>0.860759</td>\n",
              "      <td>0.949478</td>\n",
              "    </tr>\n",
              "    <tr>\n",
              "      <th>4</th>\n",
              "      <td>0.289923</td>\n",
              "      <td>265.0</td>\n",
              "      <td>9150.0</td>\n",
              "      <td>172811.0</td>\n",
              "      <td>50.0</td>\n",
              "      <td>0.949527</td>\n",
              "      <td>0.028147</td>\n",
              "      <td>0.841270</td>\n",
              "      <td>0.942312</td>\n",
              "      <td>0.239485</td>\n",
              "      <td>68.0</td>\n",
              "      <td>736.0</td>\n",
              "      <td>44754.0</td>\n",
              "      <td>11.0</td>\n",
              "      <td>0.983607</td>\n",
              "      <td>0.084577</td>\n",
              "      <td>0.860759</td>\n",
              "      <td>0.956797</td>\n",
              "    </tr>\n",
              "  </tbody>\n",
              "</table>\n",
              "</div>"
            ],
            "text/plain": [
              "       loss     tp       fp        tn     fn  accuracy  precision    recall  \\\n",
              "0  0.683066  229.0  43589.0  183862.0  165.0  0.807966   0.005226  0.581218   \n",
              "1  0.490947  216.0  28510.0  153451.0   99.0  0.843046   0.007519  0.685714   \n",
              "2  0.390479  236.0  19219.0  162742.0   79.0  0.894128   0.012131  0.749206   \n",
              "3  0.316840  258.0  13002.0  168959.0   57.0  0.928356   0.019457  0.819048   \n",
              "4  0.289923  265.0   9150.0  172811.0   50.0  0.949527   0.028147  0.841270   \n",
              "\n",
              "        auc  val_loss  val_tp  val_fp   val_tn  val_fn  val_accuracy  \\\n",
              "0  0.750562  0.478051    63.0  5305.0  40185.0    16.0      0.883232   \n",
              "1  0.815893  0.396563    64.0  2119.0  43371.0    15.0      0.953170   \n",
              "2  0.886122  0.333194    67.0  1204.0  44286.0    12.0      0.973315   \n",
              "3  0.933932  0.280624    68.0   913.0  44577.0    11.0      0.979723   \n",
              "4  0.942312  0.239485    68.0   736.0  44754.0    11.0      0.983607   \n",
              "\n",
              "   val_precision  val_recall   val_auc  \n",
              "0       0.011736    0.797468  0.867813  \n",
              "1       0.029317    0.810127  0.921812  \n",
              "2       0.052714    0.848101  0.937796  \n",
              "3       0.069317    0.860759  0.949478  \n",
              "4       0.084577    0.860759  0.956797  "
            ]
          },
          "metadata": {
            "tags": []
          },
          "execution_count": 149
        }
      ]
    },
    {
      "cell_type": "markdown",
      "metadata": {
        "id": "u76fSW6Ug9b8"
      },
      "source": [
        "## Confusion Matrix"
      ]
    },
    {
      "cell_type": "code",
      "metadata": {
        "id": "0pq1a2_oV_y7"
      },
      "source": [
        "from sklearn import metrics as skmetrics"
      ],
      "execution_count": 120,
      "outputs": []
    },
    {
      "cell_type": "code",
      "metadata": {
        "id": "l_NYrtW-WDdE",
        "outputId": "6390dfbe-9db3-4e7b-de2a-2b5ba3d19085",
        "colab": {
          "base_uri": "https://localhost:8080/",
          "height": 105
        }
      },
      "source": [
        "# keras classifier has predict_proba but sequential does not\n",
        "try:\n",
        "    yprobs = clf.predict_proba(Xtest)\n",
        "except:\n",
        "    yprobs = clf.predict(Xtest)\n",
        "yprobs[:5]"
      ],
      "execution_count": 121,
      "outputs": [
        {
          "output_type": "execute_result",
          "data": {
            "text/plain": [
              "array([[4.8686218e-01, 5.1313782e-01],\n",
              "       [9.9999642e-01, 3.5917092e-06],\n",
              "       [9.9693179e-01, 3.0682087e-03],\n",
              "       [9.9992031e-01, 7.9715690e-05],\n",
              "       [9.9840224e-01, 1.5977919e-03]], dtype=float32)"
            ]
          },
          "metadata": {
            "tags": []
          },
          "execution_count": 121
        }
      ]
    },
    {
      "cell_type": "code",
      "metadata": {
        "id": "JNEe2AIVWIzE",
        "outputId": "dcf10cc5-98c3-4f1e-83d8-9a1ed29ef4c9",
        "colab": {
          "base_uri": "https://localhost:8080/",
          "height": 34
        }
      },
      "source": [
        "if yprobs.shape[1] == 2:\n",
        "    yprobs = yprobs[:,1]\n",
        "\n",
        "ypreds = (yprobs.flatten()>0.5).astype(np.int8)\n",
        "ypreds[:5]"
      ],
      "execution_count": 125,
      "outputs": [
        {
          "output_type": "execute_result",
          "data": {
            "text/plain": [
              "array([1, 0, 0, 0, 0], dtype=int8)"
            ]
          },
          "metadata": {
            "tags": []
          },
          "execution_count": 125
        }
      ]
    },
    {
      "cell_type": "code",
      "metadata": {
        "id": "YyaB7DMCTdkF",
        "outputId": "63f82657-dfdd-45ff-fde4-b1ebd23d96e0",
        "colab": {
          "base_uri": "https://localhost:8080/",
          "height": 34
        }
      },
      "source": [
        "Xtest.shape, ytest.shape, ypreds.shape"
      ],
      "execution_count": 126,
      "outputs": [
        {
          "output_type": "execute_result",
          "data": {
            "text/plain": [
              "((56962, 29), (56962,), (56962,))"
            ]
          },
          "metadata": {
            "tags": []
          },
          "execution_count": 126
        }
      ]
    },
    {
      "cell_type": "code",
      "metadata": {
        "id": "6mrsDr6MWZsU",
        "outputId": "f0a2db73-fb88-4044-d35c-ef0312a38638",
        "colab": {
          "base_uri": "https://localhost:8080/",
          "height": 52
        }
      },
      "source": [
        "skmetrics.confusion_matrix(ytest, ypreds)"
      ],
      "execution_count": 127,
      "outputs": [
        {
          "output_type": "execute_result",
          "data": {
            "text/plain": [
              "array([[56190,   674],\n",
              "       [   13,    85]])"
            ]
          },
          "metadata": {
            "tags": []
          },
          "execution_count": 127
        }
      ]
    },
    {
      "cell_type": "code",
      "metadata": {
        "id": "gyxEemZkhsU4"
      },
      "source": [
        "from scikitplot import metrics as skpmetrics"
      ],
      "execution_count": 128,
      "outputs": []
    },
    {
      "cell_type": "code",
      "metadata": {
        "id": "I-3CNccNhzbe",
        "outputId": "38f77599-0f3a-4d32-dd07-404dcebec4a6",
        "colab": {
          "base_uri": "https://localhost:8080/",
          "height": 315
        }
      },
      "source": [
        "skpmetrics.plot_confusion_matrix(ytest,ypreds)"
      ],
      "execution_count": 129,
      "outputs": [
        {
          "output_type": "execute_result",
          "data": {
            "text/plain": [
              "<matplotlib.axes._subplots.AxesSubplot at 0x7f64c8270b70>"
            ]
          },
          "metadata": {
            "tags": []
          },
          "execution_count": 129
        },
        {
          "output_type": "display_data",
          "data": {
            "image/png": "[encoded data removed]",
            "text/plain": [
              "<Figure size 432x288 with 2 Axes>"
            ]
          },
          "metadata": {
            "tags": [],
            "needs_background": "light"
          }
        }
      ]
    },
    {
      "cell_type": "code",
      "metadata": {
        "id": "MWTQ2aNVkW6_"
      },
      "source": [
        "def plot_cm(labels, predictions, p=0.5):\n",
        "  cm = sklearn.metrics.confusion_matrix(labels, predictions > p)\n",
        "  plt.figure(figsize=(5,5))\n",
        "  sns.heatmap(cm, annot=True, fmt=\"d\")\n",
        "  plt.title('Confusion matrix @{:.2f}'.format(p))\n",
        "  plt.ylabel('Actual label')\n",
        "  plt.xlabel('Predicted label')\n",
        "\n",
        "  print('Legitimate Transactions Detected (True Negatives): ', cm[0][0])\n",
        "  print('Legitimate Transactions Incorrectly Detected (False Positives): ', cm[0][1])\n",
        "  print('Fraudulent Transactions Missed (False Negatives): ', cm[1][0])\n",
        "  print('Fraudulent Transactions Detected (True Positives): ', cm[1][1])\n",
        "  print('Total Fraudulent Transactions: ', np.sum(cm[1]))"
      ],
      "execution_count": 130,
      "outputs": []
    },
    {
      "cell_type": "code",
      "metadata": {
        "id": "KRNoTIAWkYZG",
        "outputId": "86540e8b-cba6-4f32-8d0d-2c1fb9bf26ae",
        "colab": {
          "base_uri": "https://localhost:8080/",
          "height": 443
        }
      },
      "source": [
        "plot_cm(ytest,ypreds)"
      ],
      "execution_count": 131,
      "outputs": [
        {
          "output_type": "stream",
          "text": [
            "Legitimate Transactions Detected (True Negatives):  56190\n",
            "Legitimate Transactions Incorrectly Detected (False Positives):  674\n",
            "Fraudulent Transactions Missed (False Negatives):  13\n",
            "Fraudulent Transactions Detected (True Positives):  85\n",
            "Total Fraudulent Transactions:  98\n"
          ],
          "name": "stdout"
        },
        {
          "output_type": "display_data",
          "data": {
            "image/png": "[encoded data removed]",
            "text/plain": [
              "<Figure size 360x360 with 2 Axes>"
            ]
          },
          "metadata": {
            "tags": [],
            "needs_background": "light"
          }
        }
      ]
    },
    {
      "cell_type": "markdown",
      "metadata": {
        "id": "FYaW6jYnkZzW"
      },
      "source": [
        "<div class=\"alert alert-block alert-success\">\n",
        "<b>NOTE:</b> \n",
        "confusion matrix is\n",
        "TN FP\n",
        "FN TP\n",
        "\n",
        "Here, diagonal values are True Negatives and True Postives, ideally we want non-diagonal elements to be zero. But we some mis-predictions.\n",
        "\n",
        "The top right value is False Positive.\n",
        "They are not frauds but our model predict them as frauds.\n",
        "Company needs to send them email to verify if the transaction\n",
        "is legal or not and if we send too many emails it might annoy the customers.\n",
        "\n",
        "The bottom left value is False Negative.\n",
        "They are the actual frauds classified as normal persons by the model. This cost the company money and have to deal with fraudulent cases. This is much more undesirable than False Posivites.\n",
        "\n",
        "In real life, the trade off much be chosen much carefully so as not to bug too many customers as well as not to miss the frauds.\n",
        "</div>"
      ]
    },
    {
      "cell_type": "markdown",
      "metadata": {
        "id": "G_pRkrxHhEAU"
      },
      "source": [
        "## Accuracy Recall Scores"
      ]
    },
    {
      "cell_type": "code",
      "metadata": {
        "id": "gBUue8_e0xG7",
        "outputId": "6ebac76f-0c3a-4adb-a87f-c68ba2912c06",
        "colab": {
          "base_uri": "https://localhost:8080/",
          "height": 53
        }
      },
      "source": [
        "desc = \"simple model\"\n",
        "yprobs = model.predict(Xtest)\n",
        "\n",
        "ypreds = ypreds.ravel()\n",
        "ypreds = (yprobs.flatten()>0.5).astype(np.int8)\n",
        "\n",
        "df_eval = model_evaluation(\"keras\", desc, ytest, ypreds,df_eval=None)"
      ],
      "execution_count": 132,
      "outputs": [
        {
          "output_type": "display_data",
          "data": {
            "text/html": [
              "<style  type=\"text/css\" >\n",
              "#T_2dfdc48c_06a9_11eb_87a1_0242ac1c0002row0_col4{\n",
              "            background-color:  #fff7fb;\n",
              "            color:  #000000;\n",
              "        }</style><table id=\"T_2dfdc48c_06a9_11eb_87a1_0242ac1c0002\" ><thead>    <tr>        <th class=\"blank level0\" ></th>        <th class=\"col_heading level0 col0\" >Model</th>        <th class=\"col_heading level0 col1\" >Description</th>        <th class=\"col_heading level0 col2\" >Accuracy</th>        <th class=\"col_heading level0 col3\" >Precision</th>        <th class=\"col_heading level0 col4\" >Recall</th>        <th class=\"col_heading level0 col5\" >F1</th>        <th class=\"col_heading level0 col6\" >AUC</th>    </tr></thead><tbody>\n",
              "                <tr>\n",
              "                        <th id=\"T_2dfdc48c_06a9_11eb_87a1_0242ac1c0002level0_row0\" class=\"row_heading level0 row0\" >0</th>\n",
              "                        <td id=\"T_2dfdc48c_06a9_11eb_87a1_0242ac1c0002row0_col0\" class=\"data row0 col0\" >keras</td>\n",
              "                        <td id=\"T_2dfdc48c_06a9_11eb_87a1_0242ac1c0002row0_col1\" class=\"data row0 col1\" >simple model</td>\n",
              "                        <td id=\"T_2dfdc48c_06a9_11eb_87a1_0242ac1c0002row0_col2\" class=\"data row0 col2\" >0.987939</td>\n",
              "                        <td id=\"T_2dfdc48c_06a9_11eb_87a1_0242ac1c0002row0_col3\" class=\"data row0 col3\" >0.111989</td>\n",
              "                        <td id=\"T_2dfdc48c_06a9_11eb_87a1_0242ac1c0002row0_col4\" class=\"data row0 col4\" >0.867347</td>\n",
              "                        <td id=\"T_2dfdc48c_06a9_11eb_87a1_0242ac1c0002row0_col5\" class=\"data row0 col5\" >0.198366</td>\n",
              "                        <td id=\"T_2dfdc48c_06a9_11eb_87a1_0242ac1c0002row0_col6\" class=\"data row0 col6\" >0.927747</td>\n",
              "            </tr>\n",
              "    </tbody></table>"
            ],
            "text/plain": [
              "<pandas.io.formats.style.Styler at 0x7f64c81d4668>"
            ]
          },
          "metadata": {
            "tags": []
          }
        }
      ]
    },
    {
      "cell_type": "markdown",
      "metadata": {
        "id": "Pf_8xz-Bg63t"
      },
      "source": [
        "## Training History Plots"
      ]
    },
    {
      "cell_type": "code",
      "metadata": {
        "id": "LSMQSsnfcGOo",
        "outputId": "32a1b4cb-7b0d-440f-a954-829671e6d976",
        "colab": {
          "base_uri": "https://localhost:8080/",
          "height": 127
        }
      },
      "source": [
        "df_history.head(2)"
      ],
      "execution_count": 154,
      "outputs": [
        {
          "output_type": "execute_result",
          "data": {
            "text/html": [
              "<div>\n",
              "<style scoped>\n",
              "    .dataframe tbody tr th:only-of-type {\n",
              "        vertical-align: middle;\n",
              "    }\n",
              "\n",
              "    .dataframe tbody tr th {\n",
              "        vertical-align: top;\n",
              "    }\n",
              "\n",
              "    .dataframe thead th {\n",
              "        text-align: right;\n",
              "    }\n",
              "</style>\n",
              "<table border=\"1\" class=\"dataframe\">\n",
              "  <thead>\n",
              "    <tr style=\"text-align: right;\">\n",
              "      <th></th>\n",
              "      <th>loss</th>\n",
              "      <th>tp</th>\n",
              "      <th>fp</th>\n",
              "      <th>tn</th>\n",
              "      <th>fn</th>\n",
              "      <th>accuracy</th>\n",
              "      <th>precision</th>\n",
              "      <th>recall</th>\n",
              "      <th>auc</th>\n",
              "      <th>val_loss</th>\n",
              "      <th>val_tp</th>\n",
              "      <th>val_fp</th>\n",
              "      <th>val_tn</th>\n",
              "      <th>val_fn</th>\n",
              "      <th>val_accuracy</th>\n",
              "      <th>val_precision</th>\n",
              "      <th>val_recall</th>\n",
              "      <th>val_auc</th>\n",
              "    </tr>\n",
              "  </thead>\n",
              "  <tbody>\n",
              "    <tr>\n",
              "      <th>0</th>\n",
              "      <td>0.683066</td>\n",
              "      <td>229.0</td>\n",
              "      <td>43589.0</td>\n",
              "      <td>183862.0</td>\n",
              "      <td>165.0</td>\n",
              "      <td>0.807966</td>\n",
              "      <td>0.005226</td>\n",
              "      <td>0.581218</td>\n",
              "      <td>0.750562</td>\n",
              "      <td>0.478051</td>\n",
              "      <td>63.0</td>\n",
              "      <td>5305.0</td>\n",
              "      <td>40185.0</td>\n",
              "      <td>16.0</td>\n",
              "      <td>0.883232</td>\n",
              "      <td>0.011736</td>\n",
              "      <td>0.797468</td>\n",
              "      <td>0.867813</td>\n",
              "    </tr>\n",
              "    <tr>\n",
              "      <th>1</th>\n",
              "      <td>0.490947</td>\n",
              "      <td>216.0</td>\n",
              "      <td>28510.0</td>\n",
              "      <td>153451.0</td>\n",
              "      <td>99.0</td>\n",
              "      <td>0.843046</td>\n",
              "      <td>0.007519</td>\n",
              "      <td>0.685714</td>\n",
              "      <td>0.815893</td>\n",
              "      <td>0.396563</td>\n",
              "      <td>64.0</td>\n",
              "      <td>2119.0</td>\n",
              "      <td>43371.0</td>\n",
              "      <td>15.0</td>\n",
              "      <td>0.953170</td>\n",
              "      <td>0.029317</td>\n",
              "      <td>0.810127</td>\n",
              "      <td>0.921812</td>\n",
              "    </tr>\n",
              "  </tbody>\n",
              "</table>\n",
              "</div>"
            ],
            "text/plain": [
              "       loss     tp       fp        tn     fn  accuracy  precision    recall  \\\n",
              "0  0.683066  229.0  43589.0  183862.0  165.0  0.807966   0.005226  0.581218   \n",
              "1  0.490947  216.0  28510.0  153451.0   99.0  0.843046   0.007519  0.685714   \n",
              "\n",
              "        auc  val_loss  val_tp  val_fp   val_tn  val_fn  val_accuracy  \\\n",
              "0  0.750562  0.478051    63.0  5305.0  40185.0    16.0      0.883232   \n",
              "1  0.815893  0.396563    64.0  2119.0  43371.0    15.0      0.953170   \n",
              "\n",
              "   val_precision  val_recall   val_auc  \n",
              "0       0.011736    0.797468  0.867813  \n",
              "1       0.029317    0.810127  0.921812  "
            ]
          },
          "metadata": {
            "tags": []
          },
          "execution_count": 154
        }
      ]
    },
    {
      "cell_type": "code",
      "metadata": {
        "id": "iRULa63edoF1"
      },
      "source": [
        "def plot_metrics(history):\n",
        "    metrics =  ['loss', 'auc', 'precision', 'recall']\n",
        "    for n, metric in enumerate(metrics):\n",
        "        name = metric.replace(\"_\",\" \").capitalize()\n",
        "        plt.subplot(2,2,n+1)\n",
        "        plt.plot(history.epoch,  history.history[metric], color=colors[0], label='Train')\n",
        "        plt.plot(history.epoch, history.history['val_'+metric],\n",
        "                    color=colors[0], linestyle=\"--\", label='Val')\n",
        "        plt.xlabel('Epoch')\n",
        "        plt.ylabel(name)\n",
        "        if metric == 'loss':\n",
        "            plt.ylim([0, plt.ylim()[1]])\n",
        "        elif metric == 'auc':\n",
        "            plt.ylim([0.8,1])\n",
        "        else:\n",
        "            plt.ylim([0,1])\n",
        "\n",
        "        plt.legend()"
      ],
      "execution_count": 155,
      "outputs": []
    },
    {
      "cell_type": "code",
      "metadata": {
        "id": "r8wIEdWncYCR",
        "outputId": "0fa3a55a-80ed-49c0-dcfe-437246d12bbb",
        "colab": {
          "base_uri": "https://localhost:8080/",
          "height": 614
        }
      },
      "source": [
        "plot_metrics(history)"
      ],
      "execution_count": 157,
      "outputs": [
        {
          "output_type": "display_data",
          "data": {
            "image/png": "[encoded data removed]",
            "text/plain": [
              "<Figure size 864x720 with 4 Axes>"
            ]
          },
          "metadata": {
            "tags": [],
            "needs_background": "light"
          }
        }
      ]
    },
    {
      "cell_type": "markdown",
      "metadata": {
        "id": "e4MZ0GxZg7Df"
      },
      "source": [
        "<div class=\"alert alert-block alert-danger\">\n",
        "<b>WARNING:</b> \n",
        "Here Validation data has more AUC than training, this is because dropout layer is not active when evaluating the model.\n",
        "</div>"
      ]
    },
    {
      "cell_type": "markdown",
      "metadata": {
        "id": "UaKJUiDm1rMX"
      },
      "source": [
        "# Time Taken"
      ]
    },
    {
      "cell_type": "code",
      "metadata": {
        "id": "WJeBxu-61s0E"
      },
      "source": [
        "time_taken = time.time() - time_start_notebook\n",
        "h,m = divmod(time_taken,60*60)\n",
        "print('Time taken to run whole notebook: {:.0f} hr '\\\n",
        "      '{:.0f} min {:.0f} secs'.format(h, *divmod(m,60)))"
      ],
      "execution_count": null,
      "outputs": []
    }
  ]
}