{
  "nbformat": 4,
  "nbformat_minor": 0,
  "metadata": {
    "colab": {
      "name": "b09_classification_modelling_stacking.ipynb",
      "provenance": [],
      "collapsed_sections": []
    },
    "kernelspec": {
      "name": "python3",
      "display_name": "Python 3"
    }
  },
  "cells": [
    {
      "cell_type": "markdown",
      "metadata": {
        "id": "GiL_bkC6QrYc",
        "colab_type": "text"
      },
      "source": [
        "<h1>Table of Contents<span class=\"tocSkip\"></span></h1>\n",
        "<div class=\"toc\"><ul class=\"toc-item\"><li><span><a href=\"#Data-Description\" data-toc-modified-id=\"Data-Description-1\"><span class=\"toc-item-num\">1&nbsp;&nbsp;</span>Data Description</a></span></li><li><span><a href=\"#Business-Problem\" data-toc-modified-id=\"Business-Problem-2\"><span class=\"toc-item-num\">2&nbsp;&nbsp;</span>Business Problem</a></span></li><li><span><a href=\"#Introduction-to-Pycaret\" data-toc-modified-id=\"Introduction-to-Pycaret-3\"><span class=\"toc-item-num\">3&nbsp;&nbsp;</span>Introduction to Pycaret</a></span></li><li><span><a href=\"#Imports\" data-toc-modified-id=\"Imports-4\"><span class=\"toc-item-num\">4&nbsp;&nbsp;</span>Imports</a></span></li><li><span><a href=\"#Useful-Functions\" data-toc-modified-id=\"Useful-Functions-5\"><span class=\"toc-item-num\">5&nbsp;&nbsp;</span>Useful Functions</a></span></li><li><span><a href=\"#Load-the-data\" data-toc-modified-id=\"Load-the-data-6\"><span class=\"toc-item-num\">6&nbsp;&nbsp;</span>Load the data</a></span></li><li><span><a href=\"#Train-test-split-with-stratify\" data-toc-modified-id=\"Train-test-split-with-stratify-7\"><span class=\"toc-item-num\">7&nbsp;&nbsp;</span>Train test split with stratify</a></span></li><li><span><a href=\"#Pycaret-Setup\" data-toc-modified-id=\"Pycaret-Setup-8\"><span class=\"toc-item-num\">8&nbsp;&nbsp;</span>Pycaret Setup</a></span></li><li><span><a href=\"#Comparing-All-Models\" data-toc-modified-id=\"Comparing-All-Models-9\"><span class=\"toc-item-num\">9&nbsp;&nbsp;</span>Comparing All Models</a></span></li><li><span><a href=\"#Create-Models\" data-toc-modified-id=\"Create-Models-10\"><span class=\"toc-item-num\">10&nbsp;&nbsp;</span>Create Models</a></span></li><li><span><a href=\"#Hyperparameter-Tuning\" data-toc-modified-id=\"Hyperparameter-Tuning-11\"><span class=\"toc-item-num\">11&nbsp;&nbsp;</span>Hyperparameter Tuning</a></span></li><li><span><a href=\"#Further-tuning\" data-toc-modified-id=\"Further-tuning-12\"><span class=\"toc-item-num\">12&nbsp;&nbsp;</span>Further tuning</a></span></li><li><span><a href=\"#Model-Evaluation\" data-toc-modified-id=\"Model-Evaluation-13\"><span class=\"toc-item-num\">13&nbsp;&nbsp;</span>Model Evaluation</a></span></li><li><span><a href=\"#Ensemble--Modelling\" data-toc-modified-id=\"Ensemble--Modelling-14\"><span class=\"toc-item-num\">14&nbsp;&nbsp;</span>Ensemble  Modelling</a></span><ul class=\"toc-item\"><li><span><a href=\"#Bagging\" data-toc-modified-id=\"Bagging-14.1\"><span class=\"toc-item-num\">14.1&nbsp;&nbsp;</span>Bagging</a></span></li><li><span><a href=\"#Boosting\" data-toc-modified-id=\"Boosting-14.2\"><span class=\"toc-item-num\">14.2&nbsp;&nbsp;</span>Boosting</a></span></li><li><span><a href=\"#Blending\" data-toc-modified-id=\"Blending-14.3\"><span class=\"toc-item-num\">14.3&nbsp;&nbsp;</span>Blending</a></span></li><li><span><a href=\"#Stacking\" data-toc-modified-id=\"Stacking-14.4\"><span class=\"toc-item-num\">14.4&nbsp;&nbsp;</span>Stacking</a></span></li></ul></li><li><span><a href=\"#Model-Calibration\" data-toc-modified-id=\"Model-Calibration-15\"><span class=\"toc-item-num\">15&nbsp;&nbsp;</span>Model Calibration</a></span></li><li><span><a href=\"#Model-Interpretation\" data-toc-modified-id=\"Model-Interpretation-16\"><span class=\"toc-item-num\">16&nbsp;&nbsp;</span>Model Interpretation</a></span></li><li><span><a href=\"#Model-Predictions\" data-toc-modified-id=\"Model-Predictions-17\"><span class=\"toc-item-num\">17&nbsp;&nbsp;</span>Model Predictions</a></span></li><li><span><a href=\"#Model-Persistence\" data-toc-modified-id=\"Model-Persistence-18\"><span class=\"toc-item-num\">18&nbsp;&nbsp;</span>Model Persistence</a></span></li><li><span><a href=\"#Time-taken\" data-toc-modified-id=\"Time-taken-19\"><span class=\"toc-item-num\">19&nbsp;&nbsp;</span>Time taken</a></span></li></ul></div>"
      ]
    },
    {
      "cell_type": "markdown",
      "metadata": {
        "id": "aF0vfOSoRKbV",
        "colab_type": "text"
      },
      "source": [
        "<div class=\"alert alert-block alert-success\">\n",
        "<b>Kernel Author:</b>  <br>\n",
        "<a href=\"https://bhishanpdl.github.io/\" , target=\"_blank\">Bhishan Poudel,  Data Scientist, Ph.D Astrophysics</a> .\n",
        "</div>"
      ]
    },
    {
      "cell_type": "markdown",
      "metadata": {
        "id": "ZrcXZt_lRUTH",
        "colab_type": "text"
      },
      "source": [
        "# Data Description\n",
        "\n",
        "> The datasets contains transactions made by credit cards in September\n",
        "2013 by european cardholders.\n",
        "\n",
        "\n",
        "> This dataset presents transactions that occurred in two days,\n",
        "where we have 492 frauds out of 284,807 transactions. \n",
        "\n",
        "> The dataset is highly unbalanced, the positive class (frauds)\n",
        "account for 0.172% of all transactions.\n",
        "\n",
        "> It contains only numerical input variables which are\n",
        "the result of a PCA transformation.\n",
        "\n",
        "\n",
        "> Unfortunately, due to confidentiality issues,\n",
        "we cannot provide the original features and \n",
        "more background information about the data.\n",
        "\n",
        "\n",
        "> Features V1, V2, ... V28 are the principal\n",
        "components obtained with PCA,\n",
        "the only features which have not been transformed with PCA are 'Time' and 'Amount'. \n",
        "\n",
        "> Feature 'Time' contains the seconds elapsed between each transaction\n",
        "and the first transaction in the dataset. The feature 'Amount'\n",
        "is the transaction Amount, this feature can be used for \n",
        "example-dependant cost-senstive learning. \n",
        "\n",
        "> Feature 'Class' is the response variable and it takes value\n",
        "1 in case of fraud and 0 otherwise."
      ]
    },
    {
      "cell_type": "markdown",
      "metadata": {
        "id": "Z46Gwfc3Rcwk",
        "colab_type": "text"
      },
      "source": [
        "# Business Problem\n",
        "\n",
        "<div class=\"alert alert-block alert-success\">\n",
        "<b>Business Problem:</b>  <br>\n",
        "Task &nbsp;&nbsp; : Detect the fraudulent activities. <br>\n",
        "Metric : Recall <br>\n",
        "Sampling: Synthetic Minority Over-Sampling Technique (SMOTE) <br>\n",
        "Question: How many frauds are correctly classified?\n",
        "</div>"
      ]
    },
    {
      "cell_type": "markdown",
      "metadata": {
        "id": "8vuUeq0iRjZn",
        "colab_type": "text"
      },
      "source": [
        "# Imports"
      ]
    },
    {
      "cell_type": "code",
      "metadata": {
        "id": "Zv0HTLcCRdfB",
        "colab_type": "code",
        "colab": {}
      },
      "source": [
        "import time\n",
        "\n",
        "time_start_notebook = time.time()"
      ],
      "execution_count": 0,
      "outputs": []
    },
    {
      "cell_type": "code",
      "metadata": {
        "id": "6fLyC776RmGc",
        "colab_type": "code",
        "outputId": "30e8ac1d-c173-4ecc-cb0c-55d8f3b4de4c",
        "colab": {
          "base_uri": "https://localhost:8080/",
          "height": 90
        }
      },
      "source": [
        "import numpy as np\n",
        "import pandas as pd\n",
        "import seaborn as sns\n",
        "import os\n",
        "from pathlib import Path\n",
        "\n",
        "from tqdm import tqdm_notebook as tqdm\n",
        "import matplotlib.pyplot as plt\n",
        "\n",
        "%matplotlib inline\n",
        "%config InlineBackend.figure_format = 'retina'\n",
        "plt.style.use('ggplot') \n",
        "\n",
        "# random state\n",
        "SEED=100\n",
        "\n",
        "home = os.path.expanduser('~')\n",
        "\n",
        "[(x.__name__,x.__version__) for x in [np,pd,sns]]"
      ],
      "execution_count": 2,
      "outputs": [
        {
          "output_type": "stream",
          "text": [
            "/usr/local/lib/python3.6/dist-packages/statsmodels/tools/_testing.py:19: FutureWarning: pandas.util.testing is deprecated. Use the functions in the public API at pandas.testing instead.\n",
            "  import pandas.util.testing as tm\n"
          ],
          "name": "stderr"
        },
        {
          "output_type": "execute_result",
          "data": {
            "text/plain": [
              "[('numpy', '1.18.4'), ('pandas', '1.0.4'), ('seaborn', '0.10.1')]"
            ]
          },
          "metadata": {
            "tags": []
          },
          "execution_count": 2
        }
      ]
    },
    {
      "cell_type": "code",
      "metadata": {
        "id": "scVctCs7HnQo",
        "colab_type": "code",
        "colab": {}
      },
      "source": [
        "# Models\n",
        "from sklearn.discriminant_analysis import LinearDiscriminantAnalysis\n"
      ],
      "execution_count": 0,
      "outputs": []
    },
    {
      "cell_type": "code",
      "metadata": {
        "id": "c4omENGYRoW5",
        "colab_type": "code",
        "outputId": "4f1e0cd4-08fe-406f-d5c0-a5d25b3ce2a4",
        "colab": {
          "base_uri": "https://localhost:8080/",
          "height": 374
        }
      },
      "source": [
        "import sys\n",
        "ENV_COLAB = 'google.colab' in sys.modules\n",
        "\n",
        "if ENV_COLAB:\n",
        "    !pip install catboost\n",
        "    print('Environment: Google Colab')"
      ],
      "execution_count": 10,
      "outputs": [
        {
          "output_type": "stream",
          "text": [
            "Collecting catboost\n",
            "\u001b[?25l  Downloading https://files.pythonhosted.org/packages/b2/aa/e61819d04ef2bbee778bf4b3a748db1f3ad23512377e43ecfdc3211437a0/catboost-0.23.2-cp36-none-manylinux1_x86_64.whl (64.8MB)\n",
            "\u001b[K     |████████████████████████████████| 64.8MB 68kB/s \n",
            "\u001b[?25hRequirement already satisfied: pandas>=0.24.0 in /usr/local/lib/python3.6/dist-packages (from catboost) (1.0.4)\n",
            "Requirement already satisfied: plotly in /usr/local/lib/python3.6/dist-packages (from catboost) (4.4.1)\n",
            "Requirement already satisfied: scipy in /usr/local/lib/python3.6/dist-packages (from catboost) (1.4.1)\n",
            "Requirement already satisfied: matplotlib in /usr/local/lib/python3.6/dist-packages (from catboost) (3.2.1)\n",
            "Requirement already satisfied: graphviz in /usr/local/lib/python3.6/dist-packages (from catboost) (0.10.1)\n",
            "Requirement already satisfied: numpy>=1.16.0 in /usr/local/lib/python3.6/dist-packages (from catboost) (1.18.4)\n",
            "Requirement already satisfied: six in /usr/local/lib/python3.6/dist-packages (from catboost) (1.12.0)\n",
            "Requirement already satisfied: python-dateutil>=2.6.1 in /usr/local/lib/python3.6/dist-packages (from pandas>=0.24.0->catboost) (2.8.1)\n",
            "Requirement already satisfied: pytz>=2017.2 in /usr/local/lib/python3.6/dist-packages (from pandas>=0.24.0->catboost) (2018.9)\n",
            "Requirement already satisfied: retrying>=1.3.3 in /usr/local/lib/python3.6/dist-packages (from plotly->catboost) (1.3.3)\n",
            "Requirement already satisfied: pyparsing!=2.0.4,!=2.1.2,!=2.1.6,>=2.0.1 in /usr/local/lib/python3.6/dist-packages (from matplotlib->catboost) (2.4.7)\n",
            "Requirement already satisfied: kiwisolver>=1.0.1 in /usr/local/lib/python3.6/dist-packages (from matplotlib->catboost) (1.2.0)\n",
            "Requirement already satisfied: cycler>=0.10 in /usr/local/lib/python3.6/dist-packages (from matplotlib->catboost) (0.10.0)\n",
            "Installing collected packages: catboost\n",
            "Successfully installed catboost-0.23.2\n",
            "Environment: Google Colab\n"
          ],
          "name": "stdout"
        }
      ]
    },
    {
      "cell_type": "markdown",
      "metadata": {
        "id": "b2I2KshNSGUi",
        "colab_type": "text"
      },
      "source": [
        "# Load the data"
      ]
    },
    {
      "cell_type": "code",
      "metadata": {
        "id": "KjmdL7RRSD1r",
        "colab_type": "code",
        "outputId": "f0b67b7d-9ce4-49de-dd20-49dc06bf2ac3",
        "colab": {
          "base_uri": "https://localhost:8080/",
          "height": 235
        }
      },
      "source": [
        "ifile = 'https://github.com/bhishanpdl/Datasets/blob/master/fraud_detection/creditcard.csv.zip?raw=true'\n",
        "df = pd.read_csv(ifile,compression='zip')\n",
        "print(df.shape)\n",
        "df.head()"
      ],
      "execution_count": 4,
      "outputs": [
        {
          "output_type": "stream",
          "text": [
            "(284807, 31)\n"
          ],
          "name": "stdout"
        },
        {
          "output_type": "execute_result",
          "data": {
            "text/html": [
              "<div>\n",
              "<style scoped>\n",
              "    .dataframe tbody tr th:only-of-type {\n",
              "        vertical-align: middle;\n",
              "    }\n",
              "\n",
              "    .dataframe tbody tr th {\n",
              "        vertical-align: top;\n",
              "    }\n",
              "\n",
              "    .dataframe thead th {\n",
              "        text-align: right;\n",
              "    }\n",
              "</style>\n",
              "<table border=\"1\" class=\"dataframe\">\n",
              "  <thead>\n",
              "    <tr style=\"text-align: right;\">\n",
              "      <th></th>\n",
              "      <th>Time</th>\n",
              "      <th>V1</th>\n",
              "      <th>V2</th>\n",
              "      <th>V3</th>\n",
              "      <th>V4</th>\n",
              "      <th>V5</th>\n",
              "      <th>V6</th>\n",
              "      <th>V7</th>\n",
              "      <th>V8</th>\n",
              "      <th>V9</th>\n",
              "      <th>V10</th>\n",
              "      <th>V11</th>\n",
              "      <th>V12</th>\n",
              "      <th>V13</th>\n",
              "      <th>V14</th>\n",
              "      <th>V15</th>\n",
              "      <th>V16</th>\n",
              "      <th>V17</th>\n",
              "      <th>V18</th>\n",
              "      <th>V19</th>\n",
              "      <th>V20</th>\n",
              "      <th>V21</th>\n",
              "      <th>V22</th>\n",
              "      <th>V23</th>\n",
              "      <th>V24</th>\n",
              "      <th>V25</th>\n",
              "      <th>V26</th>\n",
              "      <th>V27</th>\n",
              "      <th>V28</th>\n",
              "      <th>Amount</th>\n",
              "      <th>Class</th>\n",
              "    </tr>\n",
              "  </thead>\n",
              "  <tbody>\n",
              "    <tr>\n",
              "      <th>0</th>\n",
              "      <td>0.0</td>\n",
              "      <td>-1.359807</td>\n",
              "      <td>-0.072781</td>\n",
              "      <td>2.536347</td>\n",
              "      <td>1.378155</td>\n",
              "      <td>-0.338321</td>\n",
              "      <td>0.462388</td>\n",
              "      <td>0.239599</td>\n",
              "      <td>0.098698</td>\n",
              "      <td>0.363787</td>\n",
              "      <td>0.090794</td>\n",
              "      <td>-0.551600</td>\n",
              "      <td>-0.617801</td>\n",
              "      <td>-0.991390</td>\n",
              "      <td>-0.311169</td>\n",
              "      <td>1.468177</td>\n",
              "      <td>-0.470401</td>\n",
              "      <td>0.207971</td>\n",
              "      <td>0.025791</td>\n",
              "      <td>0.403993</td>\n",
              "      <td>0.251412</td>\n",
              "      <td>-0.018307</td>\n",
              "      <td>0.277838</td>\n",
              "      <td>-0.110474</td>\n",
              "      <td>0.066928</td>\n",
              "      <td>0.128539</td>\n",
              "      <td>-0.189115</td>\n",
              "      <td>0.133558</td>\n",
              "      <td>-0.021053</td>\n",
              "      <td>149.62</td>\n",
              "      <td>0</td>\n",
              "    </tr>\n",
              "    <tr>\n",
              "      <th>1</th>\n",
              "      <td>0.0</td>\n",
              "      <td>1.191857</td>\n",
              "      <td>0.266151</td>\n",
              "      <td>0.166480</td>\n",
              "      <td>0.448154</td>\n",
              "      <td>0.060018</td>\n",
              "      <td>-0.082361</td>\n",
              "      <td>-0.078803</td>\n",
              "      <td>0.085102</td>\n",
              "      <td>-0.255425</td>\n",
              "      <td>-0.166974</td>\n",
              "      <td>1.612727</td>\n",
              "      <td>1.065235</td>\n",
              "      <td>0.489095</td>\n",
              "      <td>-0.143772</td>\n",
              "      <td>0.635558</td>\n",
              "      <td>0.463917</td>\n",
              "      <td>-0.114805</td>\n",
              "      <td>-0.183361</td>\n",
              "      <td>-0.145783</td>\n",
              "      <td>-0.069083</td>\n",
              "      <td>-0.225775</td>\n",
              "      <td>-0.638672</td>\n",
              "      <td>0.101288</td>\n",
              "      <td>-0.339846</td>\n",
              "      <td>0.167170</td>\n",
              "      <td>0.125895</td>\n",
              "      <td>-0.008983</td>\n",
              "      <td>0.014724</td>\n",
              "      <td>2.69</td>\n",
              "      <td>0</td>\n",
              "    </tr>\n",
              "    <tr>\n",
              "      <th>2</th>\n",
              "      <td>1.0</td>\n",
              "      <td>-1.358354</td>\n",
              "      <td>-1.340163</td>\n",
              "      <td>1.773209</td>\n",
              "      <td>0.379780</td>\n",
              "      <td>-0.503198</td>\n",
              "      <td>1.800499</td>\n",
              "      <td>0.791461</td>\n",
              "      <td>0.247676</td>\n",
              "      <td>-1.514654</td>\n",
              "      <td>0.207643</td>\n",
              "      <td>0.624501</td>\n",
              "      <td>0.066084</td>\n",
              "      <td>0.717293</td>\n",
              "      <td>-0.165946</td>\n",
              "      <td>2.345865</td>\n",
              "      <td>-2.890083</td>\n",
              "      <td>1.109969</td>\n",
              "      <td>-0.121359</td>\n",
              "      <td>-2.261857</td>\n",
              "      <td>0.524980</td>\n",
              "      <td>0.247998</td>\n",
              "      <td>0.771679</td>\n",
              "      <td>0.909412</td>\n",
              "      <td>-0.689281</td>\n",
              "      <td>-0.327642</td>\n",
              "      <td>-0.139097</td>\n",
              "      <td>-0.055353</td>\n",
              "      <td>-0.059752</td>\n",
              "      <td>378.66</td>\n",
              "      <td>0</td>\n",
              "    </tr>\n",
              "    <tr>\n",
              "      <th>3</th>\n",
              "      <td>1.0</td>\n",
              "      <td>-0.966272</td>\n",
              "      <td>-0.185226</td>\n",
              "      <td>1.792993</td>\n",
              "      <td>-0.863291</td>\n",
              "      <td>-0.010309</td>\n",
              "      <td>1.247203</td>\n",
              "      <td>0.237609</td>\n",
              "      <td>0.377436</td>\n",
              "      <td>-1.387024</td>\n",
              "      <td>-0.054952</td>\n",
              "      <td>-0.226487</td>\n",
              "      <td>0.178228</td>\n",
              "      <td>0.507757</td>\n",
              "      <td>-0.287924</td>\n",
              "      <td>-0.631418</td>\n",
              "      <td>-1.059647</td>\n",
              "      <td>-0.684093</td>\n",
              "      <td>1.965775</td>\n",
              "      <td>-1.232622</td>\n",
              "      <td>-0.208038</td>\n",
              "      <td>-0.108300</td>\n",
              "      <td>0.005274</td>\n",
              "      <td>-0.190321</td>\n",
              "      <td>-1.175575</td>\n",
              "      <td>0.647376</td>\n",
              "      <td>-0.221929</td>\n",
              "      <td>0.062723</td>\n",
              "      <td>0.061458</td>\n",
              "      <td>123.50</td>\n",
              "      <td>0</td>\n",
              "    </tr>\n",
              "    <tr>\n",
              "      <th>4</th>\n",
              "      <td>2.0</td>\n",
              "      <td>-1.158233</td>\n",
              "      <td>0.877737</td>\n",
              "      <td>1.548718</td>\n",
              "      <td>0.403034</td>\n",
              "      <td>-0.407193</td>\n",
              "      <td>0.095921</td>\n",
              "      <td>0.592941</td>\n",
              "      <td>-0.270533</td>\n",
              "      <td>0.817739</td>\n",
              "      <td>0.753074</td>\n",
              "      <td>-0.822843</td>\n",
              "      <td>0.538196</td>\n",
              "      <td>1.345852</td>\n",
              "      <td>-1.119670</td>\n",
              "      <td>0.175121</td>\n",
              "      <td>-0.451449</td>\n",
              "      <td>-0.237033</td>\n",
              "      <td>-0.038195</td>\n",
              "      <td>0.803487</td>\n",
              "      <td>0.408542</td>\n",
              "      <td>-0.009431</td>\n",
              "      <td>0.798278</td>\n",
              "      <td>-0.137458</td>\n",
              "      <td>0.141267</td>\n",
              "      <td>-0.206010</td>\n",
              "      <td>0.502292</td>\n",
              "      <td>0.219422</td>\n",
              "      <td>0.215153</td>\n",
              "      <td>69.99</td>\n",
              "      <td>0</td>\n",
              "    </tr>\n",
              "  </tbody>\n",
              "</table>\n",
              "</div>"
            ],
            "text/plain": [
              "   Time        V1        V2        V3  ...       V27       V28  Amount  Class\n",
              "0   0.0 -1.359807 -0.072781  2.536347  ...  0.133558 -0.021053  149.62      0\n",
              "1   0.0  1.191857  0.266151  0.166480  ... -0.008983  0.014724    2.69      0\n",
              "2   1.0 -1.358354 -1.340163  1.773209  ... -0.055353 -0.059752  378.66      0\n",
              "3   1.0 -0.966272 -0.185226  1.792993  ...  0.062723  0.061458  123.50      0\n",
              "4   2.0 -1.158233  0.877737  1.548718  ...  0.219422  0.215153   69.99      0\n",
              "\n",
              "[5 rows x 31 columns]"
            ]
          },
          "metadata": {
            "tags": []
          },
          "execution_count": 4
        }
      ]
    },
    {
      "cell_type": "code",
      "metadata": {
        "id": "-41_1myzOmfV",
        "colab_type": "code",
        "colab": {
          "base_uri": "https://localhost:8080/",
          "height": 70
        },
        "outputId": "fcea84e0-5266-416a-a4a9-7b2280ca4aaf"
      },
      "source": [
        "target = 'Class'\n",
        "features = df.columns.drop(target)\n",
        "df[target].value_counts(normalize=True)*100"
      ],
      "execution_count": 5,
      "outputs": [
        {
          "output_type": "execute_result",
          "data": {
            "text/plain": [
              "0    99.827251\n",
              "1     0.172749\n",
              "Name: Class, dtype: float64"
            ]
          },
          "metadata": {
            "tags": []
          },
          "execution_count": 5
        }
      ]
    },
    {
      "cell_type": "code",
      "metadata": {
        "id": "6w5eQBpkOqw6",
        "colab_type": "code",
        "colab": {
          "base_uri": "https://localhost:8080/",
          "height": 298
        },
        "outputId": "a522d8ab-9719-44b6-d3af-e9cd459551d2"
      },
      "source": [
        "sns.countplot(df[target])"
      ],
      "execution_count": 6,
      "outputs": [
        {
          "output_type": "execute_result",
          "data": {
            "text/plain": [
              "<matplotlib.axes._subplots.AxesSubplot at 0x7fe5c3799c50>"
            ]
          },
          "metadata": {
            "tags": []
          },
          "execution_count": 6
        },
        {
          "output_type": "display_data",
          "data": {
            "image/png": "[encoded data removed]",
            "text/plain": [
              "<Figure size 432x288 with 1 Axes>"
            ]
          },
          "metadata": {
            "tags": [],
            "image/png": {
              "width": 410,
              "height": 264
            }
          }
        }
      ]
    },
    {
      "cell_type": "markdown",
      "metadata": {
        "id": "1NRtTZS8M3sJ",
        "colab_type": "text"
      },
      "source": [
        "# Data Processing"
      ]
    },
    {
      "cell_type": "markdown",
      "metadata": {
        "id": "g9XYITLUSWpA",
        "colab_type": "text"
      },
      "source": [
        "# Train test split"
      ]
    },
    {
      "cell_type": "code",
      "metadata": {
        "id": "odBF6q99STp2",
        "colab_type": "code",
        "outputId": "52dc9ee7-d23e-4176-ad55-cc6406c17371",
        "colab": {
          "base_uri": "https://localhost:8080/",
          "height": 235
        }
      },
      "source": [
        "from sklearn.model_selection import train_test_split\n",
        "\n",
        "df_Xtrain_orig, df_Xtest, ser_ytrain_orig, ser_ytest = train_test_split(\n",
        "    df.drop(target,axis=1), \n",
        "    df[target],\n",
        "    test_size=0.2, \n",
        "    random_state=SEED, \n",
        "    stratify=df[target])\n",
        "\n",
        "ytrain_orig = ser_ytrain_orig.to_numpy().ravel()\n",
        "ytest = ser_ytest.to_numpy().ravel()\n",
        "\n",
        "print(df_Xtrain_orig.shape)\n",
        "df_Xtrain_orig.head()"
      ],
      "execution_count": 7,
      "outputs": [
        {
          "output_type": "stream",
          "text": [
            "(227845, 30)\n"
          ],
          "name": "stdout"
        },
        {
          "output_type": "execute_result",
          "data": {
            "text/html": [
              "<div>\n",
              "<style scoped>\n",
              "    .dataframe tbody tr th:only-of-type {\n",
              "        vertical-align: middle;\n",
              "    }\n",
              "\n",
              "    .dataframe tbody tr th {\n",
              "        vertical-align: top;\n",
              "    }\n",
              "\n",
              "    .dataframe thead th {\n",
              "        text-align: right;\n",
              "    }\n",
              "</style>\n",
              "<table border=\"1\" class=\"dataframe\">\n",
              "  <thead>\n",
              "    <tr style=\"text-align: right;\">\n",
              "      <th></th>\n",
              "      <th>Time</th>\n",
              "      <th>V1</th>\n",
              "      <th>V2</th>\n",
              "      <th>V3</th>\n",
              "      <th>V4</th>\n",
              "      <th>V5</th>\n",
              "      <th>V6</th>\n",
              "      <th>V7</th>\n",
              "      <th>V8</th>\n",
              "      <th>V9</th>\n",
              "      <th>V10</th>\n",
              "      <th>V11</th>\n",
              "      <th>V12</th>\n",
              "      <th>V13</th>\n",
              "      <th>V14</th>\n",
              "      <th>V15</th>\n",
              "      <th>V16</th>\n",
              "      <th>V17</th>\n",
              "      <th>V18</th>\n",
              "      <th>V19</th>\n",
              "      <th>V20</th>\n",
              "      <th>V21</th>\n",
              "      <th>V22</th>\n",
              "      <th>V23</th>\n",
              "      <th>V24</th>\n",
              "      <th>V25</th>\n",
              "      <th>V26</th>\n",
              "      <th>V27</th>\n",
              "      <th>V28</th>\n",
              "      <th>Amount</th>\n",
              "    </tr>\n",
              "  </thead>\n",
              "  <tbody>\n",
              "    <tr>\n",
              "      <th>211885</th>\n",
              "      <td>138616.0</td>\n",
              "      <td>-1.137612</td>\n",
              "      <td>2.345154</td>\n",
              "      <td>-1.767247</td>\n",
              "      <td>0.833982</td>\n",
              "      <td>0.973168</td>\n",
              "      <td>-0.073571</td>\n",
              "      <td>0.802433</td>\n",
              "      <td>0.733137</td>\n",
              "      <td>-1.154087</td>\n",
              "      <td>-0.520340</td>\n",
              "      <td>0.494117</td>\n",
              "      <td>0.799935</td>\n",
              "      <td>0.494576</td>\n",
              "      <td>-0.479666</td>\n",
              "      <td>-0.917177</td>\n",
              "      <td>-0.184117</td>\n",
              "      <td>1.189459</td>\n",
              "      <td>0.937244</td>\n",
              "      <td>0.960749</td>\n",
              "      <td>0.062820</td>\n",
              "      <td>0.114953</td>\n",
              "      <td>0.430613</td>\n",
              "      <td>-0.240819</td>\n",
              "      <td>0.124011</td>\n",
              "      <td>0.187187</td>\n",
              "      <td>-0.402251</td>\n",
              "      <td>0.196277</td>\n",
              "      <td>0.190732</td>\n",
              "      <td>39.46</td>\n",
              "    </tr>\n",
              "    <tr>\n",
              "      <th>12542</th>\n",
              "      <td>21953.0</td>\n",
              "      <td>-1.028649</td>\n",
              "      <td>1.141569</td>\n",
              "      <td>2.492561</td>\n",
              "      <td>-0.242233</td>\n",
              "      <td>0.452842</td>\n",
              "      <td>-0.384273</td>\n",
              "      <td>1.256026</td>\n",
              "      <td>-0.816401</td>\n",
              "      <td>1.964560</td>\n",
              "      <td>-0.014216</td>\n",
              "      <td>0.432153</td>\n",
              "      <td>-2.140921</td>\n",
              "      <td>2.274477</td>\n",
              "      <td>0.114128</td>\n",
              "      <td>-1.652894</td>\n",
              "      <td>-0.617302</td>\n",
              "      <td>0.243791</td>\n",
              "      <td>-0.426168</td>\n",
              "      <td>-0.493177</td>\n",
              "      <td>0.350032</td>\n",
              "      <td>-0.380356</td>\n",
              "      <td>-0.037432</td>\n",
              "      <td>-0.503934</td>\n",
              "      <td>0.407129</td>\n",
              "      <td>0.604252</td>\n",
              "      <td>0.233015</td>\n",
              "      <td>-0.433132</td>\n",
              "      <td>-0.491892</td>\n",
              "      <td>7.19</td>\n",
              "    </tr>\n",
              "    <tr>\n",
              "      <th>270932</th>\n",
              "      <td>164333.0</td>\n",
              "      <td>-1.121864</td>\n",
              "      <td>-0.195099</td>\n",
              "      <td>1.282634</td>\n",
              "      <td>-3.172847</td>\n",
              "      <td>-0.761969</td>\n",
              "      <td>-0.287013</td>\n",
              "      <td>-0.586367</td>\n",
              "      <td>0.496182</td>\n",
              "      <td>-2.352349</td>\n",
              "      <td>0.350551</td>\n",
              "      <td>-1.319688</td>\n",
              "      <td>-0.942001</td>\n",
              "      <td>1.082210</td>\n",
              "      <td>-0.425735</td>\n",
              "      <td>0.036748</td>\n",
              "      <td>0.380392</td>\n",
              "      <td>-0.033353</td>\n",
              "      <td>0.204609</td>\n",
              "      <td>-0.801465</td>\n",
              "      <td>-0.113632</td>\n",
              "      <td>-0.328953</td>\n",
              "      <td>-0.856937</td>\n",
              "      <td>-0.056198</td>\n",
              "      <td>0.401905</td>\n",
              "      <td>0.406813</td>\n",
              "      <td>-0.440140</td>\n",
              "      <td>0.152356</td>\n",
              "      <td>0.030128</td>\n",
              "      <td>40.00</td>\n",
              "    </tr>\n",
              "    <tr>\n",
              "      <th>30330</th>\n",
              "      <td>35874.0</td>\n",
              "      <td>1.094238</td>\n",
              "      <td>-0.760568</td>\n",
              "      <td>-0.392822</td>\n",
              "      <td>-0.611720</td>\n",
              "      <td>-0.722850</td>\n",
              "      <td>-0.851978</td>\n",
              "      <td>-0.185505</td>\n",
              "      <td>-0.095131</td>\n",
              "      <td>-1.122304</td>\n",
              "      <td>0.367009</td>\n",
              "      <td>1.378493</td>\n",
              "      <td>-0.724216</td>\n",
              "      <td>-1.105406</td>\n",
              "      <td>-0.480170</td>\n",
              "      <td>0.220826</td>\n",
              "      <td>1.745743</td>\n",
              "      <td>0.740817</td>\n",
              "      <td>-0.728827</td>\n",
              "      <td>1.016740</td>\n",
              "      <td>0.354148</td>\n",
              "      <td>-0.227392</td>\n",
              "      <td>-1.254285</td>\n",
              "      <td>0.022116</td>\n",
              "      <td>-0.141531</td>\n",
              "      <td>0.114515</td>\n",
              "      <td>-0.652427</td>\n",
              "      <td>-0.037897</td>\n",
              "      <td>0.051254</td>\n",
              "      <td>165.85</td>\n",
              "    </tr>\n",
              "    <tr>\n",
              "      <th>272477</th>\n",
              "      <td>165107.0</td>\n",
              "      <td>2.278095</td>\n",
              "      <td>-1.298924</td>\n",
              "      <td>-1.884035</td>\n",
              "      <td>-1.530435</td>\n",
              "      <td>-0.649500</td>\n",
              "      <td>-0.996024</td>\n",
              "      <td>-0.466776</td>\n",
              "      <td>-0.438025</td>\n",
              "      <td>-1.612665</td>\n",
              "      <td>1.631133</td>\n",
              "      <td>-1.126000</td>\n",
              "      <td>-0.938760</td>\n",
              "      <td>0.300621</td>\n",
              "      <td>-0.119667</td>\n",
              "      <td>-0.585453</td>\n",
              "      <td>-1.106244</td>\n",
              "      <td>0.690235</td>\n",
              "      <td>-0.124401</td>\n",
              "      <td>-0.075649</td>\n",
              "      <td>-0.341708</td>\n",
              "      <td>0.123892</td>\n",
              "      <td>0.815909</td>\n",
              "      <td>-0.072537</td>\n",
              "      <td>0.784217</td>\n",
              "      <td>0.403428</td>\n",
              "      <td>0.193747</td>\n",
              "      <td>-0.043185</td>\n",
              "      <td>-0.058719</td>\n",
              "      <td>60.00</td>\n",
              "    </tr>\n",
              "  </tbody>\n",
              "</table>\n",
              "</div>"
            ],
            "text/plain": [
              "            Time        V1        V2  ...       V27       V28  Amount\n",
              "211885  138616.0 -1.137612  2.345154  ...  0.196277  0.190732   39.46\n",
              "12542    21953.0 -1.028649  1.141569  ... -0.433132 -0.491892    7.19\n",
              "270932  164333.0 -1.121864 -0.195099  ...  0.152356  0.030128   40.00\n",
              "30330    35874.0  1.094238 -0.760568  ... -0.037897  0.051254  165.85\n",
              "272477  165107.0  2.278095 -1.298924  ... -0.043185 -0.058719   60.00\n",
              "\n",
              "[5 rows x 30 columns]"
            ]
          },
          "metadata": {
            "tags": []
          },
          "execution_count": 7
        }
      ]
    },
    {
      "cell_type": "markdown",
      "metadata": {
        "id": "V3yzn9G7O60C",
        "colab_type": "text"
      },
      "source": [
        "# Train Validation with stratify"
      ]
    },
    {
      "cell_type": "code",
      "metadata": {
        "id": "iYmdSn4BO-m5",
        "colab_type": "code",
        "colab": {
          "base_uri": "https://localhost:8080/",
          "height": 34
        },
        "outputId": "83dd43dc-c214-4da1-cd99-50068ab84c73"
      },
      "source": [
        "df_Xtrain, df_Xvalid, ser_ytrain, ser_yvalid = train_test_split(\n",
        "    df_Xtrain_orig, \n",
        "    ser_ytrain_orig,\n",
        "    test_size=0.2, \n",
        "    random_state=SEED, \n",
        "    stratify=ser_ytrain_orig)\n",
        "\n",
        "\n",
        "ytrain = ser_ytrain.to_numpy().ravel()\n",
        "yvalid = ser_yvalid.to_numpy().ravel()\n",
        "\n",
        "print(df_Xtrain.shape)"
      ],
      "execution_count": 8,
      "outputs": [
        {
          "output_type": "stream",
          "text": [
            "(182276, 30)\n"
          ],
          "name": "stdout"
        }
      ]
    },
    {
      "cell_type": "markdown",
      "metadata": {
        "id": "vkC5n6muJSeS",
        "colab_type": "text"
      },
      "source": [
        "# Modelling"
      ]
    },
    {
      "cell_type": "markdown",
      "metadata": {
        "id": "C7zZFCfgXSeE",
        "colab_type": "text"
      },
      "source": [
        "## Setup Models"
      ]
    },
    {
      "cell_type": "code",
      "metadata": {
        "id": "36x5YEUiWyp8",
        "colab_type": "code",
        "colab": {}
      },
      "source": [
        "from sklearn.discriminant_analysis import LinearDiscriminantAnalysis\n",
        "\n",
        "lda = LinearDiscriminantAnalysis(n_components=None,\n",
        "                           priors=None,\n",
        "                           shrinkage=None,\n",
        "                           solver='svd',\n",
        "                           store_covariance=False,\n",
        "                           tol=0.0001)"
      ],
      "execution_count": 0,
      "outputs": []
    },
    {
      "cell_type": "code",
      "metadata": {
        "id": "HfTZ7_ecSvtx",
        "colab_type": "code",
        "colab": {}
      },
      "source": [
        "from xgboost import XGBClassifier\n",
        "from lightgbm import LGBMClassifier\n",
        "from catboost import CatBoostClassifier\n",
        "\n",
        "\n",
        "xgboost = XGBClassifier(base_score=0.5, booster='gbtree', boosting_type='gbdt',\n",
        "              colsample_by_tree=0.8040279979830232, colsample_bylevel=1,\n",
        "              colsample_bytree=1, gamma=0, learning_rate=0.6183443388044544,\n",
        "              max_delta_step=0, max_depth=7, min_child_weight=3.0, missing=None,\n",
        "              n_estimators=150, n_jobs=-1, nthread=None, num_leaves=37,\n",
        "              objective='binary:logistic', random_state=100, reg_alpha=0,\n",
        "              reg_lambda=1, scale_pos_weight=1, seed=None, silent=True,\n",
        "              subsample=0.8254724276776704)\n",
        "\n",
        "lightgbm_params = {'bagging_fraction': 0.5847570898839785,\n",
        " 'bagging_freq': 3,\n",
        " 'feature_fraction': 0.7941666171144979,\n",
        " 'lambda_l1': 1.3871523892529368e-07,\n",
        " 'lambda_l2': 0.44361819101899735,\n",
        " 'min_child_samples': 55,\n",
        " 'min_child_weight': 5.899155081455939,\n",
        " 'num_leaves': 156,\n",
        " 'subsample': 0.7122064897274488}\n",
        "lightgbm = LGBMClassifier(random_state=SEED, **lightgbm_params)\n",
        "\n",
        "catboost = CatBoostClassifier(verbose=False,random_state=100,\n",
        "                            depth=6,\n",
        "                            iterations=1_000,\n",
        "                            )\n",
        "\n"
      ],
      "execution_count": 0,
      "outputs": []
    },
    {
      "cell_type": "code",
      "metadata": {
        "id": "wImdN4I1Xopk",
        "colab_type": "code",
        "colab": {}
      },
      "source": [
        "# Stack up all the models\n",
        "from mlxtend.classifier import StackingCVClassifier\n",
        "\n",
        "stack = StackingCVClassifier(classifiers=(lda,xgboost, lightgbm, catboost),\n",
        "                                meta_classifier=xgboost,\n",
        "                                use_features_in_secondary=True)"
      ],
      "execution_count": 0,
      "outputs": []
    },
    {
      "cell_type": "markdown",
      "metadata": {
        "id": "8RuLXvkNbxtO",
        "colab_type": "text"
      },
      "source": [
        "# Fit the models"
      ]
    },
    {
      "cell_type": "code",
      "metadata": {
        "id": "F6r0ZKyBa1WS",
        "colab_type": "code",
        "colab": {
          "base_uri": "https://localhost:8080/",
          "height": 87
        },
        "outputId": "1b69bfbe-1f4e-4e94-ebf0-1ad1bca6a8e2"
      },
      "source": [
        "%%time\n",
        "lda.fit(np.array(df_Xtrain),np.array(ser_ytrain));"
      ],
      "execution_count": 36,
      "outputs": [
        {
          "output_type": "stream",
          "text": [
            "CPU times: user 1.1 s, sys: 48.9 ms, total: 1.15 s\n",
            "Wall time: 931 ms\n"
          ],
          "name": "stdout"
        },
        {
          "output_type": "execute_result",
          "data": {
            "text/plain": [
              "LinearDiscriminantAnalysis(n_components=None, priors=None, shrinkage=None,\n",
              "                           solver='svd', store_covariance=False, tol=0.0001)"
            ]
          },
          "metadata": {
            "tags": []
          },
          "execution_count": 36
        }
      ]
    },
    {
      "cell_type": "code",
      "metadata": {
        "id": "spAnU2Naa1eI",
        "colab_type": "code",
        "colab": {
          "base_uri": "https://localhost:8080/",
          "height": 212
        },
        "outputId": "7dc879aa-879d-4ef4-8fae-465aa117ca82"
      },
      "source": [
        "%%time\n",
        "xgboost.fit(np.array(df_Xtrain),np.array(ser_ytrain));"
      ],
      "execution_count": 37,
      "outputs": [
        {
          "output_type": "stream",
          "text": [
            "CPU times: user 1min 36s, sys: 52.6 ms, total: 1min 36s\n",
            "Wall time: 49.1 s\n"
          ],
          "name": "stdout"
        },
        {
          "output_type": "execute_result",
          "data": {
            "text/plain": [
              "XGBClassifier(base_score=0.5, booster='gbtree', boosting_type='gbdt',\n",
              "              colsample_by_tree=0.8040279979830232, colsample_bylevel=1,\n",
              "              colsample_bynode=1, colsample_bytree=1, gamma=0,\n",
              "              learning_rate=0.6183443388044544, max_delta_step=0, max_depth=7,\n",
              "              min_child_weight=3.0, missing=None, n_estimators=150, n_jobs=-1,\n",
              "              nthread=None, num_leaves=37, objective='binary:logistic',\n",
              "              random_state=100, reg_alpha=0, reg_lambda=1, scale_pos_weight=1,\n",
              "              seed=None, silent=True, subsample=0.8254724276776704,\n",
              "              verbosity=1)"
            ]
          },
          "metadata": {
            "tags": []
          },
          "execution_count": 37
        }
      ]
    },
    {
      "cell_type": "code",
      "metadata": {
        "id": "xxCHN6A-a1mx",
        "colab_type": "code",
        "colab": {
          "base_uri": "https://localhost:8080/",
          "height": 230
        },
        "outputId": "d20a0e63-a297-45ae-8419-aac5f47b2ca5"
      },
      "source": [
        "%%time\n",
        "lightgbm.fit(np.array(df_Xtrain),np.array(ser_ytrain));"
      ],
      "execution_count": 38,
      "outputs": [
        {
          "output_type": "stream",
          "text": [
            "CPU times: user 5.42 s, sys: 23.4 ms, total: 5.45 s\n",
            "Wall time: 2.85 s\n"
          ],
          "name": "stdout"
        },
        {
          "output_type": "execute_result",
          "data": {
            "text/plain": [
              "LGBMClassifier(bagging_fraction=0.5847570898839785, bagging_freq=3,\n",
              "               boosting_type='gbdt', class_weight=None, colsample_bytree=1.0,\n",
              "               feature_fraction=0.7941666171144979, importance_type='split',\n",
              "               lambda_l1=1.3871523892529368e-07, lambda_l2=0.44361819101899735,\n",
              "               learning_rate=0.1, max_depth=-1, min_child_samples=55,\n",
              "               min_child_weight=5.899155081455939, min_split_gain=0.0,\n",
              "               n_estimators=100, n_jobs=-1, num_leaves=156, objective=None,\n",
              "               random_state=100, reg_alpha=0.0, reg_lambda=0.0, silent=True,\n",
              "               subsample=0.7122064897274488, subsample_for_bin=200000,\n",
              "               subsample_freq=0)"
            ]
          },
          "metadata": {
            "tags": []
          },
          "execution_count": 38
        }
      ]
    },
    {
      "cell_type": "code",
      "metadata": {
        "id": "zBOFF1rBa-kp",
        "colab_type": "code",
        "colab": {
          "base_uri": "https://localhost:8080/",
          "height": 70
        },
        "outputId": "3cef4070-1210-4ffc-8800-bf7a92ea95bb"
      },
      "source": [
        "%%time\n",
        "catboost.fit(np.array(df_Xtrain),np.array(ser_ytrain));"
      ],
      "execution_count": 39,
      "outputs": [
        {
          "output_type": "stream",
          "text": [
            "CPU times: user 2min 33s, sys: 7.38 s, total: 2min 40s\n",
            "Wall time: 1min 22s\n"
          ],
          "name": "stdout"
        },
        {
          "output_type": "execute_result",
          "data": {
            "text/plain": [
              "<catboost.core.CatBoostClassifier at 0x7fe5aba6b7b8>"
            ]
          },
          "metadata": {
            "tags": []
          },
          "execution_count": 39
        }
      ]
    },
    {
      "cell_type": "code",
      "metadata": {
        "id": "G7HqA9Ai5iWW",
        "colab_type": "code",
        "outputId": "b3b91a82-7ff7-4746-e341-b3c30a9d9a03",
        "colab": {
          "base_uri": "https://localhost:8080/",
          "height": 550
        }
      },
      "source": [
        "%%time\n",
        "stack.fit(np.array(df_Xtrain),np.array(ser_ytrain));"
      ],
      "execution_count": 33,
      "outputs": [
        {
          "output_type": "stream",
          "text": [
            "CPU times: user 10min 14s, sys: 18.5 s, total: 10min 33s\n",
            "Wall time: 5min 24s\n"
          ],
          "name": "stdout"
        },
        {
          "output_type": "execute_result",
          "data": {
            "text/plain": [
              "StackingCVClassifier(classifiers=(LinearDiscriminantAnalysis(n_components=None,\n",
              "                                                             priors=None,\n",
              "                                                             shrinkage=None,\n",
              "                                                             solver='svd',\n",
              "                                                             store_covariance=False,\n",
              "                                                             tol=0.0001),\n",
              "                                  XGBClassifier(base_score=0.5,\n",
              "                                                booster='gbtree',\n",
              "                                                boosting_type='gbdt',\n",
              "                                                colsample_by_tree=0.8040279979830232,\n",
              "                                                colsample_bylevel=1,\n",
              "                                                colsample_bynode=1,\n",
              "                                                colsample_bytree=1, gamma=0,\n",
              "                                                learning_rate=0.6183443388...\n",
              "                                                   missing=None,\n",
              "                                                   n_estimators=150, n_jobs=-1,\n",
              "                                                   nthread=None, num_leaves=37,\n",
              "                                                   objective='binary:logistic',\n",
              "                                                   random_state=100,\n",
              "                                                   reg_alpha=0, reg_lambda=1,\n",
              "                                                   scale_pos_weight=1,\n",
              "                                                   seed=None, silent=True,\n",
              "                                                   subsample=0.8254724276776704,\n",
              "                                                   verbosity=1),\n",
              "                     shuffle=True, store_train_meta_features=False,\n",
              "                     stratify=True, use_clones=True,\n",
              "                     use_features_in_secondary=True, use_probas=False,\n",
              "                     verbose=0)"
            ]
          },
          "metadata": {
            "tags": []
          },
          "execution_count": 33
        }
      ]
    },
    {
      "cell_type": "markdown",
      "metadata": {
        "id": "N2hVnXkNVXmR",
        "colab_type": "text"
      },
      "source": [
        "# Model Comparison"
      ]
    },
    {
      "cell_type": "code",
      "metadata": {
        "id": "4Ti429GMUzxN",
        "colab_type": "code",
        "colab": {
          "base_uri": "https://localhost:8080/",
          "height": 52
        },
        "outputId": "cbbf53a9-6d4f-455d-b576-7735470ae074"
      },
      "source": [
        "%%time\n",
        "ypreds_lda = lda.predict(np.array(df_Xtest))\n",
        "ypreds_xgboost = xgboost.predict(np.array(df_Xtest))\n",
        "ypreds_lightgbm = lightgbm.predict(np.array(df_Xtest))\n",
        "ypreds_catboost = catboost.predict(np.array(df_Xtest))\n",
        "ypreds_stack = stack.predict(np.array(df_Xtest))"
      ],
      "execution_count": 46,
      "outputs": [
        {
          "output_type": "stream",
          "text": [
            "CPU times: user 2.29 s, sys: 173 ms, total: 2.47 s\n",
            "Wall time: 1.28 s\n"
          ],
          "name": "stdout"
        }
      ]
    },
    {
      "cell_type": "code",
      "metadata": {
        "id": "1RaRcfF2Vs9a",
        "colab_type": "code",
        "colab": {}
      },
      "source": [
        "ytest = np.array(ser_ytest).ravel()"
      ],
      "execution_count": 0,
      "outputs": []
    },
    {
      "cell_type": "code",
      "metadata": {
        "id": "unAhA54cU_H9",
        "colab_type": "code",
        "colab": {
          "base_uri": "https://localhost:8080/",
          "height": 197
        },
        "outputId": "074ed724-94ca-4220-dfeb-3da332fd7372"
      },
      "source": [
        "from sklearn.metrics import accuracy_score, precision_score, recall_score, f1_score\n",
        "from sklearn.metrics import confusion_matrix\n",
        "\n",
        "ypreds = [ypreds_lda, ypreds_xgboost, ypreds_lightgbm,ypreds_catboost,ypreds_stack]\n",
        "model_names = ['lda','xgboost','lightgbm','catboost','stack']\n",
        "wrong_frauds = [confusion_matrix(ytest,ypred)[1,0] for ypred in ypreds]\n",
        "accuracies = [accuracy_score(ytest,ypred) for ypred in ypreds]\n",
        "precisions = [precision_score(ytest,ypred) for ypred in ypreds]\n",
        "recalls = [recall_score(ytest,ypred) for ypred in ypreds]\n",
        "f1_scores = [f1_score(ytest,ypred) for ypred in ypreds]\n",
        "\n",
        "df_eval = pd.DataFrame({'Model': model_names,\n",
        "                        'WrongFrauds': wrong_frauds,\n",
        "                        'Accuracy': accuracies,\n",
        "                        'Precision': precisions,\n",
        "                        'Recall': recalls,\n",
        "                        'F1-score': f1_scores})\n",
        "\n",
        "\n",
        "df_eval = df_eval.sort_values('Recall',ascending=False)\n",
        "df_eval"
      ],
      "execution_count": 48,
      "outputs": [
        {
          "output_type": "execute_result",
          "data": {
            "text/html": [
              "<div>\n",
              "<style scoped>\n",
              "    .dataframe tbody tr th:only-of-type {\n",
              "        vertical-align: middle;\n",
              "    }\n",
              "\n",
              "    .dataframe tbody tr th {\n",
              "        vertical-align: top;\n",
              "    }\n",
              "\n",
              "    .dataframe thead th {\n",
              "        text-align: right;\n",
              "    }\n",
              "</style>\n",
              "<table border=\"1\" class=\"dataframe\">\n",
              "  <thead>\n",
              "    <tr style=\"text-align: right;\">\n",
              "      <th></th>\n",
              "      <th>Model</th>\n",
              "      <th>WrongFrauds</th>\n",
              "      <th>Accuracy</th>\n",
              "      <th>Precision</th>\n",
              "      <th>Recall</th>\n",
              "      <th>F1-score</th>\n",
              "    </tr>\n",
              "  </thead>\n",
              "  <tbody>\n",
              "    <tr>\n",
              "      <th>2</th>\n",
              "      <td>lightgbm</td>\n",
              "      <td>19</td>\n",
              "      <td>0.999596</td>\n",
              "      <td>0.951807</td>\n",
              "      <td>0.806122</td>\n",
              "      <td>0.872928</td>\n",
              "    </tr>\n",
              "    <tr>\n",
              "      <th>1</th>\n",
              "      <td>xgboost</td>\n",
              "      <td>20</td>\n",
              "      <td>0.999614</td>\n",
              "      <td>0.975000</td>\n",
              "      <td>0.795918</td>\n",
              "      <td>0.876404</td>\n",
              "    </tr>\n",
              "    <tr>\n",
              "      <th>4</th>\n",
              "      <td>stack</td>\n",
              "      <td>20</td>\n",
              "      <td>0.999614</td>\n",
              "      <td>0.975000</td>\n",
              "      <td>0.795918</td>\n",
              "      <td>0.876404</td>\n",
              "    </tr>\n",
              "    <tr>\n",
              "      <th>3</th>\n",
              "      <td>catboost</td>\n",
              "      <td>22</td>\n",
              "      <td>0.999561</td>\n",
              "      <td>0.962025</td>\n",
              "      <td>0.775510</td>\n",
              "      <td>0.858757</td>\n",
              "    </tr>\n",
              "    <tr>\n",
              "      <th>0</th>\n",
              "      <td>lda</td>\n",
              "      <td>25</td>\n",
              "      <td>0.999333</td>\n",
              "      <td>0.848837</td>\n",
              "      <td>0.744898</td>\n",
              "      <td>0.793478</td>\n",
              "    </tr>\n",
              "  </tbody>\n",
              "</table>\n",
              "</div>"
            ],
            "text/plain": [
              "      Model  WrongFrauds  Accuracy  Precision    Recall  F1-score\n",
              "2  lightgbm           19  0.999596   0.951807  0.806122  0.872928\n",
              "1   xgboost           20  0.999614   0.975000  0.795918  0.876404\n",
              "4     stack           20  0.999614   0.975000  0.795918  0.876404\n",
              "3  catboost           22  0.999561   0.962025  0.775510  0.858757\n",
              "0       lda           25  0.999333   0.848837  0.744898  0.793478"
            ]
          },
          "metadata": {
            "tags": []
          },
          "execution_count": 48
        }
      ]
    },
    {
      "cell_type": "code",
      "metadata": {
        "id": "Txe1mcGOVyjP",
        "colab_type": "code",
        "outputId": "5defd0a2-a21d-4910-ed1e-8d9a9e3fd36a",
        "colab": {
          "base_uri": "https://localhost:8080/",
          "height": 52
        }
      },
      "source": [
        "from sklearn.metrics import confusion_matrix\n",
        "\n",
        "cm = confusion_matrix(ytest,ypreds_stack)\n",
        "print(cm)"
      ],
      "execution_count": 49,
      "outputs": [
        {
          "output_type": "stream",
          "text": [
            "[[56862     2]\n",
            " [   20    78]]\n"
          ],
          "name": "stdout"
        }
      ]
    },
    {
      "cell_type": "code",
      "metadata": {
        "id": "-9m3xCQcV9OS",
        "colab_type": "code",
        "outputId": "7e8fbdb7-79a6-4fc4-c64d-56f00d59870e",
        "colab": {
          "base_uri": "https://localhost:8080/",
          "height": 34
        }
      },
      "source": [
        "wrong_frauds = cm[1,0]\n",
        "wrong_frauds"
      ],
      "execution_count": 50,
      "outputs": [
        {
          "output_type": "execute_result",
          "data": {
            "text/plain": [
              "20"
            ]
          },
          "metadata": {
            "tags": []
          },
          "execution_count": 50
        }
      ]
    },
    {
      "cell_type": "code",
      "metadata": {
        "id": "6f0pi1oSbhYH",
        "colab_type": "code",
        "colab": {}
      },
      "source": [
        ""
      ],
      "execution_count": 0,
      "outputs": []
    }
  ]
}