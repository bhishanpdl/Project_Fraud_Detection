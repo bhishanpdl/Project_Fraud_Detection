{
 "cells": [
  {
   "cell_type": "markdown",
   "metadata": {
    "toc": "true"
   },
   "source": [
    "<h1>Table of Contents<span class=\"tocSkip\"></span></h1>\n",
    "<div class=\"toc\"><ul class=\"toc-item\"><li><span><a href=\"#Data-Description\" data-toc-modified-id=\"Data-Description-1\"><span class=\"toc-item-num\">1&nbsp;&nbsp;</span>Data Description</a></span></li><li><span><a href=\"#Imports\" data-toc-modified-id=\"Imports-2\"><span class=\"toc-item-num\">2&nbsp;&nbsp;</span>Imports</a></span></li><li><span><a href=\"#Useful-Scripts\" data-toc-modified-id=\"Useful-Scripts-3\"><span class=\"toc-item-num\">3&nbsp;&nbsp;</span>Useful Scripts</a></span></li><li><span><a href=\"#Load-the-data\" data-toc-modified-id=\"Load-the-data-4\"><span class=\"toc-item-num\">4&nbsp;&nbsp;</span>Load the data</a></span></li><li><span><a href=\"#Preprocessing\" data-toc-modified-id=\"Preprocessing-5\"><span class=\"toc-item-num\">5&nbsp;&nbsp;</span>Preprocessing</a></span><ul class=\"toc-item\"><li><span><a href=\"#Scaling\" data-toc-modified-id=\"Scaling-5.1\"><span class=\"toc-item-num\">5.1&nbsp;&nbsp;</span>Scaling</a></span></li><li><span><a href=\"#Train-test-split-with-stratify\" data-toc-modified-id=\"Train-test-split-with-stratify-5.2\"><span class=\"toc-item-num\">5.2&nbsp;&nbsp;</span>Train test split with stratify</a></span></li><li><span><a href=\"#Check-for-nans-before-modelling\" data-toc-modified-id=\"Check-for-nans-before-modelling-5.3\"><span class=\"toc-item-num\">5.3&nbsp;&nbsp;</span>Check for nans before modelling</a></span></li></ul></li><li><span><a href=\"#Modelling\" data-toc-modified-id=\"Modelling-6\"><span class=\"toc-item-num\">6&nbsp;&nbsp;</span>Modelling</a></span><ul class=\"toc-item\"><li><span><a href=\"#Deep-Learning-Imbalanced-Data\" data-toc-modified-id=\"Deep-Learning-Imbalanced-Data-6.1\"><span class=\"toc-item-num\">6.1&nbsp;&nbsp;</span>Deep Learning Imbalanced Data</a></span></li><li><span><a href=\"#Deep-Learning-Undersampled-Data\" data-toc-modified-id=\"Deep-Learning-Undersampled-Data-6.2\"><span class=\"toc-item-num\">6.2&nbsp;&nbsp;</span>Deep Learning Undersampled Data</a></span></li></ul></li></ul></div>"
   ]
  },
  {
   "cell_type": "markdown",
   "metadata": {},
   "source": [
    "# Data Description\n",
    "\n",
    "> The datasets contains transactions made by credit cards in September\n",
    "2013 by european cardholders.\n",
    "\n",
    "\n",
    "> This dataset presents transactions that occurred in two days,\n",
    "where we have 492 frauds out of 284,807 transactions. \n",
    "\n",
    "> The dataset is highly unbalanced, the positive class (frauds)\n",
    "account for 0.172% of all transactions.\n",
    "\n",
    "> It contains only numerical input variables which are\n",
    "the result of a PCA transformation.\n",
    "\n",
    "\n",
    "> Unfortunately, due to confidentiality issues,\n",
    "we cannot provide the original features and \n",
    "more background information about the data.\n",
    "\n",
    "\n",
    "> Features V1, V2, ... V28 are the principal\n",
    "components obtained with PCA,\n",
    "the only features which have not been transformed with PCA are 'Time' and 'Amount'. \n",
    "\n",
    "> Feature 'Time' contains the seconds elapsed between each transaction\n",
    "and the first transaction in the dataset. The feature 'Amount'\n",
    "is the transaction Amount, this feature can be used for \n",
    "example-dependant cost-senstive learning. \n",
    "\n",
    "> Feature 'Class' is the response variable and it takes value\n",
    "1 in case of fraud and 0 otherwise.\n",
    "\n",
    "\n",
    "<div class=\"alert alert-block alert-success\">\n",
    "<b>Business Problem:</b>  <br>\n",
    "Task &nbsp;&nbsp; : Detect the fraudulent activities. <br>\n",
    "Metric : Recall\n",
    "</div>\n",
    "\n",
    "Remember that `Recall = TP / (TP + FN)`. In case of fraud detection,\n",
    "classifying a fraud as\n",
    "non-fraud (FN) is more risky so we use the metric `recall` to compare the \n",
    "performances of the models. Higher the recall, better is the model."
   ]
  },
  {
   "cell_type": "markdown",
   "metadata": {},
   "source": [
    "# Imports"
   ]
  },
  {
   "cell_type": "code",
   "execution_count": 1,
   "metadata": {
    "ExecuteTime": {
     "end_time": "2019-10-13T21:32:50.203003Z",
     "start_time": "2019-10-13T21:32:49.819790Z"
    }
   },
   "outputs": [],
   "source": [
    "import bhishan"
   ]
  },
  {
   "cell_type": "code",
   "execution_count": 2,
   "metadata": {
    "ExecuteTime": {
     "end_time": "2019-10-13T21:32:50.532480Z",
     "start_time": "2019-10-13T21:32:50.217154Z"
    }
   },
   "outputs": [],
   "source": [
    "%load_ext autoreload\n",
    "\n",
    "%autoreload 2"
   ]
  },
  {
   "cell_type": "code",
   "execution_count": 3,
   "metadata": {
    "ExecuteTime": {
     "end_time": "2019-10-13T21:32:50.892254Z",
     "start_time": "2019-10-13T21:32:50.753154Z"
    }
   },
   "outputs": [
    {
     "name": "stdout",
     "output_type": "stream",
     "text": [
      "[('numpy', '1.15.4'), ('pandas', '0.24.2'), ('seaborn', '0.9.0'), ('matplotlib', '2.2.4')]\n"
     ]
    }
   ],
   "source": [
    "import numpy as np\n",
    "import pandas as pd\n",
    "import seaborn as sns\n",
    "sns.set(color_codes=True)\n",
    "\n",
    "import matplotlib\n",
    "import matplotlib.pyplot as plt\n",
    "%matplotlib inline\n",
    "\n",
    "import os\n",
    "import time\n",
    "\n",
    "# random state\n",
    "random_state=100\n",
    "np.random.seed=random_state\n",
    "np.random.set_state=random_state\n",
    "\n",
    "# Jupyter notebook settings for pandas\n",
    "pd.set_option('display.max_columns', 200)\n",
    "pd.set_option('display.max_rows', 100) # None for all the rows\n",
    "pd.set_option('display.max_colwidth', 50)\n",
    "\n",
    "print([(x.__name__,x.__version__) for x in [np, pd,sns,matplotlib]])"
   ]
  },
  {
   "cell_type": "code",
   "execution_count": 4,
   "metadata": {
    "ExecuteTime": {
     "end_time": "2019-10-13T21:32:51.480455Z",
     "start_time": "2019-10-13T21:32:51.398434Z"
    }
   },
   "outputs": [],
   "source": [
    "import scipy\n",
    "from scipy import stats"
   ]
  },
  {
   "cell_type": "code",
   "execution_count": 5,
   "metadata": {
    "ExecuteTime": {
     "end_time": "2019-10-13T21:32:52.765127Z",
     "start_time": "2019-10-13T21:32:52.695879Z"
    }
   },
   "outputs": [],
   "source": [
    "# scale and split\n",
    "from sklearn.preprocessing import MinMaxScaler, StandardScaler, RobustScaler\n",
    "from sklearn.model_selection import train_test_split\n",
    "from sklearn.model_selection import StratifiedKFold"
   ]
  },
  {
   "cell_type": "code",
   "execution_count": 6,
   "metadata": {
    "ExecuteTime": {
     "end_time": "2019-10-13T21:32:53.414300Z",
     "start_time": "2019-10-13T21:32:53.349479Z"
    }
   },
   "outputs": [],
   "source": [
    "# classifiers\n",
    "from sklearn.ensemble import IsolationForest\n",
    "from sklearn.neighbors import LocalOutlierFactor\n",
    "from sklearn.svm import OneClassSVM"
   ]
  },
  {
   "cell_type": "code",
   "execution_count": 7,
   "metadata": {
    "ExecuteTime": {
     "end_time": "2019-10-13T21:32:54.044197Z",
     "start_time": "2019-10-13T21:32:53.966225Z"
    }
   },
   "outputs": [],
   "source": [
    "# roc auc etc scores\n",
    "from sklearn.metrics import auc\n",
    "from sklearn.metrics import roc_auc_score\n",
    "from sklearn.metrics import precision_score\n",
    "from sklearn.metrics import recall_score\n",
    "from sklearn.metrics import f1_score\n",
    "from sklearn.metrics import accuracy_score\n",
    "from sklearn.metrics import average_precision_score"
   ]
  },
  {
   "cell_type": "code",
   "execution_count": 8,
   "metadata": {
    "ExecuteTime": {
     "end_time": "2019-10-13T21:32:54.719089Z",
     "start_time": "2019-10-13T21:32:54.638112Z"
    }
   },
   "outputs": [],
   "source": [
    "# roc auc curves\n",
    "from sklearn.metrics import roc_curve\n",
    "from sklearn.metrics import precision_recall_curve"
   ]
  },
  {
   "cell_type": "code",
   "execution_count": 9,
   "metadata": {
    "ExecuteTime": {
     "end_time": "2019-10-13T21:32:55.435419Z",
     "start_time": "2019-10-13T21:32:55.361159Z"
    }
   },
   "outputs": [],
   "source": [
    "# confusion matrix\n",
    "from sklearn.metrics import classification_report\n",
    "from sklearn.metrics import confusion_matrix"
   ]
  },
  {
   "cell_type": "code",
   "execution_count": 10,
   "metadata": {
    "ExecuteTime": {
     "end_time": "2019-10-13T21:32:56.142005Z",
     "start_time": "2019-10-13T21:32:56.062846Z"
    }
   },
   "outputs": [],
   "source": [
    "from sklearn.metrics import accuracy_score\n",
    "from sklearn.metrics import precision_score\n",
    "from sklearn.metrics import recall_score\n",
    "from sklearn.metrics import f1_score\n",
    "from sklearn.metrics import precision_recall_fscore_support\n",
    "from sklearn.metrics import classification_report\n",
    "from sklearn.metrics import confusion_matrix"
   ]
  },
  {
   "cell_type": "code",
   "execution_count": 11,
   "metadata": {},
   "outputs": [
    {
     "name": "stderr",
     "output_type": "stream",
     "text": [
      "Using TensorFlow backend.\n"
     ]
    }
   ],
   "source": [
    "import keras\n",
    "from keras import backend as K\n",
    "from keras.models import Sequential\n",
    "from keras.layers import Activation\n",
    "from keras.layers.core import Dense\n",
    "from keras.optimizers import Adam\n",
    "from keras.metrics import categorical_crossentropy"
   ]
  },
  {
   "cell_type": "markdown",
   "metadata": {},
   "source": [
    "# Useful Scripts"
   ]
  },
  {
   "cell_type": "code",
   "execution_count": 148,
   "metadata": {
    "ExecuteTime": {
     "end_time": "2019-10-13T21:32:57.522365Z",
     "start_time": "2019-10-13T21:32:57.456786Z"
    }
   },
   "outputs": [],
   "source": [
    "def show_method_attributes(method, ncols=7):\n",
    "    \"\"\" Show all the attributes of a given method.\n",
    "    Example:\n",
    "    ========\n",
    "    show_method_attributes(list)\n",
    "     \"\"\"\n",
    "    x = [i for i in dir(method) if i[0]!='_' ]\n",
    "    x = [i for i in x \n",
    "         if i not in 'os np pd sys time psycopg2'.split() ]\n",
    "             \n",
    "\n",
    "    return pd.DataFrame(np.array_split(x,ncols)).T.fillna('')"
   ]
  },
  {
   "cell_type": "markdown",
   "metadata": {},
   "source": [
    "# Load the data"
   ]
  },
  {
   "cell_type": "code",
   "execution_count": 12,
   "metadata": {
    "ExecuteTime": {
     "end_time": "2019-10-13T21:33:12.879840Z",
     "start_time": "2019-10-13T21:33:02.086657Z"
    }
   },
   "outputs": [
    {
     "name": "stdout",
     "output_type": "stream",
     "text": [
      "(284807, 31)\n"
     ]
    },
    {
     "data": {
      "text/html": [
       "<div>\n",
       "<style scoped>\n",
       "    .dataframe tbody tr th:only-of-type {\n",
       "        vertical-align: middle;\n",
       "    }\n",
       "\n",
       "    .dataframe tbody tr th {\n",
       "        vertical-align: top;\n",
       "    }\n",
       "\n",
       "    .dataframe thead th {\n",
       "        text-align: right;\n",
       "    }\n",
       "</style>\n",
       "<table border=\"1\" class=\"dataframe\">\n",
       "  <thead>\n",
       "    <tr style=\"text-align: right;\">\n",
       "      <th></th>\n",
       "      <th>Time</th>\n",
       "      <th>V1</th>\n",
       "      <th>V2</th>\n",
       "      <th>V3</th>\n",
       "      <th>V4</th>\n",
       "      <th>V5</th>\n",
       "      <th>V6</th>\n",
       "      <th>V7</th>\n",
       "      <th>V8</th>\n",
       "      <th>V9</th>\n",
       "      <th>V10</th>\n",
       "      <th>V11</th>\n",
       "      <th>V12</th>\n",
       "      <th>V13</th>\n",
       "      <th>V14</th>\n",
       "      <th>V15</th>\n",
       "      <th>V16</th>\n",
       "      <th>V17</th>\n",
       "      <th>V18</th>\n",
       "      <th>V19</th>\n",
       "      <th>V20</th>\n",
       "      <th>V21</th>\n",
       "      <th>V22</th>\n",
       "      <th>V23</th>\n",
       "      <th>V24</th>\n",
       "      <th>V25</th>\n",
       "      <th>V26</th>\n",
       "      <th>V27</th>\n",
       "      <th>V28</th>\n",
       "      <th>Amount</th>\n",
       "      <th>Class</th>\n",
       "    </tr>\n",
       "  </thead>\n",
       "  <tbody>\n",
       "    <tr>\n",
       "      <th>0</th>\n",
       "      <td>0.0</td>\n",
       "      <td>-1.359807</td>\n",
       "      <td>-0.072781</td>\n",
       "      <td>2.536347</td>\n",
       "      <td>1.378155</td>\n",
       "      <td>-0.338321</td>\n",
       "      <td>0.462388</td>\n",
       "      <td>0.239599</td>\n",
       "      <td>0.098698</td>\n",
       "      <td>0.363787</td>\n",
       "      <td>0.090794</td>\n",
       "      <td>-0.551600</td>\n",
       "      <td>-0.617801</td>\n",
       "      <td>-0.991390</td>\n",
       "      <td>-0.311169</td>\n",
       "      <td>1.468177</td>\n",
       "      <td>-0.470401</td>\n",
       "      <td>0.207971</td>\n",
       "      <td>0.025791</td>\n",
       "      <td>0.403993</td>\n",
       "      <td>0.251412</td>\n",
       "      <td>-0.018307</td>\n",
       "      <td>0.277838</td>\n",
       "      <td>-0.110474</td>\n",
       "      <td>0.066928</td>\n",
       "      <td>0.128539</td>\n",
       "      <td>-0.189115</td>\n",
       "      <td>0.133558</td>\n",
       "      <td>-0.021053</td>\n",
       "      <td>149.62</td>\n",
       "      <td>0</td>\n",
       "    </tr>\n",
       "    <tr>\n",
       "      <th>1</th>\n",
       "      <td>0.0</td>\n",
       "      <td>1.191857</td>\n",
       "      <td>0.266151</td>\n",
       "      <td>0.166480</td>\n",
       "      <td>0.448154</td>\n",
       "      <td>0.060018</td>\n",
       "      <td>-0.082361</td>\n",
       "      <td>-0.078803</td>\n",
       "      <td>0.085102</td>\n",
       "      <td>-0.255425</td>\n",
       "      <td>-0.166974</td>\n",
       "      <td>1.612727</td>\n",
       "      <td>1.065235</td>\n",
       "      <td>0.489095</td>\n",
       "      <td>-0.143772</td>\n",
       "      <td>0.635558</td>\n",
       "      <td>0.463917</td>\n",
       "      <td>-0.114805</td>\n",
       "      <td>-0.183361</td>\n",
       "      <td>-0.145783</td>\n",
       "      <td>-0.069083</td>\n",
       "      <td>-0.225775</td>\n",
       "      <td>-0.638672</td>\n",
       "      <td>0.101288</td>\n",
       "      <td>-0.339846</td>\n",
       "      <td>0.167170</td>\n",
       "      <td>0.125895</td>\n",
       "      <td>-0.008983</td>\n",
       "      <td>0.014724</td>\n",
       "      <td>2.69</td>\n",
       "      <td>0</td>\n",
       "    </tr>\n",
       "    <tr>\n",
       "      <th>2</th>\n",
       "      <td>1.0</td>\n",
       "      <td>-1.358354</td>\n",
       "      <td>-1.340163</td>\n",
       "      <td>1.773209</td>\n",
       "      <td>0.379780</td>\n",
       "      <td>-0.503198</td>\n",
       "      <td>1.800499</td>\n",
       "      <td>0.791461</td>\n",
       "      <td>0.247676</td>\n",
       "      <td>-1.514654</td>\n",
       "      <td>0.207643</td>\n",
       "      <td>0.624501</td>\n",
       "      <td>0.066084</td>\n",
       "      <td>0.717293</td>\n",
       "      <td>-0.165946</td>\n",
       "      <td>2.345865</td>\n",
       "      <td>-2.890083</td>\n",
       "      <td>1.109969</td>\n",
       "      <td>-0.121359</td>\n",
       "      <td>-2.261857</td>\n",
       "      <td>0.524980</td>\n",
       "      <td>0.247998</td>\n",
       "      <td>0.771679</td>\n",
       "      <td>0.909412</td>\n",
       "      <td>-0.689281</td>\n",
       "      <td>-0.327642</td>\n",
       "      <td>-0.139097</td>\n",
       "      <td>-0.055353</td>\n",
       "      <td>-0.059752</td>\n",
       "      <td>378.66</td>\n",
       "      <td>0</td>\n",
       "    </tr>\n",
       "    <tr>\n",
       "      <th>3</th>\n",
       "      <td>1.0</td>\n",
       "      <td>-0.966272</td>\n",
       "      <td>-0.185226</td>\n",
       "      <td>1.792993</td>\n",
       "      <td>-0.863291</td>\n",
       "      <td>-0.010309</td>\n",
       "      <td>1.247203</td>\n",
       "      <td>0.237609</td>\n",
       "      <td>0.377436</td>\n",
       "      <td>-1.387024</td>\n",
       "      <td>-0.054952</td>\n",
       "      <td>-0.226487</td>\n",
       "      <td>0.178228</td>\n",
       "      <td>0.507757</td>\n",
       "      <td>-0.287924</td>\n",
       "      <td>-0.631418</td>\n",
       "      <td>-1.059647</td>\n",
       "      <td>-0.684093</td>\n",
       "      <td>1.965775</td>\n",
       "      <td>-1.232622</td>\n",
       "      <td>-0.208038</td>\n",
       "      <td>-0.108300</td>\n",
       "      <td>0.005274</td>\n",
       "      <td>-0.190321</td>\n",
       "      <td>-1.175575</td>\n",
       "      <td>0.647376</td>\n",
       "      <td>-0.221929</td>\n",
       "      <td>0.062723</td>\n",
       "      <td>0.061458</td>\n",
       "      <td>123.50</td>\n",
       "      <td>0</td>\n",
       "    </tr>\n",
       "    <tr>\n",
       "      <th>4</th>\n",
       "      <td>2.0</td>\n",
       "      <td>-1.158233</td>\n",
       "      <td>0.877737</td>\n",
       "      <td>1.548718</td>\n",
       "      <td>0.403034</td>\n",
       "      <td>-0.407193</td>\n",
       "      <td>0.095921</td>\n",
       "      <td>0.592941</td>\n",
       "      <td>-0.270533</td>\n",
       "      <td>0.817739</td>\n",
       "      <td>0.753074</td>\n",
       "      <td>-0.822843</td>\n",
       "      <td>0.538196</td>\n",
       "      <td>1.345852</td>\n",
       "      <td>-1.119670</td>\n",
       "      <td>0.175121</td>\n",
       "      <td>-0.451449</td>\n",
       "      <td>-0.237033</td>\n",
       "      <td>-0.038195</td>\n",
       "      <td>0.803487</td>\n",
       "      <td>0.408542</td>\n",
       "      <td>-0.009431</td>\n",
       "      <td>0.798278</td>\n",
       "      <td>-0.137458</td>\n",
       "      <td>0.141267</td>\n",
       "      <td>-0.206010</td>\n",
       "      <td>0.502292</td>\n",
       "      <td>0.219422</td>\n",
       "      <td>0.215153</td>\n",
       "      <td>69.99</td>\n",
       "      <td>0</td>\n",
       "    </tr>\n",
       "  </tbody>\n",
       "</table>\n",
       "</div>"
      ],
      "text/plain": [
       "   Time        V1        V2        V3        V4        V5        V6        V7  \\\n",
       "0   0.0 -1.359807 -0.072781  2.536347  1.378155 -0.338321  0.462388  0.239599   \n",
       "1   0.0  1.191857  0.266151  0.166480  0.448154  0.060018 -0.082361 -0.078803   \n",
       "2   1.0 -1.358354 -1.340163  1.773209  0.379780 -0.503198  1.800499  0.791461   \n",
       "3   1.0 -0.966272 -0.185226  1.792993 -0.863291 -0.010309  1.247203  0.237609   \n",
       "4   2.0 -1.158233  0.877737  1.548718  0.403034 -0.407193  0.095921  0.592941   \n",
       "\n",
       "         V8        V9       V10       V11       V12       V13       V14  \\\n",
       "0  0.098698  0.363787  0.090794 -0.551600 -0.617801 -0.991390 -0.311169   \n",
       "1  0.085102 -0.255425 -0.166974  1.612727  1.065235  0.489095 -0.143772   \n",
       "2  0.247676 -1.514654  0.207643  0.624501  0.066084  0.717293 -0.165946   \n",
       "3  0.377436 -1.387024 -0.054952 -0.226487  0.178228  0.507757 -0.287924   \n",
       "4 -0.270533  0.817739  0.753074 -0.822843  0.538196  1.345852 -1.119670   \n",
       "\n",
       "        V15       V16       V17       V18       V19       V20       V21  \\\n",
       "0  1.468177 -0.470401  0.207971  0.025791  0.403993  0.251412 -0.018307   \n",
       "1  0.635558  0.463917 -0.114805 -0.183361 -0.145783 -0.069083 -0.225775   \n",
       "2  2.345865 -2.890083  1.109969 -0.121359 -2.261857  0.524980  0.247998   \n",
       "3 -0.631418 -1.059647 -0.684093  1.965775 -1.232622 -0.208038 -0.108300   \n",
       "4  0.175121 -0.451449 -0.237033 -0.038195  0.803487  0.408542 -0.009431   \n",
       "\n",
       "        V22       V23       V24       V25       V26       V27       V28  \\\n",
       "0  0.277838 -0.110474  0.066928  0.128539 -0.189115  0.133558 -0.021053   \n",
       "1 -0.638672  0.101288 -0.339846  0.167170  0.125895 -0.008983  0.014724   \n",
       "2  0.771679  0.909412 -0.689281 -0.327642 -0.139097 -0.055353 -0.059752   \n",
       "3  0.005274 -0.190321 -1.175575  0.647376 -0.221929  0.062723  0.061458   \n",
       "4  0.798278 -0.137458  0.141267 -0.206010  0.502292  0.219422  0.215153   \n",
       "\n",
       "   Amount  Class  \n",
       "0  149.62      0  \n",
       "1    2.69      0  \n",
       "2  378.66      0  \n",
       "3  123.50      0  \n",
       "4   69.99      0  "
      ]
     },
     "execution_count": 12,
     "metadata": {},
     "output_type": "execute_result"
    }
   ],
   "source": [
    "df = pd.read_csv('../data/raw/creditcard.csv.zip',compression='zip')\n",
    "print(df.shape)\n",
    "df.head()"
   ]
  },
  {
   "cell_type": "markdown",
   "metadata": {},
   "source": [
    "# Preprocessing"
   ]
  },
  {
   "cell_type": "markdown",
   "metadata": {},
   "source": [
    "## Scaling"
   ]
  },
  {
   "cell_type": "code",
   "execution_count": 62,
   "metadata": {
    "ExecuteTime": {
     "end_time": "2019-10-13T21:33:40.480908Z",
     "start_time": "2019-10-13T21:33:40.234152Z"
    }
   },
   "outputs": [],
   "source": [
    "# RobustScaler is less prone to outliers.\n",
    "from sklearn.preprocessing import StandardScaler, RobustScaler\n",
    "\n",
    "scaler = RobustScaler()\n",
    "\n",
    "df['scaled_amount'] = scaler.fit_transform(df['Amount'].values.reshape(-1,1))\n",
    "df['scaled_time'] = scaler.fit_transform(df['Time'].values.reshape(-1,1))"
   ]
  },
  {
   "cell_type": "markdown",
   "metadata": {},
   "source": [
    "## Train test split with stratify"
   ]
  },
  {
   "cell_type": "code",
   "execution_count": 35,
   "metadata": {
    "ExecuteTime": {
     "end_time": "2019-10-13T21:33:42.882198Z",
     "start_time": "2019-10-13T21:33:42.821949Z"
    }
   },
   "outputs": [],
   "source": [
    "from sklearn.model_selection import train_test_split"
   ]
  },
  {
   "cell_type": "code",
   "execution_count": 64,
   "metadata": {
    "ExecuteTime": {
     "end_time": "2019-10-13T21:33:44.749225Z",
     "start_time": "2019-10-13T21:33:43.673849Z"
    }
   },
   "outputs": [
    {
     "data": {
      "text/plain": [
       "((284807, 33), (227845, 32), (227845,))"
      ]
     },
     "execution_count": 64,
     "metadata": {},
     "output_type": "execute_result"
    }
   ],
   "source": [
    "# Xtrain, and Xtest has all the features, later we can select our\n",
    "# Xtrain and Xtest from df_train using some features.\n",
    "target = 'Class'\n",
    "Xtrain,Xtest,ytrain,ytest = train_test_split(df.drop(target,axis=1),df[target],\n",
    "                                            test_size=0.2,stratify=df[target],\n",
    "                                            random_state=random_state)\n",
    "\n",
    "df.shape, Xtrain.shape, ytrain.shape"
   ]
  },
  {
   "cell_type": "code",
   "execution_count": 65,
   "metadata": {
    "ExecuteTime": {
     "end_time": "2019-10-13T21:33:45.121101Z",
     "start_time": "2019-10-13T21:33:44.760622Z"
    }
   },
   "outputs": [
    {
     "name": "stdout",
     "output_type": "stream",
     "text": [
      "(284807, 33) (227845, 33)\n"
     ]
    },
    {
     "data": {
      "text/html": [
       "<div>\n",
       "<style scoped>\n",
       "    .dataframe tbody tr th:only-of-type {\n",
       "        vertical-align: middle;\n",
       "    }\n",
       "\n",
       "    .dataframe tbody tr th {\n",
       "        vertical-align: top;\n",
       "    }\n",
       "\n",
       "    .dataframe thead th {\n",
       "        text-align: right;\n",
       "    }\n",
       "</style>\n",
       "<table border=\"1\" class=\"dataframe\">\n",
       "  <thead>\n",
       "    <tr style=\"text-align: right;\">\n",
       "      <th></th>\n",
       "      <th>Time</th>\n",
       "      <th>V1</th>\n",
       "      <th>V2</th>\n",
       "      <th>V3</th>\n",
       "      <th>V4</th>\n",
       "      <th>V5</th>\n",
       "      <th>V6</th>\n",
       "      <th>V7</th>\n",
       "      <th>V8</th>\n",
       "      <th>V9</th>\n",
       "      <th>V10</th>\n",
       "      <th>V11</th>\n",
       "      <th>V12</th>\n",
       "      <th>V13</th>\n",
       "      <th>V14</th>\n",
       "      <th>V15</th>\n",
       "      <th>V16</th>\n",
       "      <th>V17</th>\n",
       "      <th>V18</th>\n",
       "      <th>V19</th>\n",
       "      <th>V20</th>\n",
       "      <th>V21</th>\n",
       "      <th>V22</th>\n",
       "      <th>V23</th>\n",
       "      <th>V24</th>\n",
       "      <th>V25</th>\n",
       "      <th>V26</th>\n",
       "      <th>V27</th>\n",
       "      <th>V28</th>\n",
       "      <th>Amount</th>\n",
       "      <th>Class</th>\n",
       "      <th>scaled_amount</th>\n",
       "      <th>scaled_time</th>\n",
       "    </tr>\n",
       "  </thead>\n",
       "  <tbody>\n",
       "    <tr>\n",
       "      <th>0</th>\n",
       "      <td>138616.0</td>\n",
       "      <td>-1.137612</td>\n",
       "      <td>2.345154</td>\n",
       "      <td>-1.767247</td>\n",
       "      <td>0.833982</td>\n",
       "      <td>0.973168</td>\n",
       "      <td>-0.073571</td>\n",
       "      <td>0.802433</td>\n",
       "      <td>0.733137</td>\n",
       "      <td>-1.154087</td>\n",
       "      <td>-0.520340</td>\n",
       "      <td>0.494117</td>\n",
       "      <td>0.799935</td>\n",
       "      <td>0.494576</td>\n",
       "      <td>-0.479666</td>\n",
       "      <td>-0.917177</td>\n",
       "      <td>-0.184117</td>\n",
       "      <td>1.189459</td>\n",
       "      <td>0.937244</td>\n",
       "      <td>0.960749</td>\n",
       "      <td>0.062820</td>\n",
       "      <td>0.114953</td>\n",
       "      <td>0.430613</td>\n",
       "      <td>-0.240819</td>\n",
       "      <td>0.124011</td>\n",
       "      <td>0.187187</td>\n",
       "      <td>-0.402251</td>\n",
       "      <td>0.196277</td>\n",
       "      <td>0.190732</td>\n",
       "      <td>39.46</td>\n",
       "      <td>0.243974</td>\n",
       "      <td>0.633513</td>\n",
       "      <td>0.0</td>\n",
       "    </tr>\n",
       "    <tr>\n",
       "      <th>1</th>\n",
       "      <td>21953.0</td>\n",
       "      <td>-1.028649</td>\n",
       "      <td>1.141569</td>\n",
       "      <td>2.492561</td>\n",
       "      <td>-0.242233</td>\n",
       "      <td>0.452842</td>\n",
       "      <td>-0.384273</td>\n",
       "      <td>1.256026</td>\n",
       "      <td>-0.816401</td>\n",
       "      <td>1.964560</td>\n",
       "      <td>-0.014216</td>\n",
       "      <td>0.432153</td>\n",
       "      <td>-2.140921</td>\n",
       "      <td>2.274477</td>\n",
       "      <td>0.114128</td>\n",
       "      <td>-1.652894</td>\n",
       "      <td>-0.617302</td>\n",
       "      <td>0.243791</td>\n",
       "      <td>-0.426168</td>\n",
       "      <td>-0.493177</td>\n",
       "      <td>0.350032</td>\n",
       "      <td>-0.380356</td>\n",
       "      <td>-0.037432</td>\n",
       "      <td>-0.503934</td>\n",
       "      <td>0.407129</td>\n",
       "      <td>0.604252</td>\n",
       "      <td>0.233015</td>\n",
       "      <td>-0.433132</td>\n",
       "      <td>-0.491892</td>\n",
       "      <td>7.19</td>\n",
       "      <td>-0.206945</td>\n",
       "      <td>-0.737074</td>\n",
       "      <td>0.0</td>\n",
       "    </tr>\n",
       "  </tbody>\n",
       "</table>\n",
       "</div>"
      ],
      "text/plain": [
       "       Time        V1        V2        V3        V4        V5        V6  \\\n",
       "0  138616.0 -1.137612  2.345154 -1.767247  0.833982  0.973168 -0.073571   \n",
       "1   21953.0 -1.028649  1.141569  2.492561 -0.242233  0.452842 -0.384273   \n",
       "\n",
       "         V7        V8        V9       V10       V11       V12       V13  \\\n",
       "0  0.802433  0.733137 -1.154087 -0.520340  0.494117  0.799935  0.494576   \n",
       "1  1.256026 -0.816401  1.964560 -0.014216  0.432153 -2.140921  2.274477   \n",
       "\n",
       "        V14       V15       V16       V17       V18       V19       V20  \\\n",
       "0 -0.479666 -0.917177 -0.184117  1.189459  0.937244  0.960749  0.062820   \n",
       "1  0.114128 -1.652894 -0.617302  0.243791 -0.426168 -0.493177  0.350032   \n",
       "\n",
       "        V21       V22       V23       V24       V25       V26       V27  \\\n",
       "0  0.114953  0.430613 -0.240819  0.124011  0.187187 -0.402251  0.196277   \n",
       "1 -0.380356 -0.037432 -0.503934  0.407129  0.604252  0.233015 -0.433132   \n",
       "\n",
       "        V28  Amount     Class  scaled_amount  scaled_time  \n",
       "0  0.190732   39.46  0.243974       0.633513          0.0  \n",
       "1 -0.491892    7.19 -0.206945      -0.737074          0.0  "
      ]
     },
     "execution_count": 65,
     "metadata": {},
     "output_type": "execute_result"
    }
   ],
   "source": [
    "columns= df.columns\n",
    "df_train = pd.DataFrame(np.c_[Xtrain,ytrain], columns=columns)\n",
    "\n",
    "print(df.shape, df_train.shape)\n",
    "df_train.head(2)"
   ]
  },
  {
   "cell_type": "code",
   "execution_count": 66,
   "metadata": {
    "ExecuteTime": {
     "end_time": "2019-10-13T21:33:46.004601Z",
     "start_time": "2019-10-13T21:33:45.782914Z"
    }
   },
   "outputs": [
    {
     "name": "stdout",
     "output_type": "stream",
     "text": [
      "(56962, 33)\n"
     ]
    },
    {
     "data": {
      "text/html": [
       "<div>\n",
       "<style scoped>\n",
       "    .dataframe tbody tr th:only-of-type {\n",
       "        vertical-align: middle;\n",
       "    }\n",
       "\n",
       "    .dataframe tbody tr th {\n",
       "        vertical-align: top;\n",
       "    }\n",
       "\n",
       "    .dataframe thead th {\n",
       "        text-align: right;\n",
       "    }\n",
       "</style>\n",
       "<table border=\"1\" class=\"dataframe\">\n",
       "  <thead>\n",
       "    <tr style=\"text-align: right;\">\n",
       "      <th></th>\n",
       "      <th>Time</th>\n",
       "      <th>V1</th>\n",
       "      <th>V2</th>\n",
       "      <th>V3</th>\n",
       "      <th>V4</th>\n",
       "      <th>V5</th>\n",
       "      <th>V6</th>\n",
       "      <th>V7</th>\n",
       "      <th>V8</th>\n",
       "      <th>V9</th>\n",
       "      <th>V10</th>\n",
       "      <th>V11</th>\n",
       "      <th>V12</th>\n",
       "      <th>V13</th>\n",
       "      <th>V14</th>\n",
       "      <th>V15</th>\n",
       "      <th>V16</th>\n",
       "      <th>V17</th>\n",
       "      <th>V18</th>\n",
       "      <th>V19</th>\n",
       "      <th>V20</th>\n",
       "      <th>V21</th>\n",
       "      <th>V22</th>\n",
       "      <th>V23</th>\n",
       "      <th>V24</th>\n",
       "      <th>V25</th>\n",
       "      <th>V26</th>\n",
       "      <th>V27</th>\n",
       "      <th>V28</th>\n",
       "      <th>Amount</th>\n",
       "      <th>Class</th>\n",
       "      <th>scaled_amount</th>\n",
       "      <th>scaled_time</th>\n",
       "    </tr>\n",
       "  </thead>\n",
       "  <tbody>\n",
       "    <tr>\n",
       "      <th>0</th>\n",
       "      <td>154078.0</td>\n",
       "      <td>0.046622</td>\n",
       "      <td>1.529678</td>\n",
       "      <td>-0.453615</td>\n",
       "      <td>1.282569</td>\n",
       "      <td>1.110333</td>\n",
       "      <td>-0.882716</td>\n",
       "      <td>1.04642</td>\n",
       "      <td>-0.117121</td>\n",
       "      <td>-0.679897</td>\n",
       "      <td>-0.923709</td>\n",
       "      <td>0.371519</td>\n",
       "      <td>-0.000047</td>\n",
       "      <td>0.512255</td>\n",
       "      <td>-2.091762</td>\n",
       "      <td>0.786796</td>\n",
       "      <td>0.159652</td>\n",
       "      <td>1.706939</td>\n",
       "      <td>0.458922</td>\n",
       "      <td>0.037665</td>\n",
       "      <td>0.240559</td>\n",
       "      <td>-0.338472</td>\n",
       "      <td>-0.839547</td>\n",
       "      <td>0.066527</td>\n",
       "      <td>0.836447</td>\n",
       "      <td>0.076790</td>\n",
       "      <td>-0.775158</td>\n",
       "      <td>0.261012</td>\n",
       "      <td>0.058359</td>\n",
       "      <td>18.70</td>\n",
       "      <td>-0.046112</td>\n",
       "      <td>0.815165</td>\n",
       "      <td>0.0</td>\n",
       "    </tr>\n",
       "    <tr>\n",
       "      <th>1</th>\n",
       "      <td>114332.0</td>\n",
       "      <td>0.145870</td>\n",
       "      <td>0.107484</td>\n",
       "      <td>0.755127</td>\n",
       "      <td>-0.995936</td>\n",
       "      <td>1.159107</td>\n",
       "      <td>2.113961</td>\n",
       "      <td>0.03620</td>\n",
       "      <td>0.471777</td>\n",
       "      <td>0.627622</td>\n",
       "      <td>-0.598398</td>\n",
       "      <td>0.713816</td>\n",
       "      <td>1.091294</td>\n",
       "      <td>0.663878</td>\n",
       "      <td>-0.448057</td>\n",
       "      <td>0.146422</td>\n",
       "      <td>-0.445603</td>\n",
       "      <td>-0.462439</td>\n",
       "      <td>-0.373996</td>\n",
       "      <td>-0.966334</td>\n",
       "      <td>-0.107332</td>\n",
       "      <td>0.297644</td>\n",
       "      <td>1.285809</td>\n",
       "      <td>-0.140560</td>\n",
       "      <td>-0.910706</td>\n",
       "      <td>-0.449729</td>\n",
       "      <td>-0.235203</td>\n",
       "      <td>-0.036910</td>\n",
       "      <td>-0.227111</td>\n",
       "      <td>9.99</td>\n",
       "      <td>-0.167819</td>\n",
       "      <td>0.348218</td>\n",
       "      <td>0.0</td>\n",
       "    </tr>\n",
       "  </tbody>\n",
       "</table>\n",
       "</div>"
      ],
      "text/plain": [
       "       Time        V1        V2        V3        V4        V5        V6  \\\n",
       "0  154078.0  0.046622  1.529678 -0.453615  1.282569  1.110333 -0.882716   \n",
       "1  114332.0  0.145870  0.107484  0.755127 -0.995936  1.159107  2.113961   \n",
       "\n",
       "        V7        V8        V9       V10       V11       V12       V13  \\\n",
       "0  1.04642 -0.117121 -0.679897 -0.923709  0.371519 -0.000047  0.512255   \n",
       "1  0.03620  0.471777  0.627622 -0.598398  0.713816  1.091294  0.663878   \n",
       "\n",
       "        V14       V15       V16       V17       V18       V19       V20  \\\n",
       "0 -2.091762  0.786796  0.159652  1.706939  0.458922  0.037665  0.240559   \n",
       "1 -0.448057  0.146422 -0.445603 -0.462439 -0.373996 -0.966334 -0.107332   \n",
       "\n",
       "        V21       V22       V23       V24       V25       V26       V27  \\\n",
       "0 -0.338472 -0.839547  0.066527  0.836447  0.076790 -0.775158  0.261012   \n",
       "1  0.297644  1.285809 -0.140560 -0.910706 -0.449729 -0.235203 -0.036910   \n",
       "\n",
       "        V28  Amount     Class  scaled_amount  scaled_time  \n",
       "0  0.058359   18.70 -0.046112       0.815165          0.0  \n",
       "1 -0.227111    9.99 -0.167819       0.348218          0.0  "
      ]
     },
     "execution_count": 66,
     "metadata": {},
     "output_type": "execute_result"
    }
   ],
   "source": [
    "df_test = pd.DataFrame(np.c_[Xtest,ytest],columns=columns)\n",
    "print(df_test.shape)\n",
    "df_test.head(2)"
   ]
  },
  {
   "cell_type": "code",
   "execution_count": 1,
   "metadata": {
    "ExecuteTime": {
     "end_time": "2019-10-17T14:07:15.369512Z",
     "start_time": "2019-10-17T14:07:15.366491Z"
    }
   },
   "outputs": [],
   "source": [
    "# pd.concat([x[target].value_counts(normalize=True) for x in [df,df_train,df_test]])\n",
    "# df, train and test have similar target distribution."
   ]
  },
  {
   "cell_type": "code",
   "execution_count": 40,
   "metadata": {
    "ExecuteTime": {
     "end_time": "2019-10-13T21:33:48.855533Z",
     "start_time": "2019-10-13T21:33:48.790778Z"
    }
   },
   "outputs": [
    {
     "name": "stdout",
     "output_type": "stream",
     "text": [
      "Balanced shape: (984, 33)\n",
      "Balanced train shape: (787, 32)\n",
      "Balanced test shape: (197, 32)\n"
     ]
    }
   ],
   "source": [
    "Xtrain_under,Xtest_under,ytrain_under,ytest_under = \\\n",
    "  train_test_split(df_balanced.drop(target,axis=1),\n",
    "                   df_balanced[target],\n",
    "                   test_size=0.2,\n",
    "                   stratify=df_balanced[target],\n",
    "                   random_state=random_state)\n",
    "\n",
    "\n",
    "columns= df_balanced.columns.difference([target]).tolist() + [target]\n",
    "train_bal = pd.DataFrame(np.c_[Xtrain_bal,ytrain_bal], columns=columns)\n",
    "test_bal = pd.DataFrame(np.c_[Xtest_bal,ytest_bal],columns=columns)\n",
    "\n",
    "print('Balanced shape:', df_balanced.shape)\n",
    "print('Balanced train shape:', Xtrain_bal.shape)\n",
    "print('Balanced test shape:', Xtest_bal.shape)"
   ]
  },
  {
   "cell_type": "markdown",
   "metadata": {},
   "source": [
    "## Check for nans before modelling"
   ]
  },
  {
   "cell_type": "code",
   "execution_count": 41,
   "metadata": {
    "ExecuteTime": {
     "end_time": "2019-10-13T21:33:52.363359Z",
     "start_time": "2019-10-13T21:33:52.254317Z"
    }
   },
   "outputs": [
    {
     "data": {
      "text/plain": [
       "0"
      ]
     },
     "execution_count": 41,
     "metadata": {},
     "output_type": "execute_result"
    }
   ],
   "source": [
    "df.isnull().sum().sum()"
   ]
  },
  {
   "cell_type": "code",
   "execution_count": 42,
   "metadata": {
    "ExecuteTime": {
     "end_time": "2019-10-13T21:33:53.092748Z",
     "start_time": "2019-10-13T21:33:53.006609Z"
    }
   },
   "outputs": [
    {
     "data": {
      "text/plain": [
       "0"
      ]
     },
     "execution_count": 42,
     "metadata": {},
     "output_type": "execute_result"
    }
   ],
   "source": [
    "df_balanced.isnull().sum().sum()"
   ]
  },
  {
   "cell_type": "code",
   "execution_count": 43,
   "metadata": {
    "ExecuteTime": {
     "end_time": "2019-10-13T21:33:53.883866Z",
     "start_time": "2019-10-13T21:33:53.822420Z"
    }
   },
   "outputs": [
    {
     "data": {
      "text/plain": [
       "Index(['Time', 'V1', 'V2', 'V3', 'V4', 'V5', 'V6', 'V7', 'V8', 'V9', 'V10',\n",
       "       'V11', 'V12', 'V13', 'V14', 'V15', 'V16', 'V17', 'V18', 'V19', 'V20',\n",
       "       'V21', 'V22', 'V23', 'V24', 'V25', 'V26', 'V27', 'V28', 'Amount',\n",
       "       'Class', 'scaled_amount', 'scaled_time'],\n",
       "      dtype='object')"
      ]
     },
     "execution_count": 43,
     "metadata": {},
     "output_type": "execute_result"
    }
   ],
   "source": [
    "df_balanced.columns"
   ]
  },
  {
   "cell_type": "markdown",
   "metadata": {},
   "source": [
    "# Modelling"
   ]
  },
  {
   "cell_type": "code",
   "execution_count": 44,
   "metadata": {},
   "outputs": [],
   "source": [
    "import keras\n",
    "from keras import backend as K\n",
    "from keras.models import Sequential\n",
    "from keras.layers import Activation\n",
    "from keras.layers.core import Dense\n",
    "from keras.optimizers import Adam\n",
    "from keras.metrics import categorical_crossentropy"
   ]
  },
  {
   "cell_type": "markdown",
   "metadata": {},
   "source": [
    "## Deep Learning Imbalanced Data"
   ]
  },
  {
   "cell_type": "code",
   "execution_count": 47,
   "metadata": {},
   "outputs": [],
   "source": [
    "n_inputs = Xtrain.shape[1]\n",
    "\n",
    "clf_imb = Sequential([\n",
    "    Dense(n_inputs, input_shape=(n_inputs, ), activation='relu'),\n",
    "    Dense(32, activation='relu'),\n",
    "    Dense(2, activation='softmax')\n",
    "])"
   ]
  },
  {
   "cell_type": "code",
   "execution_count": 52,
   "metadata": {},
   "outputs": [
    {
     "ename": "NameError",
     "evalue": "name 'show_method_attributes' is not defined",
     "output_type": "error",
     "traceback": [
      "\u001b[0;31m---------------------------------------------------------------------------\u001b[0m",
      "\u001b[0;31mNameError\u001b[0m                                 Traceback (most recent call last)",
      "\u001b[0;32m<ipython-input-52-e35b28d0f946>\u001b[0m in \u001b[0;36m<module>\u001b[0;34m\u001b[0m\n\u001b[0;32m----> 1\u001b[0;31m \u001b[0mshow_method_attributes\u001b[0m\u001b[0;34m(\u001b[0m\u001b[0mclf_imb\u001b[0m\u001b[0;34m)\u001b[0m\u001b[0;34m\u001b[0m\u001b[0m\n\u001b[0m",
      "\u001b[0;31mNameError\u001b[0m: name 'show_method_attributes' is not defined"
     ]
    }
   ],
   "source": [
    "show_method_attributes(clf_imb)"
   ]
  },
  {
   "cell_type": "code",
   "execution_count": 48,
   "metadata": {},
   "outputs": [
    {
     "name": "stdout",
     "output_type": "stream",
     "text": [
      "_________________________________________________________________\n",
      "Layer (type)                 Output Shape              Param #   \n",
      "=================================================================\n",
      "dense_4 (Dense)              (None, 32)                1056      \n",
      "_________________________________________________________________\n",
      "dense_5 (Dense)              (None, 32)                1056      \n",
      "_________________________________________________________________\n",
      "dense_6 (Dense)              (None, 2)                 66        \n",
      "=================================================================\n",
      "Total params: 2,178\n",
      "Trainable params: 2,178\n",
      "Non-trainable params: 0\n",
      "_________________________________________________________________\n"
     ]
    }
   ],
   "source": [
    "clf_imb.summary()"
   ]
  },
  {
   "cell_type": "code",
   "execution_count": 49,
   "metadata": {},
   "outputs": [],
   "source": [
    "clf_imb.compile(Adam(lr=0.001),\n",
    "                loss='sparse_categorical_crossentropy',\n",
    "                metrics=['accuracy'])"
   ]
  },
  {
   "cell_type": "code",
   "execution_count": 51,
   "metadata": {},
   "outputs": [
    {
     "name": "stdout",
     "output_type": "stream",
     "text": [
      "Train on 182276 samples, validate on 45569 samples\n",
      "Epoch 1/20\n",
      " - 14s - loss: 0.2938 - acc: 0.9818 - val_loss: 0.0269 - val_acc: 0.9983\n",
      "Epoch 2/20\n",
      " - 6s - loss: 0.0281 - acc: 0.9983 - val_loss: 0.0269 - val_acc: 0.9983\n",
      "Epoch 3/20\n",
      " - 7s - loss: 0.0281 - acc: 0.9983 - val_loss: 0.0269 - val_acc: 0.9983\n",
      "Epoch 4/20\n",
      " - 6s - loss: 0.0281 - acc: 0.9983 - val_loss: 0.0269 - val_acc: 0.9983\n",
      "Epoch 5/20\n",
      " - 6s - loss: 0.0281 - acc: 0.9983 - val_loss: 0.0269 - val_acc: 0.9983\n",
      "Epoch 6/20\n",
      " - 6s - loss: 0.0281 - acc: 0.9983 - val_loss: 0.0269 - val_acc: 0.9983\n",
      "Epoch 7/20\n",
      " - 7s - loss: 0.0281 - acc: 0.9983 - val_loss: 0.0269 - val_acc: 0.9983\n",
      "Epoch 8/20\n",
      " - 6s - loss: 0.0281 - acc: 0.9983 - val_loss: 0.0269 - val_acc: 0.9983\n",
      "Epoch 9/20\n",
      " - 7s - loss: 0.0281 - acc: 0.9983 - val_loss: 0.0269 - val_acc: 0.9983\n",
      "Epoch 10/20\n",
      " - 7s - loss: 0.0281 - acc: 0.9983 - val_loss: 0.0269 - val_acc: 0.9983\n",
      "Epoch 11/20\n",
      " - 7s - loss: 0.0281 - acc: 0.9983 - val_loss: 0.0269 - val_acc: 0.9983\n",
      "Epoch 12/20\n",
      " - 6s - loss: 0.0281 - acc: 0.9983 - val_loss: 0.0269 - val_acc: 0.9983\n",
      "Epoch 13/20\n",
      " - 6s - loss: 0.0281 - acc: 0.9983 - val_loss: 0.0269 - val_acc: 0.9983\n",
      "Epoch 14/20\n",
      " - 6s - loss: 0.0281 - acc: 0.9983 - val_loss: 0.0269 - val_acc: 0.9983\n",
      "Epoch 15/20\n",
      " - 7s - loss: 0.0281 - acc: 0.9983 - val_loss: 0.0269 - val_acc: 0.9983\n",
      "Epoch 16/20\n",
      " - 6s - loss: 0.0281 - acc: 0.9983 - val_loss: 0.0269 - val_acc: 0.9983\n",
      "Epoch 17/20\n",
      " - 6s - loss: 0.0281 - acc: 0.9983 - val_loss: 0.0269 - val_acc: 0.9983\n",
      "Epoch 18/20\n",
      " - 6s - loss: 0.0281 - acc: 0.9983 - val_loss: 0.0269 - val_acc: 0.9983\n",
      "Epoch 19/20\n",
      " - 6s - loss: 0.0281 - acc: 0.9983 - val_loss: 0.0269 - val_acc: 0.9983\n",
      "Epoch 20/20\n",
      " - 6s - loss: 0.0281 - acc: 0.9983 - val_loss: 0.0269 - val_acc: 0.9983\n"
     ]
    },
    {
     "data": {
      "text/plain": [
       "<keras.callbacks.History at 0x131e58550>"
      ]
     },
     "execution_count": 51,
     "metadata": {},
     "output_type": "execute_result"
    }
   ],
   "source": [
    "clf_imb.fit(Xtrain, ytrain,\n",
    "            validation_split=0.2,\n",
    "            batch_size=25,\n",
    "            epochs=20,\n",
    "            shuffle=True,\n",
    "            verbose=2)"
   ]
  },
  {
   "cell_type": "code",
   "execution_count": 53,
   "metadata": {},
   "outputs": [],
   "source": [
    "ypreds = clf_imb.predict(Xtest, batch_size=200, verbose=0)"
   ]
  },
  {
   "cell_type": "code",
   "execution_count": 58,
   "metadata": {},
   "outputs": [],
   "source": [
    "ypreds_imb = clf_imb.predict_classes(Xtest, batch_size=200, verbose=0)"
   ]
  },
  {
   "cell_type": "code",
   "execution_count": 59,
   "metadata": {},
   "outputs": [
    {
     "data": {
      "text/plain": [
       "array([0, 0, 0, ..., 0, 0, 0])"
      ]
     },
     "execution_count": 59,
     "metadata": {},
     "output_type": "execute_result"
    }
   ],
   "source": [
    "ypreds_imb"
   ]
  },
  {
   "cell_type": "code",
   "execution_count": 60,
   "metadata": {},
   "outputs": [
    {
     "data": {
      "text/plain": [
       "array([[56864,     0],\n",
       "       [   98,     0]])"
      ]
     },
     "execution_count": 60,
     "metadata": {},
     "output_type": "execute_result"
    }
   ],
   "source": [
    "confusion_matrix(ytest, ypreds_imb)"
   ]
  },
  {
   "cell_type": "code",
   "execution_count": 61,
   "metadata": {},
   "outputs": [
    {
     "name": "stdout",
     "output_type": "stream",
     "text": [
      "              precision    recall  f1-score   support\n",
      "\n",
      "           0       1.00      1.00      1.00     56864\n",
      "           1       0.00      0.00      0.00        98\n",
      "\n",
      "    accuracy                           1.00     56962\n",
      "   macro avg       0.50      0.50      0.50     56962\n",
      "weighted avg       1.00      1.00      1.00     56962\n",
      "\n"
     ]
    },
    {
     "name": "stderr",
     "output_type": "stream",
     "text": [
      "/Users/poudel/Library/Enthought/Canopy/edm/envs/deeplr/lib/python3.6/site-packages/sklearn/metrics/classification.py:1437: UndefinedMetricWarning: Precision and F-score are ill-defined and being set to 0.0 in labels with no predicted samples.\n",
      "  'precision', 'predicted', average, warn_for)\n"
     ]
    }
   ],
   "source": [
    "report = classification_report(ytest, ypreds_imb)\n",
    "print(report)"
   ]
  },
  {
   "cell_type": "markdown",
   "metadata": {},
   "source": [
    "## Deep Learning Undersampled Data"
   ]
  }
 ],
 "metadata": {
  "kernelspec": {
   "display_name": "Python3.7 (tensorflow)",
   "language": "python",
   "name": "tf"
  },
  "language_info": {
   "codemirror_mode": {
    "name": "ipython",
    "version": 3
   },
   "file_extension": ".py",
   "mimetype": "text/x-python",
   "name": "python",
   "nbconvert_exporter": "python",
   "pygments_lexer": "ipython3",
   "version": "3.6.8"
  },
  "toc": {
   "base_numbering": 1,
   "nav_menu": {},
   "number_sections": true,
   "sideBar": true,
   "skip_h1_title": false,
   "title_cell": "Table of Contents",
   "title_sidebar": "Contents",
   "toc_cell": true,
   "toc_position": {},
   "toc_section_display": true,
   "toc_window_display": true
  }
 },
 "nbformat": 4,
 "nbformat_minor": 2
}
