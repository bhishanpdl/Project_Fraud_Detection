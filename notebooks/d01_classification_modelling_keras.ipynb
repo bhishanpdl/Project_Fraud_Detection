{
 "cells": [
  {
   "cell_type": "markdown",
   "metadata": {
    "toc": "true"
   },
   "source": [
    "<h1>Table of Contents<span class=\"tocSkip\"></span></h1>\n",
    "<div class=\"toc\"><ul class=\"toc-item\"><li><span><a href=\"#Data-Description\" data-toc-modified-id=\"Data-Description-1\"><span class=\"toc-item-num\">1&nbsp;&nbsp;</span>Data Description</a></span></li><li><span><a href=\"#Imports\" data-toc-modified-id=\"Imports-2\"><span class=\"toc-item-num\">2&nbsp;&nbsp;</span>Imports</a></span></li><li><span><a href=\"#Useful-Scripts\" data-toc-modified-id=\"Useful-Scripts-3\"><span class=\"toc-item-num\">3&nbsp;&nbsp;</span>Useful Scripts</a></span></li><li><span><a href=\"#Load-the-data\" data-toc-modified-id=\"Load-the-data-4\"><span class=\"toc-item-num\">4&nbsp;&nbsp;</span>Load the data</a></span></li><li><span><a href=\"#Preprocessing\" data-toc-modified-id=\"Preprocessing-5\"><span class=\"toc-item-num\">5&nbsp;&nbsp;</span>Preprocessing</a></span><ul class=\"toc-item\"><li><span><a href=\"#Scaling\" data-toc-modified-id=\"Scaling-5.1\"><span class=\"toc-item-num\">5.1&nbsp;&nbsp;</span>Scaling</a></span></li><li><span><a href=\"#Random-Under-Sampling\" data-toc-modified-id=\"Random-Under-Sampling-5.2\"><span class=\"toc-item-num\">5.2&nbsp;&nbsp;</span>Random Under Sampling</a></span></li><li><span><a href=\"#Train-test-split-with-stratify\" data-toc-modified-id=\"Train-test-split-with-stratify-5.3\"><span class=\"toc-item-num\">5.3&nbsp;&nbsp;</span>Train test split with stratify</a></span></li><li><span><a href=\"#Check-for-nans-before-modelling\" data-toc-modified-id=\"Check-for-nans-before-modelling-5.4\"><span class=\"toc-item-num\">5.4&nbsp;&nbsp;</span>Check for nans before modelling</a></span></li></ul></li><li><span><a href=\"#Modelling\" data-toc-modified-id=\"Modelling-6\"><span class=\"toc-item-num\">6&nbsp;&nbsp;</span>Modelling</a></span><ul class=\"toc-item\"><li><span><a href=\"#Deep-Learning-Imbalanced-Data\" data-toc-modified-id=\"Deep-Learning-Imbalanced-Data-6.1\"><span class=\"toc-item-num\">6.1&nbsp;&nbsp;</span>Deep Learning Imbalanced Data</a></span></li><li><span><a href=\"#Deep-Learning-Undersampled-Data\" data-toc-modified-id=\"Deep-Learning-Undersampled-Data-6.2\"><span class=\"toc-item-num\">6.2&nbsp;&nbsp;</span>Deep Learning Undersampled Data</a></span></li></ul></li></ul></div>"
   ]
  },
  {
   "cell_type": "markdown",
   "metadata": {},
   "source": [
    "# Data Description\n",
    "\n",
    "> The datasets contains transactions made by credit cards in September\n",
    "2013 by european cardholders.\n",
    "\n",
    "\n",
    "> This dataset presents transactions that occurred in two days,\n",
    "where we have 492 frauds out of 284,807 transactions. \n",
    "\n",
    "> The dataset is highly unbalanced, the positive class (frauds)\n",
    "account for 0.172% of all transactions.\n",
    "\n",
    "> It contains only numerical input variables which are\n",
    "the result of a PCA transformation.\n",
    "\n",
    "\n",
    "> Unfortunately, due to confidentiality issues,\n",
    "we cannot provide the original features and \n",
    "more background information about the data.\n",
    "\n",
    "\n",
    "> Features V1, V2, ... V28 are the principal\n",
    "components obtained with PCA,\n",
    "the only features which have not been transformed with PCA are 'Time' and 'Amount'. \n",
    "\n",
    "> Feature 'Time' contains the seconds elapsed between each transaction\n",
    "and the first transaction in the dataset. The feature 'Amount'\n",
    "is the transaction Amount, this feature can be used for \n",
    "example-dependant cost-senstive learning. \n",
    "\n",
    "> Feature 'Class' is the response variable and it takes value\n",
    "1 in case of fraud and 0 otherwise.\n",
    "\n",
    "\n",
    "<div class=\"alert alert-block alert-success\">\n",
    "<b>Business Problem:</b>  <br>\n",
    "Task &nbsp;&nbsp; : Detect the fraudulent activities. <br>\n",
    "Metric : Recall\n",
    "</div>\n",
    "\n",
    "Remember that `Recall = TP / (TP + FN)`. In case of fraud detection,\n",
    "classifying a fraud as\n",
    "non-fraud (FN) is more risky so we use the metric `recall` to compare the \n",
    "performances of the models. Higher the recall, better is the model."
   ]
  },
  {
   "cell_type": "markdown",
   "metadata": {},
   "source": [
    "# Imports"
   ]
  },
  {
   "cell_type": "code",
   "execution_count": 1,
   "metadata": {
    "ExecuteTime": {
     "end_time": "2019-10-20T20:30:09.441515Z",
     "start_time": "2019-10-20T20:30:09.436690Z"
    }
   },
   "outputs": [],
   "source": [
    "import bhishan"
   ]
  },
  {
   "cell_type": "code",
   "execution_count": 2,
   "metadata": {
    "ExecuteTime": {
     "end_time": "2019-10-20T20:30:09.481896Z",
     "start_time": "2019-10-20T20:30:09.446865Z"
    }
   },
   "outputs": [],
   "source": [
    "%load_ext autoreload\n",
    "\n",
    "%autoreload 2"
   ]
  },
  {
   "cell_type": "code",
   "execution_count": 3,
   "metadata": {
    "ExecuteTime": {
     "end_time": "2019-10-20T20:30:11.122636Z",
     "start_time": "2019-10-20T20:30:09.484321Z"
    }
   },
   "outputs": [
    {
     "name": "stdout",
     "output_type": "stream",
     "text": [
      "[('numpy', '1.15.4'), ('pandas', '0.23.4'), ('seaborn', '0.9.0'), ('matplotlib', '2.2.3')]\n"
     ]
    }
   ],
   "source": [
    "import numpy as np\n",
    "import pandas as pd\n",
    "import seaborn as sns\n",
    "sns.set(color_codes=True)\n",
    "\n",
    "import matplotlib\n",
    "import matplotlib.pyplot as plt\n",
    "%matplotlib inline\n",
    "\n",
    "import os\n",
    "import time\n",
    "\n",
    "# random state\n",
    "random_state=100\n",
    "np.random.seed(random_state) # we need this in each cell\n",
    "np.random.set_state=random_state\n",
    "\n",
    "# Jupyter notebook settings for pandas\n",
    "pd.set_option('display.max_columns', 200)\n",
    "pd.set_option('display.max_rows', 100) # None for all the rows\n",
    "pd.set_option('display.max_colwidth', 50)\n",
    "\n",
    "print([(x.__name__,x.__version__) for x in [np, pd,sns,matplotlib]])"
   ]
  },
  {
   "cell_type": "code",
   "execution_count": 4,
   "metadata": {
    "ExecuteTime": {
     "end_time": "2019-10-20T20:30:11.156497Z",
     "start_time": "2019-10-20T20:30:11.124957Z"
    }
   },
   "outputs": [],
   "source": [
    "import scipy\n",
    "from scipy import stats"
   ]
  },
  {
   "cell_type": "code",
   "execution_count": 5,
   "metadata": {
    "ExecuteTime": {
     "end_time": "2019-10-20T20:30:11.344831Z",
     "start_time": "2019-10-20T20:30:11.157989Z"
    }
   },
   "outputs": [],
   "source": [
    "# scale and split\n",
    "from sklearn.preprocessing import MinMaxScaler, StandardScaler, RobustScaler\n",
    "from sklearn.model_selection import train_test_split\n",
    "from sklearn.model_selection import StratifiedKFold"
   ]
  },
  {
   "cell_type": "code",
   "execution_count": 6,
   "metadata": {
    "ExecuteTime": {
     "end_time": "2019-10-20T20:30:11.492287Z",
     "start_time": "2019-10-20T20:30:11.348248Z"
    }
   },
   "outputs": [],
   "source": [
    "# classifiers\n",
    "from sklearn.ensemble import IsolationForest\n",
    "from sklearn.neighbors import LocalOutlierFactor\n",
    "from sklearn.svm import OneClassSVM"
   ]
  },
  {
   "cell_type": "code",
   "execution_count": 7,
   "metadata": {
    "ExecuteTime": {
     "end_time": "2019-10-20T20:30:11.522038Z",
     "start_time": "2019-10-20T20:30:11.494441Z"
    }
   },
   "outputs": [],
   "source": [
    "# roc auc etc scores\n",
    "from sklearn.metrics import auc\n",
    "from sklearn.metrics import roc_auc_score\n",
    "from sklearn.metrics import precision_score\n",
    "from sklearn.metrics import recall_score\n",
    "from sklearn.metrics import f1_score\n",
    "from sklearn.metrics import accuracy_score\n",
    "from sklearn.metrics import average_precision_score"
   ]
  },
  {
   "cell_type": "code",
   "execution_count": 8,
   "metadata": {
    "ExecuteTime": {
     "end_time": "2019-10-20T20:30:11.551810Z",
     "start_time": "2019-10-20T20:30:11.524080Z"
    }
   },
   "outputs": [],
   "source": [
    "# roc auc curves\n",
    "from sklearn.metrics import roc_curve\n",
    "from sklearn.metrics import precision_recall_curve"
   ]
  },
  {
   "cell_type": "code",
   "execution_count": 9,
   "metadata": {
    "ExecuteTime": {
     "end_time": "2019-10-20T20:30:11.586274Z",
     "start_time": "2019-10-20T20:30:11.553902Z"
    }
   },
   "outputs": [],
   "source": [
    "# confusion matrix\n",
    "from sklearn.metrics import classification_report\n",
    "from sklearn.metrics import confusion_matrix"
   ]
  },
  {
   "cell_type": "code",
   "execution_count": 10,
   "metadata": {
    "ExecuteTime": {
     "end_time": "2019-10-20T20:30:11.626661Z",
     "start_time": "2019-10-20T20:30:11.588458Z"
    }
   },
   "outputs": [],
   "source": [
    "from sklearn.metrics import accuracy_score\n",
    "from sklearn.metrics import precision_score\n",
    "from sklearn.metrics import recall_score\n",
    "from sklearn.metrics import f1_score\n",
    "from sklearn.metrics import precision_recall_fscore_support\n",
    "from sklearn.metrics import classification_report\n",
    "from sklearn.metrics import confusion_matrix"
   ]
  },
  {
   "cell_type": "code",
   "execution_count": 11,
   "metadata": {
    "ExecuteTime": {
     "end_time": "2019-10-20T20:30:14.624879Z",
     "start_time": "2019-10-20T20:30:11.628679Z"
    }
   },
   "outputs": [
    {
     "name": "stderr",
     "output_type": "stream",
     "text": [
      "Using TensorFlow backend.\n"
     ]
    }
   ],
   "source": [
    "import keras\n",
    "from keras import backend as K\n",
    "from keras.models import Sequential\n",
    "from keras.layers import Activation\n",
    "from keras.layers.core import Dense\n",
    "from keras.optimizers import Adam\n",
    "from keras.metrics import categorical_crossentropy"
   ]
  },
  {
   "cell_type": "markdown",
   "metadata": {},
   "source": [
    "# Useful Scripts"
   ]
  },
  {
   "cell_type": "code",
   "execution_count": 12,
   "metadata": {
    "ExecuteTime": {
     "end_time": "2019-10-20T20:30:14.680789Z",
     "start_time": "2019-10-20T20:30:14.627295Z"
    }
   },
   "outputs": [],
   "source": [
    "def show_method_attributes(method, ncols=7):\n",
    "    \"\"\" Show all the attributes of a given method.\n",
    "    Example:\n",
    "    ========\n",
    "    show_method_attributes(list)\n",
    "     \"\"\"\n",
    "    x = [i for i in dir(method) if i[0]!='_' ]\n",
    "    x = [i for i in x \n",
    "         if i not in 'os np pd sys time psycopg2'.split() ]\n",
    "             \n",
    "\n",
    "    return pd.DataFrame(np.array_split(x,ncols)).T.fillna('')"
   ]
  },
  {
   "cell_type": "markdown",
   "metadata": {},
   "source": [
    "# Load the data"
   ]
  },
  {
   "cell_type": "code",
   "execution_count": 13,
   "metadata": {
    "ExecuteTime": {
     "end_time": "2019-10-20T20:30:17.571938Z",
     "start_time": "2019-10-20T20:30:14.683278Z"
    }
   },
   "outputs": [
    {
     "name": "stdout",
     "output_type": "stream",
     "text": [
      "(284807, 31)\n"
     ]
    },
    {
     "data": {
      "text/html": [
       "<div>\n",
       "<style scoped>\n",
       "    .dataframe tbody tr th:only-of-type {\n",
       "        vertical-align: middle;\n",
       "    }\n",
       "\n",
       "    .dataframe tbody tr th {\n",
       "        vertical-align: top;\n",
       "    }\n",
       "\n",
       "    .dataframe thead th {\n",
       "        text-align: right;\n",
       "    }\n",
       "</style>\n",
       "<table border=\"1\" class=\"dataframe\">\n",
       "  <thead>\n",
       "    <tr style=\"text-align: right;\">\n",
       "      <th></th>\n",
       "      <th>Time</th>\n",
       "      <th>V1</th>\n",
       "      <th>V2</th>\n",
       "      <th>V3</th>\n",
       "      <th>V4</th>\n",
       "      <th>V5</th>\n",
       "      <th>V6</th>\n",
       "      <th>V7</th>\n",
       "      <th>V8</th>\n",
       "      <th>V9</th>\n",
       "      <th>V10</th>\n",
       "      <th>V11</th>\n",
       "      <th>V12</th>\n",
       "      <th>V13</th>\n",
       "      <th>V14</th>\n",
       "      <th>V15</th>\n",
       "      <th>V16</th>\n",
       "      <th>V17</th>\n",
       "      <th>V18</th>\n",
       "      <th>V19</th>\n",
       "      <th>V20</th>\n",
       "      <th>V21</th>\n",
       "      <th>V22</th>\n",
       "      <th>V23</th>\n",
       "      <th>V24</th>\n",
       "      <th>V25</th>\n",
       "      <th>V26</th>\n",
       "      <th>V27</th>\n",
       "      <th>V28</th>\n",
       "      <th>Amount</th>\n",
       "      <th>Class</th>\n",
       "    </tr>\n",
       "  </thead>\n",
       "  <tbody>\n",
       "    <tr>\n",
       "      <th>0</th>\n",
       "      <td>0.0</td>\n",
       "      <td>-1.359807</td>\n",
       "      <td>-0.072781</td>\n",
       "      <td>2.536347</td>\n",
       "      <td>1.378155</td>\n",
       "      <td>-0.338321</td>\n",
       "      <td>0.462388</td>\n",
       "      <td>0.239599</td>\n",
       "      <td>0.098698</td>\n",
       "      <td>0.363787</td>\n",
       "      <td>0.090794</td>\n",
       "      <td>-0.551600</td>\n",
       "      <td>-0.617801</td>\n",
       "      <td>-0.991390</td>\n",
       "      <td>-0.311169</td>\n",
       "      <td>1.468177</td>\n",
       "      <td>-0.470401</td>\n",
       "      <td>0.207971</td>\n",
       "      <td>0.025791</td>\n",
       "      <td>0.403993</td>\n",
       "      <td>0.251412</td>\n",
       "      <td>-0.018307</td>\n",
       "      <td>0.277838</td>\n",
       "      <td>-0.110474</td>\n",
       "      <td>0.066928</td>\n",
       "      <td>0.128539</td>\n",
       "      <td>-0.189115</td>\n",
       "      <td>0.133558</td>\n",
       "      <td>-0.021053</td>\n",
       "      <td>149.62</td>\n",
       "      <td>0</td>\n",
       "    </tr>\n",
       "    <tr>\n",
       "      <th>1</th>\n",
       "      <td>0.0</td>\n",
       "      <td>1.191857</td>\n",
       "      <td>0.266151</td>\n",
       "      <td>0.166480</td>\n",
       "      <td>0.448154</td>\n",
       "      <td>0.060018</td>\n",
       "      <td>-0.082361</td>\n",
       "      <td>-0.078803</td>\n",
       "      <td>0.085102</td>\n",
       "      <td>-0.255425</td>\n",
       "      <td>-0.166974</td>\n",
       "      <td>1.612727</td>\n",
       "      <td>1.065235</td>\n",
       "      <td>0.489095</td>\n",
       "      <td>-0.143772</td>\n",
       "      <td>0.635558</td>\n",
       "      <td>0.463917</td>\n",
       "      <td>-0.114805</td>\n",
       "      <td>-0.183361</td>\n",
       "      <td>-0.145783</td>\n",
       "      <td>-0.069083</td>\n",
       "      <td>-0.225775</td>\n",
       "      <td>-0.638672</td>\n",
       "      <td>0.101288</td>\n",
       "      <td>-0.339846</td>\n",
       "      <td>0.167170</td>\n",
       "      <td>0.125895</td>\n",
       "      <td>-0.008983</td>\n",
       "      <td>0.014724</td>\n",
       "      <td>2.69</td>\n",
       "      <td>0</td>\n",
       "    </tr>\n",
       "    <tr>\n",
       "      <th>2</th>\n",
       "      <td>1.0</td>\n",
       "      <td>-1.358354</td>\n",
       "      <td>-1.340163</td>\n",
       "      <td>1.773209</td>\n",
       "      <td>0.379780</td>\n",
       "      <td>-0.503198</td>\n",
       "      <td>1.800499</td>\n",
       "      <td>0.791461</td>\n",
       "      <td>0.247676</td>\n",
       "      <td>-1.514654</td>\n",
       "      <td>0.207643</td>\n",
       "      <td>0.624501</td>\n",
       "      <td>0.066084</td>\n",
       "      <td>0.717293</td>\n",
       "      <td>-0.165946</td>\n",
       "      <td>2.345865</td>\n",
       "      <td>-2.890083</td>\n",
       "      <td>1.109969</td>\n",
       "      <td>-0.121359</td>\n",
       "      <td>-2.261857</td>\n",
       "      <td>0.524980</td>\n",
       "      <td>0.247998</td>\n",
       "      <td>0.771679</td>\n",
       "      <td>0.909412</td>\n",
       "      <td>-0.689281</td>\n",
       "      <td>-0.327642</td>\n",
       "      <td>-0.139097</td>\n",
       "      <td>-0.055353</td>\n",
       "      <td>-0.059752</td>\n",
       "      <td>378.66</td>\n",
       "      <td>0</td>\n",
       "    </tr>\n",
       "    <tr>\n",
       "      <th>3</th>\n",
       "      <td>1.0</td>\n",
       "      <td>-0.966272</td>\n",
       "      <td>-0.185226</td>\n",
       "      <td>1.792993</td>\n",
       "      <td>-0.863291</td>\n",
       "      <td>-0.010309</td>\n",
       "      <td>1.247203</td>\n",
       "      <td>0.237609</td>\n",
       "      <td>0.377436</td>\n",
       "      <td>-1.387024</td>\n",
       "      <td>-0.054952</td>\n",
       "      <td>-0.226487</td>\n",
       "      <td>0.178228</td>\n",
       "      <td>0.507757</td>\n",
       "      <td>-0.287924</td>\n",
       "      <td>-0.631418</td>\n",
       "      <td>-1.059647</td>\n",
       "      <td>-0.684093</td>\n",
       "      <td>1.965775</td>\n",
       "      <td>-1.232622</td>\n",
       "      <td>-0.208038</td>\n",
       "      <td>-0.108300</td>\n",
       "      <td>0.005274</td>\n",
       "      <td>-0.190321</td>\n",
       "      <td>-1.175575</td>\n",
       "      <td>0.647376</td>\n",
       "      <td>-0.221929</td>\n",
       "      <td>0.062723</td>\n",
       "      <td>0.061458</td>\n",
       "      <td>123.50</td>\n",
       "      <td>0</td>\n",
       "    </tr>\n",
       "    <tr>\n",
       "      <th>4</th>\n",
       "      <td>2.0</td>\n",
       "      <td>-1.158233</td>\n",
       "      <td>0.877737</td>\n",
       "      <td>1.548718</td>\n",
       "      <td>0.403034</td>\n",
       "      <td>-0.407193</td>\n",
       "      <td>0.095921</td>\n",
       "      <td>0.592941</td>\n",
       "      <td>-0.270533</td>\n",
       "      <td>0.817739</td>\n",
       "      <td>0.753074</td>\n",
       "      <td>-0.822843</td>\n",
       "      <td>0.538196</td>\n",
       "      <td>1.345852</td>\n",
       "      <td>-1.119670</td>\n",
       "      <td>0.175121</td>\n",
       "      <td>-0.451449</td>\n",
       "      <td>-0.237033</td>\n",
       "      <td>-0.038195</td>\n",
       "      <td>0.803487</td>\n",
       "      <td>0.408542</td>\n",
       "      <td>-0.009431</td>\n",
       "      <td>0.798278</td>\n",
       "      <td>-0.137458</td>\n",
       "      <td>0.141267</td>\n",
       "      <td>-0.206010</td>\n",
       "      <td>0.502292</td>\n",
       "      <td>0.219422</td>\n",
       "      <td>0.215153</td>\n",
       "      <td>69.99</td>\n",
       "      <td>0</td>\n",
       "    </tr>\n",
       "  </tbody>\n",
       "</table>\n",
       "</div>"
      ],
      "text/plain": [
       "   Time        V1        V2        V3        V4        V5        V6        V7  \\\n",
       "0   0.0 -1.359807 -0.072781  2.536347  1.378155 -0.338321  0.462388  0.239599   \n",
       "1   0.0  1.191857  0.266151  0.166480  0.448154  0.060018 -0.082361 -0.078803   \n",
       "2   1.0 -1.358354 -1.340163  1.773209  0.379780 -0.503198  1.800499  0.791461   \n",
       "3   1.0 -0.966272 -0.185226  1.792993 -0.863291 -0.010309  1.247203  0.237609   \n",
       "4   2.0 -1.158233  0.877737  1.548718  0.403034 -0.407193  0.095921  0.592941   \n",
       "\n",
       "         V8        V9       V10       V11       V12       V13       V14  \\\n",
       "0  0.098698  0.363787  0.090794 -0.551600 -0.617801 -0.991390 -0.311169   \n",
       "1  0.085102 -0.255425 -0.166974  1.612727  1.065235  0.489095 -0.143772   \n",
       "2  0.247676 -1.514654  0.207643  0.624501  0.066084  0.717293 -0.165946   \n",
       "3  0.377436 -1.387024 -0.054952 -0.226487  0.178228  0.507757 -0.287924   \n",
       "4 -0.270533  0.817739  0.753074 -0.822843  0.538196  1.345852 -1.119670   \n",
       "\n",
       "        V15       V16       V17       V18       V19       V20       V21  \\\n",
       "0  1.468177 -0.470401  0.207971  0.025791  0.403993  0.251412 -0.018307   \n",
       "1  0.635558  0.463917 -0.114805 -0.183361 -0.145783 -0.069083 -0.225775   \n",
       "2  2.345865 -2.890083  1.109969 -0.121359 -2.261857  0.524980  0.247998   \n",
       "3 -0.631418 -1.059647 -0.684093  1.965775 -1.232622 -0.208038 -0.108300   \n",
       "4  0.175121 -0.451449 -0.237033 -0.038195  0.803487  0.408542 -0.009431   \n",
       "\n",
       "        V22       V23       V24       V25       V26       V27       V28  \\\n",
       "0  0.277838 -0.110474  0.066928  0.128539 -0.189115  0.133558 -0.021053   \n",
       "1 -0.638672  0.101288 -0.339846  0.167170  0.125895 -0.008983  0.014724   \n",
       "2  0.771679  0.909412 -0.689281 -0.327642 -0.139097 -0.055353 -0.059752   \n",
       "3  0.005274 -0.190321 -1.175575  0.647376 -0.221929  0.062723  0.061458   \n",
       "4  0.798278 -0.137458  0.141267 -0.206010  0.502292  0.219422  0.215153   \n",
       "\n",
       "   Amount  Class  \n",
       "0  149.62      0  \n",
       "1    2.69      0  \n",
       "2  378.66      0  \n",
       "3  123.50      0  \n",
       "4   69.99      0  "
      ]
     },
     "execution_count": 13,
     "metadata": {},
     "output_type": "execute_result"
    }
   ],
   "source": [
    "df = pd.read_csv('../data/raw/creditcard.csv.zip',compression='zip')\n",
    "print(df.shape)\n",
    "df.head()"
   ]
  },
  {
   "cell_type": "markdown",
   "metadata": {},
   "source": [
    "# Preprocessing"
   ]
  },
  {
   "cell_type": "markdown",
   "metadata": {},
   "source": [
    "## Scaling"
   ]
  },
  {
   "cell_type": "code",
   "execution_count": 14,
   "metadata": {
    "ExecuteTime": {
     "end_time": "2019-10-20T20:30:17.664219Z",
     "start_time": "2019-10-20T20:30:17.574899Z"
    }
   },
   "outputs": [],
   "source": [
    "# RobustScaler is less prone to outliers.\n",
    "from sklearn.preprocessing import StandardScaler, RobustScaler\n",
    "\n",
    "scaler = RobustScaler()\n",
    "\n",
    "df['scaled_amount'] = scaler.fit_transform(df['Amount'].values.reshape(-1,1))\n",
    "df['scaled_time'] = scaler.fit_transform(df['Time'].values.reshape(-1,1))"
   ]
  },
  {
   "cell_type": "markdown",
   "metadata": {},
   "source": [
    "## Random Under Sampling\n",
    "- If classes are imbalanced, more frequent class causes overfitting.\n",
    "- We can use undersampling of classes.\n",
    "- Faster to train the model, since lower number of samples are remained.\n",
    "\n",
    "Cons:\n",
    "- Large number of rows may be dropped and risk of information loss."
   ]
  },
  {
   "cell_type": "code",
   "execution_count": 21,
   "metadata": {
    "ExecuteTime": {
     "end_time": "2019-10-20T20:35:13.452462Z",
     "start_time": "2019-10-20T20:35:13.241177Z"
    }
   },
   "outputs": [
    {
     "data": {
      "text/plain": [
       "1    492\n",
       "0    492\n",
       "Name: Class, dtype: int64"
      ]
     },
     "execution_count": 21,
     "metadata": {},
     "output_type": "execute_result"
    }
   ],
   "source": [
    "# without removing outliers\n",
    "n = df[target].value_counts().values[-1]\n",
    "\n",
    "df_under = (df.groupby(target)\n",
    "                .apply(lambda x: x.sample(n,random_state=random_state))\n",
    "                .reset_index(drop=True)\n",
    "               )\n",
    "\n",
    "df_under[target].value_counts()"
   ]
  },
  {
   "cell_type": "markdown",
   "metadata": {},
   "source": [
    "## Train test split with stratify"
   ]
  },
  {
   "cell_type": "code",
   "execution_count": 40,
   "metadata": {
    "ExecuteTime": {
     "end_time": "2019-10-20T20:40:30.665500Z",
     "start_time": "2019-10-20T20:40:30.620232Z"
    }
   },
   "outputs": [],
   "source": [
    "from sklearn.model_selection import train_test_split"
   ]
  },
  {
   "cell_type": "code",
   "execution_count": 41,
   "metadata": {
    "ExecuteTime": {
     "end_time": "2019-10-20T20:40:34.994644Z",
     "start_time": "2019-10-20T20:40:34.932898Z"
    }
   },
   "outputs": [
    {
     "data": {
      "text/plain": [
       "Index(['Time', 'V1', 'V2', 'V3', 'V4', 'V5', 'V6', 'V7', 'V8', 'V9', 'V10',\n",
       "       'V11', 'V12', 'V13', 'V14', 'V15', 'V16', 'V17', 'V18', 'V19', 'V20',\n",
       "       'V21', 'V22', 'V23', 'V24', 'V25', 'V26', 'V27', 'V28', 'Amount',\n",
       "       'Class', 'scaled_amount', 'scaled_time'],\n",
       "      dtype='object')"
      ]
     },
     "execution_count": 41,
     "metadata": {},
     "output_type": "execute_result"
    }
   ],
   "source": [
    "df.columns"
   ]
  },
  {
   "cell_type": "code",
   "execution_count": 42,
   "metadata": {
    "ExecuteTime": {
     "end_time": "2019-10-20T20:40:58.946172Z",
     "start_time": "2019-10-20T20:40:58.596803Z"
    }
   },
   "outputs": [
    {
     "data": {
      "text/plain": [
       "((284807, 33), (227845, 30), (227845,))"
      ]
     },
     "execution_count": 42,
     "metadata": {},
     "output_type": "execute_result"
    }
   ],
   "source": [
    "# Without undersampling, (imbalanced data)\n",
    "# Xtrain, and Xtest has all the features, later we can select our\n",
    "# Xtrain and Xtest from df_train using some features.\n",
    "target = 'Class'\n",
    "Xtrain,Xtest,ytrain,ytest = train_test_split(df.drop(['Amount','Time',target],axis=1),\n",
    "                                             df[target],\n",
    "                                             test_size=0.2,\n",
    "                                             stratify=df[target],\n",
    "                                            random_state=random_state)\n",
    "\n",
    "df.shape, Xtrain.shape, ytrain.shape"
   ]
  },
  {
   "cell_type": "code",
   "execution_count": 51,
   "metadata": {
    "ExecuteTime": {
     "end_time": "2019-10-20T20:43:42.515618Z",
     "start_time": "2019-10-20T20:43:42.454923Z"
    }
   },
   "outputs": [
    {
     "name": "stdout",
     "output_type": "stream",
     "text": [
      "['V1', 'V10', 'V11', 'V12', 'V13', 'V14', 'V15', 'V16', 'V17', 'V18', 'V19', 'V2', 'V20', 'V21', 'V22', 'V23', 'V24', 'V25', 'V26', 'V27', 'V28', 'V3', 'V4', 'V5', 'V6', 'V7', 'V8', 'V9', 'scaled_amount', 'scaled_time', 'Class']\n"
     ]
    }
   ],
   "source": [
    "columns= df.columns.difference(['Amount','Time',target]).tolist() + [target]\n",
    "print(columns)"
   ]
  },
  {
   "cell_type": "code",
   "execution_count": 52,
   "metadata": {
    "ExecuteTime": {
     "end_time": "2019-10-20T20:43:45.939665Z",
     "start_time": "2019-10-20T20:43:45.775769Z"
    }
   },
   "outputs": [
    {
     "name": "stdout",
     "output_type": "stream",
     "text": [
      "(284807, 33) (227845, 31)\n"
     ]
    },
    {
     "data": {
      "text/html": [
       "<div>\n",
       "<style scoped>\n",
       "    .dataframe tbody tr th:only-of-type {\n",
       "        vertical-align: middle;\n",
       "    }\n",
       "\n",
       "    .dataframe tbody tr th {\n",
       "        vertical-align: top;\n",
       "    }\n",
       "\n",
       "    .dataframe thead th {\n",
       "        text-align: right;\n",
       "    }\n",
       "</style>\n",
       "<table border=\"1\" class=\"dataframe\">\n",
       "  <thead>\n",
       "    <tr style=\"text-align: right;\">\n",
       "      <th></th>\n",
       "      <th>V1</th>\n",
       "      <th>V10</th>\n",
       "      <th>V11</th>\n",
       "      <th>V12</th>\n",
       "      <th>V13</th>\n",
       "      <th>V14</th>\n",
       "      <th>V15</th>\n",
       "      <th>V16</th>\n",
       "      <th>V17</th>\n",
       "      <th>V18</th>\n",
       "      <th>V19</th>\n",
       "      <th>V2</th>\n",
       "      <th>V20</th>\n",
       "      <th>V21</th>\n",
       "      <th>V22</th>\n",
       "      <th>V23</th>\n",
       "      <th>V24</th>\n",
       "      <th>V25</th>\n",
       "      <th>V26</th>\n",
       "      <th>V27</th>\n",
       "      <th>V28</th>\n",
       "      <th>V3</th>\n",
       "      <th>V4</th>\n",
       "      <th>V5</th>\n",
       "      <th>V6</th>\n",
       "      <th>V7</th>\n",
       "      <th>V8</th>\n",
       "      <th>V9</th>\n",
       "      <th>scaled_amount</th>\n",
       "      <th>scaled_time</th>\n",
       "      <th>Class</th>\n",
       "    </tr>\n",
       "  </thead>\n",
       "  <tbody>\n",
       "    <tr>\n",
       "      <th>0</th>\n",
       "      <td>-1.137612</td>\n",
       "      <td>2.345154</td>\n",
       "      <td>-1.767247</td>\n",
       "      <td>0.833982</td>\n",
       "      <td>0.973168</td>\n",
       "      <td>-0.073571</td>\n",
       "      <td>0.802433</td>\n",
       "      <td>0.733137</td>\n",
       "      <td>-1.154087</td>\n",
       "      <td>-0.520340</td>\n",
       "      <td>0.494117</td>\n",
       "      <td>0.799935</td>\n",
       "      <td>0.494576</td>\n",
       "      <td>-0.479666</td>\n",
       "      <td>-0.917177</td>\n",
       "      <td>-0.184117</td>\n",
       "      <td>1.189459</td>\n",
       "      <td>0.937244</td>\n",
       "      <td>0.960749</td>\n",
       "      <td>0.062820</td>\n",
       "      <td>0.114953</td>\n",
       "      <td>0.430613</td>\n",
       "      <td>-0.240819</td>\n",
       "      <td>0.124011</td>\n",
       "      <td>0.187187</td>\n",
       "      <td>-0.402251</td>\n",
       "      <td>0.196277</td>\n",
       "      <td>0.190732</td>\n",
       "      <td>0.243974</td>\n",
       "      <td>0.633513</td>\n",
       "      <td>0.0</td>\n",
       "    </tr>\n",
       "    <tr>\n",
       "      <th>1</th>\n",
       "      <td>-1.028649</td>\n",
       "      <td>1.141569</td>\n",
       "      <td>2.492561</td>\n",
       "      <td>-0.242233</td>\n",
       "      <td>0.452842</td>\n",
       "      <td>-0.384273</td>\n",
       "      <td>1.256026</td>\n",
       "      <td>-0.816401</td>\n",
       "      <td>1.964560</td>\n",
       "      <td>-0.014216</td>\n",
       "      <td>0.432153</td>\n",
       "      <td>-2.140921</td>\n",
       "      <td>2.274477</td>\n",
       "      <td>0.114128</td>\n",
       "      <td>-1.652894</td>\n",
       "      <td>-0.617302</td>\n",
       "      <td>0.243791</td>\n",
       "      <td>-0.426168</td>\n",
       "      <td>-0.493177</td>\n",
       "      <td>0.350032</td>\n",
       "      <td>-0.380356</td>\n",
       "      <td>-0.037432</td>\n",
       "      <td>-0.503934</td>\n",
       "      <td>0.407129</td>\n",
       "      <td>0.604252</td>\n",
       "      <td>0.233015</td>\n",
       "      <td>-0.433132</td>\n",
       "      <td>-0.491892</td>\n",
       "      <td>-0.206945</td>\n",
       "      <td>-0.737074</td>\n",
       "      <td>0.0</td>\n",
       "    </tr>\n",
       "  </tbody>\n",
       "</table>\n",
       "</div>"
      ],
      "text/plain": [
       "         V1       V10       V11       V12       V13       V14       V15  \\\n",
       "0 -1.137612  2.345154 -1.767247  0.833982  0.973168 -0.073571  0.802433   \n",
       "1 -1.028649  1.141569  2.492561 -0.242233  0.452842 -0.384273  1.256026   \n",
       "\n",
       "        V16       V17       V18       V19        V2       V20       V21  \\\n",
       "0  0.733137 -1.154087 -0.520340  0.494117  0.799935  0.494576 -0.479666   \n",
       "1 -0.816401  1.964560 -0.014216  0.432153 -2.140921  2.274477  0.114128   \n",
       "\n",
       "        V22       V23       V24       V25       V26       V27       V28  \\\n",
       "0 -0.917177 -0.184117  1.189459  0.937244  0.960749  0.062820  0.114953   \n",
       "1 -1.652894 -0.617302  0.243791 -0.426168 -0.493177  0.350032 -0.380356   \n",
       "\n",
       "         V3        V4        V5        V6        V7        V8        V9  \\\n",
       "0  0.430613 -0.240819  0.124011  0.187187 -0.402251  0.196277  0.190732   \n",
       "1 -0.037432 -0.503934  0.407129  0.604252  0.233015 -0.433132 -0.491892   \n",
       "\n",
       "   scaled_amount  scaled_time  Class  \n",
       "0       0.243974     0.633513    0.0  \n",
       "1      -0.206945    -0.737074    0.0  "
      ]
     },
     "execution_count": 52,
     "metadata": {},
     "output_type": "execute_result"
    }
   ],
   "source": [
    "df_train = pd.DataFrame(np.c_[Xtrain,ytrain], columns=columns)\n",
    "\n",
    "print(df.shape, df_train.shape)\n",
    "df_train.head(2)"
   ]
  },
  {
   "cell_type": "code",
   "execution_count": 53,
   "metadata": {
    "ExecuteTime": {
     "end_time": "2019-10-20T20:43:49.232428Z",
     "start_time": "2019-10-20T20:43:49.126369Z"
    }
   },
   "outputs": [
    {
     "name": "stdout",
     "output_type": "stream",
     "text": [
      "(56962, 31)\n"
     ]
    },
    {
     "data": {
      "text/html": [
       "<div>\n",
       "<style scoped>\n",
       "    .dataframe tbody tr th:only-of-type {\n",
       "        vertical-align: middle;\n",
       "    }\n",
       "\n",
       "    .dataframe tbody tr th {\n",
       "        vertical-align: top;\n",
       "    }\n",
       "\n",
       "    .dataframe thead th {\n",
       "        text-align: right;\n",
       "    }\n",
       "</style>\n",
       "<table border=\"1\" class=\"dataframe\">\n",
       "  <thead>\n",
       "    <tr style=\"text-align: right;\">\n",
       "      <th></th>\n",
       "      <th>V1</th>\n",
       "      <th>V10</th>\n",
       "      <th>V11</th>\n",
       "      <th>V12</th>\n",
       "      <th>V13</th>\n",
       "      <th>V14</th>\n",
       "      <th>V15</th>\n",
       "      <th>V16</th>\n",
       "      <th>V17</th>\n",
       "      <th>V18</th>\n",
       "      <th>V19</th>\n",
       "      <th>V2</th>\n",
       "      <th>V20</th>\n",
       "      <th>V21</th>\n",
       "      <th>V22</th>\n",
       "      <th>V23</th>\n",
       "      <th>V24</th>\n",
       "      <th>V25</th>\n",
       "      <th>V26</th>\n",
       "      <th>V27</th>\n",
       "      <th>V28</th>\n",
       "      <th>V3</th>\n",
       "      <th>V4</th>\n",
       "      <th>V5</th>\n",
       "      <th>V6</th>\n",
       "      <th>V7</th>\n",
       "      <th>V8</th>\n",
       "      <th>V9</th>\n",
       "      <th>scaled_amount</th>\n",
       "      <th>scaled_time</th>\n",
       "      <th>Class</th>\n",
       "    </tr>\n",
       "  </thead>\n",
       "  <tbody>\n",
       "    <tr>\n",
       "      <th>0</th>\n",
       "      <td>0.046622</td>\n",
       "      <td>1.529678</td>\n",
       "      <td>-0.453615</td>\n",
       "      <td>1.282569</td>\n",
       "      <td>1.110333</td>\n",
       "      <td>-0.882716</td>\n",
       "      <td>1.04642</td>\n",
       "      <td>-0.117121</td>\n",
       "      <td>-0.679897</td>\n",
       "      <td>-0.923709</td>\n",
       "      <td>0.371519</td>\n",
       "      <td>-0.000047</td>\n",
       "      <td>0.512255</td>\n",
       "      <td>-2.091762</td>\n",
       "      <td>0.786796</td>\n",
       "      <td>0.159652</td>\n",
       "      <td>1.706939</td>\n",
       "      <td>0.458922</td>\n",
       "      <td>0.037665</td>\n",
       "      <td>0.240559</td>\n",
       "      <td>-0.338472</td>\n",
       "      <td>-0.839547</td>\n",
       "      <td>0.066527</td>\n",
       "      <td>0.836447</td>\n",
       "      <td>0.076790</td>\n",
       "      <td>-0.775158</td>\n",
       "      <td>0.261012</td>\n",
       "      <td>0.058359</td>\n",
       "      <td>-0.046112</td>\n",
       "      <td>0.815165</td>\n",
       "      <td>0.0</td>\n",
       "    </tr>\n",
       "    <tr>\n",
       "      <th>1</th>\n",
       "      <td>0.145870</td>\n",
       "      <td>0.107484</td>\n",
       "      <td>0.755127</td>\n",
       "      <td>-0.995936</td>\n",
       "      <td>1.159107</td>\n",
       "      <td>2.113961</td>\n",
       "      <td>0.03620</td>\n",
       "      <td>0.471777</td>\n",
       "      <td>0.627622</td>\n",
       "      <td>-0.598398</td>\n",
       "      <td>0.713816</td>\n",
       "      <td>1.091294</td>\n",
       "      <td>0.663878</td>\n",
       "      <td>-0.448057</td>\n",
       "      <td>0.146422</td>\n",
       "      <td>-0.445603</td>\n",
       "      <td>-0.462439</td>\n",
       "      <td>-0.373996</td>\n",
       "      <td>-0.966334</td>\n",
       "      <td>-0.107332</td>\n",
       "      <td>0.297644</td>\n",
       "      <td>1.285809</td>\n",
       "      <td>-0.140560</td>\n",
       "      <td>-0.910706</td>\n",
       "      <td>-0.449729</td>\n",
       "      <td>-0.235203</td>\n",
       "      <td>-0.036910</td>\n",
       "      <td>-0.227111</td>\n",
       "      <td>-0.167819</td>\n",
       "      <td>0.348218</td>\n",
       "      <td>0.0</td>\n",
       "    </tr>\n",
       "  </tbody>\n",
       "</table>\n",
       "</div>"
      ],
      "text/plain": [
       "         V1       V10       V11       V12       V13       V14      V15  \\\n",
       "0  0.046622  1.529678 -0.453615  1.282569  1.110333 -0.882716  1.04642   \n",
       "1  0.145870  0.107484  0.755127 -0.995936  1.159107  2.113961  0.03620   \n",
       "\n",
       "        V16       V17       V18       V19        V2       V20       V21  \\\n",
       "0 -0.117121 -0.679897 -0.923709  0.371519 -0.000047  0.512255 -2.091762   \n",
       "1  0.471777  0.627622 -0.598398  0.713816  1.091294  0.663878 -0.448057   \n",
       "\n",
       "        V22       V23       V24       V25       V26       V27       V28  \\\n",
       "0  0.786796  0.159652  1.706939  0.458922  0.037665  0.240559 -0.338472   \n",
       "1  0.146422 -0.445603 -0.462439 -0.373996 -0.966334 -0.107332  0.297644   \n",
       "\n",
       "         V3        V4        V5        V6        V7        V8        V9  \\\n",
       "0 -0.839547  0.066527  0.836447  0.076790 -0.775158  0.261012  0.058359   \n",
       "1  1.285809 -0.140560 -0.910706 -0.449729 -0.235203 -0.036910 -0.227111   \n",
       "\n",
       "   scaled_amount  scaled_time  Class  \n",
       "0      -0.046112     0.815165    0.0  \n",
       "1      -0.167819     0.348218    0.0  "
      ]
     },
     "execution_count": 53,
     "metadata": {},
     "output_type": "execute_result"
    }
   ],
   "source": [
    "df_test = pd.DataFrame(np.c_[Xtest,ytest],columns=columns)\n",
    "print(df_test.shape)\n",
    "df_test.head(2)"
   ]
  },
  {
   "cell_type": "code",
   "execution_count": 29,
   "metadata": {
    "ExecuteTime": {
     "end_time": "2019-10-20T20:37:39.611298Z",
     "start_time": "2019-10-20T20:37:39.554551Z"
    }
   },
   "outputs": [],
   "source": [
    "# pd.concat([x[target].value_counts(normalize=True) for x in [df,df_train,df_test]])\n",
    "# df, train and test have similar target distribution."
   ]
  },
  {
   "cell_type": "code",
   "execution_count": 55,
   "metadata": {
    "ExecuteTime": {
     "end_time": "2019-10-20T20:45:05.177245Z",
     "start_time": "2019-10-20T20:45:05.083398Z"
    }
   },
   "outputs": [
    {
     "name": "stdout",
     "output_type": "stream",
     "text": [
      "Undersampled shape: (984, 33)\n",
      "Undersampled train shape: (787, 30)\n",
      "Undersampled test shape: (197, 30)\n"
     ]
    },
    {
     "data": {
      "text/html": [
       "<div>\n",
       "<style scoped>\n",
       "    .dataframe tbody tr th:only-of-type {\n",
       "        vertical-align: middle;\n",
       "    }\n",
       "\n",
       "    .dataframe tbody tr th {\n",
       "        vertical-align: top;\n",
       "    }\n",
       "\n",
       "    .dataframe thead th {\n",
       "        text-align: right;\n",
       "    }\n",
       "</style>\n",
       "<table border=\"1\" class=\"dataframe\">\n",
       "  <thead>\n",
       "    <tr style=\"text-align: right;\">\n",
       "      <th></th>\n",
       "      <th>V1</th>\n",
       "      <th>V10</th>\n",
       "      <th>V11</th>\n",
       "      <th>V12</th>\n",
       "      <th>V13</th>\n",
       "      <th>V14</th>\n",
       "      <th>V15</th>\n",
       "      <th>V16</th>\n",
       "      <th>V17</th>\n",
       "      <th>V18</th>\n",
       "      <th>V19</th>\n",
       "      <th>V2</th>\n",
       "      <th>V20</th>\n",
       "      <th>V21</th>\n",
       "      <th>V22</th>\n",
       "      <th>V23</th>\n",
       "      <th>V24</th>\n",
       "      <th>V25</th>\n",
       "      <th>V26</th>\n",
       "      <th>V27</th>\n",
       "      <th>V28</th>\n",
       "      <th>V3</th>\n",
       "      <th>V4</th>\n",
       "      <th>V5</th>\n",
       "      <th>V6</th>\n",
       "      <th>V7</th>\n",
       "      <th>V8</th>\n",
       "      <th>V9</th>\n",
       "      <th>scaled_amount</th>\n",
       "      <th>scaled_time</th>\n",
       "      <th>Class</th>\n",
       "    </tr>\n",
       "  </thead>\n",
       "  <tbody>\n",
       "    <tr>\n",
       "      <th>0</th>\n",
       "      <td>-0.762507</td>\n",
       "      <td>0.796995</td>\n",
       "      <td>1.361020</td>\n",
       "      <td>-0.376737</td>\n",
       "      <td>0.193995</td>\n",
       "      <td>-1.107362</td>\n",
       "      <td>0.771416</td>\n",
       "      <td>-0.214468</td>\n",
       "      <td>-0.234833</td>\n",
       "      <td>-0.412576</td>\n",
       "      <td>-0.512249</td>\n",
       "      <td>0.011223</td>\n",
       "      <td>0.031244</td>\n",
       "      <td>0.072900</td>\n",
       "      <td>0.381564</td>\n",
       "      <td>0.431446</td>\n",
       "      <td>-0.700399</td>\n",
       "      <td>-0.424826</td>\n",
       "      <td>-0.623204</td>\n",
       "      <td>-0.241844</td>\n",
       "      <td>-0.115505</td>\n",
       "      <td>-0.406488</td>\n",
       "      <td>0.258583</td>\n",
       "      <td>0.359625</td>\n",
       "      <td>-0.678234</td>\n",
       "      <td>-0.161506</td>\n",
       "      <td>-0.138255</td>\n",
       "      <td>0.164159</td>\n",
       "      <td>-0.294977</td>\n",
       "      <td>-0.284837</td>\n",
       "      <td>0.0</td>\n",
       "    </tr>\n",
       "    <tr>\n",
       "      <th>1</th>\n",
       "      <td>-1.165320</td>\n",
       "      <td>0.635656</td>\n",
       "      <td>0.053974</td>\n",
       "      <td>-0.382560</td>\n",
       "      <td>1.435596</td>\n",
       "      <td>0.473556</td>\n",
       "      <td>1.485924</td>\n",
       "      <td>-0.308678</td>\n",
       "      <td>-0.205255</td>\n",
       "      <td>-0.857615</td>\n",
       "      <td>0.445845</td>\n",
       "      <td>0.188776</td>\n",
       "      <td>0.722610</td>\n",
       "      <td>-1.216206</td>\n",
       "      <td>1.657659</td>\n",
       "      <td>-1.043794</td>\n",
       "      <td>1.201677</td>\n",
       "      <td>-0.859163</td>\n",
       "      <td>-1.076210</td>\n",
       "      <td>-0.275043</td>\n",
       "      <td>0.256471</td>\n",
       "      <td>1.335942</td>\n",
       "      <td>-0.111328</td>\n",
       "      <td>-1.060521</td>\n",
       "      <td>0.191532</td>\n",
       "      <td>0.037675</td>\n",
       "      <td>-0.309173</td>\n",
       "      <td>-0.022691</td>\n",
       "      <td>0.989171</td>\n",
       "      <td>0.538152</td>\n",
       "      <td>0.0</td>\n",
       "    </tr>\n",
       "  </tbody>\n",
       "</table>\n",
       "</div>"
      ],
      "text/plain": [
       "         V1       V10       V11       V12       V13       V14       V15  \\\n",
       "0 -0.762507  0.796995  1.361020 -0.376737  0.193995 -1.107362  0.771416   \n",
       "1 -1.165320  0.635656  0.053974 -0.382560  1.435596  0.473556  1.485924   \n",
       "\n",
       "        V16       V17       V18       V19        V2       V20       V21  \\\n",
       "0 -0.214468 -0.234833 -0.412576 -0.512249  0.011223  0.031244  0.072900   \n",
       "1 -0.308678 -0.205255 -0.857615  0.445845  0.188776  0.722610 -1.216206   \n",
       "\n",
       "        V22       V23       V24       V25       V26       V27       V28  \\\n",
       "0  0.381564  0.431446 -0.700399 -0.424826 -0.623204 -0.241844 -0.115505   \n",
       "1  1.657659 -1.043794  1.201677 -0.859163 -1.076210 -0.275043  0.256471   \n",
       "\n",
       "         V3        V4        V5        V6        V7        V8        V9  \\\n",
       "0 -0.406488  0.258583  0.359625 -0.678234 -0.161506 -0.138255  0.164159   \n",
       "1  1.335942 -0.111328 -1.060521  0.191532  0.037675 -0.309173 -0.022691   \n",
       "\n",
       "   scaled_amount  scaled_time  Class  \n",
       "0      -0.294977    -0.284837    0.0  \n",
       "1       0.989171     0.538152    0.0  "
      ]
     },
     "execution_count": 55,
     "metadata": {},
     "output_type": "execute_result"
    }
   ],
   "source": [
    "Xtrain_under,Xtest_under,ytrain_under,ytest_under = \\\n",
    "  train_test_split(df_under.drop(['Amount','Time',target],axis=1),\n",
    "                   df_under[target],\n",
    "                   test_size=0.2,\n",
    "                   stratify=df_under[target],\n",
    "                   random_state=random_state)\n",
    "\n",
    "\n",
    "columns= df.columns.difference(['Amount','Time',target]).tolist() + [target]\n",
    "\n",
    "df_train_under = pd.DataFrame(np.c_[Xtrain_under,ytrain_under], columns=columns)\n",
    "df_test_under = pd.DataFrame(np.c_[Xtest_under,ytest_under],columns=columns)\n",
    "\n",
    "print('Undersampled shape:', df_under.shape)\n",
    "print('Undersampled train shape:', Xtrain_under.shape)\n",
    "print('Undersampled test shape:', Xtest_under.shape)\n",
    "\n",
    "df_train_under.head(2)"
   ]
  },
  {
   "cell_type": "markdown",
   "metadata": {},
   "source": [
    "## Check for nans before modelling"
   ]
  },
  {
   "cell_type": "code",
   "execution_count": 56,
   "metadata": {
    "ExecuteTime": {
     "end_time": "2019-10-20T20:45:15.289792Z",
     "start_time": "2019-10-20T20:45:15.111513Z"
    }
   },
   "outputs": [
    {
     "data": {
      "text/plain": [
       "0"
      ]
     },
     "execution_count": 56,
     "metadata": {},
     "output_type": "execute_result"
    }
   ],
   "source": [
    "df.isnull().sum().sum()"
   ]
  },
  {
   "cell_type": "code",
   "execution_count": 57,
   "metadata": {
    "ExecuteTime": {
     "end_time": "2019-10-20T20:45:16.131484Z",
     "start_time": "2019-10-20T20:45:16.079565Z"
    }
   },
   "outputs": [
    {
     "data": {
      "text/plain": [
       "0"
      ]
     },
     "execution_count": 57,
     "metadata": {},
     "output_type": "execute_result"
    }
   ],
   "source": [
    "df_under.isnull().sum().sum()"
   ]
  },
  {
   "cell_type": "code",
   "execution_count": 58,
   "metadata": {
    "ExecuteTime": {
     "end_time": "2019-10-20T20:45:17.144491Z",
     "start_time": "2019-10-20T20:45:17.095504Z"
    }
   },
   "outputs": [
    {
     "data": {
      "text/plain": [
       "Index(['Time', 'V1', 'V2', 'V3', 'V4', 'V5', 'V6', 'V7', 'V8', 'V9', 'V10',\n",
       "       'V11', 'V12', 'V13', 'V14', 'V15', 'V16', 'V17', 'V18', 'V19', 'V20',\n",
       "       'V21', 'V22', 'V23', 'V24', 'V25', 'V26', 'V27', 'V28', 'Amount',\n",
       "       'Class', 'scaled_amount', 'scaled_time'],\n",
       "      dtype='object')"
      ]
     },
     "execution_count": 58,
     "metadata": {},
     "output_type": "execute_result"
    }
   ],
   "source": [
    "df_under.columns"
   ]
  },
  {
   "cell_type": "markdown",
   "metadata": {},
   "source": [
    "# Modelling"
   ]
  },
  {
   "cell_type": "code",
   "execution_count": 59,
   "metadata": {
    "ExecuteTime": {
     "end_time": "2019-10-20T20:45:18.782612Z",
     "start_time": "2019-10-20T20:45:18.728191Z"
    }
   },
   "outputs": [],
   "source": [
    "import keras\n",
    "from keras import backend as K\n",
    "from keras.models import Sequential\n",
    "from keras.layers import Activation\n",
    "from keras.layers.core import Dense\n",
    "from keras.optimizers import Adam\n",
    "from keras.metrics import categorical_crossentropy"
   ]
  },
  {
   "cell_type": "markdown",
   "metadata": {},
   "source": [
    "## Deep Learning Imbalanced Data"
   ]
  },
  {
   "cell_type": "code",
   "execution_count": 60,
   "metadata": {
    "ExecuteTime": {
     "end_time": "2019-10-20T20:45:21.555250Z",
     "start_time": "2019-10-20T20:45:21.442774Z"
    }
   },
   "outputs": [],
   "source": [
    "n_inputs = Xtrain.shape[1]\n",
    "\n",
    "clf_imb = Sequential([\n",
    "    Dense(n_inputs, input_shape=(n_inputs, ), activation='relu'),\n",
    "    Dense(32, activation='relu'),\n",
    "    Dense(2, activation='softmax')\n",
    "])"
   ]
  },
  {
   "cell_type": "code",
   "execution_count": 61,
   "metadata": {
    "ExecuteTime": {
     "end_time": "2019-10-20T20:45:22.287878Z",
     "start_time": "2019-10-20T20:45:22.228867Z"
    }
   },
   "outputs": [
    {
     "data": {
      "text/html": [
       "<div>\n",
       "<style scoped>\n",
       "    .dataframe tbody tr th:only-of-type {\n",
       "        vertical-align: middle;\n",
       "    }\n",
       "\n",
       "    .dataframe tbody tr th {\n",
       "        vertical-align: top;\n",
       "    }\n",
       "\n",
       "    .dataframe thead th {\n",
       "        text-align: right;\n",
       "    }\n",
       "</style>\n",
       "<table border=\"1\" class=\"dataframe\">\n",
       "  <thead>\n",
       "    <tr style=\"text-align: right;\">\n",
       "      <th></th>\n",
       "      <th>0</th>\n",
       "      <th>1</th>\n",
       "      <th>2</th>\n",
       "      <th>3</th>\n",
       "      <th>4</th>\n",
       "      <th>5</th>\n",
       "      <th>6</th>\n",
       "    </tr>\n",
       "  </thead>\n",
       "  <tbody>\n",
       "    <tr>\n",
       "      <th>0</th>\n",
       "      <td>add</td>\n",
       "      <td>compute_output_shape</td>\n",
       "      <td>get_input_shape_at</td>\n",
       "      <td>input_names</td>\n",
       "      <td>optimizer</td>\n",
       "      <td>predict_on_batch</td>\n",
       "      <td>supports_masking</td>\n",
       "    </tr>\n",
       "    <tr>\n",
       "      <th>1</th>\n",
       "      <td>add_loss</td>\n",
       "      <td>count_params</td>\n",
       "      <td>get_layer</td>\n",
       "      <td>input_shape</td>\n",
       "      <td>output</td>\n",
       "      <td>predict_proba</td>\n",
       "      <td>test_on_batch</td>\n",
       "    </tr>\n",
       "    <tr>\n",
       "      <th>2</th>\n",
       "      <td>add_update</td>\n",
       "      <td>evaluate</td>\n",
       "      <td>get_losses_for</td>\n",
       "      <td>input_spec</td>\n",
       "      <td>output_mask</td>\n",
       "      <td>reset_states</td>\n",
       "      <td>to_json</td>\n",
       "    </tr>\n",
       "    <tr>\n",
       "      <th>3</th>\n",
       "      <td>add_weight</td>\n",
       "      <td>evaluate_generator</td>\n",
       "      <td>get_output_at</td>\n",
       "      <td>inputs</td>\n",
       "      <td>output_names</td>\n",
       "      <td>run_internal_graph</td>\n",
       "      <td>to_yaml</td>\n",
       "    </tr>\n",
       "    <tr>\n",
       "      <th>4</th>\n",
       "      <td>assert_input_compatibility</td>\n",
       "      <td>fit</td>\n",
       "      <td>get_output_mask_at</td>\n",
       "      <td>layers</td>\n",
       "      <td>output_shape</td>\n",
       "      <td>save</td>\n",
       "      <td>train_on_batch</td>\n",
       "    </tr>\n",
       "    <tr>\n",
       "      <th>5</th>\n",
       "      <td>build</td>\n",
       "      <td>fit_generator</td>\n",
       "      <td>get_output_shape_at</td>\n",
       "      <td>load_weights</td>\n",
       "      <td>outputs</td>\n",
       "      <td>save_weights</td>\n",
       "      <td>trainable</td>\n",
       "    </tr>\n",
       "    <tr>\n",
       "      <th>6</th>\n",
       "      <td>built</td>\n",
       "      <td>from_config</td>\n",
       "      <td>get_updates_for</td>\n",
       "      <td>losses</td>\n",
       "      <td>pop</td>\n",
       "      <td>set_weights</td>\n",
       "      <td>trainable_weights</td>\n",
       "    </tr>\n",
       "    <tr>\n",
       "      <th>7</th>\n",
       "      <td>call</td>\n",
       "      <td>get_config</td>\n",
       "      <td>get_weights</td>\n",
       "      <td>model</td>\n",
       "      <td>predict</td>\n",
       "      <td>state_updates</td>\n",
       "      <td>updates</td>\n",
       "    </tr>\n",
       "    <tr>\n",
       "      <th>8</th>\n",
       "      <td>compile</td>\n",
       "      <td>get_input_at</td>\n",
       "      <td>input</td>\n",
       "      <td>name</td>\n",
       "      <td>predict_classes</td>\n",
       "      <td>stateful</td>\n",
       "      <td>uses_learning_phase</td>\n",
       "    </tr>\n",
       "    <tr>\n",
       "      <th>9</th>\n",
       "      <td>compute_mask</td>\n",
       "      <td>get_input_mask_at</td>\n",
       "      <td>input_mask</td>\n",
       "      <td>non_trainable_weights</td>\n",
       "      <td>predict_generator</td>\n",
       "      <td>summary</td>\n",
       "      <td>weights</td>\n",
       "    </tr>\n",
       "  </tbody>\n",
       "</table>\n",
       "</div>"
      ],
      "text/plain": [
       "                            0                     1                    2  \\\n",
       "0                         add  compute_output_shape   get_input_shape_at   \n",
       "1                    add_loss          count_params            get_layer   \n",
       "2                  add_update              evaluate       get_losses_for   \n",
       "3                  add_weight    evaluate_generator        get_output_at   \n",
       "4  assert_input_compatibility                   fit   get_output_mask_at   \n",
       "5                       build         fit_generator  get_output_shape_at   \n",
       "6                       built           from_config      get_updates_for   \n",
       "7                        call            get_config          get_weights   \n",
       "8                     compile          get_input_at                input   \n",
       "9                compute_mask     get_input_mask_at           input_mask   \n",
       "\n",
       "                       3                  4                   5  \\\n",
       "0            input_names          optimizer    predict_on_batch   \n",
       "1            input_shape             output       predict_proba   \n",
       "2             input_spec        output_mask        reset_states   \n",
       "3                 inputs       output_names  run_internal_graph   \n",
       "4                 layers       output_shape                save   \n",
       "5           load_weights            outputs        save_weights   \n",
       "6                 losses                pop         set_weights   \n",
       "7                  model            predict       state_updates   \n",
       "8                   name    predict_classes            stateful   \n",
       "9  non_trainable_weights  predict_generator             summary   \n",
       "\n",
       "                     6  \n",
       "0     supports_masking  \n",
       "1        test_on_batch  \n",
       "2              to_json  \n",
       "3              to_yaml  \n",
       "4       train_on_batch  \n",
       "5            trainable  \n",
       "6    trainable_weights  \n",
       "7              updates  \n",
       "8  uses_learning_phase  \n",
       "9              weights  "
      ]
     },
     "execution_count": 61,
     "metadata": {},
     "output_type": "execute_result"
    }
   ],
   "source": [
    "show_method_attributes(clf_imb)"
   ]
  },
  {
   "cell_type": "code",
   "execution_count": 62,
   "metadata": {
    "ExecuteTime": {
     "end_time": "2019-10-20T20:45:23.074343Z",
     "start_time": "2019-10-20T20:45:23.031272Z"
    }
   },
   "outputs": [
    {
     "name": "stdout",
     "output_type": "stream",
     "text": [
      "_________________________________________________________________\n",
      "Layer (type)                 Output Shape              Param #   \n",
      "=================================================================\n",
      "dense_4 (Dense)              (None, 30)                930       \n",
      "_________________________________________________________________\n",
      "dense_5 (Dense)              (None, 32)                992       \n",
      "_________________________________________________________________\n",
      "dense_6 (Dense)              (None, 2)                 66        \n",
      "=================================================================\n",
      "Total params: 1,988\n",
      "Trainable params: 1,988\n",
      "Non-trainable params: 0\n",
      "_________________________________________________________________\n"
     ]
    }
   ],
   "source": [
    "clf_imb.summary()"
   ]
  },
  {
   "cell_type": "code",
   "execution_count": 63,
   "metadata": {
    "ExecuteTime": {
     "end_time": "2019-10-20T20:45:24.130107Z",
     "start_time": "2019-10-20T20:45:24.039235Z"
    }
   },
   "outputs": [],
   "source": [
    "clf_imb.compile(Adam(lr=0.001),\n",
    "                loss='sparse_categorical_crossentropy',\n",
    "                metrics=['accuracy'])"
   ]
  },
  {
   "cell_type": "code",
   "execution_count": 64,
   "metadata": {
    "ExecuteTime": {
     "end_time": "2019-10-20T20:47:44.986941Z",
     "start_time": "2019-10-20T20:45:26.222866Z"
    }
   },
   "outputs": [
    {
     "name": "stdout",
     "output_type": "stream",
     "text": [
      "Train on 182276 samples, validate on 45569 samples\n",
      "Epoch 1/20\n",
      " - 7s - loss: 0.0099 - acc: 0.9989 - val_loss: 0.0031 - val_acc: 0.9995\n",
      "Epoch 2/20\n",
      " - 7s - loss: 0.0031 - acc: 0.9993 - val_loss: 0.0028 - val_acc: 0.9996\n",
      "Epoch 3/20\n",
      " - 7s - loss: 0.0028 - acc: 0.9994 - val_loss: 0.0031 - val_acc: 0.9995\n",
      "Epoch 4/20\n",
      " - 7s - loss: 0.0026 - acc: 0.9994 - val_loss: 0.0027 - val_acc: 0.9995\n",
      "Epoch 5/20\n",
      " - 7s - loss: 0.0024 - acc: 0.9994 - val_loss: 0.0028 - val_acc: 0.9995\n",
      "Epoch 6/20\n",
      " - 7s - loss: 0.0023 - acc: 0.9994 - val_loss: 0.0026 - val_acc: 0.9996\n",
      "Epoch 7/20\n",
      " - 7s - loss: 0.0021 - acc: 0.9995 - val_loss: 0.0028 - val_acc: 0.9996\n",
      "Epoch 8/20\n",
      " - 7s - loss: 0.0021 - acc: 0.9995 - val_loss: 0.0030 - val_acc: 0.9996\n",
      "Epoch 9/20\n",
      " - 7s - loss: 0.0021 - acc: 0.9995 - val_loss: 0.0030 - val_acc: 0.9995\n",
      "Epoch 10/20\n",
      " - 7s - loss: 0.0020 - acc: 0.9995 - val_loss: 0.0025 - val_acc: 0.9997\n",
      "Epoch 11/20\n",
      " - 7s - loss: 0.0019 - acc: 0.9995 - val_loss: 0.0032 - val_acc: 0.9996\n",
      "Epoch 12/20\n",
      " - 7s - loss: 0.0019 - acc: 0.9996 - val_loss: 0.0028 - val_acc: 0.9996\n",
      "Epoch 13/20\n",
      " - 7s - loss: 0.0018 - acc: 0.9995 - val_loss: 0.0029 - val_acc: 0.9996\n",
      "Epoch 14/20\n",
      " - 7s - loss: 0.0017 - acc: 0.9996 - val_loss: 0.0030 - val_acc: 0.9993\n",
      "Epoch 15/20\n",
      " - 7s - loss: 0.0017 - acc: 0.9996 - val_loss: 0.0033 - val_acc: 0.9997\n",
      "Epoch 16/20\n",
      " - 7s - loss: 0.0017 - acc: 0.9996 - val_loss: 0.0032 - val_acc: 0.9996\n",
      "Epoch 17/20\n",
      " - 7s - loss: 0.0016 - acc: 0.9996 - val_loss: 0.0032 - val_acc: 0.9996\n",
      "Epoch 18/20\n",
      " - 7s - loss: 0.0015 - acc: 0.9996 - val_loss: 0.0035 - val_acc: 0.9996\n",
      "Epoch 19/20\n",
      " - 7s - loss: 0.0014 - acc: 0.9996 - val_loss: 0.0038 - val_acc: 0.9995\n",
      "Epoch 20/20\n",
      " - 7s - loss: 0.0015 - acc: 0.9996 - val_loss: 0.0039 - val_acc: 0.9993\n"
     ]
    },
    {
     "data": {
      "text/plain": [
       "<keras.callbacks.History at 0x11c112d68>"
      ]
     },
     "execution_count": 64,
     "metadata": {},
     "output_type": "execute_result"
    }
   ],
   "source": [
    "clf_imb.fit(Xtrain, ytrain,\n",
    "            validation_split=0.2,\n",
    "            batch_size=25,\n",
    "            epochs=20,\n",
    "            shuffle=True,\n",
    "            verbose=2)"
   ]
  },
  {
   "cell_type": "code",
   "execution_count": 66,
   "metadata": {
    "ExecuteTime": {
     "end_time": "2019-10-20T20:48:06.050237Z",
     "start_time": "2019-10-20T20:48:05.793531Z"
    }
   },
   "outputs": [],
   "source": [
    "ypreds = clf_imb.predict(Xtest, batch_size=200, verbose=0)"
   ]
  },
  {
   "cell_type": "code",
   "execution_count": 67,
   "metadata": {
    "ExecuteTime": {
     "end_time": "2019-10-20T20:48:06.920655Z",
     "start_time": "2019-10-20T20:48:06.729305Z"
    }
   },
   "outputs": [],
   "source": [
    "ypreds_imb = clf_imb.predict_classes(Xtest, batch_size=200, verbose=0)"
   ]
  },
  {
   "cell_type": "code",
   "execution_count": 68,
   "metadata": {
    "ExecuteTime": {
     "end_time": "2019-10-20T20:48:07.692937Z",
     "start_time": "2019-10-20T20:48:07.634603Z"
    }
   },
   "outputs": [
    {
     "data": {
      "text/plain": [
       "array([0, 0, 0, ..., 0, 0, 0])"
      ]
     },
     "execution_count": 68,
     "metadata": {},
     "output_type": "execute_result"
    }
   ],
   "source": [
    "ypreds_imb"
   ]
  },
  {
   "cell_type": "code",
   "execution_count": 72,
   "metadata": {
    "ExecuteTime": {
     "end_time": "2019-10-20T20:48:57.574316Z",
     "start_time": "2019-10-20T20:48:57.375122Z"
    }
   },
   "outputs": [
    {
     "data": {
      "text/plain": [
       "array([[43564, 13300],\n",
       "       [   94,     4]])"
      ]
     },
     "execution_count": 72,
     "metadata": {},
     "output_type": "execute_result"
    }
   ],
   "source": [
    "cm = confusion_matrix(ytest,ypreds_imb)\n",
    "vals = cm.ravel()\n",
    "\n",
    "cm"
   ]
  },
  {
   "cell_type": "code",
   "execution_count": 73,
   "metadata": {
    "ExecuteTime": {
     "end_time": "2019-10-20T20:49:21.715621Z",
     "start_time": "2019-10-20T20:49:21.651329Z"
    }
   },
   "outputs": [
    {
     "name": "stdout",
     "output_type": "stream",
     "text": [
      "Keras Imbalaned Data Results\n",
      "-------------------------\n",
      "Total Frauds:  98\n",
      "Incorrect Frauds:  94\n",
      "Incorrect Percent:  95.92 %\n"
     ]
    }
   ],
   "source": [
    "print('Keras Imbalaned Data Results')\n",
    "print('-'*25)\n",
    "print('Total Frauds: ', vals[2] + vals[3])\n",
    "print('Incorrect Frauds: ', vals[2])\n",
    "print('Incorrect Percent: ', round(vals[2]*100/(vals[2]+vals[3]),2),'%')"
   ]
  },
  {
   "cell_type": "code",
   "execution_count": 74,
   "metadata": {
    "ExecuteTime": {
     "end_time": "2019-10-20T20:49:31.042216Z",
     "start_time": "2019-10-20T20:49:30.920897Z"
    }
   },
   "outputs": [
    {
     "name": "stdout",
     "output_type": "stream",
     "text": [
      "              precision    recall  f1-score   support\n",
      "\n",
      "           0       1.00      0.77      0.87     56864\n",
      "           1       0.00      0.04      0.00        98\n",
      "\n",
      "   micro avg       0.76      0.76      0.76     56962\n",
      "   macro avg       0.50      0.40      0.43     56962\n",
      "weighted avg       1.00      0.76      0.87     56962\n",
      "\n"
     ]
    }
   ],
   "source": [
    "report = classification_report(ytest, ypreds_imb)\n",
    "print(report)"
   ]
  },
  {
   "cell_type": "markdown",
   "metadata": {},
   "source": [
    "## Deep Learning Undersampled Data"
   ]
  },
  {
   "cell_type": "code",
   "execution_count": 75,
   "metadata": {
    "ExecuteTime": {
     "end_time": "2019-10-20T20:49:37.248310Z",
     "start_time": "2019-10-20T20:49:37.082014Z"
    }
   },
   "outputs": [],
   "source": [
    "n_inputs = Xtrain_under.shape[1]\n",
    "\n",
    "clf_under = Sequential([\n",
    "    Dense(n_inputs, input_shape=(n_inputs, ), activation='relu'),\n",
    "    Dense(32, activation='relu'),\n",
    "    Dense(2, activation='softmax')\n",
    "])"
   ]
  },
  {
   "cell_type": "code",
   "execution_count": 76,
   "metadata": {
    "ExecuteTime": {
     "end_time": "2019-10-20T20:49:38.700686Z",
     "start_time": "2019-10-20T20:49:38.586200Z"
    }
   },
   "outputs": [],
   "source": [
    "clf_under.compile(Adam(lr=0.001),\n",
    "                loss='sparse_categorical_crossentropy',\n",
    "                metrics=['accuracy'])"
   ]
  },
  {
   "cell_type": "code",
   "execution_count": 77,
   "metadata": {
    "ExecuteTime": {
     "end_time": "2019-10-20T20:49:43.963851Z",
     "start_time": "2019-10-20T20:49:42.610629Z"
    }
   },
   "outputs": [
    {
     "name": "stdout",
     "output_type": "stream",
     "text": [
      "Train on 629 samples, validate on 158 samples\n",
      "Epoch 1/20\n",
      " - 0s - loss: 0.4386 - acc: 0.7647 - val_loss: 0.3447 - val_acc: 0.8924\n",
      "Epoch 2/20\n",
      " - 0s - loss: 0.2972 - acc: 0.8983 - val_loss: 0.2694 - val_acc: 0.9177\n",
      "Epoch 3/20\n",
      " - 0s - loss: 0.2414 - acc: 0.9189 - val_loss: 0.2173 - val_acc: 0.9241\n",
      "Epoch 4/20\n",
      " - 0s - loss: 0.2132 - acc: 0.9221 - val_loss: 0.1851 - val_acc: 0.9367\n",
      "Epoch 5/20\n",
      " - 0s - loss: 0.1901 - acc: 0.9348 - val_loss: 0.1612 - val_acc: 0.9367\n",
      "Epoch 6/20\n",
      " - 0s - loss: 0.1761 - acc: 0.9348 - val_loss: 0.1447 - val_acc: 0.9557\n",
      "Epoch 7/20\n",
      " - 0s - loss: 0.1651 - acc: 0.9348 - val_loss: 0.1360 - val_acc: 0.9557\n",
      "Epoch 8/20\n",
      " - 0s - loss: 0.1553 - acc: 0.9380 - val_loss: 0.1283 - val_acc: 0.9494\n",
      "Epoch 9/20\n",
      " - 0s - loss: 0.1477 - acc: 0.9380 - val_loss: 0.1187 - val_acc: 0.9684\n",
      "Epoch 10/20\n",
      " - 0s - loss: 0.1412 - acc: 0.9396 - val_loss: 0.1164 - val_acc: 0.9620\n",
      "Epoch 11/20\n",
      " - 0s - loss: 0.1373 - acc: 0.9396 - val_loss: 0.1112 - val_acc: 0.9620\n",
      "Epoch 12/20\n",
      " - 0s - loss: 0.1309 - acc: 0.9428 - val_loss: 0.1125 - val_acc: 0.9557\n",
      "Epoch 13/20\n",
      " - 0s - loss: 0.1253 - acc: 0.9539 - val_loss: 0.1079 - val_acc: 0.9620\n",
      "Epoch 14/20\n",
      " - 0s - loss: 0.1212 - acc: 0.9539 - val_loss: 0.1358 - val_acc: 0.9494\n",
      "Epoch 15/20\n",
      " - 0s - loss: 0.1214 - acc: 0.9539 - val_loss: 0.1253 - val_acc: 0.9494\n",
      "Epoch 16/20\n",
      " - 0s - loss: 0.1133 - acc: 0.9539 - val_loss: 0.1163 - val_acc: 0.9557\n",
      "Epoch 17/20\n",
      " - 0s - loss: 0.1103 - acc: 0.9587 - val_loss: 0.1223 - val_acc: 0.9494\n",
      "Epoch 18/20\n",
      " - 0s - loss: 0.1063 - acc: 0.9587 - val_loss: 0.1150 - val_acc: 0.9557\n",
      "Epoch 19/20\n",
      " - 0s - loss: 0.1019 - acc: 0.9618 - val_loss: 0.1130 - val_acc: 0.9494\n",
      "Epoch 20/20\n",
      " - 0s - loss: 0.0986 - acc: 0.9587 - val_loss: 0.1149 - val_acc: 0.9494\n"
     ]
    },
    {
     "data": {
      "text/plain": [
       "<keras.callbacks.History at 0x12f622e10>"
      ]
     },
     "execution_count": 77,
     "metadata": {},
     "output_type": "execute_result"
    }
   ],
   "source": [
    "clf_under.fit(Xtrain_under, ytrain_under,\n",
    "            validation_split=0.2,\n",
    "            batch_size=25,\n",
    "            epochs=20,\n",
    "            shuffle=True,\n",
    "            verbose=2)"
   ]
  },
  {
   "cell_type": "code",
   "execution_count": 78,
   "metadata": {
    "ExecuteTime": {
     "end_time": "2019-10-20T20:49:48.522402Z",
     "start_time": "2019-10-20T20:49:48.412250Z"
    }
   },
   "outputs": [],
   "source": [
    "ypreds_under = clf_under.predict(Xtest_under, batch_size=200, verbose=0)"
   ]
  },
  {
   "cell_type": "code",
   "execution_count": 79,
   "metadata": {
    "ExecuteTime": {
     "end_time": "2019-10-20T20:49:49.434047Z",
     "start_time": "2019-10-20T20:49:49.378867Z"
    }
   },
   "outputs": [],
   "source": [
    "ypreds_under = clf_under.predict_classes(Xtest_under, batch_size=200, verbose=0)"
   ]
  },
  {
   "cell_type": "code",
   "execution_count": 80,
   "metadata": {
    "ExecuteTime": {
     "end_time": "2019-10-20T20:49:50.469589Z",
     "start_time": "2019-10-20T20:49:50.412164Z"
    }
   },
   "outputs": [
    {
     "data": {
      "text/plain": [
       "array([1, 1, 0, 0, 1, 1, 1, 0, 1, 0, 0, 1, 0, 0, 0, 0, 1, 1, 1, 0, 1, 1,\n",
       "       1, 1, 1, 1, 1, 0, 0, 0, 0, 1, 0, 1, 0, 1, 0, 1, 0, 1, 1, 1, 1, 1,\n",
       "       1, 1, 0, 0, 0, 0, 1, 1, 0, 1, 1, 0, 0, 1, 0, 0, 1, 0, 0, 0, 0, 0,\n",
       "       0, 1, 0, 0, 0, 0, 0, 0, 1, 1, 0, 1, 0, 1, 0, 0, 1, 0, 1, 0, 1, 1,\n",
       "       0, 1, 1, 0, 1, 0, 1, 1, 0, 1, 0, 1, 0, 1, 1, 1, 1, 0, 0, 1, 1, 0,\n",
       "       0, 1, 0, 1, 0, 0, 0, 0, 1, 1, 1, 0, 0, 0, 0, 1, 0, 1, 1, 0, 1, 1,\n",
       "       0, 0, 0, 1, 0, 0, 0, 0, 0, 1, 1, 1, 0, 0, 1, 1, 1, 0, 0, 1, 0, 0,\n",
       "       0, 0, 1, 1, 1, 0, 0, 1, 0, 0, 0, 0, 1, 1, 1, 0, 0, 1, 0, 1, 1, 0,\n",
       "       0, 1, 0, 0, 1, 0, 1, 1, 0, 1, 0, 1, 0, 0, 0, 1, 1, 0, 0, 0, 1])"
      ]
     },
     "execution_count": 80,
     "metadata": {},
     "output_type": "execute_result"
    }
   ],
   "source": [
    "ypreds_under"
   ]
  },
  {
   "cell_type": "code",
   "execution_count": 83,
   "metadata": {
    "ExecuteTime": {
     "end_time": "2019-10-20T20:50:31.807223Z",
     "start_time": "2019-10-20T20:50:31.740463Z"
    }
   },
   "outputs": [
    {
     "data": {
      "text/plain": [
       "array([[97,  2],\n",
       "       [ 7, 91]])"
      ]
     },
     "execution_count": 83,
     "metadata": {},
     "output_type": "execute_result"
    }
   ],
   "source": [
    "cm = confusion_matrix(ytest_under,ypreds_under)\n",
    "vals = cm.ravel()\n",
    "\n",
    "cm"
   ]
  },
  {
   "cell_type": "code",
   "execution_count": 86,
   "metadata": {
    "ExecuteTime": {
     "end_time": "2019-10-20T20:52:03.604182Z",
     "start_time": "2019-10-20T20:52:03.510425Z"
    }
   },
   "outputs": [
    {
     "name": "stdout",
     "output_type": "stream",
     "text": [
      "Keras Undersampled Train Test Results\n",
      "-------------------------\n",
      "Total Frauds:  98\n",
      "Incorrect Frauds:  7\n",
      "Incorrect Percent:  7.14 %\n"
     ]
    }
   ],
   "source": [
    "print('Keras Undersampled Train Test Results')\n",
    "print('-'*25)\n",
    "print('Total Frauds: ', vals[2] + vals[3])\n",
    "print('Incorrect Frauds: ', vals[2])\n",
    "print('Incorrect Percent: ', round(vals[2]*100/(vals[2]+vals[3]),2),'%')"
   ]
  },
  {
   "cell_type": "code",
   "execution_count": 85,
   "metadata": {
    "ExecuteTime": {
     "end_time": "2019-10-20T20:50:57.588696Z",
     "start_time": "2019-10-20T20:50:57.540378Z"
    }
   },
   "outputs": [
    {
     "name": "stdout",
     "output_type": "stream",
     "text": [
      "              precision    recall  f1-score   support\n",
      "\n",
      "           0       0.93      0.98      0.96        99\n",
      "           1       0.98      0.93      0.95        98\n",
      "\n",
      "   micro avg       0.95      0.95      0.95       197\n",
      "   macro avg       0.96      0.95      0.95       197\n",
      "weighted avg       0.96      0.95      0.95       197\n",
      "\n"
     ]
    }
   ],
   "source": [
    "report_under = classification_report(ytest_under, ypreds_under)\n",
    "print(report_under)"
   ]
  },
  {
   "cell_type": "code",
   "execution_count": null,
   "metadata": {},
   "outputs": [],
   "source": []
  }
 ],
 "metadata": {
  "kernelspec": {
   "display_name": "Python3.7 (tensorflow)",
   "language": "python",
   "name": "tf"
  },
  "language_info": {
   "codemirror_mode": {
    "name": "ipython",
    "version": 3
   },
   "file_extension": ".py",
   "mimetype": "text/x-python",
   "name": "python",
   "nbconvert_exporter": "python",
   "pygments_lexer": "ipython3",
   "version": "3.6.8"
  },
  "toc": {
   "base_numbering": 1,
   "nav_menu": {},
   "number_sections": true,
   "sideBar": true,
   "skip_h1_title": false,
   "title_cell": "Table of Contents",
   "title_sidebar": "Contents",
   "toc_cell": true,
   "toc_position": {},
   "toc_section_display": true,
   "toc_window_display": true
  }
 },
 "nbformat": 4,
 "nbformat_minor": 2
}
