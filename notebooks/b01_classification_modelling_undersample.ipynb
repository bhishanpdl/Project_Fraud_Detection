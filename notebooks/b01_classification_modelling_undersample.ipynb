{
 "cells": [
  {
   "cell_type": "markdown",
   "metadata": {
    "toc": "true"
   },
   "source": [
    "<h1>Table of Contents<span class=\"tocSkip\"></span></h1>\n",
    "<div class=\"toc\"><ul class=\"toc-item\"><li><span><a href=\"#Data-Description\" data-toc-modified-id=\"Data-Description-1\"><span class=\"toc-item-num\">1&nbsp;&nbsp;</span>Data Description</a></span></li><li><span><a href=\"#Business-Problem\" data-toc-modified-id=\"Business-Problem-2\"><span class=\"toc-item-num\">2&nbsp;&nbsp;</span>Business Problem</a></span></li><li><span><a href=\"#Imports\" data-toc-modified-id=\"Imports-3\"><span class=\"toc-item-num\">3&nbsp;&nbsp;</span>Imports</a></span></li><li><span><a href=\"#Useful-Scripts\" data-toc-modified-id=\"Useful-Scripts-4\"><span class=\"toc-item-num\">4&nbsp;&nbsp;</span>Useful Scripts</a></span></li><li><span><a href=\"#Load-the-data\" data-toc-modified-id=\"Load-the-data-5\"><span class=\"toc-item-num\">5&nbsp;&nbsp;</span>Load the data</a></span></li><li><span><a href=\"#Preprocessing\" data-toc-modified-id=\"Preprocessing-6\"><span class=\"toc-item-num\">6&nbsp;&nbsp;</span>Preprocessing</a></span><ul class=\"toc-item\"><li><span><a href=\"#Class-Balance\" data-toc-modified-id=\"Class-Balance-6.1\"><span class=\"toc-item-num\">6.1&nbsp;&nbsp;</span>Class Balance</a></span></li><li><span><a href=\"#Correlation-with-target\" data-toc-modified-id=\"Correlation-with-target-6.2\"><span class=\"toc-item-num\">6.2&nbsp;&nbsp;</span>Correlation with target</a></span></li><li><span><a href=\"#Distribution-plots\" data-toc-modified-id=\"Distribution-plots-6.3\"><span class=\"toc-item-num\">6.3&nbsp;&nbsp;</span>Distribution plots</a></span></li><li><span><a href=\"#Scaling\" data-toc-modified-id=\"Scaling-6.4\"><span class=\"toc-item-num\">6.4&nbsp;&nbsp;</span>Scaling</a></span></li><li><span><a href=\"#Outliers-Removal\" data-toc-modified-id=\"Outliers-Removal-6.5\"><span class=\"toc-item-num\">6.5&nbsp;&nbsp;</span>Outliers Removal</a></span></li><li><span><a href=\"#Random-Under-Sampling\" data-toc-modified-id=\"Random-Under-Sampling-6.6\"><span class=\"toc-item-num\">6.6&nbsp;&nbsp;</span>Random Under Sampling</a></span></li></ul></li><li><span><a href=\"#Train-Test-split-with-stratify-for-imbalanced-data\" data-toc-modified-id=\"Train-Test-split-with-stratify-for-imbalanced-data-7\"><span class=\"toc-item-num\">7&nbsp;&nbsp;</span>Train Test split with stratify for imbalanced data</a></span><ul class=\"toc-item\"><li><span><a href=\"#Check-for-nans-before-modelling\" data-toc-modified-id=\"Check-for-nans-before-modelling-7.1\"><span class=\"toc-item-num\">7.1&nbsp;&nbsp;</span>Check for nans before modelling</a></span></li></ul></li><li><span><a href=\"#Modelling\" data-toc-modified-id=\"Modelling-8\"><span class=\"toc-item-num\">8&nbsp;&nbsp;</span>Modelling</a></span><ul class=\"toc-item\"><li><span><a href=\"#Classifiers\" data-toc-modified-id=\"Classifiers-8.1\"><span class=\"toc-item-num\">8.1&nbsp;&nbsp;</span>Classifiers</a></span></li><li><span><a href=\"#Recall-Scores-from-Cross-Validation\" data-toc-modified-id=\"Recall-Scores-from-Cross-Validation-8.2\"><span class=\"toc-item-num\">8.2&nbsp;&nbsp;</span>Recall Scores from Cross Validation</a></span></li><li><span><a href=\"#ROC-AUC-Scores-from-Cross-Validation\" data-toc-modified-id=\"ROC-AUC-Scores-from-Cross-Validation-8.3\"><span class=\"toc-item-num\">8.3&nbsp;&nbsp;</span>ROC AUC Scores from Cross Validation</a></span></li><li><span><a href=\"#Grid-Search-and-Randomized-Search\" data-toc-modified-id=\"Grid-Search-and-Randomized-Search-8.4\"><span class=\"toc-item-num\">8.4&nbsp;&nbsp;</span>Grid Search and Randomized Search</a></span></li></ul></li><li><span><a href=\"#Model-Evaluation\" data-toc-modified-id=\"Model-Evaluation-9\"><span class=\"toc-item-num\">9&nbsp;&nbsp;</span>Model Evaluation</a></span><ul class=\"toc-item\"><li><span><a href=\"#Get-Predictions\" data-toc-modified-id=\"Get-Predictions-9.1\"><span class=\"toc-item-num\">9.1&nbsp;&nbsp;</span>Get Predictions</a></span></li><li><span><a href=\"#Scalar-Classification-Metrics\" data-toc-modified-id=\"Scalar-Classification-Metrics-9.2\"><span class=\"toc-item-num\">9.2&nbsp;&nbsp;</span>Scalar Classification Metrics</a></span></li><li><span><a href=\"#Classification-Report\" data-toc-modified-id=\"Classification-Report-9.3\"><span class=\"toc-item-num\">9.3&nbsp;&nbsp;</span>Classification Report</a></span></li><li><span><a href=\"#Confusion-Matrix\" data-toc-modified-id=\"Confusion-Matrix-9.4\"><span class=\"toc-item-num\">9.4&nbsp;&nbsp;</span>Confusion Matrix</a></span></li><li><span><a href=\"#False-Negative-Counts\" data-toc-modified-id=\"False-Negative-Counts-9.5\"><span class=\"toc-item-num\">9.5&nbsp;&nbsp;</span>False Negative Counts</a></span></li><li><span><a href=\"#ROC-Curve\" data-toc-modified-id=\"ROC-Curve-9.6\"><span class=\"toc-item-num\">9.6&nbsp;&nbsp;</span>ROC Curve</a></span></li><li><span><a href=\"#Plotly-Model-Evaluation-Plots\" data-toc-modified-id=\"Plotly-Model-Evaluation-Plots-9.7\"><span class=\"toc-item-num\">9.7&nbsp;&nbsp;</span>Plotly Model Evaluation Plots</a></span></li><li><span><a href=\"#Feature-Importances-from-Random-Forest-Classifier\" data-toc-modified-id=\"Feature-Importances-from-Random-Forest-Classifier-9.8\"><span class=\"toc-item-num\">9.8&nbsp;&nbsp;</span>Feature Importances from Random Forest Classifier</a></span></li></ul></li></ul></div>"
   ]
  },
  {
   "cell_type": "markdown",
   "metadata": {},
   "source": [
    "<div class=\"alert alert-block alert-success\">\n",
    "<b>Kernel Author:</b>  <br>\n",
    "<a href=\"https://bhishanpdl.github.io/\" , target=\"_blank\">Bhishan Poudel, Ph.D Astrophysics</a> .\n",
    "</div>"
   ]
  },
  {
   "cell_type": "markdown",
   "metadata": {},
   "source": [
    "# Data Description\n",
    "\n",
    "> The datasets contains transactions made by credit cards in September\n",
    "2013 by european cardholders.\n",
    "\n",
    "\n",
    "> This dataset presents transactions that occurred in two days,\n",
    "where we have 492 frauds out of 284,807 transactions. \n",
    "\n",
    "> The dataset is highly unbalanced, the positive class (frauds)\n",
    "account for 0.172% of all transactions.\n",
    "\n",
    "> It contains only numerical input variables which are\n",
    "the result of a PCA transformation.\n",
    "\n",
    "\n",
    "> Unfortunately, due to confidentiality issues,\n",
    "we cannot provide the original features and \n",
    "more background information about the data.\n",
    "\n",
    "\n",
    "> Features V1, V2, ... V28 are the principal\n",
    "components obtained with PCA,\n",
    "the only features which have not been transformed with PCA are 'Time' and 'Amount'. \n",
    "\n",
    "> Feature 'Time' contains the seconds elapsed between each transaction\n",
    "and the first transaction in the dataset. The feature 'Amount'\n",
    "is the transaction Amount, this feature can be used for \n",
    "example-dependant cost-senstive learning. \n",
    "\n",
    "> Feature 'Class' is the response variable and it takes value\n",
    "1 in case of fraud and 0 otherwise."
   ]
  },
  {
   "cell_type": "markdown",
   "metadata": {},
   "source": [
    "# Business Problem\n",
    "\n",
    "<div class=\"alert alert-block alert-success\">\n",
    "<b>Business Problem:</b>  <br>\n",
    "Task &nbsp;&nbsp; : Detect the fraudulent activities. <br>\n",
    "Metric : Recall <br>\n",
    "Sampling: Synthetic Minority Over-Sampling Technique (SMOTE) <br>\n",
    "Question: How many frauds are correctly classified?\n",
    "</div>\n",
    "\n",
    "Remember that `Recall = TP / (TP + FN)`. In case of fraud detection,\n",
    "classifying a fraud as\n",
    "non-fraud (FN) is more risky so we use the metric `recall` to compare the \n",
    "performances of the models. Higher the recall, better is the model.\n",
    "\n",
    "\n",
    "The dataset is highly imbalanced. It has 284k non-frauds and 1k frauds.\n",
    "This means out of 1000 transatiosn, 998 are normal and 2 are fraud cases.\n",
    "\n",
    "Also, we should note that the data is just of two days, we implicitly assume that\n",
    "these two days are represent of the whole trend and reflects the property\n",
    "of the population properly.\n",
    "\n",
    "The could have been more or less fraudulent transactions in those particular days,\n",
    "but we would not take that into consideration and we generalizes the result.\n",
    "Or, we can say that based on the data from these two days we reached following\n",
    "conclusion and the result is appropriate for the population where the data\n",
    "distribution is similar to that of these two days.\n",
    "\n",
    "\n",
    "We are more interestd in finding the Fraud cases. i.e. FN (False Negative) cases,\n",
    "predicting fraud as non-fraud is riskier than predicting non-fraud as fraud.\n",
    "So, the suitable metric of model evaluation is RECALL.\n",
    "\n",
    "In banking, it is always the case that there are a lot of normal transactions,\n",
    "and only few of them are fraudulent. We may train our model with any transformation\n",
    "of the training data, but when testing the model the test set should look like\n",
    "real life, i.e., it has lots of normal cases and very few fraudulent cases.\n",
    "\n",
    "This means we can train our model using imbalanced or balanced (undersamples\n",
    "or oversampled) but we should test our model on IMBALANCED dataset.\n",
    "\n",
    "\n",
    "<div class=\"alert alert-block alert-danger\">\n",
    "<b>WARNINGS for Serialization:</b>\n",
    "    <br>\n",
    "When using the picked object (serialized object),\n",
    "the machine should have all the same versions of libraries used, such as numpy,\n",
    "pandas, scikit-learn, and all other dependency libraries. \n",
    "<br>\n",
    "So, to load the serialized object make sure you have the \n",
    "same conda environment as it was when creating the serialized object.\n",
    "</div>\n",
    "\n",
    "<div class=\"alert alert-block alert-info\">\n",
    "<b>NOTE:</b> When using Logistic Regression for classification problems,\n",
    "    we have different solvers in scikit-learn such as `liblinear`, `lbfgs`,\n",
    "    `sag`, `saga` and `newton-cg`.\n",
    "    <br>\n",
    "    `liblinear` only supports `l1` and `l2` penalty. and `saga` only supports\n",
    "    `elasticnet`.\n",
    "    <br>\n",
    "    <br>\n",
    "    For small datasets, ‘liblinear’ is a good choice, whereas ‘sag’ and ‘saga’ are faster for large ones.\n",
    "    <br>\n",
    "For multiclass problems, only ‘newton-cg’, ‘sag’, ‘saga’ and ‘lbfgs’ handle multinomial loss; ‘liblinear’ is limited to one-versus-rest schemes.\n",
    "    <br>\n",
    "‘newton-cg’, ‘lbfgs’, ‘sag’ and ‘saga’ handle L2 or no penalty<br>\n",
    "‘liblinear’ and ‘saga’ also handle L1 penalty<br>\n",
    "‘saga’ also supports ‘elasticnet’ penalty<br>\n",
    "‘liblinear’ does not handle no penalty.<br>\n",
    "    \n",
    "    \n",
    "</div>\n",
    "\n",
    "<div class=\"alert alert-block alert-info\">\n",
    "<b>NOTE:</b> Confusion Matrix Terms\n",
    "    <br>\n",
    "Fraud ==> Fraud TP <br>\n",
    "Non-Fraud ==> Non-Fraud TN <br>\n",
    "Fraud ==> Non-Fraud FN (I am interested in this) <br>\n",
    "Non-Fraud ==> Fraud FP\n",
    "<br>\n",
    "\n",
    "</div>"
   ]
  },
  {
   "cell_type": "markdown",
   "metadata": {},
   "source": [
    "# Imports"
   ]
  },
  {
   "cell_type": "code",
   "execution_count": 1,
   "metadata": {
    "ExecuteTime": {
     "end_time": "2019-10-20T17:16:01.769105Z",
     "start_time": "2019-10-20T17:16:01.752867Z"
    }
   },
   "outputs": [],
   "source": [
    "import bhishan"
   ]
  },
  {
   "cell_type": "code",
   "execution_count": 2,
   "metadata": {
    "ExecuteTime": {
     "end_time": "2019-10-20T17:16:02.318733Z",
     "start_time": "2019-10-20T17:16:02.282993Z"
    }
   },
   "outputs": [],
   "source": [
    "%load_ext autoreload\n",
    "\n",
    "%autoreload 2"
   ]
  },
  {
   "cell_type": "code",
   "execution_count": 3,
   "metadata": {
    "ExecuteTime": {
     "end_time": "2019-10-20T17:16:03.969105Z",
     "start_time": "2019-10-20T17:16:02.853797Z"
    }
   },
   "outputs": [],
   "source": [
    "from bhishan.util_model_eval import get_binary_classification_scalar_metrics\n",
    "from bhishan.util_model_eval import print_confusion_matrix_frauds\n",
    "from bhishan.util_model_eval import plot_confusion_matrix_plotly"
   ]
  },
  {
   "cell_type": "code",
   "execution_count": 4,
   "metadata": {
    "ExecuteTime": {
     "end_time": "2019-10-20T17:16:04.772301Z",
     "start_time": "2019-10-20T17:16:03.974548Z"
    }
   },
   "outputs": [
    {
     "name": "stdout",
     "output_type": "stream",
     "text": [
      "[('numpy', '1.16.4'), ('pandas', '0.25.0'), ('seaborn', '0.9.0'), ('matplotlib', '3.1.1')]\n"
     ]
    }
   ],
   "source": [
    "import numpy as np\n",
    "import pandas as pd\n",
    "import seaborn as sns\n",
    "sns.set(color_codes=True)\n",
    "\n",
    "import matplotlib\n",
    "import matplotlib.pyplot as plt\n",
    "%matplotlib inline\n",
    "\n",
    "import os\n",
    "import time\n",
    "\n",
    "# random state\n",
    "random_state=100\n",
    "np.random.seed(random_state) # we need this in each cell\n",
    "np.random.set_state=random_state\n",
    "\n",
    "# Jupyter notebook settings for pandas\n",
    "pd.set_option('display.max_columns', 200)\n",
    "pd.set_option('display.max_rows', 100) # None for all the rows\n",
    "pd.set_option('display.max_colwidth', 50)\n",
    "\n",
    "print([(x.__name__,x.__version__) for x in [np, pd,sns,matplotlib]])"
   ]
  },
  {
   "cell_type": "code",
   "execution_count": 5,
   "metadata": {
    "ExecuteTime": {
     "end_time": "2019-10-20T17:16:04.803735Z",
     "start_time": "2019-10-20T17:16:04.774667Z"
    }
   },
   "outputs": [],
   "source": [
    "import scipy\n",
    "from scipy import stats"
   ]
  },
  {
   "cell_type": "code",
   "execution_count": 6,
   "metadata": {
    "ExecuteTime": {
     "end_time": "2019-10-20T17:16:04.836412Z",
     "start_time": "2019-10-20T17:16:04.812183Z"
    }
   },
   "outputs": [],
   "source": [
    "# six and pickle\n",
    "import six\n",
    "import pickle\n",
    "import joblib"
   ]
  },
  {
   "cell_type": "code",
   "execution_count": 7,
   "metadata": {
    "ExecuteTime": {
     "end_time": "2019-10-20T17:16:06.358126Z",
     "start_time": "2019-10-20T17:16:05.613992Z"
    }
   },
   "outputs": [],
   "source": [
    "# scale and split\n",
    "from sklearn.preprocessing import MinMaxScaler, StandardScaler, RobustScaler\n",
    "from sklearn.model_selection import train_test_split\n",
    "from sklearn.model_selection import StratifiedKFold"
   ]
  },
  {
   "cell_type": "code",
   "execution_count": 8,
   "metadata": {
    "ExecuteTime": {
     "end_time": "2019-10-20T17:16:06.630697Z",
     "start_time": "2019-10-20T17:16:06.359835Z"
    }
   },
   "outputs": [],
   "source": [
    "# classifiers\n",
    "from sklearn.linear_model import LogisticRegression\n",
    "from sklearn.svm import SVC\n",
    "from sklearn.neighbors import KNeighborsClassifier\n",
    "from sklearn.tree import DecisionTreeClassifier\n",
    "from sklearn.ensemble import RandomForestClassifier"
   ]
  },
  {
   "cell_type": "code",
   "execution_count": 9,
   "metadata": {
    "ExecuteTime": {
     "end_time": "2019-10-20T17:16:06.782799Z",
     "start_time": "2019-10-20T17:16:06.753667Z"
    }
   },
   "outputs": [],
   "source": [
    "# grid search\n",
    "from sklearn.model_selection import GridSearchCV, RandomizedSearchCV\n",
    "from sklearn.model_selection import StratifiedKFold"
   ]
  },
  {
   "cell_type": "code",
   "execution_count": 10,
   "metadata": {
    "ExecuteTime": {
     "end_time": "2019-10-20T17:16:07.241151Z",
     "start_time": "2019-10-20T17:16:07.209287Z"
    }
   },
   "outputs": [],
   "source": [
    "# pipeline\n",
    "from sklearn.pipeline import make_pipeline"
   ]
  },
  {
   "cell_type": "code",
   "execution_count": 11,
   "metadata": {
    "ExecuteTime": {
     "end_time": "2019-10-20T17:16:07.698200Z",
     "start_time": "2019-10-20T17:16:07.664115Z"
    }
   },
   "outputs": [],
   "source": [
    "# cross validations\n",
    "\n",
    "#------------------\n",
    "# cross_val_score(lasso, X, y, cv=5,n_jobs=-1,scoring='r2')\n",
    "# cross_val_score(clf,   X, y, cv=5,n_jobs=-1,scoring='recall')\n",
    "from sklearn.model_selection import cross_val_score\n",
    "\n",
    "#------------------\n",
    "# cross_val_predict may differ from cross_validate and cross_val_score\n",
    "# cross_val_predict can be used for plotting.\n",
    "# ypreds = cross_val_predict(lasso, X, y, cv=5,n_jobs=-1,scoring='r2')\n",
    "# ypreds = cross_val_predict(clf,   X, y, cv=5,n_jobs=-1,scoring='recall')\n",
    "from sklearn.model_selection import cross_val_predict\n",
    "\n",
    "#------------------\n",
    "# cv_results = cross_validate(lasso, X, y, cv=5,n_jobs=-1,scoring='r2')\n",
    "# print(cv_results['test_score'])\n",
    "from sklearn.metrics.scorer import make_scorer\n",
    "from sklearn.model_selection import cross_validate"
   ]
  },
  {
   "cell_type": "code",
   "execution_count": 12,
   "metadata": {
    "ExecuteTime": {
     "end_time": "2019-10-20T17:16:08.176912Z",
     "start_time": "2019-10-20T17:16:08.144896Z"
    }
   },
   "outputs": [],
   "source": [
    "# sklearn scalar metrics\n",
    "from sklearn.metrics import accuracy_score\n",
    "from sklearn.metrics import precision_score\n",
    "from sklearn.metrics import recall_score\n",
    "from sklearn.metrics import f1_score"
   ]
  },
  {
   "cell_type": "code",
   "execution_count": 13,
   "metadata": {
    "ExecuteTime": {
     "end_time": "2019-10-20T17:16:08.636764Z",
     "start_time": "2019-10-20T17:16:08.602989Z"
    }
   },
   "outputs": [],
   "source": [
    "# multiple metrics\n",
    "from sklearn.metrics import average_precision_score\n",
    "from sklearn.metrics import precision_recall_fscore_support"
   ]
  },
  {
   "cell_type": "code",
   "execution_count": 14,
   "metadata": {
    "ExecuteTime": {
     "end_time": "2019-10-20T17:16:09.104208Z",
     "start_time": "2019-10-20T17:16:09.066108Z"
    }
   },
   "outputs": [],
   "source": [
    "# roc auc and curves\n",
    "from sklearn.metrics import auc\n",
    "from sklearn.metrics import roc_auc_score\n",
    "from sklearn.metrics import roc_curve\n",
    "from sklearn.metrics import precision_recall_curve"
   ]
  },
  {
   "cell_type": "code",
   "execution_count": 15,
   "metadata": {
    "ExecuteTime": {
     "end_time": "2019-10-20T17:16:09.595089Z",
     "start_time": "2019-10-20T17:16:09.543300Z"
    }
   },
   "outputs": [],
   "source": [
    "# confusion matrix and classification report\n",
    "from sklearn.metrics import confusion_matrix\n",
    "from sklearn.metrics import classification_report"
   ]
  },
  {
   "cell_type": "markdown",
   "metadata": {},
   "source": [
    "# Useful Scripts"
   ]
  },
  {
   "cell_type": "code",
   "execution_count": 16,
   "metadata": {
    "ExecuteTime": {
     "end_time": "2019-10-20T17:16:10.517808Z",
     "start_time": "2019-10-20T17:16:10.486550Z"
    }
   },
   "outputs": [],
   "source": [
    "def show_method_attributes(method, ncols=7):\n",
    "    \"\"\" Show all the attributes of a given method.\n",
    "    Example:\n",
    "    ========\n",
    "    show_method_attributes(list)\n",
    "     \"\"\"\n",
    "    x = [i for i in dir(method) if i[0]!='_' ]\n",
    "    x = [i for i in x \n",
    "         if i not in 'os np pd sys time psycopg2'.split() ]\n",
    "             \n",
    "\n",
    "    return pd.DataFrame(np.array_split(x,ncols)).T.fillna('')"
   ]
  },
  {
   "cell_type": "markdown",
   "metadata": {},
   "source": [
    "# Load the data"
   ]
  },
  {
   "cell_type": "code",
   "execution_count": 17,
   "metadata": {
    "ExecuteTime": {
     "end_time": "2019-10-20T17:16:13.957826Z",
     "start_time": "2019-10-20T17:16:11.787727Z"
    }
   },
   "outputs": [
    {
     "name": "stdout",
     "output_type": "stream",
     "text": [
      "(284807, 31)\n"
     ]
    },
    {
     "data": {
      "text/html": [
       "<div>\n",
       "<style scoped>\n",
       "    .dataframe tbody tr th:only-of-type {\n",
       "        vertical-align: middle;\n",
       "    }\n",
       "\n",
       "    .dataframe tbody tr th {\n",
       "        vertical-align: top;\n",
       "    }\n",
       "\n",
       "    .dataframe thead th {\n",
       "        text-align: right;\n",
       "    }\n",
       "</style>\n",
       "<table border=\"1\" class=\"dataframe\">\n",
       "  <thead>\n",
       "    <tr style=\"text-align: right;\">\n",
       "      <th></th>\n",
       "      <th>Time</th>\n",
       "      <th>V1</th>\n",
       "      <th>V2</th>\n",
       "      <th>V3</th>\n",
       "      <th>V4</th>\n",
       "      <th>V5</th>\n",
       "      <th>V6</th>\n",
       "      <th>V7</th>\n",
       "      <th>V8</th>\n",
       "      <th>V9</th>\n",
       "      <th>V10</th>\n",
       "      <th>V11</th>\n",
       "      <th>V12</th>\n",
       "      <th>V13</th>\n",
       "      <th>V14</th>\n",
       "      <th>V15</th>\n",
       "      <th>V16</th>\n",
       "      <th>V17</th>\n",
       "      <th>V18</th>\n",
       "      <th>V19</th>\n",
       "      <th>V20</th>\n",
       "      <th>V21</th>\n",
       "      <th>V22</th>\n",
       "      <th>V23</th>\n",
       "      <th>V24</th>\n",
       "      <th>V25</th>\n",
       "      <th>V26</th>\n",
       "      <th>V27</th>\n",
       "      <th>V28</th>\n",
       "      <th>Amount</th>\n",
       "      <th>Class</th>\n",
       "    </tr>\n",
       "  </thead>\n",
       "  <tbody>\n",
       "    <tr>\n",
       "      <th>0</th>\n",
       "      <td>0.0</td>\n",
       "      <td>-1.359807</td>\n",
       "      <td>-0.072781</td>\n",
       "      <td>2.536347</td>\n",
       "      <td>1.378155</td>\n",
       "      <td>-0.338321</td>\n",
       "      <td>0.462388</td>\n",
       "      <td>0.239599</td>\n",
       "      <td>0.098698</td>\n",
       "      <td>0.363787</td>\n",
       "      <td>0.090794</td>\n",
       "      <td>-0.551600</td>\n",
       "      <td>-0.617801</td>\n",
       "      <td>-0.991390</td>\n",
       "      <td>-0.311169</td>\n",
       "      <td>1.468177</td>\n",
       "      <td>-0.470401</td>\n",
       "      <td>0.207971</td>\n",
       "      <td>0.025791</td>\n",
       "      <td>0.403993</td>\n",
       "      <td>0.251412</td>\n",
       "      <td>-0.018307</td>\n",
       "      <td>0.277838</td>\n",
       "      <td>-0.110474</td>\n",
       "      <td>0.066928</td>\n",
       "      <td>0.128539</td>\n",
       "      <td>-0.189115</td>\n",
       "      <td>0.133558</td>\n",
       "      <td>-0.021053</td>\n",
       "      <td>149.62</td>\n",
       "      <td>0</td>\n",
       "    </tr>\n",
       "    <tr>\n",
       "      <th>1</th>\n",
       "      <td>0.0</td>\n",
       "      <td>1.191857</td>\n",
       "      <td>0.266151</td>\n",
       "      <td>0.166480</td>\n",
       "      <td>0.448154</td>\n",
       "      <td>0.060018</td>\n",
       "      <td>-0.082361</td>\n",
       "      <td>-0.078803</td>\n",
       "      <td>0.085102</td>\n",
       "      <td>-0.255425</td>\n",
       "      <td>-0.166974</td>\n",
       "      <td>1.612727</td>\n",
       "      <td>1.065235</td>\n",
       "      <td>0.489095</td>\n",
       "      <td>-0.143772</td>\n",
       "      <td>0.635558</td>\n",
       "      <td>0.463917</td>\n",
       "      <td>-0.114805</td>\n",
       "      <td>-0.183361</td>\n",
       "      <td>-0.145783</td>\n",
       "      <td>-0.069083</td>\n",
       "      <td>-0.225775</td>\n",
       "      <td>-0.638672</td>\n",
       "      <td>0.101288</td>\n",
       "      <td>-0.339846</td>\n",
       "      <td>0.167170</td>\n",
       "      <td>0.125895</td>\n",
       "      <td>-0.008983</td>\n",
       "      <td>0.014724</td>\n",
       "      <td>2.69</td>\n",
       "      <td>0</td>\n",
       "    </tr>\n",
       "    <tr>\n",
       "      <th>2</th>\n",
       "      <td>1.0</td>\n",
       "      <td>-1.358354</td>\n",
       "      <td>-1.340163</td>\n",
       "      <td>1.773209</td>\n",
       "      <td>0.379780</td>\n",
       "      <td>-0.503198</td>\n",
       "      <td>1.800499</td>\n",
       "      <td>0.791461</td>\n",
       "      <td>0.247676</td>\n",
       "      <td>-1.514654</td>\n",
       "      <td>0.207643</td>\n",
       "      <td>0.624501</td>\n",
       "      <td>0.066084</td>\n",
       "      <td>0.717293</td>\n",
       "      <td>-0.165946</td>\n",
       "      <td>2.345865</td>\n",
       "      <td>-2.890083</td>\n",
       "      <td>1.109969</td>\n",
       "      <td>-0.121359</td>\n",
       "      <td>-2.261857</td>\n",
       "      <td>0.524980</td>\n",
       "      <td>0.247998</td>\n",
       "      <td>0.771679</td>\n",
       "      <td>0.909412</td>\n",
       "      <td>-0.689281</td>\n",
       "      <td>-0.327642</td>\n",
       "      <td>-0.139097</td>\n",
       "      <td>-0.055353</td>\n",
       "      <td>-0.059752</td>\n",
       "      <td>378.66</td>\n",
       "      <td>0</td>\n",
       "    </tr>\n",
       "    <tr>\n",
       "      <th>3</th>\n",
       "      <td>1.0</td>\n",
       "      <td>-0.966272</td>\n",
       "      <td>-0.185226</td>\n",
       "      <td>1.792993</td>\n",
       "      <td>-0.863291</td>\n",
       "      <td>-0.010309</td>\n",
       "      <td>1.247203</td>\n",
       "      <td>0.237609</td>\n",
       "      <td>0.377436</td>\n",
       "      <td>-1.387024</td>\n",
       "      <td>-0.054952</td>\n",
       "      <td>-0.226487</td>\n",
       "      <td>0.178228</td>\n",
       "      <td>0.507757</td>\n",
       "      <td>-0.287924</td>\n",
       "      <td>-0.631418</td>\n",
       "      <td>-1.059647</td>\n",
       "      <td>-0.684093</td>\n",
       "      <td>1.965775</td>\n",
       "      <td>-1.232622</td>\n",
       "      <td>-0.208038</td>\n",
       "      <td>-0.108300</td>\n",
       "      <td>0.005274</td>\n",
       "      <td>-0.190321</td>\n",
       "      <td>-1.175575</td>\n",
       "      <td>0.647376</td>\n",
       "      <td>-0.221929</td>\n",
       "      <td>0.062723</td>\n",
       "      <td>0.061458</td>\n",
       "      <td>123.50</td>\n",
       "      <td>0</td>\n",
       "    </tr>\n",
       "    <tr>\n",
       "      <th>4</th>\n",
       "      <td>2.0</td>\n",
       "      <td>-1.158233</td>\n",
       "      <td>0.877737</td>\n",
       "      <td>1.548718</td>\n",
       "      <td>0.403034</td>\n",
       "      <td>-0.407193</td>\n",
       "      <td>0.095921</td>\n",
       "      <td>0.592941</td>\n",
       "      <td>-0.270533</td>\n",
       "      <td>0.817739</td>\n",
       "      <td>0.753074</td>\n",
       "      <td>-0.822843</td>\n",
       "      <td>0.538196</td>\n",
       "      <td>1.345852</td>\n",
       "      <td>-1.119670</td>\n",
       "      <td>0.175121</td>\n",
       "      <td>-0.451449</td>\n",
       "      <td>-0.237033</td>\n",
       "      <td>-0.038195</td>\n",
       "      <td>0.803487</td>\n",
       "      <td>0.408542</td>\n",
       "      <td>-0.009431</td>\n",
       "      <td>0.798278</td>\n",
       "      <td>-0.137458</td>\n",
       "      <td>0.141267</td>\n",
       "      <td>-0.206010</td>\n",
       "      <td>0.502292</td>\n",
       "      <td>0.219422</td>\n",
       "      <td>0.215153</td>\n",
       "      <td>69.99</td>\n",
       "      <td>0</td>\n",
       "    </tr>\n",
       "  </tbody>\n",
       "</table>\n",
       "</div>"
      ],
      "text/plain": [
       "   Time        V1        V2        V3        V4        V5        V6        V7  \\\n",
       "0   0.0 -1.359807 -0.072781  2.536347  1.378155 -0.338321  0.462388  0.239599   \n",
       "1   0.0  1.191857  0.266151  0.166480  0.448154  0.060018 -0.082361 -0.078803   \n",
       "2   1.0 -1.358354 -1.340163  1.773209  0.379780 -0.503198  1.800499  0.791461   \n",
       "3   1.0 -0.966272 -0.185226  1.792993 -0.863291 -0.010309  1.247203  0.237609   \n",
       "4   2.0 -1.158233  0.877737  1.548718  0.403034 -0.407193  0.095921  0.592941   \n",
       "\n",
       "         V8        V9       V10       V11       V12       V13       V14  \\\n",
       "0  0.098698  0.363787  0.090794 -0.551600 -0.617801 -0.991390 -0.311169   \n",
       "1  0.085102 -0.255425 -0.166974  1.612727  1.065235  0.489095 -0.143772   \n",
       "2  0.247676 -1.514654  0.207643  0.624501  0.066084  0.717293 -0.165946   \n",
       "3  0.377436 -1.387024 -0.054952 -0.226487  0.178228  0.507757 -0.287924   \n",
       "4 -0.270533  0.817739  0.753074 -0.822843  0.538196  1.345852 -1.119670   \n",
       "\n",
       "        V15       V16       V17       V18       V19       V20       V21  \\\n",
       "0  1.468177 -0.470401  0.207971  0.025791  0.403993  0.251412 -0.018307   \n",
       "1  0.635558  0.463917 -0.114805 -0.183361 -0.145783 -0.069083 -0.225775   \n",
       "2  2.345865 -2.890083  1.109969 -0.121359 -2.261857  0.524980  0.247998   \n",
       "3 -0.631418 -1.059647 -0.684093  1.965775 -1.232622 -0.208038 -0.108300   \n",
       "4  0.175121 -0.451449 -0.237033 -0.038195  0.803487  0.408542 -0.009431   \n",
       "\n",
       "        V22       V23       V24       V25       V26       V27       V28  \\\n",
       "0  0.277838 -0.110474  0.066928  0.128539 -0.189115  0.133558 -0.021053   \n",
       "1 -0.638672  0.101288 -0.339846  0.167170  0.125895 -0.008983  0.014724   \n",
       "2  0.771679  0.909412 -0.689281 -0.327642 -0.139097 -0.055353 -0.059752   \n",
       "3  0.005274 -0.190321 -1.175575  0.647376 -0.221929  0.062723  0.061458   \n",
       "4  0.798278 -0.137458  0.141267 -0.206010  0.502292  0.219422  0.215153   \n",
       "\n",
       "   Amount  Class  \n",
       "0  149.62      0  \n",
       "1    2.69      0  \n",
       "2  378.66      0  \n",
       "3  123.50      0  \n",
       "4   69.99      0  "
      ]
     },
     "execution_count": 17,
     "metadata": {},
     "output_type": "execute_result"
    }
   ],
   "source": [
    "df = pd.read_csv('../data/raw/creditcard.csv.zip',compression='zip')\n",
    "print(df.shape)\n",
    "df.head()"
   ]
  },
  {
   "cell_type": "markdown",
   "metadata": {},
   "source": [
    "# Preprocessing"
   ]
  },
  {
   "cell_type": "markdown",
   "metadata": {},
   "source": [
    "## Class Balance"
   ]
  },
  {
   "cell_type": "code",
   "execution_count": 18,
   "metadata": {
    "ExecuteTime": {
     "end_time": "2019-10-20T17:16:16.883439Z",
     "start_time": "2019-10-20T17:16:16.845938Z"
    }
   },
   "outputs": [
    {
     "data": {
      "text/plain": [
       "0    284315\n",
       "1       492\n",
       "Name: Class, dtype: int64"
      ]
     },
     "execution_count": 18,
     "metadata": {},
     "output_type": "execute_result"
    }
   ],
   "source": [
    "df['Class'].value_counts()"
   ]
  },
  {
   "cell_type": "code",
   "execution_count": 19,
   "metadata": {
    "ExecuteTime": {
     "end_time": "2019-10-20T17:16:17.622612Z",
     "start_time": "2019-10-20T17:16:17.575203Z"
    }
   },
   "outputs": [
    {
     "data": {
      "text/plain": [
       "0    998.272514\n",
       "1      1.727486\n",
       "Name: Class, dtype: float64"
      ]
     },
     "execution_count": 19,
     "metadata": {},
     "output_type": "execute_result"
    }
   ],
   "source": [
    "df['Class'].value_counts(normalize=True)*1000"
   ]
  },
  {
   "cell_type": "markdown",
   "metadata": {
    "ExecuteTime": {
     "end_time": "2019-10-12T23:33:32.915060Z",
     "start_time": "2019-10-12T23:33:32.882892Z"
    }
   },
   "source": [
    "## Correlation with target"
   ]
  },
  {
   "cell_type": "code",
   "execution_count": 20,
   "metadata": {
    "ExecuteTime": {
     "end_time": "2019-10-20T17:16:19.450805Z",
     "start_time": "2019-10-20T17:16:18.950551Z"
    }
   },
   "outputs": [
    {
     "data": {
      "text/plain": [
       "<matplotlib.axes._subplots.AxesSubplot at 0x10a21e048>"
      ]
     },
     "execution_count": 20,
     "metadata": {},
     "output_type": "execute_result"
    },
    {
     "data": {
      "image/png": "[encoded data removed]",
      "text/plain": [
       "<Figure size 864x576 with 1 Axes>"
      ]
     },
     "metadata": {
      "needs_background": "light"
     },
     "output_type": "display_data"
    }
   ],
   "source": [
    "target = 'Class'\n",
    "df_corr = df.drop(target,1).corrwith(df[target]).sort_values()\n",
    "\n",
    "df_corr.plot.bar(figsize = (12, 8), title = \"Correlation with class\",\n",
    "          fontsize = 12,rot = 90, grid = True,\n",
    "          color=sns.color_palette('Reds_r',30),ylim=(-0.4,0.4)\n",
    "       )\n",
    "\n",
    "# v17 14 12 and 10 has correlation more than 0.2"
   ]
  },
  {
   "cell_type": "markdown",
   "metadata": {},
   "source": [
    "## Distribution plots"
   ]
  },
  {
   "cell_type": "code",
   "execution_count": 21,
   "metadata": {
    "ExecuteTime": {
     "end_time": "2019-10-20T17:16:21.077046Z",
     "start_time": "2019-10-20T17:16:21.046523Z"
    }
   },
   "outputs": [
    {
     "data": {
      "text/plain": [
       "V17   -0.326481\n",
       "V14   -0.302544\n",
       "V12   -0.260593\n",
       "V10   -0.216883\n",
       "dtype: float64"
      ]
     },
     "execution_count": 21,
     "metadata": {},
     "output_type": "execute_result"
    }
   ],
   "source": [
    "df_corr.loc[ abs(df_corr.values)>0.2]"
   ]
  },
  {
   "cell_type": "code",
   "execution_count": 22,
   "metadata": {
    "ExecuteTime": {
     "end_time": "2019-10-20T17:16:21.827882Z",
     "start_time": "2019-10-20T17:16:21.798418Z"
    }
   },
   "outputs": [
    {
     "data": {
      "text/plain": [
       "['V17', 'V14', 'V12', 'V10']"
      ]
     },
     "execution_count": 22,
     "metadata": {},
     "output_type": "execute_result"
    }
   ],
   "source": [
    "high_corr_idx = df_corr.loc[ abs(df_corr.values)>0.2].index.values.tolist()\n",
    "high_corr_idx"
   ]
  },
  {
   "cell_type": "code",
   "execution_count": 23,
   "metadata": {
    "ExecuteTime": {
     "end_time": "2019-10-20T17:16:23.790007Z",
     "start_time": "2019-10-20T17:16:22.534640Z"
    }
   },
   "outputs": [
    {
     "data": {
      "image/png": "[encoded data removed]",
      "text/plain": [
       "<Figure size 432x288 with 1 Axes>"
      ]
     },
     "metadata": {
      "needs_background": "light"
     },
     "output_type": "display_data"
    },
    {
     "data": {
      "image/png": "[encoded data removed]",
      "text/plain": [
       "<Figure size 432x288 with 1 Axes>"
      ]
     },
     "metadata": {
      "needs_background": "light"
     },
     "output_type": "display_data"
    },
    {
     "data": {
      "image/png": "[encoded data removed]",
      "text/plain": [
       "<Figure size 432x288 with 1 Axes>"
      ]
     },
     "metadata": {
      "needs_background": "light"
     },
     "output_type": "display_data"
    },
    {
     "data": {
      "image/png": "[encoded data removed]",
      "text/plain": [
       "<Figure size 432x288 with 1 Axes>"
      ]
     },
     "metadata": {
      "needs_background": "light"
     },
     "output_type": "display_data"
    }
   ],
   "source": [
    "def dist_plot():\n",
    "    for c in high_corr_idx:\n",
    "        sns.distplot(df[c],fit=scipy.stats.norm)\n",
    "        plt.xlim(-5,5)\n",
    "        plt.show()\n",
    "        plt.close()\n",
    "        \n",
    "dist_plot()"
   ]
  },
  {
   "cell_type": "code",
   "execution_count": 24,
   "metadata": {
    "ExecuteTime": {
     "end_time": "2019-10-20T17:16:23.823361Z",
     "start_time": "2019-10-20T17:16:23.792402Z"
    }
   },
   "outputs": [],
   "source": [
    "# clearly pdf is much different from gaussian distribution.\n",
    "# to reduce skewness, we can we boxcox transform."
   ]
  },
  {
   "cell_type": "markdown",
   "metadata": {},
   "source": [
    "## Scaling"
   ]
  },
  {
   "cell_type": "code",
   "execution_count": 25,
   "metadata": {
    "ExecuteTime": {
     "end_time": "2019-10-20T17:16:24.952533Z",
     "start_time": "2019-10-20T17:16:24.902452Z"
    }
   },
   "outputs": [],
   "source": [
    "# RobustScaler is less prone to outliers.\n",
    "from sklearn.preprocessing import StandardScaler, RobustScaler\n",
    "\n",
    "scaler = RobustScaler()\n",
    "\n",
    "df['scaled_amount'] = scaler.fit_transform(df['Amount'].values.reshape(-1,1))\n",
    "df['scaled_time'] = scaler.fit_transform(df['Time'].values.reshape(-1,1))"
   ]
  },
  {
   "cell_type": "markdown",
   "metadata": {},
   "source": [
    "## Outliers Removal\n",
    "\n",
    "\n",
    "![](../images/boxplot.png)"
   ]
  },
  {
   "cell_type": "code",
   "execution_count": 26,
   "metadata": {
    "ExecuteTime": {
     "end_time": "2019-10-20T17:16:27.457125Z",
     "start_time": "2019-10-20T17:16:26.582902Z"
    }
   },
   "outputs": [
    {
     "name": "stdout",
     "output_type": "stream",
     "text": [
      "Before removing outliers from highest correlated features:\n"
     ]
    },
    {
     "data": {
      "image/png": "[encoded data removed]",
      "text/plain": [
       "<Figure size 1152x288 with 1 Axes>"
      ]
     },
     "metadata": {
      "needs_background": "light"
     },
     "output_type": "display_data"
    },
    {
     "data": {
      "image/png": "[encoded data removed]",
      "text/plain": [
       "<Figure size 1152x288 with 1 Axes>"
      ]
     },
     "metadata": {
      "needs_background": "light"
     },
     "output_type": "display_data"
    },
    {
     "data": {
      "image/png": "[encoded data removed]",
      "text/plain": [
       "<Figure size 1152x288 with 1 Axes>"
      ]
     },
     "metadata": {
      "needs_background": "light"
     },
     "output_type": "display_data"
    },
    {
     "data": {
      "image/png": "[encoded data removed]",
      "text/plain": [
       "<Figure size 1152x288 with 1 Axes>"
      ]
     },
     "metadata": {
      "needs_background": "light"
     },
     "output_type": "display_data"
    }
   ],
   "source": [
    "def boxplots_with_outliers():\n",
    "    print('Before removing outliers from highest correlated features:')\n",
    "    for c in high_corr_idx:\n",
    "        plt.figure(figsize=(16,4))\n",
    "        sns.boxplot(df[c])\n",
    "        plt.show()\n",
    "        plt.close()\n",
    "\n",
    "boxplots_with_outliers()"
   ]
  },
  {
   "cell_type": "code",
   "execution_count": 27,
   "metadata": {
    "ExecuteTime": {
     "end_time": "2019-10-20T17:16:27.634347Z",
     "start_time": "2019-10-20T17:16:27.459431Z"
    }
   },
   "outputs": [
    {
     "data": {
      "text/plain": [
       "Int64Index([0, 1, 2, 3, 4], dtype='int64')"
      ]
     },
     "execution_count": 27,
     "metadata": {},
     "output_type": "execute_result"
    }
   ],
   "source": [
    "# Find outliers using IQR method\n",
    "q1 = df[high_corr_idx].quantile(0.25)\n",
    "q3 = df[high_corr_idx].quantile(0.75)\n",
    "iqr = q3 - q1\n",
    "threshold = 1.5\n",
    "\n",
    "cond1 = df[high_corr_idx] < (q1 - threshold * iqr)\n",
    "cond2 = df[high_corr_idx] > (q3 + threshold * iqr)\n",
    "cond = cond1 | cond2\n",
    "\n",
    "idx_no_outliers = df[high_corr_idx][~(cond).any(axis=1)].index\n",
    "idx_no_outliers[:5]"
   ]
  },
  {
   "cell_type": "code",
   "execution_count": 28,
   "metadata": {
    "ExecuteTime": {
     "end_time": "2019-10-20T17:16:27.765649Z",
     "start_time": "2019-10-20T17:16:27.708476Z"
    }
   },
   "outputs": [],
   "source": [
    "df_no_outliers = df.loc[idx_no_outliers]"
   ]
  },
  {
   "cell_type": "code",
   "execution_count": 29,
   "metadata": {
    "ExecuteTime": {
     "end_time": "2019-10-20T17:16:28.248701Z",
     "start_time": "2019-10-20T17:16:28.208365Z"
    }
   },
   "outputs": [
    {
     "data": {
      "text/plain": [
       "((284807, 33), (250883, 33))"
      ]
     },
     "execution_count": 29,
     "metadata": {},
     "output_type": "execute_result"
    }
   ],
   "source": [
    "df.shape, df_no_outliers.shape"
   ]
  },
  {
   "cell_type": "code",
   "execution_count": 30,
   "metadata": {
    "ExecuteTime": {
     "end_time": "2019-10-20T17:16:29.866076Z",
     "start_time": "2019-10-20T17:16:29.108847Z"
    }
   },
   "outputs": [
    {
     "name": "stdout",
     "output_type": "stream",
     "text": [
      "After removing outliers from highest correlated features:\n"
     ]
    },
    {
     "data": {
      "image/png": "[encoded data removed]",
      "text/plain": [
       "<Figure size 1152x288 with 1 Axes>"
      ]
     },
     "metadata": {
      "needs_background": "light"
     },
     "output_type": "display_data"
    },
    {
     "data": {
      "image/png": "[encoded data removed]",
      "text/plain": [
       "<Figure size 1152x288 with 1 Axes>"
      ]
     },
     "metadata": {
      "needs_background": "light"
     },
     "output_type": "display_data"
    },
    {
     "data": {
      "image/png": "[encoded data removed]",
      "text/plain": [
       "<Figure size 1152x288 with 1 Axes>"
      ]
     },
     "metadata": {
      "needs_background": "light"
     },
     "output_type": "display_data"
    },
    {
     "data": {
      "image/png": "[encoded data removed]",
      "text/plain": [
       "<Figure size 1152x288 with 1 Axes>"
      ]
     },
     "metadata": {
      "needs_background": "light"
     },
     "output_type": "display_data"
    }
   ],
   "source": [
    "def boxplots_no_outliers():\n",
    "    print('After removing outliers from highest correlated features:')\n",
    "    for c in high_corr_idx:\n",
    "        plt.figure(figsize=(16,4))\n",
    "        sns.boxplot(df_no_outliers[c])\n",
    "        plt.show()\n",
    "        plt.close()\n",
    "        \n",
    "boxplots_no_outliers()"
   ]
  },
  {
   "cell_type": "markdown",
   "metadata": {},
   "source": [
    "## Random Under Sampling\n",
    "- If classes are imbalanced, more frequent class causes overfitting.\n",
    "- We can use undersampling of classes.\n",
    "- Faster to train the model, since lower number of samples are remained.\n",
    "\n",
    "Cons:\n",
    "- Large number of rows may be dropped and risk of information loss."
   ]
  },
  {
   "cell_type": "code",
   "execution_count": 31,
   "metadata": {
    "ExecuteTime": {
     "end_time": "2019-10-20T17:16:30.541821Z",
     "start_time": "2019-10-20T17:16:30.430507Z"
    }
   },
   "outputs": [
    {
     "data": {
      "text/plain": [
       "1    492\n",
       "0    492\n",
       "Name: Class, dtype: int64"
      ]
     },
     "execution_count": 31,
     "metadata": {},
     "output_type": "execute_result"
    }
   ],
   "source": [
    "# without removing outliers\n",
    "n = df[target].value_counts().values[-1]\n",
    "\n",
    "df_under = (df.groupby(target)\n",
    "                .apply(lambda x: x.sample(n,random_state=random_state))\n",
    "                .reset_index(drop=True)\n",
    "               )\n",
    "\n",
    "df_under[target].value_counts()"
   ]
  },
  {
   "cell_type": "code",
   "execution_count": 32,
   "metadata": {
    "ExecuteTime": {
     "end_time": "2019-10-20T17:16:31.608257Z",
     "start_time": "2019-10-20T17:16:31.575090Z"
    }
   },
   "outputs": [
    {
     "data": {
      "text/plain": [
       "((284807, 33), (984, 33))"
      ]
     },
     "execution_count": 32,
     "metadata": {},
     "output_type": "execute_result"
    }
   ],
   "source": [
    "df.shape, df_under.shape\n",
    "# out of 284k samples, we now have 984 samples for undersampling\n",
    "# we have lost 283k samples and have only 1k samples\n",
    "# this is a lot of information losss, but still I will test the \n",
    "# classifiers with this undersampling method.\n",
    "#\n",
    "# Later, I will use oversampling methods to do the modelling."
   ]
  },
  {
   "cell_type": "markdown",
   "metadata": {},
   "source": [
    "# Train Test split with stratify for imbalanced data"
   ]
  },
  {
   "cell_type": "code",
   "execution_count": 33,
   "metadata": {
    "ExecuteTime": {
     "end_time": "2019-10-20T17:16:36.017789Z",
     "start_time": "2019-10-20T17:16:35.985712Z"
    }
   },
   "outputs": [
    {
     "data": {
      "text/plain": [
       "Index(['Time', 'V1', 'V2', 'V3', 'V4', 'V5', 'V6', 'V7', 'V8', 'V9', 'V10',\n",
       "       'V11', 'V12', 'V13', 'V14', 'V15', 'V16', 'V17', 'V18', 'V19', 'V20',\n",
       "       'V21', 'V22', 'V23', 'V24', 'V25', 'V26', 'V27', 'V28', 'Amount',\n",
       "       'Class', 'scaled_amount', 'scaled_time'],\n",
       "      dtype='object')"
      ]
     },
     "execution_count": 33,
     "metadata": {},
     "output_type": "execute_result"
    }
   ],
   "source": [
    "df.columns"
   ]
  },
  {
   "cell_type": "code",
   "execution_count": 34,
   "metadata": {
    "ExecuteTime": {
     "end_time": "2019-10-20T17:16:37.895354Z",
     "start_time": "2019-10-20T17:16:37.663726Z"
    }
   },
   "outputs": [
    {
     "name": "stdout",
     "output_type": "stream",
     "text": [
      "(284807, 33) (200706, 32) (50177, 32)\n",
      "(284807, 33) (200706, 33) (50177, 33)\n"
     ]
    },
    {
     "data": {
      "text/html": [
       "<div>\n",
       "<style scoped>\n",
       "    .dataframe tbody tr th:only-of-type {\n",
       "        vertical-align: middle;\n",
       "    }\n",
       "\n",
       "    .dataframe tbody tr th {\n",
       "        vertical-align: top;\n",
       "    }\n",
       "\n",
       "    .dataframe thead th {\n",
       "        text-align: right;\n",
       "    }\n",
       "</style>\n",
       "<table border=\"1\" class=\"dataframe\">\n",
       "  <thead>\n",
       "    <tr style=\"text-align: right;\">\n",
       "      <th></th>\n",
       "      <th>Amount</th>\n",
       "      <th>Time</th>\n",
       "      <th>V1</th>\n",
       "      <th>V10</th>\n",
       "      <th>V11</th>\n",
       "      <th>V12</th>\n",
       "      <th>V13</th>\n",
       "      <th>V14</th>\n",
       "      <th>V15</th>\n",
       "      <th>V16</th>\n",
       "      <th>V17</th>\n",
       "      <th>V18</th>\n",
       "      <th>V19</th>\n",
       "      <th>V2</th>\n",
       "      <th>V20</th>\n",
       "      <th>V21</th>\n",
       "      <th>V22</th>\n",
       "      <th>V23</th>\n",
       "      <th>V24</th>\n",
       "      <th>V25</th>\n",
       "      <th>V26</th>\n",
       "      <th>V27</th>\n",
       "      <th>V28</th>\n",
       "      <th>V3</th>\n",
       "      <th>V4</th>\n",
       "      <th>V5</th>\n",
       "      <th>V6</th>\n",
       "      <th>V7</th>\n",
       "      <th>V8</th>\n",
       "      <th>V9</th>\n",
       "      <th>scaled_amount</th>\n",
       "      <th>scaled_time</th>\n",
       "      <th>Class</th>\n",
       "    </tr>\n",
       "  </thead>\n",
       "  <tbody>\n",
       "    <tr>\n",
       "      <th>0</th>\n",
       "      <td>153336.0</td>\n",
       "      <td>2.063767</td>\n",
       "      <td>-0.488559</td>\n",
       "      <td>-1.799317</td>\n",
       "      <td>0.518851</td>\n",
       "      <td>0.130354</td>\n",
       "      <td>-0.503761</td>\n",
       "      <td>0.113631</td>\n",
       "      <td>-0.224508</td>\n",
       "      <td>-0.970983</td>\n",
       "      <td>1.241842</td>\n",
       "      <td>-0.060205</td>\n",
       "      <td>0.170743</td>\n",
       "      <td>-0.692233</td>\n",
       "      <td>0.700893</td>\n",
       "      <td>-1.251801</td>\n",
       "      <td>-1.867572</td>\n",
       "      <td>-0.254898</td>\n",
       "      <td>1.432933</td>\n",
       "      <td>-0.518657</td>\n",
       "      <td>-0.657286</td>\n",
       "      <td>-0.279769</td>\n",
       "      <td>-0.254201</td>\n",
       "      <td>-0.013790</td>\n",
       "      <td>-0.608267</td>\n",
       "      <td>0.344953</td>\n",
       "      <td>-0.476448</td>\n",
       "      <td>-0.004394</td>\n",
       "      <td>-0.067904</td>\n",
       "      <td>43.40</td>\n",
       "      <td>0.299029</td>\n",
       "      <td>0.806447</td>\n",
       "      <td>0.0</td>\n",
       "    </tr>\n",
       "    <tr>\n",
       "      <th>1</th>\n",
       "      <td>69329.0</td>\n",
       "      <td>1.237906</td>\n",
       "      <td>0.265153</td>\n",
       "      <td>0.180927</td>\n",
       "      <td>0.504037</td>\n",
       "      <td>-0.193144</td>\n",
       "      <td>-0.571533</td>\n",
       "      <td>-0.055028</td>\n",
       "      <td>-0.009820</td>\n",
       "      <td>-0.136239</td>\n",
       "      <td>-0.099655</td>\n",
       "      <td>1.261914</td>\n",
       "      <td>0.575181</td>\n",
       "      <td>-0.252796</td>\n",
       "      <td>-0.020983</td>\n",
       "      <td>0.466912</td>\n",
       "      <td>0.791755</td>\n",
       "      <td>-0.349610</td>\n",
       "      <td>0.358501</td>\n",
       "      <td>0.218193</td>\n",
       "      <td>-0.089781</td>\n",
       "      <td>-0.263224</td>\n",
       "      <td>-0.814410</td>\n",
       "      <td>0.082531</td>\n",
       "      <td>-0.049334</td>\n",
       "      <td>0.214859</td>\n",
       "      <td>0.098921</td>\n",
       "      <td>-0.030103</td>\n",
       "      <td>0.016190</td>\n",
       "      <td>0.89</td>\n",
       "      <td>-0.294977</td>\n",
       "      <td>-0.180488</td>\n",
       "      <td>0.0</td>\n",
       "    </tr>\n",
       "  </tbody>\n",
       "</table>\n",
       "</div>"
      ],
      "text/plain": [
       "     Amount      Time        V1       V10       V11       V12       V13  \\\n",
       "0  153336.0  2.063767 -0.488559 -1.799317  0.518851  0.130354 -0.503761   \n",
       "1   69329.0  1.237906  0.265153  0.180927  0.504037 -0.193144 -0.571533   \n",
       "\n",
       "        V14       V15       V16       V17       V18       V19        V2  \\\n",
       "0  0.113631 -0.224508 -0.970983  1.241842 -0.060205  0.170743 -0.692233   \n",
       "1 -0.055028 -0.009820 -0.136239 -0.099655  1.261914  0.575181 -0.252796   \n",
       "\n",
       "        V20       V21       V22       V23       V24       V25       V26  \\\n",
       "0  0.700893 -1.251801 -1.867572 -0.254898  1.432933 -0.518657 -0.657286   \n",
       "1 -0.020983  0.466912  0.791755 -0.349610  0.358501  0.218193 -0.089781   \n",
       "\n",
       "        V27       V28        V3        V4        V5        V6        V7  \\\n",
       "0 -0.279769 -0.254201 -0.013790 -0.608267  0.344953 -0.476448 -0.004394   \n",
       "1 -0.263224 -0.814410  0.082531 -0.049334  0.214859  0.098921 -0.030103   \n",
       "\n",
       "         V8     V9  scaled_amount  scaled_time  Class  \n",
       "0 -0.067904  43.40       0.299029     0.806447    0.0  \n",
       "1  0.016190   0.89      -0.294977    -0.180488    0.0  "
      ]
     },
     "execution_count": 34,
     "metadata": {},
     "output_type": "execute_result"
    }
   ],
   "source": [
    "(Xtrain_no_outliers, Xtest_no_outliers,\n",
    " ytrain_no_outliers, ytest_no_outliers) = \\\n",
    "    train_test_split(df_no_outliers.drop([target],1),\n",
    "                     df_no_outliers[target],\n",
    "                     random_state=random_state,\n",
    "                     test_size=0.2,\n",
    "                     stratify=df_no_outliers[target])\n",
    "\n",
    "print(df.shape, Xtrain_no_outliers.shape, Xtest_no_outliers.shape)\n",
    "columns = df_no_outliers.columns.difference([target]).values.tolist() + [target]\n",
    "\n",
    "df_train_no_outliers = pd.DataFrame(data=np.c_[Xtrain_no_outliers,\n",
    "                                               ytrain_no_outliers],\n",
    "                                    columns=columns)\n",
    "\n",
    "df_test_no_outliers = pd.DataFrame(data=np.c_[Xtest_no_outliers,\n",
    "                                              ytest_no_outliers],\n",
    "                                   columns=columns)\n",
    "\n",
    "print(df.shape, df_train_no_outliers.shape, df_test_no_outliers.shape)\n",
    "df_train_no_outliers.head(2)"
   ]
  },
  {
   "cell_type": "code",
   "execution_count": 35,
   "metadata": {
    "ExecuteTime": {
     "end_time": "2019-10-20T17:16:39.346094Z",
     "start_time": "2019-10-20T17:16:39.287918Z"
    }
   },
   "outputs": [
    {
     "name": "stdout",
     "output_type": "stream",
     "text": [
      "(284807, 33) (787, 32) (197, 32)\n",
      "(284807, 33) (787, 33) (197, 33)\n"
     ]
    },
    {
     "data": {
      "text/html": [
       "<div>\n",
       "<style scoped>\n",
       "    .dataframe tbody tr th:only-of-type {\n",
       "        vertical-align: middle;\n",
       "    }\n",
       "\n",
       "    .dataframe tbody tr th {\n",
       "        vertical-align: top;\n",
       "    }\n",
       "\n",
       "    .dataframe thead th {\n",
       "        text-align: right;\n",
       "    }\n",
       "</style>\n",
       "<table border=\"1\" class=\"dataframe\">\n",
       "  <thead>\n",
       "    <tr style=\"text-align: right;\">\n",
       "      <th></th>\n",
       "      <th>Amount</th>\n",
       "      <th>Time</th>\n",
       "      <th>V1</th>\n",
       "      <th>V10</th>\n",
       "      <th>V11</th>\n",
       "      <th>V12</th>\n",
       "      <th>V13</th>\n",
       "      <th>V14</th>\n",
       "      <th>V15</th>\n",
       "      <th>V16</th>\n",
       "      <th>V17</th>\n",
       "      <th>V18</th>\n",
       "      <th>V19</th>\n",
       "      <th>V2</th>\n",
       "      <th>V20</th>\n",
       "      <th>V21</th>\n",
       "      <th>V22</th>\n",
       "      <th>V23</th>\n",
       "      <th>V24</th>\n",
       "      <th>V25</th>\n",
       "      <th>V26</th>\n",
       "      <th>V27</th>\n",
       "      <th>V28</th>\n",
       "      <th>V3</th>\n",
       "      <th>V4</th>\n",
       "      <th>V5</th>\n",
       "      <th>V6</th>\n",
       "      <th>V7</th>\n",
       "      <th>V8</th>\n",
       "      <th>V9</th>\n",
       "      <th>scaled_amount</th>\n",
       "      <th>scaled_time</th>\n",
       "      <th>Class</th>\n",
       "    </tr>\n",
       "  </thead>\n",
       "  <tbody>\n",
       "    <tr>\n",
       "      <th>0</th>\n",
       "      <td>147856.0</td>\n",
       "      <td>1.915851</td>\n",
       "      <td>0.665687</td>\n",
       "      <td>-0.884928</td>\n",
       "      <td>3.489039</td>\n",
       "      <td>0.842344</td>\n",
       "      <td>0.315856</td>\n",
       "      <td>0.220146</td>\n",
       "      <td>-0.016990</td>\n",
       "      <td>-1.539009</td>\n",
       "      <td>1.678634</td>\n",
       "      <td>0.800689</td>\n",
       "      <td>0.763875</td>\n",
       "      <td>0.839985</td>\n",
       "      <td>0.430142</td>\n",
       "      <td>-1.024695</td>\n",
       "      <td>1.021889</td>\n",
       "      <td>-1.179907</td>\n",
       "      <td>0.101768</td>\n",
       "      <td>-1.527063</td>\n",
       "      <td>-0.210279</td>\n",
       "      <td>0.289098</td>\n",
       "      <td>0.828991</td>\n",
       "      <td>0.088947</td>\n",
       "      <td>0.716084</td>\n",
       "      <td>0.127340</td>\n",
       "      <td>0.079675</td>\n",
       "      <td>-0.045138</td>\n",
       "      <td>-0.054328</td>\n",
       "      <td>0.00</td>\n",
       "      <td>-0.307413</td>\n",
       "      <td>0.742067</td>\n",
       "      <td>0.0</td>\n",
       "    </tr>\n",
       "    <tr>\n",
       "      <th>1</th>\n",
       "      <td>155662.0</td>\n",
       "      <td>-1.928613</td>\n",
       "      <td>4.601506</td>\n",
       "      <td>-7.124053</td>\n",
       "      <td>5.716088</td>\n",
       "      <td>1.026579</td>\n",
       "      <td>-3.189073</td>\n",
       "      <td>-2.261897</td>\n",
       "      <td>1.185096</td>\n",
       "      <td>-4.441942</td>\n",
       "      <td>-6.646154</td>\n",
       "      <td>3.827868</td>\n",
       "      <td>-6.518649</td>\n",
       "      <td>0.251137</td>\n",
       "      <td>-12.456706</td>\n",
       "      <td>-0.649166</td>\n",
       "      <td>-1.283145</td>\n",
       "      <td>-2.718560</td>\n",
       "      <td>-0.085466</td>\n",
       "      <td>-2.097385</td>\n",
       "      <td>0.328796</td>\n",
       "      <td>0.602291</td>\n",
       "      <td>-0.541287</td>\n",
       "      <td>-0.354639</td>\n",
       "      <td>-0.701492</td>\n",
       "      <td>-0.030973</td>\n",
       "      <td>0.034070</td>\n",
       "      <td>0.573393</td>\n",
       "      <td>0.294686</td>\n",
       "      <td>0.77</td>\n",
       "      <td>-0.296653</td>\n",
       "      <td>0.833774</td>\n",
       "      <td>1.0</td>\n",
       "    </tr>\n",
       "  </tbody>\n",
       "</table>\n",
       "</div>"
      ],
      "text/plain": [
       "     Amount      Time        V1       V10       V11       V12       V13  \\\n",
       "0  147856.0  1.915851  0.665687 -0.884928  3.489039  0.842344  0.315856   \n",
       "1  155662.0 -1.928613  4.601506 -7.124053  5.716088  1.026579 -3.189073   \n",
       "\n",
       "        V14       V15       V16       V17       V18       V19        V2  \\\n",
       "0  0.220146 -0.016990 -1.539009  1.678634  0.800689  0.763875  0.839985   \n",
       "1 -2.261897  1.185096 -4.441942 -6.646154  3.827868 -6.518649  0.251137   \n",
       "\n",
       "         V20       V21       V22       V23       V24       V25       V26  \\\n",
       "0   0.430142 -1.024695  1.021889 -1.179907  0.101768 -1.527063 -0.210279   \n",
       "1 -12.456706 -0.649166 -1.283145 -2.718560 -0.085466 -2.097385  0.328796   \n",
       "\n",
       "        V27       V28        V3        V4        V5        V6        V7  \\\n",
       "0  0.289098  0.828991  0.088947  0.716084  0.127340  0.079675 -0.045138   \n",
       "1  0.602291 -0.541287 -0.354639 -0.701492 -0.030973  0.034070  0.573393   \n",
       "\n",
       "         V8    V9  scaled_amount  scaled_time  Class  \n",
       "0 -0.054328  0.00      -0.307413     0.742067    0.0  \n",
       "1  0.294686  0.77      -0.296653     0.833774    1.0  "
      ]
     },
     "execution_count": 35,
     "metadata": {},
     "output_type": "execute_result"
    }
   ],
   "source": [
    "(Xtrain_under, Xtest_under,\n",
    " ytrain_under, ytest_under) = \\\n",
    "    train_test_split(df_under.drop([target],1),\n",
    "                     df_under[target],\n",
    "                     random_state=random_state,\n",
    "                     test_size=0.2,\n",
    "                     #stratify=df_under[target] # do no use stratify here.\n",
    "                     )\n",
    "\n",
    "print(df.shape, Xtrain_under.shape, Xtest_under.shape)\n",
    "columns = df_no_outliers.columns.difference([target]).values.tolist() + [target]\n",
    "\n",
    "df_train_under = pd.DataFrame(data=np.c_[Xtrain_under,\n",
    "                                         ytrain_under],\n",
    "                              columns=columns)\n",
    "\n",
    "df_test_under = pd.DataFrame(data=np.c_[Xtest_under\n",
    "                                        ,ytest_under],\n",
    "                             columns=columns)\n",
    "\n",
    "print(df.shape, df_train_under.shape, df_test_under.shape)\n",
    "df_train_under.head(2)"
   ]
  },
  {
   "cell_type": "code",
   "execution_count": 36,
   "metadata": {
    "ExecuteTime": {
     "end_time": "2019-10-20T17:16:41.128863Z",
     "start_time": "2019-10-20T17:16:41.094815Z"
    }
   },
   "outputs": [
    {
     "data": {
      "text/plain": [
       "1.0    401\n",
       "0.0    386\n",
       "Name: Class, dtype: int64"
      ]
     },
     "execution_count": 36,
     "metadata": {},
     "output_type": "execute_result"
    }
   ],
   "source": [
    "df_train_under['Class'].value_counts()"
   ]
  },
  {
   "cell_type": "code",
   "execution_count": 37,
   "metadata": {
    "ExecuteTime": {
     "end_time": "2019-10-20T17:16:41.918968Z",
     "start_time": "2019-10-20T17:16:41.885278Z"
    }
   },
   "outputs": [
    {
     "data": {
      "text/plain": [
       "0.0    106\n",
       "1.0     91\n",
       "Name: Class, dtype: int64"
      ]
     },
     "execution_count": 37,
     "metadata": {},
     "output_type": "execute_result"
    }
   ],
   "source": [
    "df_test_under['Class'].value_counts()"
   ]
  },
  {
   "cell_type": "markdown",
   "metadata": {},
   "source": [
    "## Check for nans before modelling"
   ]
  },
  {
   "cell_type": "code",
   "execution_count": 38,
   "metadata": {
    "ExecuteTime": {
     "end_time": "2019-10-20T17:16:43.524432Z",
     "start_time": "2019-10-20T17:16:43.423197Z"
    }
   },
   "outputs": [
    {
     "name": "stdout",
     "output_type": "stream",
     "text": [
      "0\n",
      "0\n",
      "0\n",
      "0\n",
      "0\n",
      "0\n",
      "0\n"
     ]
    }
   ],
   "source": [
    "for x in [df, df_under, df_no_outliers,\n",
    "          df_train_under, df_test_under,\n",
    "          df_train_no_outliers, df_test_no_outliers]:\n",
    "    print(x.isnull().sum().sum())"
   ]
  },
  {
   "cell_type": "code",
   "execution_count": 39,
   "metadata": {
    "ExecuteTime": {
     "end_time": "2019-10-20T17:16:44.152560Z",
     "start_time": "2019-10-20T17:16:44.118832Z"
    }
   },
   "outputs": [
    {
     "data": {
      "text/plain": [
       "Index(['Time', 'V1', 'V2', 'V3', 'V4', 'V5', 'V6', 'V7', 'V8', 'V9', 'V10',\n",
       "       'V11', 'V12', 'V13', 'V14', 'V15', 'V16', 'V17', 'V18', 'V19', 'V20',\n",
       "       'V21', 'V22', 'V23', 'V24', 'V25', 'V26', 'V27', 'V28', 'Amount',\n",
       "       'Class', 'scaled_amount', 'scaled_time'],\n",
       "      dtype='object')"
      ]
     },
     "execution_count": 39,
     "metadata": {},
     "output_type": "execute_result"
    }
   ],
   "source": [
    "df_under.columns"
   ]
  },
  {
   "cell_type": "code",
   "execution_count": 40,
   "metadata": {
    "ExecuteTime": {
     "end_time": "2019-10-20T17:16:44.822727Z",
     "start_time": "2019-10-20T17:16:44.790829Z"
    }
   },
   "outputs": [
    {
     "data": {
      "text/plain": [
       "Index(['Amount', 'Time', 'V1', 'V10', 'V11', 'V12', 'V13', 'V14', 'V15', 'V16',\n",
       "       'V17', 'V18', 'V19', 'V2', 'V20', 'V21', 'V22', 'V23', 'V24', 'V25',\n",
       "       'V26', 'V27', 'V28', 'V3', 'V4', 'V5', 'V6', 'V7', 'V8', 'V9',\n",
       "       'scaled_amount', 'scaled_time', 'Class'],\n",
       "      dtype='object')"
      ]
     },
     "execution_count": 40,
     "metadata": {},
     "output_type": "execute_result"
    }
   ],
   "source": [
    "df_train_under.columns"
   ]
  },
  {
   "cell_type": "markdown",
   "metadata": {},
   "source": [
    "# Modelling\n",
    "\n",
    "<div class=\"alert alert-block alert-info\">\n",
    "<b>NOTE:</b> Always used random state and n_jobs whenever possible <br><br>\n",
    "No random_state: knn <br>\n",
    "No n_jobs: svc and dtree <br>\n",
    "<br>\n",
    "liblinear: It has both 'l1' and 'l2' penalty.<br>\n",
    "liblinear: It has n_jobs as +1, but lbfgs support -1. <br>\n",
    "lbfgs: It has only 'l2' but it is faster for large datasets.<br>\n",
    "<br>\n",
    "liblinear :random_state<br>\n",
    "lbfgs: both <br>\n",
    "svc: random_state only<br>\n",
    "knn: n_jobs only<br>\n",
    "dtree: n_jobs only<br>\n",
    "rf: both<br>\n",
    "\n",
    "\n",
    "</div>\n",
    "\n",
    "</div>\n",
    "\n",
    "<div class=\"alert alert-block alert-info\">\n",
    "<b>NOTE:</b> Confusion Matrix Terms\n",
    "    <br>\n",
    "Fraud ==> Fraud TP <br>\n",
    "Non-Fraud ==> Non-Fraud TN <br>\n",
    "Fraud ==> Non-Fraud FN (I am interested in this) <br>\n",
    "Non-Fraud ==> Fraud FP\n",
    "<br>\n",
    "\n",
    "</div>\n"
   ]
  },
  {
   "cell_type": "markdown",
   "metadata": {},
   "source": [
    "## Classifiers"
   ]
  },
  {
   "cell_type": "code",
   "execution_count": 41,
   "metadata": {
    "ExecuteTime": {
     "end_time": "2019-10-20T17:17:17.326554Z",
     "start_time": "2019-10-20T17:17:17.295249Z"
    }
   },
   "outputs": [],
   "source": [
    "from sklearn.linear_model import LogisticRegression\n",
    "from sklearn.svm import SVC\n",
    "from sklearn.neighbors import KNeighborsClassifier\n",
    "from sklearn.tree import DecisionTreeClassifier\n",
    "from sklearn.ensemble import RandomForestClassifier"
   ]
  },
  {
   "cell_type": "code",
   "execution_count": 42,
   "metadata": {
    "ExecuteTime": {
     "end_time": "2019-10-20T17:17:18.680404Z",
     "start_time": "2019-10-20T17:17:18.647453Z"
    }
   },
   "outputs": [
    {
     "name": "stdout",
     "output_type": "stream",
     "text": [
      "['V1', 'V10', 'V11', 'V12', 'V13', 'V14', 'V15', 'V16', 'V17', 'V18', 'V19', 'V2', 'V20', 'V21', 'V22', 'V23', 'V24', 'V25', 'V26', 'V27', 'V28', 'V3', 'V4', 'V5', 'V6', 'V7', 'V8', 'V9', 'scaled_amount', 'scaled_time']\n"
     ]
    }
   ],
   "source": [
    "features_with_log = df_under.columns.difference(\n",
    "    ['Amount','Time','Class']).values.tolist()\n",
    "\n",
    "features = features_with_log\n",
    "print(features)"
   ]
  },
  {
   "cell_type": "code",
   "execution_count": 43,
   "metadata": {
    "ExecuteTime": {
     "end_time": "2019-10-20T17:17:20.305226Z",
     "start_time": "2019-10-20T17:17:20.263518Z"
    }
   },
   "outputs": [
    {
     "data": {
      "text/plain": [
       "((787, 30), (787,), (197, 30), (197,))"
      ]
     },
     "execution_count": 43,
     "metadata": {},
     "output_type": "execute_result"
    }
   ],
   "source": [
    "# numpy arrays\n",
    "Xtrain = df_train_under[features].values\n",
    "Xtest = df_test_under[features].values\n",
    "\n",
    "ytrain = df_train_under[target].values.ravel()\n",
    "ytest = df_test_under[target].values.ravel()\n",
    "\n",
    "Xtrain.shape, ytrain.shape, Xtest.shape,  ytest.shape"
   ]
  },
  {
   "cell_type": "code",
   "execution_count": 121,
   "metadata": {
    "ExecuteTime": {
     "end_time": "2019-10-20T18:32:30.214643Z",
     "start_time": "2019-10-20T18:32:30.140543Z"
    }
   },
   "outputs": [],
   "source": [
    "clf_lr = LogisticRegression(solver='liblinear',\n",
    "                            max_iter=4000,\n",
    "                            random_state=random_state,\n",
    "                            n_jobs=1,) # for liblinear n_jobs is +1.\n",
    "\n",
    "clf_svc = SVC(random_state=random_state,gamma='scale')\n",
    "clf_knn = KNeighborsClassifier(n_jobs=-1)\n",
    "clf_dtc = DecisionTreeClassifier(random_state=random_state)\n",
    "clf_rfc = RandomForestClassifier(n_estimators=100,\n",
    "                                random_state=random_state,n_jobs=-1)\n",
    "\n",
    "clf_names = [\"Logisitic Regression\",\"Support Vector Classifier\",\n",
    "            \"KNN\", \"Decision Tree Classifier\",\"Random Forest Classifier\"]"
   ]
  },
  {
   "cell_type": "markdown",
   "metadata": {},
   "source": [
    "## Recall Scores from Cross Validation"
   ]
  },
  {
   "cell_type": "code",
   "execution_count": 122,
   "metadata": {
    "ExecuteTime": {
     "end_time": "2019-10-20T18:32:33.334449Z",
     "start_time": "2019-10-20T18:32:33.284784Z"
    }
   },
   "outputs": [],
   "source": [
    "X = df_under[features_with_log].values\n",
    "y = df_under[target].values.ravel()"
   ]
  },
  {
   "cell_type": "code",
   "execution_count": 126,
   "metadata": {
    "ExecuteTime": {
     "end_time": "2019-10-20T18:35:54.399046Z",
     "start_time": "2019-10-20T18:35:53.207611Z"
    }
   },
   "outputs": [
    {
     "name": "stdout",
     "output_type": "stream",
     "text": [
      "Time taken: 0.0 minutes 1.13 seconds\n"
     ]
    },
    {
     "data": {
      "text/html": [
       "<style  type=\"text/css\" >\n",
       "    #T_730de390_f368_11e9_bea8_acde48001122row0_col1 {\n",
       "            background-color:  #023858;\n",
       "            color:  #f1f1f1;\n",
       "        }    #T_730de390_f368_11e9_bea8_acde48001122row1_col1 {\n",
       "            background-color:  #023858;\n",
       "            color:  #f1f1f1;\n",
       "        }    #T_730de390_f368_11e9_bea8_acde48001122row2_col1 {\n",
       "            background-color:  #034e7b;\n",
       "            color:  #f1f1f1;\n",
       "        }    #T_730de390_f368_11e9_bea8_acde48001122row3_col1 {\n",
       "            background-color:  #034e7b;\n",
       "            color:  #f1f1f1;\n",
       "        }    #T_730de390_f368_11e9_bea8_acde48001122row4_col1 {\n",
       "            background-color:  #fff7fb;\n",
       "            color:  #000000;\n",
       "        }</style><table id=\"T_730de390_f368_11e9_bea8_acde48001122\" ><caption>Recall Cross Validation Scores\n",
       " for Default Classifiers for Undersampled Data</caption><thead>    <tr>        <th class=\"blank level0\" ></th>        <th class=\"col_heading level0 col0\" >Classifier</th>        <th class=\"col_heading level0 col1\" >Recall Cross Validation Score</th>    </tr></thead><tbody>\n",
       "                <tr>\n",
       "                        <th id=\"T_730de390_f368_11e9_bea8_acde48001122level0_row0\" class=\"row_heading level0 row0\" >0</th>\n",
       "                        <td id=\"T_730de390_f368_11e9_bea8_acde48001122row0_col0\" class=\"data row0 col0\" >Logisitic Regression</td>\n",
       "                        <td id=\"T_730de390_f368_11e9_bea8_acde48001122row0_col1\" class=\"data row0 col1\" >0.896269</td>\n",
       "            </tr>\n",
       "            <tr>\n",
       "                        <th id=\"T_730de390_f368_11e9_bea8_acde48001122level0_row1\" class=\"row_heading level0 row1\" >1</th>\n",
       "                        <td id=\"T_730de390_f368_11e9_bea8_acde48001122row1_col0\" class=\"data row1 col0\" >Random Forest Classifier</td>\n",
       "                        <td id=\"T_730de390_f368_11e9_bea8_acde48001122row1_col1\" class=\"data row1 col1\" >0.896269</td>\n",
       "            </tr>\n",
       "            <tr>\n",
       "                        <th id=\"T_730de390_f368_11e9_bea8_acde48001122level0_row2\" class=\"row_heading level0 row2\" >2</th>\n",
       "                        <td id=\"T_730de390_f368_11e9_bea8_acde48001122row2_col0\" class=\"data row2 col0\" >Decision Tree Classifier</td>\n",
       "                        <td id=\"T_730de390_f368_11e9_bea8_acde48001122row2_col1\" class=\"data row2 col1\" >0.894228</td>\n",
       "            </tr>\n",
       "            <tr>\n",
       "                        <th id=\"T_730de390_f368_11e9_bea8_acde48001122level0_row3\" class=\"row_heading level0 row3\" >3</th>\n",
       "                        <td id=\"T_730de390_f368_11e9_bea8_acde48001122row3_col0\" class=\"data row3 col0\" >KNN</td>\n",
       "                        <td id=\"T_730de390_f368_11e9_bea8_acde48001122row3_col1\" class=\"data row3 col1\" >0.894207</td>\n",
       "            </tr>\n",
       "            <tr>\n",
       "                        <th id=\"T_730de390_f368_11e9_bea8_acde48001122level0_row4\" class=\"row_heading level0 row4\" >4</th>\n",
       "                        <td id=\"T_730de390_f368_11e9_bea8_acde48001122row4_col0\" class=\"data row4 col0\" >Support Vector Classifier</td>\n",
       "                        <td id=\"T_730de390_f368_11e9_bea8_acde48001122row4_col1\" class=\"data row4 col1\" >0.871841</td>\n",
       "            </tr>\n",
       "    </tbody></table>"
      ],
      "text/plain": [
       "<pandas.io.formats.style.Styler at 0x11f02e048>"
      ]
     },
     "execution_count": 126,
     "metadata": {},
     "output_type": "execute_result"
    }
   ],
   "source": [
    "from sklearn.model_selection import cross_val_score\n",
    "\n",
    "classifiers = [clf_lr, clf_svc, clf_knn, clf_dtc, clf_rfc]\n",
    "recall_cross_val_scores = []\n",
    "\n",
    "t0 = time.time()\n",
    "for clf in classifiers:\n",
    "    clf.fit(X, y)\n",
    "    score = cross_val_score(clf, X, y, cv=5,n_jobs=-1,scoring='recall')\n",
    "    recall_cross_val_scores.append(score.mean())\n",
    "    \n",
    "t1 = (time.time() - t0)\n",
    "\n",
    "print('Time taken: {} minutes {:.2f} seconds'.format(*divmod(t1,60)))\n",
    "    \n",
    "df_recall_cross_val_scores = pd.DataFrame({'Classifier': clf_names,\n",
    "                'Recall Cross Validation Score': recall_cross_val_scores})\n",
    "\n",
    "df_recall_cross_val_scores = df_recall_cross_val_scores\\\n",
    "    .sort_values('Recall Cross Validation Score',ascending=False)\n",
    "\n",
    "df_recall_cross_val_scores.index = range(len(df_recall_cross_val_scores))\n",
    "\n",
    "df_recall_cross_val_scores.style.background_gradient(\n",
    "    subset=['Recall Cross Validation Score']).set_caption(\n",
    "    'Recall Cross Validation Scores for Default Classifiers for Undersampled Data')"
   ]
  },
  {
   "cell_type": "markdown",
   "metadata": {},
   "source": [
    "##  ROC AUC Scores from Cross Validation"
   ]
  },
  {
   "cell_type": "code",
   "execution_count": 130,
   "metadata": {
    "ExecuteTime": {
     "end_time": "2019-10-20T18:44:53.452854Z",
     "start_time": "2019-10-20T18:44:52.413835Z"
    }
   },
   "outputs": [
    {
     "data": {
      "text/html": [
       "<style  type=\"text/css\" >\n",
       "    #T_b45b148e_f369_11e9_bea8_acde48001122row0_col1 {\n",
       "            background-color:  #023858;\n",
       "            color:  #f1f1f1;\n",
       "        }    #T_b45b148e_f369_11e9_bea8_acde48001122row1_col1 {\n",
       "            background-color:  #03466e;\n",
       "            color:  #f1f1f1;\n",
       "        }    #T_b45b148e_f369_11e9_bea8_acde48001122row2_col1 {\n",
       "            background-color:  #84b0d3;\n",
       "            color:  #000000;\n",
       "        }    #T_b45b148e_f369_11e9_bea8_acde48001122row3_col1 {\n",
       "            background-color:  #84b0d3;\n",
       "            color:  #000000;\n",
       "        }    #T_b45b148e_f369_11e9_bea8_acde48001122row4_col1 {\n",
       "            background-color:  #fff7fb;\n",
       "            color:  #000000;\n",
       "        }</style><table id=\"T_b45b148e_f369_11e9_bea8_acde48001122\" ><caption>Cross Validation AUROC Scores for Default Classifiers for Undersampled Data</caption><thead>    <tr>        <th class=\"blank level0\" ></th>        <th class=\"col_heading level0 col0\" >Classifier</th>        <th class=\"col_heading level0 col1\" >Cross Validation AUROC Scores</th>    </tr></thead><tbody>\n",
       "                <tr>\n",
       "                        <th id=\"T_b45b148e_f369_11e9_bea8_acde48001122level0_row0\" class=\"row_heading level0 row0\" >0</th>\n",
       "                        <td id=\"T_b45b148e_f369_11e9_bea8_acde48001122row0_col0\" class=\"data row0 col0\" >Support Vector Classifier</td>\n",
       "                        <td id=\"T_b45b148e_f369_11e9_bea8_acde48001122row0_col1\" class=\"data row0 col1\" >0.979885</td>\n",
       "            </tr>\n",
       "            <tr>\n",
       "                        <th id=\"T_b45b148e_f369_11e9_bea8_acde48001122level0_row1\" class=\"row_heading level0 row1\" >1</th>\n",
       "                        <td id=\"T_b45b148e_f369_11e9_bea8_acde48001122row1_col0\" class=\"data row1 col0\" >Logisitic Regression</td>\n",
       "                        <td id=\"T_b45b148e_f369_11e9_bea8_acde48001122row1_col1\" class=\"data row1 col1\" >0.975118</td>\n",
       "            </tr>\n",
       "            <tr>\n",
       "                        <th id=\"T_b45b148e_f369_11e9_bea8_acde48001122level0_row2\" class=\"row_heading level0 row2\" >2</th>\n",
       "                        <td id=\"T_b45b148e_f369_11e9_bea8_acde48001122row2_col0\" class=\"data row2 col0\" >Random Forest Classifier</td>\n",
       "                        <td id=\"T_b45b148e_f369_11e9_bea8_acde48001122row2_col1\" class=\"data row2 col1\" >0.930894</td>\n",
       "            </tr>\n",
       "            <tr>\n",
       "                        <th id=\"T_b45b148e_f369_11e9_bea8_acde48001122level0_row3\" class=\"row_heading level0 row3\" >3</th>\n",
       "                        <td id=\"T_b45b148e_f369_11e9_bea8_acde48001122row3_col0\" class=\"data row3 col0\" >KNN</td>\n",
       "                        <td id=\"T_b45b148e_f369_11e9_bea8_acde48001122row3_col1\" class=\"data row3 col1\" >0.930894</td>\n",
       "            </tr>\n",
       "            <tr>\n",
       "                        <th id=\"T_b45b148e_f369_11e9_bea8_acde48001122level0_row4\" class=\"row_heading level0 row4\" >4</th>\n",
       "                        <td id=\"T_b45b148e_f369_11e9_bea8_acde48001122row4_col0\" class=\"data row4 col0\" >Decision Tree Classifier</td>\n",
       "                        <td id=\"T_b45b148e_f369_11e9_bea8_acde48001122row4_col1\" class=\"data row4 col1\" >0.889228</td>\n",
       "            </tr>\n",
       "    </tbody></table>"
      ],
      "text/plain": [
       "<pandas.io.formats.style.Styler at 0x13ba5ab00>"
      ]
     },
     "execution_count": 130,
     "metadata": {},
     "output_type": "execute_result"
    }
   ],
   "source": [
    "from sklearn.model_selection import cross_val_predict\n",
    "from sklearn.metrics import roc_auc_score\n",
    "\n",
    "\n",
    "\n",
    "# logistic regression and svc have method decision function\n",
    "cvpred_lr = cross_val_predict(clf_lr, X, y, cv=5,n_jobs=-1,\n",
    "                             method=\"decision_function\")\n",
    "cvpred_svc = cross_val_predict(clf_svc, X, y, cv=5,n_jobs=-1,\n",
    "                             method=\"decision_function\")\n",
    "\n",
    "# default cross val predict method is 'predict'\n",
    "cvpred_knn = cross_val_predict(clf_knn, X, y, cv=5,n_jobs=-1)\n",
    "cvpred_dtc = cross_val_predict(clf_dtc, X, y, cv=5,n_jobs=-1)\n",
    "cvpred_rfc = cross_val_predict(clf_rfc, X, y, cv=5,n_jobs=-1)\n",
    "\n",
    "all_cross_val_preds = [cvpred_lr, cvpred_svc, cvpred_knn, cvpred_dtc, cvpred_rfc]\n",
    "\n",
    "all_roc_auc_scores = [roc_auc_score(y, cvpred)\n",
    "                        for cvpred in all_cross_val_preds ]\n",
    "\n",
    "# create dataframe of results\n",
    "col = 'Cross Validation AUROC Scores'\n",
    "df_cross_val_preds = pd.DataFrame({'Classifier': clf_names,\n",
    "                                   col: all_roc_auc_scores})\n",
    "  \n",
    "\n",
    "df_cross_val_preds = df_cross_val_preds.sort_values(col,ascending=False)\n",
    "df_cross_val_preds.index = range(len(df_cross_val_preds))\n",
    "\n",
    "title = 'Cross Validation AUROC Scores for Default Classifiers '\n",
    "title += 'for Undersampled Data'\n",
    "df_cross_val_preds.style.background_gradient(subset=[col])\\\n",
    "    .set_caption(title)"
   ]
  },
  {
   "cell_type": "markdown",
   "metadata": {},
   "source": [
    "## Grid Search and Randomized Search"
   ]
  },
  {
   "cell_type": "code",
   "execution_count": 48,
   "metadata": {
    "ExecuteTime": {
     "end_time": "2019-10-20T17:17:36.899836Z",
     "start_time": "2019-10-20T17:17:36.871447Z"
    }
   },
   "outputs": [],
   "source": [
    "from sklearn.model_selection import GridSearchCV, RandomizedSearchCV"
   ]
  },
  {
   "cell_type": "code",
   "execution_count": 49,
   "metadata": {
    "ExecuteTime": {
     "end_time": "2019-10-20T17:17:37.831718Z",
     "start_time": "2019-10-20T17:17:37.798373Z"
    }
   },
   "outputs": [],
   "source": [
    "def get_best_estimator(clf, params,Xtrain,ytrain,fname=None,\n",
    "                       random_state=100,\n",
    "                       verbose=1,\n",
    "                       use_gridcv=True,\n",
    "                       scoring='recall'):\n",
    "    \"\"\"Find the best estimator using grid search.\n",
    "    \n",
    "    GridSearchCV does not have random_state, it goes through all the \n",
    "    parameters given to it. It is slow but guarenteed to give best among them.\n",
    "    \n",
    "    RandomizedSearchCV do have random_state. It is fast\n",
    "    but is not guarenteed to give the best set of params among them.\n",
    "    \n",
    "    \"\"\"\n",
    "    import time\n",
    "    from sklearn.model_selection import GridSearchCV, RandomizedSearchCV\n",
    "    \n",
    "    t0 = time.time()\n",
    "    \n",
    "    if use_gridcv:\n",
    "        # GridSearchCV does not have random_state and n_iter\n",
    "        print('Please wait .. doing grid search cv')\n",
    "        grid = GridSearchCV(clf, params,cv=5,n_jobs=-1,\n",
    "                              verbose=verbose,scoring=scoring)\n",
    "    else:\n",
    "        print('Please wait .. doing randomized search cv')\n",
    "        grid = RandomizedSearchCV(clf, params,cv=5,n_jobs=-1,n_iter=10,\n",
    "                              verbose=verbose,scoring=scoring,\n",
    "                              random_state=random_state)\n",
    "        \n",
    "    grid.fit(Xtrain, ytrain)\n",
    "\n",
    "    clf_best = grid.best_estimator_\n",
    "\n",
    "    if fname:\n",
    "        joblib.dump(clf_best, fname)\n",
    "        \n",
    "    t1 = time.time() - t0\n",
    "    print('Time taken: {:.0f} min {:.0f} secs'.format(*divmod(t1,60)))\n",
    "    \n",
    "    return clf_best"
   ]
  },
  {
   "cell_type": "code",
   "execution_count": 50,
   "metadata": {
    "ExecuteTime": {
     "end_time": "2019-10-20T17:17:38.863943Z",
     "start_time": "2019-10-20T17:17:38.831454Z"
    }
   },
   "outputs": [],
   "source": [
    "# Logistic Regression\n",
    "# liblinear supports penalty l1 and l2, but lbfgs support only l2.\n",
    "# generally we choose C in log scale.\n",
    "params_lr = {\"penalty\": ['l1', 'l2'],\n",
    "                  'C': [0.001, 0.01, 0.1, 1, 10, 100, 1000]}\n",
    "\n",
    "\n",
    "fname = '../models/serialization/clf_best_lr.pkl'\n",
    "# clf_best_lr = get_best_estimator(clf_lr, params_lr,Xtrain,ytrain,fname)\n",
    "\n",
    "# After getting the best classifier, comment the code.\n",
    "\n",
    "# Time taken:  3 min 28 secs for gridsearch"
   ]
  },
  {
   "cell_type": "code",
   "execution_count": 51,
   "metadata": {
    "ExecuteTime": {
     "end_time": "2019-10-20T17:17:39.660291Z",
     "start_time": "2019-10-20T17:17:39.624822Z"
    }
   },
   "outputs": [
    {
     "data": {
      "text/plain": [
       "LogisticRegression(C=0.001, class_weight=None, dual=False, fit_intercept=True,\n",
       "                   intercept_scaling=1, l1_ratio=None, max_iter=4000,\n",
       "                   multi_class='warn', n_jobs=1, penalty='l1', random_state=100,\n",
       "                   solver='liblinear', tol=0.0001, verbose=0, warm_start=False)"
      ]
     },
     "execution_count": 51,
     "metadata": {},
     "output_type": "execute_result"
    }
   ],
   "source": [
    "fname = '../models/serialization/clf_best_lr.pkl'\n",
    "clf_best_lr = joblib.load(fname)\n",
    "\n",
    "clf_best_lr"
   ]
  },
  {
   "cell_type": "code",
   "execution_count": 52,
   "metadata": {
    "ExecuteTime": {
     "end_time": "2019-10-20T17:17:41.158618Z",
     "start_time": "2019-10-20T17:17:41.126371Z"
    }
   },
   "outputs": [],
   "source": [
    "# Support Vector Classifier\n",
    "params_svc = {'C': [0.5, 0.7, 0.9, 1],\n",
    "              'kernel': ['rbf', 'poly', 'sigmoid', 'linear']}\n",
    "\n",
    "fname = '../models/serialization/clf_best_svc.pkl'\n",
    "# clf_best_svc = get_best_estimator(clf_svc,params_svc,Xtrain,ytrain,fname)\n",
    "\n",
    "# Time taken: Time taken: 1 min 4 secs"
   ]
  },
  {
   "cell_type": "code",
   "execution_count": 53,
   "metadata": {
    "ExecuteTime": {
     "end_time": "2019-10-20T17:17:42.104182Z",
     "start_time": "2019-10-20T17:17:42.071569Z"
    }
   },
   "outputs": [],
   "source": [
    "fname = '../models/serialization/clf_best_svc.pkl'\n",
    "clf_best_svc = joblib.load(fname)"
   ]
  },
  {
   "cell_type": "code",
   "execution_count": 54,
   "metadata": {
    "ExecuteTime": {
     "end_time": "2019-10-20T17:17:44.787270Z",
     "start_time": "2019-10-20T17:17:42.920361Z"
    }
   },
   "outputs": [
    {
     "name": "stdout",
     "output_type": "stream",
     "text": [
      "Please wait .. doing grid search cv\n",
      "Fitting 5 folds for each of 12 candidates, totalling 60 fits\n"
     ]
    },
    {
     "name": "stderr",
     "output_type": "stream",
     "text": [
      "[Parallel(n_jobs=-1)]: Using backend LokyBackend with 4 concurrent workers.\n"
     ]
    },
    {
     "name": "stdout",
     "output_type": "stream",
     "text": [
      "Time taken: 0 min 2 secs\n"
     ]
    },
    {
     "name": "stderr",
     "output_type": "stream",
     "text": [
      "[Parallel(n_jobs=-1)]: Done  60 out of  60 | elapsed:    1.8s finished\n"
     ]
    }
   ],
   "source": [
    "# K-nearest neighbor\n",
    "params_knn = {\"n_neighbors\": list(range(2,5,1)),\n",
    "              'algorithm': ['auto', 'ball_tree', 'kd_tree', 'brute']}\n",
    "\n",
    "fname = '../models/serialization/clf_best_knn.pkl'\n",
    "clf_best_knn = get_best_estimator(clf_knn, params_knn,Xtrain,ytrain,fname)\n",
    "\n",
    "# Time taken: 0 min 3 secs"
   ]
  },
  {
   "cell_type": "code",
   "execution_count": 55,
   "metadata": {
    "ExecuteTime": {
     "end_time": "2019-10-20T17:17:45.038658Z",
     "start_time": "2019-10-20T17:17:44.789469Z"
    }
   },
   "outputs": [
    {
     "name": "stderr",
     "output_type": "stream",
     "text": [
      "[Parallel(n_jobs=-1)]: Using backend LokyBackend with 4 concurrent workers.\n"
     ]
    },
    {
     "name": "stdout",
     "output_type": "stream",
     "text": [
      "Please wait .. doing grid search cv\n",
      "Fitting 5 folds for each of 8 candidates, totalling 40 fits\n",
      "Time taken: 0 min 0 secs\n"
     ]
    },
    {
     "name": "stderr",
     "output_type": "stream",
     "text": [
      "[Parallel(n_jobs=-1)]: Done  40 out of  40 | elapsed:    0.2s finished\n"
     ]
    }
   ],
   "source": [
    "# DecisionTree Classifier\n",
    "params_dtc = {\"criterion\": [\"gini\", \"entropy\"],\n",
    "               \"max_depth\": list(range(2,4,1)), \n",
    "              \"min_samples_leaf\": list(range(5,7,1))}\n",
    "\n",
    "fname = '../models/serialization/clf_best_dtree.pkl'\n",
    "clf_best_dtc = get_best_estimator(clf_dtc, params_dtc,Xtrain,ytrain,fname)\n",
    "\n",
    "# Time taken: 0 min 2 secs"
   ]
  },
  {
   "cell_type": "code",
   "execution_count": 56,
   "metadata": {
    "ExecuteTime": {
     "end_time": "2019-10-20T17:18:35.380753Z",
     "start_time": "2019-10-20T17:17:52.416710Z"
    }
   },
   "outputs": [
    {
     "name": "stdout",
     "output_type": "stream",
     "text": [
      "Please wait .. doing randomized search cv\n",
      "Fitting 5 folds for each of 10 candidates, totalling 50 fits\n"
     ]
    },
    {
     "name": "stderr",
     "output_type": "stream",
     "text": [
      "[Parallel(n_jobs=-1)]: Using backend LokyBackend with 4 concurrent workers.\n",
      "[Parallel(n_jobs=-1)]: Done  42 tasks      | elapsed:   34.6s\n",
      "[Parallel(n_jobs=-1)]: Done  50 out of  50 | elapsed:   37.6s finished\n"
     ]
    },
    {
     "name": "stdout",
     "output_type": "stream",
     "text": [
      "Time taken: 0 min 43 secs\n"
     ]
    }
   ],
   "source": [
    "# Random Forest Classifier\n",
    "\n",
    "clf_rfc = RandomForestClassifier(random_state=random_state)\n",
    "\n",
    "n_estimators = [200,500,1000,1500,2000]\n",
    "max_depth = [10,20,40,80,100,120]\n",
    "\n",
    "max_features = ['auto', 'sqrt']\n",
    "bootstrap = [True, False]\n",
    "\n",
    "min_samples_split = [2, 5, 10]\n",
    "min_samples_leaf = [1, 2, 4]\n",
    "\n",
    "params_rfc = {'n_estimators': n_estimators,\n",
    "               'max_features': max_features,\n",
    "               'max_depth': max_depth,\n",
    "               'min_samples_split': min_samples_split,\n",
    "               'min_samples_leaf': min_samples_leaf,\n",
    "               'bootstrap': bootstrap}\n",
    "\n",
    "fname = '../models/serialization/clf_best_rfc.pkl'\n",
    "clf_best_rfc = get_best_estimator(clf_rfc, params_rfc,Xtrain,ytrain,fname,\n",
    "                                 use_gridcv=False)\n",
    "\n",
    "# Time taken: 0 min 48 secs"
   ]
  },
  {
   "cell_type": "code",
   "execution_count": 57,
   "metadata": {
    "ExecuteTime": {
     "end_time": "2019-10-20T17:18:35.955648Z",
     "start_time": "2019-10-20T17:18:35.387118Z"
    }
   },
   "outputs": [],
   "source": [
    "fname = '../models/serialization/clf_best_rfc.pkl'\n",
    "clf_best_rfc = joblib.load(fname)"
   ]
  },
  {
   "cell_type": "markdown",
   "metadata": {
    "ExecuteTime": {
     "end_time": "2019-10-12T14:57:39.698786Z",
     "start_time": "2019-10-12T14:57:39.689505Z"
    }
   },
   "source": [
    "# Model Evaluation\n",
    "![](../images/classification_metrics.png)\n",
    "![](../images/confusion_matrix.png)\n",
    "![](../images/accuracy.png)\n",
    "![](../images/precision.png)\n",
    "![](../images/recall.png)\n",
    "![](../images/f1_score.png)"
   ]
  },
  {
   "cell_type": "markdown",
   "metadata": {},
   "source": [
    "## Get Predictions"
   ]
  },
  {
   "cell_type": "code",
   "execution_count": 131,
   "metadata": {
    "ExecuteTime": {
     "end_time": "2019-10-20T18:48:45.856136Z",
     "start_time": "2019-10-20T18:48:45.585783Z"
    }
   },
   "outputs": [],
   "source": [
    "ypreds_lr = clf_lr.predict(Xtest)\n",
    "ypreds_svc = clf_svc.predict(Xtest)\n",
    "ypreds_knn = clf_knn.predict(Xtest)\n",
    "ypreds_dtc = clf_dtc.predict(Xtest)\n",
    "ypreds_rfc = clf_rfc.predict(Xtest)"
   ]
  },
  {
   "cell_type": "code",
   "execution_count": 133,
   "metadata": {
    "ExecuteTime": {
     "end_time": "2019-10-20T18:50:40.262315Z",
     "start_time": "2019-10-20T18:50:40.162124Z"
    }
   },
   "outputs": [
    {
     "data": {
      "text/html": [
       "<style  type=\"text/css\" >\n",
       "    #T_83112782_f36a_11e9_bea8_acde48001122row0_col3 {\n",
       "            background:  lightblue;\n",
       "        }    #T_83112782_f36a_11e9_bea8_acde48001122row1_col3 {\n",
       "            background:  lightblue;\n",
       "        }    #T_83112782_f36a_11e9_bea8_acde48001122row2_col3 {\n",
       "            background:  lightblue;\n",
       "        }    #T_83112782_f36a_11e9_bea8_acde48001122row3_col3 {\n",
       "            background:  lightblue;\n",
       "        }    #T_83112782_f36a_11e9_bea8_acde48001122row4_col3 {\n",
       "            background:  lightblue;\n",
       "        }</style><table id=\"T_83112782_f36a_11e9_bea8_acde48001122\" ><thead>    <tr>        <th class=\"blank level0\" ></th>        <th class=\"col_heading level0 col0\" >Model</th>        <th class=\"col_heading level0 col1\" >Description</th>        <th class=\"col_heading level0 col2\" >Total_Frauds</th>        <th class=\"col_heading level0 col3\" >Incorrect_Frauds</th>        <th class=\"col_heading level0 col4\" >Incorrect_Percent</th>    </tr></thead><tbody>\n",
       "                <tr>\n",
       "                        <th id=\"T_83112782_f36a_11e9_bea8_acde48001122level0_row0\" class=\"row_heading level0 row0\" >0</th>\n",
       "                        <td id=\"T_83112782_f36a_11e9_bea8_acde48001122row0_col0\" class=\"data row0 col0\" >Support Vector Classifier</td>\n",
       "                        <td id=\"T_83112782_f36a_11e9_bea8_acde48001122row0_col1\" class=\"data row0 col1\" >Undersample</td>\n",
       "                        <td id=\"T_83112782_f36a_11e9_bea8_acde48001122row0_col2\" class=\"data row0 col2\" >91</td>\n",
       "                        <td id=\"T_83112782_f36a_11e9_bea8_acde48001122row0_col3\" class=\"data row0 col3\" >12</td>\n",
       "                        <td id=\"T_83112782_f36a_11e9_bea8_acde48001122row0_col4\" class=\"data row0 col4\" >13.19 %</td>\n",
       "            </tr>\n",
       "            <tr>\n",
       "                        <th id=\"T_83112782_f36a_11e9_bea8_acde48001122level0_row1\" class=\"row_heading level0 row1\" >1</th>\n",
       "                        <td id=\"T_83112782_f36a_11e9_bea8_acde48001122row1_col0\" class=\"data row1 col0\" >Random Forest Classifier</td>\n",
       "                        <td id=\"T_83112782_f36a_11e9_bea8_acde48001122row1_col1\" class=\"data row1 col1\" >Undersample</td>\n",
       "                        <td id=\"T_83112782_f36a_11e9_bea8_acde48001122row1_col2\" class=\"data row1 col2\" >91</td>\n",
       "                        <td id=\"T_83112782_f36a_11e9_bea8_acde48001122row1_col3\" class=\"data row1 col3\" >17</td>\n",
       "                        <td id=\"T_83112782_f36a_11e9_bea8_acde48001122row1_col4\" class=\"data row1 col4\" >18.68 %</td>\n",
       "            </tr>\n",
       "            <tr>\n",
       "                        <th id=\"T_83112782_f36a_11e9_bea8_acde48001122level0_row2\" class=\"row_heading level0 row2\" >2</th>\n",
       "                        <td id=\"T_83112782_f36a_11e9_bea8_acde48001122row2_col0\" class=\"data row2 col0\" >Decision Tree Classifier</td>\n",
       "                        <td id=\"T_83112782_f36a_11e9_bea8_acde48001122row2_col1\" class=\"data row2 col1\" >Undersample</td>\n",
       "                        <td id=\"T_83112782_f36a_11e9_bea8_acde48001122row2_col2\" class=\"data row2 col2\" >91</td>\n",
       "                        <td id=\"T_83112782_f36a_11e9_bea8_acde48001122row2_col3\" class=\"data row2 col3\" >19</td>\n",
       "                        <td id=\"T_83112782_f36a_11e9_bea8_acde48001122row2_col4\" class=\"data row2 col4\" >20.88 %</td>\n",
       "            </tr>\n",
       "            <tr>\n",
       "                        <th id=\"T_83112782_f36a_11e9_bea8_acde48001122level0_row3\" class=\"row_heading level0 row3\" >3</th>\n",
       "                        <td id=\"T_83112782_f36a_11e9_bea8_acde48001122row3_col0\" class=\"data row3 col0\" >Logistic Regression</td>\n",
       "                        <td id=\"T_83112782_f36a_11e9_bea8_acde48001122row3_col1\" class=\"data row3 col1\" >Undersample</td>\n",
       "                        <td id=\"T_83112782_f36a_11e9_bea8_acde48001122row3_col2\" class=\"data row3 col2\" >91</td>\n",
       "                        <td id=\"T_83112782_f36a_11e9_bea8_acde48001122row3_col3\" class=\"data row3 col3\" >39</td>\n",
       "                        <td id=\"T_83112782_f36a_11e9_bea8_acde48001122row3_col4\" class=\"data row3 col4\" >42.86 %</td>\n",
       "            </tr>\n",
       "            <tr>\n",
       "                        <th id=\"T_83112782_f36a_11e9_bea8_acde48001122level0_row4\" class=\"row_heading level0 row4\" >4</th>\n",
       "                        <td id=\"T_83112782_f36a_11e9_bea8_acde48001122row4_col0\" class=\"data row4 col0\" >KNN</td>\n",
       "                        <td id=\"T_83112782_f36a_11e9_bea8_acde48001122row4_col1\" class=\"data row4 col1\" >Undersample</td>\n",
       "                        <td id=\"T_83112782_f36a_11e9_bea8_acde48001122row4_col2\" class=\"data row4 col2\" >91</td>\n",
       "                        <td id=\"T_83112782_f36a_11e9_bea8_acde48001122row4_col3\" class=\"data row4 col3\" >61</td>\n",
       "                        <td id=\"T_83112782_f36a_11e9_bea8_acde48001122row4_col4\" class=\"data row4 col4\" >67.03 %</td>\n",
       "            </tr>\n",
       "    </tbody></table>"
      ],
      "text/plain": [
       "<pandas.io.formats.style.Styler at 0x13bb65f60>"
      ]
     },
     "metadata": {},
     "output_type": "display_data"
    }
   ],
   "source": [
    "df_false_negatives = get_false_negative_frauds('Logistic Regression',\n",
    "   ytest,ypreds_lr,\n",
    "   desc=\"Undersample\",\n",
    "   df_false_negatives=None,\n",
    "   show=False);\n",
    "\n",
    "df_false_negatives = get_false_negative_frauds('Support Vector Classifier',\n",
    "   ytest,ypreds_svc,\n",
    "   desc=\"Undersample\",\n",
    "   df_false_negatives=df_false_negatives,\n",
    "   show=False);\n",
    "\n",
    "df_false_negatives = get_false_negative_frauds('KNN',\n",
    "   ytest,ypreds_knn,\n",
    "   desc=\"Undersample\",\n",
    "   df_false_negatives=df_false_negatives,\n",
    "   show=False);\n",
    "\n",
    "df_false_negatives = get_false_negative_frauds('Decision Tree Classifier',\n",
    "   ytest,ypreds_dtc,\n",
    "   desc=\"Undersample\",\n",
    "   df_false_negatives=df_false_negatives,\n",
    "   show=False);\n",
    "\n",
    "df_false_negatives = get_false_negative_frauds('Random Forest Classifier',\n",
    "   ytest,ypreds_rfc,\n",
    "   desc=\"Undersample\",\n",
    "   df_false_negatives=df_false_negatives,\n",
    "   show=True);"
   ]
  },
  {
   "cell_type": "code",
   "execution_count": 58,
   "metadata": {
    "ExecuteTime": {
     "end_time": "2019-10-20T17:18:36.228358Z",
     "start_time": "2019-10-20T17:18:35.957889Z"
    }
   },
   "outputs": [],
   "source": [
    "ypreds_best_lr = clf_best_lr.predict(Xtest)\n",
    "ypreds_best_svc = clf_best_svc.predict(Xtest)\n",
    "ypreds_best_knn = clf_best_knn.predict(Xtest)\n",
    "ypreds_best_dtc = clf_best_dtc.predict(Xtest)\n",
    "ypreds_best_rfc = clf_best_rfc.predict(Xtest)"
   ]
  },
  {
   "cell_type": "markdown",
   "metadata": {},
   "source": [
    "## Scalar Classification Metrics"
   ]
  },
  {
   "cell_type": "code",
   "execution_count": 59,
   "metadata": {
    "ExecuteTime": {
     "end_time": "2019-10-20T17:18:36.260171Z",
     "start_time": "2019-10-20T17:18:36.230663Z"
    }
   },
   "outputs": [],
   "source": [
    "from sklearn.metrics import accuracy_score\n",
    "from sklearn.metrics import precision_score\n",
    "from sklearn.metrics import recall_score\n",
    "from sklearn.metrics import f1_score\n",
    "\n",
    "from bhishan.util_model_eval import get_binary_classification_scalar_metrics"
   ]
  },
  {
   "cell_type": "code",
   "execution_count": 110,
   "metadata": {
    "ExecuteTime": {
     "end_time": "2019-10-20T18:18:43.713631Z",
     "start_time": "2019-10-20T18:18:43.052153Z"
    }
   },
   "outputs": [
    {
     "data": {
      "text/html": [
       "<style  type=\"text/css\" >\n",
       "    #T_0cb4cf20_f366_11e9_bea8_acde48001122row0_col4 {\n",
       "            background:  lightblue;\n",
       "        }    #T_0cb4cf20_f366_11e9_bea8_acde48001122row1_col4 {\n",
       "            background:  lightblue;\n",
       "        }    #T_0cb4cf20_f366_11e9_bea8_acde48001122row2_col4 {\n",
       "            background:  lightblue;\n",
       "        }    #T_0cb4cf20_f366_11e9_bea8_acde48001122row3_col4 {\n",
       "            background:  lightblue;\n",
       "        }    #T_0cb4cf20_f366_11e9_bea8_acde48001122row4_col4 {\n",
       "            background:  lightblue;\n",
       "        }</style><table id=\"T_0cb4cf20_f366_11e9_bea8_acde48001122\" ><thead>    <tr>        <th class=\"blank level0\" ></th>        <th class=\"col_heading level0 col0\" >Model</th>        <th class=\"col_heading level0 col1\" >Description</th>        <th class=\"col_heading level0 col2\" >Accuracy</th>        <th class=\"col_heading level0 col3\" >Precision</th>        <th class=\"col_heading level0 col4\" >Recall</th>        <th class=\"col_heading level0 col5\" >F1</th>        <th class=\"col_heading level0 col6\" >Mathews Correlation Coefficient</th>        <th class=\"col_heading level0 col7\" >Cohens Kappa</th>        <th class=\"col_heading level0 col8\" >Area Under Precision Curve</th>        <th class=\"col_heading level0 col9\" >Area Under ROC Curve</th>    </tr></thead><tbody>\n",
       "                <tr>\n",
       "                        <th id=\"T_0cb4cf20_f366_11e9_bea8_acde48001122level0_row0\" class=\"row_heading level0 row0\" >0</th>\n",
       "                        <td id=\"T_0cb4cf20_f366_11e9_bea8_acde48001122row0_col0\" class=\"data row0 col0\" >Logistic Regression</td>\n",
       "                        <td id=\"T_0cb4cf20_f366_11e9_bea8_acde48001122row0_col1\" class=\"data row0 col1\" >Undersample, Grid Search</td>\n",
       "                        <td id=\"T_0cb4cf20_f366_11e9_bea8_acde48001122row0_col2\" class=\"data row0 col2\" >0.741117</td>\n",
       "                        <td id=\"T_0cb4cf20_f366_11e9_bea8_acde48001122row0_col3\" class=\"data row0 col3\" >0.651515</td>\n",
       "                        <td id=\"T_0cb4cf20_f366_11e9_bea8_acde48001122row0_col4\" class=\"data row0 col4\" >0.945055</td>\n",
       "                        <td id=\"T_0cb4cf20_f366_11e9_bea8_acde48001122row0_col5\" class=\"data row0 col5\" >0.7713</td>\n",
       "                        <td id=\"T_0cb4cf20_f366_11e9_bea8_acde48001122row0_col6\" class=\"data row0 col6\" >0.541913</td>\n",
       "                        <td id=\"T_0cb4cf20_f366_11e9_bea8_acde48001122row0_col7\" class=\"data row0 col7\" >0.495303</td>\n",
       "                        <td id=\"T_0cb4cf20_f366_11e9_bea8_acde48001122row0_col8\" class=\"data row0 col8\" >0.95003</td>\n",
       "                        <td id=\"T_0cb4cf20_f366_11e9_bea8_acde48001122row0_col9\" class=\"data row0 col9\" >0.931474</td>\n",
       "            </tr>\n",
       "            <tr>\n",
       "                        <th id=\"T_0cb4cf20_f366_11e9_bea8_acde48001122level0_row1\" class=\"row_heading level0 row1\" >1</th>\n",
       "                        <td id=\"T_0cb4cf20_f366_11e9_bea8_acde48001122row1_col0\" class=\"data row1 col0\" >Support Vector Classifier</td>\n",
       "                        <td id=\"T_0cb4cf20_f366_11e9_bea8_acde48001122row1_col1\" class=\"data row1 col1\" >Undersample, Grid Search</td>\n",
       "                        <td id=\"T_0cb4cf20_f366_11e9_bea8_acde48001122row1_col2\" class=\"data row1 col2\" >0.741117</td>\n",
       "                        <td id=\"T_0cb4cf20_f366_11e9_bea8_acde48001122row1_col3\" class=\"data row1 col3\" >0.651515</td>\n",
       "                        <td id=\"T_0cb4cf20_f366_11e9_bea8_acde48001122row1_col4\" class=\"data row1 col4\" >0.945055</td>\n",
       "                        <td id=\"T_0cb4cf20_f366_11e9_bea8_acde48001122row1_col5\" class=\"data row1 col5\" >0.7713</td>\n",
       "                        <td id=\"T_0cb4cf20_f366_11e9_bea8_acde48001122row1_col6\" class=\"data row1 col6\" >0.541913</td>\n",
       "                        <td id=\"T_0cb4cf20_f366_11e9_bea8_acde48001122row1_col7\" class=\"data row1 col7\" >0.495303</td>\n",
       "                        <td id=\"T_0cb4cf20_f366_11e9_bea8_acde48001122row1_col8\" class=\"data row1 col8\" >0.962546</td>\n",
       "                        <td id=\"T_0cb4cf20_f366_11e9_bea8_acde48001122row1_col9\" class=\"data row1 col9\" >0.94464</td>\n",
       "            </tr>\n",
       "            <tr>\n",
       "                        <th id=\"T_0cb4cf20_f366_11e9_bea8_acde48001122level0_row2\" class=\"row_heading level0 row2\" >2</th>\n",
       "                        <td id=\"T_0cb4cf20_f366_11e9_bea8_acde48001122row2_col0\" class=\"data row2 col0\" >Random Forest Classifier</td>\n",
       "                        <td id=\"T_0cb4cf20_f366_11e9_bea8_acde48001122row2_col1\" class=\"data row2 col1\" >Undersample, Grid Search</td>\n",
       "                        <td id=\"T_0cb4cf20_f366_11e9_bea8_acde48001122row2_col2\" class=\"data row2 col2\" >0.913706</td>\n",
       "                        <td id=\"T_0cb4cf20_f366_11e9_bea8_acde48001122row2_col3\" class=\"data row2 col3\" >0.95122</td>\n",
       "                        <td id=\"T_0cb4cf20_f366_11e9_bea8_acde48001122row2_col4\" class=\"data row2 col4\" >0.857143</td>\n",
       "                        <td id=\"T_0cb4cf20_f366_11e9_bea8_acde48001122row2_col5\" class=\"data row2 col5\" >0.901734</td>\n",
       "                        <td id=\"T_0cb4cf20_f366_11e9_bea8_acde48001122row2_col6\" class=\"data row2 col6\" >0.828738</td>\n",
       "                        <td id=\"T_0cb4cf20_f366_11e9_bea8_acde48001122row2_col7\" class=\"data row2 col7\" >0.825181</td>\n",
       "                        <td id=\"T_0cb4cf20_f366_11e9_bea8_acde48001122row2_col8\" class=\"data row2 col8\" >0.981182</td>\n",
       "                        <td id=\"T_0cb4cf20_f366_11e9_bea8_acde48001122row2_col9\" class=\"data row2 col9\" >0.977918</td>\n",
       "            </tr>\n",
       "            <tr>\n",
       "                        <th id=\"T_0cb4cf20_f366_11e9_bea8_acde48001122level0_row3\" class=\"row_heading level0 row3\" >3</th>\n",
       "                        <td id=\"T_0cb4cf20_f366_11e9_bea8_acde48001122row3_col0\" class=\"data row3 col0\" >KNN</td>\n",
       "                        <td id=\"T_0cb4cf20_f366_11e9_bea8_acde48001122row3_col1\" class=\"data row3 col1\" >Undersample, Grid Search</td>\n",
       "                        <td id=\"T_0cb4cf20_f366_11e9_bea8_acde48001122row3_col2\" class=\"data row3 col2\" >0.888325</td>\n",
       "                        <td id=\"T_0cb4cf20_f366_11e9_bea8_acde48001122row3_col3\" class=\"data row3 col3\" >0.915663</td>\n",
       "                        <td id=\"T_0cb4cf20_f366_11e9_bea8_acde48001122row3_col4\" class=\"data row3 col4\" >0.835165</td>\n",
       "                        <td id=\"T_0cb4cf20_f366_11e9_bea8_acde48001122row3_col5\" class=\"data row3 col5\" >0.873563</td>\n",
       "                        <td id=\"T_0cb4cf20_f366_11e9_bea8_acde48001122row3_col6\" class=\"data row3 col6\" >0.776569</td>\n",
       "                        <td id=\"T_0cb4cf20_f366_11e9_bea8_acde48001122row3_col7\" class=\"data row3 col7\" >0.773941</td>\n",
       "                        <td id=\"T_0cb4cf20_f366_11e9_bea8_acde48001122row3_col8\" class=\"data row3 col8\" >0.903222</td>\n",
       "                        <td id=\"T_0cb4cf20_f366_11e9_bea8_acde48001122row3_col9\" class=\"data row3 col9\" >0.93163</td>\n",
       "            </tr>\n",
       "            <tr>\n",
       "                        <th id=\"T_0cb4cf20_f366_11e9_bea8_acde48001122level0_row4\" class=\"row_heading level0 row4\" >4</th>\n",
       "                        <td id=\"T_0cb4cf20_f366_11e9_bea8_acde48001122row4_col0\" class=\"data row4 col0\" >Decision Tree Classifier</td>\n",
       "                        <td id=\"T_0cb4cf20_f366_11e9_bea8_acde48001122row4_col1\" class=\"data row4 col1\" >Undersample, Grid Search</td>\n",
       "                        <td id=\"T_0cb4cf20_f366_11e9_bea8_acde48001122row4_col2\" class=\"data row4 col2\" >0.898477</td>\n",
       "                        <td id=\"T_0cb4cf20_f366_11e9_bea8_acde48001122row4_col3\" class=\"data row4 col3\" >0.949367</td>\n",
       "                        <td id=\"T_0cb4cf20_f366_11e9_bea8_acde48001122row4_col4\" class=\"data row4 col4\" >0.824176</td>\n",
       "                        <td id=\"T_0cb4cf20_f366_11e9_bea8_acde48001122row4_col5\" class=\"data row4 col5\" >0.882353</td>\n",
       "                        <td id=\"T_0cb4cf20_f366_11e9_bea8_acde48001122row4_col6\" class=\"data row4 col6\" >0.79999</td>\n",
       "                        <td id=\"T_0cb4cf20_f366_11e9_bea8_acde48001122row4_col7\" class=\"data row4 col7\" >0.793847</td>\n",
       "                        <td id=\"T_0cb4cf20_f366_11e9_bea8_acde48001122row4_col8\" class=\"data row4 col8\" >0.903238</td>\n",
       "                        <td id=\"T_0cb4cf20_f366_11e9_bea8_acde48001122row4_col9\" class=\"data row4 col9\" >0.931371</td>\n",
       "            </tr>\n",
       "    </tbody></table>"
      ],
      "text/plain": [
       "<pandas.io.formats.style.Styler at 0x13b938c18>"
      ]
     },
     "metadata": {},
     "output_type": "display_data"
    }
   ],
   "source": [
    "df_eval = get_binary_classification_scalar_metrics(\n",
    "    \"Logistic Regression\",\n",
    "    clf_best_lr,\n",
    "    Xtest,ytest,\n",
    "    ypreds_best_lr,\n",
    "    desc=\"Undersample, Grid Search\", df_eval=None,show=False)\n",
    "\n",
    "df_eval = get_binary_classification_scalar_metrics(\n",
    "    'Support Vector Classifier',\n",
    "    clf_best_svc,\n",
    "    Xtest,ytest,\n",
    "    ypreds_best_lr,\n",
    "    desc=\"Undersample, Grid Search\", df_eval=df_eval,show=False)\n",
    "\n",
    "df_eval = get_binary_classification_scalar_metrics(\n",
    "    'KNN',\n",
    "    clf_best_knn,\n",
    "    Xtest,ytest,\n",
    "    ypreds_best_knn,\n",
    "    desc=\"Undersample, Grid Search\", df_eval=df_eval,show=False)\n",
    "\n",
    "df_eval = get_binary_classification_scalar_metrics(\n",
    "    'Decision Tree Classifier',\n",
    "    clf_best_dtc,\n",
    "    Xtest,ytest,\n",
    "    ypreds_best_dtc,\n",
    "    desc=\"Undersample, Grid Search\", df_eval=df_eval,show=False)\n",
    "\n",
    "df_eval = get_binary_classification_scalar_metrics(\n",
    "    'Random Forest Classifier',\n",
    "    clf_best_rfc,\n",
    "    Xtest,ytest,\n",
    "    ypreds_best_rfc,\n",
    "    desc=\"Undersample, Grid Search\", df_eval=df_eval)"
   ]
  },
  {
   "cell_type": "code",
   "execution_count": 61,
   "metadata": {
    "ExecuteTime": {
     "end_time": "2019-10-20T17:18:36.640653Z",
     "start_time": "2019-10-20T17:18:36.597850Z"
    }
   },
   "outputs": [
    {
     "name": "stdout",
     "output_type": "stream",
     "text": [
      "Accuracy:  0.7411167512690355\n",
      "Precision:  0.6515151515151515\n",
      "Recall:  0.945054945054945\n",
      "F1-score:  0.7713004484304932\n"
     ]
    }
   ],
   "source": [
    "from sklearn.metrics import accuracy_score, precision_score, recall_score, f1_score\n",
    "\n",
    "print('Accuracy: ', accuracy_score(ytest,ypreds_best_lr))\n",
    "print('Precision: ', precision_score(ytest,ypreds_best_lr))\n",
    "print('Recall: ', recall_score(ytest,ypreds_best_lr))\n",
    "print('F1-score: ', f1_score(ytest,ypreds_best_lr))"
   ]
  },
  {
   "cell_type": "markdown",
   "metadata": {},
   "source": [
    "## Classification Report"
   ]
  },
  {
   "cell_type": "code",
   "execution_count": 62,
   "metadata": {
    "ExecuteTime": {
     "end_time": "2019-10-20T17:18:36.685342Z",
     "start_time": "2019-10-20T17:18:36.643667Z"
    }
   },
   "outputs": [],
   "source": [
    "from sklearn.metrics import classification_report\n",
    "from bhishan.util_model_eval import get_binary_classification_report"
   ]
  },
  {
   "cell_type": "code",
   "execution_count": 63,
   "metadata": {
    "ExecuteTime": {
     "end_time": "2019-10-20T17:18:36.785009Z",
     "start_time": "2019-10-20T17:18:36.687144Z"
    }
   },
   "outputs": [
    {
     "data": {
      "text/html": [
       "<style  type=\"text/css\" >\n",
       "    #T_a6d20ab8_f35d_11e9_bea8_acde48001122row0_col5 {\n",
       "            background:  lightblue;\n",
       "        }    #T_a6d20ab8_f35d_11e9_bea8_acde48001122row1_col5 {\n",
       "            background:  lightblue;\n",
       "        }    #T_a6d20ab8_f35d_11e9_bea8_acde48001122row2_col5 {\n",
       "            background:  lightblue;\n",
       "        }    #T_a6d20ab8_f35d_11e9_bea8_acde48001122row3_col5 {\n",
       "            background:  lightblue;\n",
       "        }    #T_a6d20ab8_f35d_11e9_bea8_acde48001122row4_col5 {\n",
       "            background:  lightblue;\n",
       "        }</style><table id=\"T_a6d20ab8_f35d_11e9_bea8_acde48001122\" ><thead>    <tr>        <th class=\"blank level0\" ></th>        <th class=\"col_heading level0 col0\" >Model</th>        <th class=\"col_heading level0 col1\" >Desc</th>        <th class=\"col_heading level0 col2\" >Precision_0</th>        <th class=\"col_heading level0 col3\" >Precision_1</th>        <th class=\"col_heading level0 col4\" >Recall_0</th>        <th class=\"col_heading level0 col5\" >Recall_1</th>        <th class=\"col_heading level0 col6\" >F1_Score_0</th>        <th class=\"col_heading level0 col7\" >F1_Score_1</th>        <th class=\"col_heading level0 col8\" >Support_0</th>        <th class=\"col_heading level0 col9\" >Support_1</th>    </tr></thead><tbody>\n",
       "                <tr>\n",
       "                        <th id=\"T_a6d20ab8_f35d_11e9_bea8_acde48001122level0_row0\" class=\"row_heading level0 row0\" >0</th>\n",
       "                        <td id=\"T_a6d20ab8_f35d_11e9_bea8_acde48001122row0_col0\" class=\"data row0 col0\" >Logistic Regression</td>\n",
       "                        <td id=\"T_a6d20ab8_f35d_11e9_bea8_acde48001122row0_col1\" class=\"data row0 col1\" >Undersample, Grid Search</td>\n",
       "                        <td id=\"T_a6d20ab8_f35d_11e9_bea8_acde48001122row0_col2\" class=\"data row0 col2\" >0.923077</td>\n",
       "                        <td id=\"T_a6d20ab8_f35d_11e9_bea8_acde48001122row0_col3\" class=\"data row0 col3\" >0.651515</td>\n",
       "                        <td id=\"T_a6d20ab8_f35d_11e9_bea8_acde48001122row0_col4\" class=\"data row0 col4\" >0.566038</td>\n",
       "                        <td id=\"T_a6d20ab8_f35d_11e9_bea8_acde48001122row0_col5\" class=\"data row0 col5\" >0.945055</td>\n",
       "                        <td id=\"T_a6d20ab8_f35d_11e9_bea8_acde48001122row0_col6\" class=\"data row0 col6\" >0.701754</td>\n",
       "                        <td id=\"T_a6d20ab8_f35d_11e9_bea8_acde48001122row0_col7\" class=\"data row0 col7\" >0.7713</td>\n",
       "                        <td id=\"T_a6d20ab8_f35d_11e9_bea8_acde48001122row0_col8\" class=\"data row0 col8\" >106</td>\n",
       "                        <td id=\"T_a6d20ab8_f35d_11e9_bea8_acde48001122row0_col9\" class=\"data row0 col9\" >91</td>\n",
       "            </tr>\n",
       "            <tr>\n",
       "                        <th id=\"T_a6d20ab8_f35d_11e9_bea8_acde48001122level0_row1\" class=\"row_heading level0 row1\" >1</th>\n",
       "                        <td id=\"T_a6d20ab8_f35d_11e9_bea8_acde48001122row1_col0\" class=\"data row1 col0\" >Support Vector Classifier</td>\n",
       "                        <td id=\"T_a6d20ab8_f35d_11e9_bea8_acde48001122row1_col1\" class=\"data row1 col1\" >Undersample, Grid Search</td>\n",
       "                        <td id=\"T_a6d20ab8_f35d_11e9_bea8_acde48001122row1_col2\" class=\"data row1 col2\" >0.901786</td>\n",
       "                        <td id=\"T_a6d20ab8_f35d_11e9_bea8_acde48001122row1_col3\" class=\"data row1 col3\" >0.941176</td>\n",
       "                        <td id=\"T_a6d20ab8_f35d_11e9_bea8_acde48001122row1_col4\" class=\"data row1 col4\" >0.95283</td>\n",
       "                        <td id=\"T_a6d20ab8_f35d_11e9_bea8_acde48001122row1_col5\" class=\"data row1 col5\" >0.879121</td>\n",
       "                        <td id=\"T_a6d20ab8_f35d_11e9_bea8_acde48001122row1_col6\" class=\"data row1 col6\" >0.926606</td>\n",
       "                        <td id=\"T_a6d20ab8_f35d_11e9_bea8_acde48001122row1_col7\" class=\"data row1 col7\" >0.909091</td>\n",
       "                        <td id=\"T_a6d20ab8_f35d_11e9_bea8_acde48001122row1_col8\" class=\"data row1 col8\" >106</td>\n",
       "                        <td id=\"T_a6d20ab8_f35d_11e9_bea8_acde48001122row1_col9\" class=\"data row1 col9\" >91</td>\n",
       "            </tr>\n",
       "            <tr>\n",
       "                        <th id=\"T_a6d20ab8_f35d_11e9_bea8_acde48001122level0_row2\" class=\"row_heading level0 row2\" >4</th>\n",
       "                        <td id=\"T_a6d20ab8_f35d_11e9_bea8_acde48001122row2_col0\" class=\"data row2 col0\" >Random Forest Classifier</td>\n",
       "                        <td id=\"T_a6d20ab8_f35d_11e9_bea8_acde48001122row2_col1\" class=\"data row2 col1\" >Undersample, Grid Search</td>\n",
       "                        <td id=\"T_a6d20ab8_f35d_11e9_bea8_acde48001122row2_col2\" class=\"data row2 col2\" >0.886957</td>\n",
       "                        <td id=\"T_a6d20ab8_f35d_11e9_bea8_acde48001122row2_col3\" class=\"data row2 col3\" >0.95122</td>\n",
       "                        <td id=\"T_a6d20ab8_f35d_11e9_bea8_acde48001122row2_col4\" class=\"data row2 col4\" >0.962264</td>\n",
       "                        <td id=\"T_a6d20ab8_f35d_11e9_bea8_acde48001122row2_col5\" class=\"data row2 col5\" >0.857143</td>\n",
       "                        <td id=\"T_a6d20ab8_f35d_11e9_bea8_acde48001122row2_col6\" class=\"data row2 col6\" >0.923077</td>\n",
       "                        <td id=\"T_a6d20ab8_f35d_11e9_bea8_acde48001122row2_col7\" class=\"data row2 col7\" >0.901734</td>\n",
       "                        <td id=\"T_a6d20ab8_f35d_11e9_bea8_acde48001122row2_col8\" class=\"data row2 col8\" >106</td>\n",
       "                        <td id=\"T_a6d20ab8_f35d_11e9_bea8_acde48001122row2_col9\" class=\"data row2 col9\" >91</td>\n",
       "            </tr>\n",
       "            <tr>\n",
       "                        <th id=\"T_a6d20ab8_f35d_11e9_bea8_acde48001122level0_row3\" class=\"row_heading level0 row3\" >2</th>\n",
       "                        <td id=\"T_a6d20ab8_f35d_11e9_bea8_acde48001122row3_col0\" class=\"data row3 col0\" >KNN</td>\n",
       "                        <td id=\"T_a6d20ab8_f35d_11e9_bea8_acde48001122row3_col1\" class=\"data row3 col1\" >Undersample, Grid Search</td>\n",
       "                        <td id=\"T_a6d20ab8_f35d_11e9_bea8_acde48001122row3_col2\" class=\"data row3 col2\" >0.868421</td>\n",
       "                        <td id=\"T_a6d20ab8_f35d_11e9_bea8_acde48001122row3_col3\" class=\"data row3 col3\" >0.915663</td>\n",
       "                        <td id=\"T_a6d20ab8_f35d_11e9_bea8_acde48001122row3_col4\" class=\"data row3 col4\" >0.933962</td>\n",
       "                        <td id=\"T_a6d20ab8_f35d_11e9_bea8_acde48001122row3_col5\" class=\"data row3 col5\" >0.835165</td>\n",
       "                        <td id=\"T_a6d20ab8_f35d_11e9_bea8_acde48001122row3_col6\" class=\"data row3 col6\" >0.9</td>\n",
       "                        <td id=\"T_a6d20ab8_f35d_11e9_bea8_acde48001122row3_col7\" class=\"data row3 col7\" >0.873563</td>\n",
       "                        <td id=\"T_a6d20ab8_f35d_11e9_bea8_acde48001122row3_col8\" class=\"data row3 col8\" >106</td>\n",
       "                        <td id=\"T_a6d20ab8_f35d_11e9_bea8_acde48001122row3_col9\" class=\"data row3 col9\" >91</td>\n",
       "            </tr>\n",
       "            <tr>\n",
       "                        <th id=\"T_a6d20ab8_f35d_11e9_bea8_acde48001122level0_row4\" class=\"row_heading level0 row4\" >3</th>\n",
       "                        <td id=\"T_a6d20ab8_f35d_11e9_bea8_acde48001122row4_col0\" class=\"data row4 col0\" >Decision Tree Classifier</td>\n",
       "                        <td id=\"T_a6d20ab8_f35d_11e9_bea8_acde48001122row4_col1\" class=\"data row4 col1\" >Undersample, Grid Search</td>\n",
       "                        <td id=\"T_a6d20ab8_f35d_11e9_bea8_acde48001122row4_col2\" class=\"data row4 col2\" >0.864407</td>\n",
       "                        <td id=\"T_a6d20ab8_f35d_11e9_bea8_acde48001122row4_col3\" class=\"data row4 col3\" >0.949367</td>\n",
       "                        <td id=\"T_a6d20ab8_f35d_11e9_bea8_acde48001122row4_col4\" class=\"data row4 col4\" >0.962264</td>\n",
       "                        <td id=\"T_a6d20ab8_f35d_11e9_bea8_acde48001122row4_col5\" class=\"data row4 col5\" >0.824176</td>\n",
       "                        <td id=\"T_a6d20ab8_f35d_11e9_bea8_acde48001122row4_col6\" class=\"data row4 col6\" >0.910714</td>\n",
       "                        <td id=\"T_a6d20ab8_f35d_11e9_bea8_acde48001122row4_col7\" class=\"data row4 col7\" >0.882353</td>\n",
       "                        <td id=\"T_a6d20ab8_f35d_11e9_bea8_acde48001122row4_col8\" class=\"data row4 col8\" >106</td>\n",
       "                        <td id=\"T_a6d20ab8_f35d_11e9_bea8_acde48001122row4_col9\" class=\"data row4 col9\" >91</td>\n",
       "            </tr>\n",
       "    </tbody></table>"
      ],
      "text/plain": [
       "<pandas.io.formats.style.Styler at 0x1219d7f98>"
      ]
     },
     "metadata": {},
     "output_type": "display_data"
    }
   ],
   "source": [
    "df_clf_report = get_binary_classification_report(\"Logistic Regression\",\n",
    "  ytest,\n",
    "  ypreds_best_lr,\n",
    "  desc='Undersample, Grid Search',\n",
    "  style_col='Recall_1',\n",
    "  df_clf_report=None,show=False)\n",
    "\n",
    "df_clf_report = get_binary_classification_report(\"Support Vector Classifier\",\n",
    "  ytest,\n",
    "  ypreds_best_svc,\n",
    "  desc='Undersample, Grid Search',\n",
    "  style_col='Recall_1',\n",
    "  df_clf_report=df_clf_report,show=False)\n",
    "\n",
    "df_clf_report = get_binary_classification_report(\"KNN\",\n",
    "  ytest,\n",
    "  ypreds_best_knn,\n",
    "  desc='Undersample, Grid Search',\n",
    "  style_col='Recall_1',\n",
    "  df_clf_report=df_clf_report,show=False)\n",
    "\n",
    "df_clf_report = get_binary_classification_report(\"Decision Tree Classifier\",\n",
    "  ytest,\n",
    "  ypreds_best_dtc,\n",
    "  desc='Undersample, Grid Search',\n",
    "  style_col='Recall_1',\n",
    "  df_clf_report=df_clf_report,show=False)\n",
    "\n",
    "df_clf_report = get_binary_classification_report(\"Random Forest Classifier\",\n",
    "  ytest,\n",
    "  ypreds_best_rfc,\n",
    "  desc='Undersample, Grid Search',\n",
    "  style_col='Recall_1',\n",
    "  df_clf_report=df_clf_report,show=True)"
   ]
  },
  {
   "cell_type": "code",
   "execution_count": 64,
   "metadata": {
    "ExecuteTime": {
     "end_time": "2019-10-20T17:18:36.827180Z",
     "start_time": "2019-10-20T17:18:36.789841Z"
    }
   },
   "outputs": [
    {
     "name": "stdout",
     "output_type": "stream",
     "text": [
      "              precision    recall  f1-score   support\n",
      "\n",
      "         0.0       0.92      0.57      0.70       106\n",
      "         1.0       0.65      0.95      0.77        91\n",
      "\n",
      "    accuracy                           0.74       197\n",
      "   macro avg       0.79      0.76      0.74       197\n",
      "weighted avg       0.80      0.74      0.73       197\n",
      "\n"
     ]
    }
   ],
   "source": [
    "print(classification_report(ytest, ypreds_best_lr))"
   ]
  },
  {
   "cell_type": "markdown",
   "metadata": {},
   "source": [
    "## Confusion Matrix"
   ]
  },
  {
   "cell_type": "code",
   "execution_count": 65,
   "metadata": {
    "ExecuteTime": {
     "end_time": "2019-10-20T17:18:36.869190Z",
     "start_time": "2019-10-20T17:18:36.829553Z"
    }
   },
   "outputs": [],
   "source": [
    "from sklearn.metrics import confusion_matrix\n",
    "from bhishan.util_model_eval import print_confusion_matrix_frauds\n",
    "from bhishan.util_model_eval import plot_confusion_matrix_plotly"
   ]
  },
  {
   "cell_type": "code",
   "execution_count": 111,
   "metadata": {
    "ExecuteTime": {
     "end_time": "2019-10-20T18:21:03.594356Z",
     "start_time": "2019-10-20T18:21:03.501140Z"
    }
   },
   "outputs": [
    {
     "data": {
      "text/html": [
       "<style  type=\"text/css\" >\n",
       "    #T_6016bafc_f366_11e9_bea8_acde48001122row0_col0 {\n",
       "            background-color:  lightgreen;\n",
       "            : ;\n",
       "        }    #T_6016bafc_f366_11e9_bea8_acde48001122row0_col1 {\n",
       "            background-color:  salmon;\n",
       "            : ;\n",
       "        }    #T_6016bafc_f366_11e9_bea8_acde48001122row0_col5 {\n",
       "            : ;\n",
       "            background:  lightblue;\n",
       "        }    #T_6016bafc_f366_11e9_bea8_acde48001122row1_col0 {\n",
       "            background-color:  salmon;\n",
       "            : ;\n",
       "        }    #T_6016bafc_f366_11e9_bea8_acde48001122row1_col1 {\n",
       "            background-color:  lightgreen;\n",
       "            : ;\n",
       "        }    #T_6016bafc_f366_11e9_bea8_acde48001122row1_col5 {\n",
       "            : ;\n",
       "            background:  lightblue;\n",
       "        }</style><table id=\"T_6016bafc_f366_11e9_bea8_acde48001122\" ><caption>Logistic Regression, Undersample, Grid Search</caption><thead>    <tr>        <th class=\"blank level0\" ></th>        <th class=\"col_heading level0 col0\" >Predicted_No_Fraud</th>        <th class=\"col_heading level0 col1\" >Predicted_Fraud</th>        <th class=\"col_heading level0 col2\" >Total_Frauds</th>        <th class=\"col_heading level0 col3\" >Correct_Frauds</th>        <th class=\"col_heading level0 col4\" >Incorrect_Frauds</th>        <th class=\"col_heading level0 col5\" >Fraud_Detection</th>    </tr></thead><tbody>\n",
       "                <tr>\n",
       "                        <th id=\"T_6016bafc_f366_11e9_bea8_acde48001122level0_row0\" class=\"row_heading level0 row0\" >No_Fraud</th>\n",
       "                        <td id=\"T_6016bafc_f366_11e9_bea8_acde48001122row0_col0\" class=\"data row0 col0\" >60</td>\n",
       "                        <td id=\"T_6016bafc_f366_11e9_bea8_acde48001122row0_col1\" class=\"data row0 col1\" >46</td>\n",
       "                        <td id=\"T_6016bafc_f366_11e9_bea8_acde48001122row0_col2\" class=\"data row0 col2\" >91</td>\n",
       "                        <td id=\"T_6016bafc_f366_11e9_bea8_acde48001122row0_col3\" class=\"data row0 col3\" >86</td>\n",
       "                        <td id=\"T_6016bafc_f366_11e9_bea8_acde48001122row0_col4\" class=\"data row0 col4\" >5</td>\n",
       "                        <td id=\"T_6016bafc_f366_11e9_bea8_acde48001122row0_col5\" class=\"data row0 col5\" >94.51%</td>\n",
       "            </tr>\n",
       "            <tr>\n",
       "                        <th id=\"T_6016bafc_f366_11e9_bea8_acde48001122level0_row1\" class=\"row_heading level0 row1\" >Fraud</th>\n",
       "                        <td id=\"T_6016bafc_f366_11e9_bea8_acde48001122row1_col0\" class=\"data row1 col0\" >5</td>\n",
       "                        <td id=\"T_6016bafc_f366_11e9_bea8_acde48001122row1_col1\" class=\"data row1 col1\" >86</td>\n",
       "                        <td id=\"T_6016bafc_f366_11e9_bea8_acde48001122row1_col2\" class=\"data row1 col2\" >91</td>\n",
       "                        <td id=\"T_6016bafc_f366_11e9_bea8_acde48001122row1_col3\" class=\"data row1 col3\" >86</td>\n",
       "                        <td id=\"T_6016bafc_f366_11e9_bea8_acde48001122row1_col4\" class=\"data row1 col4\" >5</td>\n",
       "                        <td id=\"T_6016bafc_f366_11e9_bea8_acde48001122row1_col5\" class=\"data row1 col5\" >94.51%</td>\n",
       "            </tr>\n",
       "    </tbody></table>"
      ],
      "text/plain": [
       "<pandas.io.formats.style.Styler at 0x13b9c77b8>"
      ]
     },
     "execution_count": 111,
     "metadata": {},
     "output_type": "execute_result"
    }
   ],
   "source": [
    "print_confusion_matrix_frauds(\n",
    "    \"Logistic Regression, Undersample, Grid Search\",\n",
    "    ytest,ypreds_best_lr)"
   ]
  },
  {
   "cell_type": "code",
   "execution_count": 134,
   "metadata": {
    "ExecuteTime": {
     "end_time": "2019-10-20T19:06:38.631610Z",
     "start_time": "2019-10-20T19:06:38.550772Z"
    }
   },
   "outputs": [
    {
     "data": {
      "text/html": [
       "<style  type=\"text/css\" >\n",
       "    #T_be4cf306_f36c_11e9_bea8_acde48001122row0_col0 {\n",
       "            background-color:  lightgreen;\n",
       "            : ;\n",
       "        }    #T_be4cf306_f36c_11e9_bea8_acde48001122row0_col1 {\n",
       "            background-color:  salmon;\n",
       "            : ;\n",
       "        }    #T_be4cf306_f36c_11e9_bea8_acde48001122row0_col5 {\n",
       "            : ;\n",
       "            background:  lightblue;\n",
       "        }    #T_be4cf306_f36c_11e9_bea8_acde48001122row1_col0 {\n",
       "            background-color:  salmon;\n",
       "            : ;\n",
       "        }    #T_be4cf306_f36c_11e9_bea8_acde48001122row1_col1 {\n",
       "            background-color:  lightgreen;\n",
       "            : ;\n",
       "        }    #T_be4cf306_f36c_11e9_bea8_acde48001122row1_col5 {\n",
       "            : ;\n",
       "            background:  lightblue;\n",
       "        }</style><table id=\"T_be4cf306_f36c_11e9_bea8_acde48001122\" ><caption>Random Forest Classifier, Undersample, Grid Search</caption><thead>    <tr>        <th class=\"blank level0\" ></th>        <th class=\"col_heading level0 col0\" >Predicted_No_Fraud</th>        <th class=\"col_heading level0 col1\" >Predicted_Fraud</th>        <th class=\"col_heading level0 col2\" >Total_Frauds</th>        <th class=\"col_heading level0 col3\" >Correct_Frauds</th>        <th class=\"col_heading level0 col4\" >Incorrect_Frauds</th>        <th class=\"col_heading level0 col5\" >Fraud_Detection</th>    </tr></thead><tbody>\n",
       "                <tr>\n",
       "                        <th id=\"T_be4cf306_f36c_11e9_bea8_acde48001122level0_row0\" class=\"row_heading level0 row0\" >No_Fraud</th>\n",
       "                        <td id=\"T_be4cf306_f36c_11e9_bea8_acde48001122row0_col0\" class=\"data row0 col0\" >102</td>\n",
       "                        <td id=\"T_be4cf306_f36c_11e9_bea8_acde48001122row0_col1\" class=\"data row0 col1\" >4</td>\n",
       "                        <td id=\"T_be4cf306_f36c_11e9_bea8_acde48001122row0_col2\" class=\"data row0 col2\" >91</td>\n",
       "                        <td id=\"T_be4cf306_f36c_11e9_bea8_acde48001122row0_col3\" class=\"data row0 col3\" >78</td>\n",
       "                        <td id=\"T_be4cf306_f36c_11e9_bea8_acde48001122row0_col4\" class=\"data row0 col4\" >13</td>\n",
       "                        <td id=\"T_be4cf306_f36c_11e9_bea8_acde48001122row0_col5\" class=\"data row0 col5\" >85.71%</td>\n",
       "            </tr>\n",
       "            <tr>\n",
       "                        <th id=\"T_be4cf306_f36c_11e9_bea8_acde48001122level0_row1\" class=\"row_heading level0 row1\" >Fraud</th>\n",
       "                        <td id=\"T_be4cf306_f36c_11e9_bea8_acde48001122row1_col0\" class=\"data row1 col0\" >13</td>\n",
       "                        <td id=\"T_be4cf306_f36c_11e9_bea8_acde48001122row1_col1\" class=\"data row1 col1\" >78</td>\n",
       "                        <td id=\"T_be4cf306_f36c_11e9_bea8_acde48001122row1_col2\" class=\"data row1 col2\" >91</td>\n",
       "                        <td id=\"T_be4cf306_f36c_11e9_bea8_acde48001122row1_col3\" class=\"data row1 col3\" >78</td>\n",
       "                        <td id=\"T_be4cf306_f36c_11e9_bea8_acde48001122row1_col4\" class=\"data row1 col4\" >13</td>\n",
       "                        <td id=\"T_be4cf306_f36c_11e9_bea8_acde48001122row1_col5\" class=\"data row1 col5\" >85.71%</td>\n",
       "            </tr>\n",
       "    </tbody></table>"
      ],
      "text/plain": [
       "<pandas.io.formats.style.Styler at 0x13ba50ac8>"
      ]
     },
     "execution_count": 134,
     "metadata": {},
     "output_type": "execute_result"
    }
   ],
   "source": [
    "print_confusion_matrix_frauds(\n",
    "    \"Random Forest Classifier, Undersample, Grid Search\",\n",
    "    ytest,ypreds_best_rfc)"
   ]
  },
  {
   "cell_type": "code",
   "execution_count": 68,
   "metadata": {
    "ExecuteTime": {
     "end_time": "2019-10-20T17:18:39.941488Z",
     "start_time": "2019-10-20T17:18:36.994422Z"
    }
   },
   "outputs": [
    {
     "data": {
      "text/html": [
       "        <script type=\"text/javascript\">\n",
       "        window.PlotlyConfig = {MathJaxConfig: 'local'};\n",
       "        if (window.MathJax) {MathJax.Hub.Config({SVG: {font: \"STIX-Web\"}});}\n",
       "        if (typeof require !== 'undefined') {\n",
       "        require.undef(\"plotly\");\n",
       "        requirejs.config({\n",
       "            paths: {\n",
       "                'plotly': ['https://cdn.plot.ly/plotly-latest.min']\n",
       "            }\n",
       "        });\n",
       "        require(['plotly'], function(Plotly) {\n",
       "            window._Plotly = Plotly;\n",
       "        });\n",
       "        }\n",
       "        </script>\n",
       "        "
      ]
     },
     "metadata": {},
     "output_type": "display_data"
    },
    {
     "data": {
      "application/vnd.plotly.v1+json": {
       "config": {
        "linkText": "Export to plot.ly",
        "plotlyServerURL": "https://plot.ly",
        "showLink": false
       },
       "data": [
        {
         "colorscale": "RdBu",
         "reversescale": false,
         "showscale": false,
         "type": "heatmap",
         "uid": "c8c3d5f9-410c-4974-8dc0-9dbf12df301a",
         "x": [
          "Predicted_No_Fraud",
          "Predicted_Fraud"
         ],
         "y": [
          "Fraud",
          "No_Fraud"
         ],
         "z": [
          [
           5,
           86
          ],
          [
           60,
           46
          ]
         ]
        }
       ],
       "layout": {
        "annotations": [
         {
          "font": {
           "color": "#FFFFFF"
          },
          "showarrow": false,
          "text": "5",
          "x": "Predicted_No_Fraud",
          "xref": "x",
          "y": "Fraud",
          "yref": "y"
         },
         {
          "font": {
           "color": "#000000"
          },
          "showarrow": false,
          "text": "86",
          "x": "Predicted_Fraud",
          "xref": "x",
          "y": "Fraud",
          "yref": "y"
         },
         {
          "font": {
           "color": "#000000"
          },
          "showarrow": false,
          "text": "60",
          "x": "Predicted_No_Fraud",
          "xref": "x",
          "y": "No_Fraud",
          "yref": "y"
         },
         {
          "font": {
           "color": "#000000"
          },
          "showarrow": false,
          "text": "46",
          "x": "Predicted_Fraud",
          "xref": "x",
          "y": "No_Fraud",
          "yref": "y"
         }
        ],
        "xaxis": {
         "dtick": 1,
         "gridcolor": "rgb(0, 0, 0)",
         "side": "top",
         "ticks": ""
        },
        "yaxis": {
         "dtick": 1,
         "ticks": "",
         "ticksuffix": "  "
        }
       }
      },
      "text/html": [
       "<div>\n",
       "        \n",
       "        \n",
       "            <div id=\"d5295b99-2045-469c-a2ee-246c857c9672\" class=\"plotly-graph-div\" style=\"height:525px; width:100%;\"></div>\n",
       "            <script type=\"text/javascript\">\n",
       "                require([\"plotly\"], function(Plotly) {\n",
       "                    window.PLOTLYENV=window.PLOTLYENV || {};\n",
       "                    window.PLOTLYENV.BASE_URL='https://plot.ly';\n",
       "                    \n",
       "                if (document.getElementById(\"d5295b99-2045-469c-a2ee-246c857c9672\")) {\n",
       "                    Plotly.newPlot(\n",
       "                        'd5295b99-2045-469c-a2ee-246c857c9672',\n",
       "                        [{\"colorscale\": \"RdBu\", \"reversescale\": false, \"showscale\": false, \"type\": \"heatmap\", \"uid\": \"c8c3d5f9-410c-4974-8dc0-9dbf12df301a\", \"x\": [\"Predicted_No_Fraud\", \"Predicted_Fraud\"], \"y\": [\"Fraud\", \"No_Fraud\"], \"z\": [[5, 86], [60, 46]]}],\n",
       "                        {\"annotations\": [{\"font\": {\"color\": \"#FFFFFF\"}, \"showarrow\": false, \"text\": \"5\", \"x\": \"Predicted_No_Fraud\", \"xref\": \"x\", \"y\": \"Fraud\", \"yref\": \"y\"}, {\"font\": {\"color\": \"#000000\"}, \"showarrow\": false, \"text\": \"86\", \"x\": \"Predicted_Fraud\", \"xref\": \"x\", \"y\": \"Fraud\", \"yref\": \"y\"}, {\"font\": {\"color\": \"#000000\"}, \"showarrow\": false, \"text\": \"60\", \"x\": \"Predicted_No_Fraud\", \"xref\": \"x\", \"y\": \"No_Fraud\", \"yref\": \"y\"}, {\"font\": {\"color\": \"#000000\"}, \"showarrow\": false, \"text\": \"46\", \"x\": \"Predicted_Fraud\", \"xref\": \"x\", \"y\": \"No_Fraud\", \"yref\": \"y\"}], \"xaxis\": {\"dtick\": 1, \"gridcolor\": \"rgb(0, 0, 0)\", \"side\": \"top\", \"ticks\": \"\"}, \"yaxis\": {\"dtick\": 1, \"ticks\": \"\", \"ticksuffix\": \"  \"}},\n",
       "                        {\"showLink\": false, \"linkText\": \"Export to plot.ly\", \"plotlyServerURL\": \"https://plot.ly\", \"responsive\": true}\n",
       "                    ).then(function(){\n",
       "                            \n",
       "var gd = document.getElementById('d5295b99-2045-469c-a2ee-246c857c9672');\n",
       "var x = new MutationObserver(function (mutations, observer) {{\n",
       "        var display = window.getComputedStyle(gd).display;\n",
       "        if (!display || display === 'none') {{\n",
       "            console.log([gd, 'removed!']);\n",
       "            Plotly.purge(gd);\n",
       "            observer.disconnect();\n",
       "        }}\n",
       "}});\n",
       "\n",
       "// Listen for the removal of the full notebook cells\n",
       "var notebookContainer = gd.closest('#notebook-container');\n",
       "if (notebookContainer) {{\n",
       "    x.observe(notebookContainer, {childList: true});\n",
       "}}\n",
       "\n",
       "// Listen for the clearing of the current output cell\n",
       "var outputEl = gd.closest('.output');\n",
       "if (outputEl) {{\n",
       "    x.observe(outputEl, {childList: true});\n",
       "}}\n",
       "\n",
       "                        })\n",
       "                };\n",
       "                });\n",
       "            </script>\n",
       "        </div>"
      ]
     },
     "metadata": {},
     "output_type": "display_data"
    }
   ],
   "source": [
    "plot_confusion_matrix_plotly(ytest, ypreds_best_lr)"
   ]
  },
  {
   "cell_type": "code",
   "execution_count": 69,
   "metadata": {
    "ExecuteTime": {
     "end_time": "2019-10-20T17:18:40.002921Z",
     "start_time": "2019-10-20T17:18:39.943091Z"
    }
   },
   "outputs": [
    {
     "data": {
      "text/plain": [
       "array([[60, 46],\n",
       "       [ 5, 86]])"
      ]
     },
     "execution_count": 69,
     "metadata": {},
     "output_type": "execute_result"
    }
   ],
   "source": [
    "confusion_matrix(ytest, ypreds_best_lr)"
   ]
  },
  {
   "cell_type": "markdown",
   "metadata": {},
   "source": [
    "## False Negative Counts"
   ]
  },
  {
   "cell_type": "code",
   "execution_count": 71,
   "metadata": {
    "ExecuteTime": {
     "end_time": "2019-10-20T17:20:01.253248Z",
     "start_time": "2019-10-20T17:20:01.201336Z"
    }
   },
   "outputs": [],
   "source": [
    "# help(confusion_matrix)"
   ]
  },
  {
   "cell_type": "code",
   "execution_count": 72,
   "metadata": {
    "ExecuteTime": {
     "end_time": "2019-10-20T17:20:27.458428Z",
     "start_time": "2019-10-20T17:20:27.405260Z"
    }
   },
   "outputs": [
    {
     "data": {
      "text/plain": [
       "(60, 46, 5, 86)"
      ]
     },
     "execution_count": 72,
     "metadata": {},
     "output_type": "execute_result"
    }
   ],
   "source": [
    "tn, fp, fn, tp = confusion_matrix(ytest, ypreds_best_lr).ravel()\n",
    "tn, fp, fn, tp"
   ]
  },
  {
   "cell_type": "code",
   "execution_count": 75,
   "metadata": {
    "ExecuteTime": {
     "end_time": "2019-10-20T17:22:48.386411Z",
     "start_time": "2019-10-20T17:22:48.326395Z"
    }
   },
   "outputs": [
    {
     "data": {
      "text/html": [
       "<div>\n",
       "<style scoped>\n",
       "    .dataframe tbody tr th:only-of-type {\n",
       "        vertical-align: middle;\n",
       "    }\n",
       "\n",
       "    .dataframe tbody tr th {\n",
       "        vertical-align: top;\n",
       "    }\n",
       "\n",
       "    .dataframe thead th {\n",
       "        text-align: right;\n",
       "    }\n",
       "</style>\n",
       "<table border=\"1\" class=\"dataframe\">\n",
       "  <thead>\n",
       "    <tr style=\"text-align: right;\">\n",
       "      <th></th>\n",
       "      <th>ytest</th>\n",
       "      <th>ypreds</th>\n",
       "    </tr>\n",
       "  </thead>\n",
       "  <tbody>\n",
       "    <tr>\n",
       "      <th>0</th>\n",
       "      <td>1.0</td>\n",
       "      <td>0.0</td>\n",
       "    </tr>\n",
       "    <tr>\n",
       "      <th>1</th>\n",
       "      <td>1.0</td>\n",
       "      <td>1.0</td>\n",
       "    </tr>\n",
       "    <tr>\n",
       "      <th>2</th>\n",
       "      <td>0.0</td>\n",
       "      <td>0.0</td>\n",
       "    </tr>\n",
       "    <tr>\n",
       "      <th>3</th>\n",
       "      <td>1.0</td>\n",
       "      <td>1.0</td>\n",
       "    </tr>\n",
       "    <tr>\n",
       "      <th>4</th>\n",
       "      <td>1.0</td>\n",
       "      <td>1.0</td>\n",
       "    </tr>\n",
       "  </tbody>\n",
       "</table>\n",
       "</div>"
      ],
      "text/plain": [
       "   ytest  ypreds\n",
       "0    1.0     0.0\n",
       "1    1.0     1.0\n",
       "2    0.0     0.0\n",
       "3    1.0     1.0\n",
       "4    1.0     1.0"
      ]
     },
     "execution_count": 75,
     "metadata": {},
     "output_type": "execute_result"
    }
   ],
   "source": [
    "df_ytest_ypreds = pd.DataFrame({'ytest': ytest,\n",
    "                               'ypreds': ypreds_best_lr})\n",
    "\n",
    "df_ytest_ypreds.head()"
   ]
  },
  {
   "cell_type": "code",
   "execution_count": 79,
   "metadata": {
    "ExecuteTime": {
     "end_time": "2019-10-20T17:24:06.199096Z",
     "start_time": "2019-10-20T17:24:06.143936Z"
    }
   },
   "outputs": [
    {
     "data": {
      "text/html": [
       "<div>\n",
       "<style scoped>\n",
       "    .dataframe tbody tr th:only-of-type {\n",
       "        vertical-align: middle;\n",
       "    }\n",
       "\n",
       "    .dataframe tbody tr th {\n",
       "        vertical-align: top;\n",
       "    }\n",
       "\n",
       "    .dataframe thead th {\n",
       "        text-align: right;\n",
       "    }\n",
       "</style>\n",
       "<table border=\"1\" class=\"dataframe\">\n",
       "  <thead>\n",
       "    <tr style=\"text-align: right;\">\n",
       "      <th></th>\n",
       "      <th>ytest</th>\n",
       "      <th>ypreds</th>\n",
       "    </tr>\n",
       "  </thead>\n",
       "  <tbody>\n",
       "    <tr>\n",
       "      <th>0</th>\n",
       "      <td>1.0</td>\n",
       "      <td>0.0</td>\n",
       "    </tr>\n",
       "    <tr>\n",
       "      <th>28</th>\n",
       "      <td>1.0</td>\n",
       "      <td>0.0</td>\n",
       "    </tr>\n",
       "    <tr>\n",
       "      <th>76</th>\n",
       "      <td>1.0</td>\n",
       "      <td>0.0</td>\n",
       "    </tr>\n",
       "    <tr>\n",
       "      <th>166</th>\n",
       "      <td>1.0</td>\n",
       "      <td>0.0</td>\n",
       "    </tr>\n",
       "    <tr>\n",
       "      <th>185</th>\n",
       "      <td>1.0</td>\n",
       "      <td>0.0</td>\n",
       "    </tr>\n",
       "  </tbody>\n",
       "</table>\n",
       "</div>"
      ],
      "text/plain": [
       "     ytest  ypreds\n",
       "0      1.0     0.0\n",
       "28     1.0     0.0\n",
       "76     1.0     0.0\n",
       "166    1.0     0.0\n",
       "185    1.0     0.0"
      ]
     },
     "execution_count": 79,
     "metadata": {},
     "output_type": "execute_result"
    }
   ],
   "source": [
    "df_ytest_ypreds.query(\"ytest == 1.0 and ypreds == 0.0\")"
   ]
  },
  {
   "cell_type": "code",
   "execution_count": 80,
   "metadata": {
    "ExecuteTime": {
     "end_time": "2019-10-20T17:24:20.961500Z",
     "start_time": "2019-10-20T17:24:20.909662Z"
    }
   },
   "outputs": [
    {
     "data": {
      "text/plain": [
       "(5, 2)"
      ]
     },
     "execution_count": 80,
     "metadata": {},
     "output_type": "execute_result"
    }
   ],
   "source": [
    "df_ytest_ypreds.query(\"ytest == 1.0 and ypreds == 0.0\").shape"
   ]
  },
  {
   "cell_type": "code",
   "execution_count": 93,
   "metadata": {
    "ExecuteTime": {
     "end_time": "2019-10-20T17:49:42.793650Z",
     "start_time": "2019-10-20T17:49:42.750002Z"
    }
   },
   "outputs": [],
   "source": [
    "from bhishan.util_model_eval import get_false_negative_frauds"
   ]
  },
  {
   "cell_type": "code",
   "execution_count": 109,
   "metadata": {
    "ExecuteTime": {
     "end_time": "2019-10-20T18:14:49.173009Z",
     "start_time": "2019-10-20T18:14:48.995876Z"
    }
   },
   "outputs": [
    {
     "data": {
      "text/html": [
       "<style  type=\"text/css\" >\n",
       "    #T_80eb74da_f365_11e9_bea8_acde48001122row0_col3 {\n",
       "            background:  lightblue;\n",
       "        }    #T_80eb74da_f365_11e9_bea8_acde48001122row1_col3 {\n",
       "            background:  lightblue;\n",
       "        }    #T_80eb74da_f365_11e9_bea8_acde48001122row2_col3 {\n",
       "            background:  lightblue;\n",
       "        }    #T_80eb74da_f365_11e9_bea8_acde48001122row3_col3 {\n",
       "            background:  lightblue;\n",
       "        }    #T_80eb74da_f365_11e9_bea8_acde48001122row4_col3 {\n",
       "            background:  lightblue;\n",
       "        }</style><table id=\"T_80eb74da_f365_11e9_bea8_acde48001122\" ><thead>    <tr>        <th class=\"blank level0\" ></th>        <th class=\"col_heading level0 col0\" >Model</th>        <th class=\"col_heading level0 col1\" >Description</th>        <th class=\"col_heading level0 col2\" >Total_Frauds</th>        <th class=\"col_heading level0 col3\" >Incorrect_Frauds</th>        <th class=\"col_heading level0 col4\" >Incorrect_Percent</th>    </tr></thead><tbody>\n",
       "                <tr>\n",
       "                        <th id=\"T_80eb74da_f365_11e9_bea8_acde48001122level0_row0\" class=\"row_heading level0 row0\" >0</th>\n",
       "                        <td id=\"T_80eb74da_f365_11e9_bea8_acde48001122row0_col0\" class=\"data row0 col0\" >Logistic Regression</td>\n",
       "                        <td id=\"T_80eb74da_f365_11e9_bea8_acde48001122row0_col1\" class=\"data row0 col1\" >Undersample, grid search</td>\n",
       "                        <td id=\"T_80eb74da_f365_11e9_bea8_acde48001122row0_col2\" class=\"data row0 col2\" >91</td>\n",
       "                        <td id=\"T_80eb74da_f365_11e9_bea8_acde48001122row0_col3\" class=\"data row0 col3\" >5</td>\n",
       "                        <td id=\"T_80eb74da_f365_11e9_bea8_acde48001122row0_col4\" class=\"data row0 col4\" >5.49 %</td>\n",
       "            </tr>\n",
       "            <tr>\n",
       "                        <th id=\"T_80eb74da_f365_11e9_bea8_acde48001122level0_row1\" class=\"row_heading level0 row1\" >1</th>\n",
       "                        <td id=\"T_80eb74da_f365_11e9_bea8_acde48001122row1_col0\" class=\"data row1 col0\" >Support Vector Classifier</td>\n",
       "                        <td id=\"T_80eb74da_f365_11e9_bea8_acde48001122row1_col1\" class=\"data row1 col1\" >Undersample, grid search</td>\n",
       "                        <td id=\"T_80eb74da_f365_11e9_bea8_acde48001122row1_col2\" class=\"data row1 col2\" >91</td>\n",
       "                        <td id=\"T_80eb74da_f365_11e9_bea8_acde48001122row1_col3\" class=\"data row1 col3\" >11</td>\n",
       "                        <td id=\"T_80eb74da_f365_11e9_bea8_acde48001122row1_col4\" class=\"data row1 col4\" >12.09 %</td>\n",
       "            </tr>\n",
       "            <tr>\n",
       "                        <th id=\"T_80eb74da_f365_11e9_bea8_acde48001122level0_row2\" class=\"row_heading level0 row2\" >2</th>\n",
       "                        <td id=\"T_80eb74da_f365_11e9_bea8_acde48001122row2_col0\" class=\"data row2 col0\" >Random Forest Classifier</td>\n",
       "                        <td id=\"T_80eb74da_f365_11e9_bea8_acde48001122row2_col1\" class=\"data row2 col1\" >Undersample, grid search</td>\n",
       "                        <td id=\"T_80eb74da_f365_11e9_bea8_acde48001122row2_col2\" class=\"data row2 col2\" >91</td>\n",
       "                        <td id=\"T_80eb74da_f365_11e9_bea8_acde48001122row2_col3\" class=\"data row2 col3\" >13</td>\n",
       "                        <td id=\"T_80eb74da_f365_11e9_bea8_acde48001122row2_col4\" class=\"data row2 col4\" >14.29 %</td>\n",
       "            </tr>\n",
       "            <tr>\n",
       "                        <th id=\"T_80eb74da_f365_11e9_bea8_acde48001122level0_row3\" class=\"row_heading level0 row3\" >3</th>\n",
       "                        <td id=\"T_80eb74da_f365_11e9_bea8_acde48001122row3_col0\" class=\"data row3 col0\" >KNN</td>\n",
       "                        <td id=\"T_80eb74da_f365_11e9_bea8_acde48001122row3_col1\" class=\"data row3 col1\" >Undersample, grid search</td>\n",
       "                        <td id=\"T_80eb74da_f365_11e9_bea8_acde48001122row3_col2\" class=\"data row3 col2\" >91</td>\n",
       "                        <td id=\"T_80eb74da_f365_11e9_bea8_acde48001122row3_col3\" class=\"data row3 col3\" >15</td>\n",
       "                        <td id=\"T_80eb74da_f365_11e9_bea8_acde48001122row3_col4\" class=\"data row3 col4\" >16.48 %</td>\n",
       "            </tr>\n",
       "            <tr>\n",
       "                        <th id=\"T_80eb74da_f365_11e9_bea8_acde48001122level0_row4\" class=\"row_heading level0 row4\" >4</th>\n",
       "                        <td id=\"T_80eb74da_f365_11e9_bea8_acde48001122row4_col0\" class=\"data row4 col0\" >Decision Tree Classifier</td>\n",
       "                        <td id=\"T_80eb74da_f365_11e9_bea8_acde48001122row4_col1\" class=\"data row4 col1\" >Undersample, grid search</td>\n",
       "                        <td id=\"T_80eb74da_f365_11e9_bea8_acde48001122row4_col2\" class=\"data row4 col2\" >91</td>\n",
       "                        <td id=\"T_80eb74da_f365_11e9_bea8_acde48001122row4_col3\" class=\"data row4 col3\" >16</td>\n",
       "                        <td id=\"T_80eb74da_f365_11e9_bea8_acde48001122row4_col4\" class=\"data row4 col4\" >17.58 %</td>\n",
       "            </tr>\n",
       "    </tbody></table>"
      ],
      "text/plain": [
       "<pandas.io.formats.style.Styler at 0x13b9c7f28>"
      ]
     },
     "metadata": {},
     "output_type": "display_data"
    }
   ],
   "source": [
    "df_false_negatives = get_false_negative_frauds('Logistic Regression',\n",
    "   ytest,ypreds_best_lr,\n",
    "   desc=\"Undersample, grid search\",\n",
    "   df_false_negatives=None,\n",
    "   show=False);\n",
    "\n",
    "df_false_negatives = get_false_negative_frauds('Support Vector Classifier',\n",
    "   ytest,ypreds_best_svc,\n",
    "   desc=\"Undersample, grid search\",\n",
    "   df_false_negatives=df_false_negatives,\n",
    "   show=False);\n",
    "\n",
    "df_false_negatives = get_false_negative_frauds('KNN',\n",
    "   ytest,ypreds_best_knn,\n",
    "   desc=\"Undersample, grid search\",\n",
    "   df_false_negatives=df_false_negatives,\n",
    "   show=False);\n",
    "\n",
    "df_false_negatives = get_false_negative_frauds('Decision Tree Classifier',\n",
    "   ytest,ypreds_best_dtc,\n",
    "   desc=\"Undersample, grid search\",\n",
    "   df_false_negatives=df_false_negatives,\n",
    "   show=False);\n",
    "\n",
    "df_false_negatives = get_false_negative_frauds('Random Forest Classifier',\n",
    "   ytest,ypreds_best_rfc,\n",
    "   desc=\"Undersample, grid search\",\n",
    "   df_false_negatives=df_false_negatives,\n",
    "   show=True);"
   ]
  },
  {
   "cell_type": "markdown",
   "metadata": {},
   "source": [
    "## ROC Curve"
   ]
  },
  {
   "cell_type": "code",
   "execution_count": 113,
   "metadata": {
    "ExecuteTime": {
     "end_time": "2019-10-20T18:25:21.218814Z",
     "start_time": "2019-10-20T18:25:21.168533Z"
    }
   },
   "outputs": [],
   "source": [
    "from bhishan.util_model_eval import plot_roc_skf"
   ]
  },
  {
   "cell_type": "code",
   "execution_count": 114,
   "metadata": {
    "ExecuteTime": {
     "end_time": "2019-10-20T18:25:22.036187Z",
     "start_time": "2019-10-20T18:25:21.985415Z"
    }
   },
   "outputs": [
    {
     "data": {
      "text/plain": [
       "LogisticRegression(C=0.001, class_weight=None, dual=False, fit_intercept=True,\n",
       "                   intercept_scaling=1, l1_ratio=None, max_iter=4000,\n",
       "                   multi_class='warn', n_jobs=1, penalty='l1', random_state=100,\n",
       "                   solver='liblinear', tol=0.0001, verbose=0, warm_start=False)"
      ]
     },
     "execution_count": 114,
     "metadata": {},
     "output_type": "execute_result"
    }
   ],
   "source": [
    "clf_best_lr"
   ]
  },
  {
   "cell_type": "code",
   "execution_count": 135,
   "metadata": {
    "ExecuteTime": {
     "end_time": "2019-10-20T19:11:54.914288Z",
     "start_time": "2019-10-20T19:11:54.089538Z"
    }
   },
   "outputs": [
    {
     "data": {
      "image/png": "[encoded data removed]",
      "text/plain": [
       "<Figure size 432x288 with 1 Axes>"
      ]
     },
     "metadata": {
      "needs_background": "light"
     },
     "output_type": "display_data"
    }
   ],
   "source": [
    "X = df_under[features_with_log].values\n",
    "y = df_under[target].values\n",
    "\n",
    "clf_lr = LogisticRegression(C=0.001, class_weight=None, dual=False,\n",
    "                   fit_intercept=True,\n",
    "                   intercept_scaling=1, l1_ratio=None, max_iter=4000,\n",
    "                   multi_class='warn', n_jobs=1, penalty='l1',\n",
    "                   random_state=100,\n",
    "                   solver='liblinear', tol=0.0001, verbose=0,\n",
    "                   warm_start=False)\n",
    "\n",
    "\n",
    "ofile = '../reports/figures/cv_auroc_lr_undersample_grid.png'\n",
    "plot_roc_skf(clf_lr, X,y,random_state=random_state,ofile=ofile)"
   ]
  },
  {
   "cell_type": "code",
   "execution_count": 73,
   "metadata": {
    "ExecuteTime": {
     "end_time": "2019-10-17T20:23:56.346497Z",
     "start_time": "2019-10-17T20:23:56.278380Z"
    }
   },
   "outputs": [],
   "source": [
    "from sklearn.model_selection import cross_val_predict\n",
    "from sklearn.metrics import roc_auc_score\n",
    "from sklearn.metrics import roc_curve"
   ]
  },
  {
   "cell_type": "code",
   "execution_count": 74,
   "metadata": {
    "ExecuteTime": {
     "end_time": "2019-10-17T20:23:56.449709Z",
     "start_time": "2019-10-17T20:23:56.348524Z"
    }
   },
   "outputs": [],
   "source": [
    "def plot_roc_curve(clf_names, all_roc_auc_scores, y,ofile=None):\n",
    "    \"\"\"Plot Receiver Operating Characteristic (ROC) curve.\n",
    "    \n",
    "    NOTE:\n",
    "    In cross-validation we do not need Xtrain and Xtest,\n",
    "    one split of X is taken as Xtest and remaining splits are taken as Xtrain.\n",
    "    \n",
    "    Example:\n",
    "    ---------\n",
    "    clf_names = [\"Logisitic Regression\",\"Support Vector Classifier\",\n",
    "                 \"KNN\", \"Decision Tree Classifier\",\"Random Forest Classifier\"]\n",
    "\n",
    "    cvpred_lr = cross_val_predict(clf_best_lr, X, y, cv=5,\n",
    "                             method=\"decision_function\")\n",
    "    cvpred_svc = cross_val_predict(clf_best_svc, X, y, cv=5,\n",
    "                                 method=\"decision_function\")\n",
    "\n",
    "    cvpred_knn = cross_val_predict(clf_best_knn,X,y,cv=5)\n",
    "    cvpred_dtc = cross_val_predict(clf_best_dtc,X,y,cv=5)\n",
    "    cvpred_rfc = cross_val_predict(clf_best_rfc, X, y, cv=5)\n",
    "\n",
    "    all_cross_val_preds = [cvpred_lr, cvpred_svc,\n",
    "                             cvpred_knn, cvpred_dtc, cvpred_rfc]\n",
    "\n",
    "    all_roc_auc_scores = [roc_auc_score(y, cvpred)\n",
    "                        for cvpred in all_cross_val_preds ]\n",
    "\n",
    "    plot_roc_curve(clf_names, all_roc_auc_scores,y)\n",
    "    \n",
    "    \"\"\"\n",
    "    from sklearn.model_selection import cross_val_predict\n",
    "    from sklearn.metrics import roc_auc_score\n",
    "    from sklearn.metrics import roc_curve\n",
    "\n",
    "    labels = ['{}: {:.4f}'.format(clf,pred)\n",
    "              for clf,pred in zip(clf_names,all_roc_auc_scores)]\n",
    "\n",
    "    fpr_tpr_threshold = [ roc_curve(y, pred_x)\n",
    "                         for pred_x in all_cross_val_preds ]\n",
    "\n",
    "    plt.figure(figsize=(12,8))\n",
    "    for i in range(len(fpr_tpr_threshold)):\n",
    "        plt.plot(fpr_tpr_threshold[i][0],\n",
    "                 fpr_tpr_threshold[i][1],\n",
    "                 label=labels[i])\n",
    "\n",
    "    plt.plot([0, 1], [0, 1], 'k--')\n",
    "    plt.axis([-0.01, 1, 0, 1])\n",
    "    plt.xlabel('False Positive Rate (FPR)', fontsize=16)\n",
    "    plt.ylabel('True Positive Rate (TPR)', fontsize=16)\n",
    "    plt.annotate('Minimum ROC Score of 50%',\n",
    "                 xy=(0.5, 0.5), xytext=(0.6, 0.3),\n",
    "                arrowprops=dict(facecolor='#6E726D', shrink=0.05),\n",
    "                )\n",
    "    plt.title('ROC Curves',fontsize=20)\n",
    "    plt.legend()\n",
    "    plt.tight_layout()\n",
    "    \n",
    "    # save the figure\n",
    "    if ofile:\n",
    "        plt.savefig(ofile,dpi=300)\n",
    "        \n",
    "    # show the figure\n",
    "    plt.show()\n",
    "    plt.close()"
   ]
  },
  {
   "cell_type": "code",
   "execution_count": 79,
   "metadata": {
    "ExecuteTime": {
     "end_time": "2019-10-17T20:24:57.283791Z",
     "start_time": "2019-10-17T20:24:32.876573Z"
    }
   },
   "outputs": [
    {
     "data": {
      "image/png": "[encoded data removed]",
      "text/plain": [
       "<Figure size 864x576 with 1 Axes>"
      ]
     },
     "metadata": {},
     "output_type": "display_data"
    },
    {
     "name": "stdout",
     "output_type": "stream",
     "text": [
      "Time taken: 0 min 24 secs\n"
     ]
    }
   ],
   "source": [
    "t0 = time.time()\n",
    "\n",
    "clf_names = [\"Logisitic Regression\",\"Support Vector Classifier\",\n",
    "             \"KNN\", \"Decision Tree Classifier\",\"Random Forest Classifier\"]\n",
    "\n",
    "cvpred_lr = cross_val_predict(clf_best_lr, X, y, cv=5,\n",
    "                         method=\"decision_function\")\n",
    "cvpred_svc = cross_val_predict(clf_best_svc, X, y, cv=5,\n",
    "                             method=\"decision_function\")\n",
    "\n",
    "cvpred_knn = cross_val_predict(clf_best_knn,X,y,cv=5)\n",
    "cvpred_dtc = cross_val_predict(clf_best_dtc,X,y,cv=5)\n",
    "cvpred_rfc = cross_val_predict(clf_best_rfc, X, y, cv=5)\n",
    "\n",
    "all_cross_val_preds = [cvpred_lr, cvpred_svc,\n",
    "                         cvpred_knn, cvpred_dtc, cvpred_rfc]\n",
    "\n",
    "all_roc_auc_scores = [roc_auc_score(y, cvpred)\n",
    "                    for cvpred in all_cross_val_preds ]\n",
    "\n",
    "ofile = '../reports/figures/roc_curves_for_all_clf.png'\n",
    "plot_roc_curve(clf_names, all_roc_auc_scores,y,ofile=ofile)\n",
    "\n",
    "t1 = time.time() - t0\n",
    "print('Time taken: {:.0f} min {:.0f} secs'.format(*divmod(t1,60)))\n",
    "# Time taken: 0 min 24 secs"
   ]
  },
  {
   "cell_type": "markdown",
   "metadata": {},
   "source": [
    "## Plotly Model Evaluation Plots"
   ]
  },
  {
   "cell_type": "code",
   "execution_count": 80,
   "metadata": {
    "ExecuteTime": {
     "end_time": "2019-10-17T20:26:09.275235Z",
     "start_time": "2019-10-17T20:26:09.220248Z"
    }
   },
   "outputs": [
    {
     "data": {
      "text/plain": [
       "'3.10.0'"
      ]
     },
     "execution_count": 80,
     "metadata": {},
     "output_type": "execute_result"
    }
   ],
   "source": [
    "import plotly\n",
    "plotly.__version__"
   ]
  },
  {
   "cell_type": "code",
   "execution_count": 81,
   "metadata": {
    "ExecuteTime": {
     "end_time": "2019-10-17T20:26:12.666996Z",
     "start_time": "2019-10-17T20:26:11.788672Z"
    }
   },
   "outputs": [
    {
     "data": {
      "text/html": [
       "        <script type=\"text/javascript\">\n",
       "        window.PlotlyConfig = {MathJaxConfig: 'local'};\n",
       "        if (window.MathJax) {MathJax.Hub.Config({SVG: {font: \"STIX-Web\"}});}\n",
       "        if (typeof require !== 'undefined') {\n",
       "        require.undef(\"plotly\");\n",
       "        requirejs.config({\n",
       "            paths: {\n",
       "                'plotly': ['https://cdn.plot.ly/plotly-latest.min']\n",
       "            }\n",
       "        });\n",
       "        require(['plotly'], function(Plotly) {\n",
       "            window._Plotly = Plotly;\n",
       "        });\n",
       "        }\n",
       "        </script>\n",
       "        "
      ]
     },
     "metadata": {},
     "output_type": "display_data"
    },
    {
     "data": {
      "text/html": [
       "        <script type=\"text/javascript\">\n",
       "        window.PlotlyConfig = {MathJaxConfig: 'local'};\n",
       "        if (window.MathJax) {MathJax.Hub.Config({SVG: {font: \"STIX-Web\"}});}\n",
       "        if (typeof require !== 'undefined') {\n",
       "        require.undef(\"plotly\");\n",
       "        requirejs.config({\n",
       "            paths: {\n",
       "                'plotly': ['https://cdn.plot.ly/plotly-latest.min']\n",
       "            }\n",
       "        });\n",
       "        require(['plotly'], function(Plotly) {\n",
       "            window._Plotly = Plotly;\n",
       "        });\n",
       "        }\n",
       "        </script>\n",
       "        "
      ]
     },
     "metadata": {},
     "output_type": "display_data"
    },
    {
     "data": {
      "application/vnd.plotly.v1+json": {
       "config": {
        "linkText": "Export to plot.ly",
        "plotlyServerURL": "https://plot.ly",
        "showLink": false
       },
       "data": [
        {
         "colorscale": "Viridis",
         "showscale": false,
         "type": "heatmap",
         "uid": "07fe6c2e-daf9-44e7-8632-ef145a838fb4",
         "x": [
          "0 (Predicted)",
          "1 (Predicted)"
         ],
         "xaxis": "x",
         "xgap": 2,
         "y": [
          "0 (True)",
          "1 (True)"
         ],
         "yaxis": "y",
         "ygap": 2,
         "z": [
          [
           60,
           46
          ],
          [
           5,
           86
          ]
         ]
        },
        {
         "marker": {
          "color": [
           "gold",
           "lightgreen",
           "lightcoral",
           "lightskyblue"
          ],
          "line": {
           "color": "#000000",
           "width": 1.5
          }
         },
         "opacity": 0.8,
         "orientation": "h",
         "text": [
          0.9451,
          0.7713,
          0.7411,
          0.6515
         ],
         "textposition": "auto",
         "type": "bar",
         "uid": "b2287173-c386-4c10-b660-ea97911f8b8a",
         "x": [
          0.945054945054945,
          0.7713004484304932,
          0.7411167512690355,
          0.6515151515151515
         ],
         "xaxis": "x2",
         "y": [
          "Recall",
          "F1_score",
          "Accuracy",
          "Precision"
         ],
         "yaxis": "y2"
        },
        {
         "fill": "tozeroy",
         "line": {
          "color": "rgb(22, 96, 167)",
          "width": 2
         },
         "name": "Roc : 0.931",
         "type": "scatter",
         "uid": "0b7492d6-3cdd-466f-a588-b34e583bb05d",
         "x": [
          0,
          0,
          0,
          0,
          0,
          0,
          0,
          0.009433962264150943,
          0.009433962264150943,
          0.02830188679245283,
          0.02830188679245283,
          0.04716981132075472,
          0.04716981132075472,
          0.0660377358490566,
          0.0660377358490566,
          0.11320754716981132,
          0.11320754716981132,
          0.1509433962264151,
          0.1509433962264151,
          0.16037735849056603,
          0.16037735849056603,
          0.16981132075471697,
          0.16981132075471697,
          0.19811320754716982,
          0.19811320754716982,
          0.2641509433962264,
          0.2641509433962264,
          0.29245283018867924,
          0.29245283018867924,
          0.4811320754716981,
          0.4811320754716981,
          0.8962264150943396,
          0.8962264150943396,
          0.9245283018867925,
          0.9245283018867925,
          0.9339622641509434,
          0.9339622641509434,
          1,
          1
         ],
         "xaxis": "x3",
         "y": [
          0,
          0.01098901098901099,
          0.12087912087912088,
          0.14285714285714285,
          0.26373626373626374,
          0.2857142857142857,
          0.7802197802197802,
          0.7802197802197802,
          0.8021978021978022,
          0.8021978021978022,
          0.8241758241758241,
          0.8241758241758241,
          0.8351648351648352,
          0.8351648351648352,
          0.8461538461538461,
          0.8461538461538461,
          0.8571428571428571,
          0.8571428571428571,
          0.8681318681318682,
          0.8681318681318682,
          0.8791208791208791,
          0.8791208791208791,
          0.9010989010989011,
          0.9010989010989011,
          0.9120879120879121,
          0.9120879120879121,
          0.9230769230769231,
          0.9230769230769231,
          0.945054945054945,
          0.945054945054945,
          0.9560439560439561,
          0.9560439560439561,
          0.967032967032967,
          0.967032967032967,
          0.978021978021978,
          0.978021978021978,
          0.989010989010989,
          0.989010989010989,
          1
         ],
         "yaxis": "y3"
        },
        {
         "line": {
          "color": "black",
          "dash": "dot",
          "width": 1.5
         },
         "type": "scatter",
         "uid": "1842390d-1be0-4351-96d2-b12d213cc734",
         "x": [
          0,
          1
         ],
         "xaxis": "x3",
         "y": [
          0,
          1
         ],
         "yaxis": "y3"
        },
        {
         "fill": "tozeroy",
         "line": {
          "color": "lightcoral",
          "width": 2
         },
         "name": "Precision[0.46192893 0.45918367 0.46153846 0.46391753 0.46632124 0.46875\n 0.47120419 0.47368421 0.47619048 0.47340426 0.47593583 0.47311828\n 0.47567568 0.47826087 0.48087432 0.47802198 0.48066298 0.48333333\n 0.48603352 0.48876404 0.49152542 0.49431818 0.49714286 0.5\n 0.50289017 0.50581395 0.50877193 0.51176471 0.5147929  0.51785714\n 0.52095808 0.52409639 0.52727273 0.5304878  0.53374233 0.53703704\n 0.54037267 0.54375    0.54716981 0.55063291 0.55414013 0.55769231\n 0.56129032 0.56493506 0.56862745 0.57236842 0.57615894 0.58\n 0.58389262 0.58783784 0.59183673 0.59589041 0.6        0.60416667\n 0.60839161 0.61267606 0.61702128 0.62142857 0.62589928 0.63043478\n 0.62773723 0.63235294 0.63703704 0.64179104 0.64661654 0.65151515\n 0.65648855 0.66153846 0.66666667 0.671875   0.67716535 0.68253968\n 0.688      0.69354839 0.69918699 0.70491803 0.7107438  0.71666667\n 0.72268908 0.72881356 0.73504274 0.73275862 0.73043478 0.73684211\n 0.74336283 0.75       0.74774775 0.75454545 0.76146789 0.76851852\n 0.77570093 0.78301887 0.79047619 0.79807692 0.7961165  0.80392157\n 0.81188119 0.82       0.81818182 0.81632653 0.82474227 0.82291667\n 0.83157895 0.82978723 0.83870968 0.84782609 0.85714286 0.86666667\n 0.86516854 0.875      0.88505747 0.89534884 0.90588235 0.91666667\n 0.91566265 0.92682927 0.9382716  0.9375     0.94936709 0.96153846\n 0.96103896 0.96052632 0.97333333 0.98648649 0.98630137 0.98611111\n 1.         1.         1.         1.         1.         1.\n 1.         1.         1.         1.         1.         1.\n 1.         1.         1.         1.         1.         1.\n 1.         1.         1.         1.         1.         1.\n 1.         1.         1.         1.         1.         1.\n 1.         1.         1.         1.         1.         1.\n 1.         1.         1.         1.         1.         1.\n 1.         1.         1.         1.         1.         1.\n 1.         1.         1.         1.         1.         1.\n 1.         1.         1.         1.         1.         1.\n 1.         1.         1.         1.         1.         1.\n 1.         1.         1.         1.        ]",
         "type": "scatter",
         "uid": "990c3136-9b4a-4d13-81da-f00804340885",
         "x": [
          1,
          0.989010989010989,
          0.989010989010989,
          0.989010989010989,
          0.989010989010989,
          0.989010989010989,
          0.989010989010989,
          0.989010989010989,
          0.989010989010989,
          0.978021978021978,
          0.978021978021978,
          0.967032967032967,
          0.967032967032967,
          0.967032967032967,
          0.967032967032967,
          0.9560439560439561,
          0.9560439560439561,
          0.9560439560439561,
          0.9560439560439561,
          0.9560439560439561,
          0.9560439560439561,
          0.9560439560439561,
          0.9560439560439561,
          0.9560439560439561,
          0.9560439560439561,
          0.9560439560439561,
          0.9560439560439561,
          0.9560439560439561,
          0.9560439560439561,
          0.9560439560439561,
          0.9560439560439561,
          0.9560439560439561,
          0.9560439560439561,
          0.9560439560439561,
          0.9560439560439561,
          0.9560439560439561,
          0.9560439560439561,
          0.9560439560439561,
          0.9560439560439561,
          0.9560439560439561,
          0.9560439560439561,
          0.9560439560439561,
          0.9560439560439561,
          0.9560439560439561,
          0.9560439560439561,
          0.9560439560439561,
          0.9560439560439561,
          0.9560439560439561,
          0.9560439560439561,
          0.9560439560439561,
          0.9560439560439561,
          0.9560439560439561,
          0.9560439560439561,
          0.9560439560439561,
          0.9560439560439561,
          0.9560439560439561,
          0.9560439560439561,
          0.9560439560439561,
          0.9560439560439561,
          0.9560439560439561,
          0.945054945054945,
          0.945054945054945,
          0.945054945054945,
          0.945054945054945,
          0.945054945054945,
          0.945054945054945,
          0.945054945054945,
          0.945054945054945,
          0.945054945054945,
          0.945054945054945,
          0.945054945054945,
          0.945054945054945,
          0.945054945054945,
          0.945054945054945,
          0.945054945054945,
          0.945054945054945,
          0.945054945054945,
          0.945054945054945,
          0.945054945054945,
          0.945054945054945,
          0.945054945054945,
          0.9340659340659341,
          0.9230769230769231,
          0.9230769230769231,
          0.9230769230769231,
          0.9230769230769231,
          0.9120879120879121,
          0.9120879120879121,
          0.9120879120879121,
          0.9120879120879121,
          0.9120879120879121,
          0.9120879120879121,
          0.9120879120879121,
          0.9120879120879121,
          0.9010989010989011,
          0.9010989010989011,
          0.9010989010989011,
          0.9010989010989011,
          0.8901098901098901,
          0.8791208791208791,
          0.8791208791208791,
          0.8681318681318682,
          0.8681318681318682,
          0.8571428571428571,
          0.8571428571428571,
          0.8571428571428571,
          0.8571428571428571,
          0.8571428571428571,
          0.8461538461538461,
          0.8461538461538461,
          0.8461538461538461,
          0.8461538461538461,
          0.8461538461538461,
          0.8461538461538461,
          0.8351648351648352,
          0.8351648351648352,
          0.8351648351648352,
          0.8241758241758241,
          0.8241758241758241,
          0.8241758241758241,
          0.8131868131868132,
          0.8021978021978022,
          0.8021978021978022,
          0.8021978021978022,
          0.7912087912087912,
          0.7802197802197802,
          0.7802197802197802,
          0.7692307692307693,
          0.7582417582417582,
          0.7472527472527473,
          0.7362637362637363,
          0.7252747252747253,
          0.7142857142857143,
          0.7032967032967034,
          0.6923076923076923,
          0.6813186813186813,
          0.6703296703296703,
          0.6593406593406593,
          0.6483516483516484,
          0.6373626373626373,
          0.6263736263736264,
          0.6153846153846154,
          0.6043956043956044,
          0.5934065934065934,
          0.5824175824175825,
          0.5714285714285714,
          0.5604395604395604,
          0.5494505494505495,
          0.5384615384615384,
          0.5274725274725275,
          0.5164835164835165,
          0.5054945054945055,
          0.4945054945054945,
          0.4835164835164835,
          0.4725274725274725,
          0.46153846153846156,
          0.45054945054945056,
          0.43956043956043955,
          0.42857142857142855,
          0.4175824175824176,
          0.4065934065934066,
          0.3956043956043956,
          0.38461538461538464,
          0.37362637362637363,
          0.3626373626373626,
          0.3516483516483517,
          0.34065934065934067,
          0.32967032967032966,
          0.31868131868131866,
          0.3076923076923077,
          0.2967032967032967,
          0.2857142857142857,
          0.26373626373626374,
          0.25274725274725274,
          0.24175824175824176,
          0.23076923076923078,
          0.21978021978021978,
          0.2087912087912088,
          0.1978021978021978,
          0.18681318681318682,
          0.17582417582417584,
          0.16483516483516483,
          0.15384615384615385,
          0.14285714285714285,
          0.12087912087912088,
          0.10989010989010989,
          0.0989010989010989,
          0.08791208791208792,
          0.07692307692307693,
          0.06593406593406594,
          0.054945054945054944,
          0.04395604395604396,
          0.03296703296703297,
          0.02197802197802198,
          0.01098901098901099,
          0
         ],
         "xaxis": "x4",
         "y": [
          0.4619289340101523,
          0.45918367346938777,
          0.46153846153846156,
          0.4639175257731959,
          0.46632124352331605,
          0.46875,
          0.4712041884816754,
          0.47368421052631576,
          0.47619047619047616,
          0.4734042553191489,
          0.47593582887700536,
          0.4731182795698925,
          0.4756756756756757,
          0.4782608695652174,
          0.4808743169398907,
          0.47802197802197804,
          0.48066298342541436,
          0.48333333333333334,
          0.4860335195530726,
          0.4887640449438202,
          0.4915254237288136,
          0.4943181818181818,
          0.49714285714285716,
          0.5,
          0.5028901734104047,
          0.5058139534883721,
          0.5087719298245614,
          0.5117647058823529,
          0.514792899408284,
          0.5178571428571429,
          0.5209580838323353,
          0.5240963855421686,
          0.5272727272727272,
          0.5304878048780488,
          0.5337423312883436,
          0.5370370370370371,
          0.5403726708074534,
          0.54375,
          0.5471698113207547,
          0.5506329113924051,
          0.554140127388535,
          0.5576923076923077,
          0.5612903225806452,
          0.564935064935065,
          0.5686274509803921,
          0.5723684210526315,
          0.5761589403973509,
          0.58,
          0.5838926174496645,
          0.5878378378378378,
          0.5918367346938775,
          0.5958904109589042,
          0.6,
          0.6041666666666666,
          0.6083916083916084,
          0.6126760563380281,
          0.6170212765957447,
          0.6214285714285714,
          0.6258992805755396,
          0.6304347826086957,
          0.6277372262773723,
          0.6323529411764706,
          0.6370370370370371,
          0.6417910447761194,
          0.6466165413533834,
          0.6515151515151515,
          0.6564885496183206,
          0.6615384615384615,
          0.6666666666666666,
          0.671875,
          0.6771653543307087,
          0.6825396825396826,
          0.688,
          0.6935483870967742,
          0.6991869918699187,
          0.7049180327868853,
          0.7107438016528925,
          0.7166666666666667,
          0.7226890756302521,
          0.7288135593220338,
          0.7350427350427351,
          0.7327586206896551,
          0.7304347826086957,
          0.7368421052631579,
          0.7433628318584071,
          0.75,
          0.7477477477477478,
          0.7545454545454545,
          0.7614678899082569,
          0.7685185185185185,
          0.7757009345794392,
          0.7830188679245284,
          0.7904761904761904,
          0.7980769230769231,
          0.7961165048543689,
          0.803921568627451,
          0.8118811881188119,
          0.82,
          0.8181818181818182,
          0.8163265306122449,
          0.8247422680412371,
          0.8229166666666666,
          0.8315789473684211,
          0.8297872340425532,
          0.8387096774193549,
          0.8478260869565217,
          0.8571428571428571,
          0.8666666666666667,
          0.8651685393258427,
          0.875,
          0.8850574712643678,
          0.8953488372093024,
          0.9058823529411765,
          0.9166666666666666,
          0.9156626506024096,
          0.926829268292683,
          0.9382716049382716,
          0.9375,
          0.9493670886075949,
          0.9615384615384616,
          0.961038961038961,
          0.9605263157894737,
          0.9733333333333334,
          0.9864864864864865,
          0.9863013698630136,
          0.9861111111111112,
          1,
          1,
          1,
          1,
          1,
          1,
          1,
          1,
          1,
          1,
          1,
          1,
          1,
          1,
          1,
          1,
          1,
          1,
          1,
          1,
          1,
          1,
          1,
          1,
          1,
          1,
          1,
          1,
          1,
          1,
          1,
          1,
          1,
          1,
          1,
          1,
          1,
          1,
          1,
          1,
          1,
          1,
          1,
          1,
          1,
          1,
          1,
          1,
          1,
          1,
          1,
          1,
          1,
          1,
          1,
          1,
          1,
          1,
          1,
          1,
          1,
          1,
          1,
          1,
          1,
          1,
          1,
          1,
          1,
          1
         ],
         "yaxis": "y4"
        },
        {
         "fill": "tozeroy",
         "line": {
          "color": "gold",
          "width": 2
         },
         "name": "Lift curve",
         "type": "scatter",
         "uid": "b9516c2b-00f1-4a45-95d2-6a57dbe69233",
         "x": [
          0.005076142131979695,
          0.01015228426395939,
          0.015228426395939087,
          0.02030456852791878,
          0.025380710659898477,
          0.030456852791878174,
          0.03553299492385787,
          0.04060913705583756,
          0.04568527918781726,
          0.050761421319796954,
          0.05583756345177665,
          0.06091370558375635,
          0.06598984771573604,
          0.07106598984771574,
          0.07614213197969544,
          0.08121827411167512,
          0.08629441624365482,
          0.09137055837563451,
          0.09644670050761421,
          0.10152284263959391,
          0.1065989847715736,
          0.1116751269035533,
          0.116751269035533,
          0.1218274111675127,
          0.12690355329949238,
          0.1319796954314721,
          0.13705583756345177,
          0.14213197969543148,
          0.14720812182741116,
          0.15228426395939088,
          0.15736040609137056,
          0.16243654822335024,
          0.16751269035532995,
          0.17258883248730963,
          0.17766497461928935,
          0.18274111675126903,
          0.18781725888324874,
          0.19289340101522842,
          0.19796954314720813,
          0.20304568527918782,
          0.20812182741116753,
          0.2131979695431472,
          0.2182741116751269,
          0.2233502538071066,
          0.22842639593908629,
          0.233502538071066,
          0.23857868020304568,
          0.2436548223350254,
          0.24873096446700507,
          0.25380710659898476,
          0.25888324873096447,
          0.2639593908629442,
          0.26903553299492383,
          0.27411167512690354,
          0.27918781725888325,
          0.28426395939086296,
          0.2893401015228426,
          0.29441624365482233,
          0.29949238578680204,
          0.30456852791878175,
          0.3096446700507614,
          0.3147208121827411,
          0.3197969543147208,
          0.3248730964467005,
          0.3299492385786802,
          0.3350253807106599,
          0.3401015228426396,
          0.34517766497461927,
          0.350253807106599,
          0.3553299492385787,
          0.3604060913705584,
          0.36548223350253806,
          0.37055837563451777,
          0.3756345177664975,
          0.38071065989847713,
          0.38578680203045684,
          0.39086294416243655,
          0.39593908629441626,
          0.4010152284263959,
          0.40609137055837563,
          0.41116751269035534,
          0.41624365482233505,
          0.4213197969543147,
          0.4263959390862944,
          0.43147208121827413,
          0.4365482233502538,
          0.4416243654822335,
          0.4467005076142132,
          0.4517766497461929,
          0.45685279187817257,
          0.4619289340101523,
          0.467005076142132,
          0.4720812182741117,
          0.47715736040609136,
          0.48223350253807107,
          0.4873096446700508,
          0.49238578680203043,
          0.49746192893401014,
          0.5025380710659898,
          0.5076142131979695,
          0.5126903553299492,
          0.5177664974619289,
          0.5228426395939086,
          0.5279187817258884,
          0.5329949238578681,
          0.5380710659898477,
          0.5431472081218274,
          0.5482233502538071,
          0.5532994923857868,
          0.5583756345177665,
          0.5634517766497462,
          0.5685279187817259,
          0.5736040609137056,
          0.5786802030456852,
          0.583756345177665,
          0.5888324873096447,
          0.5939086294416244,
          0.5989847715736041,
          0.6040609137055838,
          0.6091370558375635,
          0.6142131979695431,
          0.6192893401015228,
          0.6243654822335025,
          0.6294416243654822,
          0.6345177664974619,
          0.6395939086294417,
          0.6446700507614214,
          0.649746192893401,
          0.6548223350253807,
          0.6598984771573604,
          0.6649746192893401,
          0.6700507614213198,
          0.6751269035532995,
          0.6802030456852792,
          0.6852791878172588,
          0.6903553299492385,
          0.6954314720812182,
          0.700507614213198,
          0.7055837563451777,
          0.7106598984771574,
          0.7157360406091371,
          0.7208121827411168,
          0.7258883248730964,
          0.7309644670050761,
          0.7360406091370558,
          0.7411167512690355,
          0.7461928934010152,
          0.751269035532995,
          0.7563451776649747,
          0.7614213197969543,
          0.766497461928934,
          0.7715736040609137,
          0.7766497461928934,
          0.7817258883248731,
          0.7868020304568528,
          0.7918781725888325,
          0.7969543147208121,
          0.8020304568527918,
          0.8071065989847716,
          0.8121827411167513,
          0.817258883248731,
          0.8223350253807107,
          0.8274111675126904,
          0.8324873096446701,
          0.8375634517766497,
          0.8426395939086294,
          0.8477157360406091,
          0.8527918781725888,
          0.8578680203045685,
          0.8629441624365483,
          0.868020304568528,
          0.8730964467005076,
          0.8781725888324873,
          0.883248730964467,
          0.8883248730964467,
          0.8934010152284264,
          0.8984771573604061,
          0.9035532994923858,
          0.9086294416243654,
          0.9137055837563451,
          0.9187817258883249,
          0.9238578680203046,
          0.9289340101522843,
          0.934010152284264,
          0.9390862944162437,
          0.9441624365482234,
          0.949238578680203,
          0.9543147208121827,
          0.9593908629441624,
          0.9644670050761421,
          0.9695431472081218,
          0.9746192893401016,
          0.9796954314720813,
          0.9847715736040609,
          0.9898477157360406,
          0.9949238578680203,
          1,
          1.0050761421319796,
          1.0101522842639594,
          1.015228426395939,
          1.0203045685279188,
          1.0253807106598984,
          1.0304568527918783,
          1.0355329949238579,
          1.0406091370558375,
          1.0456852791878173,
          1.0507614213197969,
          1.0558375634517767,
          1.0609137055837563,
          1.0659898477157361,
          1.0710659898477157,
          1.0761421319796953,
          1.0812182741116751,
          1.0862944162436547,
          1.0913705583756346,
          1.0964467005076142,
          1.101522842639594,
          1.1065989847715736,
          1.1116751269035532,
          1.116751269035533,
          1.1218274111675126,
          1.1269035532994924,
          1.131979695431472,
          1.1370558375634519,
          1.1421319796954315,
          1.1472081218274113,
          1.1522842639593909,
          1.1573604060913705,
          1.1624365482233503,
          1.16751269035533,
          1.1725888324873097,
          1.1776649746192893,
          1.1827411167512691,
          1.1878172588832487,
          1.1928934010152283,
          1.1979695431472082,
          1.2030456852791878,
          1.2081218274111676,
          1.2131979695431472,
          1.218274111675127,
          1.2233502538071066,
          1.2284263959390862,
          1.233502538071066,
          1.2385786802030456,
          1.2436548223350254,
          1.248730964467005,
          1.2538071065989849,
          1.2588832487309645,
          1.263959390862944,
          1.2690355329949239,
          1.2741116751269035,
          1.2791878172588833,
          1.284263959390863,
          1.2893401015228427,
          1.2944162436548223,
          1.299492385786802,
          1.3045685279187818,
          1.3096446700507614,
          1.3147208121827412,
          1.3197969543147208,
          1.3248730964467006,
          1.3299492385786802,
          1.3350253807106598,
          1.3401015228426396,
          1.3451776649746192,
          1.350253807106599,
          1.3553299492385786,
          1.3604060913705585,
          1.365482233502538,
          1.3705583756345177,
          1.3756345177664975,
          1.380710659898477,
          1.385786802030457,
          1.3908629441624365,
          1.3959390862944163,
          1.401015228426396,
          1.4060913705583757,
          1.4111675126903553,
          1.416243654822335,
          1.4213197969543148,
          1.4263959390862944,
          1.4314720812182742,
          1.4365482233502538,
          1.4416243654822336,
          1.4467005076142132,
          1.4517766497461928,
          1.4568527918781726,
          1.4619289340101522,
          1.467005076142132,
          1.4720812182741116,
          1.4771573604060915,
          1.482233502538071,
          1.4873096446700507,
          1.4923857868020305,
          1.49746192893401,
          1.50253807106599,
          1.5076142131979695,
          1.5126903553299493,
          1.517766497461929,
          1.5228426395939085,
          1.5279187817258884,
          1.532994923857868,
          1.5380710659898478,
          1.5431472081218274,
          1.5482233502538072,
          1.5532994923857868,
          1.5583756345177664,
          1.5634517766497462,
          1.5685279187817258,
          1.5736040609137056,
          1.5786802030456852,
          1.583756345177665,
          1.5888324873096447,
          1.5939086294416243,
          1.598984771573604,
          1.6040609137055837,
          1.6091370558375635,
          1.614213197969543,
          1.619289340101523,
          1.6243654822335025,
          1.6294416243654823,
          1.634517766497462,
          1.6395939086294415,
          1.6446700507614214,
          1.649746192893401,
          1.6548223350253808,
          1.6598984771573604,
          1.6649746192893402,
          1.6700507614213198,
          1.6751269035532994,
          1.6802030456852792,
          1.6852791878172588,
          1.6903553299492386,
          1.6954314720812182,
          1.700507614213198,
          1.7055837563451777,
          1.7106598984771573,
          1.715736040609137,
          1.7208121827411167,
          1.7258883248730965,
          1.7309644670050761,
          1.736040609137056,
          1.7411167512690355,
          1.7461928934010151,
          1.751269035532995,
          1.7563451776649746,
          1.7614213197969544,
          1.766497461928934,
          1.7715736040609138,
          1.7766497461928934,
          1.781725888324873,
          1.7868020304568528,
          1.7918781725888324,
          1.7969543147208122,
          1.8020304568527918,
          1.8071065989847717,
          1.8121827411167513,
          1.8172588832487309,
          1.8223350253807107,
          1.8274111675126903,
          1.83248730964467,
          1.8375634517766497,
          1.8426395939086295,
          1.8477157360406091,
          1.8527918781725887,
          1.8578680203045685,
          1.8629441624365481,
          1.868020304568528
         ],
         "xaxis": "x5",
         "y": [
          0.01098901098901099,
          0.02197802197802198,
          0.03296703296703297,
          0.04395604395604396,
          0.054945054945054944,
          0.06593406593406594,
          0.07692307692307693,
          0.08791208791208792,
          0.0989010989010989,
          0.10989010989010989,
          0.12087912087912088,
          0.13186813186813187,
          0.14285714285714285,
          0.15384615384615385,
          0.16483516483516483,
          0.17582417582417584,
          0.18681318681318682,
          0.1978021978021978,
          0.2087912087912088,
          0.21978021978021978,
          0.23076923076923078,
          0.24175824175824176,
          0.25274725274725274,
          0.26373626373626374,
          0.27472527472527475,
          0.2857142857142857,
          0.2967032967032967,
          0.3076923076923077,
          0.31868131868131866,
          0.32967032967032966,
          0.34065934065934067,
          0.3516483516483517,
          0.3626373626373626,
          0.37362637362637363,
          0.38461538461538464,
          0.3956043956043956,
          0.4065934065934066,
          0.4175824175824176,
          0.42857142857142855,
          0.43956043956043955,
          0.45054945054945056,
          0.46153846153846156,
          0.4725274725274725,
          0.4835164835164835,
          0.4945054945054945,
          0.5054945054945055,
          0.5164835164835165,
          0.5274725274725275,
          0.5384615384615384,
          0.5494505494505495,
          0.5604395604395604,
          0.5714285714285714,
          0.5824175824175825,
          0.5934065934065934,
          0.6043956043956044,
          0.6153846153846154,
          0.6263736263736264,
          0.6373626373626373,
          0.6483516483516484,
          0.6593406593406593,
          0.6703296703296703,
          0.6813186813186813,
          0.6923076923076923,
          0.7032967032967034,
          0.7142857142857143,
          0.7252747252747253,
          0.7362637362637363,
          0.7472527472527473,
          0.7582417582417582,
          0.7692307692307693,
          0.7802197802197802,
          0.7802197802197802,
          0.7912087912087912,
          0.8021978021978022,
          0.8021978021978022,
          0.8021978021978022,
          0.8131868131868132,
          0.8241758241758241,
          0.8241758241758241,
          0.8241758241758241,
          0.8351648351648352,
          0.8351648351648352,
          0.8351648351648352,
          0.8461538461538461,
          0.8461538461538461,
          0.8461538461538461,
          0.8461538461538461,
          0.8461538461538461,
          0.8461538461538461,
          0.8571428571428571,
          0.8571428571428571,
          0.8571428571428571,
          0.8571428571428571,
          0.8571428571428571,
          0.8681318681318682,
          0.8681318681318682,
          0.8791208791208791,
          0.8791208791208791,
          0.8901098901098901,
          0.9010989010989011,
          0.9010989010989011,
          0.9010989010989011,
          0.9010989010989011,
          0.9120879120879121,
          0.9120879120879121,
          0.9120879120879121,
          0.9120879120879121,
          0.9120879120879121,
          0.9120879120879121,
          0.9120879120879121,
          0.9120879120879121,
          0.9230769230769231,
          0.9230769230769231,
          0.9230769230769231,
          0.9230769230769231,
          0.9340659340659341,
          0.945054945054945,
          0.945054945054945,
          0.945054945054945,
          0.945054945054945,
          0.945054945054945,
          0.945054945054945,
          0.945054945054945,
          0.945054945054945,
          0.945054945054945,
          0.945054945054945,
          0.945054945054945,
          0.945054945054945,
          0.945054945054945,
          0.945054945054945,
          0.945054945054945,
          0.945054945054945,
          0.945054945054945,
          0.945054945054945,
          0.945054945054945,
          0.945054945054945,
          0.945054945054945,
          0.9560439560439561,
          0.9560439560439561,
          0.9560439560439561,
          0.9560439560439561,
          0.9560439560439561,
          0.9560439560439561,
          0.9560439560439561,
          0.9560439560439561,
          0.9560439560439561,
          0.9560439560439561,
          0.9560439560439561,
          0.9560439560439561,
          0.9560439560439561,
          0.9560439560439561,
          0.9560439560439561,
          0.9560439560439561,
          0.9560439560439561,
          0.9560439560439561,
          0.9560439560439561,
          0.9560439560439561,
          0.9560439560439561,
          0.9560439560439561,
          0.9560439560439561,
          0.9560439560439561,
          0.9560439560439561,
          0.9560439560439561,
          0.9560439560439561,
          0.9560439560439561,
          0.9560439560439561,
          0.9560439560439561,
          0.9560439560439561,
          0.9560439560439561,
          0.9560439560439561,
          0.9560439560439561,
          0.9560439560439561,
          0.9560439560439561,
          0.9560439560439561,
          0.9560439560439561,
          0.9560439560439561,
          0.9560439560439561,
          0.9560439560439561,
          0.9560439560439561,
          0.9560439560439561,
          0.9560439560439561,
          0.9560439560439561,
          0.967032967032967,
          0.967032967032967,
          0.967032967032967,
          0.967032967032967,
          0.978021978021978,
          0.978021978021978,
          0.989010989010989,
          0.989010989010989,
          0.989010989010989,
          0.989010989010989,
          0.989010989010989,
          0.989010989010989,
          0.989010989010989,
          0.989010989010989,
          1
         ],
         "yaxis": "y5"
        }
       ],
       "layout": {
        "annotations": [
         {
          "font": {
           "size": 16
          },
          "showarrow": false,
          "text": "Confusion Matrix",
          "x": 0.225,
          "xanchor": "center",
          "xref": "paper",
          "y": 1,
          "yanchor": "bottom",
          "yref": "paper"
         },
         {
          "font": {
           "size": 16
          },
          "showarrow": false,
          "text": "Metrics",
          "x": 0.775,
          "xanchor": "center",
          "xref": "paper",
          "y": 1,
          "yanchor": "bottom",
          "yref": "paper"
         },
         {
          "font": {
           "size": 16
          },
          "showarrow": false,
          "text": "ROC Curve (0.931)",
          "x": 0.225,
          "xanchor": "center",
          "xref": "paper",
          "y": 0.6111111111111112,
          "yanchor": "bottom",
          "yref": "paper"
         },
         {
          "font": {
           "size": 16
          },
          "showarrow": false,
          "text": "Precision - Recall Curve",
          "x": 0.775,
          "xanchor": "center",
          "xref": "paper",
          "y": 0.6111111111111112,
          "yanchor": "bottom",
          "yref": "paper"
         },
         {
          "font": {
           "size": 16
          },
          "showarrow": false,
          "text": "Cumulative Gains Curve",
          "x": 0.5,
          "xanchor": "center",
          "xref": "paper",
          "y": 0.22222222222222224,
          "yanchor": "bottom",
          "yref": "paper"
         }
        ],
        "autosize": false,
        "height": 1500,
        "margin": {
         "b": 195
        },
        "paper_bgcolor": "rgba(240,240,240, 0.95)",
        "plot_bgcolor": "rgba(240,240,240, 0.95)",
        "showlegend": false,
        "title": {
         "font": {
          "size": 14
         },
         "text": "<b>Model Performance Report</b><br>(clf_best_lr)"
        },
        "width": 830,
        "xaxis": {
         "anchor": "y",
         "domain": [
          0,
          0.45
         ]
        },
        "xaxis2": {
         "anchor": "y2",
         "domain": [
          0.55,
          1
         ],
         "range": [
          0,
          1
         ]
        },
        "xaxis3": {
         "anchor": "y3",
         "domain": [
          0,
          0.45
         ],
         "title": {
          "text": "False Positive Rate"
         }
        },
        "xaxis4": {
         "anchor": "y4",
         "domain": [
          0.55,
          1
         ],
         "range": [
          0,
          1.05
         ],
         "title": {
          "text": "Recall"
         }
        },
        "xaxis5": {
         "anchor": "y5",
         "domain": [
          0,
          1
         ],
         "title": {
          "text": "Percentage Contacted"
         }
        },
        "yaxis": {
         "anchor": "x",
         "domain": [
          0.7777777777777778,
          1
         ]
        },
        "yaxis2": {
         "anchor": "x2",
         "domain": [
          0.7777777777777778,
          1
         ]
        },
        "yaxis3": {
         "anchor": "x3",
         "domain": [
          0.3888888888888889,
          0.6111111111111112
         ],
         "title": {
          "text": "True Positive Rate"
         }
        },
        "yaxis4": {
         "anchor": "x4",
         "domain": [
          0.3888888888888889,
          0.6111111111111112
         ],
         "range": [
          0,
          1.05
         ],
         "title": {
          "text": "Precision"
         }
        },
        "yaxis5": {
         "anchor": "x5",
         "domain": [
          0,
          0.22222222222222224
         ],
         "title": {
          "text": "Percentage Positive Targeted"
         }
        }
       }
      },
      "text/html": [
       "<div>\n",
       "        \n",
       "        \n",
       "            <div id=\"27030490-23a2-4bd9-a412-b76baa85d574\" class=\"plotly-graph-div\" style=\"height:1500px; width:830px;\"></div>\n",
       "            <script type=\"text/javascript\">\n",
       "                require([\"plotly\"], function(Plotly) {\n",
       "                    window.PLOTLYENV=window.PLOTLYENV || {};\n",
       "                    window.PLOTLYENV.BASE_URL='https://plot.ly';\n",
       "                    \n",
       "                if (document.getElementById(\"27030490-23a2-4bd9-a412-b76baa85d574\")) {\n",
       "                    Plotly.newPlot(\n",
       "                        '27030490-23a2-4bd9-a412-b76baa85d574',\n",
       "                        [{\"colorscale\": \"Viridis\", \"showscale\": false, \"type\": \"heatmap\", \"uid\": \"07fe6c2e-daf9-44e7-8632-ef145a838fb4\", \"x\": [\"0 (Predicted)\", \"1 (Predicted)\"], \"xaxis\": \"x\", \"xgap\": 2, \"y\": [\"0 (True)\", \"1 (True)\"], \"yaxis\": \"y\", \"ygap\": 2, \"z\": [[60, 46], [5, 86]]}, {\"marker\": {\"color\": [\"gold\", \"lightgreen\", \"lightcoral\", \"lightskyblue\"], \"line\": {\"color\": \"#000000\", \"width\": 1.5}}, \"opacity\": 0.8, \"orientation\": \"h\", \"text\": [0.9451, 0.7713, 0.7411, 0.6515], \"textposition\": \"auto\", \"type\": \"bar\", \"uid\": \"b2287173-c386-4c10-b660-ea97911f8b8a\", \"x\": [0.945054945054945, 0.7713004484304932, 0.7411167512690355, 0.6515151515151515], \"xaxis\": \"x2\", \"y\": [\"Recall\", \"F1_score\", \"Accuracy\", \"Precision\"], \"yaxis\": \"y2\"}, {\"fill\": \"tozeroy\", \"line\": {\"color\": \"rgb(22, 96, 167)\", \"width\": 2}, \"name\": \"Roc : 0.931\", \"type\": \"scatter\", \"uid\": \"0b7492d6-3cdd-466f-a588-b34e583bb05d\", \"x\": [0.0, 0.0, 0.0, 0.0, 0.0, 0.0, 0.0, 0.009433962264150943, 0.009433962264150943, 0.02830188679245283, 0.02830188679245283, 0.04716981132075472, 0.04716981132075472, 0.0660377358490566, 0.0660377358490566, 0.11320754716981132, 0.11320754716981132, 0.1509433962264151, 0.1509433962264151, 0.16037735849056603, 0.16037735849056603, 0.16981132075471697, 0.16981132075471697, 0.19811320754716982, 0.19811320754716982, 0.2641509433962264, 0.2641509433962264, 0.29245283018867924, 0.29245283018867924, 0.4811320754716981, 0.4811320754716981, 0.8962264150943396, 0.8962264150943396, 0.9245283018867925, 0.9245283018867925, 0.9339622641509434, 0.9339622641509434, 1.0, 1.0], \"xaxis\": \"x3\", \"y\": [0.0, 0.01098901098901099, 0.12087912087912088, 0.14285714285714285, 0.26373626373626374, 0.2857142857142857, 0.7802197802197802, 0.7802197802197802, 0.8021978021978022, 0.8021978021978022, 0.8241758241758241, 0.8241758241758241, 0.8351648351648352, 0.8351648351648352, 0.8461538461538461, 0.8461538461538461, 0.8571428571428571, 0.8571428571428571, 0.8681318681318682, 0.8681318681318682, 0.8791208791208791, 0.8791208791208791, 0.9010989010989011, 0.9010989010989011, 0.9120879120879121, 0.9120879120879121, 0.9230769230769231, 0.9230769230769231, 0.945054945054945, 0.945054945054945, 0.9560439560439561, 0.9560439560439561, 0.967032967032967, 0.967032967032967, 0.978021978021978, 0.978021978021978, 0.989010989010989, 0.989010989010989, 1.0], \"yaxis\": \"y3\"}, {\"line\": {\"color\": \"black\", \"dash\": \"dot\", \"width\": 1.5}, \"type\": \"scatter\", \"uid\": \"1842390d-1be0-4351-96d2-b12d213cc734\", \"x\": [0, 1], \"xaxis\": \"x3\", \"y\": [0, 1], \"yaxis\": \"y3\"}, {\"fill\": \"tozeroy\", \"line\": {\"color\": \"lightcoral\", \"width\": 2}, \"name\": \"Precision[0.46192893 0.45918367 0.46153846 0.46391753 0.46632124 0.46875\\n 0.47120419 0.47368421 0.47619048 0.47340426 0.47593583 0.47311828\\n 0.47567568 0.47826087 0.48087432 0.47802198 0.48066298 0.48333333\\n 0.48603352 0.48876404 0.49152542 0.49431818 0.49714286 0.5\\n 0.50289017 0.50581395 0.50877193 0.51176471 0.5147929  0.51785714\\n 0.52095808 0.52409639 0.52727273 0.5304878  0.53374233 0.53703704\\n 0.54037267 0.54375    0.54716981 0.55063291 0.55414013 0.55769231\\n 0.56129032 0.56493506 0.56862745 0.57236842 0.57615894 0.58\\n 0.58389262 0.58783784 0.59183673 0.59589041 0.6        0.60416667\\n 0.60839161 0.61267606 0.61702128 0.62142857 0.62589928 0.63043478\\n 0.62773723 0.63235294 0.63703704 0.64179104 0.64661654 0.65151515\\n 0.65648855 0.66153846 0.66666667 0.671875   0.67716535 0.68253968\\n 0.688      0.69354839 0.69918699 0.70491803 0.7107438  0.71666667\\n 0.72268908 0.72881356 0.73504274 0.73275862 0.73043478 0.73684211\\n 0.74336283 0.75       0.74774775 0.75454545 0.76146789 0.76851852\\n 0.77570093 0.78301887 0.79047619 0.79807692 0.7961165  0.80392157\\n 0.81188119 0.82       0.81818182 0.81632653 0.82474227 0.82291667\\n 0.83157895 0.82978723 0.83870968 0.84782609 0.85714286 0.86666667\\n 0.86516854 0.875      0.88505747 0.89534884 0.90588235 0.91666667\\n 0.91566265 0.92682927 0.9382716  0.9375     0.94936709 0.96153846\\n 0.96103896 0.96052632 0.97333333 0.98648649 0.98630137 0.98611111\\n 1.         1.         1.         1.         1.         1.\\n 1.         1.         1.         1.         1.         1.\\n 1.         1.         1.         1.         1.         1.\\n 1.         1.         1.         1.         1.         1.\\n 1.         1.         1.         1.         1.         1.\\n 1.         1.         1.         1.         1.         1.\\n 1.         1.         1.         1.         1.         1.\\n 1.         1.         1.         1.         1.         1.\\n 1.         1.         1.         1.         1.         1.\\n 1.         1.         1.         1.         1.         1.\\n 1.         1.         1.         1.         1.         1.\\n 1.         1.         1.         1.        ]\", \"type\": \"scatter\", \"uid\": \"990c3136-9b4a-4d13-81da-f00804340885\", \"x\": [1.0, 0.989010989010989, 0.989010989010989, 0.989010989010989, 0.989010989010989, 0.989010989010989, 0.989010989010989, 0.989010989010989, 0.989010989010989, 0.978021978021978, 0.978021978021978, 0.967032967032967, 0.967032967032967, 0.967032967032967, 0.967032967032967, 0.9560439560439561, 0.9560439560439561, 0.9560439560439561, 0.9560439560439561, 0.9560439560439561, 0.9560439560439561, 0.9560439560439561, 0.9560439560439561, 0.9560439560439561, 0.9560439560439561, 0.9560439560439561, 0.9560439560439561, 0.9560439560439561, 0.9560439560439561, 0.9560439560439561, 0.9560439560439561, 0.9560439560439561, 0.9560439560439561, 0.9560439560439561, 0.9560439560439561, 0.9560439560439561, 0.9560439560439561, 0.9560439560439561, 0.9560439560439561, 0.9560439560439561, 0.9560439560439561, 0.9560439560439561, 0.9560439560439561, 0.9560439560439561, 0.9560439560439561, 0.9560439560439561, 0.9560439560439561, 0.9560439560439561, 0.9560439560439561, 0.9560439560439561, 0.9560439560439561, 0.9560439560439561, 0.9560439560439561, 0.9560439560439561, 0.9560439560439561, 0.9560439560439561, 0.9560439560439561, 0.9560439560439561, 0.9560439560439561, 0.9560439560439561, 0.945054945054945, 0.945054945054945, 0.945054945054945, 0.945054945054945, 0.945054945054945, 0.945054945054945, 0.945054945054945, 0.945054945054945, 0.945054945054945, 0.945054945054945, 0.945054945054945, 0.945054945054945, 0.945054945054945, 0.945054945054945, 0.945054945054945, 0.945054945054945, 0.945054945054945, 0.945054945054945, 0.945054945054945, 0.945054945054945, 0.945054945054945, 0.9340659340659341, 0.9230769230769231, 0.9230769230769231, 0.9230769230769231, 0.9230769230769231, 0.9120879120879121, 0.9120879120879121, 0.9120879120879121, 0.9120879120879121, 0.9120879120879121, 0.9120879120879121, 0.9120879120879121, 0.9120879120879121, 0.9010989010989011, 0.9010989010989011, 0.9010989010989011, 0.9010989010989011, 0.8901098901098901, 0.8791208791208791, 0.8791208791208791, 0.8681318681318682, 0.8681318681318682, 0.8571428571428571, 0.8571428571428571, 0.8571428571428571, 0.8571428571428571, 0.8571428571428571, 0.8461538461538461, 0.8461538461538461, 0.8461538461538461, 0.8461538461538461, 0.8461538461538461, 0.8461538461538461, 0.8351648351648352, 0.8351648351648352, 0.8351648351648352, 0.8241758241758241, 0.8241758241758241, 0.8241758241758241, 0.8131868131868132, 0.8021978021978022, 0.8021978021978022, 0.8021978021978022, 0.7912087912087912, 0.7802197802197802, 0.7802197802197802, 0.7692307692307693, 0.7582417582417582, 0.7472527472527473, 0.7362637362637363, 0.7252747252747253, 0.7142857142857143, 0.7032967032967034, 0.6923076923076923, 0.6813186813186813, 0.6703296703296703, 0.6593406593406593, 0.6483516483516484, 0.6373626373626373, 0.6263736263736264, 0.6153846153846154, 0.6043956043956044, 0.5934065934065934, 0.5824175824175825, 0.5714285714285714, 0.5604395604395604, 0.5494505494505495, 0.5384615384615384, 0.5274725274725275, 0.5164835164835165, 0.5054945054945055, 0.4945054945054945, 0.4835164835164835, 0.4725274725274725, 0.46153846153846156, 0.45054945054945056, 0.43956043956043955, 0.42857142857142855, 0.4175824175824176, 0.4065934065934066, 0.3956043956043956, 0.38461538461538464, 0.37362637362637363, 0.3626373626373626, 0.3516483516483517, 0.34065934065934067, 0.32967032967032966, 0.31868131868131866, 0.3076923076923077, 0.2967032967032967, 0.2857142857142857, 0.26373626373626374, 0.25274725274725274, 0.24175824175824176, 0.23076923076923078, 0.21978021978021978, 0.2087912087912088, 0.1978021978021978, 0.18681318681318682, 0.17582417582417584, 0.16483516483516483, 0.15384615384615385, 0.14285714285714285, 0.12087912087912088, 0.10989010989010989, 0.0989010989010989, 0.08791208791208792, 0.07692307692307693, 0.06593406593406594, 0.054945054945054944, 0.04395604395604396, 0.03296703296703297, 0.02197802197802198, 0.01098901098901099, 0.0], \"xaxis\": \"x4\", \"y\": [0.4619289340101523, 0.45918367346938777, 0.46153846153846156, 0.4639175257731959, 0.46632124352331605, 0.46875, 0.4712041884816754, 0.47368421052631576, 0.47619047619047616, 0.4734042553191489, 0.47593582887700536, 0.4731182795698925, 0.4756756756756757, 0.4782608695652174, 0.4808743169398907, 0.47802197802197804, 0.48066298342541436, 0.48333333333333334, 0.4860335195530726, 0.4887640449438202, 0.4915254237288136, 0.4943181818181818, 0.49714285714285716, 0.5, 0.5028901734104047, 0.5058139534883721, 0.5087719298245614, 0.5117647058823529, 0.514792899408284, 0.5178571428571429, 0.5209580838323353, 0.5240963855421686, 0.5272727272727272, 0.5304878048780488, 0.5337423312883436, 0.5370370370370371, 0.5403726708074534, 0.54375, 0.5471698113207547, 0.5506329113924051, 0.554140127388535, 0.5576923076923077, 0.5612903225806452, 0.564935064935065, 0.5686274509803921, 0.5723684210526315, 0.5761589403973509, 0.58, 0.5838926174496645, 0.5878378378378378, 0.5918367346938775, 0.5958904109589042, 0.6, 0.6041666666666666, 0.6083916083916084, 0.6126760563380281, 0.6170212765957447, 0.6214285714285714, 0.6258992805755396, 0.6304347826086957, 0.6277372262773723, 0.6323529411764706, 0.6370370370370371, 0.6417910447761194, 0.6466165413533834, 0.6515151515151515, 0.6564885496183206, 0.6615384615384615, 0.6666666666666666, 0.671875, 0.6771653543307087, 0.6825396825396826, 0.688, 0.6935483870967742, 0.6991869918699187, 0.7049180327868853, 0.7107438016528925, 0.7166666666666667, 0.7226890756302521, 0.7288135593220338, 0.7350427350427351, 0.7327586206896551, 0.7304347826086957, 0.7368421052631579, 0.7433628318584071, 0.75, 0.7477477477477478, 0.7545454545454545, 0.7614678899082569, 0.7685185185185185, 0.7757009345794392, 0.7830188679245284, 0.7904761904761904, 0.7980769230769231, 0.7961165048543689, 0.803921568627451, 0.8118811881188119, 0.82, 0.8181818181818182, 0.8163265306122449, 0.8247422680412371, 0.8229166666666666, 0.8315789473684211, 0.8297872340425532, 0.8387096774193549, 0.8478260869565217, 0.8571428571428571, 0.8666666666666667, 0.8651685393258427, 0.875, 0.8850574712643678, 0.8953488372093024, 0.9058823529411765, 0.9166666666666666, 0.9156626506024096, 0.926829268292683, 0.9382716049382716, 0.9375, 0.9493670886075949, 0.9615384615384616, 0.961038961038961, 0.9605263157894737, 0.9733333333333334, 0.9864864864864865, 0.9863013698630136, 0.9861111111111112, 1.0, 1.0, 1.0, 1.0, 1.0, 1.0, 1.0, 1.0, 1.0, 1.0, 1.0, 1.0, 1.0, 1.0, 1.0, 1.0, 1.0, 1.0, 1.0, 1.0, 1.0, 1.0, 1.0, 1.0, 1.0, 1.0, 1.0, 1.0, 1.0, 1.0, 1.0, 1.0, 1.0, 1.0, 1.0, 1.0, 1.0, 1.0, 1.0, 1.0, 1.0, 1.0, 1.0, 1.0, 1.0, 1.0, 1.0, 1.0, 1.0, 1.0, 1.0, 1.0, 1.0, 1.0, 1.0, 1.0, 1.0, 1.0, 1.0, 1.0, 1.0, 1.0, 1.0, 1.0, 1.0, 1.0, 1.0, 1.0, 1.0, 1.0], \"yaxis\": \"y4\"}, {\"fill\": \"tozeroy\", \"line\": {\"color\": \"gold\", \"width\": 2}, \"name\": \"Lift curve\", \"type\": \"scatter\", \"uid\": \"b9516c2b-00f1-4a45-95d2-6a57dbe69233\", \"x\": [0.005076142131979695, 0.01015228426395939, 0.015228426395939087, 0.02030456852791878, 0.025380710659898477, 0.030456852791878174, 0.03553299492385787, 0.04060913705583756, 0.04568527918781726, 0.050761421319796954, 0.05583756345177665, 0.06091370558375635, 0.06598984771573604, 0.07106598984771574, 0.07614213197969544, 0.08121827411167512, 0.08629441624365482, 0.09137055837563451, 0.09644670050761421, 0.10152284263959391, 0.1065989847715736, 0.1116751269035533, 0.116751269035533, 0.1218274111675127, 0.12690355329949238, 0.1319796954314721, 0.13705583756345177, 0.14213197969543148, 0.14720812182741116, 0.15228426395939088, 0.15736040609137056, 0.16243654822335024, 0.16751269035532995, 0.17258883248730963, 0.17766497461928935, 0.18274111675126903, 0.18781725888324874, 0.19289340101522842, 0.19796954314720813, 0.20304568527918782, 0.20812182741116753, 0.2131979695431472, 0.2182741116751269, 0.2233502538071066, 0.22842639593908629, 0.233502538071066, 0.23857868020304568, 0.2436548223350254, 0.24873096446700507, 0.25380710659898476, 0.25888324873096447, 0.2639593908629442, 0.26903553299492383, 0.27411167512690354, 0.27918781725888325, 0.28426395939086296, 0.2893401015228426, 0.29441624365482233, 0.29949238578680204, 0.30456852791878175, 0.3096446700507614, 0.3147208121827411, 0.3197969543147208, 0.3248730964467005, 0.3299492385786802, 0.3350253807106599, 0.3401015228426396, 0.34517766497461927, 0.350253807106599, 0.3553299492385787, 0.3604060913705584, 0.36548223350253806, 0.37055837563451777, 0.3756345177664975, 0.38071065989847713, 0.38578680203045684, 0.39086294416243655, 0.39593908629441626, 0.4010152284263959, 0.40609137055837563, 0.41116751269035534, 0.41624365482233505, 0.4213197969543147, 0.4263959390862944, 0.43147208121827413, 0.4365482233502538, 0.4416243654822335, 0.4467005076142132, 0.4517766497461929, 0.45685279187817257, 0.4619289340101523, 0.467005076142132, 0.4720812182741117, 0.47715736040609136, 0.48223350253807107, 0.4873096446700508, 0.49238578680203043, 0.49746192893401014, 0.5025380710659898, 0.5076142131979695, 0.5126903553299492, 0.5177664974619289, 0.5228426395939086, 0.5279187817258884, 0.5329949238578681, 0.5380710659898477, 0.5431472081218274, 0.5482233502538071, 0.5532994923857868, 0.5583756345177665, 0.5634517766497462, 0.5685279187817259, 0.5736040609137056, 0.5786802030456852, 0.583756345177665, 0.5888324873096447, 0.5939086294416244, 0.5989847715736041, 0.6040609137055838, 0.6091370558375635, 0.6142131979695431, 0.6192893401015228, 0.6243654822335025, 0.6294416243654822, 0.6345177664974619, 0.6395939086294417, 0.6446700507614214, 0.649746192893401, 0.6548223350253807, 0.6598984771573604, 0.6649746192893401, 0.6700507614213198, 0.6751269035532995, 0.6802030456852792, 0.6852791878172588, 0.6903553299492385, 0.6954314720812182, 0.700507614213198, 0.7055837563451777, 0.7106598984771574, 0.7157360406091371, 0.7208121827411168, 0.7258883248730964, 0.7309644670050761, 0.7360406091370558, 0.7411167512690355, 0.7461928934010152, 0.751269035532995, 0.7563451776649747, 0.7614213197969543, 0.766497461928934, 0.7715736040609137, 0.7766497461928934, 0.7817258883248731, 0.7868020304568528, 0.7918781725888325, 0.7969543147208121, 0.8020304568527918, 0.8071065989847716, 0.8121827411167513, 0.817258883248731, 0.8223350253807107, 0.8274111675126904, 0.8324873096446701, 0.8375634517766497, 0.8426395939086294, 0.8477157360406091, 0.8527918781725888, 0.8578680203045685, 0.8629441624365483, 0.868020304568528, 0.8730964467005076, 0.8781725888324873, 0.883248730964467, 0.8883248730964467, 0.8934010152284264, 0.8984771573604061, 0.9035532994923858, 0.9086294416243654, 0.9137055837563451, 0.9187817258883249, 0.9238578680203046, 0.9289340101522843, 0.934010152284264, 0.9390862944162437, 0.9441624365482234, 0.949238578680203, 0.9543147208121827, 0.9593908629441624, 0.9644670050761421, 0.9695431472081218, 0.9746192893401016, 0.9796954314720813, 0.9847715736040609, 0.9898477157360406, 0.9949238578680203, 1.0, 1.0050761421319796, 1.0101522842639594, 1.015228426395939, 1.0203045685279188, 1.0253807106598984, 1.0304568527918783, 1.0355329949238579, 1.0406091370558375, 1.0456852791878173, 1.0507614213197969, 1.0558375634517767, 1.0609137055837563, 1.0659898477157361, 1.0710659898477157, 1.0761421319796953, 1.0812182741116751, 1.0862944162436547, 1.0913705583756346, 1.0964467005076142, 1.101522842639594, 1.1065989847715736, 1.1116751269035532, 1.116751269035533, 1.1218274111675126, 1.1269035532994924, 1.131979695431472, 1.1370558375634519, 1.1421319796954315, 1.1472081218274113, 1.1522842639593909, 1.1573604060913705, 1.1624365482233503, 1.16751269035533, 1.1725888324873097, 1.1776649746192893, 1.1827411167512691, 1.1878172588832487, 1.1928934010152283, 1.1979695431472082, 1.2030456852791878, 1.2081218274111676, 1.2131979695431472, 1.218274111675127, 1.2233502538071066, 1.2284263959390862, 1.233502538071066, 1.2385786802030456, 1.2436548223350254, 1.248730964467005, 1.2538071065989849, 1.2588832487309645, 1.263959390862944, 1.2690355329949239, 1.2741116751269035, 1.2791878172588833, 1.284263959390863, 1.2893401015228427, 1.2944162436548223, 1.299492385786802, 1.3045685279187818, 1.3096446700507614, 1.3147208121827412, 1.3197969543147208, 1.3248730964467006, 1.3299492385786802, 1.3350253807106598, 1.3401015228426396, 1.3451776649746192, 1.350253807106599, 1.3553299492385786, 1.3604060913705585, 1.365482233502538, 1.3705583756345177, 1.3756345177664975, 1.380710659898477, 1.385786802030457, 1.3908629441624365, 1.3959390862944163, 1.401015228426396, 1.4060913705583757, 1.4111675126903553, 1.416243654822335, 1.4213197969543148, 1.4263959390862944, 1.4314720812182742, 1.4365482233502538, 1.4416243654822336, 1.4467005076142132, 1.4517766497461928, 1.4568527918781726, 1.4619289340101522, 1.467005076142132, 1.4720812182741116, 1.4771573604060915, 1.482233502538071, 1.4873096446700507, 1.4923857868020305, 1.49746192893401, 1.50253807106599, 1.5076142131979695, 1.5126903553299493, 1.517766497461929, 1.5228426395939085, 1.5279187817258884, 1.532994923857868, 1.5380710659898478, 1.5431472081218274, 1.5482233502538072, 1.5532994923857868, 1.5583756345177664, 1.5634517766497462, 1.5685279187817258, 1.5736040609137056, 1.5786802030456852, 1.583756345177665, 1.5888324873096447, 1.5939086294416243, 1.598984771573604, 1.6040609137055837, 1.6091370558375635, 1.614213197969543, 1.619289340101523, 1.6243654822335025, 1.6294416243654823, 1.634517766497462, 1.6395939086294415, 1.6446700507614214, 1.649746192893401, 1.6548223350253808, 1.6598984771573604, 1.6649746192893402, 1.6700507614213198, 1.6751269035532994, 1.6802030456852792, 1.6852791878172588, 1.6903553299492386, 1.6954314720812182, 1.700507614213198, 1.7055837563451777, 1.7106598984771573, 1.715736040609137, 1.7208121827411167, 1.7258883248730965, 1.7309644670050761, 1.736040609137056, 1.7411167512690355, 1.7461928934010151, 1.751269035532995, 1.7563451776649746, 1.7614213197969544, 1.766497461928934, 1.7715736040609138, 1.7766497461928934, 1.781725888324873, 1.7868020304568528, 1.7918781725888324, 1.7969543147208122, 1.8020304568527918, 1.8071065989847717, 1.8121827411167513, 1.8172588832487309, 1.8223350253807107, 1.8274111675126903, 1.83248730964467, 1.8375634517766497, 1.8426395939086295, 1.8477157360406091, 1.8527918781725887, 1.8578680203045685, 1.8629441624365481, 1.868020304568528], \"xaxis\": \"x5\", \"y\": [0.01098901098901099, 0.02197802197802198, 0.03296703296703297, 0.04395604395604396, 0.054945054945054944, 0.06593406593406594, 0.07692307692307693, 0.08791208791208792, 0.0989010989010989, 0.10989010989010989, 0.12087912087912088, 0.13186813186813187, 0.14285714285714285, 0.15384615384615385, 0.16483516483516483, 0.17582417582417584, 0.18681318681318682, 0.1978021978021978, 0.2087912087912088, 0.21978021978021978, 0.23076923076923078, 0.24175824175824176, 0.25274725274725274, 0.26373626373626374, 0.27472527472527475, 0.2857142857142857, 0.2967032967032967, 0.3076923076923077, 0.31868131868131866, 0.32967032967032966, 0.34065934065934067, 0.3516483516483517, 0.3626373626373626, 0.37362637362637363, 0.38461538461538464, 0.3956043956043956, 0.4065934065934066, 0.4175824175824176, 0.42857142857142855, 0.43956043956043955, 0.45054945054945056, 0.46153846153846156, 0.4725274725274725, 0.4835164835164835, 0.4945054945054945, 0.5054945054945055, 0.5164835164835165, 0.5274725274725275, 0.5384615384615384, 0.5494505494505495, 0.5604395604395604, 0.5714285714285714, 0.5824175824175825, 0.5934065934065934, 0.6043956043956044, 0.6153846153846154, 0.6263736263736264, 0.6373626373626373, 0.6483516483516484, 0.6593406593406593, 0.6703296703296703, 0.6813186813186813, 0.6923076923076923, 0.7032967032967034, 0.7142857142857143, 0.7252747252747253, 0.7362637362637363, 0.7472527472527473, 0.7582417582417582, 0.7692307692307693, 0.7802197802197802, 0.7802197802197802, 0.7912087912087912, 0.8021978021978022, 0.8021978021978022, 0.8021978021978022, 0.8131868131868132, 0.8241758241758241, 0.8241758241758241, 0.8241758241758241, 0.8351648351648352, 0.8351648351648352, 0.8351648351648352, 0.8461538461538461, 0.8461538461538461, 0.8461538461538461, 0.8461538461538461, 0.8461538461538461, 0.8461538461538461, 0.8571428571428571, 0.8571428571428571, 0.8571428571428571, 0.8571428571428571, 0.8571428571428571, 0.8681318681318682, 0.8681318681318682, 0.8791208791208791, 0.8791208791208791, 0.8901098901098901, 0.9010989010989011, 0.9010989010989011, 0.9010989010989011, 0.9010989010989011, 0.9120879120879121, 0.9120879120879121, 0.9120879120879121, 0.9120879120879121, 0.9120879120879121, 0.9120879120879121, 0.9120879120879121, 0.9120879120879121, 0.9230769230769231, 0.9230769230769231, 0.9230769230769231, 0.9230769230769231, 0.9340659340659341, 0.945054945054945, 0.945054945054945, 0.945054945054945, 0.945054945054945, 0.945054945054945, 0.945054945054945, 0.945054945054945, 0.945054945054945, 0.945054945054945, 0.945054945054945, 0.945054945054945, 0.945054945054945, 0.945054945054945, 0.945054945054945, 0.945054945054945, 0.945054945054945, 0.945054945054945, 0.945054945054945, 0.945054945054945, 0.945054945054945, 0.945054945054945, 0.9560439560439561, 0.9560439560439561, 0.9560439560439561, 0.9560439560439561, 0.9560439560439561, 0.9560439560439561, 0.9560439560439561, 0.9560439560439561, 0.9560439560439561, 0.9560439560439561, 0.9560439560439561, 0.9560439560439561, 0.9560439560439561, 0.9560439560439561, 0.9560439560439561, 0.9560439560439561, 0.9560439560439561, 0.9560439560439561, 0.9560439560439561, 0.9560439560439561, 0.9560439560439561, 0.9560439560439561, 0.9560439560439561, 0.9560439560439561, 0.9560439560439561, 0.9560439560439561, 0.9560439560439561, 0.9560439560439561, 0.9560439560439561, 0.9560439560439561, 0.9560439560439561, 0.9560439560439561, 0.9560439560439561, 0.9560439560439561, 0.9560439560439561, 0.9560439560439561, 0.9560439560439561, 0.9560439560439561, 0.9560439560439561, 0.9560439560439561, 0.9560439560439561, 0.9560439560439561, 0.9560439560439561, 0.9560439560439561, 0.9560439560439561, 0.967032967032967, 0.967032967032967, 0.967032967032967, 0.967032967032967, 0.978021978021978, 0.978021978021978, 0.989010989010989, 0.989010989010989, 0.989010989010989, 0.989010989010989, 0.989010989010989, 0.989010989010989, 0.989010989010989, 0.989010989010989, 1.0], \"yaxis\": \"y5\"}],\n",
       "                        {\"annotations\": [{\"font\": {\"size\": 16}, \"showarrow\": false, \"text\": \"Confusion Matrix\", \"x\": 0.225, \"xanchor\": \"center\", \"xref\": \"paper\", \"y\": 1.0, \"yanchor\": \"bottom\", \"yref\": \"paper\"}, {\"font\": {\"size\": 16}, \"showarrow\": false, \"text\": \"Metrics\", \"x\": 0.775, \"xanchor\": \"center\", \"xref\": \"paper\", \"y\": 1.0, \"yanchor\": \"bottom\", \"yref\": \"paper\"}, {\"font\": {\"size\": 16}, \"showarrow\": false, \"text\": \"ROC Curve (0.931)\", \"x\": 0.225, \"xanchor\": \"center\", \"xref\": \"paper\", \"y\": 0.6111111111111112, \"yanchor\": \"bottom\", \"yref\": \"paper\"}, {\"font\": {\"size\": 16}, \"showarrow\": false, \"text\": \"Precision - Recall Curve\", \"x\": 0.775, \"xanchor\": \"center\", \"xref\": \"paper\", \"y\": 0.6111111111111112, \"yanchor\": \"bottom\", \"yref\": \"paper\"}, {\"font\": {\"size\": 16}, \"showarrow\": false, \"text\": \"Cumulative Gains Curve\", \"x\": 0.5, \"xanchor\": \"center\", \"xref\": \"paper\", \"y\": 0.22222222222222224, \"yanchor\": \"bottom\", \"yref\": \"paper\"}], \"autosize\": false, \"height\": 1500, \"margin\": {\"b\": 195}, \"paper_bgcolor\": \"rgba(240,240,240, 0.95)\", \"plot_bgcolor\": \"rgba(240,240,240, 0.95)\", \"showlegend\": false, \"title\": {\"font\": {\"size\": 14}, \"text\": \"<b>Model Performance Report</b><br>(clf_best_lr)\"}, \"width\": 830, \"xaxis\": {\"anchor\": \"y\", \"domain\": [0.0, 0.45]}, \"xaxis2\": {\"anchor\": \"y2\", \"domain\": [0.55, 1.0], \"range\": [0, 1]}, \"xaxis3\": {\"anchor\": \"y3\", \"domain\": [0.0, 0.45], \"title\": {\"text\": \"False Positive Rate\"}}, \"xaxis4\": {\"anchor\": \"y4\", \"domain\": [0.55, 1.0], \"range\": [0, 1.05], \"title\": {\"text\": \"Recall\"}}, \"xaxis5\": {\"anchor\": \"y5\", \"domain\": [0.0, 1.0], \"title\": {\"text\": \"Percentage Contacted\"}}, \"yaxis\": {\"anchor\": \"x\", \"domain\": [0.7777777777777778, 1.0]}, \"yaxis2\": {\"anchor\": \"x2\", \"domain\": [0.7777777777777778, 1.0]}, \"yaxis3\": {\"anchor\": \"x3\", \"domain\": [0.3888888888888889, 0.6111111111111112], \"title\": {\"text\": \"True Positive Rate\"}}, \"yaxis4\": {\"anchor\": \"x4\", \"domain\": [0.3888888888888889, 0.6111111111111112], \"range\": [0, 1.05], \"title\": {\"text\": \"Precision\"}}, \"yaxis5\": {\"anchor\": \"x5\", \"domain\": [0.0, 0.22222222222222224], \"title\": {\"text\": \"Percentage Positive Targeted\"}}},\n",
       "                        {\"showLink\": false, \"linkText\": \"Export to plot.ly\", \"plotlyServerURL\": \"https://plot.ly\", \"responsive\": true}\n",
       "                    ).then(function(){\n",
       "                            \n",
       "var gd = document.getElementById('27030490-23a2-4bd9-a412-b76baa85d574');\n",
       "var x = new MutationObserver(function (mutations, observer) {{\n",
       "        var display = window.getComputedStyle(gd).display;\n",
       "        if (!display || display === 'none') {{\n",
       "            console.log([gd, 'removed!']);\n",
       "            Plotly.purge(gd);\n",
       "            observer.disconnect();\n",
       "        }}\n",
       "}});\n",
       "\n",
       "// Listen for the removal of the full notebook cells\n",
       "var notebookContainer = gd.closest('#notebook-container');\n",
       "if (notebookContainer) {{\n",
       "    x.observe(notebookContainer, {childList: true});\n",
       "}}\n",
       "\n",
       "// Listen for the clearing of the current output cell\n",
       "var outputEl = gd.closest('.output');\n",
       "if (outputEl) {{\n",
       "    x.observe(outputEl, {childList: true});\n",
       "}}\n",
       "\n",
       "                        })\n",
       "                };\n",
       "                });\n",
       "            </script>\n",
       "        </div>"
      ]
     },
     "metadata": {},
     "output_type": "display_data"
    }
   ],
   "source": [
    "from bhishan.util_plot_model_eval import plotly_binary_clf_evaluation\n",
    "\n",
    "yscore_best_lr = clf_best_lr.decision_function(Xtest)\n",
    "\n",
    "ofile = '../reports/html/logistic_regression_model_evaluation.html'\n",
    "plotly_binary_clf_evaluation('clf_best_lr',clf_best_lr,ytest,\n",
    "                             ypreds_best_lr,yscore_best_lr,\n",
    "                             df_under,ofile=ofile,show=False)\n",
    "\n",
    "plotly_binary_clf_evaluation('clf_best_lr',clf_best_lr,ytest,\n",
    "                             ypreds_best_lr,yscore_best_lr,\n",
    "                             df_under[features_with_log],show=True)"
   ]
  },
  {
   "cell_type": "markdown",
   "metadata": {
    "ExecuteTime": {
     "end_time": "2019-10-13T17:05:58.847511Z",
     "start_time": "2019-10-13T17:05:58.769237Z"
    }
   },
   "source": [
    "## Feature Importances from Random Forest Classifier"
   ]
  },
  {
   "cell_type": "code",
   "execution_count": 136,
   "metadata": {
    "ExecuteTime": {
     "end_time": "2019-10-20T19:16:15.117106Z",
     "start_time": "2019-10-20T19:16:13.942132Z"
    }
   },
   "outputs": [
    {
     "data": {
      "image/png": "[encoded data removed]",
      "text/plain": [
       "<Figure size 576x288 with 1 Axes>"
      ]
     },
     "metadata": {
      "needs_background": "light"
     },
     "output_type": "display_data"
    }
   ],
   "source": [
    "features = df.columns.difference(['Amount','Time','Class']).values\n",
    "\n",
    "fname = '../models/serialization/clf_best_rfc.pkl'\n",
    "clf_best_rfc = joblib.load(fname)\n",
    "\n",
    "df_imp = pd.DataFrame(data=clf_best_rfc.feature_importances_,\n",
    "             index=features).sort_values(by=0,ascending=False)\n",
    "\n",
    "\n",
    "df_imp.plot.bar(figsize=(8,4))\n",
    "plt.tight_layout()\n",
    "plt.savefig('../reports/clf_best_rfc_feature_importances.png', dpi=300)"
   ]
  },
  {
   "cell_type": "code",
   "execution_count": null,
   "metadata": {},
   "outputs": [],
   "source": []
  }
 ],
 "metadata": {
  "kernelspec": {
   "display_name": "Python (dataSc)",
   "language": "python",
   "name": "datasc"
  },
  "language_info": {
   "codemirror_mode": {
    "name": "ipython",
    "version": 3
   },
   "file_extension": ".py",
   "mimetype": "text/x-python",
   "name": "python",
   "nbconvert_exporter": "python",
   "pygments_lexer": "ipython3",
   "version": "3.7.7"
  },
  "toc": {
   "base_numbering": 1,
   "nav_menu": {},
   "number_sections": true,
   "sideBar": true,
   "skip_h1_title": false,
   "title_cell": "Table of Contents",
   "title_sidebar": "Contents",
   "toc_cell": true,
   "toc_position": {},
   "toc_section_display": true,
   "toc_window_display": true
  }
 },
 "nbformat": 4,
 "nbformat_minor": 2
}
