{
 "cells": [
  {
   "cell_type": "markdown",
   "metadata": {
    "toc": true
   },
   "source": [
    "<h1>Table of Contents<span class=\"tocSkip\"></span></h1>\n",
    "<div class=\"toc\"><ul class=\"toc-item\"><li><span><a href=\"#Data-Description\" data-toc-modified-id=\"Data-Description-1\"><span class=\"toc-item-num\">1&nbsp;&nbsp;</span>Data Description</a></span></li><li><span><a href=\"#Imports\" data-toc-modified-id=\"Imports-2\"><span class=\"toc-item-num\">2&nbsp;&nbsp;</span>Imports</a></span></li><li><span><a href=\"#Useful-Scripts\" data-toc-modified-id=\"Useful-Scripts-3\"><span class=\"toc-item-num\">3&nbsp;&nbsp;</span>Useful Scripts</a></span></li><li><span><a href=\"#Load-the-data\" data-toc-modified-id=\"Load-the-data-4\"><span class=\"toc-item-num\">4&nbsp;&nbsp;</span>Load the data</a></span></li><li><span><a href=\"#Train-test-split-with-stratify\" data-toc-modified-id=\"Train-test-split-with-stratify-5\"><span class=\"toc-item-num\">5&nbsp;&nbsp;</span>Train test split with stratify</a></span></li><li><span><a href=\"#Classification:-isolationForest\" data-toc-modified-id=\"Classification:-isolationForest-6\"><span class=\"toc-item-num\">6&nbsp;&nbsp;</span>Classification: isolationForest</a></span></li><li><span><a href=\"#Classification:-LOF-(Local-Outlier-Factor)\" data-toc-modified-id=\"Classification:-LOF-(Local-Outlier-Factor)-7\"><span class=\"toc-item-num\">7&nbsp;&nbsp;</span>Classification: LOF (Local Outlier Factor)</a></span></li><li><span><a href=\"#Classification-Evaluation-Metrics\" data-toc-modified-id=\"Classification-Evaluation-Metrics-8\"><span class=\"toc-item-num\">8&nbsp;&nbsp;</span>Classification Evaluation Metrics</a></span></li></ul></div>"
   ]
  },
  {
   "cell_type": "markdown",
   "metadata": {},
   "source": [
    "# Data Description\n",
    "\n",
    "The datasets contains transactions made by credit cards in September\n",
    "2013 by european cardholders.\n",
    "\n",
    "\n",
    "This dataset presents transactions that occurred in two days,\n",
    "where we have 492 frauds out of 284,807 transactions. \n",
    "\n",
    "The dataset is highly unbalanced, the positive class (frauds)\n",
    "account for 0.172% of all transactions.\n",
    "\n",
    "It contains only numerical input variables which are\n",
    "the result of a PCA transformation.\n",
    "\n",
    "\n",
    "Unfortunately, due to confidentiality issues,\n",
    "we cannot provide the original features and \n",
    "more background information about the data.\n",
    "\n",
    "\n",
    "Features V1, V2, ... V28 are the principal\n",
    "components obtained with PCA,\n",
    "the only features which have not been transformed with PCA are 'Time' and 'Amount'. \n",
    "\n",
    "Feature 'Time' contains the seconds elapsed between each transaction\n",
    "and the first transaction in the dataset. The feature 'Amount'\n",
    "is the transaction Amount, this feature can be used for \n",
    "example-dependant cost-senstive learning. \n",
    "\n",
    "Feature 'Class' is the response variable and it takes value\n",
    "1 in case of fraud and 0 otherwise."
   ]
  },
  {
   "cell_type": "markdown",
   "metadata": {},
   "source": [
    "# Imports"
   ]
  },
  {
   "cell_type": "code",
   "execution_count": 1,
   "metadata": {
    "ExecuteTime": {
     "end_time": "2019-10-20T19:48:18.860015Z",
     "start_time": "2019-10-20T19:48:18.851645Z"
    }
   },
   "outputs": [],
   "source": [
    "import bhishan"
   ]
  },
  {
   "cell_type": "code",
   "execution_count": 2,
   "metadata": {
    "ExecuteTime": {
     "end_time": "2019-10-20T19:48:19.511891Z",
     "start_time": "2019-10-20T19:48:19.475716Z"
    }
   },
   "outputs": [],
   "source": [
    "%load_ext autoreload\n",
    "\n",
    "%autoreload 2"
   ]
  },
  {
   "cell_type": "code",
   "execution_count": 3,
   "metadata": {
    "ExecuteTime": {
     "end_time": "2019-10-20T19:48:21.573972Z",
     "start_time": "2019-10-20T19:48:20.147289Z"
    }
   },
   "outputs": [
    {
     "name": "stdout",
     "output_type": "stream",
     "text": [
      "[('numpy', '1.16.4'), ('pandas', '0.25.0'), ('seaborn', '0.9.0'), ('matplotlib', '3.1.1')]\n"
     ]
    }
   ],
   "source": [
    "import numpy as np\n",
    "import pandas as pd\n",
    "import seaborn as sns\n",
    "sns.set(color_codes=True)\n",
    "\n",
    "import matplotlib\n",
    "import matplotlib.pyplot as plt\n",
    "%matplotlib inline\n",
    "\n",
    "import os\n",
    "import time\n",
    "\n",
    "# random state\n",
    "random_state=100\n",
    "np.random.seed=random_state\n",
    "np.random.set_state=random_state\n",
    "\n",
    "# Jupyter notebook settings for pandas\n",
    "pd.set_option('display.max_columns', 200)\n",
    "pd.set_option('display.max_rows', 100) # None for all the rows\n",
    "pd.set_option('display.max_colwidth', 50)\n",
    "\n",
    "print([(x.__name__,x.__version__) for x in [np, pd,sns,matplotlib]])"
   ]
  },
  {
   "cell_type": "code",
   "execution_count": 4,
   "metadata": {
    "ExecuteTime": {
     "end_time": "2019-10-20T19:48:23.443367Z",
     "start_time": "2019-10-20T19:48:23.393881Z"
    }
   },
   "outputs": [],
   "source": [
    "import scipy\n",
    "from scipy import stats"
   ]
  },
  {
   "cell_type": "code",
   "execution_count": 5,
   "metadata": {
    "ExecuteTime": {
     "end_time": "2019-10-20T19:48:24.902569Z",
     "start_time": "2019-10-20T19:48:24.177080Z"
    }
   },
   "outputs": [],
   "source": [
    "# scale and split\n",
    "from sklearn.preprocessing import MinMaxScaler, StandardScaler, RobustScaler\n",
    "from sklearn.model_selection import train_test_split\n",
    "from sklearn.model_selection import StratifiedKFold"
   ]
  },
  {
   "cell_type": "code",
   "execution_count": 6,
   "metadata": {
    "ExecuteTime": {
     "end_time": "2019-10-20T19:48:25.038167Z",
     "start_time": "2019-10-20T19:48:24.904470Z"
    }
   },
   "outputs": [],
   "source": [
    "# classifiers\n",
    "from sklearn.ensemble import IsolationForest\n",
    "from sklearn.neighbors import LocalOutlierFactor\n",
    "from sklearn.svm import OneClassSVM"
   ]
  },
  {
   "cell_type": "code",
   "execution_count": 7,
   "metadata": {
    "ExecuteTime": {
     "end_time": "2019-10-20T19:48:25.512729Z",
     "start_time": "2019-10-20T19:48:25.474998Z"
    }
   },
   "outputs": [],
   "source": [
    "# roc auc etc scores\n",
    "from sklearn.metrics import auc\n",
    "from sklearn.metrics import roc_auc_score\n",
    "from sklearn.metrics import precision_score\n",
    "from sklearn.metrics import recall_score\n",
    "from sklearn.metrics import f1_score\n",
    "from sklearn.metrics import accuracy_score\n",
    "from sklearn.metrics import average_precision_score"
   ]
  },
  {
   "cell_type": "code",
   "execution_count": 8,
   "metadata": {
    "ExecuteTime": {
     "end_time": "2019-10-20T19:48:26.156070Z",
     "start_time": "2019-10-20T19:48:26.118943Z"
    }
   },
   "outputs": [],
   "source": [
    "# roc auc curves\n",
    "from sklearn.metrics import roc_curve\n",
    "from sklearn.metrics import precision_recall_curve"
   ]
  },
  {
   "cell_type": "code",
   "execution_count": 9,
   "metadata": {
    "ExecuteTime": {
     "end_time": "2019-10-20T19:48:26.834010Z",
     "start_time": "2019-10-20T19:48:26.789662Z"
    }
   },
   "outputs": [],
   "source": [
    "# confusion matrix\n",
    "from sklearn.metrics import classification_report\n",
    "from sklearn.metrics import confusion_matrix"
   ]
  },
  {
   "cell_type": "code",
   "execution_count": 10,
   "metadata": {
    "ExecuteTime": {
     "end_time": "2019-10-20T19:48:27.483773Z",
     "start_time": "2019-10-20T19:48:27.441175Z"
    }
   },
   "outputs": [],
   "source": [
    "from sklearn.metrics import accuracy_score\n",
    "from sklearn.metrics import precision_score\n",
    "from sklearn.metrics import recall_score\n",
    "from sklearn.metrics import f1_score\n",
    "from sklearn.metrics import precision_recall_fscore_support\n",
    "from sklearn.metrics import classification_report\n",
    "from sklearn.metrics import confusion_matrix"
   ]
  },
  {
   "cell_type": "markdown",
   "metadata": {},
   "source": [
    "# Useful Scripts"
   ]
  },
  {
   "cell_type": "code",
   "execution_count": 11,
   "metadata": {
    "ExecuteTime": {
     "end_time": "2019-10-20T19:48:29.202440Z",
     "start_time": "2019-10-20T19:48:29.162774Z"
    }
   },
   "outputs": [],
   "source": [
    "def show_method_attributes(method, ncols=7,exclude=None):\n",
    "    \"\"\" Show all the attributes of a given method.\n",
    "    Example:\n",
    "    ========\n",
    "    show_method_attributes(list)\n",
    "     \"\"\"\n",
    "    x = [I for I in dir(method) if I[0]!='_' ]\n",
    "    x = [I for I in x \n",
    "         if I not in 'os np pd sys time psycopg2'.split()\n",
    "         if (exclude not in i)\n",
    "        ]\n",
    "             \n",
    "\n",
    "    return pd.DataFrame(np.array_split(x,ncols)).T.fillna('')"
   ]
  },
  {
   "cell_type": "markdown",
   "metadata": {},
   "source": [
    "# Load the data"
   ]
  },
  {
   "cell_type": "code",
   "execution_count": 12,
   "metadata": {
    "ExecuteTime": {
     "end_time": "2019-10-20T19:48:33.128368Z",
     "start_time": "2019-10-20T19:48:30.857166Z"
    }
   },
   "outputs": [
    {
     "name": "stdout",
     "output_type": "stream",
     "text": [
      "(284807, 31)\n"
     ]
    },
    {
     "data": {
      "text/html": [
       "<div>\n",
       "<style scoped>\n",
       "    .dataframe tbody tr th:only-of-type {\n",
       "        vertical-align: middle;\n",
       "    }\n",
       "\n",
       "    .dataframe tbody tr th {\n",
       "        vertical-align: top;\n",
       "    }\n",
       "\n",
       "    .dataframe thead th {\n",
       "        text-align: right;\n",
       "    }\n",
       "</style>\n",
       "<table border=\"1\" class=\"dataframe\">\n",
       "  <thead>\n",
       "    <tr style=\"text-align: right;\">\n",
       "      <th></th>\n",
       "      <th>Time</th>\n",
       "      <th>V1</th>\n",
       "      <th>V2</th>\n",
       "      <th>V3</th>\n",
       "      <th>V4</th>\n",
       "      <th>V5</th>\n",
       "      <th>V6</th>\n",
       "      <th>V7</th>\n",
       "      <th>V8</th>\n",
       "      <th>V9</th>\n",
       "      <th>V10</th>\n",
       "      <th>V11</th>\n",
       "      <th>V12</th>\n",
       "      <th>V13</th>\n",
       "      <th>V14</th>\n",
       "      <th>V15</th>\n",
       "      <th>V16</th>\n",
       "      <th>V17</th>\n",
       "      <th>V18</th>\n",
       "      <th>V19</th>\n",
       "      <th>V20</th>\n",
       "      <th>V21</th>\n",
       "      <th>V22</th>\n",
       "      <th>V23</th>\n",
       "      <th>V24</th>\n",
       "      <th>V25</th>\n",
       "      <th>V26</th>\n",
       "      <th>V27</th>\n",
       "      <th>V28</th>\n",
       "      <th>Amount</th>\n",
       "      <th>Class</th>\n",
       "    </tr>\n",
       "  </thead>\n",
       "  <tbody>\n",
       "    <tr>\n",
       "      <th>0</th>\n",
       "      <td>0.0</td>\n",
       "      <td>-1.359807</td>\n",
       "      <td>-0.072781</td>\n",
       "      <td>2.536347</td>\n",
       "      <td>1.378155</td>\n",
       "      <td>-0.338321</td>\n",
       "      <td>0.462388</td>\n",
       "      <td>0.239599</td>\n",
       "      <td>0.098698</td>\n",
       "      <td>0.363787</td>\n",
       "      <td>0.090794</td>\n",
       "      <td>-0.551600</td>\n",
       "      <td>-0.617801</td>\n",
       "      <td>-0.991390</td>\n",
       "      <td>-0.311169</td>\n",
       "      <td>1.468177</td>\n",
       "      <td>-0.470401</td>\n",
       "      <td>0.207971</td>\n",
       "      <td>0.025791</td>\n",
       "      <td>0.403993</td>\n",
       "      <td>0.251412</td>\n",
       "      <td>-0.018307</td>\n",
       "      <td>0.277838</td>\n",
       "      <td>-0.110474</td>\n",
       "      <td>0.066928</td>\n",
       "      <td>0.128539</td>\n",
       "      <td>-0.189115</td>\n",
       "      <td>0.133558</td>\n",
       "      <td>-0.021053</td>\n",
       "      <td>149.62</td>\n",
       "      <td>0</td>\n",
       "    </tr>\n",
       "    <tr>\n",
       "      <th>1</th>\n",
       "      <td>0.0</td>\n",
       "      <td>1.191857</td>\n",
       "      <td>0.266151</td>\n",
       "      <td>0.166480</td>\n",
       "      <td>0.448154</td>\n",
       "      <td>0.060018</td>\n",
       "      <td>-0.082361</td>\n",
       "      <td>-0.078803</td>\n",
       "      <td>0.085102</td>\n",
       "      <td>-0.255425</td>\n",
       "      <td>-0.166974</td>\n",
       "      <td>1.612727</td>\n",
       "      <td>1.065235</td>\n",
       "      <td>0.489095</td>\n",
       "      <td>-0.143772</td>\n",
       "      <td>0.635558</td>\n",
       "      <td>0.463917</td>\n",
       "      <td>-0.114805</td>\n",
       "      <td>-0.183361</td>\n",
       "      <td>-0.145783</td>\n",
       "      <td>-0.069083</td>\n",
       "      <td>-0.225775</td>\n",
       "      <td>-0.638672</td>\n",
       "      <td>0.101288</td>\n",
       "      <td>-0.339846</td>\n",
       "      <td>0.167170</td>\n",
       "      <td>0.125895</td>\n",
       "      <td>-0.008983</td>\n",
       "      <td>0.014724</td>\n",
       "      <td>2.69</td>\n",
       "      <td>0</td>\n",
       "    </tr>\n",
       "    <tr>\n",
       "      <th>2</th>\n",
       "      <td>1.0</td>\n",
       "      <td>-1.358354</td>\n",
       "      <td>-1.340163</td>\n",
       "      <td>1.773209</td>\n",
       "      <td>0.379780</td>\n",
       "      <td>-0.503198</td>\n",
       "      <td>1.800499</td>\n",
       "      <td>0.791461</td>\n",
       "      <td>0.247676</td>\n",
       "      <td>-1.514654</td>\n",
       "      <td>0.207643</td>\n",
       "      <td>0.624501</td>\n",
       "      <td>0.066084</td>\n",
       "      <td>0.717293</td>\n",
       "      <td>-0.165946</td>\n",
       "      <td>2.345865</td>\n",
       "      <td>-2.890083</td>\n",
       "      <td>1.109969</td>\n",
       "      <td>-0.121359</td>\n",
       "      <td>-2.261857</td>\n",
       "      <td>0.524980</td>\n",
       "      <td>0.247998</td>\n",
       "      <td>0.771679</td>\n",
       "      <td>0.909412</td>\n",
       "      <td>-0.689281</td>\n",
       "      <td>-0.327642</td>\n",
       "      <td>-0.139097</td>\n",
       "      <td>-0.055353</td>\n",
       "      <td>-0.059752</td>\n",
       "      <td>378.66</td>\n",
       "      <td>0</td>\n",
       "    </tr>\n",
       "    <tr>\n",
       "      <th>3</th>\n",
       "      <td>1.0</td>\n",
       "      <td>-0.966272</td>\n",
       "      <td>-0.185226</td>\n",
       "      <td>1.792993</td>\n",
       "      <td>-0.863291</td>\n",
       "      <td>-0.010309</td>\n",
       "      <td>1.247203</td>\n",
       "      <td>0.237609</td>\n",
       "      <td>0.377436</td>\n",
       "      <td>-1.387024</td>\n",
       "      <td>-0.054952</td>\n",
       "      <td>-0.226487</td>\n",
       "      <td>0.178228</td>\n",
       "      <td>0.507757</td>\n",
       "      <td>-0.287924</td>\n",
       "      <td>-0.631418</td>\n",
       "      <td>-1.059647</td>\n",
       "      <td>-0.684093</td>\n",
       "      <td>1.965775</td>\n",
       "      <td>-1.232622</td>\n",
       "      <td>-0.208038</td>\n",
       "      <td>-0.108300</td>\n",
       "      <td>0.005274</td>\n",
       "      <td>-0.190321</td>\n",
       "      <td>-1.175575</td>\n",
       "      <td>0.647376</td>\n",
       "      <td>-0.221929</td>\n",
       "      <td>0.062723</td>\n",
       "      <td>0.061458</td>\n",
       "      <td>123.50</td>\n",
       "      <td>0</td>\n",
       "    </tr>\n",
       "    <tr>\n",
       "      <th>4</th>\n",
       "      <td>2.0</td>\n",
       "      <td>-1.158233</td>\n",
       "      <td>0.877737</td>\n",
       "      <td>1.548718</td>\n",
       "      <td>0.403034</td>\n",
       "      <td>-0.407193</td>\n",
       "      <td>0.095921</td>\n",
       "      <td>0.592941</td>\n",
       "      <td>-0.270533</td>\n",
       "      <td>0.817739</td>\n",
       "      <td>0.753074</td>\n",
       "      <td>-0.822843</td>\n",
       "      <td>0.538196</td>\n",
       "      <td>1.345852</td>\n",
       "      <td>-1.119670</td>\n",
       "      <td>0.175121</td>\n",
       "      <td>-0.451449</td>\n",
       "      <td>-0.237033</td>\n",
       "      <td>-0.038195</td>\n",
       "      <td>0.803487</td>\n",
       "      <td>0.408542</td>\n",
       "      <td>-0.009431</td>\n",
       "      <td>0.798278</td>\n",
       "      <td>-0.137458</td>\n",
       "      <td>0.141267</td>\n",
       "      <td>-0.206010</td>\n",
       "      <td>0.502292</td>\n",
       "      <td>0.219422</td>\n",
       "      <td>0.215153</td>\n",
       "      <td>69.99</td>\n",
       "      <td>0</td>\n",
       "    </tr>\n",
       "  </tbody>\n",
       "</table>\n",
       "</div>"
      ],
      "text/plain": [
       "   Time        V1        V2        V3        V4        V5        V6        V7  \\\n",
       "0   0.0 -1.359807 -0.072781  2.536347  1.378155 -0.338321  0.462388  0.239599   \n",
       "1   0.0  1.191857  0.266151  0.166480  0.448154  0.060018 -0.082361 -0.078803   \n",
       "2   1.0 -1.358354 -1.340163  1.773209  0.379780 -0.503198  1.800499  0.791461   \n",
       "3   1.0 -0.966272 -0.185226  1.792993 -0.863291 -0.010309  1.247203  0.237609   \n",
       "4   2.0 -1.158233  0.877737  1.548718  0.403034 -0.407193  0.095921  0.592941   \n",
       "\n",
       "         V8        V9       V10       V11       V12       V13       V14  \\\n",
       "0  0.098698  0.363787  0.090794 -0.551600 -0.617801 -0.991390 -0.311169   \n",
       "1  0.085102 -0.255425 -0.166974  1.612727  1.065235  0.489095 -0.143772   \n",
       "2  0.247676 -1.514654  0.207643  0.624501  0.066084  0.717293 -0.165946   \n",
       "3  0.377436 -1.387024 -0.054952 -0.226487  0.178228  0.507757 -0.287924   \n",
       "4 -0.270533  0.817739  0.753074 -0.822843  0.538196  1.345852 -1.119670   \n",
       "\n",
       "        V15       V16       V17       V18       V19       V20       V21  \\\n",
       "0  1.468177 -0.470401  0.207971  0.025791  0.403993  0.251412 -0.018307   \n",
       "1  0.635558  0.463917 -0.114805 -0.183361 -0.145783 -0.069083 -0.225775   \n",
       "2  2.345865 -2.890083  1.109969 -0.121359 -2.261857  0.524980  0.247998   \n",
       "3 -0.631418 -1.059647 -0.684093  1.965775 -1.232622 -0.208038 -0.108300   \n",
       "4  0.175121 -0.451449 -0.237033 -0.038195  0.803487  0.408542 -0.009431   \n",
       "\n",
       "        V22       V23       V24       V25       V26       V27       V28  \\\n",
       "0  0.277838 -0.110474  0.066928  0.128539 -0.189115  0.133558 -0.021053   \n",
       "1 -0.638672  0.101288 -0.339846  0.167170  0.125895 -0.008983  0.014724   \n",
       "2  0.771679  0.909412 -0.689281 -0.327642 -0.139097 -0.055353 -0.059752   \n",
       "3  0.005274 -0.190321 -1.175575  0.647376 -0.221929  0.062723  0.061458   \n",
       "4  0.798278 -0.137458  0.141267 -0.206010  0.502292  0.219422  0.215153   \n",
       "\n",
       "   Amount  Class  \n",
       "0  149.62      0  \n",
       "1    2.69      0  \n",
       "2  378.66      0  \n",
       "3  123.50      0  \n",
       "4   69.99      0  "
      ]
     },
     "execution_count": 12,
     "metadata": {},
     "output_type": "execute_result"
    }
   ],
   "source": [
    "df = pd.read_csv('../data/raw/creditcard.csv.zip',compression='zip')\n",
    "print(df.shape)\n",
    "df.head()"
   ]
  },
  {
   "cell_type": "markdown",
   "metadata": {},
   "source": [
    "# Train test split with stratify"
   ]
  },
  {
   "cell_type": "code",
   "execution_count": 13,
   "metadata": {
    "ExecuteTime": {
     "end_time": "2019-10-20T19:48:33.554039Z",
     "start_time": "2019-10-20T19:48:33.309372Z"
    }
   },
   "outputs": [
    {
     "data": {
      "text/plain": [
       "((284807, 31), (227845, 30), (56962, 30))"
      ]
     },
     "execution_count": 13,
     "metadata": {},
     "output_type": "execute_result"
    }
   ],
   "source": [
    "from sklearn.model_selection import train_test_split\n",
    "\n",
    "target = 'Class'\n",
    "Xtrain, Xtest, ytrain, ytest = train_test_split(\n",
    "    df.drop(target,axis=1), df[target],\n",
    "    test_size=0.2, random_state=random_state, stratify=df[target])\n",
    "\n",
    "df.shape, Xtrain.shape, Xtest.shape"
   ]
  },
  {
   "cell_type": "code",
   "execution_count": 14,
   "metadata": {
    "ExecuteTime": {
     "end_time": "2019-10-20T19:48:34.281280Z",
     "start_time": "2019-10-20T19:48:34.242404Z"
    }
   },
   "outputs": [],
   "source": [
    "outlier_fraction = ytrain[ytrain==1].shape[0] /   ytrain[ytrain==0].shape[0]"
   ]
  },
  {
   "cell_type": "markdown",
   "metadata": {},
   "source": [
    "# Classification: isolationForest\n",
    "\n",
    "Reference:   \n",
    "scikit learn  \n",
    "https://scikit-learn.org/stable/modules/outlier_detection.html\n",
    "\n",
    "One efficient way of performing outlier detection in high-dimensional datasets is to use random forests. The ensemble.IsolationForest ‘isolates’ observations by randomly selecting a feature and then randomly selecting a split value between the maximum and minimum values of the selected feature.\n",
    "\n",
    "Since recursive partitioning can be represented by a tree structure, the number of splittings required to isolate a sample is equivalent to the path length from the root node to the terminating node.\n",
    "\n",
    "This path length, averaged over a forest of such random trees, is a measure of normality and our decision function.\n",
    "\n",
    "Random partitioning produces noticeably shorter paths for anomalies. Hence, when a forest of random trees collectively produce shorter path lengths for particular samples, they are highly likely to be anomalies.\n",
    "\n",
    "The implementation of ensemble.IsolationForest is based on an ensemble of tree.ExtraTreeRegressor. Following Isolation Forest original paper, the maximum depth of each tree is set to  where  is the number of samples used to build the tree (see (Liu et al., 2008) for more details).\n",
    "\n",
    "This algorithm is illustrated below.\n",
    "![](../images/isolation_forest_sklearn.png)"
   ]
  },
  {
   "cell_type": "code",
   "execution_count": 15,
   "metadata": {
    "ExecuteTime": {
     "end_time": "2019-10-20T19:48:58.451276Z",
     "start_time": "2019-10-20T19:48:40.298416Z"
    }
   },
   "outputs": [
    {
     "name": "stderr",
     "output_type": "stream",
     "text": [
      "[Parallel(n_jobs=4)]: Using backend ThreadingBackend with 4 concurrent workers.\n",
      "[Parallel(n_jobs=4)]: Done   2 out of   4 | elapsed:    3.5s remaining:    3.5s\n",
      "[Parallel(n_jobs=4)]: Done   4 out of   4 | elapsed:    3.7s finished\n"
     ]
    },
    {
     "name": "stdout",
     "output_type": "stream",
     "text": [
      "              precision    recall  f1-score   support\n",
      "\n",
      "           0       1.00      1.00      1.00     56864\n",
      "           1       0.25      0.26      0.25        98\n",
      "\n",
      "    accuracy                           1.00     56962\n",
      "   macro avg       0.62      0.63      0.62     56962\n",
      "weighted avg       1.00      1.00      1.00     56962\n",
      "\n",
      "CPU times: user 23.5 s, sys: 1.85 s, total: 25.3 s\n",
      "Wall time: 18.1 s\n"
     ]
    }
   ],
   "source": [
    "%%time\n",
    "\n",
    "clf_iso = IsolationForest(n_estimators=100,\n",
    "                      max_samples=len(Xtrain),\n",
    "                      n_jobs=-1,\n",
    "                      contamination=outlier_fraction,\n",
    "                      random_state=random_state,\n",
    "                      verbose=1,\n",
    "                      behaviour='new')\n",
    "\n",
    "\n",
    "# fitting  \n",
    "clf_iso.fit(Xtrain)\n",
    "\n",
    "# prediction\n",
    "scores_prediction = clf_iso.decision_function(Xtest)\n",
    "ypreds = clf_iso.predict(Xtest)\n",
    "\n",
    "# algorithm gives 1 and -1 classes, make them 0 and 1\n",
    "ypreds[ypreds == 1] = 0\n",
    "ypreds[ypreds == -1] = 1\n",
    "\n",
    "ypreds_iso = ypreds\n",
    "\n",
    "print(classification_report(ytest, ypreds_iso))"
   ]
  },
  {
   "cell_type": "code",
   "execution_count": 43,
   "metadata": {
    "ExecuteTime": {
     "end_time": "2019-10-20T20:14:14.925081Z",
     "start_time": "2019-10-20T20:14:14.847002Z"
    }
   },
   "outputs": [
    {
     "data": {
      "text/plain": [
       "array([[56787,    77],\n",
       "       [   73,    25]])"
      ]
     },
     "execution_count": 43,
     "metadata": {},
     "output_type": "execute_result"
    }
   ],
   "source": [
    "cm = confusion_matrix(ytest,ypreds_iso)\n",
    "cm"
   ]
  },
  {
   "cell_type": "code",
   "execution_count": 44,
   "metadata": {
    "ExecuteTime": {
     "end_time": "2019-10-20T20:14:29.777102Z",
     "start_time": "2019-10-20T20:14:29.698151Z"
    }
   },
   "outputs": [
    {
     "data": {
      "text/plain": [
       "array([56787,    77,    73,    25])"
      ]
     },
     "execution_count": 44,
     "metadata": {},
     "output_type": "execute_result"
    }
   ],
   "source": [
    "vals = cm.ravel()\n",
    "vals"
   ]
  },
  {
   "cell_type": "code",
   "execution_count": 46,
   "metadata": {
    "ExecuteTime": {
     "end_time": "2019-10-20T20:15:02.020143Z",
     "start_time": "2019-10-20T20:15:01.974685Z"
    }
   },
   "outputs": [
    {
     "name": "stdout",
     "output_type": "stream",
     "text": [
      "Isolation Forest Results\n",
      "-------------------------\n",
      "Total Frauds:  98\n",
      "Incorrect Frauds:  73\n",
      "Incorrect Percent:  74.49 %\n"
     ]
    }
   ],
   "source": [
    "print('Isolation Forest Results')\n",
    "print('-'*25)\n",
    "print('Total Frauds: ', vals[2] + vals[3])\n",
    "print('Incorrect Frauds: ', vals[2])\n",
    "print('Incorrect Percent: ', round(vals[2]*100/(vals[2]+vals[3]),2),'%')"
   ]
  },
  {
   "cell_type": "markdown",
   "metadata": {},
   "source": [
    "# Classification: LOF (Local Outlier Factor)\n",
    "\n",
    "Reference: sklearn  \n",
    "\n",
    "Unsupervised Outlier Detection using Local Outlier Factor (LOF)\n",
    "\n",
    "The anomaly score of each sample is called Local Outlier Factor. It measures the local deviation of density of a given sample with respect to its neighbors. It is local in that the anomaly score depends on how isolated the object is with respect to the surrounding neighborhood. More precisely, locality is given by k-nearest neighbors, whose distance is used to estimate the local density. By comparing the local density of a sample to the local densities of its neighbors, one can identify samples that have a substantially lower density than their neighbors. These are considered outliers."
   ]
  },
  {
   "cell_type": "code",
   "execution_count": 32,
   "metadata": {
    "ExecuteTime": {
     "end_time": "2019-10-20T19:57:52.282717Z",
     "start_time": "2019-10-20T19:57:47.681266Z"
    }
   },
   "outputs": [
    {
     "name": "stdout",
     "output_type": "stream",
     "text": [
      "              precision    recall  f1-score   support\n",
      "\n",
      "           0       1.00      1.00      1.00     56864\n",
      "           1       0.03      0.03      0.03        98\n",
      "\n",
      "    accuracy                           1.00     56962\n",
      "   macro avg       0.51      0.51      0.51     56962\n",
      "weighted avg       1.00      1.00      1.00     56962\n",
      "\n",
      "CPU times: user 10.8 s, sys: 242 ms, total: 11.1 s\n",
      "Wall time: 4.56 s\n"
     ]
    }
   ],
   "source": [
    "%%time\n",
    "\n",
    "clf_lof = LocalOutlierFactor(n_neighbors=20,\n",
    "                      algorithm='auto', \n",
    "                      leaf_size=30,\n",
    "                      metric='minkowski',\n",
    "                      p=2,\n",
    "                      n_jobs=-1,\n",
    "                      metric_params=None,\n",
    "                      novelty=True,\n",
    "                      contamination=outlier_fraction)\n",
    "\n",
    "\n",
    "\n",
    "clf_lof.fit(Xtrain)\n",
    "ypreds = clf_lof.predict(Xtest)\n",
    "\n",
    "# alogrithm gives 1 and -1 classes, make them 0 and 1\n",
    "ypreds[ypreds == 1] = 0\n",
    "ypreds[ypreds == -1] = 1\n",
    "\n",
    "ypreds_lof = ypreds\n",
    "\n",
    "print(classification_report(ytest, ypreds_lof))"
   ]
  },
  {
   "cell_type": "code",
   "execution_count": 52,
   "metadata": {
    "ExecuteTime": {
     "end_time": "2019-10-20T20:17:07.012681Z",
     "start_time": "2019-10-20T20:17:06.919183Z"
    }
   },
   "outputs": [
    {
     "data": {
      "text/plain": [
       "array([[56750,   114],\n",
       "       [   95,     3]])"
      ]
     },
     "execution_count": 52,
     "metadata": {},
     "output_type": "execute_result"
    }
   ],
   "source": [
    "cm = confusion_matrix(ytest,ypreds_lof)\n",
    "vals = cm.ravel()\n",
    "\n",
    "cm"
   ]
  },
  {
   "cell_type": "code",
   "execution_count": 53,
   "metadata": {
    "ExecuteTime": {
     "end_time": "2019-10-20T20:17:07.964841Z",
     "start_time": "2019-10-20T20:17:07.918965Z"
    }
   },
   "outputs": [
    {
     "name": "stdout",
     "output_type": "stream",
     "text": [
      "Local Outliers Factor Results\n",
      "-------------------------\n",
      "Total Frauds:  98\n",
      "Incorrect Frauds:  95\n",
      "Incorrect Percent:  96.94 %\n"
     ]
    }
   ],
   "source": [
    "print('Local Outliers Factor Results')\n",
    "print('-'*25)\n",
    "print('Total Frauds: ', vals[2] + vals[3])\n",
    "print('Incorrect Frauds: ', vals[2])\n",
    "print('Incorrect Percent: ', round(vals[2]*100/(vals[2]+vals[3]),2),'%')"
   ]
  },
  {
   "cell_type": "markdown",
   "metadata": {
    "ExecuteTime": {
     "end_time": "2019-10-12T14:57:39.698786Z",
     "start_time": "2019-10-12T14:57:39.689505Z"
    }
   },
   "source": [
    "# Classification Evaluation Metrics\n",
    "![](../images/classification_metrics.png)\n",
    "![](../images/confusion_matrix.png)\n",
    "![](../images/accuracy.png)\n",
    "![](../images/precision.png)\n",
    "![](../images/recall.png)\n",
    "![](../images/f1_score.png)"
   ]
  },
  {
   "cell_type": "code",
   "execution_count": 17,
   "metadata": {
    "ExecuteTime": {
     "end_time": "2019-10-20T19:49:02.295450Z",
     "start_time": "2019-10-20T19:49:02.254117Z"
    }
   },
   "outputs": [],
   "source": [
    "# ! for filename in ../images/*.png; do echo '!'\"[]($filename)\"; done"
   ]
  },
  {
   "cell_type": "code",
   "execution_count": 18,
   "metadata": {
    "ExecuteTime": {
     "end_time": "2019-10-20T19:49:02.334319Z",
     "start_time": "2019-10-20T19:49:02.298921Z"
    }
   },
   "outputs": [],
   "source": [
    "from sklearn.metrics import (accuracy_score,precision_score,\n",
    "                                recall_score,f1_score,matthews_corrcoef,\n",
    "                                average_precision_score,roc_auc_score,\n",
    "                                cohen_kappa_score)\n",
    "   "
   ]
  },
  {
   "cell_type": "code",
   "execution_count": 19,
   "metadata": {
    "ExecuteTime": {
     "end_time": "2019-10-20T19:49:02.503501Z",
     "start_time": "2019-10-20T19:49:02.336522Z"
    }
   },
   "outputs": [
    {
     "name": "stdout",
     "output_type": "stream",
     "text": [
      "0.9973666654962958 0.24509803921568626 0.25510204081632654 0.25 0.24873147208089602 0.24868154572013246\n"
     ]
    }
   ],
   "source": [
    "# scalar metrics\n",
    "ypreds = ypreds_iso\n",
    "acc = accuracy_score(ytest,ypreds)\n",
    "precision = precision_score(ytest,ypreds)\n",
    "recall = recall_score(ytest,ypreds)\n",
    "f1 = f1_score(ytest,ypreds)\n",
    "mcc = matthews_corrcoef(ytest,ypreds)\n",
    "kappa = cohen_kappa_score(ytest, ypreds)\n",
    "\n",
    "print(acc,precision,recall,f1,mcc,kappa)"
   ]
  },
  {
   "cell_type": "code",
   "execution_count": 20,
   "metadata": {
    "ExecuteTime": {
     "end_time": "2019-10-20T19:49:04.900199Z",
     "start_time": "2019-10-20T19:49:02.506066Z"
    }
   },
   "outputs": [
    {
     "name": "stdout",
     "output_type": "stream",
     "text": [
      "0.0008812221863141853 0.054973269555430505\n"
     ]
    }
   ],
   "source": [
    "# area under the curves\n",
    "try:\n",
    "    y_score = clf_iso.predict_proba(Xtest)[:,1]\n",
    "except:\n",
    "    y_score = clf_iso.decision_function(Xtest)\n",
    "\n",
    "auprc = average_precision_score(ytest, y_score)\n",
    "auroc = roc_auc_score(ytest, y_score)\n",
    "\n",
    "print(auprc, auroc)"
   ]
  }
 ],
 "metadata": {
  "kernelspec": {
   "display_name": "Python (dataSc)",
   "language": "python",
   "name": "datasc"
  },
  "language_info": {
   "codemirror_mode": {
    "name": "ipython",
    "version": 3
   },
   "file_extension": ".py",
   "mimetype": "text/x-python",
   "name": "python",
   "nbconvert_exporter": "python",
   "pygments_lexer": "ipython3",
   "version": "3.7.3"
  },
  "toc": {
   "base_numbering": 1,
   "nav_menu": {},
   "number_sections": true,
   "sideBar": true,
   "skip_h1_title": false,
   "title_cell": "Table of Contents",
   "title_sidebar": "Contents",
   "toc_cell": true,
   "toc_position": {},
   "toc_section_display": true,
   "toc_window_display": true
  }
 },
 "nbformat": 4,
 "nbformat_minor": 2
}
