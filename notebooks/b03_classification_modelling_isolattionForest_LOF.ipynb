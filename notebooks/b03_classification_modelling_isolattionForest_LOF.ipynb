{
 "cells": [
  {
   "cell_type": "markdown",
   "metadata": {
    "toc": true
   },
   "source": [
    "<h1>Table of Contents<span class=\"tocSkip\"></span></h1>\n",
    "<div class=\"toc\"><ul class=\"toc-item\"><li><span><a href=\"#Data-Description\" data-toc-modified-id=\"Data-Description-1\"><span class=\"toc-item-num\">1&nbsp;&nbsp;</span>Data Description</a></span></li><li><span><a href=\"#Imports\" data-toc-modified-id=\"Imports-2\"><span class=\"toc-item-num\">2&nbsp;&nbsp;</span>Imports</a></span></li><li><span><a href=\"#Useful-Scripts\" data-toc-modified-id=\"Useful-Scripts-3\"><span class=\"toc-item-num\">3&nbsp;&nbsp;</span>Useful Scripts</a></span></li><li><span><a href=\"#Load-the-data\" data-toc-modified-id=\"Load-the-data-4\"><span class=\"toc-item-num\">4&nbsp;&nbsp;</span>Load the data</a></span></li><li><span><a href=\"#Train-test-split-with-stratify\" data-toc-modified-id=\"Train-test-split-with-stratify-5\"><span class=\"toc-item-num\">5&nbsp;&nbsp;</span>Train test split with stratify</a></span></li><li><span><a href=\"#Classification:-isolationForest\" data-toc-modified-id=\"Classification:-isolationForest-6\"><span class=\"toc-item-num\">6&nbsp;&nbsp;</span>Classification: isolationForest</a></span></li><li><span><a href=\"#Classification:-LOF-(Local-Outlier-Factor)\" data-toc-modified-id=\"Classification:-LOF-(Local-Outlier-Factor)-7\"><span class=\"toc-item-num\">7&nbsp;&nbsp;</span>Classification: LOF (Local Outlier Factor)</a></span></li><li><span><a href=\"#Classification-Evaluation-Metrics\" data-toc-modified-id=\"Classification-Evaluation-Metrics-8\"><span class=\"toc-item-num\">8&nbsp;&nbsp;</span>Classification Evaluation Metrics</a></span></li></ul></div>"
   ]
  },
  {
   "cell_type": "markdown",
   "metadata": {},
   "source": [
    "# Data Description\n",
    "\n",
    "The datasets contains transactions made by credit cards in September\n",
    "2013 by european cardholders.\n",
    "\n",
    "\n",
    "This dataset presents transactions that occurred in two days,\n",
    "where we have 492 frauds out of 284,807 transactions. \n",
    "\n",
    "The dataset is highly unbalanced, the positive class (frauds)\n",
    "account for 0.172% of all transactions.\n",
    "\n",
    "It contains only numerical input variables which are\n",
    "the result of a PCA transformation.\n",
    "\n",
    "\n",
    "Unfortunately, due to confidentiality issues,\n",
    "we cannot provide the original features and \n",
    "more background information about the data.\n",
    "\n",
    "\n",
    "Features V1, V2, ... V28 are the principal\n",
    "components obtained with PCA,\n",
    "the only features which have not been transformed with PCA are 'Time' and 'Amount'. \n",
    "\n",
    "Feature 'Time' contains the seconds elapsed between each transaction\n",
    "and the first transaction in the dataset. The feature 'Amount'\n",
    "is the transaction Amount, this feature can be used for \n",
    "example-dependant cost-senstive learning. \n",
    "\n",
    "Feature 'Class' is the response variable and it takes value\n",
    "1 in case of fraud and 0 otherwise."
   ]
  },
  {
   "cell_type": "markdown",
   "metadata": {},
   "source": [
    "# Imports"
   ]
  },
  {
   "cell_type": "code",
   "execution_count": 1,
   "metadata": {
    "ExecuteTime": {
     "end_time": "2019-10-12T20:11:33.953115Z",
     "start_time": "2019-10-12T20:11:33.946429Z"
    }
   },
   "outputs": [],
   "source": [
    "import bhishan"
   ]
  },
  {
   "cell_type": "code",
   "execution_count": 2,
   "metadata": {
    "ExecuteTime": {
     "end_time": "2019-10-12T20:11:33.978349Z",
     "start_time": "2019-10-12T20:11:33.956267Z"
    }
   },
   "outputs": [],
   "source": [
    "%load_ext autoreload\n",
    "\n",
    "%autoreload 2"
   ]
  },
  {
   "cell_type": "code",
   "execution_count": 3,
   "metadata": {
    "ExecuteTime": {
     "end_time": "2019-10-12T20:11:35.101851Z",
     "start_time": "2019-10-12T20:11:33.981930Z"
    }
   },
   "outputs": [
    {
     "name": "stdout",
     "output_type": "stream",
     "text": [
      "[('numpy', '1.16.4'), ('pandas', '0.25.0'), ('seaborn', '0.9.0'), ('matplotlib', '3.1.1')]\n"
     ]
    }
   ],
   "source": [
    "import numpy as np\n",
    "import pandas as pd\n",
    "import seaborn as sns\n",
    "sns.set(color_codes=True)\n",
    "\n",
    "import matplotlib\n",
    "import matplotlib.pyplot as plt\n",
    "%matplotlib inline\n",
    "\n",
    "import os\n",
    "import time\n",
    "\n",
    "# random state\n",
    "random_state=100\n",
    "np.random.seed=random_state\n",
    "np.random.set_state=random_state\n",
    "\n",
    "# Jupyter notebook settings for pandas\n",
    "pd.set_option('display.max_columns', 200)\n",
    "pd.set_option('display.max_rows', 100) # None for all the rows\n",
    "pd.set_option('display.max_colwidth', 50)\n",
    "\n",
    "print([(x.__name__,x.__version__) for x in [np, pd,sns,matplotlib]])"
   ]
  },
  {
   "cell_type": "code",
   "execution_count": 4,
   "metadata": {
    "ExecuteTime": {
     "end_time": "2019-10-12T20:11:35.171976Z",
     "start_time": "2019-10-12T20:11:35.108317Z"
    }
   },
   "outputs": [],
   "source": [
    "import scipy\n",
    "from scipy import stats"
   ]
  },
  {
   "cell_type": "code",
   "execution_count": 5,
   "metadata": {
    "ExecuteTime": {
     "end_time": "2019-10-12T20:11:35.866409Z",
     "start_time": "2019-10-12T20:11:35.176350Z"
    }
   },
   "outputs": [],
   "source": [
    "# scale and split\n",
    "from sklearn.preprocessing import MinMaxScaler, StandardScaler, RobustScaler\n",
    "from sklearn.model_selection import train_test_split\n",
    "from sklearn.model_selection import StratifiedKFold"
   ]
  },
  {
   "cell_type": "code",
   "execution_count": 6,
   "metadata": {
    "ExecuteTime": {
     "end_time": "2019-10-12T20:11:35.968032Z",
     "start_time": "2019-10-12T20:11:35.869722Z"
    }
   },
   "outputs": [],
   "source": [
    "# classifiers\n",
    "from sklearn.ensemble import IsolationForest\n",
    "from sklearn.neighbors import LocalOutlierFactor\n",
    "from sklearn.svm import OneClassSVM"
   ]
  },
  {
   "cell_type": "code",
   "execution_count": 7,
   "metadata": {
    "ExecuteTime": {
     "end_time": "2019-10-12T20:11:36.016355Z",
     "start_time": "2019-10-12T20:11:35.973635Z"
    }
   },
   "outputs": [],
   "source": [
    "# roc auc etc scores\n",
    "from sklearn.metrics import auc\n",
    "from sklearn.metrics import roc_auc_score\n",
    "from sklearn.metrics import precision_score\n",
    "from sklearn.metrics import recall_score\n",
    "from sklearn.metrics import f1_score\n",
    "from sklearn.metrics import accuracy_score\n",
    "from sklearn.metrics import average_precision_score"
   ]
  },
  {
   "cell_type": "code",
   "execution_count": 8,
   "metadata": {
    "ExecuteTime": {
     "end_time": "2019-10-12T20:11:36.059066Z",
     "start_time": "2019-10-12T20:11:36.019010Z"
    }
   },
   "outputs": [],
   "source": [
    "# roc auc curves\n",
    "from sklearn.metrics import roc_curve\n",
    "from sklearn.metrics import precision_recall_curve"
   ]
  },
  {
   "cell_type": "code",
   "execution_count": 9,
   "metadata": {
    "ExecuteTime": {
     "end_time": "2019-10-12T20:11:36.109714Z",
     "start_time": "2019-10-12T20:11:36.061663Z"
    }
   },
   "outputs": [],
   "source": [
    "# confusion matrix\n",
    "from sklearn.metrics import classification_report\n",
    "from sklearn.metrics import confusion_matrix"
   ]
  },
  {
   "cell_type": "code",
   "execution_count": 10,
   "metadata": {
    "ExecuteTime": {
     "end_time": "2019-10-12T20:11:36.161034Z",
     "start_time": "2019-10-12T20:11:36.113211Z"
    }
   },
   "outputs": [],
   "source": [
    "from sklearn.metrics import accuracy_score\n",
    "from sklearn.metrics import precision_score\n",
    "from sklearn.metrics import recall_score\n",
    "from sklearn.metrics import f1_score\n",
    "from sklearn.metrics import precision_recall_fscore_support\n",
    "from sklearn.metrics import classification_report\n",
    "from sklearn.metrics import confusion_matrix"
   ]
  },
  {
   "cell_type": "markdown",
   "metadata": {},
   "source": [
    "# Useful Scripts"
   ]
  },
  {
   "cell_type": "code",
   "execution_count": 11,
   "metadata": {
    "ExecuteTime": {
     "end_time": "2019-10-12T20:11:36.210313Z",
     "start_time": "2019-10-12T20:11:36.164228Z"
    }
   },
   "outputs": [],
   "source": [
    "def show_method_attributes(method, ncols=7,exclude=None):\n",
    "    \"\"\" Show all the attributes of a given method.\n",
    "    Example:\n",
    "    ========\n",
    "    show_method_attributes(list)\n",
    "     \"\"\"\n",
    "    x = [I for I in dir(method) if I[0]!='_' ]\n",
    "    x = [I for I in x \n",
    "         if I not in 'os np pd sys time psycopg2'.split()\n",
    "         if (exclude not in i)\n",
    "        ]\n",
    "             \n",
    "\n",
    "    return pd.DataFrame(np.array_split(x,ncols)).T.fillna('')"
   ]
  },
  {
   "cell_type": "code",
   "execution_count": 12,
   "metadata": {
    "ExecuteTime": {
     "end_time": "2019-10-12T20:11:36.267790Z",
     "start_time": "2019-10-12T20:11:36.211983Z"
    }
   },
   "outputs": [],
   "source": [
    "df_eval = pd.DataFrame({'Model': [],\n",
    "                        'Details':[],\n",
    "                        'Accuracy':[],\n",
    "                        'Precision':[],\n",
    "                        'Recall':[],\n",
    "                        'F1':[],\n",
    "                        'Mathews Correlation Coefficient': [],\n",
    "                        'Cohens Kappa': [],\n",
    "                        'Area Under Precision Curve': [],\n",
    "                        'Area Under ROC Curve': [],\n",
    "                       })\n",
    "\n",
    "def get_binary_classification_scalar_metrics(model_name,model,\n",
    "                                             Xtest,ytest,ypreds,desc=''):\n",
    "    \"\"\"Get some binary classification evaluation metrics.\n",
    "    \n",
    "    Example:\n",
    "    df_eval.loc[len(df_eval)] = get_binary_classification_scalar_metrics(\n",
    "                       'Logistic Regression',clf_lr,Xtest,ytest,ypreds_lr)\n",
    "    \"\"\"\n",
    "    \n",
    "    # imports\n",
    "    from sklearn.metrics import (accuracy_score,precision_score,\n",
    "                                recall_score,f1_score,matthews_corrcoef,\n",
    "                                average_precision_score,roc_auc_score,\n",
    "                                cohen_kappa_score)\n",
    "    \n",
    "    # scalar metrics\n",
    "    acc = accuracy_score(ytest,ypreds)\n",
    "    precision = precision_score(ytest,ypreds)\n",
    "    recall = recall_score(ytest,ypreds)\n",
    "    f1 = f1_score(ytest,ypreds)\n",
    "    mcc = matthews_corrcoef(ytest,ypreds)\n",
    "    kappa = cohen_kappa_score(ytest, ypreds)\n",
    "    \n",
    "    # area under the curves\n",
    "    try:\n",
    "        y_score = model.predict_proba(Xtest)[:,1]\n",
    "    except:\n",
    "        y_score = model.decision_function(Xtest)\n",
    "    \n",
    "    auprc = average_precision_score(ytest, y_score)\n",
    "    auroc = roc_auc_score(ytest, y_score)\n",
    "\n",
    "    row = [model_name,desc,acc,precision,recall,f1,mcc,kappa,auprc,auroc]\n",
    "    return row"
   ]
  },
  {
   "cell_type": "code",
   "execution_count": 13,
   "metadata": {
    "ExecuteTime": {
     "end_time": "2019-10-12T20:11:36.317893Z",
     "start_time": "2019-10-12T20:11:36.274523Z"
    }
   },
   "outputs": [],
   "source": [
    "df_clf_report = pd.DataFrame({'model':[],\n",
    "                              'desc':[],\n",
    "                              'precision_0': [],\n",
    "                              'precision_1':[],\n",
    "                              'recall_0':[],\n",
    "                              'recall_1':[],\n",
    "                              'f1_score_0':[],\n",
    "                              'f1_score_1':[],\n",
    "                              'support_0':[],\n",
    "                              'support_1':[]})\n",
    "\n",
    "def get_binary_classification_report(model_name,ytest,ypreds,desc=''):\n",
    "    \"\"\"Get binary classification report.\n",
    "    \n",
    "    Usage:\n",
    "    -----\n",
    "    row = get_binary_classification_report(model_name,ytest,ypreds)\n",
    "    df_clf_report.loc[len(df_clf_report)] = row\n",
    "    df_clf_report.drop_duplicates()\n",
    "    \"\"\"\n",
    "    from sklearn.metrics import precision_recall_fscore_support\n",
    "\n",
    "    row = [model_name,desc] + np.array(precision_recall_fscore_support(\n",
    "                                    ytest,ypreds)).ravel().tolist()\n",
    "\n",
    "    return row"
   ]
  },
  {
   "cell_type": "code",
   "execution_count": 14,
   "metadata": {
    "ExecuteTime": {
     "end_time": "2019-10-12T20:11:36.365402Z",
     "start_time": "2019-10-12T20:11:36.320586Z"
    }
   },
   "outputs": [],
   "source": [
    "def print_confusion_matrix(ytest,ypreds,model_name):\n",
    "    \"\"\"Print confusion matrix for binary classification.\n",
    "    \n",
    "    Example:\n",
    "    print_confusion_matrix(ytest,ypreds_lr,'Logistic Regression')\n",
    "    \n",
    "    \"\"\"\n",
    "    from sklearn.metrics import confusion_matrix\n",
    "    \n",
    "    cm = confusion_matrix(ytest,ypreds)\n",
    "    total_correct = np.diag(cm).sum()\n",
    "    total_wrong = cm.sum() - total_correct\n",
    "    \n",
    "    columns = [\"Predicted Class \" + str(class_name) for class_name in [0,1]]\n",
    "    index = [\"Class \" + str(class_name) for class_name in [0,1]]\n",
    "    \n",
    "\n",
    "    df_confusion = pd.DataFrame(cm,columns=columns,index = index)\n",
    "    df_confusion['Total Correct'] = total_correct\n",
    "    df_confusion['Total Wrong'] = total_wrong\n",
    "    \n",
    "    df_style = df_confusion.style.set_caption(model_name).format(\"{:,.0f}\")\n",
    "    \n",
    "    df_style = df_style.apply(lambda x: [\"background: lightgreen\" \n",
    "                                         if  v in np.diag(cm)\n",
    "                                         else \"\"\n",
    "                                         for v in x], axis = 1)\n",
    "    \n",
    "    df_style = df_style.apply(lambda x: [\"background: salmon\" \n",
    "                                         if  ( v in cm and v not in np.diag(cm))\n",
    "                                         else \"\"\n",
    "                                         for v in x], axis = 1)\n",
    "\n",
    "    return df_style"
   ]
  },
  {
   "cell_type": "markdown",
   "metadata": {},
   "source": [
    "# Load the data"
   ]
  },
  {
   "cell_type": "code",
   "execution_count": 15,
   "metadata": {
    "ExecuteTime": {
     "end_time": "2019-10-12T20:11:39.029759Z",
     "start_time": "2019-10-12T20:11:36.375322Z"
    }
   },
   "outputs": [
    {
     "name": "stdout",
     "output_type": "stream",
     "text": [
      "(284807, 31)\n"
     ]
    },
    {
     "data": {
      "text/html": [
       "<div>\n",
       "<style scoped>\n",
       "    .dataframe tbody tr th:only-of-type {\n",
       "        vertical-align: middle;\n",
       "    }\n",
       "\n",
       "    .dataframe tbody tr th {\n",
       "        vertical-align: top;\n",
       "    }\n",
       "\n",
       "    .dataframe thead th {\n",
       "        text-align: right;\n",
       "    }\n",
       "</style>\n",
       "<table border=\"1\" class=\"dataframe\">\n",
       "  <thead>\n",
       "    <tr style=\"text-align: right;\">\n",
       "      <th></th>\n",
       "      <th>Time</th>\n",
       "      <th>V1</th>\n",
       "      <th>V2</th>\n",
       "      <th>V3</th>\n",
       "      <th>V4</th>\n",
       "      <th>V5</th>\n",
       "      <th>V6</th>\n",
       "      <th>V7</th>\n",
       "      <th>V8</th>\n",
       "      <th>V9</th>\n",
       "      <th>V10</th>\n",
       "      <th>V11</th>\n",
       "      <th>V12</th>\n",
       "      <th>V13</th>\n",
       "      <th>V14</th>\n",
       "      <th>V15</th>\n",
       "      <th>V16</th>\n",
       "      <th>V17</th>\n",
       "      <th>V18</th>\n",
       "      <th>V19</th>\n",
       "      <th>V20</th>\n",
       "      <th>V21</th>\n",
       "      <th>V22</th>\n",
       "      <th>V23</th>\n",
       "      <th>V24</th>\n",
       "      <th>V25</th>\n",
       "      <th>V26</th>\n",
       "      <th>V27</th>\n",
       "      <th>V28</th>\n",
       "      <th>Amount</th>\n",
       "      <th>Class</th>\n",
       "    </tr>\n",
       "  </thead>\n",
       "  <tbody>\n",
       "    <tr>\n",
       "      <th>0</th>\n",
       "      <td>0.0</td>\n",
       "      <td>-1.359807</td>\n",
       "      <td>-0.072781</td>\n",
       "      <td>2.536347</td>\n",
       "      <td>1.378155</td>\n",
       "      <td>-0.338321</td>\n",
       "      <td>0.462388</td>\n",
       "      <td>0.239599</td>\n",
       "      <td>0.098698</td>\n",
       "      <td>0.363787</td>\n",
       "      <td>0.090794</td>\n",
       "      <td>-0.551600</td>\n",
       "      <td>-0.617801</td>\n",
       "      <td>-0.991390</td>\n",
       "      <td>-0.311169</td>\n",
       "      <td>1.468177</td>\n",
       "      <td>-0.470401</td>\n",
       "      <td>0.207971</td>\n",
       "      <td>0.025791</td>\n",
       "      <td>0.403993</td>\n",
       "      <td>0.251412</td>\n",
       "      <td>-0.018307</td>\n",
       "      <td>0.277838</td>\n",
       "      <td>-0.110474</td>\n",
       "      <td>0.066928</td>\n",
       "      <td>0.128539</td>\n",
       "      <td>-0.189115</td>\n",
       "      <td>0.133558</td>\n",
       "      <td>-0.021053</td>\n",
       "      <td>149.62</td>\n",
       "      <td>0</td>\n",
       "    </tr>\n",
       "    <tr>\n",
       "      <th>1</th>\n",
       "      <td>0.0</td>\n",
       "      <td>1.191857</td>\n",
       "      <td>0.266151</td>\n",
       "      <td>0.166480</td>\n",
       "      <td>0.448154</td>\n",
       "      <td>0.060018</td>\n",
       "      <td>-0.082361</td>\n",
       "      <td>-0.078803</td>\n",
       "      <td>0.085102</td>\n",
       "      <td>-0.255425</td>\n",
       "      <td>-0.166974</td>\n",
       "      <td>1.612727</td>\n",
       "      <td>1.065235</td>\n",
       "      <td>0.489095</td>\n",
       "      <td>-0.143772</td>\n",
       "      <td>0.635558</td>\n",
       "      <td>0.463917</td>\n",
       "      <td>-0.114805</td>\n",
       "      <td>-0.183361</td>\n",
       "      <td>-0.145783</td>\n",
       "      <td>-0.069083</td>\n",
       "      <td>-0.225775</td>\n",
       "      <td>-0.638672</td>\n",
       "      <td>0.101288</td>\n",
       "      <td>-0.339846</td>\n",
       "      <td>0.167170</td>\n",
       "      <td>0.125895</td>\n",
       "      <td>-0.008983</td>\n",
       "      <td>0.014724</td>\n",
       "      <td>2.69</td>\n",
       "      <td>0</td>\n",
       "    </tr>\n",
       "    <tr>\n",
       "      <th>2</th>\n",
       "      <td>1.0</td>\n",
       "      <td>-1.358354</td>\n",
       "      <td>-1.340163</td>\n",
       "      <td>1.773209</td>\n",
       "      <td>0.379780</td>\n",
       "      <td>-0.503198</td>\n",
       "      <td>1.800499</td>\n",
       "      <td>0.791461</td>\n",
       "      <td>0.247676</td>\n",
       "      <td>-1.514654</td>\n",
       "      <td>0.207643</td>\n",
       "      <td>0.624501</td>\n",
       "      <td>0.066084</td>\n",
       "      <td>0.717293</td>\n",
       "      <td>-0.165946</td>\n",
       "      <td>2.345865</td>\n",
       "      <td>-2.890083</td>\n",
       "      <td>1.109969</td>\n",
       "      <td>-0.121359</td>\n",
       "      <td>-2.261857</td>\n",
       "      <td>0.524980</td>\n",
       "      <td>0.247998</td>\n",
       "      <td>0.771679</td>\n",
       "      <td>0.909412</td>\n",
       "      <td>-0.689281</td>\n",
       "      <td>-0.327642</td>\n",
       "      <td>-0.139097</td>\n",
       "      <td>-0.055353</td>\n",
       "      <td>-0.059752</td>\n",
       "      <td>378.66</td>\n",
       "      <td>0</td>\n",
       "    </tr>\n",
       "    <tr>\n",
       "      <th>3</th>\n",
       "      <td>1.0</td>\n",
       "      <td>-0.966272</td>\n",
       "      <td>-0.185226</td>\n",
       "      <td>1.792993</td>\n",
       "      <td>-0.863291</td>\n",
       "      <td>-0.010309</td>\n",
       "      <td>1.247203</td>\n",
       "      <td>0.237609</td>\n",
       "      <td>0.377436</td>\n",
       "      <td>-1.387024</td>\n",
       "      <td>-0.054952</td>\n",
       "      <td>-0.226487</td>\n",
       "      <td>0.178228</td>\n",
       "      <td>0.507757</td>\n",
       "      <td>-0.287924</td>\n",
       "      <td>-0.631418</td>\n",
       "      <td>-1.059647</td>\n",
       "      <td>-0.684093</td>\n",
       "      <td>1.965775</td>\n",
       "      <td>-1.232622</td>\n",
       "      <td>-0.208038</td>\n",
       "      <td>-0.108300</td>\n",
       "      <td>0.005274</td>\n",
       "      <td>-0.190321</td>\n",
       "      <td>-1.175575</td>\n",
       "      <td>0.647376</td>\n",
       "      <td>-0.221929</td>\n",
       "      <td>0.062723</td>\n",
       "      <td>0.061458</td>\n",
       "      <td>123.50</td>\n",
       "      <td>0</td>\n",
       "    </tr>\n",
       "    <tr>\n",
       "      <th>4</th>\n",
       "      <td>2.0</td>\n",
       "      <td>-1.158233</td>\n",
       "      <td>0.877737</td>\n",
       "      <td>1.548718</td>\n",
       "      <td>0.403034</td>\n",
       "      <td>-0.407193</td>\n",
       "      <td>0.095921</td>\n",
       "      <td>0.592941</td>\n",
       "      <td>-0.270533</td>\n",
       "      <td>0.817739</td>\n",
       "      <td>0.753074</td>\n",
       "      <td>-0.822843</td>\n",
       "      <td>0.538196</td>\n",
       "      <td>1.345852</td>\n",
       "      <td>-1.119670</td>\n",
       "      <td>0.175121</td>\n",
       "      <td>-0.451449</td>\n",
       "      <td>-0.237033</td>\n",
       "      <td>-0.038195</td>\n",
       "      <td>0.803487</td>\n",
       "      <td>0.408542</td>\n",
       "      <td>-0.009431</td>\n",
       "      <td>0.798278</td>\n",
       "      <td>-0.137458</td>\n",
       "      <td>0.141267</td>\n",
       "      <td>-0.206010</td>\n",
       "      <td>0.502292</td>\n",
       "      <td>0.219422</td>\n",
       "      <td>0.215153</td>\n",
       "      <td>69.99</td>\n",
       "      <td>0</td>\n",
       "    </tr>\n",
       "  </tbody>\n",
       "</table>\n",
       "</div>"
      ],
      "text/plain": [
       "   Time        V1        V2        V3        V4        V5        V6        V7  \\\n",
       "0   0.0 -1.359807 -0.072781  2.536347  1.378155 -0.338321  0.462388  0.239599   \n",
       "1   0.0  1.191857  0.266151  0.166480  0.448154  0.060018 -0.082361 -0.078803   \n",
       "2   1.0 -1.358354 -1.340163  1.773209  0.379780 -0.503198  1.800499  0.791461   \n",
       "3   1.0 -0.966272 -0.185226  1.792993 -0.863291 -0.010309  1.247203  0.237609   \n",
       "4   2.0 -1.158233  0.877737  1.548718  0.403034 -0.407193  0.095921  0.592941   \n",
       "\n",
       "         V8        V9       V10       V11       V12       V13       V14  \\\n",
       "0  0.098698  0.363787  0.090794 -0.551600 -0.617801 -0.991390 -0.311169   \n",
       "1  0.085102 -0.255425 -0.166974  1.612727  1.065235  0.489095 -0.143772   \n",
       "2  0.247676 -1.514654  0.207643  0.624501  0.066084  0.717293 -0.165946   \n",
       "3  0.377436 -1.387024 -0.054952 -0.226487  0.178228  0.507757 -0.287924   \n",
       "4 -0.270533  0.817739  0.753074 -0.822843  0.538196  1.345852 -1.119670   \n",
       "\n",
       "        V15       V16       V17       V18       V19       V20       V21  \\\n",
       "0  1.468177 -0.470401  0.207971  0.025791  0.403993  0.251412 -0.018307   \n",
       "1  0.635558  0.463917 -0.114805 -0.183361 -0.145783 -0.069083 -0.225775   \n",
       "2  2.345865 -2.890083  1.109969 -0.121359 -2.261857  0.524980  0.247998   \n",
       "3 -0.631418 -1.059647 -0.684093  1.965775 -1.232622 -0.208038 -0.108300   \n",
       "4  0.175121 -0.451449 -0.237033 -0.038195  0.803487  0.408542 -0.009431   \n",
       "\n",
       "        V22       V23       V24       V25       V26       V27       V28  \\\n",
       "0  0.277838 -0.110474  0.066928  0.128539 -0.189115  0.133558 -0.021053   \n",
       "1 -0.638672  0.101288 -0.339846  0.167170  0.125895 -0.008983  0.014724   \n",
       "2  0.771679  0.909412 -0.689281 -0.327642 -0.139097 -0.055353 -0.059752   \n",
       "3  0.005274 -0.190321 -1.175575  0.647376 -0.221929  0.062723  0.061458   \n",
       "4  0.798278 -0.137458  0.141267 -0.206010  0.502292  0.219422  0.215153   \n",
       "\n",
       "   Amount  Class  \n",
       "0  149.62      0  \n",
       "1    2.69      0  \n",
       "2  378.66      0  \n",
       "3  123.50      0  \n",
       "4   69.99      0  "
      ]
     },
     "execution_count": 15,
     "metadata": {},
     "output_type": "execute_result"
    }
   ],
   "source": [
    "df = pd.read_csv('../data/raw/creditcard.csv.zip',compression='zip')\n",
    "print(df.shape)\n",
    "df.head()"
   ]
  },
  {
   "cell_type": "markdown",
   "metadata": {},
   "source": [
    "# Train test split with stratify"
   ]
  },
  {
   "cell_type": "code",
   "execution_count": 16,
   "metadata": {
    "ExecuteTime": {
     "end_time": "2019-10-12T20:11:39.326967Z",
     "start_time": "2019-10-12T20:11:39.036046Z"
    }
   },
   "outputs": [
    {
     "data": {
      "text/plain": [
       "((284807, 31), (227845, 30), (56962, 30))"
      ]
     },
     "execution_count": 16,
     "metadata": {},
     "output_type": "execute_result"
    }
   ],
   "source": [
    "from sklearn.model_selection import train_test_split\n",
    "\n",
    "target = 'Class'\n",
    "Xtrain, Xtest, ytrain, ytest = train_test_split(\n",
    "    df.drop(target,axis=1), df[target],\n",
    "    test_size=0.2, random_state=random_state, stratify=df[target])\n",
    "\n",
    "df.shape, Xtrain.shape, Xtest.shape"
   ]
  },
  {
   "cell_type": "code",
   "execution_count": 17,
   "metadata": {
    "ExecuteTime": {
     "end_time": "2019-10-12T20:11:39.375818Z",
     "start_time": "2019-10-12T20:11:39.330864Z"
    }
   },
   "outputs": [],
   "source": [
    "outlier_fraction = ytrain[ytrain==1].shape[0] /   ytrain[ytrain==0].shape[0]"
   ]
  },
  {
   "cell_type": "markdown",
   "metadata": {},
   "source": [
    "# Classification: isolationForest\n",
    "\n",
    "Reference:   \n",
    "scikit learn  \n",
    "https://scikit-learn.org/stable/modules/outlier_detection.html\n",
    "\n",
    "One efficient way of performing outlier detection in high-dimensional datasets is to use random forests. The ensemble.IsolationForest ‘isolates’ observations by randomly selecting a feature and then randomly selecting a split value between the maximum and minimum values of the selected feature.\n",
    "\n",
    "Since recursive partitioning can be represented by a tree structure, the number of splittings required to isolate a sample is equivalent to the path length from the root node to the terminating node.\n",
    "\n",
    "This path length, averaged over a forest of such random trees, is a measure of normality and our decision function.\n",
    "\n",
    "Random partitioning produces noticeably shorter paths for anomalies. Hence, when a forest of random trees collectively produce shorter path lengths for particular samples, they are highly likely to be anomalies.\n",
    "\n",
    "The implementation of ensemble.IsolationForest is based on an ensemble of tree.ExtraTreeRegressor. Following Isolation Forest original paper, the maximum depth of each tree is set to  where  is the number of samples used to build the tree (see (Liu et al., 2008) for more details).\n",
    "\n",
    "This algorithm is illustrated below.\n",
    "![](../images/isolation_forest_sklearn.png)"
   ]
  },
  {
   "cell_type": "code",
   "execution_count": 18,
   "metadata": {
    "ExecuteTime": {
     "end_time": "2019-10-12T20:11:59.745347Z",
     "start_time": "2019-10-12T20:11:39.378106Z"
    }
   },
   "outputs": [
    {
     "name": "stderr",
     "output_type": "stream",
     "text": [
      "[Parallel(n_jobs=4)]: Using backend ThreadingBackend with 4 concurrent workers.\n",
      "[Parallel(n_jobs=4)]: Done   2 out of   4 | elapsed:    4.2s remaining:    4.2s\n",
      "[Parallel(n_jobs=4)]: Done   4 out of   4 | elapsed:    4.3s finished\n"
     ]
    },
    {
     "name": "stdout",
     "output_type": "stream",
     "text": [
      "              precision    recall  f1-score   support\n",
      "\n",
      "           0       1.00      1.00      1.00     56864\n",
      "           1       0.25      0.26      0.25        98\n",
      "\n",
      "    accuracy                           1.00     56962\n",
      "   macro avg       0.62      0.63      0.62     56962\n",
      "weighted avg       1.00      1.00      1.00     56962\n",
      "\n",
      "CPU times: user 24.6 s, sys: 2.49 s, total: 27.1 s\n",
      "Wall time: 20.3 s\n"
     ]
    }
   ],
   "source": [
    "%%time\n",
    "\n",
    "clf_iso = IsolationForest(n_estimators=100,\n",
    "                      max_samples=len(Xtrain),\n",
    "                      n_jobs=-1,\n",
    "                      contamination=outlier_fraction,\n",
    "                      random_state=random_state,\n",
    "                      verbose=1,\n",
    "                      behaviour='new')\n",
    "\n",
    "\n",
    "# fitting  \n",
    "clf_iso.fit(Xtrain)\n",
    "\n",
    "# prediction\n",
    "scores_prediction = clf_iso.decision_function(Xtest)\n",
    "ypreds = clf_iso.predict(Xtest)\n",
    "\n",
    "# algorithm gives 1 and -1 classes, make them 0 and 1\n",
    "ypreds[ypreds == 1] = 0\n",
    "ypreds[ypreds == -1] = 1\n",
    "\n",
    "ypreds_iso = ypreds\n",
    "\n",
    "print(classification_report(ytest, ypreds_iso))"
   ]
  },
  {
   "cell_type": "markdown",
   "metadata": {},
   "source": [
    "# Classification: LOF (Local Outlier Factor)\n",
    "\n",
    "Reference: sklearn  \n",
    "\n",
    "Unsupervised Outlier Detection using Local Outlier Factor (LOF)\n",
    "\n",
    "The anomaly score of each sample is called Local Outlier Factor. It measures the local deviation of density of a given sample with respect to its neighbors. It is local in that the anomaly score depends on how isolated the object is with respect to the surrounding neighborhood. More precisely, locality is given by k-nearest neighbors, whose distance is used to estimate the local density. By comparing the local density of a sample to the local densities of its neighbors, one can identify samples that have a substantially lower density than their neighbors. These are considered outliers."
   ]
  },
  {
   "cell_type": "code",
   "execution_count": 19,
   "metadata": {
    "ExecuteTime": {
     "end_time": "2019-10-12T20:12:07.555763Z",
     "start_time": "2019-10-12T20:11:59.750417Z"
    }
   },
   "outputs": [
    {
     "name": "stdout",
     "output_type": "stream",
     "text": [
      "              precision    recall  f1-score   support\n",
      "\n",
      "           0       1.00      1.00      1.00     56864\n",
      "           1       0.03      0.03      0.03        98\n",
      "\n",
      "    accuracy                           1.00     56962\n",
      "   macro avg       0.51      0.51      0.51     56962\n",
      "weighted avg       1.00      1.00      1.00     56962\n",
      "\n",
      "CPU times: user 11.5 s, sys: 304 ms, total: 11.8 s\n",
      "Wall time: 7.59 s\n"
     ]
    }
   ],
   "source": [
    "%%time\n",
    "\n",
    "clf_lof = LocalOutlierFactor(n_neighbors=20,\n",
    "                      algorithm='auto', \n",
    "                      leaf_size=30,\n",
    "                      metric='minkowski',\n",
    "                      p=2,\n",
    "                      n_jobs=-1,\n",
    "                      metric_params=None,\n",
    "                      novelty=True,\n",
    "                      contamination=outlier_fraction)\n",
    "\n",
    "\n",
    "\n",
    "clf_lof.fit(Xtrain)\n",
    "ypreds = clf_lof.predict(Xtest)\n",
    "\n",
    "# alogrithm gives 1 and -1 classes, make them 0 and 1\n",
    "ypreds[ypreds == 1] = 0\n",
    "ypreds[ypreds == -1] = 1\n",
    "\n",
    "ypreds_lof = ypreds\n",
    "\n",
    "print(classification_report(ytest, ypreds_lof))"
   ]
  },
  {
   "cell_type": "markdown",
   "metadata": {
    "ExecuteTime": {
     "end_time": "2019-10-12T14:57:39.698786Z",
     "start_time": "2019-10-12T14:57:39.689505Z"
    }
   },
   "source": [
    "# Classification Evaluation Metrics\n",
    "![](../images/classification_metrics.png)\n",
    "![](../images/confusion_matrix.png)\n",
    "![](../images/accuracy.png)\n",
    "![](../images/precision.png)\n",
    "![](../images/recall.png)\n",
    "![](../images/f1_score.png)"
   ]
  },
  {
   "cell_type": "code",
   "execution_count": 20,
   "metadata": {
    "ExecuteTime": {
     "end_time": "2019-10-12T20:12:07.623173Z",
     "start_time": "2019-10-12T20:12:07.559526Z"
    }
   },
   "outputs": [],
   "source": [
    "# ! for filename in ../images/*.png; do echo '!'\"[]($filename)\"; done"
   ]
  },
  {
   "cell_type": "code",
   "execution_count": 21,
   "metadata": {
    "ExecuteTime": {
     "end_time": "2019-10-12T20:12:07.699100Z",
     "start_time": "2019-10-12T20:12:07.627546Z"
    }
   },
   "outputs": [],
   "source": [
    "from sklearn.metrics import (accuracy_score,precision_score,\n",
    "                                recall_score,f1_score,matthews_corrcoef,\n",
    "                                average_precision_score,roc_auc_score,\n",
    "                                cohen_kappa_score)\n",
    "   "
   ]
  },
  {
   "cell_type": "code",
   "execution_count": 22,
   "metadata": {
    "ExecuteTime": {
     "end_time": "2019-10-12T20:12:08.061348Z",
     "start_time": "2019-10-12T20:12:07.706763Z"
    }
   },
   "outputs": [
    {
     "name": "stdout",
     "output_type": "stream",
     "text": [
      "0.9973666654962958 0.24509803921568626 0.25510204081632654 0.25 0.24873147208089602 0.24868154572013246\n"
     ]
    }
   ],
   "source": [
    "# scalar metrics\n",
    "ypreds = ypreds_iso\n",
    "acc = accuracy_score(ytest,ypreds)\n",
    "precision = precision_score(ytest,ypreds)\n",
    "recall = recall_score(ytest,ypreds)\n",
    "f1 = f1_score(ytest,ypreds)\n",
    "mcc = matthews_corrcoef(ytest,ypreds)\n",
    "kappa = cohen_kappa_score(ytest, ypreds)\n",
    "\n",
    "print(acc,precision,recall,f1,mcc,kappa)"
   ]
  },
  {
   "cell_type": "code",
   "execution_count": 23,
   "metadata": {
    "ExecuteTime": {
     "end_time": "2019-10-12T20:12:14.039891Z",
     "start_time": "2019-10-12T20:12:08.066721Z"
    }
   },
   "outputs": [
    {
     "name": "stdout",
     "output_type": "stream",
     "text": [
      "0.0008812221863141853 0.054973269555430505\n"
     ]
    }
   ],
   "source": [
    "# area under the curves\n",
    "try:\n",
    "    y_score = clf_iso.predict_proba(Xtest)[:,1]\n",
    "except:\n",
    "    y_score = clf_iso.decision_function(Xtest)\n",
    "\n",
    "auprc = average_precision_score(ytest, y_score)\n",
    "auroc = roc_auc_score(ytest, y_score)\n",
    "\n",
    "print(auprc, auroc)"
   ]
  },
  {
   "cell_type": "code",
   "execution_count": 24,
   "metadata": {
    "ExecuteTime": {
     "end_time": "2019-10-12T20:12:21.166227Z",
     "start_time": "2019-10-12T20:12:14.063633Z"
    }
   },
   "outputs": [
    {
     "data": {
      "text/html": [
       "<div>\n",
       "<style scoped>\n",
       "    .dataframe tbody tr th:only-of-type {\n",
       "        vertical-align: middle;\n",
       "    }\n",
       "\n",
       "    .dataframe tbody tr th {\n",
       "        vertical-align: top;\n",
       "    }\n",
       "\n",
       "    .dataframe thead th {\n",
       "        text-align: right;\n",
       "    }\n",
       "</style>\n",
       "<table border=\"1\" class=\"dataframe\">\n",
       "  <thead>\n",
       "    <tr style=\"text-align: right;\">\n",
       "      <th></th>\n",
       "      <th>Model</th>\n",
       "      <th>Details</th>\n",
       "      <th>Accuracy</th>\n",
       "      <th>Precision</th>\n",
       "      <th>Recall</th>\n",
       "      <th>F1</th>\n",
       "      <th>Mathews Correlation Coefficient</th>\n",
       "      <th>Cohens Kappa</th>\n",
       "      <th>Area Under Precision Curve</th>\n",
       "      <th>Area Under ROC Curve</th>\n",
       "    </tr>\n",
       "  </thead>\n",
       "  <tbody>\n",
       "    <tr>\n",
       "      <th>0</th>\n",
       "      <td>Isolation Forest</td>\n",
       "      <td></td>\n",
       "      <td>0.997367</td>\n",
       "      <td>0.245098</td>\n",
       "      <td>0.255102</td>\n",
       "      <td>0.250000</td>\n",
       "      <td>0.248731</td>\n",
       "      <td>0.248682</td>\n",
       "      <td>0.000881</td>\n",
       "      <td>0.054973</td>\n",
       "    </tr>\n",
       "    <tr>\n",
       "      <th>1</th>\n",
       "      <td>Local Outlier Factor</td>\n",
       "      <td></td>\n",
       "      <td>0.996331</td>\n",
       "      <td>0.025641</td>\n",
       "      <td>0.030612</td>\n",
       "      <td>0.027907</td>\n",
       "      <td>0.026186</td>\n",
       "      <td>0.026083</td>\n",
       "      <td>0.001050</td>\n",
       "      <td>0.253340</td>\n",
       "    </tr>\n",
       "  </tbody>\n",
       "</table>\n",
       "</div>"
      ],
      "text/plain": [
       "                  Model Details  Accuracy  Precision    Recall        F1  \\\n",
       "0      Isolation Forest          0.997367   0.245098  0.255102  0.250000   \n",
       "1  Local Outlier Factor          0.996331   0.025641  0.030612  0.027907   \n",
       "\n",
       "   Mathews Correlation Coefficient  Cohens Kappa  Area Under Precision Curve  \\\n",
       "0                         0.248731      0.248682                    0.000881   \n",
       "1                         0.026186      0.026083                    0.001050   \n",
       "\n",
       "   Area Under ROC Curve  \n",
       "0              0.054973  \n",
       "1              0.253340  "
      ]
     },
     "execution_count": 24,
     "metadata": {},
     "output_type": "execute_result"
    }
   ],
   "source": [
    "df_eval.loc[len(df_eval)] = get_binary_classification_scalar_metrics('Isolation Forest',clf_iso,Xtest,ytest,ypreds_iso)\n",
    "\n",
    "df_eval.loc[len(df_eval)] = get_binary_classification_scalar_metrics('Local Outlier Factor',clf_lof,Xtest,ytest,ypreds_lof)\n",
    "df_eval.drop_duplicates()"
   ]
  },
  {
   "cell_type": "code",
   "execution_count": 25,
   "metadata": {
    "ExecuteTime": {
     "end_time": "2019-10-12T20:12:21.290272Z",
     "start_time": "2019-10-12T20:12:21.171638Z"
    }
   },
   "outputs": [
    {
     "data": {
      "text/html": [
       "<div>\n",
       "<style scoped>\n",
       "    .dataframe tbody tr th:only-of-type {\n",
       "        vertical-align: middle;\n",
       "    }\n",
       "\n",
       "    .dataframe tbody tr th {\n",
       "        vertical-align: top;\n",
       "    }\n",
       "\n",
       "    .dataframe thead th {\n",
       "        text-align: right;\n",
       "    }\n",
       "</style>\n",
       "<table border=\"1\" class=\"dataframe\">\n",
       "  <thead>\n",
       "    <tr style=\"text-align: right;\">\n",
       "      <th></th>\n",
       "      <th>model</th>\n",
       "      <th>desc</th>\n",
       "      <th>precision_0</th>\n",
       "      <th>precision_1</th>\n",
       "      <th>recall_0</th>\n",
       "      <th>recall_1</th>\n",
       "      <th>f1_score_0</th>\n",
       "      <th>f1_score_1</th>\n",
       "      <th>support_0</th>\n",
       "      <th>support_1</th>\n",
       "    </tr>\n",
       "  </thead>\n",
       "  <tbody>\n",
       "    <tr>\n",
       "      <th>0</th>\n",
       "      <td>Isolation Forest</td>\n",
       "      <td></td>\n",
       "      <td>0.998716</td>\n",
       "      <td>0.245098</td>\n",
       "      <td>0.998646</td>\n",
       "      <td>0.255102</td>\n",
       "      <td>0.998681</td>\n",
       "      <td>0.250000</td>\n",
       "      <td>56864.0</td>\n",
       "      <td>98.0</td>\n",
       "    </tr>\n",
       "    <tr>\n",
       "      <th>1</th>\n",
       "      <td>Local Outlier Factor</td>\n",
       "      <td></td>\n",
       "      <td>0.998329</td>\n",
       "      <td>0.025641</td>\n",
       "      <td>0.997995</td>\n",
       "      <td>0.030612</td>\n",
       "      <td>0.998162</td>\n",
       "      <td>0.027907</td>\n",
       "      <td>56864.0</td>\n",
       "      <td>98.0</td>\n",
       "    </tr>\n",
       "  </tbody>\n",
       "</table>\n",
       "</div>"
      ],
      "text/plain": [
       "                  model desc  precision_0  precision_1  recall_0  recall_1  \\\n",
       "0      Isolation Forest          0.998716     0.245098  0.998646  0.255102   \n",
       "1  Local Outlier Factor          0.998329     0.025641  0.997995  0.030612   \n",
       "\n",
       "   f1_score_0  f1_score_1  support_0  support_1  \n",
       "0    0.998681    0.250000    56864.0       98.0  \n",
       "1    0.998162    0.027907    56864.0       98.0  "
      ]
     },
     "execution_count": 25,
     "metadata": {},
     "output_type": "execute_result"
    }
   ],
   "source": [
    "row = get_binary_classification_report('Isolation Forest',ytest,ypreds_iso)\n",
    "df_clf_report.loc[len(df_clf_report)] = row\n",
    "\n",
    "\n",
    "\n",
    "row = get_binary_classification_report('Local Outlier Factor',ytest,ypreds_lof)\n",
    "df_clf_report.loc[len(df_clf_report)] = row\n",
    "\n",
    "df_clf_report.drop_duplicates()"
   ]
  },
  {
   "cell_type": "code",
   "execution_count": 26,
   "metadata": {
    "ExecuteTime": {
     "end_time": "2019-10-12T20:12:21.405933Z",
     "start_time": "2019-10-12T20:12:21.293783Z"
    }
   },
   "outputs": [
    {
     "name": "stdout",
     "output_type": "stream",
     "text": [
      "              precision    recall  f1-score   support\n",
      "\n",
      "           0       1.00      1.00      1.00     56864\n",
      "           1       0.25      0.26      0.25        98\n",
      "\n",
      "    accuracy                           1.00     56962\n",
      "   macro avg       0.62      0.63      0.62     56962\n",
      "weighted avg       1.00      1.00      1.00     56962\n",
      "\n"
     ]
    }
   ],
   "source": [
    "print(classification_report(ytest,ypreds_iso))"
   ]
  },
  {
   "cell_type": "code",
   "execution_count": 27,
   "metadata": {
    "ExecuteTime": {
     "end_time": "2019-10-12T20:12:21.576337Z",
     "start_time": "2019-10-12T20:12:21.409143Z"
    }
   },
   "outputs": [
    {
     "data": {
      "text/html": [
       "<style  type=\"text/css\" >\n",
       "    #T_992c8aaa_ed2c_11e9_84f8_acde48001122row0_col0 {\n",
       "            background:  lightgreen;\n",
       "            : ;\n",
       "        }    #T_992c8aaa_ed2c_11e9_84f8_acde48001122row0_col1 {\n",
       "            : ;\n",
       "            background:  salmon;\n",
       "        }    #T_992c8aaa_ed2c_11e9_84f8_acde48001122row1_col0 {\n",
       "            : ;\n",
       "            background:  salmon;\n",
       "        }    #T_992c8aaa_ed2c_11e9_84f8_acde48001122row1_col1 {\n",
       "            background:  lightgreen;\n",
       "            : ;\n",
       "        }</style><table id=\"T_992c8aaa_ed2c_11e9_84f8_acde48001122\" ><caption>Isolation Forest</caption><thead>    <tr>        <th class=\"blank level0\" ></th>        <th class=\"col_heading level0 col0\" >Predicted Class 0</th>        <th class=\"col_heading level0 col1\" >Predicted Class 1</th>        <th class=\"col_heading level0 col2\" >Total Correct</th>        <th class=\"col_heading level0 col3\" >Total Wrong</th>    </tr></thead><tbody>\n",
       "                <tr>\n",
       "                        <th id=\"T_992c8aaa_ed2c_11e9_84f8_acde48001122level0_row0\" class=\"row_heading level0 row0\" >Class 0</th>\n",
       "                        <td id=\"T_992c8aaa_ed2c_11e9_84f8_acde48001122row0_col0\" class=\"data row0 col0\" >56,787</td>\n",
       "                        <td id=\"T_992c8aaa_ed2c_11e9_84f8_acde48001122row0_col1\" class=\"data row0 col1\" >77</td>\n",
       "                        <td id=\"T_992c8aaa_ed2c_11e9_84f8_acde48001122row0_col2\" class=\"data row0 col2\" >56,812</td>\n",
       "                        <td id=\"T_992c8aaa_ed2c_11e9_84f8_acde48001122row0_col3\" class=\"data row0 col3\" >150</td>\n",
       "            </tr>\n",
       "            <tr>\n",
       "                        <th id=\"T_992c8aaa_ed2c_11e9_84f8_acde48001122level0_row1\" class=\"row_heading level0 row1\" >Class 1</th>\n",
       "                        <td id=\"T_992c8aaa_ed2c_11e9_84f8_acde48001122row1_col0\" class=\"data row1 col0\" >73</td>\n",
       "                        <td id=\"T_992c8aaa_ed2c_11e9_84f8_acde48001122row1_col1\" class=\"data row1 col1\" >25</td>\n",
       "                        <td id=\"T_992c8aaa_ed2c_11e9_84f8_acde48001122row1_col2\" class=\"data row1 col2\" >56,812</td>\n",
       "                        <td id=\"T_992c8aaa_ed2c_11e9_84f8_acde48001122row1_col3\" class=\"data row1 col3\" >150</td>\n",
       "            </tr>\n",
       "    </tbody></table>"
      ],
      "text/plain": [
       "<pandas.io.formats.style.Styler at 0x10582ecc0>"
      ]
     },
     "execution_count": 27,
     "metadata": {},
     "output_type": "execute_result"
    }
   ],
   "source": [
    "print_confusion_matrix(ytest,ypreds_iso,'Isolation Forest')"
   ]
  },
  {
   "cell_type": "code",
   "execution_count": 28,
   "metadata": {
    "ExecuteTime": {
     "end_time": "2019-10-12T20:12:21.698073Z",
     "start_time": "2019-10-12T20:12:21.580533Z"
    }
   },
   "outputs": [
    {
     "data": {
      "text/html": [
       "<style  type=\"text/css\" >\n",
       "    #T_993fba6c_ed2c_11e9_84f8_acde48001122row0_col0 {\n",
       "            background:  lightgreen;\n",
       "            : ;\n",
       "        }    #T_993fba6c_ed2c_11e9_84f8_acde48001122row0_col1 {\n",
       "            : ;\n",
       "            background:  salmon;\n",
       "        }    #T_993fba6c_ed2c_11e9_84f8_acde48001122row1_col0 {\n",
       "            : ;\n",
       "            background:  salmon;\n",
       "        }    #T_993fba6c_ed2c_11e9_84f8_acde48001122row1_col1 {\n",
       "            background:  lightgreen;\n",
       "            : ;\n",
       "        }</style><table id=\"T_993fba6c_ed2c_11e9_84f8_acde48001122\" ><caption>Local Outlier Factor</caption><thead>    <tr>        <th class=\"blank level0\" ></th>        <th class=\"col_heading level0 col0\" >Predicted Class 0</th>        <th class=\"col_heading level0 col1\" >Predicted Class 1</th>        <th class=\"col_heading level0 col2\" >Total Correct</th>        <th class=\"col_heading level0 col3\" >Total Wrong</th>    </tr></thead><tbody>\n",
       "                <tr>\n",
       "                        <th id=\"T_993fba6c_ed2c_11e9_84f8_acde48001122level0_row0\" class=\"row_heading level0 row0\" >Class 0</th>\n",
       "                        <td id=\"T_993fba6c_ed2c_11e9_84f8_acde48001122row0_col0\" class=\"data row0 col0\" >56,750</td>\n",
       "                        <td id=\"T_993fba6c_ed2c_11e9_84f8_acde48001122row0_col1\" class=\"data row0 col1\" >114</td>\n",
       "                        <td id=\"T_993fba6c_ed2c_11e9_84f8_acde48001122row0_col2\" class=\"data row0 col2\" >56,753</td>\n",
       "                        <td id=\"T_993fba6c_ed2c_11e9_84f8_acde48001122row0_col3\" class=\"data row0 col3\" >209</td>\n",
       "            </tr>\n",
       "            <tr>\n",
       "                        <th id=\"T_993fba6c_ed2c_11e9_84f8_acde48001122level0_row1\" class=\"row_heading level0 row1\" >Class 1</th>\n",
       "                        <td id=\"T_993fba6c_ed2c_11e9_84f8_acde48001122row1_col0\" class=\"data row1 col0\" >95</td>\n",
       "                        <td id=\"T_993fba6c_ed2c_11e9_84f8_acde48001122row1_col1\" class=\"data row1 col1\" >3</td>\n",
       "                        <td id=\"T_993fba6c_ed2c_11e9_84f8_acde48001122row1_col2\" class=\"data row1 col2\" >56,753</td>\n",
       "                        <td id=\"T_993fba6c_ed2c_11e9_84f8_acde48001122row1_col3\" class=\"data row1 col3\" >209</td>\n",
       "            </tr>\n",
       "    </tbody></table>"
      ],
      "text/plain": [
       "<pandas.io.formats.style.Styler at 0x11b4462b0>"
      ]
     },
     "execution_count": 28,
     "metadata": {},
     "output_type": "execute_result"
    }
   ],
   "source": [
    "print_confusion_matrix(ytest,ypreds_lof,'Local Outlier Factor')"
   ]
  },
  {
   "cell_type": "code",
   "execution_count": 29,
   "metadata": {
    "ExecuteTime": {
     "end_time": "2019-10-12T20:12:21.849108Z",
     "start_time": "2019-10-12T20:12:21.703632Z"
    }
   },
   "outputs": [],
   "source": [
    "cm = confusion_matrix(ytest,ypreds)"
   ]
  },
  {
   "cell_type": "code",
   "execution_count": 30,
   "metadata": {
    "ExecuteTime": {
     "end_time": "2019-10-12T20:12:22.024634Z",
     "start_time": "2019-10-12T20:12:21.858610Z"
    }
   },
   "outputs": [
    {
     "data": {
      "text/plain": [
       "array([[56787,    77],\n",
       "       [   73,    25]])"
      ]
     },
     "execution_count": 30,
     "metadata": {},
     "output_type": "execute_result"
    }
   ],
   "source": [
    "cm"
   ]
  },
  {
   "cell_type": "code",
   "execution_count": 31,
   "metadata": {
    "ExecuteTime": {
     "end_time": "2019-10-12T20:12:22.541358Z",
     "start_time": "2019-10-12T20:12:22.032232Z"
    }
   },
   "outputs": [
    {
     "data": {
      "text/plain": [
       "(2.0, 0.0)"
      ]
     },
     "execution_count": 31,
     "metadata": {},
     "output_type": "execute_result"
    },
    {
     "data": {
      "image/png": "[encoded data removed]",
      "text/plain": [
       "<Figure size 432x288 with 2 Axes>"
      ]
     },
     "metadata": {
      "needs_background": "light"
     },
     "output_type": "display_data"
    }
   ],
   "source": [
    "ax = sns.heatmap(cm, annot=True)\n",
    "bottom, top = ax.get_ylim()\n",
    "ax.set_ylim(bottom + 0.5, top - 0.5)"
   ]
  },
  {
   "cell_type": "code",
   "execution_count": 32,
   "metadata": {
    "ExecuteTime": {
     "end_time": "2019-10-12T20:12:31.041776Z",
     "start_time": "2019-10-12T20:12:22.591379Z"
    }
   },
   "outputs": [
    {
     "data": {
      "text/html": [
       "        <script type=\"text/javascript\">\n",
       "        window.PlotlyConfig = {MathJaxConfig: 'local'};\n",
       "        if (window.MathJax) {MathJax.Hub.Config({SVG: {font: \"STIX-Web\"}});}\n",
       "        if (typeof require !== 'undefined') {\n",
       "        require.undef(\"plotly\");\n",
       "        requirejs.config({\n",
       "            paths: {\n",
       "                'plotly': ['https://cdn.plot.ly/plotly-latest.min']\n",
       "            }\n",
       "        });\n",
       "        require(['plotly'], function(Plotly) {\n",
       "            window._Plotly = Plotly;\n",
       "        });\n",
       "        }\n",
       "        </script>\n",
       "        "
      ]
     },
     "metadata": {},
     "output_type": "display_data"
    }
   ],
   "source": [
    "from bhishan.util_plot_model_eval import plotly_binary_clf_evaluation\n",
    "\n",
    "yscore_iso = clf_iso.decision_function(Xtest)\n",
    "\n",
    "ofile = '../reports/html/isolation_forest_model_evaluation.html'\n",
    "plotly_binary_clf_evaluation('clf_iso',clf_iso,ytest,ypreds_iso,yscore_iso,df,ofile=ofile,show=False)\n",
    "\n",
    "plotly_binary_clf_evaluation('clf_iso',clf_iso,ytest,ypreds_iso,yscore_iso,df,show=True)"
   ]
  },
  {
   "cell_type": "markdown",
   "metadata": {},
   "source": []
  }
 ],
 "metadata": {
  "kernelspec": {
   "display_name": "Python (dataSc)",
   "language": "python",
   "name": "datasc"
  },
  "language_info": {
   "codemirror_mode": {
    "name": "ipython",
    "version": 3
   },
   "file_extension": ".py",
   "mimetype": "text/x-python",
   "name": "python",
   "nbconvert_exporter": "python",
   "pygments_lexer": "ipython3",
   "version": "3.7.3"
  },
  "toc": {
   "base_numbering": 1,
   "nav_menu": {},
   "number_sections": true,
   "sideBar": true,
   "skip_h1_title": false,
   "title_cell": "Table of Contents",
   "title_sidebar": "Contents",
   "toc_cell": true,
   "toc_position": {},
   "toc_section_display": true,
   "toc_window_display": true
  }
 },
 "nbformat": 4,
 "nbformat_minor": 2
}
