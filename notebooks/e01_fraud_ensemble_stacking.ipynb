{
 "cells": [
  {
   "cell_type": "markdown",
   "metadata": {
    "toc": true
   },
   "source": [
    "<h1>Table of Contents<span class=\"tocSkip\"></span></h1>\n",
    "<div class=\"toc\"><ul class=\"toc-item\"><li><span><a href=\"#Data-Description\" data-toc-modified-id=\"Data-Description-1\"><span class=\"toc-item-num\">1&nbsp;&nbsp;</span>Data Description</a></span></li><li><span><a href=\"#Business-Problem\" data-toc-modified-id=\"Business-Problem-2\"><span class=\"toc-item-num\">2&nbsp;&nbsp;</span>Business Problem</a></span></li><li><span><a href=\"#Imports\" data-toc-modified-id=\"Imports-3\"><span class=\"toc-item-num\">3&nbsp;&nbsp;</span>Imports</a></span></li><li><span><a href=\"#Colab\" data-toc-modified-id=\"Colab-4\"><span class=\"toc-item-num\">4&nbsp;&nbsp;</span>Colab</a></span></li><li><span><a href=\"#Useful-Functions\" data-toc-modified-id=\"Useful-Functions-5\"><span class=\"toc-item-num\">5&nbsp;&nbsp;</span>Useful Functions</a></span></li><li><span><a href=\"#Load-the-data\" data-toc-modified-id=\"Load-the-data-6\"><span class=\"toc-item-num\">6&nbsp;&nbsp;</span>Load the data</a></span></li><li><span><a href=\"#Data-Processing\" data-toc-modified-id=\"Data-Processing-7\"><span class=\"toc-item-num\">7&nbsp;&nbsp;</span>Data Processing</a></span></li><li><span><a href=\"#Train-test-split\" data-toc-modified-id=\"Train-test-split-8\"><span class=\"toc-item-num\">8&nbsp;&nbsp;</span>Train test split</a></span></li><li><span><a href=\"#Train-Validation-with-stratify\" data-toc-modified-id=\"Train-Validation-with-stratify-9\"><span class=\"toc-item-num\">9&nbsp;&nbsp;</span>Train Validation with stratify</a></span></li><li><span><a href=\"#Modelling\" data-toc-modified-id=\"Modelling-10\"><span class=\"toc-item-num\">10&nbsp;&nbsp;</span>Modelling</a></span><ul class=\"toc-item\"><li><span><a href=\"#Setup-Models\" data-toc-modified-id=\"Setup-Models-10.1\"><span class=\"toc-item-num\">10.1&nbsp;&nbsp;</span>Setup Models</a></span></li></ul></li><li><span><a href=\"#Fit-the-models\" data-toc-modified-id=\"Fit-the-models-11\"><span class=\"toc-item-num\">11&nbsp;&nbsp;</span>Fit the models</a></span></li><li><span><a href=\"#Model-Comparison\" data-toc-modified-id=\"Model-Comparison-12\"><span class=\"toc-item-num\">12&nbsp;&nbsp;</span>Model Comparison</a></span></li><li><span><a href=\"#Time-Taken\" data-toc-modified-id=\"Time-Taken-13\"><span class=\"toc-item-num\">13&nbsp;&nbsp;</span>Time Taken</a></span></li></ul></div>"
   ]
  },
  {
   "cell_type": "markdown",
   "metadata": {
    "colab_type": "text",
    "id": "aF0vfOSoRKbV"
   },
   "source": [
    "<div class=\"alert alert-block alert-success\">\n",
    "<b>Kernel Author:</b>  <br>\n",
    "<a href=\"https://bhishanpdl.github.io/\" , target=\"_blank\">Bhishan Poudel,  Data Scientist, Ph.D Astrophysics</a> .\n",
    "</div>"
   ]
  },
  {
   "cell_type": "markdown",
   "metadata": {
    "colab_type": "text",
    "id": "ZrcXZt_lRUTH"
   },
   "source": [
    "# Data Description\n",
    "\n",
    "> The datasets contains transactions made by credit cards in September\n",
    "2013 by european cardholders.\n",
    "\n",
    "\n",
    "> This dataset presents transactions that occurred in two days,\n",
    "where we have 492 frauds out of 284,807 transactions. \n",
    "\n",
    "> The dataset is highly unbalanced, the positive class (frauds)\n",
    "account for 0.172% of all transactions.\n",
    "\n",
    "> It contains only numerical input variables which are\n",
    "the result of a PCA transformation.\n",
    "\n",
    "\n",
    "> Unfortunately, due to confidentiality issues,\n",
    "we cannot provide the original features and \n",
    "more background information about the data.\n",
    "\n",
    "\n",
    "> Features V1, V2, ... V28 are the principal\n",
    "components obtained with PCA,\n",
    "the only features which have not been transformed with PCA are 'Time' and 'Amount'. \n",
    "\n",
    "> Feature 'Time' contains the seconds elapsed between each transaction\n",
    "and the first transaction in the dataset. The feature 'Amount'\n",
    "is the transaction Amount, this feature can be used for \n",
    "example-dependant cost-senstive learning. \n",
    "\n",
    "> Feature 'Class' is the response variable and it takes value\n",
    "1 in case of fraud and 0 otherwise."
   ]
  },
  {
   "cell_type": "markdown",
   "metadata": {
    "colab_type": "text",
    "id": "Z46Gwfc3Rcwk"
   },
   "source": [
    "# Business Problem\n",
    "\n",
    "<div class=\"alert alert-block alert-success\">\n",
    "<b>Business Problem:</b>  <br>\n",
    "Task &nbsp;&nbsp; : Detect the fraudulent activities. <br>\n",
    "Metric : Recall <br>\n",
    "Sampling: Synthetic Minority Over-Sampling Technique (SMOTE) <br>\n",
    "Question: How many frauds are correctly classified?\n",
    "</div>"
   ]
  },
  {
   "cell_type": "markdown",
   "metadata": {
    "colab_type": "text",
    "id": "8vuUeq0iRjZn"
   },
   "source": [
    "# Imports"
   ]
  },
  {
   "cell_type": "code",
   "execution_count": 1,
   "metadata": {
    "ExecuteTime": {
     "end_time": "2021-08-10T14:34:11.948571Z",
     "start_time": "2021-08-10T14:34:11.943605Z"
    },
    "colab": {},
    "colab_type": "code",
    "id": "Zv0HTLcCRdfB"
   },
   "outputs": [],
   "source": [
    "import time\n",
    "\n",
    "time_start_notebook = time.time()"
   ]
  },
  {
   "cell_type": "code",
   "execution_count": 2,
   "metadata": {
    "ExecuteTime": {
     "end_time": "2021-08-10T14:34:16.861636Z",
     "start_time": "2021-08-10T14:34:11.955218Z"
    },
    "colab": {
     "base_uri": "https://localhost:8080/",
     "height": 90
    },
    "colab_type": "code",
    "id": "6fLyC776RmGc",
    "outputId": "30e8ac1d-c173-4ecc-cb0c-55d8f3b4de4c"
   },
   "outputs": [
    {
     "name": "stdout",
     "output_type": "stream",
     "text": [
      "Bhishan Poudel 2021-08-10 \n",
      "\n",
      "CPython 3.7.7\n",
      "IPython 7.22.0\n",
      "\n",
      "compiler   : Clang 4.0.1 (tags/RELEASE_401/final)\n",
      "system     : Darwin\n",
      "release    : 19.6.0\n",
      "machine    : x86_64\n",
      "processor  : i386\n",
      "CPU cores  : 4\n",
      "interpreter: 64bit\n",
      "\n",
      "json     2.0.9\n",
      "numpy    1.19.5\n",
      "seaborn  0.11.0\n",
      "autopep8 1.5.2\n",
      "sklearn  0.23.1\n",
      "pandas   1.3.0\n",
      "\n"
     ]
    }
   ],
   "source": [
    "import numpy as np\n",
    "import pandas as pd\n",
    "import seaborn as sns\n",
    "import os\n",
    "from pathlib import Path\n",
    "\n",
    "from tqdm import tqdm_notebook as tqdm\n",
    "import matplotlib.pyplot as plt\n",
    "\n",
    "%matplotlib inline\n",
    "%config InlineBackend.figure_format = 'retina'\n",
    "plt.style.use('ggplot') \n",
    "\n",
    "# random state\n",
    "SEED = 0\n",
    "RNG = np.random.RandomState(SEED)\n",
    "\n",
    "home = os.path.expanduser('~')\n",
    "\n",
    "# Models\n",
    "import sklearn\n",
    "\n",
    "from sklearn.model_selection import train_test_split\n",
    "from sklearn.discriminant_analysis import LinearDiscriminantAnalysis\n",
    "\n",
    "from xgboost import XGBClassifier\n",
    "from lightgbm import LGBMClassifier\n",
    "from catboost import CatBoostClassifier\n",
    "\n",
    "from mlxtend.classifier import StackingCVClassifier\n",
    "\n",
    "from sklearn.metrics import accuracy_score, precision_score, recall_score, f1_score\n",
    "from sklearn.metrics import confusion_matrix\n",
    "\n",
    "%load_ext watermark\n",
    "%watermark -a \"Bhishan Poudel\" -d -v -m\n",
    "print()\n",
    "%watermark -iv"
   ]
  },
  {
   "cell_type": "code",
   "execution_count": 3,
   "metadata": {
    "ExecuteTime": {
     "end_time": "2021-08-10T14:34:18.883586Z",
     "start_time": "2021-08-10T14:34:16.880334Z"
    }
   },
   "outputs": [],
   "source": [
    "# my local library\n",
    "import sys\n",
    "sys.path.append(\"/Users/poudel/Dropbox/a00_Bhishan_Modules/bhishan/\")\n",
    "from bhishan import bp"
   ]
  },
  {
   "cell_type": "markdown",
   "metadata": {
    "ExecuteTime": {
     "end_time": "2021-08-10T13:59:22.147749Z",
     "start_time": "2021-08-10T13:59:21.959832Z"
    },
    "colab": {},
    "colab_type": "code",
    "id": "scVctCs7HnQo"
   },
   "source": [
    "# Colab"
   ]
  },
  {
   "cell_type": "code",
   "execution_count": 4,
   "metadata": {
    "ExecuteTime": {
     "end_time": "2021-08-10T14:34:18.917622Z",
     "start_time": "2021-08-10T14:34:18.907130Z"
    },
    "colab": {
     "base_uri": "https://localhost:8080/",
     "height": 374
    },
    "colab_type": "code",
    "id": "c4omENGYRoW5",
    "outputId": "4f1e0cd4-08fe-406f-d5c0-a5d25b3ce2a4"
   },
   "outputs": [],
   "source": [
    "import sys\n",
    "ENV_COLAB = 'google.colab' in sys.modules\n",
    "\n",
    "if ENV_COLAB:\n",
    "    !pip install catboost\n",
    "    print('Environment: Google Colab')"
   ]
  },
  {
   "cell_type": "markdown",
   "metadata": {},
   "source": [
    "# Useful Functions"
   ]
  },
  {
   "cell_type": "code",
   "execution_count": 5,
   "metadata": {
    "ExecuteTime": {
     "end_time": "2021-08-10T14:34:18.974111Z",
     "start_time": "2021-08-10T14:34:18.968305Z"
    }
   },
   "outputs": [],
   "source": [
    "def get_profit(y_true, y_pred):\n",
    "    tn, fp, fn, tp = sklearn.metrics.confusion_matrix(y_true,y_pred).ravel()\n",
    "    profit = 400*tp - 200*fn - 100*fp\n",
    "    return profit\n",
    "\n",
    "scoring = sklearn.metrics.make_scorer(get_profit, greater_is_better=True)"
   ]
  },
  {
   "cell_type": "markdown",
   "metadata": {
    "colab_type": "text",
    "id": "b2I2KshNSGUi"
   },
   "source": [
    "# Load the data"
   ]
  },
  {
   "cell_type": "code",
   "execution_count": 6,
   "metadata": {
    "ExecuteTime": {
     "end_time": "2021-08-10T14:34:29.992745Z",
     "start_time": "2021-08-10T14:34:19.007666Z"
    },
    "colab": {
     "base_uri": "https://localhost:8080/",
     "height": 235
    },
    "colab_type": "code",
    "id": "KjmdL7RRSD1r",
    "outputId": "f0b67b7d-9ce4-49de-dd20-49dc06bf2ac3"
   },
   "outputs": [
    {
     "name": "stdout",
     "output_type": "stream",
     "text": [
      "(284807, 31)\n"
     ]
    },
    {
     "data": {
      "text/html": [
       "<div>\n",
       "<style scoped>\n",
       "    .dataframe tbody tr th:only-of-type {\n",
       "        vertical-align: middle;\n",
       "    }\n",
       "\n",
       "    .dataframe tbody tr th {\n",
       "        vertical-align: top;\n",
       "    }\n",
       "\n",
       "    .dataframe thead th {\n",
       "        text-align: right;\n",
       "    }\n",
       "</style>\n",
       "<table border=\"1\" class=\"dataframe\">\n",
       "  <thead>\n",
       "    <tr style=\"text-align: right;\">\n",
       "      <th></th>\n",
       "      <th>Time</th>\n",
       "      <th>V1</th>\n",
       "      <th>V2</th>\n",
       "      <th>V3</th>\n",
       "      <th>V4</th>\n",
       "      <th>V5</th>\n",
       "      <th>V6</th>\n",
       "      <th>V7</th>\n",
       "      <th>V8</th>\n",
       "      <th>V9</th>\n",
       "      <th>...</th>\n",
       "      <th>V21</th>\n",
       "      <th>V22</th>\n",
       "      <th>V23</th>\n",
       "      <th>V24</th>\n",
       "      <th>V25</th>\n",
       "      <th>V26</th>\n",
       "      <th>V27</th>\n",
       "      <th>V28</th>\n",
       "      <th>Amount</th>\n",
       "      <th>Class</th>\n",
       "    </tr>\n",
       "  </thead>\n",
       "  <tbody>\n",
       "    <tr>\n",
       "      <th>0</th>\n",
       "      <td>0.0</td>\n",
       "      <td>-1.359807</td>\n",
       "      <td>-0.072781</td>\n",
       "      <td>2.536347</td>\n",
       "      <td>1.378155</td>\n",
       "      <td>-0.338321</td>\n",
       "      <td>0.462388</td>\n",
       "      <td>0.239599</td>\n",
       "      <td>0.098698</td>\n",
       "      <td>0.363787</td>\n",
       "      <td>...</td>\n",
       "      <td>-0.018307</td>\n",
       "      <td>0.277838</td>\n",
       "      <td>-0.110474</td>\n",
       "      <td>0.066928</td>\n",
       "      <td>0.128539</td>\n",
       "      <td>-0.189115</td>\n",
       "      <td>0.133558</td>\n",
       "      <td>-0.021053</td>\n",
       "      <td>149.62</td>\n",
       "      <td>0</td>\n",
       "    </tr>\n",
       "    <tr>\n",
       "      <th>1</th>\n",
       "      <td>0.0</td>\n",
       "      <td>1.191857</td>\n",
       "      <td>0.266151</td>\n",
       "      <td>0.166480</td>\n",
       "      <td>0.448154</td>\n",
       "      <td>0.060018</td>\n",
       "      <td>-0.082361</td>\n",
       "      <td>-0.078803</td>\n",
       "      <td>0.085102</td>\n",
       "      <td>-0.255425</td>\n",
       "      <td>...</td>\n",
       "      <td>-0.225775</td>\n",
       "      <td>-0.638672</td>\n",
       "      <td>0.101288</td>\n",
       "      <td>-0.339846</td>\n",
       "      <td>0.167170</td>\n",
       "      <td>0.125895</td>\n",
       "      <td>-0.008983</td>\n",
       "      <td>0.014724</td>\n",
       "      <td>2.69</td>\n",
       "      <td>0</td>\n",
       "    </tr>\n",
       "    <tr>\n",
       "      <th>2</th>\n",
       "      <td>1.0</td>\n",
       "      <td>-1.358354</td>\n",
       "      <td>-1.340163</td>\n",
       "      <td>1.773209</td>\n",
       "      <td>0.379780</td>\n",
       "      <td>-0.503198</td>\n",
       "      <td>1.800499</td>\n",
       "      <td>0.791461</td>\n",
       "      <td>0.247676</td>\n",
       "      <td>-1.514654</td>\n",
       "      <td>...</td>\n",
       "      <td>0.247998</td>\n",
       "      <td>0.771679</td>\n",
       "      <td>0.909412</td>\n",
       "      <td>-0.689281</td>\n",
       "      <td>-0.327642</td>\n",
       "      <td>-0.139097</td>\n",
       "      <td>-0.055353</td>\n",
       "      <td>-0.059752</td>\n",
       "      <td>378.66</td>\n",
       "      <td>0</td>\n",
       "    </tr>\n",
       "    <tr>\n",
       "      <th>3</th>\n",
       "      <td>1.0</td>\n",
       "      <td>-0.966272</td>\n",
       "      <td>-0.185226</td>\n",
       "      <td>1.792993</td>\n",
       "      <td>-0.863291</td>\n",
       "      <td>-0.010309</td>\n",
       "      <td>1.247203</td>\n",
       "      <td>0.237609</td>\n",
       "      <td>0.377436</td>\n",
       "      <td>-1.387024</td>\n",
       "      <td>...</td>\n",
       "      <td>-0.108300</td>\n",
       "      <td>0.005274</td>\n",
       "      <td>-0.190321</td>\n",
       "      <td>-1.175575</td>\n",
       "      <td>0.647376</td>\n",
       "      <td>-0.221929</td>\n",
       "      <td>0.062723</td>\n",
       "      <td>0.061458</td>\n",
       "      <td>123.50</td>\n",
       "      <td>0</td>\n",
       "    </tr>\n",
       "    <tr>\n",
       "      <th>4</th>\n",
       "      <td>2.0</td>\n",
       "      <td>-1.158233</td>\n",
       "      <td>0.877737</td>\n",
       "      <td>1.548718</td>\n",
       "      <td>0.403034</td>\n",
       "      <td>-0.407193</td>\n",
       "      <td>0.095921</td>\n",
       "      <td>0.592941</td>\n",
       "      <td>-0.270533</td>\n",
       "      <td>0.817739</td>\n",
       "      <td>...</td>\n",
       "      <td>-0.009431</td>\n",
       "      <td>0.798278</td>\n",
       "      <td>-0.137458</td>\n",
       "      <td>0.141267</td>\n",
       "      <td>-0.206010</td>\n",
       "      <td>0.502292</td>\n",
       "      <td>0.219422</td>\n",
       "      <td>0.215153</td>\n",
       "      <td>69.99</td>\n",
       "      <td>0</td>\n",
       "    </tr>\n",
       "  </tbody>\n",
       "</table>\n",
       "<p>5 rows × 31 columns</p>\n",
       "</div>"
      ],
      "text/plain": [
       "   Time        V1        V2        V3        V4        V5        V6        V7  \\\n",
       "0   0.0 -1.359807 -0.072781  2.536347  1.378155 -0.338321  0.462388  0.239599   \n",
       "1   0.0  1.191857  0.266151  0.166480  0.448154  0.060018 -0.082361 -0.078803   \n",
       "2   1.0 -1.358354 -1.340163  1.773209  0.379780 -0.503198  1.800499  0.791461   \n",
       "3   1.0 -0.966272 -0.185226  1.792993 -0.863291 -0.010309  1.247203  0.237609   \n",
       "4   2.0 -1.158233  0.877737  1.548718  0.403034 -0.407193  0.095921  0.592941   \n",
       "\n",
       "         V8        V9  ...       V21       V22       V23       V24       V25  \\\n",
       "0  0.098698  0.363787  ... -0.018307  0.277838 -0.110474  0.066928  0.128539   \n",
       "1  0.085102 -0.255425  ... -0.225775 -0.638672  0.101288 -0.339846  0.167170   \n",
       "2  0.247676 -1.514654  ...  0.247998  0.771679  0.909412 -0.689281 -0.327642   \n",
       "3  0.377436 -1.387024  ... -0.108300  0.005274 -0.190321 -1.175575  0.647376   \n",
       "4 -0.270533  0.817739  ... -0.009431  0.798278 -0.137458  0.141267 -0.206010   \n",
       "\n",
       "        V26       V27       V28  Amount  Class  \n",
       "0 -0.189115  0.133558 -0.021053  149.62      0  \n",
       "1  0.125895 -0.008983  0.014724    2.69      0  \n",
       "2 -0.139097 -0.055353 -0.059752  378.66      0  \n",
       "3 -0.221929  0.062723  0.061458  123.50      0  \n",
       "4  0.502292  0.219422  0.215153   69.99      0  \n",
       "\n",
       "[5 rows x 31 columns]"
      ]
     },
     "execution_count": 6,
     "metadata": {},
     "output_type": "execute_result"
    }
   ],
   "source": [
    "ifile = 'https://github.com/bhishanpdl/Datasets/blob/master/Projects/Fraud_detection/raw/creditcard.csv.zip?raw=true'\n",
    "df = pd.read_csv(ifile,compression='zip')\n",
    "print(df.shape)\n",
    "df.head()"
   ]
  },
  {
   "cell_type": "code",
   "execution_count": 7,
   "metadata": {
    "ExecuteTime": {
     "end_time": "2021-08-10T14:34:30.055635Z",
     "start_time": "2021-08-10T14:34:30.012361Z"
    },
    "colab": {
     "base_uri": "https://localhost:8080/",
     "height": 70
    },
    "colab_type": "code",
    "id": "-41_1myzOmfV",
    "outputId": "fcea84e0-5266-416a-a4a9-7b2280ca4aaf"
   },
   "outputs": [
    {
     "data": {
      "text/plain": [
       "0    99.827251\n",
       "1     0.172749\n",
       "Name: Class, dtype: float64"
      ]
     },
     "execution_count": 7,
     "metadata": {},
     "output_type": "execute_result"
    }
   ],
   "source": [
    "target = 'Class'\n",
    "features = df.columns.drop(target)\n",
    "df[target].value_counts(normalize=True)*100"
   ]
  },
  {
   "cell_type": "code",
   "execution_count": 8,
   "metadata": {
    "ExecuteTime": {
     "end_time": "2021-08-10T14:34:30.778425Z",
     "start_time": "2021-08-10T14:34:30.062709Z"
    },
    "colab": {
     "base_uri": "https://localhost:8080/",
     "height": 298
    },
    "colab_type": "code",
    "id": "6w5eQBpkOqw6",
    "outputId": "a522d8ab-9719-44b6-d3af-e9cd459551d2"
   },
   "outputs": [
    {
     "name": "stderr",
     "output_type": "stream",
     "text": [
      "/Users/poudel/opt/miniconda3/envs/dataSc/lib/python3.7/site-packages/seaborn/_decorators.py:43: FutureWarning:\n",
      "\n",
      "Pass the following variable as a keyword arg: x. From version 0.12, the only valid positional argument will be `data`, and passing other arguments without an explicit keyword will result in an error or misinterpretation.\n",
      "\n"
     ]
    },
    {
     "data": {
      "text/plain": [
       "<matplotlib.axes._subplots.AxesSubplot at 0x7fc23760d850>"
      ]
     },
     "execution_count": 8,
     "metadata": {},
     "output_type": "execute_result"
    },
    {
     "data": {
      "image/png": "[encoded data removed]",
      "text/plain": [
       "<Figure size 432x288 with 1 Axes>"
      ]
     },
     "metadata": {
      "image/png": {
       "height": 266,
       "width": 410
      }
     },
     "output_type": "display_data"
    }
   ],
   "source": [
    "sns.countplot(df[target])"
   ]
  },
  {
   "cell_type": "markdown",
   "metadata": {
    "colab_type": "text",
    "id": "1NRtTZS8M3sJ"
   },
   "source": [
    "# Data Processing"
   ]
  },
  {
   "cell_type": "markdown",
   "metadata": {
    "colab_type": "text",
    "id": "g9XYITLUSWpA"
   },
   "source": [
    "# Train test split"
   ]
  },
  {
   "cell_type": "code",
   "execution_count": 9,
   "metadata": {
    "ExecuteTime": {
     "end_time": "2021-08-10T14:34:31.739348Z",
     "start_time": "2021-08-10T14:34:30.791459Z"
    },
    "colab": {
     "base_uri": "https://localhost:8080/",
     "height": 235
    },
    "colab_type": "code",
    "id": "odBF6q99STp2",
    "outputId": "52dc9ee7-d23e-4176-ad55-cc6406c17371"
   },
   "outputs": [
    {
     "name": "stdout",
     "output_type": "stream",
     "text": [
      "(227845, 30)\n"
     ]
    },
    {
     "data": {
      "text/html": [
       "<div>\n",
       "<style scoped>\n",
       "    .dataframe tbody tr th:only-of-type {\n",
       "        vertical-align: middle;\n",
       "    }\n",
       "\n",
       "    .dataframe tbody tr th {\n",
       "        vertical-align: top;\n",
       "    }\n",
       "\n",
       "    .dataframe thead th {\n",
       "        text-align: right;\n",
       "    }\n",
       "</style>\n",
       "<table border=\"1\" class=\"dataframe\">\n",
       "  <thead>\n",
       "    <tr style=\"text-align: right;\">\n",
       "      <th></th>\n",
       "      <th>Time</th>\n",
       "      <th>V1</th>\n",
       "      <th>V2</th>\n",
       "      <th>V3</th>\n",
       "      <th>V4</th>\n",
       "      <th>V5</th>\n",
       "      <th>V6</th>\n",
       "      <th>V7</th>\n",
       "      <th>V8</th>\n",
       "      <th>V9</th>\n",
       "      <th>...</th>\n",
       "      <th>V20</th>\n",
       "      <th>V21</th>\n",
       "      <th>V22</th>\n",
       "      <th>V23</th>\n",
       "      <th>V24</th>\n",
       "      <th>V25</th>\n",
       "      <th>V26</th>\n",
       "      <th>V27</th>\n",
       "      <th>V28</th>\n",
       "      <th>Amount</th>\n",
       "    </tr>\n",
       "  </thead>\n",
       "  <tbody>\n",
       "    <tr>\n",
       "      <th>36001</th>\n",
       "      <td>38355.0</td>\n",
       "      <td>1.043949</td>\n",
       "      <td>0.318555</td>\n",
       "      <td>1.045810</td>\n",
       "      <td>2.805989</td>\n",
       "      <td>-0.561113</td>\n",
       "      <td>-0.367956</td>\n",
       "      <td>0.032736</td>\n",
       "      <td>-0.042333</td>\n",
       "      <td>-0.322674</td>\n",
       "      <td>...</td>\n",
       "      <td>-0.084556</td>\n",
       "      <td>-0.240105</td>\n",
       "      <td>-0.680315</td>\n",
       "      <td>0.085328</td>\n",
       "      <td>0.684812</td>\n",
       "      <td>0.318620</td>\n",
       "      <td>-0.204963</td>\n",
       "      <td>0.001662</td>\n",
       "      <td>0.037894</td>\n",
       "      <td>49.67</td>\n",
       "    </tr>\n",
       "    <tr>\n",
       "      <th>12844</th>\n",
       "      <td>22555.0</td>\n",
       "      <td>-1.665159</td>\n",
       "      <td>0.808440</td>\n",
       "      <td>1.805627</td>\n",
       "      <td>1.903416</td>\n",
       "      <td>-0.821627</td>\n",
       "      <td>0.934790</td>\n",
       "      <td>-0.824802</td>\n",
       "      <td>0.975890</td>\n",
       "      <td>1.747469</td>\n",
       "      <td>...</td>\n",
       "      <td>-0.373759</td>\n",
       "      <td>-0.335332</td>\n",
       "      <td>-0.510994</td>\n",
       "      <td>0.035839</td>\n",
       "      <td>0.147565</td>\n",
       "      <td>-0.529358</td>\n",
       "      <td>-0.566950</td>\n",
       "      <td>-0.595998</td>\n",
       "      <td>-0.220086</td>\n",
       "      <td>16.94</td>\n",
       "    </tr>\n",
       "    <tr>\n",
       "      <th>2873</th>\n",
       "      <td>2431.0</td>\n",
       "      <td>-0.324096</td>\n",
       "      <td>0.601836</td>\n",
       "      <td>0.865329</td>\n",
       "      <td>-2.138000</td>\n",
       "      <td>0.294663</td>\n",
       "      <td>-1.251553</td>\n",
       "      <td>1.072114</td>\n",
       "      <td>-0.334896</td>\n",
       "      <td>1.071268</td>\n",
       "      <td>...</td>\n",
       "      <td>-0.039868</td>\n",
       "      <td>0.012220</td>\n",
       "      <td>0.352856</td>\n",
       "      <td>-0.341505</td>\n",
       "      <td>-0.145791</td>\n",
       "      <td>0.094194</td>\n",
       "      <td>-0.804026</td>\n",
       "      <td>0.229428</td>\n",
       "      <td>-0.021623</td>\n",
       "      <td>1.00</td>\n",
       "    </tr>\n",
       "    <tr>\n",
       "      <th>145263</th>\n",
       "      <td>86773.0</td>\n",
       "      <td>-0.258270</td>\n",
       "      <td>1.217501</td>\n",
       "      <td>-0.585348</td>\n",
       "      <td>-0.875347</td>\n",
       "      <td>1.222481</td>\n",
       "      <td>-0.311027</td>\n",
       "      <td>1.073860</td>\n",
       "      <td>-0.161408</td>\n",
       "      <td>0.200665</td>\n",
       "      <td>...</td>\n",
       "      <td>0.382305</td>\n",
       "      <td>-0.424626</td>\n",
       "      <td>-0.781158</td>\n",
       "      <td>0.019316</td>\n",
       "      <td>0.178614</td>\n",
       "      <td>-0.315616</td>\n",
       "      <td>0.096665</td>\n",
       "      <td>0.269740</td>\n",
       "      <td>-0.020635</td>\n",
       "      <td>10.78</td>\n",
       "    </tr>\n",
       "    <tr>\n",
       "      <th>186658</th>\n",
       "      <td>127202.0</td>\n",
       "      <td>2.142162</td>\n",
       "      <td>-0.494988</td>\n",
       "      <td>-1.936511</td>\n",
       "      <td>-0.818288</td>\n",
       "      <td>-0.025213</td>\n",
       "      <td>-1.027245</td>\n",
       "      <td>-0.151627</td>\n",
       "      <td>-0.305750</td>\n",
       "      <td>-0.869482</td>\n",
       "      <td>...</td>\n",
       "      <td>0.106592</td>\n",
       "      <td>0.010115</td>\n",
       "      <td>0.021722</td>\n",
       "      <td>0.079463</td>\n",
       "      <td>-0.480899</td>\n",
       "      <td>0.023846</td>\n",
       "      <td>-0.279076</td>\n",
       "      <td>-0.030121</td>\n",
       "      <td>-0.043888</td>\n",
       "      <td>39.96</td>\n",
       "    </tr>\n",
       "  </tbody>\n",
       "</table>\n",
       "<p>5 rows × 30 columns</p>\n",
       "</div>"
      ],
      "text/plain": [
       "            Time        V1        V2        V3        V4        V5        V6  \\\n",
       "36001    38355.0  1.043949  0.318555  1.045810  2.805989 -0.561113 -0.367956   \n",
       "12844    22555.0 -1.665159  0.808440  1.805627  1.903416 -0.821627  0.934790   \n",
       "2873      2431.0 -0.324096  0.601836  0.865329 -2.138000  0.294663 -1.251553   \n",
       "145263   86773.0 -0.258270  1.217501 -0.585348 -0.875347  1.222481 -0.311027   \n",
       "186658  127202.0  2.142162 -0.494988 -1.936511 -0.818288 -0.025213 -1.027245   \n",
       "\n",
       "              V7        V8        V9  ...       V20       V21       V22  \\\n",
       "36001   0.032736 -0.042333 -0.322674  ... -0.084556 -0.240105 -0.680315   \n",
       "12844  -0.824802  0.975890  1.747469  ... -0.373759 -0.335332 -0.510994   \n",
       "2873    1.072114 -0.334896  1.071268  ... -0.039868  0.012220  0.352856   \n",
       "145263  1.073860 -0.161408  0.200665  ...  0.382305 -0.424626 -0.781158   \n",
       "186658 -0.151627 -0.305750 -0.869482  ...  0.106592  0.010115  0.021722   \n",
       "\n",
       "             V23       V24       V25       V26       V27       V28  Amount  \n",
       "36001   0.085328  0.684812  0.318620 -0.204963  0.001662  0.037894   49.67  \n",
       "12844   0.035839  0.147565 -0.529358 -0.566950 -0.595998 -0.220086   16.94  \n",
       "2873   -0.341505 -0.145791  0.094194 -0.804026  0.229428 -0.021623    1.00  \n",
       "145263  0.019316  0.178614 -0.315616  0.096665  0.269740 -0.020635   10.78  \n",
       "186658  0.079463 -0.480899  0.023846 -0.279076 -0.030121 -0.043888   39.96  \n",
       "\n",
       "[5 rows x 30 columns]"
      ]
     },
     "execution_count": 9,
     "metadata": {},
     "output_type": "execute_result"
    }
   ],
   "source": [
    "from sklearn.model_selection import train_test_split\n",
    "\n",
    "df_Xtrain_orig, df_Xtest, ser_ytrain_orig, ser_ytest = train_test_split(\n",
    "    df.drop(target,axis=1), \n",
    "    df[target],\n",
    "    test_size=0.2, \n",
    "    random_state=SEED, \n",
    "    stratify=df[target])\n",
    "\n",
    "ytrain_orig = ser_ytrain_orig.to_numpy().ravel()\n",
    "ytest = ser_ytest.to_numpy().ravel()\n",
    "\n",
    "print(df_Xtrain_orig.shape)\n",
    "df_Xtrain_orig.head()"
   ]
  },
  {
   "cell_type": "markdown",
   "metadata": {
    "colab_type": "text",
    "id": "V3yzn9G7O60C"
   },
   "source": [
    "# Train Validation with stratify"
   ]
  },
  {
   "cell_type": "code",
   "execution_count": 10,
   "metadata": {
    "ExecuteTime": {
     "end_time": "2021-08-10T14:34:32.377420Z",
     "start_time": "2021-08-10T14:34:31.754275Z"
    },
    "colab": {
     "base_uri": "https://localhost:8080/",
     "height": 34
    },
    "colab_type": "code",
    "id": "iYmdSn4BO-m5",
    "outputId": "83dd43dc-c214-4da1-cd99-50068ab84c73"
   },
   "outputs": [
    {
     "name": "stdout",
     "output_type": "stream",
     "text": [
      "(182276, 30)\n"
     ]
    }
   ],
   "source": [
    "df_Xtrain, df_Xvalid, ser_ytrain, ser_yvalid = train_test_split(\n",
    "    df_Xtrain_orig, \n",
    "    ser_ytrain_orig,\n",
    "    test_size=0.2, \n",
    "    random_state=SEED, \n",
    "    stratify=ser_ytrain_orig)\n",
    "\n",
    "\n",
    "ytrain = ser_ytrain.to_numpy().ravel()\n",
    "yvalid = ser_yvalid.to_numpy().ravel()\n",
    "\n",
    "print(df_Xtrain.shape)"
   ]
  },
  {
   "cell_type": "markdown",
   "metadata": {
    "colab_type": "text",
    "id": "vkC5n6muJSeS"
   },
   "source": [
    "# Modelling"
   ]
  },
  {
   "cell_type": "markdown",
   "metadata": {
    "colab_type": "text",
    "id": "C7zZFCfgXSeE"
   },
   "source": [
    "## Setup Models"
   ]
  },
  {
   "cell_type": "code",
   "execution_count": 11,
   "metadata": {
    "ExecuteTime": {
     "end_time": "2021-08-10T14:34:32.437876Z",
     "start_time": "2021-08-10T14:34:32.425373Z"
    },
    "colab": {},
    "colab_type": "code",
    "id": "36x5YEUiWyp8"
   },
   "outputs": [],
   "source": [
    "from sklearn.discriminant_analysis import LinearDiscriminantAnalysis\n",
    "\n",
    "lda = LinearDiscriminantAnalysis(n_components=None,\n",
    "                           priors=None,\n",
    "                           shrinkage=None,\n",
    "                           solver='svd',\n",
    "                           store_covariance=False,\n",
    "                           tol=0.0001)"
   ]
  },
  {
   "cell_type": "code",
   "execution_count": 12,
   "metadata": {
    "ExecuteTime": {
     "end_time": "2021-08-10T14:34:32.488527Z",
     "start_time": "2021-08-10T14:34:32.468220Z"
    },
    "colab": {},
    "colab_type": "code",
    "id": "HfTZ7_ecSvtx"
   },
   "outputs": [],
   "source": [
    "from xgboost import XGBClassifier\n",
    "from lightgbm import LGBMClassifier\n",
    "from catboost import CatBoostClassifier\n",
    "\n",
    "\n",
    "model_xgb = XGBClassifier(\n",
    "    base_score=0.5,\n",
    "    booster='gbtree',\n",
    "    boosting_type='gbdt',\n",
    "    colsample_by_tree=0.8040279979830232,\n",
    "    colsample_bylevel=1,\n",
    "    colsample_bytree=1,\n",
    "    gamma=0,\n",
    "    learning_rate=0.6183443388044544,\n",
    "    max_delta_step=0,\n",
    "    max_depth=7,\n",
    "    min_child_weight=3.0,\n",
    "    missing=None,\n",
    "    n_estimators=150,\n",
    "    n_jobs=-1,\n",
    "    nthread=None,\n",
    "    num_leaves=37,\n",
    "    objective='binary:logistic',\n",
    "    random_state=100,\n",
    "    reg_alpha=0,\n",
    "    reg_lambda=1,\n",
    "    scale_pos_weight=1,\n",
    "    seed=None,\n",
    "    silent=True,\n",
    "    subsample=0.8254724276776704\n",
    ")\n",
    "\n",
    "params_lgb = {\n",
    "    'bagging_fraction': 0.5847570898839785,\n",
    "    'bagging_freq': 3,\n",
    "    'feature_fraction': 0.7941666171144979,\n",
    "    'lambda_l1': 1.3871523892529368e-07,\n",
    "    'lambda_l2': 0.44361819101899735,\n",
    "    'min_child_samples': 55,\n",
    "    'min_child_weight': 5.899155081455939,\n",
    "    'num_leaves': 156,\n",
    "    'subsample': 0.7122064897274488\n",
    "}\n",
    "\n",
    "model_lgb = LGBMClassifier(random_state=SEED, **params_lgb)\n",
    "\n",
    "model_cb = CatBoostClassifier(verbose=False,random_state=100,\n",
    "                            depth=6,\n",
    "                            iterations=1_000,\n",
    "                            )\n"
   ]
  },
  {
   "cell_type": "code",
   "execution_count": 13,
   "metadata": {
    "ExecuteTime": {
     "end_time": "2021-08-10T14:34:32.505406Z",
     "start_time": "2021-08-10T14:34:32.491572Z"
    },
    "colab": {},
    "colab_type": "code",
    "id": "wImdN4I1Xopk"
   },
   "outputs": [],
   "source": [
    "# Stack up all the models\n",
    "from mlxtend.classifier import StackingCVClassifier\n",
    "\n",
    "stack = StackingCVClassifier(classifiers=(lda,model_xgb, model_lgb, model_cb),\n",
    "                                meta_classifier=model_xgb,\n",
    "                                use_features_in_secondary=True)"
   ]
  },
  {
   "cell_type": "markdown",
   "metadata": {
    "colab_type": "text",
    "id": "8RuLXvkNbxtO"
   },
   "source": [
    "# Fit the models"
   ]
  },
  {
   "cell_type": "code",
   "execution_count": 14,
   "metadata": {
    "ExecuteTime": {
     "end_time": "2021-08-10T14:34:36.145768Z",
     "start_time": "2021-08-10T14:34:32.522210Z"
    },
    "colab": {
     "base_uri": "https://localhost:8080/",
     "height": 87
    },
    "colab_type": "code",
    "id": "F6r0ZKyBa1WS",
    "outputId": "1b69bfbe-1f4e-4e94-ebf0-1ad1bca6a8e2"
   },
   "outputs": [
    {
     "name": "stdout",
     "output_type": "stream",
     "text": [
      "CPU times: user 1.24 s, sys: 155 ms, total: 1.39 s\n",
      "Wall time: 3.6 s\n"
     ]
    },
    {
     "data": {
      "text/plain": [
       "LinearDiscriminantAnalysis()"
      ]
     },
     "execution_count": 14,
     "metadata": {},
     "output_type": "execute_result"
    }
   ],
   "source": [
    "%%time\n",
    "lda.fit(np.array(df_Xtrain),np.array(ser_ytrain));"
   ]
  },
  {
   "cell_type": "code",
   "execution_count": 15,
   "metadata": {
    "ExecuteTime": {
     "end_time": "2021-08-10T14:36:01.891953Z",
     "start_time": "2021-08-10T14:34:36.162243Z"
    },
    "colab": {
     "base_uri": "https://localhost:8080/",
     "height": 212
    },
    "colab_type": "code",
    "id": "spAnU2Naa1eI",
    "outputId": "7dc879aa-879d-4ef4-8fae-465aa117ca82"
   },
   "outputs": [
    {
     "name": "stdout",
     "output_type": "stream",
     "text": [
      "[10:34:36] WARNING: /opt/concourse/worker/volumes/live/7a2b9f41-3287-451b-6691-43e9a6c0910f/volume/xgboost-split_1619728204606/work/src/learner.cc:541: \n",
      "Parameters: { boosting_type, colsample_by_tree, num_leaves, silent } might not be used.\n",
      "\n",
      "  This may not be accurate due to some parameters are only used in language bindings but\n",
      "  passed down to XGBoost core.  Or some parameters are not used but slip through this\n",
      "  verification. Please open an issue if you find above cases.\n",
      "\n",
      "\n"
     ]
    },
    {
     "name": "stderr",
     "output_type": "stream",
     "text": [
      "/Users/poudel/opt/miniconda3/envs/dataSc/lib/python3.7/site-packages/xgboost/sklearn.py:888: UserWarning:\n",
      "\n",
      "The use of label encoder in XGBClassifier is deprecated and will be removed in a future release. To remove this warning, do the following: 1) Pass option use_label_encoder=False when constructing XGBClassifier object; and 2) Encode your labels (y) as integers starting with 0, i.e. 0, 1, 2, ..., [num_class - 1].\n",
      "\n"
     ]
    },
    {
     "name": "stdout",
     "output_type": "stream",
     "text": [
      "[10:34:37] WARNING: /opt/concourse/worker/volumes/live/7a2b9f41-3287-451b-6691-43e9a6c0910f/volume/xgboost-split_1619728204606/work/src/learner.cc:1061: Starting in XGBoost 1.3.0, the default evaluation metric used with the objective 'binary:logistic' was changed from 'error' to 'logloss'. Explicitly set eval_metric if you'd like to restore the old behavior.\n",
      "CPU times: user 2min 8s, sys: 574 ms, total: 2min 9s\n",
      "Wall time: 1min 25s\n"
     ]
    },
    {
     "data": {
      "text/plain": [
       "XGBClassifier(base_score=0.5, booster='gbtree', boosting_type='gbdt',\n",
       "              colsample_by_tree=0.8040279979830232, colsample_bylevel=1,\n",
       "              colsample_bynode=1, colsample_bytree=1, gamma=0, gpu_id=-1,\n",
       "              importance_type='gain', interaction_constraints='',\n",
       "              learning_rate=0.6183443388044544, max_delta_step=0, max_depth=7,\n",
       "              min_child_weight=3.0, missing=None, monotone_constraints='()',\n",
       "              n_estimators=150, n_jobs=-1, nthread=4, num_leaves=37,\n",
       "              num_parallel_tree=1, random_state=100, reg_alpha=0, reg_lambda=1,\n",
       "              scale_pos_weight=1, seed=100, silent=True,\n",
       "              subsample=0.8254724276776704, tree_method='exact', ...)"
      ]
     },
     "execution_count": 15,
     "metadata": {},
     "output_type": "execute_result"
    }
   ],
   "source": [
    "%%time\n",
    "\n",
    "model_xgb.fit(np.array(df_Xtrain),np.array(ser_ytrain));"
   ]
  },
  {
   "cell_type": "code",
   "execution_count": 16,
   "metadata": {
    "ExecuteTime": {
     "end_time": "2021-08-10T14:36:13.770346Z",
     "start_time": "2021-08-10T14:36:01.965249Z"
    },
    "colab": {
     "base_uri": "https://localhost:8080/",
     "height": 230
    },
    "colab_type": "code",
    "id": "xxCHN6A-a1mx",
    "outputId": "d20a0e63-a297-45ae-8419-aac5f47b2ca5"
   },
   "outputs": [
    {
     "name": "stdout",
     "output_type": "stream",
     "text": [
      "CPU times: user 5.22 s, sys: 171 ms, total: 5.39 s\n",
      "Wall time: 11.8 s\n"
     ]
    },
    {
     "data": {
      "text/plain": [
       "LGBMClassifier(bagging_fraction=0.5847570898839785, bagging_freq=3,\n",
       "               feature_fraction=0.7941666171144979,\n",
       "               lambda_l1=1.3871523892529368e-07, lambda_l2=0.44361819101899735,\n",
       "               min_child_samples=55, min_child_weight=5.899155081455939,\n",
       "               num_leaves=156, random_state=0, subsample=0.7122064897274488)"
      ]
     },
     "execution_count": 16,
     "metadata": {},
     "output_type": "execute_result"
    }
   ],
   "source": [
    "%%time\n",
    "\n",
    "model_lgb.fit(np.array(df_Xtrain),np.array(ser_ytrain));"
   ]
  },
  {
   "cell_type": "code",
   "execution_count": 17,
   "metadata": {
    "ExecuteTime": {
     "end_time": "2021-08-10T14:42:21.196525Z",
     "start_time": "2021-08-10T14:36:13.775412Z"
    },
    "colab": {
     "base_uri": "https://localhost:8080/",
     "height": 70
    },
    "colab_type": "code",
    "id": "zBOFF1rBa-kp",
    "outputId": "3cef4070-1210-4ffc-8800-bf7a92ea95bb"
   },
   "outputs": [
    {
     "name": "stdout",
     "output_type": "stream",
     "text": [
      "CPU times: user 2min 13s, sys: 12.2 s, total: 2min 25s\n",
      "Wall time: 6min 7s\n"
     ]
    },
    {
     "data": {
      "text/plain": [
       "<catboost.core.CatBoostClassifier at 0x7fc23773cd50>"
      ]
     },
     "execution_count": 17,
     "metadata": {},
     "output_type": "execute_result"
    }
   ],
   "source": [
    "%%time\n",
    "model_cb.fit(np.array(df_Xtrain),np.array(ser_ytrain));"
   ]
  },
  {
   "cell_type": "code",
   "execution_count": 18,
   "metadata": {
    "ExecuteTime": {
     "end_time": "2021-08-10T14:46:26.842542Z",
     "start_time": "2021-08-10T14:42:21.198965Z"
    },
    "colab": {
     "base_uri": "https://localhost:8080/",
     "height": 550
    },
    "colab_type": "code",
    "id": "G7HqA9Ai5iWW",
    "outputId": "b3b91a82-7ff7-4746-e341-b3c30a9d9a03"
   },
   "outputs": [
    {
     "name": "stderr",
     "output_type": "stream",
     "text": [
      "/Users/poudel/opt/miniconda3/envs/dataSc/lib/python3.7/site-packages/xgboost/sklearn.py:888: UserWarning:\n",
      "\n",
      "The use of label encoder in XGBClassifier is deprecated and will be removed in a future release. To remove this warning, do the following: 1) Pass option use_label_encoder=False when constructing XGBClassifier object; and 2) Encode your labels (y) as integers starting with 0, i.e. 0, 1, 2, ..., [num_class - 1].\n",
      "\n"
     ]
    },
    {
     "name": "stdout",
     "output_type": "stream",
     "text": [
      "[10:42:22] WARNING: /opt/concourse/worker/volumes/live/7a2b9f41-3287-451b-6691-43e9a6c0910f/volume/xgboost-split_1619728204606/work/src/learner.cc:541: \n",
      "Parameters: { boosting_type, colsample_by_tree, num_leaves, silent } might not be used.\n",
      "\n",
      "  This may not be accurate due to some parameters are only used in language bindings but\n",
      "  passed down to XGBoost core.  Or some parameters are not used but slip through this\n",
      "  verification. Please open an issue if you find above cases.\n",
      "\n",
      "\n",
      "[10:42:22] WARNING: /opt/concourse/worker/volumes/live/7a2b9f41-3287-451b-6691-43e9a6c0910f/volume/xgboost-split_1619728204606/work/src/learner.cc:1061: Starting in XGBoost 1.3.0, the default evaluation metric used with the objective 'binary:logistic' was changed from 'error' to 'logloss'. Explicitly set eval_metric if you'd like to restore the old behavior.\n",
      "[10:42:36] WARNING: /opt/concourse/worker/volumes/live/7a2b9f41-3287-451b-6691-43e9a6c0910f/volume/xgboost-split_1619728204606/work/src/learner.cc:541: \n",
      "Parameters: { boosting_type, colsample_by_tree, num_leaves, silent } might not be used.\n",
      "\n",
      "  This may not be accurate due to some parameters are only used in language bindings but\n",
      "  passed down to XGBoost core.  Or some parameters are not used but slip through this\n",
      "  verification. Please open an issue if you find above cases.\n",
      "\n",
      "\n",
      "[10:42:36] WARNING: /opt/concourse/worker/volumes/live/7a2b9f41-3287-451b-6691-43e9a6c0910f/volume/xgboost-split_1619728204606/work/src/learner.cc:1061: Starting in XGBoost 1.3.0, the default evaluation metric used with the objective 'binary:logistic' was changed from 'error' to 'logloss'. Explicitly set eval_metric if you'd like to restore the old behavior.\n"
     ]
    },
    {
     "name": "stderr",
     "output_type": "stream",
     "text": [
      "/Users/poudel/opt/miniconda3/envs/dataSc/lib/python3.7/site-packages/xgboost/sklearn.py:888: UserWarning:\n",
      "\n",
      "The use of label encoder in XGBClassifier is deprecated and will be removed in a future release. To remove this warning, do the following: 1) Pass option use_label_encoder=False when constructing XGBClassifier object; and 2) Encode your labels (y) as integers starting with 0, i.e. 0, 1, 2, ..., [num_class - 1].\n",
      "\n"
     ]
    },
    {
     "name": "stdout",
     "output_type": "stream",
     "text": [
      "[10:44:11] WARNING: /opt/concourse/worker/volumes/live/7a2b9f41-3287-451b-6691-43e9a6c0910f/volume/xgboost-split_1619728204606/work/src/learner.cc:541: \n",
      "Parameters: { boosting_type, colsample_by_tree, num_leaves, silent } might not be used.\n",
      "\n",
      "  This may not be accurate due to some parameters are only used in language bindings but\n",
      "  passed down to XGBoost core.  Or some parameters are not used but slip through this\n",
      "  verification. Please open an issue if you find above cases.\n",
      "\n",
      "\n",
      "[10:44:12] WARNING: /opt/concourse/worker/volumes/live/7a2b9f41-3287-451b-6691-43e9a6c0910f/volume/xgboost-split_1619728204606/work/src/learner.cc:1061: Starting in XGBoost 1.3.0, the default evaluation metric used with the objective 'binary:logistic' was changed from 'error' to 'logloss'. Explicitly set eval_metric if you'd like to restore the old behavior.\n"
     ]
    },
    {
     "name": "stderr",
     "output_type": "stream",
     "text": [
      "/Users/poudel/opt/miniconda3/envs/dataSc/lib/python3.7/site-packages/xgboost/sklearn.py:888: UserWarning:\n",
      "\n",
      "The use of label encoder in XGBClassifier is deprecated and will be removed in a future release. To remove this warning, do the following: 1) Pass option use_label_encoder=False when constructing XGBClassifier object; and 2) Encode your labels (y) as integers starting with 0, i.e. 0, 1, 2, ..., [num_class - 1].\n",
      "\n"
     ]
    },
    {
     "name": "stdout",
     "output_type": "stream",
     "text": [
      "[10:45:46] WARNING: /opt/concourse/worker/volumes/live/7a2b9f41-3287-451b-6691-43e9a6c0910f/volume/xgboost-split_1619728204606/work/src/learner.cc:541: \n",
      "Parameters: { boosting_type, colsample_by_tree, num_leaves, silent } might not be used.\n",
      "\n",
      "  This may not be accurate due to some parameters are only used in language bindings but\n",
      "  passed down to XGBoost core.  Or some parameters are not used but slip through this\n",
      "  verification. Please open an issue if you find above cases.\n",
      "\n",
      "\n",
      "[10:45:46] WARNING: /opt/concourse/worker/volumes/live/7a2b9f41-3287-451b-6691-43e9a6c0910f/volume/xgboost-split_1619728204606/work/src/learner.cc:1061: Starting in XGBoost 1.3.0, the default evaluation metric used with the objective 'binary:logistic' was changed from 'error' to 'logloss'. Explicitly set eval_metric if you'd like to restore the old behavior.\n",
      "CPU times: user 10min 56s, sys: 16.3 s, total: 11min 12s\n",
      "Wall time: 4min 5s\n"
     ]
    },
    {
     "data": {
      "text/plain": [
       "StackingCVClassifier(classifiers=(LinearDiscriminantAnalysis(),\n",
       "                                  XGBClassifier(base_score=0.5,\n",
       "                                                booster='gbtree',\n",
       "                                                boosting_type='gbdt',\n",
       "                                                colsample_by_tree=0.8040279979830232,\n",
       "                                                colsample_bylevel=1,\n",
       "                                                colsample_bynode=1,\n",
       "                                                colsample_bytree=1, gamma=0,\n",
       "                                                gpu_id=-1,\n",
       "                                                importance_type='gain',\n",
       "                                                interaction_constraints='',\n",
       "                                                learning_rate=0.6183443388044544,\n",
       "                                                max_delta_step=0, max_dep...\n",
       "                                                   learning_rate=0.6183443388044544,\n",
       "                                                   max_delta_step=0,\n",
       "                                                   max_depth=7,\n",
       "                                                   min_child_weight=3.0,\n",
       "                                                   missing=None,\n",
       "                                                   monotone_constraints='()',\n",
       "                                                   n_estimators=150, n_jobs=-1,\n",
       "                                                   nthread=4, num_leaves=37,\n",
       "                                                   num_parallel_tree=1,\n",
       "                                                   random_state=100,\n",
       "                                                   reg_alpha=0, reg_lambda=1,\n",
       "                                                   scale_pos_weight=1, seed=100,\n",
       "                                                   silent=True,\n",
       "                                                   subsample=0.8254724276776704,\n",
       "                                                   tree_method='exact', ...),\n",
       "                     use_features_in_secondary=True)"
      ]
     },
     "execution_count": 18,
     "metadata": {},
     "output_type": "execute_result"
    }
   ],
   "source": [
    "%%time\n",
    "stack.fit(np.array(df_Xtrain),np.array(ser_ytrain));"
   ]
  },
  {
   "cell_type": "markdown",
   "metadata": {
    "colab_type": "text",
    "id": "N2hVnXkNVXmR"
   },
   "source": [
    "# Model Comparison"
   ]
  },
  {
   "cell_type": "code",
   "execution_count": 19,
   "metadata": {
    "ExecuteTime": {
     "end_time": "2021-08-10T14:46:28.412674Z",
     "start_time": "2021-08-10T14:46:26.893745Z"
    },
    "colab": {
     "base_uri": "https://localhost:8080/",
     "height": 52
    },
    "colab_type": "code",
    "id": "4Ti429GMUzxN",
    "outputId": "cbbf53a9-6d4f-455d-b576-7735470ae074"
   },
   "outputs": [
    {
     "name": "stdout",
     "output_type": "stream",
     "text": [
      "CPU times: user 1.85 s, sys: 89.5 ms, total: 1.94 s\n",
      "Wall time: 1.5 s\n"
     ]
    }
   ],
   "source": [
    "%%time\n",
    "ypreds_lda = lda.predict(np.array(df_Xtest))\n",
    "ypreds_xgb = model_xgb.predict(np.array(df_Xtest))\n",
    "ypreds_lgb = model_lgb.predict(np.array(df_Xtest))\n",
    "ypreds_cb = model_cb.predict(np.array(df_Xtest))\n",
    "ypreds_stack = stack.predict(np.array(df_Xtest))"
   ]
  },
  {
   "cell_type": "code",
   "execution_count": 20,
   "metadata": {
    "ExecuteTime": {
     "end_time": "2021-08-10T14:46:28.434751Z",
     "start_time": "2021-08-10T14:46:28.427327Z"
    },
    "colab": {},
    "colab_type": "code",
    "id": "1RaRcfF2Vs9a"
   },
   "outputs": [],
   "source": [
    "ytest = np.array(ser_ytest).ravel()"
   ]
  },
  {
   "cell_type": "code",
   "execution_count": null,
   "metadata": {
    "ExecuteTime": {
     "start_time": "2021-08-10T14:34:11.408Z"
    },
    "colab": {
     "base_uri": "https://localhost:8080/",
     "height": 197
    },
    "colab_type": "code",
    "id": "unAhA54cU_H9",
    "outputId": "074ed724-94ca-4220-dfeb-3da332fd7372"
   },
   "outputs": [],
   "source": [
    "from sklearn.metrics import accuracy_score, precision_score, recall_score, f1_score\n",
    "from sklearn.metrics import confusion_matrix\n",
    "\n",
    "ypreds = [ypreds_lda, ypreds_xgb, ypreds_lgb,ypreds_cb,ypreds_stack]\n",
    "model_names = ['lda','xgboost','lightgbm','catboost','stack']\n",
    "wrong_frauds = [confusion_matrix(ytest,ypred)[1,0] for ypred in ypreds]\n",
    "accuracies = [accuracy_score(ytest,ypred) for ypred in ypreds]\n",
    "precisions = [precision_score(ytest,ypred) for ypred in ypreds]\n",
    "recalls = [recall_score(ytest,ypred) for ypred in ypreds]\n",
    "f1_scores = [f1_score(ytest,ypred) for ypred in ypreds]\n",
    "\n",
    "profits = [get_profit(ytest,ypred) for ypred in ypreds]"
   ]
  },
  {
   "cell_type": "code",
   "execution_count": 21,
   "metadata": {
    "ExecuteTime": {
     "end_time": "2021-08-10T14:46:29.162654Z",
     "start_time": "2021-08-10T14:46:28.440210Z"
    },
    "colab": {
     "base_uri": "https://localhost:8080/",
     "height": 197
    },
    "colab_type": "code",
    "id": "unAhA54cU_H9",
    "outputId": "074ed724-94ca-4220-dfeb-3da332fd7372"
   },
   "outputs": [
    {
     "data": {
      "text/html": [
       "<div>\n",
       "<style scoped>\n",
       "    .dataframe tbody tr th:only-of-type {\n",
       "        vertical-align: middle;\n",
       "    }\n",
       "\n",
       "    .dataframe tbody tr th {\n",
       "        vertical-align: top;\n",
       "    }\n",
       "\n",
       "    .dataframe thead th {\n",
       "        text-align: right;\n",
       "    }\n",
       "</style>\n",
       "<table border=\"1\" class=\"dataframe\">\n",
       "  <thead>\n",
       "    <tr style=\"text-align: right;\">\n",
       "      <th></th>\n",
       "      <th>Model</th>\n",
       "      <th>WrongFrauds</th>\n",
       "      <th>Accuracy</th>\n",
       "      <th>Precision</th>\n",
       "      <th>Recall</th>\n",
       "      <th>F1-score</th>\n",
       "    </tr>\n",
       "  </thead>\n",
       "  <tbody>\n",
       "    <tr>\n",
       "      <th>1</th>\n",
       "      <td>xgboost</td>\n",
       "      <td>25</td>\n",
       "      <td>0.999473</td>\n",
       "      <td>0.935897</td>\n",
       "      <td>0.744898</td>\n",
       "      <td>0.829545</td>\n",
       "    </tr>\n",
       "    <tr>\n",
       "      <th>4</th>\n",
       "      <td>stack</td>\n",
       "      <td>25</td>\n",
       "      <td>0.999544</td>\n",
       "      <td>0.986486</td>\n",
       "      <td>0.744898</td>\n",
       "      <td>0.848837</td>\n",
       "    </tr>\n",
       "    <tr>\n",
       "      <th>2</th>\n",
       "      <td>lightgbm</td>\n",
       "      <td>26</td>\n",
       "      <td>0.999438</td>\n",
       "      <td>0.923077</td>\n",
       "      <td>0.734694</td>\n",
       "      <td>0.818182</td>\n",
       "    </tr>\n",
       "    <tr>\n",
       "      <th>3</th>\n",
       "      <td>catboost</td>\n",
       "      <td>26</td>\n",
       "      <td>0.999473</td>\n",
       "      <td>0.947368</td>\n",
       "      <td>0.734694</td>\n",
       "      <td>0.827586</td>\n",
       "    </tr>\n",
       "    <tr>\n",
       "      <th>0</th>\n",
       "      <td>lda</td>\n",
       "      <td>28</td>\n",
       "      <td>0.999315</td>\n",
       "      <td>0.864198</td>\n",
       "      <td>0.714286</td>\n",
       "      <td>0.782123</td>\n",
       "    </tr>\n",
       "  </tbody>\n",
       "</table>\n",
       "</div>"
      ],
      "text/plain": [
       "      Model  WrongFrauds  Accuracy  Precision    Recall  F1-score\n",
       "1   xgboost           25  0.999473   0.935897  0.744898  0.829545\n",
       "4     stack           25  0.999544   0.986486  0.744898  0.848837\n",
       "2  lightgbm           26  0.999438   0.923077  0.734694  0.818182\n",
       "3  catboost           26  0.999473   0.947368  0.734694  0.827586\n",
       "0       lda           28  0.999315   0.864198  0.714286  0.782123"
      ]
     },
     "execution_count": 21,
     "metadata": {},
     "output_type": "execute_result"
    }
   ],
   "source": [
    "df_eval = pd.DataFrame({'Model': model_names,\n",
    "                        'WrongFrauds': wrong_frauds,\n",
    "                        'Accuracy': accuracies,\n",
    "                        'Precision': precisions,\n",
    "                        'Recall': recalls,\n",
    "                        'F1-score': f1_scores,\n",
    "                        'Profit': profits,\n",
    "                       })\n",
    "\n",
    "\n",
    "df_eval = df_eval.sort_values('Recall',ascending=False)\n",
    "df_eval"
   ]
  },
  {
   "cell_type": "code",
   "execution_count": 22,
   "metadata": {
    "ExecuteTime": {
     "end_time": "2021-08-10T14:46:29.210446Z",
     "start_time": "2021-08-10T14:46:29.165141Z"
    },
    "colab": {
     "base_uri": "https://localhost:8080/",
     "height": 52
    },
    "colab_type": "code",
    "id": "Txe1mcGOVyjP",
    "outputId": "5defd0a2-a21d-4910-ed1e-8d9a9e3fd36a"
   },
   "outputs": [
    {
     "name": "stdout",
     "output_type": "stream",
     "text": [
      "[[56863     1]\n",
      " [   25    73]]\n"
     ]
    }
   ],
   "source": [
    "from sklearn.metrics import confusion_matrix\n",
    "\n",
    "cm = confusion_matrix(ytest,ypreds_stack)\n",
    "print(cm)"
   ]
  },
  {
   "cell_type": "code",
   "execution_count": 23,
   "metadata": {
    "ExecuteTime": {
     "end_time": "2021-08-10T14:46:29.222844Z",
     "start_time": "2021-08-10T14:46:29.218701Z"
    },
    "colab": {
     "base_uri": "https://localhost:8080/",
     "height": 34
    },
    "colab_type": "code",
    "id": "-9m3xCQcV9OS",
    "outputId": "7e8fbdb7-79a6-4fc4-c64d-56f00d59870e"
   },
   "outputs": [
    {
     "data": {
      "text/plain": [
       "25"
      ]
     },
     "execution_count": 23,
     "metadata": {},
     "output_type": "execute_result"
    }
   ],
   "source": [
    "wrong_frauds = cm[1,0]\n",
    "wrong_frauds"
   ]
  },
  {
   "cell_type": "markdown",
   "metadata": {
    "colab": {},
    "colab_type": "code",
    "id": "6f0pi1oSbhYH"
   },
   "source": [
    "# Time Taken"
   ]
  },
  {
   "cell_type": "code",
   "execution_count": 24,
   "metadata": {
    "ExecuteTime": {
     "end_time": "2021-08-10T14:46:29.236816Z",
     "start_time": "2021-08-10T14:46:29.229097Z"
    }
   },
   "outputs": [
    {
     "name": "stdout",
     "output_type": "stream",
     "text": [
      "Time taken to run whole notebook: 0 hr 12 min 17 secs\n"
     ]
    }
   ],
   "source": [
    "time_taken = time.time() - time_start_notebook\n",
    "h,m = divmod(time_taken,60*60)\n",
    "print('Time taken to run whole notebook: {:.0f} hr '\\\n",
    "      '{:.0f} min {:.0f} secs'.format(h, *divmod(m,60)))"
   ]
  }
 ],
 "metadata": {
  "colab": {
   "collapsed_sections": [],
   "name": "b09_classification_modelling_stacking.ipynb",
   "provenance": []
  },
  "kernelspec": {
   "display_name": "Python (dataSc)",
   "language": "python",
   "name": "datasc"
  },
  "language_info": {
   "codemirror_mode": {
    "name": "ipython",
    "version": 3
   },
   "file_extension": ".py",
   "mimetype": "text/x-python",
   "name": "python",
   "nbconvert_exporter": "python",
   "pygments_lexer": "ipython3",
   "version": "3.7.7"
  },
  "toc": {
   "base_numbering": 1,
   "nav_menu": {},
   "number_sections": true,
   "sideBar": true,
   "skip_h1_title": false,
   "title_cell": "Table of Contents",
   "title_sidebar": "Contents",
   "toc_cell": true,
   "toc_position": {},
   "toc_section_display": true,
   "toc_window_display": false
  }
 },
 "nbformat": 4,
 "nbformat_minor": 1
}
