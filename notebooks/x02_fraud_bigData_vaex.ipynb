{
 "cells": [
  {
   "cell_type": "markdown",
   "metadata": {
    "toc": "true"
   },
   "source": [
    "<h1>Table of Contents<span class=\"tocSkip\"></span></h1>\n",
    "<div class=\"toc\"><ul class=\"toc-item\"><li><span><a href=\"#Data-Description\" data-toc-modified-id=\"Data-Description-1\"><span class=\"toc-item-num\">1&nbsp;&nbsp;</span>Data Description</a></span></li><li><span><a href=\"#Business-Problem\" data-toc-modified-id=\"Business-Problem-2\"><span class=\"toc-item-num\">2&nbsp;&nbsp;</span>Business Problem</a></span></li><li><span><a href=\"#Imports\" data-toc-modified-id=\"Imports-3\"><span class=\"toc-item-num\">3&nbsp;&nbsp;</span>Imports</a></span></li><li><span><a href=\"#Useful-Scripts\" data-toc-modified-id=\"Useful-Scripts-4\"><span class=\"toc-item-num\">4&nbsp;&nbsp;</span>Useful Scripts</a></span></li><li><span><a href=\"#Load-the-data\" data-toc-modified-id=\"Load-the-data-5\"><span class=\"toc-item-num\">5&nbsp;&nbsp;</span>Load the data</a></span></li><li><span><a href=\"#Data-Processing\" data-toc-modified-id=\"Data-Processing-6\"><span class=\"toc-item-num\">6&nbsp;&nbsp;</span>Data Processing</a></span><ul class=\"toc-item\"><li><span><a href=\"#create-virtual-columns\" data-toc-modified-id=\"create-virtual-columns-6.1\"><span class=\"toc-item-num\">6.1&nbsp;&nbsp;</span>create virtual columns</a></span></li><li><span><a href=\"#Categorize-features\" data-toc-modified-id=\"Categorize-features-6.2\"><span class=\"toc-item-num\">6.2&nbsp;&nbsp;</span>Categorize features</a></span></li></ul></li><li><span><a href=\"#EDA\" data-toc-modified-id=\"EDA-7\"><span class=\"toc-item-num\">7&nbsp;&nbsp;</span>EDA</a></span><ul class=\"toc-item\"><li><span><a href=\"#Correlations\" data-toc-modified-id=\"Correlations-7.1\"><span class=\"toc-item-num\">7.1&nbsp;&nbsp;</span>Correlations</a></span></li><li><span><a href=\"#Scatter-plots\" data-toc-modified-id=\"Scatter-plots-7.2\"><span class=\"toc-item-num\">7.2&nbsp;&nbsp;</span>Scatter plots</a></span></li><li><span><a href=\"#Barplots\" data-toc-modified-id=\"Barplots-7.3\"><span class=\"toc-item-num\">7.3&nbsp;&nbsp;</span>Barplots</a></span></li></ul></li><li><span><a href=\"#Modelling\" data-toc-modified-id=\"Modelling-8\"><span class=\"toc-item-num\">8&nbsp;&nbsp;</span>Modelling</a></span><ul class=\"toc-item\"><li><span><a href=\"#Train-Test-Split\" data-toc-modified-id=\"Train-Test-Split-8.1\"><span class=\"toc-item-num\">8.1&nbsp;&nbsp;</span>Train Test Split</a></span></li><li><span><a href=\"#Modelling-LightGBM-using-Vaex\" data-toc-modified-id=\"Modelling-LightGBM-using-Vaex-8.2\"><span class=\"toc-item-num\">8.2&nbsp;&nbsp;</span>Modelling LightGBM using Vaex</a></span></li><li><span><a href=\"#Predictions\" data-toc-modified-id=\"Predictions-8.3\"><span class=\"toc-item-num\">8.3&nbsp;&nbsp;</span>Predictions</a></span></li><li><span><a href=\"#Model-Performances\" data-toc-modified-id=\"Model-Performances-8.4\"><span class=\"toc-item-num\">8.4&nbsp;&nbsp;</span>Model Performances</a></span></li></ul></li></ul></div>"
   ]
  },
  {
   "cell_type": "markdown",
   "metadata": {},
   "source": [
    "<div class=\"alert alert-block alert-success\">\n",
    "<b>Kernel Author:</b>  <br>\n",
    "<a href=\"https://bhishanpdl.github.io/\" , target=\"_blank\">Bhishan Poudel,  Data Scientist, Ph.D Astrophysics</a> .\n",
    "</div>"
   ]
  },
  {
   "cell_type": "markdown",
   "metadata": {},
   "source": [
    "# Data Description\n",
    "\n",
    "> The datasets contains transactions made by credit cards in September\n",
    "2013 by european cardholders.\n",
    "\n",
    "\n",
    "> This dataset presents transactions that occurred in two days,\n",
    "where we have 492 frauds out of 284,807 transactions. \n",
    "\n",
    "> The dataset is highly unbalanced, the positive class (frauds)\n",
    "account for 0.172% of all transactions.\n",
    "\n",
    "> It contains only numerical input variables which are\n",
    "the result of a PCA transformation.\n",
    "\n",
    "\n",
    "> Unfortunately, due to confidentiality issues,\n",
    "we cannot provide the original features and \n",
    "more background information about the data.\n",
    "\n",
    "\n",
    "> Features V1, V2, ... V28 are the principal\n",
    "components obtained with PCA,\n",
    "the only features which have not been transformed with PCA are 'Time' and 'Amount'. \n",
    "\n",
    "> Feature 'Time' contains the seconds elapsed between each transaction\n",
    "and the first transaction in the dataset. The feature 'Amount'\n",
    "is the transaction Amount, this feature can be used for \n",
    "example-dependant cost-senstive learning. \n",
    "\n",
    "> Feature 'Class' is the response variable and it takes value\n",
    "1 in case of fraud and 0 otherwise."
   ]
  },
  {
   "cell_type": "markdown",
   "metadata": {},
   "source": [
    "# Business Problem\n",
    "\n",
    "<div class=\"alert alert-block alert-success\">\n",
    "<b>Business Problem:</b>  <br>\n",
    "Task &nbsp;&nbsp; : Detect the fraudulent activities. <br>\n",
    "Metric : Recall <br>\n",
    "Question: How many frauds are correctly classified? <br>\n",
    "Method Used: Vaex ( which works for big data ~ 1 billion rows)\n",
    "</div>\n",
    "\n",
    "Here, in this notebook I use the big data analysiz tool called [vaex](https://github.com/vaexio/vaex) (pronounced as VEX).\n",
    "This is acronym of visualizatoin and exploration library mainly created to\n",
    "visualize GAIA Telescopic data visualization but later further developed\n",
    "to include dataframe and some machine leaning models.\n",
    "\n",
    "Vaex uses memory mapping, and stunningly fast. One thing I like about\n",
    "vaex is that it records all the states (whatever actions we did to the\n",
    "dataframe) and we can use the same state to TEST data for machine learning\n",
    "modelling.\n",
    "\n",
    "As like Spark, vaex dataframes are immutable. In vaex we create new virtual\n",
    "columns using some expressions. Those expressions can be any mathematical\n",
    "operations such as np.sqrt and so on.\n",
    "\n",
    "Like tensorflow uses compuatation, vaex uses mmap and does lazy operations,\n",
    "this means evaluation is done only if necessary.\n",
    "\n",
    "- Vaex supports many scikit-learn models\n",
    "- Vaex supports various boosting modules lightgbm, xgboost, catboost, annoy\n",
    "\n",
    "Now, without a further ado, let's do some data science with it."
   ]
  },
  {
   "cell_type": "markdown",
   "metadata": {},
   "source": [
    "# Imports"
   ]
  },
  {
   "cell_type": "code",
   "execution_count": 106,
   "metadata": {
    "ExecuteTime": {
     "end_time": "2020-01-29T04:27:49.316041Z",
     "start_time": "2020-01-29T04:27:49.307911Z"
    }
   },
   "outputs": [],
   "source": [
    "import numpy as np\n",
    "import pandas as pd\n",
    "\n",
    "import seaborn as sns\n",
    "sns.set(color_codes=True)\n",
    "\n",
    "import matplotlib.pyplot as plt\n",
    "%matplotlib inline\n",
    "\n",
    "import os\n",
    "import time\n",
    "\n",
    "# random state\n",
    "SEED = 0\n",
    "RNG = np.random.RandomState(SEED)"
   ]
  },
  {
   "cell_type": "code",
   "execution_count": 2,
   "metadata": {
    "ExecuteTime": {
     "end_time": "2020-01-29T03:28:19.427915Z",
     "start_time": "2020-01-29T03:28:17.836752Z"
    }
   },
   "outputs": [],
   "source": [
    "# my personal library\n",
    "from bhishan import bp\n",
    "from bhishan.bp import show_method_attributes"
   ]
  },
  {
   "cell_type": "code",
   "execution_count": 121,
   "metadata": {
    "ExecuteTime": {
     "end_time": "2020-01-29T04:45:50.927061Z",
     "start_time": "2020-01-29T04:45:50.920677Z"
    }
   },
   "outputs": [
    {
     "data": {
      "text/plain": [
       "'1.0.0-beta.6'"
      ]
     },
     "execution_count": 121,
     "metadata": {},
     "output_type": "execute_result"
    }
   ],
   "source": [
    "# import big data module vaex\n",
    "import vaex as vx\n",
    "import vaex.ml\n",
    "import vaex.ml.lightgbm\n",
    "import lightgbm as lgb\n",
    "\n",
    "vx.__version__"
   ]
  },
  {
   "cell_type": "code",
   "execution_count": 5,
   "metadata": {
    "ExecuteTime": {
     "end_time": "2020-01-29T03:28:20.793172Z",
     "start_time": "2020-01-29T03:28:20.789424Z"
    }
   },
   "outputs": [],
   "source": [
    "from tqdm import tqdm, tqdm_notebook, tnrange\n",
    "import ipywidgets as widgets"
   ]
  },
  {
   "cell_type": "code",
   "execution_count": 6,
   "metadata": {
    "ExecuteTime": {
     "end_time": "2020-01-29T03:28:20.839776Z",
     "start_time": "2020-01-29T03:28:20.797753Z"
    }
   },
   "outputs": [],
   "source": [
    "import bqplot as bq"
   ]
  },
  {
   "cell_type": "markdown",
   "metadata": {
    "ExecuteTime": {
     "end_time": "2019-10-19T19:53:29.674791Z",
     "start_time": "2019-10-19T19:53:29.668282Z"
    }
   },
   "source": [
    "# Useful Scripts"
   ]
  },
  {
   "cell_type": "code",
   "execution_count": 7,
   "metadata": {
    "ExecuteTime": {
     "end_time": "2020-01-29T03:28:20.851884Z",
     "start_time": "2020-01-29T03:28:20.843991Z"
    }
   },
   "outputs": [
    {
     "data": {
      "text/html": [
       "<div>\n",
       "<style scoped>\n",
       "    .dataframe tbody tr th:only-of-type {\n",
       "        vertical-align: middle;\n",
       "    }\n",
       "\n",
       "    .dataframe tbody tr th {\n",
       "        vertical-align: top;\n",
       "    }\n",
       "\n",
       "    .dataframe thead th {\n",
       "        text-align: right;\n",
       "    }\n",
       "</style>\n",
       "<table border=\"1\" class=\"dataframe\">\n",
       "  <thead>\n",
       "    <tr style=\"text-align: right;\">\n",
       "      <th></th>\n",
       "      <th>model_name</th>\n",
       "      <th>desc</th>\n",
       "      <th>f1</th>\n",
       "      <th>weightedPrecision</th>\n",
       "      <th>weightedRecall</th>\n",
       "      <th>accuracy</th>\n",
       "      <th>areaUnderROC</th>\n",
       "      <th>areaUnderPR</th>\n",
       "    </tr>\n",
       "  </thead>\n",
       "  <tbody>\n",
       "  </tbody>\n",
       "</table>\n",
       "</div>"
      ],
      "text/plain": [
       "Empty DataFrame\n",
       "Columns: [model_name, desc, f1, weightedPrecision, weightedRecall, accuracy, areaUnderROC, areaUnderPR]\n",
       "Index: []"
      ]
     },
     "execution_count": 7,
     "metadata": {},
     "output_type": "execute_result"
    }
   ],
   "source": [
    "df_eval = pd.DataFrame({\n",
    "    'model_name':[],\n",
    "    'desc':[],\n",
    "    'f1':[],\n",
    "    'weightedPrecision':[],\n",
    "    'weightedRecall':[],\n",
    "    'accuracy':[],\n",
    "    'areaUnderROC':[],\n",
    "    'areaUnderPR':[]\n",
    "})\n",
    "\n",
    "df_eval"
   ]
  },
  {
   "cell_type": "markdown",
   "metadata": {},
   "source": [
    "# Load the data"
   ]
  },
  {
   "cell_type": "code",
   "execution_count": 8,
   "metadata": {
    "ExecuteTime": {
     "end_time": "2020-01-29T03:28:20.874885Z",
     "start_time": "2020-01-29T03:28:20.855449Z"
    }
   },
   "outputs": [
    {
     "name": "stdout",
     "output_type": "stream",
     "text": [
      "creditcard.csv\n",
      "creditcard.csv.zip\n",
      "creditcard.hdf5\n"
     ]
    }
   ],
   "source": [
    "%%bash\n",
    "# unzip ../data/raw/creditcard.csv.zip -d ../data/raw/\n",
    "ls ../data/raw"
   ]
  },
  {
   "cell_type": "code",
   "execution_count": 9,
   "metadata": {
    "ExecuteTime": {
     "end_time": "2020-01-29T03:28:20.880357Z",
     "start_time": "2020-01-29T03:28:20.877302Z"
    }
   },
   "outputs": [],
   "source": [
    "ifile = \"../data/raw/creditcard.csv\""
   ]
  },
  {
   "cell_type": "code",
   "execution_count": 10,
   "metadata": {
    "ExecuteTime": {
     "end_time": "2020-01-29T03:28:20.903293Z",
     "start_time": "2020-01-29T03:28:20.883857Z"
    }
   },
   "outputs": [],
   "source": [
    "%%bash\n",
    "head -3 $ifile"
   ]
  },
  {
   "cell_type": "code",
   "execution_count": 11,
   "metadata": {
    "ExecuteTime": {
     "end_time": "2020-01-29T03:28:20.922683Z",
     "start_time": "2020-01-29T03:28:20.906039Z"
    }
   },
   "outputs": [
    {
     "name": "stdout",
     "output_type": "stream",
     "text": [
      "tail -5 $ifile | cut -d '\n"
     ]
    }
   ],
   "source": [
    "%%bash\n",
    "head -5 $ifile | cut -d ',' -f 1\n",
    "tail -5 $ifile | cut -d ',' -f 1"
   ]
  },
  {
   "cell_type": "code",
   "execution_count": 12,
   "metadata": {
    "ExecuteTime": {
     "end_time": "2020-01-29T03:28:20.942001Z",
     "start_time": "2020-01-29T03:28:20.924762Z"
    }
   },
   "outputs": [
    {
     "name": "stdout",
     "output_type": "stream",
     "text": [
      "Object Type: <class 'module'>\n",
      "\n"
     ]
    },
    {
     "data": {
      "text/html": [
       "<div>\n",
       "<style scoped>\n",
       "    .dataframe tbody tr th:only-of-type {\n",
       "        vertical-align: middle;\n",
       "    }\n",
       "\n",
       "    .dataframe tbody tr th {\n",
       "        vertical-align: top;\n",
       "    }\n",
       "\n",
       "    .dataframe thead th {\n",
       "        text-align: right;\n",
       "    }\n",
       "</style>\n",
       "<table border=\"1\" class=\"dataframe\">\n",
       "  <thead>\n",
       "    <tr style=\"text-align: right;\">\n",
       "      <th></th>\n",
       "      <th>0</th>\n",
       "      <th>1</th>\n",
       "      <th>2</th>\n",
       "      <th>3</th>\n",
       "    </tr>\n",
       "  </thead>\n",
       "  <tbody>\n",
       "    <tr>\n",
       "      <td>0</td>\n",
       "      <td>BinnerTime</td>\n",
       "      <td>format</td>\n",
       "      <td>kld</td>\n",
       "      <td>set_log_level_exception</td>\n",
       "    </tr>\n",
       "    <tr>\n",
       "      <td>1</td>\n",
       "      <td>GroupBy</td>\n",
       "      <td>from_arrays</td>\n",
       "      <td>loader</td>\n",
       "      <td>set_log_level_info</td>\n",
       "    </tr>\n",
       "    <tr>\n",
       "      <td>2</td>\n",
       "      <td>Grouper</td>\n",
       "      <td>from_arrow_table</td>\n",
       "      <td>logger</td>\n",
       "      <td>set_log_level_off</td>\n",
       "    </tr>\n",
       "    <tr>\n",
       "      <td>3</td>\n",
       "      <td>add_namespace</td>\n",
       "      <td>from_ascii</td>\n",
       "      <td>logging</td>\n",
       "      <td>set_log_level_warning</td>\n",
       "    </tr>\n",
       "    <tr>\n",
       "      <td>4</td>\n",
       "      <td>agg</td>\n",
       "      <td>from_astropy_table</td>\n",
       "      <td>multithreading</td>\n",
       "      <td>settings</td>\n",
       "    </tr>\n",
       "    <tr>\n",
       "      <td>5</td>\n",
       "      <td>aliases</td>\n",
       "      <td>from_csv</td>\n",
       "      <td>open</td>\n",
       "      <td>six</td>\n",
       "    </tr>\n",
       "    <tr>\n",
       "      <td>6</td>\n",
       "      <td>app</td>\n",
       "      <td>from_dict</td>\n",
       "      <td>open_many</td>\n",
       "      <td>stat</td>\n",
       "    </tr>\n",
       "    <tr>\n",
       "      <td>7</td>\n",
       "      <td>astro</td>\n",
       "      <td>from_items</td>\n",
       "      <td>parse_qs</td>\n",
       "      <td>string_column</td>\n",
       "    </tr>\n",
       "    <tr>\n",
       "      <td>8</td>\n",
       "      <td>column</td>\n",
       "      <td>from_json</td>\n",
       "      <td>pkg_resources</td>\n",
       "      <td>strings</td>\n",
       "    </tr>\n",
       "    <tr>\n",
       "      <td>9</td>\n",
       "      <td>concat</td>\n",
       "      <td>from_pandas</td>\n",
       "      <td>print_function</td>\n",
       "      <td>superagg</td>\n",
       "    </tr>\n",
       "    <tr>\n",
       "      <td>10</td>\n",
       "      <td>dataframe</td>\n",
       "      <td>from_samp</td>\n",
       "      <td>promise</td>\n",
       "      <td>superstrings</td>\n",
       "    </tr>\n",
       "    <tr>\n",
       "      <td>11</td>\n",
       "      <td>dataset</td>\n",
       "      <td>from_scalars</td>\n",
       "      <td>read_csv</td>\n",
       "      <td>superutils</td>\n",
       "    </tr>\n",
       "    <tr>\n",
       "      <td>12</td>\n",
       "      <td>dataset_mmap</td>\n",
       "      <td>functions</td>\n",
       "      <td>read_csv_and_convert</td>\n",
       "      <td>tasks</td>\n",
       "    </tr>\n",
       "    <tr>\n",
       "      <td>13</td>\n",
       "      <td>datasets</td>\n",
       "      <td>glob</td>\n",
       "      <td>reduce</td>\n",
       "      <td>urlparse</td>\n",
       "    </tr>\n",
       "    <tr>\n",
       "      <td>14</td>\n",
       "      <td>delayed</td>\n",
       "      <td>grids</td>\n",
       "      <td>register_dataframe_accessor</td>\n",
       "      <td>utils</td>\n",
       "    </tr>\n",
       "    <tr>\n",
       "      <td>15</td>\n",
       "      <td>entry</td>\n",
       "      <td>groupby</td>\n",
       "      <td>register_function</td>\n",
       "      <td>vaex</td>\n",
       "    </tr>\n",
       "    <tr>\n",
       "      <td>16</td>\n",
       "      <td>events</td>\n",
       "      <td>hash</td>\n",
       "      <td>scopes</td>\n",
       "      <td>vaexfast</td>\n",
       "    </tr>\n",
       "    <tr>\n",
       "      <td>17</td>\n",
       "      <td>example</td>\n",
       "      <td>hdf5</td>\n",
       "      <td>selections</td>\n",
       "      <td>version</td>\n",
       "    </tr>\n",
       "    <tr>\n",
       "      <td>18</td>\n",
       "      <td>execution</td>\n",
       "      <td>image</td>\n",
       "      <td>serialize</td>\n",
       "      <td>viz</td>\n",
       "    </tr>\n",
       "    <tr>\n",
       "      <td>19</td>\n",
       "      <td>expression</td>\n",
       "      <td>import_script</td>\n",
       "      <td>server</td>\n",
       "      <td>vrange</td>\n",
       "    </tr>\n",
       "    <tr>\n",
       "      <td>20</td>\n",
       "      <td>expresso</td>\n",
       "      <td>json</td>\n",
       "      <td>set_log_level_debug</td>\n",
       "      <td>zeldovich</td>\n",
       "    </tr>\n",
       "    <tr>\n",
       "      <td>21</td>\n",
       "      <td>file</td>\n",
       "      <td></td>\n",
       "      <td></td>\n",
       "      <td></td>\n",
       "    </tr>\n",
       "  </tbody>\n",
       "</table>\n",
       "</div>"
      ],
      "text/plain": [
       "                0                   1                            2  \\\n",
       "0      BinnerTime              format                          kld   \n",
       "1         GroupBy         from_arrays                       loader   \n",
       "2         Grouper    from_arrow_table                       logger   \n",
       "3   add_namespace          from_ascii                      logging   \n",
       "4             agg  from_astropy_table               multithreading   \n",
       "5         aliases            from_csv                         open   \n",
       "6             app           from_dict                    open_many   \n",
       "7           astro          from_items                     parse_qs   \n",
       "8          column           from_json                pkg_resources   \n",
       "9          concat         from_pandas               print_function   \n",
       "10      dataframe           from_samp                      promise   \n",
       "11        dataset        from_scalars                     read_csv   \n",
       "12   dataset_mmap           functions         read_csv_and_convert   \n",
       "13       datasets                glob                       reduce   \n",
       "14        delayed               grids  register_dataframe_accessor   \n",
       "15          entry             groupby            register_function   \n",
       "16         events                hash                       scopes   \n",
       "17        example                hdf5                   selections   \n",
       "18      execution               image                    serialize   \n",
       "19     expression       import_script                       server   \n",
       "20       expresso                json          set_log_level_debug   \n",
       "21           file                                                    \n",
       "\n",
       "                          3  \n",
       "0   set_log_level_exception  \n",
       "1        set_log_level_info  \n",
       "2         set_log_level_off  \n",
       "3     set_log_level_warning  \n",
       "4                  settings  \n",
       "5                       six  \n",
       "6                      stat  \n",
       "7             string_column  \n",
       "8                   strings  \n",
       "9                  superagg  \n",
       "10             superstrings  \n",
       "11               superutils  \n",
       "12                    tasks  \n",
       "13                 urlparse  \n",
       "14                    utils  \n",
       "15                     vaex  \n",
       "16                 vaexfast  \n",
       "17                  version  \n",
       "18                      viz  \n",
       "19                   vrange  \n",
       "20                zeldovich  \n",
       "21                           "
      ]
     },
     "execution_count": 12,
     "metadata": {},
     "output_type": "execute_result"
    }
   ],
   "source": [
    "bp.show_method_attributes(vx,4)"
   ]
  },
  {
   "cell_type": "code",
   "execution_count": 13,
   "metadata": {
    "ExecuteTime": {
     "end_time": "2020-01-29T03:28:22.822377Z",
     "start_time": "2020-01-29T03:28:20.944261Z"
    }
   },
   "outputs": [
    {
     "data": {
      "text/html": [
       "<table>\n",
       "<thead>\n",
       "<tr><th>#                                  </th><th>Time    </th><th>V1                  </th><th>V2                 </th><th>V3                </th><th>V4                 </th><th>V5                  </th><th>V6                 </th><th>V7                 </th><th>V8                  </th><th>V9                 </th><th>V10                 </th><th>V11                 </th><th>V12                </th><th>V13                </th><th>V14                 </th><th>V15               </th><th>V16                 </th><th>V17                  </th><th>V18                 </th><th>V19                 </th><th>V20                </th><th>V21                  </th><th>V22                  </th><th>V23                 </th><th>V24                 </th><th>V25                 </th><th>V26                 </th><th>V27                 </th><th>V28                </th><th>Amount  </th><th>Class  </th><th>index  </th></tr>\n",
       "</thead>\n",
       "<tbody>\n",
       "<tr><td><i style='opacity: 0.6'>0</i>      </td><td>0.0     </td><td>-1.3598071336738    </td><td>-0.0727811733098497</td><td>2.53634673796914  </td><td>1.37815522427443   </td><td>-0.33832076994251803</td><td>0.462387777762292  </td><td>0.239598554061257  </td><td>0.0986979012610507  </td><td>0.363786969611213  </td><td>0.0907941719789316  </td><td>-0.551599533260813  </td><td>-0.617800855762348 </td><td>-0.991389847235408 </td><td>-0.31116935369987897</td><td>1.46817697209427  </td><td>-0.47040052525947795</td><td>0.20797124192924202  </td><td>0.0257905801985591  </td><td>0.403992960255733   </td><td>0.251412098239705  </td><td>-0.018306777944153   </td><td>0.277837575558899    </td><td>-0.110473910188767  </td><td>0.0669280749146731  </td><td>0.12853935827352803 </td><td>-0.189114843888824  </td><td>0.13355837674038698 </td><td>-0.0210530534538215</td><td>149.62  </td><td>0      </td><td>0      </td></tr>\n",
       "<tr><td><i style='opacity: 0.6'>1</i>      </td><td>0.0     </td><td>1.1918571113148602  </td><td>0.26615071205963   </td><td>0.16648011335321  </td><td>0.448154078460911  </td><td>0.0600176492822243  </td><td>-0.0823608088155687</td><td>-0.0788029833323113</td><td>0.0851016549148104  </td><td>-0.255425128109186 </td><td>-0.16697441400461402</td><td>1.6127266610547901  </td><td>1.06523531137287   </td><td>0.48909501589608   </td><td>-0.143772296441519  </td><td>0.635558093258208 </td><td>0.463917041022171   </td><td>-0.114804663102346   </td><td>-0.18336127012399397</td><td>-0.14578304132525902</td><td>-0.0690831352230203</td><td>-0.225775248033138   </td><td>-0.6386719527718511  </td><td>0.10128802125323402 </td><td>-0.33984647552912706</td><td>0.167170404418143   </td><td>0.125894532368176   </td><td>-0.00898309914322813</td><td>0.0147241691924927 </td><td>2.69    </td><td>0      </td><td>1      </td></tr>\n",
       "<tr><td><i style='opacity: 0.6'>2</i>      </td><td>1.0     </td><td>-1.35835406159823   </td><td>-1.3401630747360902</td><td>1.77320934263119  </td><td>0.3797795930343279 </td><td>-0.503198133318193  </td><td>1.80049938079263   </td><td>0.7914609564504219 </td><td>0.24767578658899103 </td><td>-1.5146543226058302</td><td>0.207642865216696   </td><td>0.6245014594248951  </td><td>0.06608368526883099</td><td>0.7172927314108309 </td><td>-0.165945922763554  </td><td>2.34586494901581  </td><td>-2.8900831944423104 </td><td>1.10996937869599     </td><td>-0.12135931319588801</td><td>-2.26185709530414   </td><td>0.524979725224404  </td><td>0.247998153469754    </td><td>0.771679401917229    </td><td>0.9094122623477191  </td><td>-0.689280956490685  </td><td>-0.3276418337352511 </td><td>-0.139096571514147  </td><td>-0.0553527940384261 </td><td>-0.0597518405929204</td><td>378.66  </td><td>0      </td><td>2      </td></tr>\n",
       "<tr><td><i style='opacity: 0.6'>3</i>      </td><td>1.0     </td><td>-0.9662717115720871 </td><td>-0.185226008082898 </td><td>1.79299333957872  </td><td>-0.863291275036453 </td><td>-0.0103088796030823 </td><td>1.24720316752486   </td><td>0.23760893977178   </td><td>0.377435874652262   </td><td>-1.38702406270197  </td><td>-0.0549519224713749 </td><td>-0.22648726383540102</td><td>0.178228225877303  </td><td>0.507756869957169  </td><td>-0.28792374549456   </td><td>-0.631418117709045</td><td>-1.0596472454324999 </td><td>-0.684092786345479   </td><td>1.96577500349538    </td><td>-1.2326219700892    </td><td>-0.208037781160366 </td><td>-0.108300452035545   </td><td>0.0052735967825345295</td><td>-0.190320518742841  </td><td>-1.1755753318632098 </td><td>0.647376034602038   </td><td>-0.22192884445840697</td><td>0.0627228487293033  </td><td>0.0614576285006353 </td><td>123.5   </td><td>0      </td><td>3      </td></tr>\n",
       "<tr><td><i style='opacity: 0.6'>4</i>      </td><td>2.0     </td><td>-1.1582330934952298 </td><td>0.8777367548484508 </td><td>1.548717846511    </td><td>0.40303393395512105</td><td>-0.40719337731165295</td><td>0.0959214624684256 </td><td>0.5929407453855451 </td><td>-0.27053267719228197</td><td>0.8177393082352941 </td><td>0.7530744319763539  </td><td>-0.8228428779463629 </td><td>0.53819555014995   </td><td>1.3458515932154    </td><td>-1.11966983471731   </td><td>0.175121130008994 </td><td>-0.451449182813529  </td><td>-0.237033239362776   </td><td>-0.0381947870352842 </td><td>0.803486924960175   </td><td>0.40854236039275804</td><td>-0.009430697132329191</td><td>0.7982784945897099   </td><td>-0.13745807961906303</td><td>0.14126698382476902 </td><td>-0.20600958761975602</td><td>0.502292224181569   </td><td>0.219422229513348   </td><td>0.21515314749920603</td><td>69.99   </td><td>0      </td><td>4      </td></tr>\n",
       "<tr><td>...                                </td><td>...     </td><td>...                 </td><td>...                </td><td>...               </td><td>...                </td><td>...                 </td><td>...                </td><td>...                </td><td>...                 </td><td>...                </td><td>...                 </td><td>...                 </td><td>...                </td><td>...                </td><td>...                 </td><td>...               </td><td>...                 </td><td>...                  </td><td>...                 </td><td>...                 </td><td>...                </td><td>...                  </td><td>...                  </td><td>...                 </td><td>...                 </td><td>...                 </td><td>...                 </td><td>...                 </td><td>...                </td><td>...     </td><td>...    </td><td>...    </td></tr>\n",
       "<tr><td><i style='opacity: 0.6'>284,802</i></td><td>172786.0</td><td>-11.881117885432301 </td><td>10.0717849710003   </td><td>-9.83478345739033 </td><td>-2.0666556845941297</td><td>-5.3644727809758495 </td><td>-2.6068373309456   </td><td>-4.91821543115252  </td><td>7.305334020798      </td><td>1.9144282734458    </td><td>4.35617041320691    </td><td>-1.59310526246153   </td><td>2.7119407910571702 </td><td>-0.68925560917964  </td><td>4.62694202525016    </td><td>-0.92445871482528 </td><td>1.10764060095394    </td><td>1.9916911070624297   </td><td>0.5106323291306479  </td><td>-0.6829196803569161 </td><td>1.4758291346555001 </td><td>0.21345410843735896  </td><td>0.111863735978609    </td><td>1.01447989719391    </td><td>-0.509348453168509  </td><td>1.4368069070214     </td><td>0.250034279569581   </td><td>0.943651171507532   </td><td>0.8237309614865022 </td><td>0.77    </td><td>0      </td><td>284802 </td></tr>\n",
       "<tr><td><i style='opacity: 0.6'>284,803</i></td><td>172787.0</td><td>-0.7327886706589559 </td><td>-0.0550804899173326</td><td>2.03502974528243  </td><td>-0.7385885843874399</td><td>0.868229398914682   </td><td>1.05841527222565   </td><td>0.0243296959175797 </td><td>0.294868698501783   </td><td>0.584800017281683  </td><td>-0.9759260633225079 </td><td>-0.15018884710327599</td><td>0.9158019144035551 </td><td>1.21475584849424   </td><td>-0.6751429558095761 </td><td>1.16493090944588  </td><td>-0.7117573499788811 </td><td>-0.025692855268572002</td><td>-1.22117885840624   </td><td>-1.54555608554509   </td><td>0.0596158998872689 </td><td>0.214205341747019    </td><td>0.924383584903381    </td><td>0.0124630383316793  </td><td>-1.01622566867336   </td><td>-0.606623985854728  </td><td>-0.395255065710324  </td><td>0.0684724700405593  </td><td>-0.0535273892010011</td><td>24.79   </td><td>0      </td><td>284803 </td></tr>\n",
       "<tr><td><i style='opacity: 0.6'>284,804</i></td><td>172788.0</td><td>1.91956500980048    </td><td>-0.301253845990644 </td><td>-3.24963981406834 </td><td>-0.55782812475002  </td><td>2.6305151201154704  </td><td>3.03126009781428   </td><td>-0.296826527116156 </td><td>0.708417184967134   </td><td>0.432454047632915  </td><td>-0.48478175575102894</td><td>0.41161373679432706 </td><td>0.0631188625621446 </td><td>-0.183698687930443 </td><td>-0.510601843577723  </td><td>1.32928351250595  </td><td>0.140715981685477   </td><td>0.313501786950651    </td><td>0.39565247933416503 </td><td>-0.5772518425011129 </td><td>0.00139597028995166</td><td>0.23204503592539702  </td><td>0.57822900992263     </td><td>-0.0375008550221367 </td><td>0.640133881346421   </td><td>0.265745453243744   </td><td>-0.0873705959041059 </td><td>0.00445477213829229 </td><td>-0.0265608285615222</td><td>67.88   </td><td>0      </td><td>284804 </td></tr>\n",
       "<tr><td><i style='opacity: 0.6'>284,805</i></td><td>172788.0</td><td>-0.24044004968094698</td><td>0.530482513118839  </td><td>0.702510230095103 </td><td>0.689799168040973  </td><td>-0.377961134444982  </td><td>0.6237077221476801 </td><td>-0.68617998628885  </td><td>0.679145459790659   </td><td>0.3920867124659721 </td><td>-0.399125651432835  </td><td>-1.9338488150571298 </td><td>-0.962886142890271 </td><td>-1.0420816559119102</td><td>0.4496244431660011  </td><td>1.9625631206657699</td><td>-0.60857712704613   </td><td>0.509928460110321    </td><td>1.11398059049908    </td><td>2.8978487733431297  </td><td>0.127433515805355  </td><td>0.265244916386865    </td><td>0.8000487414981391   </td><td>-0.16329794440665898</td><td>0.12320524374250802 </td><td>-0.5691588641585971 </td><td>0.546668462188323   </td><td>0.108820734744839   </td><td>0.10453282147879599</td><td>10.0    </td><td>0      </td><td>284805 </td></tr>\n",
       "<tr><td><i style='opacity: 0.6'>284,806</i></td><td>172792.0</td><td>-0.53341252200504   </td><td>-0.189733337002305 </td><td>0.7033373669637789</td><td>-0.506271240328258 </td><td>-0.0125456787599659 </td><td>-0.6496166857137919</td><td>1.5770062543762902 </td><td>-0.414650407552662  </td><td>0.4861795052672371 </td><td>-0.915426648905893  </td><td>-1.0404583352236099 </td><td>-0.0315130540252157</td><td>-0.188092900791737 </td><td>-0.0843164698151014 </td><td>0.0413334553360658</td><td>-0.302620086427415  </td><td>-0.6603766451827839  </td><td>0.16742993371973    </td><td>-0.256116871098099  </td><td>0.38294810487506603</td><td>0.26105733079097504  </td><td>0.643078437820093    </td><td>0.37677701416991705 </td><td>0.008797379400242021</td><td>-0.4736487038988251 </td><td>-0.8182671210411758 </td><td>-0.00241530880001015</td><td>0.0136489143320671 </td><td>217.0   </td><td>0      </td><td>284806 </td></tr>\n",
       "</tbody>\n",
       "</table>"
      ],
      "text/plain": [
       "#        Time      V1                    V2                   V3                  V4                   V5                    V6                   V7                   V8                    V9                   V10                   V11                   V12                  V13                  V14                   V15                 V16                   V17                    V18                   V19                   V20                  V21                    V22                    V23                   V24                   V25                   V26                   V27                   V28                  Amount    Class    index\n",
       "0        0.0       -1.3598071336738      -0.0727811733098497  2.53634673796914    1.37815522427443     -0.33832076994251803  0.462387777762292    0.239598554061257    0.0986979012610507    0.363786969611213    0.0907941719789316    -0.551599533260813    -0.617800855762348   -0.991389847235408   -0.31116935369987897  1.46817697209427    -0.47040052525947795  0.20797124192924202    0.0257905801985591    0.403992960255733     0.251412098239705    -0.018306777944153     0.277837575558899      -0.110473910188767    0.0669280749146731    0.12853935827352803   -0.189114843888824    0.13355837674038698   -0.0210530534538215  149.62    0        0\n",
       "1        0.0       1.1918571113148602    0.26615071205963     0.16648011335321    0.448154078460911    0.0600176492822243    -0.0823608088155687  -0.0788029833323113  0.0851016549148104    -0.255425128109186   -0.16697441400461402  1.6127266610547901    1.06523531137287     0.48909501589608     -0.143772296441519    0.635558093258208   0.463917041022171     -0.114804663102346     -0.18336127012399397  -0.14578304132525902  -0.0690831352230203  -0.225775248033138     -0.6386719527718511    0.10128802125323402   -0.33984647552912706  0.167170404418143     0.125894532368176     -0.00898309914322813  0.0147241691924927   2.69      0        1\n",
       "2        1.0       -1.35835406159823     -1.3401630747360902  1.77320934263119    0.3797795930343279   -0.503198133318193    1.80049938079263     0.7914609564504219   0.24767578658899103   -1.5146543226058302  0.207642865216696     0.6245014594248951    0.06608368526883099  0.7172927314108309   -0.165945922763554    2.34586494901581    -2.8900831944423104   1.10996937869599       -0.12135931319588801  -2.26185709530414     0.524979725224404    0.247998153469754      0.771679401917229      0.9094122623477191    -0.689280956490685    -0.3276418337352511   -0.139096571514147    -0.0553527940384261   -0.0597518405929204  378.66    0        2\n",
       "3        1.0       -0.9662717115720871   -0.185226008082898   1.79299333957872    -0.863291275036453   -0.0103088796030823   1.24720316752486     0.23760893977178     0.377435874652262     -1.38702406270197    -0.0549519224713749   -0.22648726383540102  0.178228225877303    0.507756869957169    -0.28792374549456     -0.631418117709045  -1.0596472454324999   -0.684092786345479     1.96577500349538      -1.2326219700892      -0.208037781160366   -0.108300452035545     0.0052735967825345295  -0.190320518742841    -1.1755753318632098   0.647376034602038     -0.22192884445840697  0.0627228487293033    0.0614576285006353   123.5     0        3\n",
       "4        2.0       -1.1582330934952298   0.8777367548484508   1.548717846511      0.40303393395512105  -0.40719337731165295  0.0959214624684256   0.5929407453855451   -0.27053267719228197  0.8177393082352941   0.7530744319763539    -0.8228428779463629   0.53819555014995     1.3458515932154      -1.11966983471731     0.175121130008994   -0.451449182813529    -0.237033239362776     -0.0381947870352842   0.803486924960175     0.40854236039275804  -0.009430697132329191  0.7982784945897099     -0.13745807961906303  0.14126698382476902   -0.20600958761975602  0.502292224181569     0.219422229513348     0.21515314749920603  69.99     0        4\n",
       "...      ...       ...                   ...                  ...                 ...                  ...                   ...                  ...                  ...                   ...                  ...                   ...                   ...                  ...                  ...                   ...                 ...                   ...                    ...                   ...                   ...                  ...                    ...                    ...                   ...                   ...                   ...                   ...                   ...                  ...       ...      ...\n",
       "284,802  172786.0  -11.881117885432301   10.0717849710003     -9.83478345739033   -2.0666556845941297  -5.3644727809758495   -2.6068373309456     -4.91821543115252    7.305334020798        1.9144282734458      4.35617041320691      -1.59310526246153     2.7119407910571702   -0.68925560917964    4.62694202525016      -0.92445871482528   1.10764060095394      1.9916911070624297     0.5106323291306479    -0.6829196803569161   1.4758291346555001   0.21345410843735896    0.111863735978609      1.01447989719391      -0.509348453168509    1.4368069070214       0.250034279569581     0.943651171507532     0.8237309614865022   0.77      0        284802\n",
       "284,803  172787.0  -0.7327886706589559   -0.0550804899173326  2.03502974528243    -0.7385885843874399  0.868229398914682     1.05841527222565     0.0243296959175797   0.294868698501783     0.584800017281683    -0.9759260633225079   -0.15018884710327599  0.9158019144035551   1.21475584849424     -0.6751429558095761   1.16493090944588    -0.7117573499788811   -0.025692855268572002  -1.22117885840624     -1.54555608554509     0.0596158998872689   0.214205341747019      0.924383584903381      0.0124630383316793    -1.01622566867336     -0.606623985854728    -0.395255065710324    0.0684724700405593    -0.0535273892010011  24.79     0        284803\n",
       "284,804  172788.0  1.91956500980048      -0.301253845990644   -3.24963981406834   -0.55782812475002    2.6305151201154704    3.03126009781428     -0.296826527116156   0.708417184967134     0.432454047632915    -0.48478175575102894  0.41161373679432706   0.0631188625621446   -0.183698687930443   -0.510601843577723    1.32928351250595    0.140715981685477     0.313501786950651      0.39565247933416503   -0.5772518425011129   0.00139597028995166  0.23204503592539702    0.57822900992263       -0.0375008550221367   0.640133881346421     0.265745453243744     -0.0873705959041059   0.00445477213829229   -0.0265608285615222  67.88     0        284804\n",
       "284,805  172788.0  -0.24044004968094698  0.530482513118839    0.702510230095103   0.689799168040973    -0.377961134444982    0.6237077221476801   -0.68617998628885    0.679145459790659     0.3920867124659721   -0.399125651432835    -1.9338488150571298   -0.962886142890271   -1.0420816559119102  0.4496244431660011    1.9625631206657699  -0.60857712704613     0.509928460110321      1.11398059049908      2.8978487733431297    0.127433515805355    0.265244916386865      0.8000487414981391     -0.16329794440665898  0.12320524374250802   -0.5691588641585971   0.546668462188323     0.108820734744839     0.10453282147879599  10.0      0        284805\n",
       "284,806  172792.0  -0.53341252200504     -0.189733337002305   0.7033373669637789  -0.506271240328258   -0.0125456787599659   -0.6496166857137919  1.5770062543762902   -0.414650407552662    0.4861795052672371   -0.915426648905893    -1.0404583352236099   -0.0315130540252157  -0.188092900791737   -0.0843164698151014   0.0413334553360658  -0.302620086427415    -0.6603766451827839    0.16742993371973      -0.256116871098099    0.38294810487506603  0.26105733079097504    0.643078437820093      0.37677701416991705   0.008797379400242021  -0.4736487038988251   -0.8182671210411758   -0.00241530880001015  0.0136489143320671   217.0     0        284806"
      ]
     },
     "execution_count": 13,
     "metadata": {},
     "output_type": "execute_result"
    }
   ],
   "source": [
    "dfv = vx.read_csv(ifile)\n",
    "dfv"
   ]
  },
  {
   "cell_type": "code",
   "execution_count": 14,
   "metadata": {
    "ExecuteTime": {
     "end_time": "2020-01-29T03:28:22.828134Z",
     "start_time": "2020-01-29T03:28:22.825156Z"
    }
   },
   "outputs": [],
   "source": [
    "# show_method_attributes(dfv,5)"
   ]
  },
  {
   "cell_type": "code",
   "execution_count": 15,
   "metadata": {
    "ExecuteTime": {
     "end_time": "2020-01-29T03:28:22.842986Z",
     "start_time": "2020-01-29T03:28:22.830841Z"
    }
   },
   "outputs": [
    {
     "name": "stdout",
     "output_type": "stream",
     "text": [
      "Object Type: <class 'vaex.dataframe.DataFrameArrays'>\n",
      "\n"
     ]
    },
    {
     "data": {
      "text/html": [
       "<div>\n",
       "<style scoped>\n",
       "    .dataframe tbody tr th:only-of-type {\n",
       "        vertical-align: middle;\n",
       "    }\n",
       "\n",
       "    .dataframe tbody tr th {\n",
       "        vertical-align: top;\n",
       "    }\n",
       "\n",
       "    .dataframe thead th {\n",
       "        text-align: right;\n",
       "    }\n",
       "</style>\n",
       "<table border=\"1\" class=\"dataframe\">\n",
       "  <thead>\n",
       "    <tr style=\"text-align: right;\">\n",
       "      <th></th>\n",
       "      <th>0</th>\n",
       "      <th>1</th>\n",
       "      <th>2</th>\n",
       "      <th>3</th>\n",
       "      <th>4</th>\n",
       "    </tr>\n",
       "  </thead>\n",
       "  <tbody>\n",
       "    <tr>\n",
       "      <td>0</td>\n",
       "      <td>healpix_plot</td>\n",
       "      <td>plot1d</td>\n",
       "      <td>plot2d_tensor</td>\n",
       "      <td>plot3d</td>\n",
       "      <td>plot_widget</td>\n",
       "    </tr>\n",
       "    <tr>\n",
       "      <td>1</td>\n",
       "      <td>plot</td>\n",
       "      <td>plot2d_contour</td>\n",
       "      <td>plot2d_vector</td>\n",
       "      <td>plot_bq</td>\n",
       "      <td></td>\n",
       "    </tr>\n",
       "  </tbody>\n",
       "</table>\n",
       "</div>"
      ],
      "text/plain": [
       "              0               1              2        3            4\n",
       "0  healpix_plot          plot1d  plot2d_tensor   plot3d  plot_widget\n",
       "1          plot  plot2d_contour  plot2d_vector  plot_bq             "
      ]
     },
     "execution_count": 15,
     "metadata": {},
     "output_type": "execute_result"
    }
   ],
   "source": [
    "show_method_attributes(dfv,5,inside='plot')"
   ]
  },
  {
   "cell_type": "code",
   "execution_count": 16,
   "metadata": {
    "ExecuteTime": {
     "end_time": "2020-01-29T03:28:22.848670Z",
     "start_time": "2020-01-29T03:28:22.845446Z"
    }
   },
   "outputs": [],
   "source": [
    "# dfv.shape # AttributeError"
   ]
  },
  {
   "cell_type": "code",
   "execution_count": 17,
   "metadata": {
    "ExecuteTime": {
     "end_time": "2020-01-29T03:28:22.887325Z",
     "start_time": "2020-01-29T03:28:22.860622Z"
    }
   },
   "outputs": [
    {
     "data": {
      "text/plain": [
       "284807"
      ]
     },
     "execution_count": 17,
     "metadata": {},
     "output_type": "execute_result"
    }
   ],
   "source": [
    "len(dfv)"
   ]
  },
  {
   "cell_type": "code",
   "execution_count": 18,
   "metadata": {
    "ExecuteTime": {
     "end_time": "2020-01-29T03:28:22.899142Z",
     "start_time": "2020-01-29T03:28:22.891343Z"
    }
   },
   "outputs": [
    {
     "data": {
      "text/plain": [
       "32"
      ]
     },
     "execution_count": 18,
     "metadata": {},
     "output_type": "execute_result"
    }
   ],
   "source": [
    "len(dfv.columns)"
   ]
  },
  {
   "cell_type": "code",
   "execution_count": 19,
   "metadata": {
    "ExecuteTime": {
     "end_time": "2020-01-29T03:28:22.910950Z",
     "start_time": "2020-01-29T03:28:22.903013Z"
    }
   },
   "outputs": [
    {
     "data": {
      "text/plain": [
       "array(['Time', 'V1', 'V2', 'V3', 'V4', 'V5', 'V6', 'V7', 'V8', 'V9',\n",
       "       'V10', 'V11', 'V12', 'V13', 'V14', 'V15', 'V16', 'V17', 'V18',\n",
       "       'V19', 'V20', 'V21', 'V22', 'V23', 'V24', 'V25', 'V26', 'V27',\n",
       "       'V28', 'Amount', 'Class', 'index'], dtype='<U6')"
      ]
     },
     "execution_count": 19,
     "metadata": {},
     "output_type": "execute_result"
    }
   ],
   "source": [
    "np.array(dfv.get_column_names())"
   ]
  },
  {
   "cell_type": "code",
   "execution_count": 20,
   "metadata": {
    "ExecuteTime": {
     "end_time": "2020-01-29T03:28:22.924764Z",
     "start_time": "2020-01-29T03:28:22.915066Z"
    }
   },
   "outputs": [
    {
     "data": {
      "text/plain": [
       "array(['Time', 'V1', 'V2', 'V3', 'V4', 'V5', 'V6', 'V7', 'V8', 'V9',\n",
       "       'V10', 'V11', 'V12', 'V13', 'V14', 'V15', 'V16', 'V17', 'V18',\n",
       "       'V19', 'V20', 'V21', 'V22', 'V23', 'V24', 'V25', 'V26', 'V27',\n",
       "       'V28', 'Amount', 'Class', 'index'], dtype='<U6')"
      ]
     },
     "execution_count": 20,
     "metadata": {},
     "output_type": "execute_result"
    }
   ],
   "source": [
    "np.array(list(dfv.columns))"
   ]
  },
  {
   "cell_type": "code",
   "execution_count": 21,
   "metadata": {
    "ExecuteTime": {
     "end_time": "2020-01-29T03:28:22.960224Z",
     "start_time": "2020-01-29T03:28:22.926738Z"
    }
   },
   "outputs": [
    {
     "data": {
      "text/html": [
       "<style>.vaex-description pre {\n",
       "          max-width : 450px;\n",
       "          white-space : nowrap;\n",
       "          overflow : hidden;\n",
       "          text-overflow: ellipsis;\n",
       "        }\n",
       "\n",
       "        .vex-description pre:hover {\n",
       "          max-width : initial;\n",
       "          white-space: pre;\n",
       "        }</style>"
      ],
      "text/plain": [
       "<IPython.core.display.HTML object>"
      ]
     },
     "metadata": {},
     "output_type": "display_data"
    },
    {
     "data": {
      "text/html": [
       "<div><h2>pandas</h2> <b>rows</b>: 284,807</div><div><b>path</b>: <i>/has/no/path/pandas</i></div><h2>Columns:</h2><table class='table-striped'><thead><tr><th>column</th><th>type</th><th>unit</th><th>description</th><th>expression</th></tr></thead><tr><td>Time</td><td>float64</td><td></td><td ><pre></pre></td><td></td></tr><tr><td>V1</td><td>float64</td><td></td><td ><pre></pre></td><td></td></tr><tr><td>V2</td><td>float64</td><td></td><td ><pre></pre></td><td></td></tr><tr><td>V3</td><td>float64</td><td></td><td ><pre></pre></td><td></td></tr><tr><td>V4</td><td>float64</td><td></td><td ><pre></pre></td><td></td></tr><tr><td>V5</td><td>float64</td><td></td><td ><pre></pre></td><td></td></tr><tr><td>V6</td><td>float64</td><td></td><td ><pre></pre></td><td></td></tr><tr><td>V7</td><td>float64</td><td></td><td ><pre></pre></td><td></td></tr><tr><td>V8</td><td>float64</td><td></td><td ><pre></pre></td><td></td></tr><tr><td>V9</td><td>float64</td><td></td><td ><pre></pre></td><td></td></tr><tr><td>V10</td><td>float64</td><td></td><td ><pre></pre></td><td></td></tr><tr><td>V11</td><td>float64</td><td></td><td ><pre></pre></td><td></td></tr><tr><td>V12</td><td>float64</td><td></td><td ><pre></pre></td><td></td></tr><tr><td>V13</td><td>float64</td><td></td><td ><pre></pre></td><td></td></tr><tr><td>V14</td><td>float64</td><td></td><td ><pre></pre></td><td></td></tr><tr><td>V15</td><td>float64</td><td></td><td ><pre></pre></td><td></td></tr><tr><td>V16</td><td>float64</td><td></td><td ><pre></pre></td><td></td></tr><tr><td>V17</td><td>float64</td><td></td><td ><pre></pre></td><td></td></tr><tr><td>V18</td><td>float64</td><td></td><td ><pre></pre></td><td></td></tr><tr><td>V19</td><td>float64</td><td></td><td ><pre></pre></td><td></td></tr><tr><td>V20</td><td>float64</td><td></td><td ><pre></pre></td><td></td></tr><tr><td>V21</td><td>float64</td><td></td><td ><pre></pre></td><td></td></tr><tr><td>V22</td><td>float64</td><td></td><td ><pre></pre></td><td></td></tr><tr><td>V23</td><td>float64</td><td></td><td ><pre></pre></td><td></td></tr><tr><td>V24</td><td>float64</td><td></td><td ><pre></pre></td><td></td></tr><tr><td>V25</td><td>float64</td><td></td><td ><pre></pre></td><td></td></tr><tr><td>V26</td><td>float64</td><td></td><td ><pre></pre></td><td></td></tr><tr><td>V27</td><td>float64</td><td></td><td ><pre></pre></td><td></td></tr><tr><td>V28</td><td>float64</td><td></td><td ><pre></pre></td><td></td></tr><tr><td>Amount</td><td>float64</td><td></td><td ><pre></pre></td><td></td></tr><tr><td>Class</td><td>int64</td><td></td><td ><pre></pre></td><td></td></tr><tr><td>index</td><td>int64</td><td></td><td ><pre></pre></td><td></td></tr></table><h2>Data:</h2><table>\n",
       "<thead>\n",
       "<tr><th>#                                  </th><th>Time    </th><th>V1                  </th><th>V2                 </th><th>V3                </th><th>V4                 </th><th>V5                  </th><th>V6                 </th><th>V7                 </th><th>V8                  </th><th>V9                 </th><th>V10                 </th><th>V11                 </th><th>V12                </th><th>V13                </th><th>V14                 </th><th>V15               </th><th>V16                 </th><th>V17                  </th><th>V18                 </th><th>V19                 </th><th>V20                </th><th>V21                  </th><th>V22                  </th><th>V23                 </th><th>V24                 </th><th>V25                 </th><th>V26                 </th><th>V27                 </th><th>V28                </th><th>Amount  </th><th>Class  </th><th>index  </th></tr>\n",
       "</thead>\n",
       "<tbody>\n",
       "<tr><td><i style='opacity: 0.6'>0</i>      </td><td>0.0     </td><td>-1.3598071336738    </td><td>-0.0727811733098497</td><td>2.53634673796914  </td><td>1.37815522427443   </td><td>-0.33832076994251803</td><td>0.462387777762292  </td><td>0.239598554061257  </td><td>0.0986979012610507  </td><td>0.363786969611213  </td><td>0.0907941719789316  </td><td>-0.551599533260813  </td><td>-0.617800855762348 </td><td>-0.991389847235408 </td><td>-0.31116935369987897</td><td>1.46817697209427  </td><td>-0.47040052525947795</td><td>0.20797124192924202  </td><td>0.0257905801985591  </td><td>0.403992960255733   </td><td>0.251412098239705  </td><td>-0.018306777944153   </td><td>0.277837575558899    </td><td>-0.110473910188767  </td><td>0.0669280749146731  </td><td>0.12853935827352803 </td><td>-0.189114843888824  </td><td>0.13355837674038698 </td><td>-0.0210530534538215</td><td>149.62  </td><td>0      </td><td>0      </td></tr>\n",
       "<tr><td><i style='opacity: 0.6'>1</i>      </td><td>0.0     </td><td>1.1918571113148602  </td><td>0.26615071205963   </td><td>0.16648011335321  </td><td>0.448154078460911  </td><td>0.0600176492822243  </td><td>-0.0823608088155687</td><td>-0.0788029833323113</td><td>0.0851016549148104  </td><td>-0.255425128109186 </td><td>-0.16697441400461402</td><td>1.6127266610547901  </td><td>1.06523531137287   </td><td>0.48909501589608   </td><td>-0.143772296441519  </td><td>0.635558093258208 </td><td>0.463917041022171   </td><td>-0.114804663102346   </td><td>-0.18336127012399397</td><td>-0.14578304132525902</td><td>-0.0690831352230203</td><td>-0.225775248033138   </td><td>-0.6386719527718511  </td><td>0.10128802125323402 </td><td>-0.33984647552912706</td><td>0.167170404418143   </td><td>0.125894532368176   </td><td>-0.00898309914322813</td><td>0.0147241691924927 </td><td>2.69    </td><td>0      </td><td>1      </td></tr>\n",
       "<tr><td><i style='opacity: 0.6'>2</i>      </td><td>1.0     </td><td>-1.35835406159823   </td><td>-1.3401630747360902</td><td>1.77320934263119  </td><td>0.3797795930343279 </td><td>-0.503198133318193  </td><td>1.80049938079263   </td><td>0.7914609564504219 </td><td>0.24767578658899103 </td><td>-1.5146543226058302</td><td>0.207642865216696   </td><td>0.6245014594248951  </td><td>0.06608368526883099</td><td>0.7172927314108309 </td><td>-0.165945922763554  </td><td>2.34586494901581  </td><td>-2.8900831944423104 </td><td>1.10996937869599     </td><td>-0.12135931319588801</td><td>-2.26185709530414   </td><td>0.524979725224404  </td><td>0.247998153469754    </td><td>0.771679401917229    </td><td>0.9094122623477191  </td><td>-0.689280956490685  </td><td>-0.3276418337352511 </td><td>-0.139096571514147  </td><td>-0.0553527940384261 </td><td>-0.0597518405929204</td><td>378.66  </td><td>0      </td><td>2      </td></tr>\n",
       "<tr><td><i style='opacity: 0.6'>3</i>      </td><td>1.0     </td><td>-0.9662717115720871 </td><td>-0.185226008082898 </td><td>1.79299333957872  </td><td>-0.863291275036453 </td><td>-0.0103088796030823 </td><td>1.24720316752486   </td><td>0.23760893977178   </td><td>0.377435874652262   </td><td>-1.38702406270197  </td><td>-0.0549519224713749 </td><td>-0.22648726383540102</td><td>0.178228225877303  </td><td>0.507756869957169  </td><td>-0.28792374549456   </td><td>-0.631418117709045</td><td>-1.0596472454324999 </td><td>-0.684092786345479   </td><td>1.96577500349538    </td><td>-1.2326219700892    </td><td>-0.208037781160366 </td><td>-0.108300452035545   </td><td>0.0052735967825345295</td><td>-0.190320518742841  </td><td>-1.1755753318632098 </td><td>0.647376034602038   </td><td>-0.22192884445840697</td><td>0.0627228487293033  </td><td>0.0614576285006353 </td><td>123.5   </td><td>0      </td><td>3      </td></tr>\n",
       "<tr><td><i style='opacity: 0.6'>4</i>      </td><td>2.0     </td><td>-1.1582330934952298 </td><td>0.8777367548484508 </td><td>1.548717846511    </td><td>0.40303393395512105</td><td>-0.40719337731165295</td><td>0.0959214624684256 </td><td>0.5929407453855451 </td><td>-0.27053267719228197</td><td>0.8177393082352941 </td><td>0.7530744319763539  </td><td>-0.8228428779463629 </td><td>0.53819555014995   </td><td>1.3458515932154    </td><td>-1.11966983471731   </td><td>0.175121130008994 </td><td>-0.451449182813529  </td><td>-0.237033239362776   </td><td>-0.0381947870352842 </td><td>0.803486924960175   </td><td>0.40854236039275804</td><td>-0.009430697132329191</td><td>0.7982784945897099   </td><td>-0.13745807961906303</td><td>0.14126698382476902 </td><td>-0.20600958761975602</td><td>0.502292224181569   </td><td>0.219422229513348   </td><td>0.21515314749920603</td><td>69.99   </td><td>0      </td><td>4      </td></tr>\n",
       "<tr><td>...                                </td><td>...     </td><td>...                 </td><td>...                </td><td>...               </td><td>...                </td><td>...                 </td><td>...                </td><td>...                </td><td>...                 </td><td>...                </td><td>...                 </td><td>...                 </td><td>...                </td><td>...                </td><td>...                 </td><td>...               </td><td>...                 </td><td>...                  </td><td>...                 </td><td>...                 </td><td>...                </td><td>...                  </td><td>...                  </td><td>...                 </td><td>...                 </td><td>...                 </td><td>...                 </td><td>...                 </td><td>...                </td><td>...     </td><td>...    </td><td>...    </td></tr>\n",
       "<tr><td><i style='opacity: 0.6'>284,802</i></td><td>172786.0</td><td>-11.881117885432301 </td><td>10.0717849710003   </td><td>-9.83478345739033 </td><td>-2.0666556845941297</td><td>-5.3644727809758495 </td><td>-2.6068373309456   </td><td>-4.91821543115252  </td><td>7.305334020798      </td><td>1.9144282734458    </td><td>4.35617041320691    </td><td>-1.59310526246153   </td><td>2.7119407910571702 </td><td>-0.68925560917964  </td><td>4.62694202525016    </td><td>-0.92445871482528 </td><td>1.10764060095394    </td><td>1.9916911070624297   </td><td>0.5106323291306479  </td><td>-0.6829196803569161 </td><td>1.4758291346555001 </td><td>0.21345410843735896  </td><td>0.111863735978609    </td><td>1.01447989719391    </td><td>-0.509348453168509  </td><td>1.4368069070214     </td><td>0.250034279569581   </td><td>0.943651171507532   </td><td>0.8237309614865022 </td><td>0.77    </td><td>0      </td><td>284802 </td></tr>\n",
       "<tr><td><i style='opacity: 0.6'>284,803</i></td><td>172787.0</td><td>-0.7327886706589559 </td><td>-0.0550804899173326</td><td>2.03502974528243  </td><td>-0.7385885843874399</td><td>0.868229398914682   </td><td>1.05841527222565   </td><td>0.0243296959175797 </td><td>0.294868698501783   </td><td>0.584800017281683  </td><td>-0.9759260633225079 </td><td>-0.15018884710327599</td><td>0.9158019144035551 </td><td>1.21475584849424   </td><td>-0.6751429558095761 </td><td>1.16493090944588  </td><td>-0.7117573499788811 </td><td>-0.025692855268572002</td><td>-1.22117885840624   </td><td>-1.54555608554509   </td><td>0.0596158998872689 </td><td>0.214205341747019    </td><td>0.924383584903381    </td><td>0.0124630383316793  </td><td>-1.01622566867336   </td><td>-0.606623985854728  </td><td>-0.395255065710324  </td><td>0.0684724700405593  </td><td>-0.0535273892010011</td><td>24.79   </td><td>0      </td><td>284803 </td></tr>\n",
       "<tr><td><i style='opacity: 0.6'>284,804</i></td><td>172788.0</td><td>1.91956500980048    </td><td>-0.301253845990644 </td><td>-3.24963981406834 </td><td>-0.55782812475002  </td><td>2.6305151201154704  </td><td>3.03126009781428   </td><td>-0.296826527116156 </td><td>0.708417184967134   </td><td>0.432454047632915  </td><td>-0.48478175575102894</td><td>0.41161373679432706 </td><td>0.0631188625621446 </td><td>-0.183698687930443 </td><td>-0.510601843577723  </td><td>1.32928351250595  </td><td>0.140715981685477   </td><td>0.313501786950651    </td><td>0.39565247933416503 </td><td>-0.5772518425011129 </td><td>0.00139597028995166</td><td>0.23204503592539702  </td><td>0.57822900992263     </td><td>-0.0375008550221367 </td><td>0.640133881346421   </td><td>0.265745453243744   </td><td>-0.0873705959041059 </td><td>0.00445477213829229 </td><td>-0.0265608285615222</td><td>67.88   </td><td>0      </td><td>284804 </td></tr>\n",
       "<tr><td><i style='opacity: 0.6'>284,805</i></td><td>172788.0</td><td>-0.24044004968094698</td><td>0.530482513118839  </td><td>0.702510230095103 </td><td>0.689799168040973  </td><td>-0.377961134444982  </td><td>0.6237077221476801 </td><td>-0.68617998628885  </td><td>0.679145459790659   </td><td>0.3920867124659721 </td><td>-0.399125651432835  </td><td>-1.9338488150571298 </td><td>-0.962886142890271 </td><td>-1.0420816559119102</td><td>0.4496244431660011  </td><td>1.9625631206657699</td><td>-0.60857712704613   </td><td>0.509928460110321    </td><td>1.11398059049908    </td><td>2.8978487733431297  </td><td>0.127433515805355  </td><td>0.265244916386865    </td><td>0.8000487414981391   </td><td>-0.16329794440665898</td><td>0.12320524374250802 </td><td>-0.5691588641585971 </td><td>0.546668462188323   </td><td>0.108820734744839   </td><td>0.10453282147879599</td><td>10.0    </td><td>0      </td><td>284805 </td></tr>\n",
       "<tr><td><i style='opacity: 0.6'>284,806</i></td><td>172792.0</td><td>-0.53341252200504   </td><td>-0.189733337002305 </td><td>0.7033373669637789</td><td>-0.506271240328258 </td><td>-0.0125456787599659 </td><td>-0.6496166857137919</td><td>1.5770062543762902 </td><td>-0.414650407552662  </td><td>0.4861795052672371 </td><td>-0.915426648905893  </td><td>-1.0404583352236099 </td><td>-0.0315130540252157</td><td>-0.188092900791737 </td><td>-0.0843164698151014 </td><td>0.0413334553360658</td><td>-0.302620086427415  </td><td>-0.6603766451827839  </td><td>0.16742993371973    </td><td>-0.256116871098099  </td><td>0.38294810487506603</td><td>0.26105733079097504  </td><td>0.643078437820093    </td><td>0.37677701416991705 </td><td>0.008797379400242021</td><td>-0.4736487038988251 </td><td>-0.8182671210411758 </td><td>-0.00241530880001015</td><td>0.0136489143320671 </td><td>217.0   </td><td>0      </td><td>284806 </td></tr>\n",
       "</tbody>\n",
       "</table>"
      ],
      "text/plain": [
       "<IPython.core.display.HTML object>"
      ]
     },
     "metadata": {},
     "output_type": "display_data"
    }
   ],
   "source": [
    "dfv.info()"
   ]
  },
  {
   "cell_type": "code",
   "execution_count": 22,
   "metadata": {
    "ExecuteTime": {
     "end_time": "2020-01-29T03:28:23.484297Z",
     "start_time": "2020-01-29T03:28:22.962944Z"
    }
   },
   "outputs": [
    {
     "data": {
      "text/html": [
       "<div>\n",
       "<style scoped>\n",
       "    .dataframe tbody tr th:only-of-type {\n",
       "        vertical-align: middle;\n",
       "    }\n",
       "\n",
       "    .dataframe tbody tr th {\n",
       "        vertical-align: top;\n",
       "    }\n",
       "\n",
       "    .dataframe thead th {\n",
       "        text-align: right;\n",
       "    }\n",
       "</style>\n",
       "<table border=\"1\" class=\"dataframe\">\n",
       "  <thead>\n",
       "    <tr style=\"text-align: right;\">\n",
       "      <th></th>\n",
       "      <th>Time</th>\n",
       "      <th>V1</th>\n",
       "      <th>V2</th>\n",
       "      <th>V3</th>\n",
       "      <th>V4</th>\n",
       "      <th>V5</th>\n",
       "      <th>V6</th>\n",
       "      <th>V7</th>\n",
       "      <th>V8</th>\n",
       "      <th>V9</th>\n",
       "      <th>...</th>\n",
       "      <th>V22</th>\n",
       "      <th>V23</th>\n",
       "      <th>V24</th>\n",
       "      <th>V25</th>\n",
       "      <th>V26</th>\n",
       "      <th>V27</th>\n",
       "      <th>V28</th>\n",
       "      <th>Amount</th>\n",
       "      <th>Class</th>\n",
       "      <th>index</th>\n",
       "    </tr>\n",
       "  </thead>\n",
       "  <tbody>\n",
       "    <tr>\n",
       "      <td>dtype</td>\n",
       "      <td>float64</td>\n",
       "      <td>float64</td>\n",
       "      <td>float64</td>\n",
       "      <td>float64</td>\n",
       "      <td>float64</td>\n",
       "      <td>float64</td>\n",
       "      <td>float64</td>\n",
       "      <td>float64</td>\n",
       "      <td>float64</td>\n",
       "      <td>float64</td>\n",
       "      <td>...</td>\n",
       "      <td>float64</td>\n",
       "      <td>float64</td>\n",
       "      <td>float64</td>\n",
       "      <td>float64</td>\n",
       "      <td>float64</td>\n",
       "      <td>float64</td>\n",
       "      <td>float64</td>\n",
       "      <td>float64</td>\n",
       "      <td>int64</td>\n",
       "      <td>int64</td>\n",
       "    </tr>\n",
       "    <tr>\n",
       "      <td>count</td>\n",
       "      <td>284807</td>\n",
       "      <td>284807</td>\n",
       "      <td>284807</td>\n",
       "      <td>284807</td>\n",
       "      <td>284807</td>\n",
       "      <td>284807</td>\n",
       "      <td>284807</td>\n",
       "      <td>284807</td>\n",
       "      <td>284807</td>\n",
       "      <td>284807</td>\n",
       "      <td>...</td>\n",
       "      <td>284807</td>\n",
       "      <td>284807</td>\n",
       "      <td>284807</td>\n",
       "      <td>284807</td>\n",
       "      <td>284807</td>\n",
       "      <td>284807</td>\n",
       "      <td>284807</td>\n",
       "      <td>284807</td>\n",
       "      <td>284807</td>\n",
       "      <td>284807</td>\n",
       "    </tr>\n",
       "    <tr>\n",
       "      <td>NA</td>\n",
       "      <td>0</td>\n",
       "      <td>0</td>\n",
       "      <td>0</td>\n",
       "      <td>0</td>\n",
       "      <td>0</td>\n",
       "      <td>0</td>\n",
       "      <td>0</td>\n",
       "      <td>0</td>\n",
       "      <td>0</td>\n",
       "      <td>0</td>\n",
       "      <td>...</td>\n",
       "      <td>0</td>\n",
       "      <td>0</td>\n",
       "      <td>0</td>\n",
       "      <td>0</td>\n",
       "      <td>0</td>\n",
       "      <td>0</td>\n",
       "      <td>0</td>\n",
       "      <td>0</td>\n",
       "      <td>0</td>\n",
       "      <td>0</td>\n",
       "    </tr>\n",
       "    <tr>\n",
       "      <td>mean</td>\n",
       "      <td>94813.85957508067</td>\n",
       "      <td>3.919560084655042e-15</td>\n",
       "      <td>5.688174400270728e-16</td>\n",
       "      <td>-8.76907126289773e-15</td>\n",
       "      <td>2.782312291808533e-15</td>\n",
       "      <td>-1.5525630329923732e-15</td>\n",
       "      <td>2.010663493875542e-15</td>\n",
       "      <td>-1.694249132734738e-15</td>\n",
       "      <td>-1.9270277088072758e-16</td>\n",
       "      <td>-3.13702431282631e-15</td>\n",
       "      <td>...</td>\n",
       "      <td>7.959908529993057e-16</td>\n",
       "      <td>5.367589788427716e-16</td>\n",
       "      <td>4.4581115101841816e-15</td>\n",
       "      <td>1.453003365084085e-15</td>\n",
       "      <td>1.6991042900067526e-15</td>\n",
       "      <td>-3.660160614016803e-16</td>\n",
       "      <td>-1.206048852934382e-16</td>\n",
       "      <td>88.34961925087359</td>\n",
       "      <td>0.001727485630620034</td>\n",
       "      <td>142403.0</td>\n",
       "    </tr>\n",
       "    <tr>\n",
       "      <td>std</td>\n",
       "      <td>47488.1</td>\n",
       "      <td>1.95869</td>\n",
       "      <td>1.65131</td>\n",
       "      <td>1.51625</td>\n",
       "      <td>1.41587</td>\n",
       "      <td>1.38024</td>\n",
       "      <td>1.33227</td>\n",
       "      <td>1.23709</td>\n",
       "      <td>1.19435</td>\n",
       "      <td>1.09863</td>\n",
       "      <td>...</td>\n",
       "      <td>0.7257</td>\n",
       "      <td>0.624459</td>\n",
       "      <td>0.605646</td>\n",
       "      <td>0.521277</td>\n",
       "      <td>0.482226</td>\n",
       "      <td>0.403632</td>\n",
       "      <td>0.330083</td>\n",
       "      <td>250.12</td>\n",
       "      <td>0.0415271</td>\n",
       "      <td>82216.7</td>\n",
       "    </tr>\n",
       "    <tr>\n",
       "      <td>min</td>\n",
       "      <td>0</td>\n",
       "      <td>-56.4075</td>\n",
       "      <td>-72.7157</td>\n",
       "      <td>-48.3256</td>\n",
       "      <td>-5.68317</td>\n",
       "      <td>-113.743</td>\n",
       "      <td>-26.1605</td>\n",
       "      <td>-43.5572</td>\n",
       "      <td>-73.2167</td>\n",
       "      <td>-13.4341</td>\n",
       "      <td>...</td>\n",
       "      <td>-10.9331</td>\n",
       "      <td>-44.8077</td>\n",
       "      <td>-2.83663</td>\n",
       "      <td>-10.2954</td>\n",
       "      <td>-2.60455</td>\n",
       "      <td>-22.5657</td>\n",
       "      <td>-15.4301</td>\n",
       "      <td>0</td>\n",
       "      <td>0</td>\n",
       "      <td>0</td>\n",
       "    </tr>\n",
       "    <tr>\n",
       "      <td>max</td>\n",
       "      <td>172792</td>\n",
       "      <td>2.45493</td>\n",
       "      <td>22.0577</td>\n",
       "      <td>9.38256</td>\n",
       "      <td>16.8753</td>\n",
       "      <td>34.8017</td>\n",
       "      <td>73.3016</td>\n",
       "      <td>120.589</td>\n",
       "      <td>20.0072</td>\n",
       "      <td>15.595</td>\n",
       "      <td>...</td>\n",
       "      <td>10.5031</td>\n",
       "      <td>22.5284</td>\n",
       "      <td>4.58455</td>\n",
       "      <td>7.51959</td>\n",
       "      <td>3.51735</td>\n",
       "      <td>31.6122</td>\n",
       "      <td>33.8478</td>\n",
       "      <td>25691.2</td>\n",
       "      <td>1</td>\n",
       "      <td>284806</td>\n",
       "    </tr>\n",
       "  </tbody>\n",
       "</table>\n",
       "<p>7 rows × 32 columns</p>\n",
       "</div>"
      ],
      "text/plain": [
       "                    Time                     V1                     V2  \\\n",
       "dtype            float64                float64                float64   \n",
       "count             284807                 284807                 284807   \n",
       "NA                     0                      0                      0   \n",
       "mean   94813.85957508067  3.919560084655042e-15  5.688174400270728e-16   \n",
       "std              47488.1                1.95869                1.65131   \n",
       "min                    0               -56.4075               -72.7157   \n",
       "max               172792                2.45493                22.0577   \n",
       "\n",
       "                          V3                     V4                       V5  \\\n",
       "dtype                float64                float64                  float64   \n",
       "count                 284807                 284807                   284807   \n",
       "NA                         0                      0                        0   \n",
       "mean   -8.76907126289773e-15  2.782312291808533e-15  -1.5525630329923732e-15   \n",
       "std                  1.51625                1.41587                  1.38024   \n",
       "min                 -48.3256               -5.68317                 -113.743   \n",
       "max                  9.38256                16.8753                  34.8017   \n",
       "\n",
       "                          V6                      V7                       V8  \\\n",
       "dtype                float64                 float64                  float64   \n",
       "count                 284807                  284807                   284807   \n",
       "NA                         0                       0                        0   \n",
       "mean   2.010663493875542e-15  -1.694249132734738e-15  -1.9270277088072758e-16   \n",
       "std                  1.33227                 1.23709                  1.19435   \n",
       "min                 -26.1605                -43.5572                 -73.2167   \n",
       "max                  73.3016                 120.589                  20.0072   \n",
       "\n",
       "                          V9  ...                    V22  \\\n",
       "dtype                float64  ...                float64   \n",
       "count                 284807  ...                 284807   \n",
       "NA                         0  ...                      0   \n",
       "mean   -3.13702431282631e-15  ...  7.959908529993057e-16   \n",
       "std                  1.09863  ...                 0.7257   \n",
       "min                 -13.4341  ...               -10.9331   \n",
       "max                   15.595  ...                10.5031   \n",
       "\n",
       "                         V23                     V24                    V25  \\\n",
       "dtype                float64                 float64                float64   \n",
       "count                 284807                  284807                 284807   \n",
       "NA                         0                       0                      0   \n",
       "mean   5.367589788427716e-16  4.4581115101841816e-15  1.453003365084085e-15   \n",
       "std                 0.624459                0.605646               0.521277   \n",
       "min                 -44.8077                -2.83663               -10.2954   \n",
       "max                  22.5284                 4.58455                7.51959   \n",
       "\n",
       "                          V26                     V27                     V28  \\\n",
       "dtype                 float64                 float64                 float64   \n",
       "count                  284807                  284807                  284807   \n",
       "NA                          0                       0                       0   \n",
       "mean   1.6991042900067526e-15  -3.660160614016803e-16  -1.206048852934382e-16   \n",
       "std                  0.482226                0.403632                0.330083   \n",
       "min                  -2.60455                -22.5657                -15.4301   \n",
       "max                   3.51735                 31.6122                 33.8478   \n",
       "\n",
       "                  Amount                 Class     index  \n",
       "dtype            float64                 int64     int64  \n",
       "count             284807                284807    284807  \n",
       "NA                     0                     0         0  \n",
       "mean   88.34961925087359  0.001727485630620034  142403.0  \n",
       "std               250.12             0.0415271   82216.7  \n",
       "min                    0                     0         0  \n",
       "max              25691.2                     1    284806  \n",
       "\n",
       "[7 rows x 32 columns]"
      ]
     },
     "execution_count": 22,
     "metadata": {},
     "output_type": "execute_result"
    }
   ],
   "source": [
    "dfv.describe()"
   ]
  },
  {
   "cell_type": "code",
   "execution_count": 23,
   "metadata": {
    "ExecuteTime": {
     "end_time": "2020-01-29T03:28:23.661206Z",
     "start_time": "2020-01-29T03:28:23.486644Z"
    }
   },
   "outputs": [],
   "source": [
    "ifile = ifile.replace('.csv','.hdf5')\n",
    "dfv.export_hdf5(ifile, virtual=True)"
   ]
  },
  {
   "cell_type": "code",
   "execution_count": 24,
   "metadata": {
    "ExecuteTime": {
     "end_time": "2020-01-29T03:28:23.795054Z",
     "start_time": "2020-01-29T03:28:23.667357Z"
    }
   },
   "outputs": [
    {
     "name": "stdout",
     "output_type": "stream",
     "text": [
      "creditcard.csv     creditcard.csv.zip creditcard.hdf5\r\n"
     ]
    }
   ],
   "source": [
    "!ls ../data/raw"
   ]
  },
  {
   "cell_type": "code",
   "execution_count": 25,
   "metadata": {
    "ExecuteTime": {
     "end_time": "2020-01-29T03:28:23.854444Z",
     "start_time": "2020-01-29T03:28:23.799777Z"
    }
   },
   "outputs": [],
   "source": [
    "dfv = vx.open(ifile)"
   ]
  },
  {
   "cell_type": "code",
   "execution_count": 26,
   "metadata": {
    "ExecuteTime": {
     "end_time": "2020-01-29T03:28:23.878218Z",
     "start_time": "2020-01-29T03:28:23.856519Z"
    }
   },
   "outputs": [
    {
     "data": {
      "text/html": [
       "<table>\n",
       "<thead>\n",
       "<tr><th>#                            </th><th style=\"text-align: right;\">  Time</th><th style=\"text-align: right;\">      V1</th><th style=\"text-align: right;\">        V2</th><th style=\"text-align: right;\">     V3</th><th style=\"text-align: right;\">     V4</th><th style=\"text-align: right;\">       V5</th><th style=\"text-align: right;\">      V6</th><th style=\"text-align: right;\">      V7</th><th style=\"text-align: right;\">       V8</th><th style=\"text-align: right;\">      V9</th><th style=\"text-align: right;\">      V10</th><th style=\"text-align: right;\">    V11</th><th style=\"text-align: right;\">      V12</th><th style=\"text-align: right;\">     V13</th><th style=\"text-align: right;\">      V14</th><th style=\"text-align: right;\">    V15</th><th style=\"text-align: right;\">      V16</th><th style=\"text-align: right;\">     V17</th><th style=\"text-align: right;\">      V18</th><th style=\"text-align: right;\">     V19</th><th style=\"text-align: right;\">     V20</th><th style=\"text-align: right;\">       V21</th><th style=\"text-align: right;\">     V22</th><th style=\"text-align: right;\">      V23</th><th style=\"text-align: right;\">      V24</th><th style=\"text-align: right;\">     V25</th><th style=\"text-align: right;\">      V26</th><th style=\"text-align: right;\">     V27</th><th style=\"text-align: right;\">       V28</th><th style=\"text-align: right;\">  Amount</th><th style=\"text-align: right;\">  Class</th><th style=\"text-align: right;\">  index</th></tr>\n",
       "</thead>\n",
       "<tbody>\n",
       "<tr><td><i style='opacity: 0.6'>0</i></td><td style=\"text-align: right;\">     0</td><td style=\"text-align: right;\">-1.35981</td><td style=\"text-align: right;\">-0.0727812</td><td style=\"text-align: right;\">2.53635</td><td style=\"text-align: right;\">1.37816</td><td style=\"text-align: right;\">-0.338321</td><td style=\"text-align: right;\">0.462388</td><td style=\"text-align: right;\">0.239599</td><td style=\"text-align: right;\">0.0986979</td><td style=\"text-align: right;\">0.363787</td><td style=\"text-align: right;\">0.0907942</td><td style=\"text-align: right;\">-0.5516</td><td style=\"text-align: right;\">-0.617801</td><td style=\"text-align: right;\">-0.99139</td><td style=\"text-align: right;\">-0.311169</td><td style=\"text-align: right;\">1.46818</td><td style=\"text-align: right;\">-0.470401</td><td style=\"text-align: right;\">0.207971</td><td style=\"text-align: right;\">0.0257906</td><td style=\"text-align: right;\">0.403993</td><td style=\"text-align: right;\">0.251412</td><td style=\"text-align: right;\">-0.0183068</td><td style=\"text-align: right;\">0.277838</td><td style=\"text-align: right;\">-0.110474</td><td style=\"text-align: right;\">0.0669281</td><td style=\"text-align: right;\">0.128539</td><td style=\"text-align: right;\">-0.189115</td><td style=\"text-align: right;\">0.133558</td><td style=\"text-align: right;\">-0.0210531</td><td style=\"text-align: right;\">  149.62</td><td style=\"text-align: right;\">      0</td><td style=\"text-align: right;\">      0</td></tr>\n",
       "</tbody>\n",
       "</table>"
      ],
      "text/plain": [
       "  #    Time        V1          V2       V3       V4         V5        V6        V7         V8        V9        V10      V11        V12       V13        V14      V15        V16       V17        V18       V19       V20         V21       V22        V23        V24       V25        V26       V27         V28    Amount    Class    index\n",
       "  0       0  -1.35981  -0.0727812  2.53635  1.37816  -0.338321  0.462388  0.239599  0.0986979  0.363787  0.0907942  -0.5516  -0.617801  -0.99139  -0.311169  1.46818  -0.470401  0.207971  0.0257906  0.403993  0.251412  -0.0183068  0.277838  -0.110474  0.0669281  0.128539  -0.189115  0.133558  -0.0210531    149.62        0        0"
      ]
     },
     "execution_count": 26,
     "metadata": {},
     "output_type": "execute_result"
    }
   ],
   "source": [
    "dfv.head(1)"
   ]
  },
  {
   "cell_type": "markdown",
   "metadata": {},
   "source": [
    "# Data Processing"
   ]
  },
  {
   "cell_type": "markdown",
   "metadata": {
    "ExecuteTime": {
     "end_time": "2020-01-29T02:36:39.798920Z",
     "start_time": "2020-01-29T02:36:39.795868Z"
    }
   },
   "source": [
    "## create virtual columns"
   ]
  },
  {
   "cell_type": "code",
   "execution_count": 27,
   "metadata": {
    "ExecuteTime": {
     "end_time": "2020-01-29T03:28:23.889083Z",
     "start_time": "2020-01-29T03:28:23.880020Z"
    }
   },
   "outputs": [
    {
     "data": {
      "text/plain": [
       "array(['Amount', 'Class', 'Time', 'V1', 'V10', 'V11', 'V12', 'V13', 'V14',\n",
       "       'V15', 'V16', 'V17', 'V18', 'V19', 'V2', 'V20', 'V21', 'V22',\n",
       "       'V23', 'V24', 'V25', 'V26', 'V27', 'V28', 'V3', 'V4', 'V5', 'V6',\n",
       "       'V7', 'V8', 'V9', 'index'], dtype='<U6')"
      ]
     },
     "execution_count": 27,
     "metadata": {},
     "output_type": "execute_result"
    }
   ],
   "source": [
    "np.array(list(dfv.columns))"
   ]
  },
  {
   "cell_type": "code",
   "execution_count": 28,
   "metadata": {
    "ExecuteTime": {
     "end_time": "2020-01-29T03:28:23.910277Z",
     "start_time": "2020-01-29T03:28:23.900585Z"
    }
   },
   "outputs": [],
   "source": [
    "dfv['log1p_Amount'] = np.log1p(dfv['Amount'])\n",
    "dfv['log1p_Time'] = np.log1p(dfv['Amount'])"
   ]
  },
  {
   "cell_type": "code",
   "execution_count": 29,
   "metadata": {
    "ExecuteTime": {
     "end_time": "2020-01-29T03:28:23.926027Z",
     "start_time": "2020-01-29T03:28:23.912278Z"
    }
   },
   "outputs": [
    {
     "data": {
      "text/plain": [
       "array(['Amount', 'Class', 'Time', 'V1', 'V10', 'V11', 'V12', 'V13', 'V14',\n",
       "       'V15', 'V16', 'V17', 'V18', 'V19', 'V2', 'V20', 'V21', 'V22',\n",
       "       'V23', 'V24', 'V25', 'V26', 'V27', 'V28', 'V3', 'V4', 'V5', 'V6',\n",
       "       'V7', 'V8', 'V9', 'index'], dtype='<U6')"
      ]
     },
     "execution_count": 29,
     "metadata": {},
     "output_type": "execute_result"
    }
   ],
   "source": [
    "np.array(list(dfv.columns))"
   ]
  },
  {
   "cell_type": "code",
   "execution_count": 30,
   "metadata": {
    "ExecuteTime": {
     "end_time": "2020-01-29T03:28:23.965336Z",
     "start_time": "2020-01-29T03:28:23.931046Z"
    }
   },
   "outputs": [
    {
     "data": {
      "text/html": [
       "<table>\n",
       "<thead>\n",
       "<tr><th>#                            </th><th style=\"text-align: right;\">  log1p_Amount</th><th style=\"text-align: right;\">  log1p_Time</th></tr>\n",
       "</thead>\n",
       "<tbody>\n",
       "<tr><td><i style='opacity: 0.6'>0</i></td><td style=\"text-align: right;\">       5.01476</td><td style=\"text-align: right;\">     5.01476</td></tr>\n",
       "<tr><td><i style='opacity: 0.6'>1</i></td><td style=\"text-align: right;\">       1.30563</td><td style=\"text-align: right;\">     1.30563</td></tr>\n",
       "</tbody>\n",
       "</table>"
      ],
      "text/plain": [
       "  #    log1p_Amount    log1p_Time\n",
       "  0         5.01476       5.01476\n",
       "  1         1.30563       1.30563"
      ]
     },
     "execution_count": 30,
     "metadata": {},
     "output_type": "execute_result"
    }
   ],
   "source": [
    "dfv[['log1p_Amount','log1p_Time']].head(2)"
   ]
  },
  {
   "cell_type": "markdown",
   "metadata": {},
   "source": [
    "## Categorize features"
   ]
  },
  {
   "cell_type": "code",
   "execution_count": 31,
   "metadata": {
    "ExecuteTime": {
     "end_time": "2020-01-29T03:28:23.979075Z",
     "start_time": "2020-01-29T03:28:23.971289Z"
    }
   },
   "outputs": [],
   "source": [
    "dfv.categorize(column='Class')"
   ]
  },
  {
   "cell_type": "code",
   "execution_count": null,
   "metadata": {},
   "outputs": [],
   "source": []
  },
  {
   "cell_type": "markdown",
   "metadata": {},
   "source": [
    "# EDA"
   ]
  },
  {
   "cell_type": "code",
   "execution_count": 32,
   "metadata": {
    "ExecuteTime": {
     "end_time": "2020-01-29T03:28:24.006446Z",
     "start_time": "2020-01-29T03:28:23.989170Z"
    }
   },
   "outputs": [
    {
     "data": {
      "text/plain": [
       "array([88.29102242])"
      ]
     },
     "execution_count": 32,
     "metadata": {},
     "output_type": "execute_result"
    }
   ],
   "source": [
    "dfv.select(dfv['Class']==0, name='class_0')\n",
    "\n",
    "dfv.mean(dfv.Amount, selection=['class_0'])"
   ]
  },
  {
   "cell_type": "code",
   "execution_count": 33,
   "metadata": {
    "ExecuteTime": {
     "end_time": "2020-01-29T03:28:24.256481Z",
     "start_time": "2020-01-29T03:28:24.013748Z"
    }
   },
   "outputs": [
    {
     "data": {
      "image/png": "[encoded data removed]",
      "text/plain": [
       "<Figure size 576x576 with 1 Axes>"
      ]
     },
     "metadata": {},
     "output_type": "display_data"
    }
   ],
   "source": [
    "ax = dfv['Class'].value_counts().plot.bar()\n",
    "bp.add_text_barplot(ax)"
   ]
  },
  {
   "cell_type": "code",
   "execution_count": 34,
   "metadata": {
    "ExecuteTime": {
     "end_time": "2020-01-29T03:28:24.773598Z",
     "start_time": "2020-01-29T03:28:24.270135Z"
    }
   },
   "outputs": [
    {
     "data": {
      "text/html": [
       "<div>\n",
       "<style scoped>\n",
       "    .dataframe tbody tr th:only-of-type {\n",
       "        vertical-align: middle;\n",
       "    }\n",
       "\n",
       "    .dataframe tbody tr th {\n",
       "        vertical-align: top;\n",
       "    }\n",
       "\n",
       "    .dataframe thead th {\n",
       "        text-align: right;\n",
       "    }\n",
       "</style>\n",
       "<table border=\"1\" class=\"dataframe\">\n",
       "  <thead>\n",
       "    <tr style=\"text-align: right;\">\n",
       "      <th></th>\n",
       "      <th>V1</th>\n",
       "      <th>V2</th>\n",
       "      <th>V3</th>\n",
       "      <th>V4</th>\n",
       "      <th>V5</th>\n",
       "      <th>V6</th>\n",
       "      <th>V7</th>\n",
       "      <th>V8</th>\n",
       "      <th>V9</th>\n",
       "      <th>V10</th>\n",
       "      <th>...</th>\n",
       "      <th>V19</th>\n",
       "      <th>V20</th>\n",
       "      <th>V21</th>\n",
       "      <th>V22</th>\n",
       "      <th>V23</th>\n",
       "      <th>V24</th>\n",
       "      <th>V25</th>\n",
       "      <th>V26</th>\n",
       "      <th>V27</th>\n",
       "      <th>V28</th>\n",
       "    </tr>\n",
       "  </thead>\n",
       "  <tbody>\n",
       "    <tr>\n",
       "      <td>dtype</td>\n",
       "      <td>float64</td>\n",
       "      <td>float64</td>\n",
       "      <td>float64</td>\n",
       "      <td>float64</td>\n",
       "      <td>float64</td>\n",
       "      <td>float64</td>\n",
       "      <td>float64</td>\n",
       "      <td>float64</td>\n",
       "      <td>float64</td>\n",
       "      <td>float64</td>\n",
       "      <td>...</td>\n",
       "      <td>float64</td>\n",
       "      <td>float64</td>\n",
       "      <td>float64</td>\n",
       "      <td>float64</td>\n",
       "      <td>float64</td>\n",
       "      <td>float64</td>\n",
       "      <td>float64</td>\n",
       "      <td>float64</td>\n",
       "      <td>float64</td>\n",
       "      <td>float64</td>\n",
       "    </tr>\n",
       "    <tr>\n",
       "      <td>count</td>\n",
       "      <td>284807</td>\n",
       "      <td>284807</td>\n",
       "      <td>284807</td>\n",
       "      <td>284807</td>\n",
       "      <td>284807</td>\n",
       "      <td>284807</td>\n",
       "      <td>284807</td>\n",
       "      <td>284807</td>\n",
       "      <td>284807</td>\n",
       "      <td>284807</td>\n",
       "      <td>...</td>\n",
       "      <td>284807</td>\n",
       "      <td>284807</td>\n",
       "      <td>284807</td>\n",
       "      <td>284807</td>\n",
       "      <td>284807</td>\n",
       "      <td>284807</td>\n",
       "      <td>284807</td>\n",
       "      <td>284807</td>\n",
       "      <td>284807</td>\n",
       "      <td>284807</td>\n",
       "    </tr>\n",
       "    <tr>\n",
       "      <td>NA</td>\n",
       "      <td>0</td>\n",
       "      <td>0</td>\n",
       "      <td>0</td>\n",
       "      <td>0</td>\n",
       "      <td>0</td>\n",
       "      <td>0</td>\n",
       "      <td>0</td>\n",
       "      <td>0</td>\n",
       "      <td>0</td>\n",
       "      <td>0</td>\n",
       "      <td>...</td>\n",
       "      <td>0</td>\n",
       "      <td>0</td>\n",
       "      <td>0</td>\n",
       "      <td>0</td>\n",
       "      <td>0</td>\n",
       "      <td>0</td>\n",
       "      <td>0</td>\n",
       "      <td>0</td>\n",
       "      <td>0</td>\n",
       "      <td>0</td>\n",
       "    </tr>\n",
       "    <tr>\n",
       "      <td>mean</td>\n",
       "      <td>3.919560084655042e-15</td>\n",
       "      <td>5.688174400270728e-16</td>\n",
       "      <td>-8.76907126289773e-15</td>\n",
       "      <td>2.782312291808533e-15</td>\n",
       "      <td>-1.5525630329923732e-15</td>\n",
       "      <td>2.010663493875542e-15</td>\n",
       "      <td>-1.694249132734738e-15</td>\n",
       "      <td>-1.9270277088072758e-16</td>\n",
       "      <td>-3.13702431282631e-15</td>\n",
       "      <td>1.7686271795410151e-15</td>\n",
       "      <td>...</td>\n",
       "      <td>9.04973248757329e-16</td>\n",
       "      <td>5.085503396752038e-16</td>\n",
       "      <td>1.5372936510804693e-16</td>\n",
       "      <td>7.959908529993057e-16</td>\n",
       "      <td>5.367589788427716e-16</td>\n",
       "      <td>4.4581115101841816e-15</td>\n",
       "      <td>1.453003365084085e-15</td>\n",
       "      <td>1.6991042900067526e-15</td>\n",
       "      <td>-3.660160614016803e-16</td>\n",
       "      <td>-1.206048852934382e-16</td>\n",
       "    </tr>\n",
       "    <tr>\n",
       "      <td>std</td>\n",
       "      <td>1.95869</td>\n",
       "      <td>1.65131</td>\n",
       "      <td>1.51625</td>\n",
       "      <td>1.41587</td>\n",
       "      <td>1.38024</td>\n",
       "      <td>1.33227</td>\n",
       "      <td>1.23709</td>\n",
       "      <td>1.19435</td>\n",
       "      <td>1.09863</td>\n",
       "      <td>1.08885</td>\n",
       "      <td>...</td>\n",
       "      <td>0.814039</td>\n",
       "      <td>0.770924</td>\n",
       "      <td>0.734523</td>\n",
       "      <td>0.7257</td>\n",
       "      <td>0.624459</td>\n",
       "      <td>0.605646</td>\n",
       "      <td>0.521277</td>\n",
       "      <td>0.482226</td>\n",
       "      <td>0.403632</td>\n",
       "      <td>0.330083</td>\n",
       "    </tr>\n",
       "    <tr>\n",
       "      <td>min</td>\n",
       "      <td>-56.4075</td>\n",
       "      <td>-72.7157</td>\n",
       "      <td>-48.3256</td>\n",
       "      <td>-5.68317</td>\n",
       "      <td>-113.743</td>\n",
       "      <td>-26.1605</td>\n",
       "      <td>-43.5572</td>\n",
       "      <td>-73.2167</td>\n",
       "      <td>-13.4341</td>\n",
       "      <td>-24.5883</td>\n",
       "      <td>...</td>\n",
       "      <td>-7.21353</td>\n",
       "      <td>-54.4977</td>\n",
       "      <td>-34.8304</td>\n",
       "      <td>-10.9331</td>\n",
       "      <td>-44.8077</td>\n",
       "      <td>-2.83663</td>\n",
       "      <td>-10.2954</td>\n",
       "      <td>-2.60455</td>\n",
       "      <td>-22.5657</td>\n",
       "      <td>-15.4301</td>\n",
       "    </tr>\n",
       "    <tr>\n",
       "      <td>max</td>\n",
       "      <td>2.45493</td>\n",
       "      <td>22.0577</td>\n",
       "      <td>9.38256</td>\n",
       "      <td>16.8753</td>\n",
       "      <td>34.8017</td>\n",
       "      <td>73.3016</td>\n",
       "      <td>120.589</td>\n",
       "      <td>20.0072</td>\n",
       "      <td>15.595</td>\n",
       "      <td>23.7451</td>\n",
       "      <td>...</td>\n",
       "      <td>5.59197</td>\n",
       "      <td>39.4209</td>\n",
       "      <td>27.2028</td>\n",
       "      <td>10.5031</td>\n",
       "      <td>22.5284</td>\n",
       "      <td>4.58455</td>\n",
       "      <td>7.51959</td>\n",
       "      <td>3.51735</td>\n",
       "      <td>31.6122</td>\n",
       "      <td>33.8478</td>\n",
       "    </tr>\n",
       "  </tbody>\n",
       "</table>\n",
       "<p>7 rows × 28 columns</p>\n",
       "</div>"
      ],
      "text/plain": [
       "                          V1                     V2                     V3  \\\n",
       "dtype                float64                float64                float64   \n",
       "count                 284807                 284807                 284807   \n",
       "NA                         0                      0                      0   \n",
       "mean   3.919560084655042e-15  5.688174400270728e-16  -8.76907126289773e-15   \n",
       "std                  1.95869                1.65131                1.51625   \n",
       "min                 -56.4075               -72.7157               -48.3256   \n",
       "max                  2.45493                22.0577                9.38256   \n",
       "\n",
       "                          V4                       V5                     V6  \\\n",
       "dtype                float64                  float64                float64   \n",
       "count                 284807                   284807                 284807   \n",
       "NA                         0                        0                      0   \n",
       "mean   2.782312291808533e-15  -1.5525630329923732e-15  2.010663493875542e-15   \n",
       "std                  1.41587                  1.38024                1.33227   \n",
       "min                 -5.68317                 -113.743               -26.1605   \n",
       "max                  16.8753                  34.8017                73.3016   \n",
       "\n",
       "                           V7                       V8                     V9  \\\n",
       "dtype                 float64                  float64                float64   \n",
       "count                  284807                   284807                 284807   \n",
       "NA                          0                        0                      0   \n",
       "mean   -1.694249132734738e-15  -1.9270277088072758e-16  -3.13702431282631e-15   \n",
       "std                   1.23709                  1.19435                1.09863   \n",
       "min                  -43.5572                 -73.2167               -13.4341   \n",
       "max                   120.589                  20.0072                 15.595   \n",
       "\n",
       "                          V10  ...                   V19  \\\n",
       "dtype                 float64  ...               float64   \n",
       "count                  284807  ...                284807   \n",
       "NA                          0  ...                     0   \n",
       "mean   1.7686271795410151e-15  ...  9.04973248757329e-16   \n",
       "std                   1.08885  ...              0.814039   \n",
       "min                  -24.5883  ...              -7.21353   \n",
       "max                   23.7451  ...               5.59197   \n",
       "\n",
       "                         V20                     V21                    V22  \\\n",
       "dtype                float64                 float64                float64   \n",
       "count                 284807                  284807                 284807   \n",
       "NA                         0                       0                      0   \n",
       "mean   5.085503396752038e-16  1.5372936510804693e-16  7.959908529993057e-16   \n",
       "std                 0.770924                0.734523                 0.7257   \n",
       "min                 -54.4977                -34.8304               -10.9331   \n",
       "max                  39.4209                 27.2028                10.5031   \n",
       "\n",
       "                         V23                     V24                    V25  \\\n",
       "dtype                float64                 float64                float64   \n",
       "count                 284807                  284807                 284807   \n",
       "NA                         0                       0                      0   \n",
       "mean   5.367589788427716e-16  4.4581115101841816e-15  1.453003365084085e-15   \n",
       "std                 0.624459                0.605646               0.521277   \n",
       "min                 -44.8077                -2.83663               -10.2954   \n",
       "max                  22.5284                 4.58455                7.51959   \n",
       "\n",
       "                          V26                     V27                     V28  \n",
       "dtype                 float64                 float64                 float64  \n",
       "count                  284807                  284807                  284807  \n",
       "NA                          0                       0                       0  \n",
       "mean   1.6991042900067526e-15  -3.660160614016803e-16  -1.206048852934382e-16  \n",
       "std                  0.482226                0.403632                0.330083  \n",
       "min                  -2.60455                -22.5657                -15.4301  \n",
       "max                   3.51735                 31.6122                 33.8478  \n",
       "\n",
       "[7 rows x 28 columns]"
      ]
     },
     "execution_count": 34,
     "metadata": {},
     "output_type": "execute_result"
    }
   ],
   "source": [
    "pca_vars = ['V%i' % k for k in range(1,29)]\n",
    "dfv[pca_vars].describe()"
   ]
  },
  {
   "cell_type": "code",
   "execution_count": 35,
   "metadata": {
    "ExecuteTime": {
     "end_time": "2020-01-29T03:28:24.789023Z",
     "start_time": "2020-01-29T03:28:24.785029Z"
    }
   },
   "outputs": [],
   "source": [
    "# dfv.mean?"
   ]
  },
  {
   "cell_type": "code",
   "execution_count": 36,
   "metadata": {
    "ExecuteTime": {
     "end_time": "2020-01-29T03:28:24.809623Z",
     "start_time": "2020-01-29T03:28:24.794875Z"
    }
   },
   "outputs": [
    {
     "data": {
      "text/plain": [
       "array(88.34961925)"
      ]
     },
     "execution_count": 36,
     "metadata": {},
     "output_type": "execute_result"
    }
   ],
   "source": [
    "dfv.Amount.mean()"
   ]
  },
  {
   "cell_type": "markdown",
   "metadata": {},
   "source": [
    "## Correlations"
   ]
  },
  {
   "cell_type": "code",
   "execution_count": 37,
   "metadata": {
    "ExecuteTime": {
     "end_time": "2020-01-29T03:28:30.174773Z",
     "start_time": "2020-01-29T03:28:24.821996Z"
    }
   },
   "outputs": [
    {
     "data": {
      "text/html": [
       "<div>\n",
       "<style scoped>\n",
       "    .dataframe tbody tr th:only-of-type {\n",
       "        vertical-align: middle;\n",
       "    }\n",
       "\n",
       "    .dataframe tbody tr th {\n",
       "        vertical-align: top;\n",
       "    }\n",
       "\n",
       "    .dataframe thead th {\n",
       "        text-align: right;\n",
       "    }\n",
       "</style>\n",
       "<table border=\"1\" class=\"dataframe\">\n",
       "  <thead>\n",
       "    <tr style=\"text-align: right;\">\n",
       "      <th></th>\n",
       "      <th>names</th>\n",
       "      <th>corr</th>\n",
       "      <th>mutual_info</th>\n",
       "    </tr>\n",
       "  </thead>\n",
       "  <tbody>\n",
       "    <tr>\n",
       "      <td>0</td>\n",
       "      <td>Time_V1</td>\n",
       "      <td>0.117396</td>\n",
       "      <td>0.371445</td>\n",
       "    </tr>\n",
       "    <tr>\n",
       "      <td>1</td>\n",
       "      <td>Time_V2</td>\n",
       "      <td>-0.010593</td>\n",
       "      <td>0.111086</td>\n",
       "    </tr>\n",
       "    <tr>\n",
       "      <td>2</td>\n",
       "      <td>Time_V3</td>\n",
       "      <td>-0.419618</td>\n",
       "      <td>0.283335</td>\n",
       "    </tr>\n",
       "    <tr>\n",
       "      <td>3</td>\n",
       "      <td>Time_V4</td>\n",
       "      <td>-0.105260</td>\n",
       "      <td>0.186229</td>\n",
       "    </tr>\n",
       "    <tr>\n",
       "      <td>4</td>\n",
       "      <td>Time_V5</td>\n",
       "      <td>0.173072</td>\n",
       "      <td>0.140498</td>\n",
       "    </tr>\n",
       "  </tbody>\n",
       "</table>\n",
       "</div>"
      ],
      "text/plain": [
       "     names      corr  mutual_info\n",
       "0  Time_V1  0.117396     0.371445\n",
       "1  Time_V2 -0.010593     0.111086\n",
       "2  Time_V3 -0.419618     0.283335\n",
       "3  Time_V4 -0.105260     0.186229\n",
       "4  Time_V5  0.173072     0.140498"
      ]
     },
     "execution_count": 37,
     "metadata": {},
     "output_type": "execute_result"
    }
   ],
   "source": [
    "subspaces = dfv.combinations()\n",
    "correlations = dfv.correlation(subspaces)\n",
    "mutual_informations = dfv.mutual_information(subspaces)\n",
    "names = [\"_\".join(subspace) for subspace in subspaces]\n",
    "\n",
    "df_corr = pd.DataFrame({'names': names, \n",
    "                       'corr': correlations,\n",
    "                       'mutual_info': mutual_informations})\n",
    "\n",
    "df_corr.head()"
   ]
  },
  {
   "cell_type": "markdown",
   "metadata": {},
   "source": [
    "## Scatter plots"
   ]
  },
  {
   "cell_type": "code",
   "execution_count": 60,
   "metadata": {
    "ExecuteTime": {
     "end_time": "2020-01-29T03:38:53.390396Z",
     "start_time": "2020-01-29T03:38:52.286832Z"
    }
   },
   "outputs": [
    {
     "data": {
      "image/png": "[encoded data removed]",
      "text/plain": [
       "<Figure size 720x360 with 6 Axes>"
      ]
     },
     "metadata": {},
     "output_type": "display_data"
    }
   ],
   "source": [
    "dfv.plot(\"Amount\", \"V1\",\n",
    "         what=[\"mean(Amount)\", \"sum(V1)\", \"correlation(Amount, V1)\"],\n",
    "         title=\"Different statistics\",\n",
    "         figsize=(10,5));\n",
    "\n",
    "plt.grid(False)"
   ]
  },
  {
   "cell_type": "code",
   "execution_count": 45,
   "metadata": {
    "ExecuteTime": {
     "end_time": "2020-01-29T03:31:57.159022Z",
     "start_time": "2020-01-29T03:31:56.300081Z"
    }
   },
   "outputs": [
    {
     "name": "stderr",
     "output_type": "stream",
     "text": [
      "/Users/poudel/miniconda3/envs/xx/lib/python3.7/site-packages/vaex/viz/mpl.py:779: MatplotlibDeprecationWarning:\n",
      "\n",
      "Adding an axes using the same arguments as a previous axes currently reuses the earlier instance.  In a future version, a new instance will always be created and returned.  Meanwhile, this warning can be suppressed, and the future behavior ensured, by passing a unique label to each axes instance.\n",
      "\n"
     ]
    },
    {
     "data": {
      "image/png": "[encoded data removed]",
      "text/plain": [
       "<Figure size 720x288 with 4 Axes>"
      ]
     },
     "metadata": {},
     "output_type": "display_data"
    }
   ],
   "source": [
    "dfv.plot([[\"Amount\", \"V1\"], [\"Amount\", \"V2\"]],\n",
    "         what=['mean(Amount)'],\n",
    "         title=\"V1 and V2\",\n",
    "         figsize=(10,4));"
   ]
  },
  {
   "cell_type": "code",
   "execution_count": 100,
   "metadata": {
    "ExecuteTime": {
     "end_time": "2020-01-29T04:14:05.172990Z",
     "start_time": "2020-01-29T04:14:05.169822Z"
    }
   },
   "outputs": [],
   "source": [
    "# dfv.plot(\"Amount\", \"V1\",\n",
    "#          selection=\"log1p(Amount)<1\",\n",
    "#          limits=[0,500]\n",
    "#         );"
   ]
  },
  {
   "cell_type": "code",
   "execution_count": 81,
   "metadata": {
    "ExecuteTime": {
     "end_time": "2020-01-29T03:47:56.355188Z",
     "start_time": "2020-01-29T03:47:46.820732Z"
    }
   },
   "outputs": [
    {
     "data": {
      "image/png": "[encoded data removed]",
      "text/plain": [
       "<Figure size 576x576 with 1 Axes>"
      ]
     },
     "metadata": {},
     "output_type": "display_data"
    }
   ],
   "source": [
    "dfv.scatter(\"Amount\", \"V1\",\n",
    "            selection=\"Amount < 100\",\n",
    "            alpha=0.5,\n",
    "            c=['r','g'],\n",
    "            c_expr='Class',\n",
    "            length_check=False # if row > 50k we need this\n",
    "           );"
   ]
  },
  {
   "cell_type": "code",
   "execution_count": 84,
   "metadata": {
    "ExecuteTime": {
     "end_time": "2020-01-29T03:51:33.359667Z",
     "start_time": "2020-01-29T03:51:32.833834Z"
    }
   },
   "outputs": [
    {
     "data": {
      "image/png": "[encoded data removed]",
      "text/plain": [
       "<Figure size 576x576 with 2 Axes>"
      ]
     },
     "metadata": {},
     "output_type": "display_data"
    }
   ],
   "source": [
    "dfv.plot(\"Amount\", \"V1\", f=\"log1p\");"
   ]
  },
  {
   "cell_type": "code",
   "execution_count": 85,
   "metadata": {
    "ExecuteTime": {
     "end_time": "2020-01-29T03:51:46.888439Z",
     "start_time": "2020-01-29T03:51:45.202499Z"
    }
   },
   "outputs": [
    {
     "data": {
      "image/png": "[encoded data removed]",
      "text/plain": [
       "<Figure size 576x576 with 1 Axes>"
      ]
     },
     "metadata": {},
     "output_type": "display_data"
    }
   ],
   "source": [
    "dfv.scatter(\"Amount\", \"V1\", \n",
    "            selection=\"Amount < 100\",\n",
    "            c=\"green\",\n",
    "            alpha=0.5,\n",
    "            length_check=False,\n",
    "           );"
   ]
  },
  {
   "cell_type": "markdown",
   "metadata": {},
   "source": [
    "## Barplots"
   ]
  },
  {
   "cell_type": "code",
   "execution_count": 95,
   "metadata": {
    "ExecuteTime": {
     "end_time": "2020-01-29T04:08:08.604515Z",
     "start_time": "2020-01-29T04:08:08.600371Z"
    }
   },
   "outputs": [],
   "source": [
    "# sns.catplot(x=dfv['Class'].values , kind='count' , palette=['r','g'],)\n",
    "# This does not work\n",
    "# TypeError: object of type 'NoneType' has no len()"
   ]
  },
  {
   "cell_type": "code",
   "execution_count": 94,
   "metadata": {
    "ExecuteTime": {
     "end_time": "2020-01-29T04:07:46.014513Z",
     "start_time": "2020-01-29T04:07:40.101135Z"
    }
   },
   "outputs": [
    {
     "data": {
      "text/plain": [
       "<matplotlib.axes._subplots.AxesSubplot at 0x132027950>"
      ]
     },
     "execution_count": 94,
     "metadata": {},
     "output_type": "execute_result"
    },
    {
     "data": {
      "image/png": "[encoded data removed]",
      "text/plain": [
       "<Figure size 576x576 with 1 Axes>"
      ]
     },
     "metadata": {},
     "output_type": "display_data"
    }
   ],
   "source": [
    "sns.barplot(x=dfv['Class'].values, y=dfv['Amount'].values)"
   ]
  },
  {
   "cell_type": "code",
   "execution_count": 97,
   "metadata": {
    "ExecuteTime": {
     "end_time": "2020-01-29T04:12:05.517997Z",
     "start_time": "2020-01-29T04:12:05.499092Z"
    }
   },
   "outputs": [],
   "source": [
    "dfv_per_class = dfv.groupby(by=dfv['Class']).agg({\n",
    "    'Amount': 'sum',\n",
    "    'V1': 'mean',\n",
    "    'V2': 'mean'\n",
    "})"
   ]
  },
  {
   "cell_type": "code",
   "execution_count": 98,
   "metadata": {
    "ExecuteTime": {
     "end_time": "2020-01-29T04:12:22.904850Z",
     "start_time": "2020-01-29T04:12:22.897125Z"
    }
   },
   "outputs": [
    {
     "data": {
      "text/plain": [
       "array([25102462.03998364,    60127.97      ])"
      ]
     },
     "execution_count": 98,
     "metadata": {},
     "output_type": "execute_result"
    }
   ],
   "source": [
    "dfv_per_class.Amount.values"
   ]
  },
  {
   "cell_type": "markdown",
   "metadata": {},
   "source": [
    "# Modelling"
   ]
  },
  {
   "cell_type": "code",
   "execution_count": 99,
   "metadata": {
    "ExecuteTime": {
     "end_time": "2020-01-29T04:13:27.312874Z",
     "start_time": "2020-01-29T04:13:27.273751Z"
    }
   },
   "outputs": [],
   "source": [
    "import vaex.ml"
   ]
  },
  {
   "cell_type": "code",
   "execution_count": 101,
   "metadata": {
    "ExecuteTime": {
     "end_time": "2020-01-29T04:18:54.402246Z",
     "start_time": "2020-01-29T04:18:54.387182Z"
    }
   },
   "outputs": [
    {
     "name": "stdout",
     "output_type": "stream",
     "text": [
      "Object Type: <class 'module'>\n",
      "\n"
     ]
    },
    {
     "data": {
      "text/html": [
       "<div>\n",
       "<style scoped>\n",
       "    .dataframe tbody tr th:only-of-type {\n",
       "        vertical-align: middle;\n",
       "    }\n",
       "\n",
       "    .dataframe tbody tr th {\n",
       "        vertical-align: top;\n",
       "    }\n",
       "\n",
       "    .dataframe thead th {\n",
       "        text-align: right;\n",
       "    }\n",
       "</style>\n",
       "<table border=\"1\" class=\"dataframe\">\n",
       "  <thead>\n",
       "    <tr style=\"text-align: right;\">\n",
       "      <th></th>\n",
       "      <th>0</th>\n",
       "      <th>1</th>\n",
       "      <th>2</th>\n",
       "      <th>3</th>\n",
       "      <th>4</th>\n",
       "      <th>5</th>\n",
       "      <th>6</th>\n",
       "    </tr>\n",
       "  </thead>\n",
       "  <tbody>\n",
       "    <tr>\n",
       "      <td>0</td>\n",
       "      <td>BayesianTargetEncoder</td>\n",
       "      <td>FrequencyEncoder</td>\n",
       "      <td>MaxAbsScaler</td>\n",
       "      <td>PCA</td>\n",
       "      <td>StandardScaler</td>\n",
       "      <td>generate</td>\n",
       "      <td>transformations</td>\n",
       "    </tr>\n",
       "    <tr>\n",
       "      <td>1</td>\n",
       "      <td>CycleTransformer</td>\n",
       "      <td>InnerNamespace</td>\n",
       "      <td>MinMaxScaler</td>\n",
       "      <td>Pipeline</td>\n",
       "      <td>WeightOfEvidenceEncoder</td>\n",
       "      <td>pipeline</td>\n",
       "      <td>vaex</td>\n",
       "    </tr>\n",
       "    <tr>\n",
       "      <td>2</td>\n",
       "      <td>DataFrameAccessorML</td>\n",
       "      <td>LabelEncoder</td>\n",
       "      <td>OneHotEncoder</td>\n",
       "      <td>RobustScaler</td>\n",
       "      <td>datasets</td>\n",
       "      <td>state</td>\n",
       "      <td>warnings</td>\n",
       "    </tr>\n",
       "  </tbody>\n",
       "</table>\n",
       "</div>"
      ],
      "text/plain": [
       "                       0                 1              2             3  \\\n",
       "0  BayesianTargetEncoder  FrequencyEncoder   MaxAbsScaler           PCA   \n",
       "1       CycleTransformer    InnerNamespace   MinMaxScaler      Pipeline   \n",
       "2    DataFrameAccessorML      LabelEncoder  OneHotEncoder  RobustScaler   \n",
       "\n",
       "                         4         5                6  \n",
       "0           StandardScaler  generate  transformations  \n",
       "1  WeightOfEvidenceEncoder  pipeline             vaex  \n",
       "2                 datasets     state         warnings  "
      ]
     },
     "execution_count": 101,
     "metadata": {},
     "output_type": "execute_result"
    }
   ],
   "source": [
    "bp.show_method_attributes(vaex.ml)"
   ]
  },
  {
   "cell_type": "code",
   "execution_count": 104,
   "metadata": {
    "ExecuteTime": {
     "end_time": "2020-01-29T04:23:56.684435Z",
     "start_time": "2020-01-29T04:23:56.681403Z"
    }
   },
   "outputs": [],
   "source": [
    "# dfv.sample?"
   ]
  },
  {
   "cell_type": "code",
   "execution_count": 126,
   "metadata": {
    "ExecuteTime": {
     "end_time": "2020-01-29T04:54:51.767725Z",
     "start_time": "2020-01-29T04:54:51.760234Z"
    }
   },
   "outputs": [],
   "source": [
    "## Remove Nans\n",
    "dfv = dfv.dropna()"
   ]
  },
  {
   "cell_type": "markdown",
   "metadata": {},
   "source": [
    "## Train Test Split"
   ]
  },
  {
   "cell_type": "code",
   "execution_count": 109,
   "metadata": {
    "ExecuteTime": {
     "end_time": "2020-01-29T04:28:21.663215Z",
     "start_time": "2020-01-29T04:28:21.640626Z"
    }
   },
   "outputs": [],
   "source": [
    "# shuffle the data\n",
    "dfv = dfv.sample(frac=1,random_state=SEED)"
   ]
  },
  {
   "cell_type": "code",
   "execution_count": 110,
   "metadata": {
    "ExecuteTime": {
     "end_time": "2020-01-29T04:29:26.252914Z",
     "start_time": "2020-01-29T04:29:26.237638Z"
    }
   },
   "outputs": [],
   "source": [
    "dfv_train = dfv[:int(len(dfv)*0.8)]\n",
    "dfv_test = dfv[int(len(dfv)*0.8):]"
   ]
  },
  {
   "cell_type": "markdown",
   "metadata": {},
   "source": [
    "## Modelling LightGBM using Vaex"
   ]
  },
  {
   "cell_type": "code",
   "execution_count": 111,
   "metadata": {
    "ExecuteTime": {
     "end_time": "2020-01-29T04:34:59.048268Z",
     "start_time": "2020-01-29T04:34:59.040950Z"
    }
   },
   "outputs": [
    {
     "data": {
      "text/plain": [
       "array(['Time', 'V1', 'V2', 'V3', 'V4', 'V5', 'V6', 'V7', 'V8', 'V9',\n",
       "       'V10', 'V11', 'V12', 'V13', 'V14', 'V15', 'V16', 'V17', 'V18',\n",
       "       'V19', 'V20', 'V21', 'V22', 'V23', 'V24', 'V25', 'V26', 'V27',\n",
       "       'V28', 'Amount', 'Class', 'index', 'log1p_Amount', 'log1p_Time'],\n",
       "      dtype='<U12')"
      ]
     },
     "execution_count": 111,
     "metadata": {},
     "output_type": "execute_result"
    }
   ],
   "source": [
    "np.array(dfv.get_column_names())"
   ]
  },
  {
   "cell_type": "code",
   "execution_count": 130,
   "metadata": {
    "ExecuteTime": {
     "end_time": "2020-01-29T04:57:49.799255Z",
     "start_time": "2020-01-29T04:57:49.793192Z"
    }
   },
   "outputs": [],
   "source": [
    "features = ['V1', 'V2', 'V3', 'V4', 'V5', 'V6', 'V7', 'V8', 'V9',\n",
    "       'V10', 'V11', 'V12', 'V13', 'V14', 'V15', 'V16', 'V17', 'V18',\n",
    "       'V19', 'V20', 'V21', 'V22', 'V23', 'V24', 'V25', 'V26', 'V27',\n",
    "       'V28', 'log1p_Amount', 'log1p_Time']\n",
    "\n",
    "# features"
   ]
  },
  {
   "cell_type": "code",
   "execution_count": 131,
   "metadata": {
    "ExecuteTime": {
     "end_time": "2020-01-29T04:57:50.893615Z",
     "start_time": "2020-01-29T04:57:50.890298Z"
    }
   },
   "outputs": [],
   "source": [
    "target = 'Class'"
   ]
  },
  {
   "cell_type": "code",
   "execution_count": 132,
   "metadata": {
    "ExecuteTime": {
     "end_time": "2020-01-29T04:57:51.852504Z",
     "start_time": "2020-01-29T04:57:51.840106Z"
    }
   },
   "outputs": [
    {
     "name": "stdout",
     "output_type": "stream",
     "text": [
      "Object Type: <class 'vaex.dataframe.DataFrameArrays'>\n",
      "\n"
     ]
    },
    {
     "data": {
      "text/html": [
       "<div>\n",
       "<style scoped>\n",
       "    .dataframe tbody tr th:only-of-type {\n",
       "        vertical-align: middle;\n",
       "    }\n",
       "\n",
       "    .dataframe tbody tr th {\n",
       "        vertical-align: top;\n",
       "    }\n",
       "\n",
       "    .dataframe thead th {\n",
       "        text-align: right;\n",
       "    }\n",
       "</style>\n",
       "<table border=\"1\" class=\"dataframe\">\n",
       "  <thead>\n",
       "    <tr style=\"text-align: right;\">\n",
       "      <th></th>\n",
       "      <th>0</th>\n",
       "      <th>1</th>\n",
       "      <th>2</th>\n",
       "      <th>3</th>\n",
       "    </tr>\n",
       "  </thead>\n",
       "  <tbody>\n",
       "    <tr>\n",
       "      <td>0</td>\n",
       "      <td>column_names</td>\n",
       "      <td>fillna</td>\n",
       "      <td>ordinal_encode</td>\n",
       "      <td>signal_pick</td>\n",
       "    </tr>\n",
       "    <tr>\n",
       "      <td>1</td>\n",
       "      <td>combinations</td>\n",
       "      <td>get_column_names</td>\n",
       "      <td>rename_column</td>\n",
       "      <td>signal_selection_changed</td>\n",
       "    </tr>\n",
       "    <tr>\n",
       "      <td>2</td>\n",
       "      <td>dropna</td>\n",
       "      <td>length_original</td>\n",
       "      <td>signal_active_fraction_changed</td>\n",
       "      <td>signal_sequence_index_change</td>\n",
       "    </tr>\n",
       "    <tr>\n",
       "      <td>3</td>\n",
       "      <td>dropnan</td>\n",
       "      <td>name</td>\n",
       "      <td>signal_column_changed</td>\n",
       "      <td>signal_variable_changed</td>\n",
       "    </tr>\n",
       "  </tbody>\n",
       "</table>\n",
       "</div>"
      ],
      "text/plain": [
       "              0                 1                               2  \\\n",
       "0  column_names            fillna                  ordinal_encode   \n",
       "1  combinations  get_column_names                   rename_column   \n",
       "2        dropna   length_original  signal_active_fraction_changed   \n",
       "3       dropnan              name           signal_column_changed   \n",
       "\n",
       "                              3  \n",
       "0                   signal_pick  \n",
       "1      signal_selection_changed  \n",
       "2  signal_sequence_index_change  \n",
       "3       signal_variable_changed  "
      ]
     },
     "execution_count": 132,
     "metadata": {},
     "output_type": "execute_result"
    }
   ],
   "source": [
    "bp.show_method_attributes(dfv,4, inside='na')"
   ]
  },
  {
   "cell_type": "code",
   "execution_count": 119,
   "metadata": {
    "ExecuteTime": {
     "end_time": "2020-01-29T04:41:11.042789Z",
     "start_time": "2020-01-29T04:41:10.934017Z"
    }
   },
   "outputs": [
    {
     "name": "stdout",
     "output_type": "stream",
     "text": [
      "[########################################]:  100.00% elapsed time  :        0s =  0.0m =  0.0h\n",
      " "
     ]
    },
    {
     "data": {
      "text/plain": [
       "0    227441\n",
       "1       404\n",
       "dtype: int64"
      ]
     },
     "execution_count": 119,
     "metadata": {},
     "output_type": "execute_result"
    }
   ],
   "source": [
    "dfv_train['Class'].value_counts(progress=True)"
   ]
  },
  {
   "cell_type": "code",
   "execution_count": 123,
   "metadata": {
    "ExecuteTime": {
     "end_time": "2020-01-29T04:52:05.344325Z",
     "start_time": "2020-01-29T04:52:05.340074Z"
    }
   },
   "outputs": [],
   "source": [
    "params = {'learning_rate': 0.1,\n",
    "         'max_depth': 5,\n",
    "          'colsample_bytree': 0.8,\n",
    "          'subsample': 0.8,\n",
    "          'reg_alpha': 0,\n",
    "          'reg_lambda': 1,\n",
    "          'min_child_weight': 1,\n",
    "          'objective': 'binary',\n",
    "          'random_state': SEED,\n",
    "          'n_jobs': -1\n",
    "         }"
   ]
  },
  {
   "cell_type": "code",
   "execution_count": 125,
   "metadata": {
    "ExecuteTime": {
     "end_time": "2020-01-29T04:53:21.377149Z",
     "start_time": "2020-01-29T04:53:21.373447Z"
    }
   },
   "outputs": [],
   "source": [
    "bst = vaex.ml.lightgbm.LightGBMModel(features=features,\n",
    "                                    params=params,\n",
    "                                    num_boost_round=100)"
   ]
  },
  {
   "cell_type": "code",
   "execution_count": 133,
   "metadata": {
    "ExecuteTime": {
     "end_time": "2020-01-29T04:58:13.229526Z",
     "start_time": "2020-01-29T04:58:13.209545Z"
    }
   },
   "outputs": [
    {
     "data": {
      "text/html": [
       "<table>\n",
       "<thead>\n",
       "<tr><th>#                            </th><th style=\"text-align: right;\">  Time</th><th style=\"text-align: right;\">     V1</th><th style=\"text-align: right;\">       V2</th><th style=\"text-align: right;\">       V3</th><th style=\"text-align: right;\">      V4</th><th style=\"text-align: right;\">     V5</th><th style=\"text-align: right;\">     V6</th><th style=\"text-align: right;\">       V7</th><th style=\"text-align: right;\">    V8</th><th style=\"text-align: right;\">      V9</th><th style=\"text-align: right;\">      V10</th><th style=\"text-align: right;\">      V11</th><th style=\"text-align: right;\">     V12</th><th style=\"text-align: right;\">      V13</th><th style=\"text-align: right;\">      V14</th><th style=\"text-align: right;\">     V15</th><th style=\"text-align: right;\">      V16</th><th style=\"text-align: right;\">      V17</th><th style=\"text-align: right;\">       V18</th><th style=\"text-align: right;\">     V19</th><th style=\"text-align: right;\">       V20</th><th style=\"text-align: right;\">     V21</th><th style=\"text-align: right;\">     V22</th><th style=\"text-align: right;\">     V23</th><th style=\"text-align: right;\">    V24</th><th style=\"text-align: right;\">    V25</th><th style=\"text-align: right;\">      V26</th><th style=\"text-align: right;\">      V27</th><th style=\"text-align: right;\">      V28</th><th style=\"text-align: right;\">  Amount</th><th style=\"text-align: right;\">  Class</th><th style=\"text-align: right;\">  index</th><th style=\"text-align: right;\">  log1p_Amount</th><th style=\"text-align: right;\">  log1p_Time</th></tr>\n",
       "</thead>\n",
       "<tbody>\n",
       "<tr><td><i style='opacity: 0.6'>0</i></td><td style=\"text-align: right;\"> 43906</td><td style=\"text-align: right;\">1.22945</td><td style=\"text-align: right;\">-0.235478</td><td style=\"text-align: right;\">-0.627166</td><td style=\"text-align: right;\">0.419877</td><td style=\"text-align: right;\">1.79701</td><td style=\"text-align: right;\">4.06957</td><td style=\"text-align: right;\">-0.896223</td><td style=\"text-align: right;\">1.0361</td><td style=\"text-align: right;\">0.745991</td><td style=\"text-align: right;\">-0.147304</td><td style=\"text-align: right;\">-0.850459</td><td style=\"text-align: right;\">0.397845</td><td style=\"text-align: right;\">-0.259849</td><td style=\"text-align: right;\">-0.277065</td><td style=\"text-align: right;\">-0.76681</td><td style=\"text-align: right;\">-0.200946</td><td style=\"text-align: right;\">-0.338122</td><td style=\"text-align: right;\">0.00603206</td><td style=\"text-align: right;\">0.477431</td><td style=\"text-align: right;\">-0.0579221</td><td style=\"text-align: right;\">-0.17006</td><td style=\"text-align: right;\">-0.28875</td><td style=\"text-align: right;\">-0.13027</td><td style=\"text-align: right;\">1.02593</td><td style=\"text-align: right;\">0.84799</td><td style=\"text-align: right;\">-0.271476</td><td style=\"text-align: right;\">0.0600516</td><td style=\"text-align: right;\">0.0181044</td><td style=\"text-align: right;\">    1.99</td><td style=\"text-align: right;\">      0</td><td style=\"text-align: right;\">  49089</td><td style=\"text-align: right;\">       1.09527</td><td style=\"text-align: right;\">     1.09527</td></tr>\n",
       "</tbody>\n",
       "</table>"
      ],
      "text/plain": [
       "  #    Time       V1         V2         V3        V4       V5       V6         V7      V8        V9        V10        V11       V12        V13        V14       V15        V16        V17         V18       V19         V20       V21       V22       V23      V24      V25        V26        V27        V28    Amount    Class    index    log1p_Amount    log1p_Time\n",
       "  0   43906  1.22945  -0.235478  -0.627166  0.419877  1.79701  4.06957  -0.896223  1.0361  0.745991  -0.147304  -0.850459  0.397845  -0.259849  -0.277065  -0.76681  -0.200946  -0.338122  0.00603206  0.477431  -0.0579221  -0.17006  -0.28875  -0.13027  1.02593  0.84799  -0.271476  0.0600516  0.0181044      1.99        0    49089         1.09527       1.09527"
      ]
     },
     "execution_count": 133,
     "metadata": {},
     "output_type": "execute_result"
    }
   ],
   "source": [
    "dfv_train.head(1)"
   ]
  },
  {
   "cell_type": "code",
   "execution_count": 128,
   "metadata": {
    "ExecuteTime": {
     "end_time": "2020-01-29T04:57:08.161146Z",
     "start_time": "2020-01-29T04:57:03.243210Z"
    }
   },
   "outputs": [
    {
     "ename": "SyntaxError",
     "evalue": "unexpected EOF while parsing (<string>, line 0)",
     "output_type": "error",
     "traceback": [
      "Traceback \u001b[0;36m(most recent call last)\u001b[0m:\n",
      "  File \u001b[1;32m\"/Users/poudel/miniconda3/envs/tf2/lib/python3.7/site-packages/IPython/core/interactiveshell.py\"\u001b[0m, line \u001b[1;32m3326\u001b[0m, in \u001b[1;35mrun_code\u001b[0m\n    exec(code_obj, self.user_global_ns, self.user_ns)\n",
      "  File \u001b[1;32m\"<ipython-input-128-8ce16207dbeb>\"\u001b[0m, line \u001b[1;32m1\u001b[0m, in \u001b[1;35m<module>\u001b[0m\n    bst.fit(dfv_train, target=target)\n",
      "  File \u001b[1;32m\"/Users/poudel/miniconda3/envs/xx/lib/python3.7/site-packages/vaex/ml/lightgbm.py\"\u001b[0m, line \u001b[1;32m117\u001b[0m, in \u001b[1;35mfit\u001b[0m\n    dtrain = VaexDataset(df, self.target, features=self.features)\n",
      "  File \u001b[1;32m\"/Users/poudel/miniconda3/envs/xx/lib/python3.7/site-packages/vaex/ml/lightgbm.py\"\u001b[0m, line \u001b[1;32m221\u001b[0m, in \u001b[1;35m__init__\u001b[0m\n    self.label_data = self.df.evaluate(label)\n",
      "  File \u001b[1;32m\"/Users/poudel/miniconda3/envs/xx/lib/python3.7/site-packages/vaex/dataframe.py\"\u001b[0m, line \u001b[1;32m4848\u001b[0m, in \u001b[1;35mevaluate\u001b[0m\n    value = scope.evaluate(expression)\n",
      "\u001b[0;36m  File \u001b[0;32m\"/Users/poudel/miniconda3/envs/xx/lib/python3.7/site-packages/vaex/scopes.py\"\u001b[0;36m, line \u001b[0;32m92\u001b[0;36m, in \u001b[0;35mevaluate\u001b[0;36m\u001b[0m\n\u001b[0;31m    result = eval(expression, expression_namespace, self)\u001b[0m\n",
      "\u001b[0;36m  File \u001b[0;32m\"<string>\"\u001b[0;36m, line \u001b[0;32munknown\u001b[0m\n\u001b[0;31m    \u001b[0m\n\u001b[0m    ^\u001b[0m\n\u001b[0;31mSyntaxError\u001b[0m\u001b[0;31m:\u001b[0m unexpected EOF while parsing\n"
     ]
    }
   ],
   "source": [
    "bst.fit(dfv_train, target=target)"
   ]
  },
  {
   "cell_type": "markdown",
   "metadata": {},
   "source": [
    "## Predictions"
   ]
  },
  {
   "cell_type": "code",
   "execution_count": 134,
   "metadata": {
    "ExecuteTime": {
     "end_time": "2020-01-29T04:59:39.749092Z",
     "start_time": "2020-01-29T04:59:39.746189Z"
    }
   },
   "outputs": [],
   "source": [
    "# ypreds = bst.predic(dfv_train)"
   ]
  },
  {
   "cell_type": "code",
   "execution_count": 135,
   "metadata": {
    "ExecuteTime": {
     "end_time": "2020-01-29T05:01:14.930915Z",
     "start_time": "2020-01-29T05:01:14.927822Z"
    }
   },
   "outputs": [],
   "source": [
    "from IPython.display import display"
   ]
  },
  {
   "cell_type": "code",
   "execution_count": 136,
   "metadata": {
    "ExecuteTime": {
     "end_time": "2020-01-29T05:01:23.152789Z",
     "start_time": "2020-01-29T05:01:23.149297Z"
    }
   },
   "outputs": [],
   "source": [
    "# display(ypreds)"
   ]
  },
  {
   "cell_type": "code",
   "execution_count": 137,
   "metadata": {
    "ExecuteTime": {
     "end_time": "2020-01-29T05:02:16.199954Z",
     "start_time": "2020-01-29T05:02:16.196695Z"
    }
   },
   "outputs": [],
   "source": [
    "# create virtual column\n",
    "# dfv_train = bst.transform(dfv_train)\n",
    "\n",
    "# dfv_train.head(2)"
   ]
  },
  {
   "cell_type": "markdown",
   "metadata": {},
   "source": [
    "## Model Performances"
   ]
  },
  {
   "cell_type": "code",
   "execution_count": 140,
   "metadata": {
    "ExecuteTime": {
     "end_time": "2020-01-29T05:08:00.083030Z",
     "start_time": "2020-01-29T05:08:00.078991Z"
    }
   },
   "outputs": [],
   "source": [
    "import joblib\n",
    "import lightgbm as lgbm\n",
    "from sklearn.model_selection import StratifiedKFold\n",
    "from lightgbm import LGBMClassifier\n",
    "from sklearn.model_selection import cross_val_score, cross_val_predict\n",
    "from sklearn.metrics import accuracy_score,precision_score"
   ]
  },
  {
   "cell_type": "code",
   "execution_count": 141,
   "metadata": {
    "ExecuteTime": {
     "end_time": "2020-01-29T05:08:21.418368Z",
     "start_time": "2020-01-29T05:08:21.415503Z"
    }
   },
   "outputs": [],
   "source": [
    "# # model evaluation\n",
    "# average = 'binary'\n",
    "# row_eval = [model_name,desc, \n",
    "#             accuracy_score(ytx, ypreds),\n",
    "#             precision_score(ytx, ypreds, average=average),\n",
    "#             recall_score(ytx, ypreds, average=average),\n",
    "#             f1_score(ytx, ypreds, average=average),\n",
    "#             roc_auc_score(ytx, ypreds),\n",
    "#             ]\n",
    "\n",
    "# df_eval.loc[len(df_eval)] = row_eval\n",
    "# df_eval = df_eval.drop_duplicates()\n",
    "# time_taken = time.time() - time_start\n",
    "# print('Time taken: {:.0f} min {:.0f} secs'.format(*divmod(time_taken,60)))\n",
    "# display(df_eval)"
   ]
  },
  {
   "cell_type": "code",
   "execution_count": null,
   "metadata": {},
   "outputs": [],
   "source": []
  }
 ],
 "metadata": {
  "kernelspec": {
   "display_name": "Python38(xx)",
   "language": "python",
   "name": "xx"
  },
  "language_info": {
   "codemirror_mode": {
    "name": "ipython",
    "version": 3
   },
   "file_extension": ".py",
   "mimetype": "text/x-python",
   "name": "python",
   "nbconvert_exporter": "python",
   "pygments_lexer": "ipython3",
   "version": "3.8.5"
  },
  "toc": {
   "base_numbering": 1,
   "nav_menu": {},
   "number_sections": true,
   "sideBar": true,
   "skip_h1_title": false,
   "title_cell": "Table of Contents",
   "title_sidebar": "Contents",
   "toc_cell": true,
   "toc_position": {},
   "toc_section_display": true,
   "toc_window_display": true
  }
 },
 "nbformat": 4,
 "nbformat_minor": 2
}
