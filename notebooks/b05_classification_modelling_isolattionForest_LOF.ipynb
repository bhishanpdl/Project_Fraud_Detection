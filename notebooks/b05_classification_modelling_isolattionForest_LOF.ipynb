{
 "cells": [
  {
   "cell_type": "markdown",
   "metadata": {
    "toc": true
   },
   "source": [
    "<h1>Table of Contents<span class=\"tocSkip\"></span></h1>\n",
    "<div class=\"toc\"><ul class=\"toc-item\"><li><span><a href=\"#Data-Description\" data-toc-modified-id=\"Data-Description-1\"><span class=\"toc-item-num\">1&nbsp;&nbsp;</span>Data Description</a></span></li><li><span><a href=\"#Imports\" data-toc-modified-id=\"Imports-2\"><span class=\"toc-item-num\">2&nbsp;&nbsp;</span>Imports</a></span></li><li><span><a href=\"#Useful-Functions\" data-toc-modified-id=\"Useful-Functions-3\"><span class=\"toc-item-num\">3&nbsp;&nbsp;</span>Useful Functions</a></span></li><li><span><a href=\"#Load-the-data\" data-toc-modified-id=\"Load-the-data-4\"><span class=\"toc-item-num\">4&nbsp;&nbsp;</span>Load the data</a></span></li><li><span><a href=\"#Train-test-split-with-stratify\" data-toc-modified-id=\"Train-test-split-with-stratify-5\"><span class=\"toc-item-num\">5&nbsp;&nbsp;</span>Train test split with stratify</a></span></li><li><span><a href=\"#Classification:-isolationForest\" data-toc-modified-id=\"Classification:-isolationForest-6\"><span class=\"toc-item-num\">6&nbsp;&nbsp;</span>Classification: isolationForest</a></span></li><li><span><a href=\"#Classification:-LOF-(Local-Outlier-Factor)\" data-toc-modified-id=\"Classification:-LOF-(Local-Outlier-Factor)-7\"><span class=\"toc-item-num\">7&nbsp;&nbsp;</span>Classification: LOF (Local Outlier Factor)</a></span></li><li><span><a href=\"#Classification-Evaluation-Metrics\" data-toc-modified-id=\"Classification-Evaluation-Metrics-8\"><span class=\"toc-item-num\">8&nbsp;&nbsp;</span>Classification Evaluation Metrics</a></span></li></ul></div>"
   ]
  },
  {
   "cell_type": "markdown",
   "metadata": {},
   "source": [
    "<div class=\"alert alert-block alert-success\">\n",
    "<b>Kernel Author:</b>  <br>\n",
    "<a href=\"https://bhishanpdl.github.io/\" , target=\"_blank\">Bhishan Poudel,  Data Scientist, Ph.D Astrophysics</a> .\n",
    "</div>"
   ]
  },
  {
   "cell_type": "markdown",
   "metadata": {},
   "source": [
    "# Data Description\n",
    "\n",
    "The datasets contains transactions made by credit cards in September\n",
    "2013 by european cardholders.\n",
    "\n",
    "\n",
    "This dataset presents transactions that occurred in two days,\n",
    "where we have 492 frauds out of 284,807 transactions. \n",
    "\n",
    "The dataset is highly unbalanced, the positive class (frauds)\n",
    "account for 0.172% of all transactions.\n",
    "\n",
    "It contains only numerical input variables which are\n",
    "the result of a PCA transformation.\n",
    "\n",
    "\n",
    "Unfortunately, due to confidentiality issues,\n",
    "we cannot provide the original features and \n",
    "more background information about the data.\n",
    "\n",
    "\n",
    "Features V1, V2, ... V28 are the principal\n",
    "components obtained with PCA,\n",
    "the only features which have not been transformed with PCA are 'Time' and 'Amount'. \n",
    "\n",
    "Feature 'Time' contains the seconds elapsed between each transaction\n",
    "and the first transaction in the dataset. The feature 'Amount'\n",
    "is the transaction Amount, this feature can be used for \n",
    "example-dependant cost-senstive learning. \n",
    "\n",
    "Feature 'Class' is the response variable and it takes value\n",
    "1 in case of fraud and 0 otherwise."
   ]
  },
  {
   "cell_type": "markdown",
   "metadata": {},
   "source": [
    "# Imports"
   ]
  },
  {
   "cell_type": "code",
   "execution_count": 30,
   "metadata": {
    "ExecuteTime": {
     "end_time": "2020-09-29T00:56:44.315852Z",
     "start_time": "2020-09-29T00:56:43.546707Z"
    }
   },
   "outputs": [],
   "source": [
    "import bhishan\n",
    "from bhishan import bp"
   ]
  },
  {
   "cell_type": "code",
   "execution_count": 6,
   "metadata": {
    "ExecuteTime": {
     "end_time": "2020-09-29T00:56:03.161525Z",
     "start_time": "2020-09-29T00:56:03.117728Z"
    }
   },
   "outputs": [
    {
     "name": "stdout",
     "output_type": "stream",
     "text": [
      "The autoreload extension is already loaded. To reload it, use:\n",
      "  %reload_ext autoreload\n"
     ]
    }
   ],
   "source": [
    "%load_ext autoreload\n",
    "%autoreload 2"
   ]
  },
  {
   "cell_type": "code",
   "execution_count": 63,
   "metadata": {
    "ExecuteTime": {
     "end_time": "2020-09-29T01:21:19.526208Z",
     "start_time": "2020-09-29T01:21:19.400412Z"
    }
   },
   "outputs": [
    {
     "name": "stdout",
     "output_type": "stream",
     "text": [
      "The watermark extension is already loaded. To reload it, use:\n",
      "  %reload_ext watermark\n",
      "Bhishan Poudel 2020-09-28 \n",
      "\n",
      "CPython 3.7.7\n",
      "IPython 7.18.1\n",
      "\n",
      "compiler   : Clang 4.0.1 (tags/RELEASE_401/final)\n",
      "system     : Darwin\n",
      "release    : 19.6.0\n",
      "machine    : x86_64\n",
      "processor  : i386\n",
      "CPU cores  : 4\n",
      "interpreter: 64bit\n",
      "scikitplot 0.3.7\n",
      "sklearn    0.23.1\n",
      "seaborn    0.11.0\n",
      "pandas     1.1.0\n",
      "matplotlib 3.2.1\n",
      "autopep8   1.5.2\n",
      "json       2.0.9\n",
      "bhishan    0.3.1\n",
      "scipy      1.4.1\n",
      "numpy      1.18.4\n",
      "\n"
     ]
    }
   ],
   "source": [
    "import numpy as np\n",
    "import pandas as pd\n",
    "import seaborn as sns\n",
    "sns.set(color_codes=True)\n",
    "import scikitplot as skplot\n",
    "\n",
    "import matplotlib\n",
    "import matplotlib.pyplot as plt\n",
    "%matplotlib inline\n",
    "\n",
    "import os\n",
    "import time\n",
    "\n",
    "import scipy\n",
    "from scipy import stats\n",
    "\n",
    "import sklearn\n",
    "from sklearn.model_selection import train_test_split\n",
    "from sklearn import metrics\n",
    "from scikitplot import metrics as skmetrics\n",
    "\n",
    "# scale and split\n",
    "from sklearn.preprocessing import MinMaxScaler, StandardScaler, RobustScaler\n",
    "from sklearn.model_selection import train_test_split\n",
    "from sklearn.model_selection import StratifiedKFold\n",
    "\n",
    "# classifiers\n",
    "from sklearn.ensemble import IsolationForest\n",
    "from sklearn.neighbors import LocalOutlierFactor\n",
    "from sklearn.svm import OneClassSVM\n",
    "\n",
    "# random state\n",
    "SEED=100\n",
    "np.random.seed(random_state) # we need this in each cell\n",
    "\n",
    "# Jupyter notebook settings for pandas\n",
    "pd.set_option('display.max_columns', 200)\n",
    "pd.set_option('display.max_rows', 100) # None for all the rows\n",
    "pd.set_option('display.max_colwidth', 50)\n",
    "\n",
    "%load_ext watermark\n",
    "%watermark -a \"Bhishan Poudel\" -d -v -m\n",
    "%watermark -iv"
   ]
  },
  {
   "cell_type": "markdown",
   "metadata": {},
   "source": [
    "# Useful Functions"
   ]
  },
  {
   "cell_type": "code",
   "execution_count": 64,
   "metadata": {
    "ExecuteTime": {
     "end_time": "2020-09-29T01:21:36.471136Z",
     "start_time": "2020-09-29T01:21:36.373562Z"
    }
   },
   "outputs": [],
   "source": [
    "def show_methods(obj, ncols=4):\n",
    "    lst = [i for i in dir(obj) if i[0]!='_' ]\n",
    "    df = pd.DataFrame(np.array_split(lst,ncols)).T.fillna('')\n",
    "    return df"
   ]
  },
  {
   "cell_type": "markdown",
   "metadata": {},
   "source": [
    "# Load the data"
   ]
  },
  {
   "cell_type": "code",
   "execution_count": 16,
   "metadata": {
    "ExecuteTime": {
     "end_time": "2020-09-29T00:56:06.635398Z",
     "start_time": "2020-09-29T00:56:03.994935Z"
    }
   },
   "outputs": [
    {
     "name": "stdout",
     "output_type": "stream",
     "text": [
      "(284807, 31)\n"
     ]
    },
    {
     "data": {
      "text/html": [
       "<div>\n",
       "<style scoped>\n",
       "    .dataframe tbody tr th:only-of-type {\n",
       "        vertical-align: middle;\n",
       "    }\n",
       "\n",
       "    .dataframe tbody tr th {\n",
       "        vertical-align: top;\n",
       "    }\n",
       "\n",
       "    .dataframe thead th {\n",
       "        text-align: right;\n",
       "    }\n",
       "</style>\n",
       "<table border=\"1\" class=\"dataframe\">\n",
       "  <thead>\n",
       "    <tr style=\"text-align: right;\">\n",
       "      <th></th>\n",
       "      <th>Time</th>\n",
       "      <th>V1</th>\n",
       "      <th>V2</th>\n",
       "      <th>V3</th>\n",
       "      <th>V4</th>\n",
       "      <th>V5</th>\n",
       "      <th>V6</th>\n",
       "      <th>V7</th>\n",
       "      <th>V8</th>\n",
       "      <th>V9</th>\n",
       "      <th>V10</th>\n",
       "      <th>V11</th>\n",
       "      <th>V12</th>\n",
       "      <th>V13</th>\n",
       "      <th>V14</th>\n",
       "      <th>V15</th>\n",
       "      <th>V16</th>\n",
       "      <th>V17</th>\n",
       "      <th>V18</th>\n",
       "      <th>V19</th>\n",
       "      <th>V20</th>\n",
       "      <th>V21</th>\n",
       "      <th>V22</th>\n",
       "      <th>V23</th>\n",
       "      <th>V24</th>\n",
       "      <th>V25</th>\n",
       "      <th>V26</th>\n",
       "      <th>V27</th>\n",
       "      <th>V28</th>\n",
       "      <th>Amount</th>\n",
       "      <th>Class</th>\n",
       "    </tr>\n",
       "  </thead>\n",
       "  <tbody>\n",
       "    <tr>\n",
       "      <th>0</th>\n",
       "      <td>0.0</td>\n",
       "      <td>-1.359807</td>\n",
       "      <td>-0.072781</td>\n",
       "      <td>2.536347</td>\n",
       "      <td>1.378155</td>\n",
       "      <td>-0.338321</td>\n",
       "      <td>0.462388</td>\n",
       "      <td>0.239599</td>\n",
       "      <td>0.098698</td>\n",
       "      <td>0.363787</td>\n",
       "      <td>0.090794</td>\n",
       "      <td>-0.551600</td>\n",
       "      <td>-0.617801</td>\n",
       "      <td>-0.991390</td>\n",
       "      <td>-0.311169</td>\n",
       "      <td>1.468177</td>\n",
       "      <td>-0.470401</td>\n",
       "      <td>0.207971</td>\n",
       "      <td>0.025791</td>\n",
       "      <td>0.403993</td>\n",
       "      <td>0.251412</td>\n",
       "      <td>-0.018307</td>\n",
       "      <td>0.277838</td>\n",
       "      <td>-0.110474</td>\n",
       "      <td>0.066928</td>\n",
       "      <td>0.128539</td>\n",
       "      <td>-0.189115</td>\n",
       "      <td>0.133558</td>\n",
       "      <td>-0.021053</td>\n",
       "      <td>149.62</td>\n",
       "      <td>0</td>\n",
       "    </tr>\n",
       "    <tr>\n",
       "      <th>1</th>\n",
       "      <td>0.0</td>\n",
       "      <td>1.191857</td>\n",
       "      <td>0.266151</td>\n",
       "      <td>0.166480</td>\n",
       "      <td>0.448154</td>\n",
       "      <td>0.060018</td>\n",
       "      <td>-0.082361</td>\n",
       "      <td>-0.078803</td>\n",
       "      <td>0.085102</td>\n",
       "      <td>-0.255425</td>\n",
       "      <td>-0.166974</td>\n",
       "      <td>1.612727</td>\n",
       "      <td>1.065235</td>\n",
       "      <td>0.489095</td>\n",
       "      <td>-0.143772</td>\n",
       "      <td>0.635558</td>\n",
       "      <td>0.463917</td>\n",
       "      <td>-0.114805</td>\n",
       "      <td>-0.183361</td>\n",
       "      <td>-0.145783</td>\n",
       "      <td>-0.069083</td>\n",
       "      <td>-0.225775</td>\n",
       "      <td>-0.638672</td>\n",
       "      <td>0.101288</td>\n",
       "      <td>-0.339846</td>\n",
       "      <td>0.167170</td>\n",
       "      <td>0.125895</td>\n",
       "      <td>-0.008983</td>\n",
       "      <td>0.014724</td>\n",
       "      <td>2.69</td>\n",
       "      <td>0</td>\n",
       "    </tr>\n",
       "    <tr>\n",
       "      <th>2</th>\n",
       "      <td>1.0</td>\n",
       "      <td>-1.358354</td>\n",
       "      <td>-1.340163</td>\n",
       "      <td>1.773209</td>\n",
       "      <td>0.379780</td>\n",
       "      <td>-0.503198</td>\n",
       "      <td>1.800499</td>\n",
       "      <td>0.791461</td>\n",
       "      <td>0.247676</td>\n",
       "      <td>-1.514654</td>\n",
       "      <td>0.207643</td>\n",
       "      <td>0.624501</td>\n",
       "      <td>0.066084</td>\n",
       "      <td>0.717293</td>\n",
       "      <td>-0.165946</td>\n",
       "      <td>2.345865</td>\n",
       "      <td>-2.890083</td>\n",
       "      <td>1.109969</td>\n",
       "      <td>-0.121359</td>\n",
       "      <td>-2.261857</td>\n",
       "      <td>0.524980</td>\n",
       "      <td>0.247998</td>\n",
       "      <td>0.771679</td>\n",
       "      <td>0.909412</td>\n",
       "      <td>-0.689281</td>\n",
       "      <td>-0.327642</td>\n",
       "      <td>-0.139097</td>\n",
       "      <td>-0.055353</td>\n",
       "      <td>-0.059752</td>\n",
       "      <td>378.66</td>\n",
       "      <td>0</td>\n",
       "    </tr>\n",
       "    <tr>\n",
       "      <th>3</th>\n",
       "      <td>1.0</td>\n",
       "      <td>-0.966272</td>\n",
       "      <td>-0.185226</td>\n",
       "      <td>1.792993</td>\n",
       "      <td>-0.863291</td>\n",
       "      <td>-0.010309</td>\n",
       "      <td>1.247203</td>\n",
       "      <td>0.237609</td>\n",
       "      <td>0.377436</td>\n",
       "      <td>-1.387024</td>\n",
       "      <td>-0.054952</td>\n",
       "      <td>-0.226487</td>\n",
       "      <td>0.178228</td>\n",
       "      <td>0.507757</td>\n",
       "      <td>-0.287924</td>\n",
       "      <td>-0.631418</td>\n",
       "      <td>-1.059647</td>\n",
       "      <td>-0.684093</td>\n",
       "      <td>1.965775</td>\n",
       "      <td>-1.232622</td>\n",
       "      <td>-0.208038</td>\n",
       "      <td>-0.108300</td>\n",
       "      <td>0.005274</td>\n",
       "      <td>-0.190321</td>\n",
       "      <td>-1.175575</td>\n",
       "      <td>0.647376</td>\n",
       "      <td>-0.221929</td>\n",
       "      <td>0.062723</td>\n",
       "      <td>0.061458</td>\n",
       "      <td>123.50</td>\n",
       "      <td>0</td>\n",
       "    </tr>\n",
       "    <tr>\n",
       "      <th>4</th>\n",
       "      <td>2.0</td>\n",
       "      <td>-1.158233</td>\n",
       "      <td>0.877737</td>\n",
       "      <td>1.548718</td>\n",
       "      <td>0.403034</td>\n",
       "      <td>-0.407193</td>\n",
       "      <td>0.095921</td>\n",
       "      <td>0.592941</td>\n",
       "      <td>-0.270533</td>\n",
       "      <td>0.817739</td>\n",
       "      <td>0.753074</td>\n",
       "      <td>-0.822843</td>\n",
       "      <td>0.538196</td>\n",
       "      <td>1.345852</td>\n",
       "      <td>-1.119670</td>\n",
       "      <td>0.175121</td>\n",
       "      <td>-0.451449</td>\n",
       "      <td>-0.237033</td>\n",
       "      <td>-0.038195</td>\n",
       "      <td>0.803487</td>\n",
       "      <td>0.408542</td>\n",
       "      <td>-0.009431</td>\n",
       "      <td>0.798278</td>\n",
       "      <td>-0.137458</td>\n",
       "      <td>0.141267</td>\n",
       "      <td>-0.206010</td>\n",
       "      <td>0.502292</td>\n",
       "      <td>0.219422</td>\n",
       "      <td>0.215153</td>\n",
       "      <td>69.99</td>\n",
       "      <td>0</td>\n",
       "    </tr>\n",
       "  </tbody>\n",
       "</table>\n",
       "</div>"
      ],
      "text/plain": [
       "   Time        V1        V2        V3        V4        V5        V6        V7  \\\n",
       "0   0.0 -1.359807 -0.072781  2.536347  1.378155 -0.338321  0.462388  0.239599   \n",
       "1   0.0  1.191857  0.266151  0.166480  0.448154  0.060018 -0.082361 -0.078803   \n",
       "2   1.0 -1.358354 -1.340163  1.773209  0.379780 -0.503198  1.800499  0.791461   \n",
       "3   1.0 -0.966272 -0.185226  1.792993 -0.863291 -0.010309  1.247203  0.237609   \n",
       "4   2.0 -1.158233  0.877737  1.548718  0.403034 -0.407193  0.095921  0.592941   \n",
       "\n",
       "         V8        V9       V10       V11       V12       V13       V14  \\\n",
       "0  0.098698  0.363787  0.090794 -0.551600 -0.617801 -0.991390 -0.311169   \n",
       "1  0.085102 -0.255425 -0.166974  1.612727  1.065235  0.489095 -0.143772   \n",
       "2  0.247676 -1.514654  0.207643  0.624501  0.066084  0.717293 -0.165946   \n",
       "3  0.377436 -1.387024 -0.054952 -0.226487  0.178228  0.507757 -0.287924   \n",
       "4 -0.270533  0.817739  0.753074 -0.822843  0.538196  1.345852 -1.119670   \n",
       "\n",
       "        V15       V16       V17       V18       V19       V20       V21  \\\n",
       "0  1.468177 -0.470401  0.207971  0.025791  0.403993  0.251412 -0.018307   \n",
       "1  0.635558  0.463917 -0.114805 -0.183361 -0.145783 -0.069083 -0.225775   \n",
       "2  2.345865 -2.890083  1.109969 -0.121359 -2.261857  0.524980  0.247998   \n",
       "3 -0.631418 -1.059647 -0.684093  1.965775 -1.232622 -0.208038 -0.108300   \n",
       "4  0.175121 -0.451449 -0.237033 -0.038195  0.803487  0.408542 -0.009431   \n",
       "\n",
       "        V22       V23       V24       V25       V26       V27       V28  \\\n",
       "0  0.277838 -0.110474  0.066928  0.128539 -0.189115  0.133558 -0.021053   \n",
       "1 -0.638672  0.101288 -0.339846  0.167170  0.125895 -0.008983  0.014724   \n",
       "2  0.771679  0.909412 -0.689281 -0.327642 -0.139097 -0.055353 -0.059752   \n",
       "3  0.005274 -0.190321 -1.175575  0.647376 -0.221929  0.062723  0.061458   \n",
       "4  0.798278 -0.137458  0.141267 -0.206010  0.502292  0.219422  0.215153   \n",
       "\n",
       "   Amount  Class  \n",
       "0  149.62      0  \n",
       "1    2.69      0  \n",
       "2  378.66      0  \n",
       "3  123.50      0  \n",
       "4   69.99      0  "
      ]
     },
     "execution_count": 16,
     "metadata": {},
     "output_type": "execute_result"
    }
   ],
   "source": [
    "df = pd.read_csv('../data/raw/creditcard.csv.zip',compression='zip')\n",
    "print(df.shape)\n",
    "df.head()"
   ]
  },
  {
   "cell_type": "markdown",
   "metadata": {},
   "source": [
    "# Train test split with stratify"
   ]
  },
  {
   "cell_type": "code",
   "execution_count": 17,
   "metadata": {
    "ExecuteTime": {
     "end_time": "2020-09-29T00:56:06.926962Z",
     "start_time": "2020-09-29T00:56:06.639452Z"
    }
   },
   "outputs": [
    {
     "data": {
      "text/plain": [
       "((284807, 31), (227845, 30), (56962, 30))"
      ]
     },
     "execution_count": 17,
     "metadata": {},
     "output_type": "execute_result"
    }
   ],
   "source": [
    "from sklearn.model_selection import train_test_split\n",
    "\n",
    "target = 'Class'\n",
    "Xtrain, Xtest, ytrain, ytest = train_test_split(\n",
    "    df.drop(target,axis=1), df[target],\n",
    "    test_size=0.2, random_state=random_state, stratify=df[target])\n",
    "\n",
    "df.shape, Xtrain.shape, Xtest.shape"
   ]
  },
  {
   "cell_type": "code",
   "execution_count": 18,
   "metadata": {
    "ExecuteTime": {
     "end_time": "2020-09-29T00:56:06.985845Z",
     "start_time": "2020-09-29T00:56:06.929104Z"
    }
   },
   "outputs": [],
   "source": [
    "outlier_fraction = ytrain[ytrain==1].shape[0] /   ytrain[ytrain==0].shape[0]"
   ]
  },
  {
   "cell_type": "markdown",
   "metadata": {},
   "source": [
    "# Classification: isolationForest\n",
    "\n",
    "Reference:   \n",
    "scikit learn  \n",
    "https://scikit-learn.org/stable/modules/outlier_detection.html\n",
    "\n",
    "One efficient way of performing outlier detection in high-dimensional datasets is to use random forests. The ensemble.IsolationForest ‘isolates’ observations by randomly selecting a feature and then randomly selecting a split value between the maximum and minimum values of the selected feature.\n",
    "\n",
    "Since recursive partitioning can be represented by a tree structure, the number of splittings required to isolate a sample is equivalent to the path length from the root node to the terminating node.\n",
    "\n",
    "This path length, averaged over a forest of such random trees, is a measure of normality and our decision function.\n",
    "\n",
    "Random partitioning produces noticeably shorter paths for anomalies. Hence, when a forest of random trees collectively produce shorter path lengths for particular samples, they are highly likely to be anomalies.\n",
    "\n",
    "The implementation of ensemble.IsolationForest is based on an ensemble of tree.ExtraTreeRegressor. Following Isolation Forest original paper, the maximum depth of each tree is set to  where  is the number of samples used to build the tree (see (Liu et al., 2008) for more details).\n",
    "\n",
    "This algorithm is illustrated below.\n",
    "![](../images/isolation_forest_sklearn.png)"
   ]
  },
  {
   "cell_type": "code",
   "execution_count": null,
   "metadata": {
    "ExecuteTime": {
     "end_time": "2020-09-29T01:02:26.231673Z",
     "start_time": "2020-09-29T01:02:09.850909Z"
    }
   },
   "outputs": [],
   "source": [
    "%%time\n",
    "\n",
    "clf_iso = IsolationForest(n_estimators=100,\n",
    "                      max_samples=len(Xtrain),\n",
    "                      n_jobs=-1,\n",
    "                      contamination=outlier_fraction,\n",
    "                      random_state=random_state,\n",
    "                      verbose=1)\n",
    "\n",
    "\n",
    "# fitting  \n",
    "clf_iso.fit(Xtrain)\n",
    "\n",
    "# prediction\n",
    "scores_prediction = clf_iso.decision_function(Xtest)\n",
    "ypreds = clf_iso.predict(Xtest)\n",
    "\n",
    "# algorithm gives 1 and -1 classes, make them 0 and 1\n",
    "ypreds[ypreds == 1] = 0\n",
    "ypreds[ypreds == -1] = 1\n",
    "\n",
    "ypreds_iso = ypreds"
   ]
  },
  {
   "cell_type": "code",
   "execution_count": 41,
   "metadata": {
    "ExecuteTime": {
     "end_time": "2020-09-29T01:03:21.436811Z",
     "start_time": "2020-09-29T01:03:21.332191Z"
    }
   },
   "outputs": [
    {
     "name": "stdout",
     "output_type": "stream",
     "text": [
      "              precision    recall  f1-score   support\n",
      "\n",
      "           0       1.00      1.00      1.00     56864\n",
      "           1       0.26      0.29      0.27        98\n",
      "\n",
      "    accuracy                           1.00     56962\n",
      "   macro avg       0.63      0.64      0.64     56962\n",
      "weighted avg       1.00      1.00      1.00     56962\n",
      "\n"
     ]
    }
   ],
   "source": [
    "print(metrics.classification_report(ytest, ypreds_iso))"
   ]
  },
  {
   "cell_type": "code",
   "execution_count": 42,
   "metadata": {
    "ExecuteTime": {
     "end_time": "2020-09-29T01:07:46.968903Z",
     "start_time": "2020-09-29T01:07:46.921080Z"
    }
   },
   "outputs": [],
   "source": [
    "df_eval = pd.DataFrame({\n",
    "    'Model': [],\n",
    "    'Description': [],\n",
    "    'Accuracy': [],\n",
    "    'Precision': [],\n",
    "    'Recall': [],\n",
    "    'F1 Weighted': [],\n",
    "})"
   ]
  },
  {
   "cell_type": "code",
   "execution_count": 44,
   "metadata": {
    "ExecuteTime": {
     "end_time": "2020-09-29T01:08:24.258374Z",
     "start_time": "2020-09-29T01:08:24.095397Z"
    }
   },
   "outputs": [
    {
     "data": {
      "text/html": [
       "<style  type=\"text/css\" >\n",
       "#T_45f733d8_01f0_11eb_946b_acde48001122row0_col4{\n",
       "            background-color:  #fff7fb;\n",
       "            color:  #000000;\n",
       "        }</style><table id=\"T_45f733d8_01f0_11eb_946b_acde48001122\" ><thead>    <tr>        <th class=\"blank level0\" ></th>        <th class=\"col_heading level0 col0\" >Model</th>        <th class=\"col_heading level0 col1\" >Description</th>        <th class=\"col_heading level0 col2\" >Accuracy</th>        <th class=\"col_heading level0 col3\" >Precision</th>        <th class=\"col_heading level0 col4\" >Recall</th>        <th class=\"col_heading level0 col5\" >F1 Weighted</th>    </tr></thead><tbody>\n",
       "                <tr>\n",
       "                        <th id=\"T_45f733d8_01f0_11eb_946b_acde48001122level0_row0\" class=\"row_heading level0 row0\" >0</th>\n",
       "                        <td id=\"T_45f733d8_01f0_11eb_946b_acde48001122row0_col0\" class=\"data row0 col0\" >Isolation Forest</td>\n",
       "                        <td id=\"T_45f733d8_01f0_11eb_946b_acde48001122row0_col1\" class=\"data row0 col1\" >default</td>\n",
       "                        <td id=\"T_45f733d8_01f0_11eb_946b_acde48001122row0_col2\" class=\"data row0 col2\" >0.997384</td>\n",
       "                        <td id=\"T_45f733d8_01f0_11eb_946b_acde48001122row0_col3\" class=\"data row0 col3\" >0.261682</td>\n",
       "                        <td id=\"T_45f733d8_01f0_11eb_946b_acde48001122row0_col4\" class=\"data row0 col4\" >0.285714</td>\n",
       "                        <td id=\"T_45f733d8_01f0_11eb_946b_acde48001122row0_col5\" class=\"data row0 col5\" >0.997442</td>\n",
       "            </tr>\n",
       "    </tbody></table>"
      ],
      "text/plain": [
       "<pandas.io.formats.style.Styler at 0x7ff16dbbc990>"
      ]
     },
     "metadata": {},
     "output_type": "display_data"
    }
   ],
   "source": [
    "model_name = 'Isolation Forest'\n",
    "desc = 'default'\n",
    "sort_col = 'Recall'\n",
    "\n",
    "acc = metrics.accuracy_score(ytest,ypreds_iso)\n",
    "pre = metrics.precision_score(ytest,ypreds_iso)\n",
    "rec = metrics.recall_score(ytest,ypreds_iso)\n",
    "f1 = metrics.f1_score(ytest,ypreds_iso,average='weighted')\n",
    "\n",
    "row = [ model_name,desc]\n",
    "row = row + [acc, pre, rec, f1]\n",
    "df_eval.loc[len(df_eval)] = row\n",
    "df_eval = df_eval.drop_duplicates(subset=[ 'Model', 'Description'])\n",
    "df_eval = df_eval.sort_values(sort_col,ascending=False)\n",
    "\n",
    "\n",
    "display(df_eval.style.background_gradient(subset=[sort_col]))"
   ]
  },
  {
   "cell_type": "code",
   "execution_count": 47,
   "metadata": {
    "ExecuteTime": {
     "end_time": "2020-09-29T01:10:42.851503Z",
     "start_time": "2020-09-29T01:10:42.560586Z"
    }
   },
   "outputs": [
    {
     "data": {
      "text/plain": [
       "<matplotlib.axes._subplots.AxesSubplot at 0x7ff16d6dcdd0>"
      ]
     },
     "execution_count": 47,
     "metadata": {},
     "output_type": "execute_result"
    },
    {
     "data": {
      "image/png": "[encoded data removed]",
      "text/plain": [
       "<Figure size 432x288 with 2 Axes>"
      ]
     },
     "metadata": {
      "needs_background": "light"
     },
     "output_type": "display_data"
    }
   ],
   "source": [
    "skmetrics.plot_confusion_matrix(ytest, ypreds_iso)"
   ]
  },
  {
   "cell_type": "markdown",
   "metadata": {},
   "source": [
    "# Classification: LOF (Local Outlier Factor)\n",
    "\n",
    "Reference: sklearn  \n",
    "\n",
    "Unsupervised Outlier Detection using Local Outlier Factor (LOF)\n",
    "\n",
    "The anomaly score of each sample is called Local Outlier Factor. It measures the local deviation of density of a given sample with respect to its neighbors. It is local in that the anomaly score depends on how isolated the object is with respect to the surrounding neighborhood. More precisely, locality is given by k-nearest neighbors, whose distance is used to estimate the local density. By comparing the local density of a sample to the local densities of its neighbors, one can identify samples that have a substantially lower density than their neighbors. These are considered outliers."
   ]
  },
  {
   "cell_type": "code",
   "execution_count": 48,
   "metadata": {
    "ExecuteTime": {
     "end_time": "2020-09-29T01:11:25.334810Z",
     "start_time": "2020-09-29T01:11:20.921433Z"
    }
   },
   "outputs": [
    {
     "name": "stdout",
     "output_type": "stream",
     "text": [
      "CPU times: user 11 s, sys: 223 ms, total: 11.3 s\n",
      "Wall time: 4.34 s\n"
     ]
    }
   ],
   "source": [
    "%%time\n",
    "\n",
    "clf_lof = LocalOutlierFactor(n_neighbors=20,\n",
    "                      algorithm='auto', \n",
    "                      leaf_size=30,\n",
    "                      metric='minkowski',\n",
    "                      p=2,\n",
    "                      n_jobs=-1,\n",
    "                      metric_params=None,\n",
    "                      novelty=True,\n",
    "                      contamination=outlier_fraction)\n",
    "\n",
    "clf_lof.fit(Xtrain)\n",
    "ypreds = clf_lof.predict(Xtest)\n",
    "\n",
    "# alogrithm gives 1 and -1 classes, make them 0 and 1\n",
    "ypreds[ypreds == 1] = 0\n",
    "ypreds[ypreds == -1] = 1\n",
    "\n",
    "ypreds_lof = ypreds"
   ]
  },
  {
   "cell_type": "code",
   "execution_count": 49,
   "metadata": {
    "ExecuteTime": {
     "end_time": "2020-09-29T01:11:57.564749Z",
     "start_time": "2020-09-29T01:11:57.457784Z"
    }
   },
   "outputs": [
    {
     "name": "stdout",
     "output_type": "stream",
     "text": [
      "              precision    recall  f1-score   support\n",
      "\n",
      "           0       1.00      1.00      1.00     56864\n",
      "           1       0.03      0.03      0.03        98\n",
      "\n",
      "    accuracy                           1.00     56962\n",
      "   macro avg       0.51      0.51      0.51     56962\n",
      "weighted avg       1.00      1.00      1.00     56962\n",
      "\n"
     ]
    }
   ],
   "source": [
    "print(metrics.classification_report(ytest, ypreds_lof))"
   ]
  },
  {
   "cell_type": "code",
   "execution_count": 55,
   "metadata": {
    "ExecuteTime": {
     "end_time": "2020-09-29T01:17:29.986998Z",
     "start_time": "2020-09-29T01:17:29.904754Z"
    }
   },
   "outputs": [
    {
     "data": {
      "text/html": [
       "<style  type=\"text/css\" >\n",
       "#T_8b3eecf0_01f1_11eb_946b_acde48001122row0_col4{\n",
       "            background-color:  #023858;\n",
       "            color:  #f1f1f1;\n",
       "        }#T_8b3eecf0_01f1_11eb_946b_acde48001122row1_col4{\n",
       "            background-color:  #fff7fb;\n",
       "            color:  #000000;\n",
       "        }</style><table id=\"T_8b3eecf0_01f1_11eb_946b_acde48001122\" ><thead>    <tr>        <th class=\"blank level0\" ></th>        <th class=\"col_heading level0 col0\" >Model</th>        <th class=\"col_heading level0 col1\" >Description</th>        <th class=\"col_heading level0 col2\" >Accuracy</th>        <th class=\"col_heading level0 col3\" >Precision</th>        <th class=\"col_heading level0 col4\" >Recall</th>        <th class=\"col_heading level0 col5\" >F1 Weighted</th>    </tr></thead><tbody>\n",
       "                <tr>\n",
       "                        <th id=\"T_8b3eecf0_01f1_11eb_946b_acde48001122level0_row0\" class=\"row_heading level0 row0\" >0</th>\n",
       "                        <td id=\"T_8b3eecf0_01f1_11eb_946b_acde48001122row0_col0\" class=\"data row0 col0\" >Isolation Forest</td>\n",
       "                        <td id=\"T_8b3eecf0_01f1_11eb_946b_acde48001122row0_col1\" class=\"data row0 col1\" >default</td>\n",
       "                        <td id=\"T_8b3eecf0_01f1_11eb_946b_acde48001122row0_col2\" class=\"data row0 col2\" >0.997384</td>\n",
       "                        <td id=\"T_8b3eecf0_01f1_11eb_946b_acde48001122row0_col3\" class=\"data row0 col3\" >0.261682</td>\n",
       "                        <td id=\"T_8b3eecf0_01f1_11eb_946b_acde48001122row0_col4\" class=\"data row0 col4\" >0.285714</td>\n",
       "                        <td id=\"T_8b3eecf0_01f1_11eb_946b_acde48001122row0_col5\" class=\"data row0 col5\" >0.997442</td>\n",
       "            </tr>\n",
       "            <tr>\n",
       "                        <th id=\"T_8b3eecf0_01f1_11eb_946b_acde48001122level0_row1\" class=\"row_heading level0 row1\" >1</th>\n",
       "                        <td id=\"T_8b3eecf0_01f1_11eb_946b_acde48001122row1_col0\" class=\"data row1 col0\" >Local Outlier Factor</td>\n",
       "                        <td id=\"T_8b3eecf0_01f1_11eb_946b_acde48001122row1_col1\" class=\"data row1 col1\" >default</td>\n",
       "                        <td id=\"T_8b3eecf0_01f1_11eb_946b_acde48001122row1_col2\" class=\"data row1 col2\" >0.996331</td>\n",
       "                        <td id=\"T_8b3eecf0_01f1_11eb_946b_acde48001122row1_col3\" class=\"data row1 col3\" >0.025641</td>\n",
       "                        <td id=\"T_8b3eecf0_01f1_11eb_946b_acde48001122row1_col4\" class=\"data row1 col4\" >0.030612</td>\n",
       "                        <td id=\"T_8b3eecf0_01f1_11eb_946b_acde48001122row1_col5\" class=\"data row1 col5\" >0.996493</td>\n",
       "            </tr>\n",
       "    </tbody></table>"
      ],
      "text/plain": [
       "<pandas.io.formats.style.Styler at 0x7ff16d6daed0>"
      ]
     },
     "metadata": {},
     "output_type": "display_data"
    }
   ],
   "source": [
    "model_name = 'Local Outlier Factor'\n",
    "desc = 'default'\n",
    "sort_col = 'Recall'\n",
    "ypreds = ypreds_lof\n",
    "\n",
    "acc = metrics.accuracy_score(ytest,ypreds)\n",
    "pre = metrics.precision_score(ytest,ypreds)\n",
    "rec = metrics.recall_score(ytest,ypreds)\n",
    "f1 = metrics.f1_score(ytest,ypreds,average='weighted')\n",
    "\n",
    "\n",
    "row = [ model_name,desc]\n",
    "row = row + [acc, pre, rec, f1]\n",
    "df_eval.loc[len(df_eval)] = row\n",
    "df_eval = df_eval.drop_duplicates(subset=[ 'Model', 'Description'])\n",
    "df_eval = df_eval.sort_values(sort_col,ascending=False)\n",
    "\n",
    "\n",
    "display(df_eval.style.background_gradient(subset=[sort_col]))"
   ]
  },
  {
   "cell_type": "code",
   "execution_count": 56,
   "metadata": {
    "ExecuteTime": {
     "end_time": "2020-09-29T01:17:51.718838Z",
     "start_time": "2020-09-29T01:17:51.474618Z"
    }
   },
   "outputs": [
    {
     "data": {
      "text/plain": [
       "<matplotlib.axes._subplots.AxesSubplot at 0x7ff15cd18510>"
      ]
     },
     "execution_count": 56,
     "metadata": {},
     "output_type": "execute_result"
    },
    {
     "data": {
      "image/png": "[encoded data removed]",
      "text/plain": [
       "<Figure size 432x288 with 2 Axes>"
      ]
     },
     "metadata": {
      "needs_background": "light"
     },
     "output_type": "display_data"
    }
   ],
   "source": [
    "skmetrics.plot_confusion_matrix(ytest, ypreds_lof)"
   ]
  },
  {
   "cell_type": "markdown",
   "metadata": {
    "ExecuteTime": {
     "end_time": "2019-10-12T14:57:39.698786Z",
     "start_time": "2019-10-12T14:57:39.689505Z"
    }
   },
   "source": [
    "# Classification Evaluation Metrics\n",
    "![](../images/classification_metrics.png)\n",
    "![](../images/confusion_matrix.png)\n",
    "![](../images/accuracy.png)\n",
    "![](../images/precision.png)\n",
    "![](../images/recall.png)\n",
    "![](../images/f1_score.png)"
   ]
  },
  {
   "cell_type": "code",
   "execution_count": 66,
   "metadata": {
    "ExecuteTime": {
     "end_time": "2020-09-29T01:22:00.735617Z",
     "start_time": "2020-09-29T01:22:00.690129Z"
    }
   },
   "outputs": [
    {
     "data": {
      "text/html": [
       "<div>\n",
       "<style scoped>\n",
       "    .dataframe tbody tr th:only-of-type {\n",
       "        vertical-align: middle;\n",
       "    }\n",
       "\n",
       "    .dataframe tbody tr th {\n",
       "        vertical-align: top;\n",
       "    }\n",
       "\n",
       "    .dataframe thead th {\n",
       "        text-align: right;\n",
       "    }\n",
       "</style>\n",
       "<table border=\"1\" class=\"dataframe\">\n",
       "  <thead>\n",
       "    <tr style=\"text-align: right;\">\n",
       "      <th></th>\n",
       "      <th>0</th>\n",
       "      <th>1</th>\n",
       "      <th>2</th>\n",
       "      <th>3</th>\n",
       "    </tr>\n",
       "  </thead>\n",
       "  <tbody>\n",
       "    <tr>\n",
       "      <th>0</th>\n",
       "      <td>base_estimator</td>\n",
       "      <td>estimators_</td>\n",
       "      <td>max_samples</td>\n",
       "      <td>oob_score</td>\n",
       "    </tr>\n",
       "    <tr>\n",
       "      <th>1</th>\n",
       "      <td>base_estimator_</td>\n",
       "      <td>estimators_features_</td>\n",
       "      <td>max_samples_</td>\n",
       "      <td>predict</td>\n",
       "    </tr>\n",
       "    <tr>\n",
       "      <th>2</th>\n",
       "      <td>behaviour</td>\n",
       "      <td>estimators_samples_</td>\n",
       "      <td>n_estimators</td>\n",
       "      <td>random_state</td>\n",
       "    </tr>\n",
       "    <tr>\n",
       "      <th>3</th>\n",
       "      <td>bootstrap</td>\n",
       "      <td>fit</td>\n",
       "      <td>n_features_</td>\n",
       "      <td>score_samples</td>\n",
       "    </tr>\n",
       "    <tr>\n",
       "      <th>4</th>\n",
       "      <td>bootstrap_features</td>\n",
       "      <td>fit_predict</td>\n",
       "      <td>n_features_in_</td>\n",
       "      <td>set_params</td>\n",
       "    </tr>\n",
       "    <tr>\n",
       "      <th>5</th>\n",
       "      <td>contamination</td>\n",
       "      <td>get_params</td>\n",
       "      <td>n_jobs</td>\n",
       "      <td>verbose</td>\n",
       "    </tr>\n",
       "    <tr>\n",
       "      <th>6</th>\n",
       "      <td>decision_function</td>\n",
       "      <td>max_features</td>\n",
       "      <td>offset_</td>\n",
       "      <td>warm_start</td>\n",
       "    </tr>\n",
       "    <tr>\n",
       "      <th>7</th>\n",
       "      <td>estimator_params</td>\n",
       "      <td></td>\n",
       "      <td></td>\n",
       "      <td></td>\n",
       "    </tr>\n",
       "  </tbody>\n",
       "</table>\n",
       "</div>"
      ],
      "text/plain": [
       "                    0                     1               2              3\n",
       "0      base_estimator           estimators_     max_samples      oob_score\n",
       "1     base_estimator_  estimators_features_    max_samples_        predict\n",
       "2           behaviour   estimators_samples_    n_estimators   random_state\n",
       "3           bootstrap                   fit     n_features_  score_samples\n",
       "4  bootstrap_features           fit_predict  n_features_in_     set_params\n",
       "5       contamination            get_params          n_jobs        verbose\n",
       "6   decision_function          max_features         offset_     warm_start\n",
       "7    estimator_params                                                     "
      ]
     },
     "execution_count": 66,
     "metadata": {},
     "output_type": "execute_result"
    }
   ],
   "source": [
    "show_methods(clf_iso)"
   ]
  },
  {
   "cell_type": "code",
   "execution_count": 74,
   "metadata": {
    "ExecuteTime": {
     "end_time": "2020-09-29T01:26:18.352979Z",
     "start_time": "2020-09-29T01:26:18.275270Z"
    }
   },
   "outputs": [
    {
     "data": {
      "text/html": [
       "<div>\n",
       "<style scoped>\n",
       "    .dataframe tbody tr th:only-of-type {\n",
       "        vertical-align: middle;\n",
       "    }\n",
       "\n",
       "    .dataframe tbody tr th {\n",
       "        vertical-align: top;\n",
       "    }\n",
       "\n",
       "    .dataframe thead th {\n",
       "        text-align: right;\n",
       "    }\n",
       "</style>\n",
       "<table border=\"1\" class=\"dataframe\">\n",
       "  <thead>\n",
       "    <tr style=\"text-align: right;\">\n",
       "      <th></th>\n",
       "      <th>0</th>\n",
       "      <th>1</th>\n",
       "      <th>2</th>\n",
       "      <th>3</th>\n",
       "    </tr>\n",
       "  </thead>\n",
       "  <tbody>\n",
       "    <tr>\n",
       "      <th>0</th>\n",
       "      <td>algorithm</td>\n",
       "      <td>get_params</td>\n",
       "      <td>n_jobs</td>\n",
       "      <td>offset_</td>\n",
       "    </tr>\n",
       "    <tr>\n",
       "      <th>1</th>\n",
       "      <td>contamination</td>\n",
       "      <td>kneighbors</td>\n",
       "      <td>n_neighbors</td>\n",
       "      <td>p</td>\n",
       "    </tr>\n",
       "    <tr>\n",
       "      <th>2</th>\n",
       "      <td>decision_function</td>\n",
       "      <td>kneighbors_graph</td>\n",
       "      <td>n_neighbors_</td>\n",
       "      <td>predict</td>\n",
       "    </tr>\n",
       "    <tr>\n",
       "      <th>3</th>\n",
       "      <td>effective_metric_</td>\n",
       "      <td>leaf_size</td>\n",
       "      <td>n_samples_fit_</td>\n",
       "      <td>radius</td>\n",
       "    </tr>\n",
       "    <tr>\n",
       "      <th>4</th>\n",
       "      <td>effective_metric_params_</td>\n",
       "      <td>metric</td>\n",
       "      <td>negative_outlier_factor_</td>\n",
       "      <td>score_samples</td>\n",
       "    </tr>\n",
       "    <tr>\n",
       "      <th>5</th>\n",
       "      <td>fit</td>\n",
       "      <td>metric_params</td>\n",
       "      <td>novelty</td>\n",
       "      <td>set_params</td>\n",
       "    </tr>\n",
       "    <tr>\n",
       "      <th>6</th>\n",
       "      <td>fit_predict</td>\n",
       "      <td>n_features_in_</td>\n",
       "      <td></td>\n",
       "      <td></td>\n",
       "    </tr>\n",
       "  </tbody>\n",
       "</table>\n",
       "</div>"
      ],
      "text/plain": [
       "                          0                 1                         2  \\\n",
       "0                 algorithm        get_params                    n_jobs   \n",
       "1             contamination        kneighbors               n_neighbors   \n",
       "2         decision_function  kneighbors_graph              n_neighbors_   \n",
       "3         effective_metric_         leaf_size            n_samples_fit_   \n",
       "4  effective_metric_params_            metric  negative_outlier_factor_   \n",
       "5                       fit     metric_params                   novelty   \n",
       "6               fit_predict    n_features_in_                             \n",
       "\n",
       "               3  \n",
       "0        offset_  \n",
       "1              p  \n",
       "2        predict  \n",
       "3         radius  \n",
       "4  score_samples  \n",
       "5     set_params  \n",
       "6                 "
      ]
     },
     "execution_count": 74,
     "metadata": {},
     "output_type": "execute_result"
    }
   ],
   "source": [
    "show_methods(clf_lof)"
   ]
  },
  {
   "cell_type": "code",
   "execution_count": 75,
   "metadata": {
    "ExecuteTime": {
     "end_time": "2020-09-29T01:26:31.078319Z",
     "start_time": "2020-09-29T01:26:31.024825Z"
    }
   },
   "outputs": [
    {
     "name": "stdout",
     "output_type": "stream",
     "text": [
      "Help on method decision_function in module sklearn.ensemble._iforest:\n",
      "\n",
      "decision_function(X) method of sklearn.ensemble._iforest.IsolationForest instance\n",
      "    Average anomaly score of X of the base classifiers.\n",
      "    \n",
      "    The anomaly score of an input sample is computed as\n",
      "    the mean anomaly score of the trees in the forest.\n",
      "    \n",
      "    The measure of normality of an observation given a tree is the depth\n",
      "    of the leaf containing this observation, which is equivalent to\n",
      "    the number of splittings required to isolate this point. In case of\n",
      "    several observations n_left in the leaf, the average path length of\n",
      "    a n_left samples isolation tree is added.\n",
      "    \n",
      "    Parameters\n",
      "    ----------\n",
      "    X : {array-like, sparse matrix} of shape (n_samples, n_features)\n",
      "        The input samples. Internally, it will be converted to\n",
      "        ``dtype=np.float32`` and if a sparse matrix is provided\n",
      "        to a sparse ``csr_matrix``.\n",
      "    \n",
      "    Returns\n",
      "    -------\n",
      "    scores : ndarray of shape (n_samples,)\n",
      "        The anomaly score of the input samples.\n",
      "        The lower, the more abnormal. Negative scores represent outliers,\n",
      "        positive scores represent inliers.\n",
      "\n"
     ]
    }
   ],
   "source": [
    "help(clf_iso.decision_function)"
   ]
  },
  {
   "cell_type": "code",
   "execution_count": 78,
   "metadata": {
    "ExecuteTime": {
     "end_time": "2020-09-29T01:27:49.459034Z",
     "start_time": "2020-09-29T01:27:47.305474Z"
    }
   },
   "outputs": [
    {
     "data": {
      "text/plain": [
       "((56962,),\n",
       " array([0.17929489, 0.18313638, 0.17685782, 0.18223546, 0.19401706,\n",
       "        0.1876981 , 0.19039054, 0.17579801, 0.18324446, 0.17319798]))"
      ]
     },
     "execution_count": 78,
     "metadata": {},
     "output_type": "execute_result"
    }
   ],
   "source": [
    "yprobs_iso = clf_iso.decision_function(Xtest)\n",
    "yprobs_iso.shape, yprobs_iso[:10]"
   ]
  },
  {
   "cell_type": "code",
   "execution_count": 79,
   "metadata": {
    "ExecuteTime": {
     "end_time": "2020-09-29T01:27:51.333437Z",
     "start_time": "2020-09-29T01:27:50.610761Z"
    }
   },
   "outputs": [
    {
     "data": {
      "text/plain": [
       "(56962,)"
      ]
     },
     "execution_count": 79,
     "metadata": {},
     "output_type": "execute_result"
    }
   ],
   "source": [
    "yprobs_lof = clf_lof.decision_function(Xtest)\n",
    "yprobs_lof.shape"
   ]
  },
  {
   "cell_type": "code",
   "execution_count": 82,
   "metadata": {
    "ExecuteTime": {
     "end_time": "2020-09-29T01:28:31.797421Z",
     "start_time": "2020-09-29T01:28:30.899631Z"
    }
   },
   "outputs": [
    {
     "data": {
      "text/plain": [
       "<matplotlib.axes._subplots.AxesSubplot at 0x7ff16d65f3d0>"
      ]
     },
     "execution_count": 82,
     "metadata": {},
     "output_type": "execute_result"
    },
    {
     "data": {
      "image/png": "[encoded data removed]",
      "text/plain": [
       "<Figure size 432x288 with 1 Axes>"
      ]
     },
     "metadata": {
      "needs_background": "light"
     },
     "output_type": "display_data"
    }
   ],
   "source": [
    "skmetrics.plot_precision_recall(ytest, np.c_[yprobs_iso, 1 - yprobs_iso])"
   ]
  },
  {
   "cell_type": "code",
   "execution_count": 81,
   "metadata": {
    "ExecuteTime": {
     "end_time": "2020-09-29T01:28:13.604892Z",
     "start_time": "2020-09-29T01:28:12.785909Z"
    }
   },
   "outputs": [
    {
     "data": {
      "text/plain": [
       "<matplotlib.axes._subplots.AxesSubplot at 0x7ff16da93190>"
      ]
     },
     "execution_count": 81,
     "metadata": {},
     "output_type": "execute_result"
    },
    {
     "data": {
      "image/png": "[encoded data removed]",
      "text/plain": [
       "<Figure size 432x288 with 1 Axes>"
      ]
     },
     "metadata": {
      "needs_background": "light"
     },
     "output_type": "display_data"
    }
   ],
   "source": [
    "skmetrics.plot_precision_recall(ytest, np.c_[yprobs_iso, 1 - yprobs_iso])"
   ]
  },
  {
   "cell_type": "code",
   "execution_count": null,
   "metadata": {},
   "outputs": [],
   "source": []
  }
 ],
 "metadata": {
  "kernelspec": {
   "display_name": "Python (dataSc)",
   "language": "python",
   "name": "datasc"
  },
  "language_info": {
   "codemirror_mode": {
    "name": "ipython",
    "version": 3
   },
   "file_extension": ".py",
   "mimetype": "text/x-python",
   "name": "python",
   "nbconvert_exporter": "python",
   "pygments_lexer": "ipython3",
   "version": "3.7.7"
  },
  "toc": {
   "base_numbering": 1,
   "nav_menu": {},
   "number_sections": true,
   "sideBar": true,
   "skip_h1_title": false,
   "title_cell": "Table of Contents",
   "title_sidebar": "Contents",
   "toc_cell": true,
   "toc_position": {},
   "toc_section_display": true,
   "toc_window_display": true
  },
  "varInspector": {
   "cols": {
    "lenName": 16,
    "lenType": 16,
    "lenVar": 40
   },
   "kernels_config": {
    "python": {
     "delete_cmd_postfix": "",
     "delete_cmd_prefix": "del ",
     "library": "var_list.py",
     "varRefreshCmd": "print(var_dic_list())"
    },
    "r": {
     "delete_cmd_postfix": ") ",
     "delete_cmd_prefix": "rm(",
     "library": "var_list.r",
     "varRefreshCmd": "cat(var_dic_list()) "
    }
   },
   "types_to_exclude": [
    "module",
    "function",
    "builtin_function_or_method",
    "instance",
    "_Feature"
   ],
   "window_display": false
  }
 },
 "nbformat": 4,
 "nbformat_minor": 2
}
