{
 "cells": [
  {
   "cell_type": "markdown",
   "metadata": {
    "toc": true
   },
   "source": [
    "<h1>Table of Contents<span class=\"tocSkip\"></span></h1>\n",
    "<div class=\"toc\"><ul class=\"toc-item\"><li><span><a href=\"#Introduction-to-Boosting\" data-toc-modified-id=\"Introduction-to-Boosting-1\"><span class=\"toc-item-num\">1&nbsp;&nbsp;</span>Introduction to Boosting</a></span></li><li><span><a href=\"#Imports\" data-toc-modified-id=\"Imports-2\"><span class=\"toc-item-num\">2&nbsp;&nbsp;</span>Imports</a></span></li><li><span><a href=\"#Useful-Functions\" data-toc-modified-id=\"Useful-Functions-3\"><span class=\"toc-item-num\">3&nbsp;&nbsp;</span>Useful Functions</a></span></li><li><span><a href=\"#Load-the-data\" data-toc-modified-id=\"Load-the-data-4\"><span class=\"toc-item-num\">4&nbsp;&nbsp;</span>Load the data</a></span></li><li><span><a href=\"#Train-test-split-with-stratify\" data-toc-modified-id=\"Train-test-split-with-stratify-5\"><span class=\"toc-item-num\">5&nbsp;&nbsp;</span>Train test split with stratify</a></span></li><li><span><a href=\"#Train-Validation-with-stratify\" data-toc-modified-id=\"Train-Validation-with-stratify-6\"><span class=\"toc-item-num\">6&nbsp;&nbsp;</span>Train Validation with stratify</a></span></li><li><span><a href=\"#Modelling-xgboost-imbalanced-data\" data-toc-modified-id=\"Modelling-xgboost-imbalanced-data-7\"><span class=\"toc-item-num\">7&nbsp;&nbsp;</span>Modelling xgboost imbalanced data</a></span><ul class=\"toc-item\"><li><span><a href=\"#Default-Method\" data-toc-modified-id=\"Default-Method-7.1\"><span class=\"toc-item-num\">7.1&nbsp;&nbsp;</span>Default Method</a></span></li><li><span><a href=\"#Using-custom-eval-function-(Not-custom-objective-function-with-feval)\" data-toc-modified-id=\"Using-custom-eval-function-(Not-custom-objective-function-with-feval)-7.2\"><span class=\"toc-item-num\">7.2&nbsp;&nbsp;</span>Using custom eval function (Not custom objective function with feval)</a></span></li></ul></li><li><span><a href=\"#Tune-hyperparameters-using-Optuna-with-custom-loss\" data-toc-modified-id=\"Tune-hyperparameters-using-Optuna-with-custom-loss-8\"><span class=\"toc-item-num\">8&nbsp;&nbsp;</span>Tune hyperparameters using Optuna with custom loss</a></span></li><li><span><a href=\"#Calibrate-the-probabilities-(Stacking-models)\" data-toc-modified-id=\"Calibrate-the-probabilities-(Stacking-models)-9\"><span class=\"toc-item-num\">9&nbsp;&nbsp;</span>Calibrate the probabilities (Stacking models)</a></span></li><li><span><a href=\"#Time-Taken\" data-toc-modified-id=\"Time-Taken-10\"><span class=\"toc-item-num\">10&nbsp;&nbsp;</span>Time Taken</a></span></li></ul></div>"
   ]
  },
  {
   "cell_type": "markdown",
   "metadata": {},
   "source": [
    "<div class=\"alert alert-block alert-success\">\n",
    "<b>Kernel Author:</b>  <br>\n",
    "<a href=\"https://bhishanpdl.github.io/\" , target=\"_blank\">Bhishan Poudel,  Data Scientist, Ph.D Astrophysics</a> .\n",
    "</div>"
   ]
  },
  {
   "cell_type": "markdown",
   "metadata": {
    "colab_type": "text",
    "heading_collapsed": true,
    "id": "IMgpqhTv1olf"
   },
   "source": [
    "# Introduction to Boosting\n",
    "References: \n",
    "- https://github.com/dmlc/xgboost/tree/master/demo/guide-python\n",
    "- https://www.analyticsvidhya.com/blog/2016/04/complete-tutorial-tree-based-modeling-scratch-in-python/\n",
    "- https://www.analyticsvidhya.com/blog/2016/03/complete-guide-parameter-tuning-xgboost-with-codes-python/\n",
    "- http://xgboost.readthedocs.org/en/latest/parameter.html#general-parameters\n",
    "- https://github.com/dmlc/xgboost/tree/master/demo/guide-python\n",
    "- https://xgboost.readthedocs.io/en/latest/python/python_api.html\n",
    "\n",
    "The term `Boosting` refers to a family of algorithms which converts weak learner to strong learners.\n",
    "\n",
    "There are many boosting algorithms which impart additional boost to model’s accuracy. In this tutorial, we’ll learn about the two most commonly used algorithms i.e. Gradient Boosting (GBM) and XGboost.\n",
    "\n",
    "Generally XGboost is considered more advanced than gbm. \n",
    "- xgboost supports regularization, however gbm does not.\n",
    "- xgboost is blazingley faster than gbm.\n",
    "- xgboost has built-in routine to handle missing values.\n",
    "- xgboost has tree pruning mechanisms,however gbm and random forest are greedy algorithms and do not have tree pruning.\n",
    "- In xgboost we can run cross-validation at each iteration of the boosting. But in gbm, we have to run grid search."
   ]
  },
  {
   "cell_type": "markdown",
   "metadata": {
    "colab_type": "text",
    "id": "bqxjhKA10idV"
   },
   "source": [
    "# Imports"
   ]
  },
  {
   "cell_type": "code",
   "execution_count": 1,
   "metadata": {
    "ExecuteTime": {
     "end_time": "2021-08-10T17:34:01.490338Z",
     "start_time": "2021-08-10T17:34:01.485589Z"
    }
   },
   "outputs": [],
   "source": [
    "import time\n",
    "\n",
    "time_start_notebook = time.time()"
   ]
  },
  {
   "cell_type": "code",
   "execution_count": 2,
   "metadata": {
    "ExecuteTime": {
     "end_time": "2021-08-10T17:34:10.815525Z",
     "start_time": "2021-08-10T17:34:01.494714Z"
    }
   },
   "outputs": [
    {
     "name": "stderr",
     "output_type": "stream",
     "text": [
      "The sklearn.metrics.scorer module is  deprecated in version 0.22 and will be removed in version 0.24. The corresponding classes / functions should instead be imported from sklearn.metrics. Anything that cannot be imported from sklearn.metrics is now part of the private API.\n",
      "The sklearn.feature_selection.base module is  deprecated in version 0.22 and will be removed in version 0.24. The corresponding classes / functions should instead be imported from sklearn.feature_selection. Anything that cannot be imported from sklearn.feature_selection is now part of the private API.\n"
     ]
    },
    {
     "name": "stdout",
     "output_type": "stream",
     "text": [
      "Bhishan Poudel 2021-08-10 \n",
      "\n",
      "CPython 3.7.7\n",
      "IPython 7.22.0\n",
      "\n",
      "compiler   : Clang 4.0.1 (tags/RELEASE_401/final)\n",
      "system     : Darwin\n",
      "release    : 19.6.0\n",
      "machine    : x86_64\n",
      "processor  : i386\n",
      "CPU cores  : 4\n",
      "interpreter: 64bit\n",
      "\n",
      "shap        0.39.0\n",
      "json        2.0.9\n",
      "hyperopt    0.2.3\n",
      "pandas      1.3.0\n",
      "eli5        0.10.1\n",
      "autopep8    1.5.2\n",
      "joblib      1.0.1\n",
      "numpy       1.19.5\n",
      "sklearn     0.23.1\n",
      "six         1.16.0\n",
      "yellowbrick 1.1\n",
      "scikitplot  0.3.7\n",
      "xgboost     1.3.3\n",
      "optuna      2.7.0\n",
      "\n"
     ]
    },
    {
     "name": "stderr",
     "output_type": "stream",
     "text": [
      "The sklearn.metrics.classification module is  deprecated in version 0.22 and will be removed in version 0.24. The corresponding classes / functions should instead be imported from sklearn.metrics. Anything that cannot be imported from sklearn.metrics is now part of the private API.\n"
     ]
    }
   ],
   "source": [
    "import numpy as np\n",
    "import pandas as pd\n",
    "\n",
    "SEED = 0\n",
    "RNG = np.random.RandomState(SEED)\n",
    "\n",
    "import matplotlib.pyplot as plt\n",
    "plt.rcParams['figure.figsize'] = 8,8\n",
    "plt.rcParams.update({'font.size': 16})\n",
    "plt.style.use('ggplot')\n",
    "%matplotlib inline\n",
    "\n",
    "# mixed\n",
    "import copy\n",
    "import pprint\n",
    "pp = pprint.PrettyPrinter(indent=4)\n",
    "\n",
    "# scale and split\n",
    "import sklearn\n",
    "from sklearn.preprocessing import MinMaxScaler, StandardScaler, RobustScaler\n",
    "from sklearn.model_selection import train_test_split\n",
    "from sklearn.model_selection import StratifiedKFold\n",
    "from sklearn.model_selection import cross_val_score, cross_val_predict\n",
    "\n",
    "# classifiers\n",
    "from sklearn.linear_model import LogisticRegression\n",
    "from sklearn.svm import SVC\n",
    "from sklearn.neighbors import KNeighborsClassifier\n",
    "from sklearn.tree import DecisionTreeClassifier\n",
    "from sklearn.ensemble import RandomForestClassifier\n",
    "from sklearn.isotonic import IsotonicRegression\n",
    "\n",
    "# sklearn scalar metrics\n",
    "import sklearn.metrics as skmetrics\n",
    "from sklearn.metrics import accuracy_score\n",
    "from sklearn.metrics import precision_score\n",
    "from sklearn.metrics import recall_score\n",
    "from sklearn.metrics import f1_score\n",
    "\n",
    "# roc auc and curves\n",
    "from sklearn.metrics import auc\n",
    "from sklearn.metrics import roc_auc_score\n",
    "from sklearn.metrics import roc_curve\n",
    "from sklearn.metrics import precision_recall_curve\n",
    "\n",
    "# confusion matrix and classification report\n",
    "from sklearn.metrics import confusion_matrix\n",
    "from sklearn.metrics import classification_report\n",
    "\n",
    "# xgboost\n",
    "import xgboost\n",
    "import xgboost as xgb\n",
    "from xgboost import XGBClassifier\n",
    "\n",
    "# six and pickle\n",
    "import six\n",
    "import pickle\n",
    "import joblib\n",
    "\n",
    "# hyperopt\n",
    "import hyperopt\n",
    "from hyperopt import hp, tpe, fmin, Trials, STATUS_OK, STATUS_FAIL\n",
    "from hyperopt.pyll import scope\n",
    "from hyperopt.pyll.stochastic import sample\n",
    "\n",
    "# optuna\n",
    "import optuna\n",
    "optuna.logging.set_verbosity(optuna.logging.WARNING) # use INFO to see progress\n",
    "\n",
    "# model evaluation\n",
    "import shap\n",
    "import lime\n",
    "import eli5\n",
    "from eli5.sklearn import PermutationImportance\n",
    "import yellowbrick\n",
    "import scikitplot\n",
    "\n",
    "# versions\n",
    "%load_ext watermark\n",
    "%watermark -a \"Bhishan Poudel\" -d -v -m\n",
    "print()\n",
    "%watermark -iv"
   ]
  },
  {
   "cell_type": "code",
   "execution_count": 3,
   "metadata": {
    "ExecuteTime": {
     "end_time": "2021-08-10T17:34:11.898039Z",
     "start_time": "2021-08-10T17:34:10.831664Z"
    }
   },
   "outputs": [],
   "source": [
    "# my local library\n",
    "import sys\n",
    "sys.path.append(\"/Users/poudel/Dropbox/a00_Bhishan_Modules/bhishan/\")\n",
    "from bhishan import bp"
   ]
  },
  {
   "cell_type": "code",
   "execution_count": 4,
   "metadata": {
    "ExecuteTime": {
     "end_time": "2021-08-10T17:34:12.119507Z",
     "start_time": "2021-08-10T17:34:11.901331Z"
    }
   },
   "outputs": [],
   "source": [
    "%load_ext autoreload\n",
    "%autoreload 2"
   ]
  },
  {
   "cell_type": "markdown",
   "metadata": {},
   "source": [
    "# Useful Functions"
   ]
  },
  {
   "cell_type": "code",
   "execution_count": 5,
   "metadata": {
    "ExecuteTime": {
     "end_time": "2021-08-10T17:34:12.371537Z",
     "start_time": "2021-08-10T17:34:12.127036Z"
    }
   },
   "outputs": [],
   "source": [
    "def get_profit(y_true, y_pred):\n",
    "    tn, fp, fn, tp = sklearn.metrics.confusion_matrix(y_true,y_pred).ravel()\n",
    "    profit = 400*tp - 200*fn - 100*fp\n",
    "    return profit\n",
    "\n",
    "scoring = sklearn.metrics.make_scorer(get_profit, greater_is_better=True)"
   ]
  },
  {
   "cell_type": "markdown",
   "metadata": {
    "colab_type": "text",
    "id": "zXHhDh4TzzCj"
   },
   "source": [
    "# Load the data"
   ]
  },
  {
   "cell_type": "code",
   "execution_count": 6,
   "metadata": {
    "ExecuteTime": {
     "end_time": "2021-08-10T17:34:15.806232Z",
     "start_time": "2021-08-10T17:34:12.379548Z"
    },
    "colab": {
     "base_uri": "https://localhost:8080/",
     "height": 235
    },
    "colab_type": "code",
    "id": "jPOJ1_zV0nrU",
    "outputId": "6957a084-6eff-4b5e-9137-bad3edf0f575"
   },
   "outputs": [
    {
     "name": "stdout",
     "output_type": "stream",
     "text": [
      "(284807, 31)\n"
     ]
    },
    {
     "data": {
      "text/html": [
       "<div>\n",
       "<style scoped>\n",
       "    .dataframe tbody tr th:only-of-type {\n",
       "        vertical-align: middle;\n",
       "    }\n",
       "\n",
       "    .dataframe tbody tr th {\n",
       "        vertical-align: top;\n",
       "    }\n",
       "\n",
       "    .dataframe thead th {\n",
       "        text-align: right;\n",
       "    }\n",
       "</style>\n",
       "<table border=\"1\" class=\"dataframe\">\n",
       "  <thead>\n",
       "    <tr style=\"text-align: right;\">\n",
       "      <th></th>\n",
       "      <th>Time</th>\n",
       "      <th>V1</th>\n",
       "      <th>V2</th>\n",
       "      <th>V3</th>\n",
       "      <th>V4</th>\n",
       "      <th>V5</th>\n",
       "      <th>V6</th>\n",
       "      <th>V7</th>\n",
       "      <th>V8</th>\n",
       "      <th>V9</th>\n",
       "      <th>...</th>\n",
       "      <th>V21</th>\n",
       "      <th>V22</th>\n",
       "      <th>V23</th>\n",
       "      <th>V24</th>\n",
       "      <th>V25</th>\n",
       "      <th>V26</th>\n",
       "      <th>V27</th>\n",
       "      <th>V28</th>\n",
       "      <th>Amount</th>\n",
       "      <th>Class</th>\n",
       "    </tr>\n",
       "  </thead>\n",
       "  <tbody>\n",
       "    <tr>\n",
       "      <th>0</th>\n",
       "      <td>0.0</td>\n",
       "      <td>-1.359807</td>\n",
       "      <td>-0.072781</td>\n",
       "      <td>2.536347</td>\n",
       "      <td>1.378155</td>\n",
       "      <td>-0.338321</td>\n",
       "      <td>0.462388</td>\n",
       "      <td>0.239599</td>\n",
       "      <td>0.098698</td>\n",
       "      <td>0.363787</td>\n",
       "      <td>...</td>\n",
       "      <td>-0.018307</td>\n",
       "      <td>0.277838</td>\n",
       "      <td>-0.110474</td>\n",
       "      <td>0.066928</td>\n",
       "      <td>0.128539</td>\n",
       "      <td>-0.189115</td>\n",
       "      <td>0.133558</td>\n",
       "      <td>-0.021053</td>\n",
       "      <td>149.62</td>\n",
       "      <td>0</td>\n",
       "    </tr>\n",
       "    <tr>\n",
       "      <th>1</th>\n",
       "      <td>0.0</td>\n",
       "      <td>1.191857</td>\n",
       "      <td>0.266151</td>\n",
       "      <td>0.166480</td>\n",
       "      <td>0.448154</td>\n",
       "      <td>0.060018</td>\n",
       "      <td>-0.082361</td>\n",
       "      <td>-0.078803</td>\n",
       "      <td>0.085102</td>\n",
       "      <td>-0.255425</td>\n",
       "      <td>...</td>\n",
       "      <td>-0.225775</td>\n",
       "      <td>-0.638672</td>\n",
       "      <td>0.101288</td>\n",
       "      <td>-0.339846</td>\n",
       "      <td>0.167170</td>\n",
       "      <td>0.125895</td>\n",
       "      <td>-0.008983</td>\n",
       "      <td>0.014724</td>\n",
       "      <td>2.69</td>\n",
       "      <td>0</td>\n",
       "    </tr>\n",
       "    <tr>\n",
       "      <th>2</th>\n",
       "      <td>1.0</td>\n",
       "      <td>-1.358354</td>\n",
       "      <td>-1.340163</td>\n",
       "      <td>1.773209</td>\n",
       "      <td>0.379780</td>\n",
       "      <td>-0.503198</td>\n",
       "      <td>1.800499</td>\n",
       "      <td>0.791461</td>\n",
       "      <td>0.247676</td>\n",
       "      <td>-1.514654</td>\n",
       "      <td>...</td>\n",
       "      <td>0.247998</td>\n",
       "      <td>0.771679</td>\n",
       "      <td>0.909412</td>\n",
       "      <td>-0.689281</td>\n",
       "      <td>-0.327642</td>\n",
       "      <td>-0.139097</td>\n",
       "      <td>-0.055353</td>\n",
       "      <td>-0.059752</td>\n",
       "      <td>378.66</td>\n",
       "      <td>0</td>\n",
       "    </tr>\n",
       "    <tr>\n",
       "      <th>3</th>\n",
       "      <td>1.0</td>\n",
       "      <td>-0.966272</td>\n",
       "      <td>-0.185226</td>\n",
       "      <td>1.792993</td>\n",
       "      <td>-0.863291</td>\n",
       "      <td>-0.010309</td>\n",
       "      <td>1.247203</td>\n",
       "      <td>0.237609</td>\n",
       "      <td>0.377436</td>\n",
       "      <td>-1.387024</td>\n",
       "      <td>...</td>\n",
       "      <td>-0.108300</td>\n",
       "      <td>0.005274</td>\n",
       "      <td>-0.190321</td>\n",
       "      <td>-1.175575</td>\n",
       "      <td>0.647376</td>\n",
       "      <td>-0.221929</td>\n",
       "      <td>0.062723</td>\n",
       "      <td>0.061458</td>\n",
       "      <td>123.50</td>\n",
       "      <td>0</td>\n",
       "    </tr>\n",
       "    <tr>\n",
       "      <th>4</th>\n",
       "      <td>2.0</td>\n",
       "      <td>-1.158233</td>\n",
       "      <td>0.877737</td>\n",
       "      <td>1.548718</td>\n",
       "      <td>0.403034</td>\n",
       "      <td>-0.407193</td>\n",
       "      <td>0.095921</td>\n",
       "      <td>0.592941</td>\n",
       "      <td>-0.270533</td>\n",
       "      <td>0.817739</td>\n",
       "      <td>...</td>\n",
       "      <td>-0.009431</td>\n",
       "      <td>0.798278</td>\n",
       "      <td>-0.137458</td>\n",
       "      <td>0.141267</td>\n",
       "      <td>-0.206010</td>\n",
       "      <td>0.502292</td>\n",
       "      <td>0.219422</td>\n",
       "      <td>0.215153</td>\n",
       "      <td>69.99</td>\n",
       "      <td>0</td>\n",
       "    </tr>\n",
       "  </tbody>\n",
       "</table>\n",
       "<p>5 rows × 31 columns</p>\n",
       "</div>"
      ],
      "text/plain": [
       "   Time        V1        V2        V3        V4        V5        V6        V7  \\\n",
       "0   0.0 -1.359807 -0.072781  2.536347  1.378155 -0.338321  0.462388  0.239599   \n",
       "1   0.0  1.191857  0.266151  0.166480  0.448154  0.060018 -0.082361 -0.078803   \n",
       "2   1.0 -1.358354 -1.340163  1.773209  0.379780 -0.503198  1.800499  0.791461   \n",
       "3   1.0 -0.966272 -0.185226  1.792993 -0.863291 -0.010309  1.247203  0.237609   \n",
       "4   2.0 -1.158233  0.877737  1.548718  0.403034 -0.407193  0.095921  0.592941   \n",
       "\n",
       "         V8        V9  ...       V21       V22       V23       V24       V25  \\\n",
       "0  0.098698  0.363787  ... -0.018307  0.277838 -0.110474  0.066928  0.128539   \n",
       "1  0.085102 -0.255425  ... -0.225775 -0.638672  0.101288 -0.339846  0.167170   \n",
       "2  0.247676 -1.514654  ...  0.247998  0.771679  0.909412 -0.689281 -0.327642   \n",
       "3  0.377436 -1.387024  ... -0.108300  0.005274 -0.190321 -1.175575  0.647376   \n",
       "4 -0.270533  0.817739  ... -0.009431  0.798278 -0.137458  0.141267 -0.206010   \n",
       "\n",
       "        V26       V27       V28  Amount  Class  \n",
       "0 -0.189115  0.133558 -0.021053  149.62      0  \n",
       "1  0.125895 -0.008983  0.014724    2.69      0  \n",
       "2 -0.139097 -0.055353 -0.059752  378.66      0  \n",
       "3 -0.221929  0.062723  0.061458  123.50      0  \n",
       "4  0.502292  0.219422  0.215153   69.99      0  \n",
       "\n",
       "[5 rows x 31 columns]"
      ]
     },
     "execution_count": 6,
     "metadata": {},
     "output_type": "execute_result"
    }
   ],
   "source": [
    "ifile = '../data/raw/creditcard.csv.zip'\n",
    "df = pd.read_csv(ifile,compression='zip')\n",
    "print(df.shape)\n",
    "df.head()"
   ]
  },
  {
   "cell_type": "code",
   "execution_count": 7,
   "metadata": {
    "ExecuteTime": {
     "end_time": "2021-08-10T17:34:16.036829Z",
     "start_time": "2021-08-10T17:34:15.813915Z"
    },
    "colab": {
     "base_uri": "https://localhost:8080/",
     "height": 70
    },
    "colab_type": "code",
    "id": "Q2xN1zIZ0_k-",
    "outputId": "fcf5f699-b5a6-45c8-c9da-d24ec54821fc"
   },
   "outputs": [
    {
     "data": {
      "text/plain": [
       "0    99.827251\n",
       "1     0.172749\n",
       "Name: Class, dtype: float64"
      ]
     },
     "execution_count": 7,
     "metadata": {},
     "output_type": "execute_result"
    }
   ],
   "source": [
    "target = 'Class'\n",
    "df[target].value_counts(normalize=True)*100"
   ]
  },
  {
   "cell_type": "markdown",
   "metadata": {
    "colab_type": "text",
    "id": "fTvH3c6a1D8m"
   },
   "source": [
    "# Train test split with stratify"
   ]
  },
  {
   "cell_type": "code",
   "execution_count": 8,
   "metadata": {
    "ExecuteTime": {
     "end_time": "2021-08-10T17:34:16.680904Z",
     "start_time": "2021-08-10T17:34:16.039286Z"
    },
    "colab": {
     "base_uri": "https://localhost:8080/",
     "height": 235
    },
    "colab_type": "code",
    "id": "1AH6lRaO1H-4",
    "outputId": "748c2677-fbc3-49b5-8fd6-abd3a5a8a43a"
   },
   "outputs": [],
   "source": [
    "from sklearn.model_selection import train_test_split\n",
    "\n",
    "target = 'Class'\n",
    "df_Xtrain_orig, df_Xtest, ser_ytrain_orig, ser_ytest = train_test_split(\n",
    "    df.drop(target,axis=1), \n",
    "    df[target],\n",
    "    test_size=0.2, \n",
    "    random_state=SEED, \n",
    "    stratify=df[target])\n",
    "\n",
    "ytrain_orig = ser_ytrain_orig.to_numpy().ravel()\n",
    "ytest = ser_ytest.to_numpy().ravel()"
   ]
  },
  {
   "cell_type": "markdown",
   "metadata": {
    "colab_type": "text",
    "id": "dzb7P4ZdM3c2"
   },
   "source": [
    "# Train Validation with stratify"
   ]
  },
  {
   "cell_type": "code",
   "execution_count": 9,
   "metadata": {
    "ExecuteTime": {
     "end_time": "2021-08-10T17:34:17.087754Z",
     "start_time": "2021-08-10T17:34:16.688851Z"
    },
    "colab": {
     "base_uri": "https://localhost:8080/",
     "height": 34
    },
    "colab_type": "code",
    "id": "I96itfQwM7qD",
    "outputId": "b50497f8-8daf-4d7d-d54e-e478fce5e54f"
   },
   "outputs": [
    {
     "name": "stdout",
     "output_type": "stream",
     "text": [
      "(182276, 30)\n"
     ]
    },
    {
     "data": {
      "text/html": [
       "<div>\n",
       "<style scoped>\n",
       "    .dataframe tbody tr th:only-of-type {\n",
       "        vertical-align: middle;\n",
       "    }\n",
       "\n",
       "    .dataframe tbody tr th {\n",
       "        vertical-align: top;\n",
       "    }\n",
       "\n",
       "    .dataframe thead th {\n",
       "        text-align: right;\n",
       "    }\n",
       "</style>\n",
       "<table border=\"1\" class=\"dataframe\">\n",
       "  <thead>\n",
       "    <tr style=\"text-align: right;\">\n",
       "      <th></th>\n",
       "      <th>Time</th>\n",
       "      <th>V1</th>\n",
       "      <th>V2</th>\n",
       "      <th>V3</th>\n",
       "      <th>V4</th>\n",
       "      <th>V5</th>\n",
       "      <th>V6</th>\n",
       "      <th>V7</th>\n",
       "      <th>V8</th>\n",
       "      <th>V9</th>\n",
       "      <th>...</th>\n",
       "      <th>V20</th>\n",
       "      <th>V21</th>\n",
       "      <th>V22</th>\n",
       "      <th>V23</th>\n",
       "      <th>V24</th>\n",
       "      <th>V25</th>\n",
       "      <th>V26</th>\n",
       "      <th>V27</th>\n",
       "      <th>V28</th>\n",
       "      <th>Amount</th>\n",
       "    </tr>\n",
       "  </thead>\n",
       "  <tbody>\n",
       "    <tr>\n",
       "      <th>138257</th>\n",
       "      <td>82565.0</td>\n",
       "      <td>1.118591</td>\n",
       "      <td>0.562709</td>\n",
       "      <td>0.569628</td>\n",
       "      <td>2.987496</td>\n",
       "      <td>-0.365594</td>\n",
       "      <td>-0.531789</td>\n",
       "      <td>-0.044144</td>\n",
       "      <td>0.011932</td>\n",
       "      <td>-0.129131</td>\n",
       "      <td>...</td>\n",
       "      <td>-0.204184</td>\n",
       "      <td>-0.128269</td>\n",
       "      <td>-0.218875</td>\n",
       "      <td>-0.048816</td>\n",
       "      <td>0.617265</td>\n",
       "      <td>0.551384</td>\n",
       "      <td>0.060220</td>\n",
       "      <td>0.016136</td>\n",
       "      <td>0.047100</td>\n",
       "      <td>7.6</td>\n",
       "    </tr>\n",
       "    <tr>\n",
       "      <th>60033</th>\n",
       "      <td>49125.0</td>\n",
       "      <td>1.170686</td>\n",
       "      <td>0.083759</td>\n",
       "      <td>0.466278</td>\n",
       "      <td>0.913911</td>\n",
       "      <td>-0.093123</td>\n",
       "      <td>0.427588</td>\n",
       "      <td>-0.372727</td>\n",
       "      <td>0.312777</td>\n",
       "      <td>0.129610</td>\n",
       "      <td>...</td>\n",
       "      <td>-0.226078</td>\n",
       "      <td>-0.176121</td>\n",
       "      <td>-0.584726</td>\n",
       "      <td>0.066051</td>\n",
       "      <td>-0.746667</td>\n",
       "      <td>0.232641</td>\n",
       "      <td>-0.547740</td>\n",
       "      <td>0.038060</td>\n",
       "      <td>0.010995</td>\n",
       "      <td>3.9</td>\n",
       "    </tr>\n",
       "    <tr>\n",
       "      <th>31064</th>\n",
       "      <td>36195.0</td>\n",
       "      <td>1.072902</td>\n",
       "      <td>-0.015166</td>\n",
       "      <td>0.942251</td>\n",
       "      <td>1.330631</td>\n",
       "      <td>-0.580474</td>\n",
       "      <td>0.206235</td>\n",
       "      <td>-0.402121</td>\n",
       "      <td>0.313133</td>\n",
       "      <td>0.410088</td>\n",
       "      <td>...</td>\n",
       "      <td>-0.251464</td>\n",
       "      <td>-0.261720</td>\n",
       "      <td>-0.665725</td>\n",
       "      <td>0.167535</td>\n",
       "      <td>0.163815</td>\n",
       "      <td>0.192247</td>\n",
       "      <td>-0.620974</td>\n",
       "      <td>0.050609</td>\n",
       "      <td>0.019181</td>\n",
       "      <td>9.9</td>\n",
       "    </tr>\n",
       "    <tr>\n",
       "      <th>245706</th>\n",
       "      <td>152869.0</td>\n",
       "      <td>2.136909</td>\n",
       "      <td>0.088646</td>\n",
       "      <td>-2.490914</td>\n",
       "      <td>0.098321</td>\n",
       "      <td>0.789008</td>\n",
       "      <td>-1.399582</td>\n",
       "      <td>0.854902</td>\n",
       "      <td>-0.492912</td>\n",
       "      <td>-0.254999</td>\n",
       "      <td>...</td>\n",
       "      <td>-0.266383</td>\n",
       "      <td>0.278034</td>\n",
       "      <td>0.934892</td>\n",
       "      <td>-0.211839</td>\n",
       "      <td>-0.234266</td>\n",
       "      <td>0.609699</td>\n",
       "      <td>1.020898</td>\n",
       "      <td>-0.154427</td>\n",
       "      <td>-0.112532</td>\n",
       "      <td>2.0</td>\n",
       "    </tr>\n",
       "    <tr>\n",
       "      <th>25871</th>\n",
       "      <td>33805.0</td>\n",
       "      <td>-2.448378</td>\n",
       "      <td>-1.335508</td>\n",
       "      <td>1.240431</td>\n",
       "      <td>1.800068</td>\n",
       "      <td>0.383084</td>\n",
       "      <td>-0.501160</td>\n",
       "      <td>1.080410</td>\n",
       "      <td>-0.604093</td>\n",
       "      <td>-0.319458</td>\n",
       "      <td>...</td>\n",
       "      <td>-0.720572</td>\n",
       "      <td>-0.121319</td>\n",
       "      <td>0.625541</td>\n",
       "      <td>-0.639100</td>\n",
       "      <td>0.522532</td>\n",
       "      <td>-0.073801</td>\n",
       "      <td>-0.162788</td>\n",
       "      <td>0.294912</td>\n",
       "      <td>-0.211222</td>\n",
       "      <td>411.1</td>\n",
       "    </tr>\n",
       "  </tbody>\n",
       "</table>\n",
       "<p>5 rows × 30 columns</p>\n",
       "</div>"
      ],
      "text/plain": [
       "            Time        V1        V2        V3        V4        V5        V6  \\\n",
       "138257   82565.0  1.118591  0.562709  0.569628  2.987496 -0.365594 -0.531789   \n",
       "60033    49125.0  1.170686  0.083759  0.466278  0.913911 -0.093123  0.427588   \n",
       "31064    36195.0  1.072902 -0.015166  0.942251  1.330631 -0.580474  0.206235   \n",
       "245706  152869.0  2.136909  0.088646 -2.490914  0.098321  0.789008 -1.399582   \n",
       "25871    33805.0 -2.448378 -1.335508  1.240431  1.800068  0.383084 -0.501160   \n",
       "\n",
       "              V7        V8        V9  ...       V20       V21       V22  \\\n",
       "138257 -0.044144  0.011932 -0.129131  ... -0.204184 -0.128269 -0.218875   \n",
       "60033  -0.372727  0.312777  0.129610  ... -0.226078 -0.176121 -0.584726   \n",
       "31064  -0.402121  0.313133  0.410088  ... -0.251464 -0.261720 -0.665725   \n",
       "245706  0.854902 -0.492912 -0.254999  ... -0.266383  0.278034  0.934892   \n",
       "25871   1.080410 -0.604093 -0.319458  ... -0.720572 -0.121319  0.625541   \n",
       "\n",
       "             V23       V24       V25       V26       V27       V28  Amount  \n",
       "138257 -0.048816  0.617265  0.551384  0.060220  0.016136  0.047100     7.6  \n",
       "60033   0.066051 -0.746667  0.232641 -0.547740  0.038060  0.010995     3.9  \n",
       "31064   0.167535  0.163815  0.192247 -0.620974  0.050609  0.019181     9.9  \n",
       "245706 -0.211839 -0.234266  0.609699  1.020898 -0.154427 -0.112532     2.0  \n",
       "25871  -0.639100  0.522532 -0.073801 -0.162788  0.294912 -0.211222   411.1  \n",
       "\n",
       "[5 rows x 30 columns]"
      ]
     },
     "execution_count": 9,
     "metadata": {},
     "output_type": "execute_result"
    }
   ],
   "source": [
    "df_Xtrain, df_Xvalid, ser_ytrain, ser_yvalid = train_test_split(\n",
    "    df_Xtrain_orig, \n",
    "    ser_ytrain_orig,\n",
    "    test_size=0.2, \n",
    "    random_state=SEED, \n",
    "    stratify=ser_ytrain_orig)\n",
    "\n",
    "ytrain = ser_ytrain.to_numpy().ravel()\n",
    "ytest = ser_ytest.to_numpy().ravel()\n",
    "Xvalid = df_Xvalid.to_numpy()\n",
    "yvalid = ser_yvalid.to_numpy().ravel()\n",
    "\n",
    "print(df_Xtrain.shape)\n",
    "df_Xtrain.head()"
   ]
  },
  {
   "cell_type": "markdown",
   "metadata": {
    "colab_type": "text",
    "id": "33N72LeW1LO7"
   },
   "source": [
    "# Modelling xgboost imbalanced data\n",
    "```python\n",
    "Parameters:\n",
    "-------------\n",
    "max_depth=3\n",
    "learning_rate=0.1\n",
    "n_estimators=100\n",
    "verbosity=1 **NOTE: it print in ipython terminal not in browser\n",
    "silent=None **deprecated use verbosity\n",
    "objective='binary:logistic' **for binary classification\n",
    "booster='gbtree' **use default tree not linear\n",
    "n_jobs=1 **make this -1\n",
    "nthread=None **deprecated use n_jobs\n",
    "gamma=0\n",
    "min_child_weight=1\n",
    "max_delta_step=0\n",
    "subsample=1\n",
    "colsample_bytree=1\n",
    "colsample_bylevel=1\n",
    "colsample_bynode=1\n",
    "reg_alpha=0\n",
    "reg_lambda=1\n",
    "scale_pos_weight=1\n",
    "base_score=0.5\n",
    "random_state=0 **use your own random state\n",
    "seed=None      **deprecated use random_state\n",
    "missing=None\n",
    "```\n",
    "\n",
    "\n",
    "[early stopping xgboost official note](https://xgboost.readthedocs.io/en/latest/python/python_intro.html):  \n",
    "\n",
    "\n",
    "If early stopping occurs, the model will have three additional fields: bst.best_score, bst.best_iteration and bst.best_ntree_limit.\n",
    " Note that xgboost.train() will return a model from the last iteration, not the best one.\n",
    "[Example](https://github.com/dmlc/xgboost/blob/master/demo/guide-python/sklearn_examples.py)\n",
    "```python\n",
    "clf = xgb.XGBClassifier()\n",
    "clf.fit(X_train, y_train, early_stopping_rounds=10, eval_metric=\"auc\",\n",
    "        eval_set=[(X_test, y_test)])\n",
    "\n",
    "```"
   ]
  },
  {
   "cell_type": "markdown",
   "metadata": {},
   "source": [
    "## Default Method"
   ]
  },
  {
   "cell_type": "code",
   "execution_count": 10,
   "metadata": {
    "ExecuteTime": {
     "end_time": "2021-08-10T17:34:17.349475Z",
     "start_time": "2021-08-10T17:34:17.099730Z"
    }
   },
   "outputs": [
    {
     "data": {
      "text/plain": [
       "138257    0\n",
       "60033     0\n",
       "31064     0\n",
       "245706    0\n",
       "25871     0\n",
       "Name: Class, dtype: int64"
      ]
     },
     "execution_count": 10,
     "metadata": {},
     "output_type": "execute_result"
    }
   ],
   "source": [
    "ser_ytrain[:5]"
   ]
  },
  {
   "cell_type": "code",
   "execution_count": 11,
   "metadata": {
    "ExecuteTime": {
     "end_time": "2021-08-10T17:34:26.538306Z",
     "start_time": "2021-08-10T17:34:17.453523Z"
    }
   },
   "outputs": [
    {
     "name": "stdout",
     "output_type": "stream",
     "text": [
      "XGBClassifier(base_score=0.5, booster='gbtree', colsample_bylevel=1,\n",
      "              colsample_bynode=1, colsample_bytree=1, eval_metric='logloss',\n",
      "              gamma=0, gpu_id=-1, importance_type='gain',\n",
      "              interaction_constraints='', learning_rate=0.300000012,\n",
      "              max_delta_step=0, max_depth=6, min_child_weight=1, missing=nan,\n",
      "              monotone_constraints='()', n_estimators=10, n_jobs=4,\n",
      "              num_parallel_tree=1, random_state=0, reg_alpha=0, reg_lambda=1,\n",
      "              scale_pos_weight=1, subsample=1, tree_method='exact',\n",
      "              use_label_encoder=False, validate_parameters=1, verbosity=None)\n",
      "CPU times: user 16.7 s, sys: 266 ms, total: 16.9 s\n",
      "Wall time: 8.95 s\n"
     ]
    }
   ],
   "source": [
    "%%time\n",
    "from xgboost import XGBClassifier\n",
    "\n",
    "model = XGBClassifier(random_state=SEED,\n",
    "                      objective = \"binary:logistic\",\n",
    "                      eval_metric='logloss',\n",
    "                      use_label_encoder=False,\n",
    "                      n_estimators=10 # make it large\n",
    "                     )\n",
    "model.fit(df_Xtrain,ser_ytrain.values)\n",
    "print(model)"
   ]
  },
  {
   "cell_type": "code",
   "execution_count": 12,
   "metadata": {
    "ExecuteTime": {
     "end_time": "2021-08-10T17:34:26.679904Z",
     "start_time": "2021-08-10T17:34:26.542238Z"
    }
   },
   "outputs": [
    {
     "data": {
      "text/html": [
       "<div>\n",
       "<style scoped>\n",
       "    .dataframe tbody tr th:only-of-type {\n",
       "        vertical-align: middle;\n",
       "    }\n",
       "\n",
       "    .dataframe tbody tr th {\n",
       "        vertical-align: top;\n",
       "    }\n",
       "\n",
       "    .dataframe thead th {\n",
       "        text-align: right;\n",
       "    }\n",
       "</style>\n",
       "<table border=\"1\" class=\"dataframe\">\n",
       "  <thead>\n",
       "    <tr style=\"text-align: right;\">\n",
       "      <th></th>\n",
       "      <th>0</th>\n",
       "      <th>1</th>\n",
       "      <th>2</th>\n",
       "      <th>3</th>\n",
       "      <th>4</th>\n",
       "    </tr>\n",
       "  </thead>\n",
       "  <tbody>\n",
       "    <tr>\n",
       "      <th>0</th>\n",
       "      <td>apply</td>\n",
       "      <td>fit</td>\n",
       "      <td>kwargs</td>\n",
       "      <td>n_features_in_</td>\n",
       "      <td>save_model</td>\n",
       "    </tr>\n",
       "    <tr>\n",
       "      <th>1</th>\n",
       "      <td>base_score</td>\n",
       "      <td>gamma</td>\n",
       "      <td>learning_rate</td>\n",
       "      <td>n_jobs</td>\n",
       "      <td>scale_pos_weight</td>\n",
       "    </tr>\n",
       "    <tr>\n",
       "      <th>2</th>\n",
       "      <td>booster</td>\n",
       "      <td>get_booster</td>\n",
       "      <td>load_model</td>\n",
       "      <td>num_parallel_tree</td>\n",
       "      <td>score</td>\n",
       "    </tr>\n",
       "    <tr>\n",
       "      <th>3</th>\n",
       "      <td>classes_</td>\n",
       "      <td>get_num_boosting_rounds</td>\n",
       "      <td>max_delta_step</td>\n",
       "      <td>objective</td>\n",
       "      <td>set_params</td>\n",
       "    </tr>\n",
       "    <tr>\n",
       "      <th>4</th>\n",
       "      <td>coef_</td>\n",
       "      <td>get_params</td>\n",
       "      <td>max_depth</td>\n",
       "      <td>predict</td>\n",
       "      <td>subsample</td>\n",
       "    </tr>\n",
       "    <tr>\n",
       "      <th>5</th>\n",
       "      <td>colsample_bylevel</td>\n",
       "      <td>get_xgb_params</td>\n",
       "      <td>min_child_weight</td>\n",
       "      <td>predict_proba</td>\n",
       "      <td>tree_method</td>\n",
       "    </tr>\n",
       "    <tr>\n",
       "      <th>6</th>\n",
       "      <td>colsample_bynode</td>\n",
       "      <td>gpu_id</td>\n",
       "      <td>missing</td>\n",
       "      <td>random_state</td>\n",
       "      <td>use_label_encoder</td>\n",
       "    </tr>\n",
       "    <tr>\n",
       "      <th>7</th>\n",
       "      <td>colsample_bytree</td>\n",
       "      <td>importance_type</td>\n",
       "      <td>monotone_constraints</td>\n",
       "      <td>reg_alpha</td>\n",
       "      <td>validate_parameters</td>\n",
       "    </tr>\n",
       "    <tr>\n",
       "      <th>8</th>\n",
       "      <td>evals_result</td>\n",
       "      <td>interaction_constraints</td>\n",
       "      <td>n_classes_</td>\n",
       "      <td>reg_lambda</td>\n",
       "      <td>verbosity</td>\n",
       "    </tr>\n",
       "    <tr>\n",
       "      <th>9</th>\n",
       "      <td>feature_importances_</td>\n",
       "      <td>intercept_</td>\n",
       "      <td>n_estimators</td>\n",
       "      <td></td>\n",
       "      <td></td>\n",
       "    </tr>\n",
       "  </tbody>\n",
       "</table>\n",
       "</div>"
      ],
      "text/plain": [
       "                      0                        1                     2  \\\n",
       "0                 apply                      fit                kwargs   \n",
       "1            base_score                    gamma         learning_rate   \n",
       "2               booster              get_booster            load_model   \n",
       "3              classes_  get_num_boosting_rounds        max_delta_step   \n",
       "4                 coef_               get_params             max_depth   \n",
       "5     colsample_bylevel           get_xgb_params      min_child_weight   \n",
       "6      colsample_bynode                   gpu_id               missing   \n",
       "7      colsample_bytree          importance_type  monotone_constraints   \n",
       "8          evals_result  interaction_constraints            n_classes_   \n",
       "9  feature_importances_               intercept_          n_estimators   \n",
       "\n",
       "                   3                    4  \n",
       "0     n_features_in_           save_model  \n",
       "1             n_jobs     scale_pos_weight  \n",
       "2  num_parallel_tree                score  \n",
       "3          objective           set_params  \n",
       "4            predict            subsample  \n",
       "5      predict_proba          tree_method  \n",
       "6       random_state    use_label_encoder  \n",
       "7          reg_alpha  validate_parameters  \n",
       "8         reg_lambda            verbosity  \n",
       "9                                          "
      ]
     },
     "execution_count": 12,
     "metadata": {},
     "output_type": "execute_result"
    }
   ],
   "source": [
    "bp.show_methods(model,5)"
   ]
  },
  {
   "cell_type": "code",
   "execution_count": 13,
   "metadata": {
    "ExecuteTime": {
     "end_time": "2021-08-10T17:34:26.798806Z",
     "start_time": "2021-08-10T17:34:26.686799Z"
    }
   },
   "outputs": [],
   "source": [
    "# model.score? # mean accuracy"
   ]
  },
  {
   "cell_type": "code",
   "execution_count": 14,
   "metadata": {
    "ExecuteTime": {
     "end_time": "2021-08-10T17:34:26.916771Z",
     "start_time": "2021-08-10T17:34:26.802513Z"
    }
   },
   "outputs": [
    {
     "data": {
      "text/plain": [
       "0.999420666409185"
      ]
     },
     "execution_count": 14,
     "metadata": {},
     "output_type": "execute_result"
    }
   ],
   "source": [
    "acc = model.score(df_Xtest,ser_ytest.values)\n",
    "acc"
   ]
  },
  {
   "cell_type": "code",
   "execution_count": 15,
   "metadata": {
    "ExecuteTime": {
     "end_time": "2021-08-10T17:34:27.099802Z",
     "start_time": "2021-08-10T17:34:26.919703Z"
    }
   },
   "outputs": [
    {
     "name": "stdout",
     "output_type": "stream",
     "text": [
      "accuracy:  0.999420666409185\n"
     ]
    },
    {
     "data": {
      "text/plain": [
       "(array([0, 0, 0, 0, 0]), 77)"
      ]
     },
     "execution_count": 15,
     "metadata": {},
     "output_type": "execute_result"
    }
   ],
   "source": [
    "ypreds = model.predict(df_Xtest)\n",
    "\n",
    "acc = sklearn.metrics.accuracy_score(ser_ytest.values,ypreds)\n",
    "print('accuracy: ', acc)\n",
    "ypreds[:5], sum(ypreds)"
   ]
  },
  {
   "cell_type": "code",
   "execution_count": 16,
   "metadata": {
    "ExecuteTime": {
     "end_time": "2021-08-10T17:34:27.268345Z",
     "start_time": "2021-08-10T17:34:27.103928Z"
    }
   },
   "outputs": [
    {
     "name": "stdout",
     "output_type": "stream",
     "text": [
      "AUC =  0.9155406060144936\n"
     ]
    }
   ],
   "source": [
    "yprobs1d = model.predict_proba(df_Xtest)[:,1] # take second column\n",
    "\n",
    "auc = roc_auc_score(ser_ytest.to_numpy().ravel(),yprobs1d)\n",
    "print('AUC = ', auc)"
   ]
  },
  {
   "cell_type": "code",
   "execution_count": 17,
   "metadata": {
    "ExecuteTime": {
     "end_time": "2021-08-10T17:34:27.469580Z",
     "start_time": "2021-08-10T17:34:27.274788Z"
    }
   },
   "outputs": [
    {
     "name": "stdout",
     "output_type": "stream",
     "text": [
      "profit = $22,400\n"
     ]
    }
   ],
   "source": [
    "profit = get_profit(ser_ytest.to_numpy().ravel(), ypreds)\n",
    "print(f\"profit = ${profit:,}\")"
   ]
  },
  {
   "cell_type": "markdown",
   "metadata": {},
   "source": [
    "## Using custom eval function (Not custom objective function with feval)\n",
    "- https://xgboost.readthedocs.io/en/latest/tutorials/custom_metric_obj.html\n",
    "- https://github.com/dmlc/xgboost/issues/1125"
   ]
  },
  {
   "cell_type": "code",
   "execution_count": 18,
   "metadata": {
    "ExecuteTime": {
     "end_time": "2021-08-10T17:34:27.581222Z",
     "start_time": "2021-08-10T17:34:27.475552Z"
    }
   },
   "outputs": [],
   "source": [
    "# https://github.com/dmlc/xgboost/issues/1125\n",
    "def eval_profit(logodds, dtrain):\n",
    "    \"\"\"Custom evaluation metric for xgboost.\n",
    "\n",
    "    Usage:\n",
    "    -------\n",
    "    PARAMS_FIT = dict(\n",
    "        early_stopping_rounds=5, #y_pred = model.predict(X, ntree_limit=model.best_ntree_limit)\n",
    "        verbose=10,\n",
    "        eval_set= [(df_Xtrain,ser_ytrain),(df_Xvalid,ser_yvalid)], # for two tuples, we get validation_0 and 1.\n",
    "        eval_metric=eval_profit,\n",
    "    )\n",
    "    \n",
    "    model = XGBClassifier()\n",
    "    model.fit(X,y,**PARAMS_FIT)\n",
    "    evals_result = model.evals_result()\n",
    "    df_eval1 = pd.DataFrame(evals_result['validation_1'])\n",
    "    \"\"\"\n",
    "    y_prob = 1.0 / (1.0 + np.exp(-logodds))\n",
    "    labels = dtrain.get_label()\n",
    "\n",
    "    # profit\n",
    "    y_pred = (np.array(y_prob)>0.5).astype(np.int8)\n",
    "    tn, fp, fn, tp = sklearn.metrics.confusion_matrix(labels,y_pred).ravel()\n",
    "    profit = 400*tp - 200*fn - 100*fp\n",
    "    return 'profit',profit"
   ]
  },
  {
   "cell_type": "code",
   "execution_count": 19,
   "metadata": {
    "ExecuteTime": {
     "end_time": "2021-08-10T17:34:27.672734Z",
     "start_time": "2021-08-10T17:34:27.584728Z"
    }
   },
   "outputs": [],
   "source": [
    "# https://github.com/dmlc/xgboost/issues/1125\n",
    "def eval_auc_aucpr_profit(logodds, dtrain):\n",
    "    \"\"\"Custom evaluation metric for xgboost.\n",
    "\n",
    "    Usage:\n",
    "    -------\n",
    "    PARAMS_FIT = dict(\n",
    "        early_stopping_rounds=5, #y_pred = model.predict(X, ntree_limit=model.best_ntree_limit)\n",
    "        verbose=10,\n",
    "        eval_set= [(df_Xtrain,ser_ytrain),(df_Xvalid,ser_yvalid)], # for two tuples, we get validation_0 and 1.\n",
    "        eval_metric=eval_auc_aucpr_profit,\n",
    "    )\n",
    "    \n",
    "    model = XGBClassifier()\n",
    "    model.fit(X,y,**PARAMS_FIT)\n",
    "    evals_result = model.evals_result()\n",
    "    df_eval1 = pd.DataFrame(evals_result['validation_1'])\n",
    "    \"\"\"\n",
    "\n",
    "    y_prob = 1.0 / (1.0 + np.exp(-logodds))\n",
    "    labels = dtrain.get_label()\n",
    "\n",
    "    # auc\n",
    "    auc = sklearn.metrics.roc_auc_score(labels, y_prob)\n",
    "    \n",
    "    # aucpr\n",
    "    pre,rec,thr = sklearn.metrics.precision_recall_curve(labels,y_prob)\n",
    "    aucpr = sklearn.metrics.auc(rec,pre)\n",
    "\n",
    "    # profit\n",
    "    y_pred = (np.array(y_prob)>0.5).astype(np.int8)\n",
    "    tn, fp, fn, tp = sklearn.metrics.confusion_matrix(labels,y_pred).ravel()\n",
    "    profit = 400*tp - 200*fn - 100*fp\n",
    "    return [('auc', auc), ('aucpr', aucpr),('profit',profit)]"
   ]
  },
  {
   "cell_type": "code",
   "execution_count": 20,
   "metadata": {
    "ExecuteTime": {
     "end_time": "2021-08-10T17:34:32.462254Z",
     "start_time": "2021-08-10T17:34:27.675910Z"
    }
   },
   "outputs": [
    {
     "name": "stdout",
     "output_type": "stream",
     "text": [
      "[0]\tvalidation_0-logloss:0.43780\tvalidation_0-auc:0.91259\tvalidation_0-aucpr:0.86564\tvalidation_0-profit:86500.00000\tvalidation_1-logloss:0.43788\tvalidation_1-auc:0.94924\tvalidation_1-aucpr:0.87099\tvalidation_1-profit:19900.00000\n",
      "[4]\tvalidation_0-logloss:0.10771\tvalidation_0-auc:0.91575\tvalidation_0-aucpr:0.87211\tvalidation_0-profit:91800.00000\tvalidation_1-logloss:0.10767\tvalidation_1-auc:0.96824\tvalidation_1-aucpr:0.90433\tvalidation_1-profit:21600.00000\n",
      "CPU times: user 13.9 s, sys: 213 ms, total: 14.1 s\n",
      "Wall time: 4.7 s\n"
     ]
    },
    {
     "data": {
      "text/plain": [
       "XGBClassifier(base_score=0.5, booster='gbtree', colsample_bylevel=1,\n",
       "              colsample_bynode=1, colsample_bytree=1, eval_metric='logloss',\n",
       "              gamma=0, gpu_id=-1, importance_type='gain',\n",
       "              interaction_constraints='', learning_rate=0.300000012,\n",
       "              max_delta_step=0, max_depth=6, min_child_weight=1, missing=nan,\n",
       "              monotone_constraints='()', n_estimators=20, n_jobs=4,\n",
       "              num_parallel_tree=1, random_state=0, reg_alpha=0, reg_lambda=1,\n",
       "              scale_pos_weight=1, subsample=1, tree_method='exact',\n",
       "              use_label_encoder=False, validate_parameters=1, verbosity=None)"
      ]
     },
     "execution_count": 20,
     "metadata": {},
     "output_type": "execute_result"
    }
   ],
   "source": [
    "%%time\n",
    "from xgboost import XGBClassifier\n",
    "\n",
    "model = XGBClassifier(random_state=SEED,\n",
    "                      objective = \"binary:logistic\",\n",
    "                      eval_metric='logloss',\n",
    "                      use_label_encoder=False,\n",
    "                      n_estimators=20, # make it large\n",
    "                     )\n",
    "\n",
    "PARAMS_FIT = dict(\n",
    "    early_stopping_rounds=5, #y_pred = model.predict(X, ntree_limit=model.best_ntree_limit)\n",
    "    verbose=10,\n",
    "    eval_set= [(df_Xtrain,ser_ytrain),(df_Xvalid,ser_yvalid)], # for two tuples, we get validation_0 and 1.\n",
    "    eval_metric=eval_auc_aucpr_profit, # NOTE: xvalid uses eval_metric for early stop.\n",
    "    )\n",
    "\n",
    "\n",
    "model.fit(df_Xtrain,ser_ytrain.values,**PARAMS_FIT)"
   ]
  },
  {
   "cell_type": "code",
   "execution_count": 21,
   "metadata": {
    "ExecuteTime": {
     "end_time": "2021-08-10T17:34:32.593406Z",
     "start_time": "2021-08-10T17:34:32.464509Z"
    }
   },
   "outputs": [
    {
     "data": {
      "text/plain": [
       "dict_keys(['validation_0', 'validation_1'])"
      ]
     },
     "execution_count": 21,
     "metadata": {},
     "output_type": "execute_result"
    }
   ],
   "source": [
    "evals_result = model.evals_result()\n",
    "evals_result.keys() # how many datasets are in eval_set?"
   ]
  },
  {
   "cell_type": "code",
   "execution_count": 22,
   "metadata": {
    "ExecuteTime": {
     "end_time": "2021-08-10T17:34:32.719123Z",
     "start_time": "2021-08-10T17:34:32.598512Z"
    }
   },
   "outputs": [],
   "source": [
    "dfs_evals_result = []\n",
    "for key in evals_result.keys():\n",
    "    _ = pd.DataFrame(evals_result[key])\n",
    "    _.index.name = key\n",
    "    dfs_evals_result.append(_)"
   ]
  },
  {
   "cell_type": "code",
   "execution_count": 23,
   "metadata": {
    "ExecuteTime": {
     "end_time": "2021-08-10T17:34:32.828972Z",
     "start_time": "2021-08-10T17:34:32.731868Z"
    }
   },
   "outputs": [
    {
     "data": {
      "text/html": [
       "<div>\n",
       "<style scoped>\n",
       "    .dataframe tbody tr th:only-of-type {\n",
       "        vertical-align: middle;\n",
       "    }\n",
       "\n",
       "    .dataframe tbody tr th {\n",
       "        vertical-align: top;\n",
       "    }\n",
       "\n",
       "    .dataframe thead th {\n",
       "        text-align: right;\n",
       "    }\n",
       "</style>\n",
       "<table border=\"1\" class=\"dataframe\">\n",
       "  <thead>\n",
       "    <tr style=\"text-align: right;\">\n",
       "      <th></th>\n",
       "      <th>logloss</th>\n",
       "      <th>auc</th>\n",
       "      <th>aucpr</th>\n",
       "      <th>profit</th>\n",
       "    </tr>\n",
       "    <tr>\n",
       "      <th>validation_0</th>\n",
       "      <th></th>\n",
       "      <th></th>\n",
       "      <th></th>\n",
       "      <th></th>\n",
       "    </tr>\n",
       "  </thead>\n",
       "  <tbody>\n",
       "    <tr>\n",
       "      <th>0</th>\n",
       "      <td>0.437801</td>\n",
       "      <td>0.912590</td>\n",
       "      <td>0.865638</td>\n",
       "      <td>86500.0</td>\n",
       "    </tr>\n",
       "    <tr>\n",
       "      <th>1</th>\n",
       "      <td>0.297067</td>\n",
       "      <td>0.912593</td>\n",
       "      <td>0.868193</td>\n",
       "      <td>86500.0</td>\n",
       "    </tr>\n",
       "    <tr>\n",
       "      <th>2</th>\n",
       "      <td>0.208065</td>\n",
       "      <td>0.915748</td>\n",
       "      <td>0.868741</td>\n",
       "      <td>90000.0</td>\n",
       "    </tr>\n",
       "    <tr>\n",
       "      <th>3</th>\n",
       "      <td>0.148686</td>\n",
       "      <td>0.915746</td>\n",
       "      <td>0.868922</td>\n",
       "      <td>91800.0</td>\n",
       "    </tr>\n",
       "    <tr>\n",
       "      <th>4</th>\n",
       "      <td>0.107707</td>\n",
       "      <td>0.915747</td>\n",
       "      <td>0.872107</td>\n",
       "      <td>91800.0</td>\n",
       "    </tr>\n",
       "    <tr>\n",
       "      <th>5</th>\n",
       "      <td>0.078608</td>\n",
       "      <td>0.917326</td>\n",
       "      <td>0.872466</td>\n",
       "      <td>91900.0</td>\n",
       "    </tr>\n",
       "  </tbody>\n",
       "</table>\n",
       "</div>"
      ],
      "text/plain": [
       "               logloss       auc     aucpr   profit\n",
       "validation_0                                       \n",
       "0             0.437801  0.912590  0.865638  86500.0\n",
       "1             0.297067  0.912593  0.868193  86500.0\n",
       "2             0.208065  0.915748  0.868741  90000.0\n",
       "3             0.148686  0.915746  0.868922  91800.0\n",
       "4             0.107707  0.915747  0.872107  91800.0\n",
       "5             0.078608  0.917326  0.872466  91900.0"
      ]
     },
     "execution_count": 23,
     "metadata": {},
     "output_type": "execute_result"
    }
   ],
   "source": [
    "df_eval0 = dfs_evals_result[0]\n",
    "df_eval0"
   ]
  },
  {
   "cell_type": "code",
   "execution_count": 24,
   "metadata": {
    "ExecuteTime": {
     "end_time": "2021-08-10T17:34:33.911971Z",
     "start_time": "2021-08-10T17:34:32.833205Z"
    }
   },
   "outputs": [
    {
     "data": {
      "image/png": "[encoded data removed]",
      "text/plain": [
       "<Figure size 864x864 with 4 Axes>"
      ]
     },
     "metadata": {},
     "output_type": "display_data"
    }
   ],
   "source": [
    "df_eval0.plot(subplots=True,figsize=(12,12));"
   ]
  },
  {
   "cell_type": "code",
   "execution_count": 25,
   "metadata": {
    "ExecuteTime": {
     "end_time": "2021-08-10T17:34:34.022841Z",
     "start_time": "2021-08-10T17:34:33.916600Z"
    }
   },
   "outputs": [],
   "source": [
    "# predictions"
   ]
  },
  {
   "cell_type": "code",
   "execution_count": 26,
   "metadata": {
    "ExecuteTime": {
     "end_time": "2021-08-10T17:34:34.199912Z",
     "start_time": "2021-08-10T17:34:34.026786Z"
    }
   },
   "outputs": [
    {
     "data": {
      "text/plain": [
       "76"
      ]
     },
     "execution_count": 26,
     "metadata": {},
     "output_type": "execute_result"
    }
   ],
   "source": [
    "y_pred = model.predict(df_Xtest)\n",
    "sum(y_pred)"
   ]
  },
  {
   "cell_type": "code",
   "execution_count": 27,
   "metadata": {
    "ExecuteTime": {
     "end_time": "2021-08-10T17:34:34.378868Z",
     "start_time": "2021-08-10T17:34:34.203151Z"
    }
   },
   "outputs": [
    {
     "data": {
      "text/plain": [
       "76"
      ]
     },
     "execution_count": 27,
     "metadata": {},
     "output_type": "execute_result"
    }
   ],
   "source": [
    "y_pred_best_early = model.predict(df_Xtest, ntree_limit=model.best_ntree_limit)\n",
    "sum(y_pred_best_early)"
   ]
  },
  {
   "cell_type": "code",
   "execution_count": 28,
   "metadata": {
    "ExecuteTime": {
     "end_time": "2021-08-10T17:34:34.602903Z",
     "start_time": "2021-08-10T17:34:34.382879Z"
    }
   },
   "outputs": [
    {
     "data": {
      "text/plain": [
       "array([[0.6455703 , 0.35442975],\n",
       "       [0.6455703 , 0.35442975]], dtype=float32)"
      ]
     },
     "execution_count": 28,
     "metadata": {},
     "output_type": "execute_result"
    }
   ],
   "source": [
    "y_prob = model.predict_proba(df_Xtest, ntree_limit=model.best_ntree_limit)\n",
    "y_prob[:2]"
   ]
  },
  {
   "cell_type": "code",
   "execution_count": 29,
   "metadata": {
    "ExecuteTime": {
     "end_time": "2021-08-10T17:34:34.758019Z",
     "start_time": "2021-08-10T17:34:34.610104Z"
    }
   },
   "outputs": [
    {
     "data": {
      "text/plain": [
       "array([0.35442975, 0.35442975, 0.35442975, 0.35442975, 0.35442975],\n",
       "      dtype=float32)"
      ]
     },
     "execution_count": 29,
     "metadata": {},
     "output_type": "execute_result"
    }
   ],
   "source": [
    "y_prob1d = y_prob[:,1] # take second column of prob\n",
    "y_prob1d[:5]"
   ]
  },
  {
   "cell_type": "code",
   "execution_count": 30,
   "metadata": {
    "ExecuteTime": {
     "end_time": "2021-08-10T17:34:34.890334Z",
     "start_time": "2021-08-10T17:34:34.761233Z"
    }
   },
   "outputs": [
    {
     "data": {
      "text/plain": [
       "(76, array([0, 0, 0, 0, 0], dtype=int8))"
      ]
     },
     "execution_count": 30,
     "metadata": {},
     "output_type": "execute_result"
    }
   ],
   "source": [
    "y_pred = (np.array(y_prob1d) > 0.5).astype(np.int8)\n",
    "sum(y_pred), y_pred[:5]"
   ]
  },
  {
   "cell_type": "markdown",
   "metadata": {},
   "source": [
    "# Tune hyperparameters using Optuna with custom loss"
   ]
  },
  {
   "cell_type": "code",
   "execution_count": 31,
   "metadata": {
    "ExecuteTime": {
     "end_time": "2021-08-10T17:34:35.009382Z",
     "start_time": "2021-08-10T17:34:34.893524Z"
    }
   },
   "outputs": [],
   "source": [
    "def objective(trial):\n",
    "    params_xgb_optuna = {\n",
    "        'eval_metric': 'auc',\n",
    "        'learning_rate': trial.suggest_loguniform('learning_rate', 1e-4, 1.0),\n",
    "        'max_depth':trial.suggest_int('max_depth', 5, 20),\n",
    "        'n_estimators': trial.suggest_int('n_estimators', 150, 1000), \n",
    "        'subsample': trial.suggest_uniform('subsample', 0.7, 1.0),\n",
    "        'reg_alpha': trial.suggest_loguniform('reg_alpha', 1e-4, 100.0),\n",
    "        'reg_lambda': trial.suggest_loguniform('reg_lambda', 1e-8, 100.0),\n",
    "    }\n",
    "\n",
    "    model = XGBClassifier(random_state=SEED,**params_xgb_optuna)\n",
    "    model.fit(df_Xtrain,ser_ytrain)\n",
    "\n",
    "    vdpreds = model.predict(df_Xvalid)\n",
    "    tn, fp, fn, tp = sklearn.metrics.confusion_matrix(yvalid,vdpreds).ravel()\n",
    "    profit = 400*tp - 200*fn - 100*fp\n",
    "    return profit"
   ]
  },
  {
   "cell_type": "code",
   "execution_count": 32,
   "metadata": {
    "ExecuteTime": {
     "end_time": "2021-08-10T17:41:13.321397Z",
     "start_time": "2021-08-10T17:34:35.011608Z"
    }
   },
   "outputs": [
    {
     "name": "stderr",
     "output_type": "stream",
     "text": [
      "/Users/poudel/opt/miniconda3/envs/dataSc/lib/python3.7/site-packages/xgboost/sklearn.py:888: UserWarning:\n",
      "\n",
      "The use of label encoder in XGBClassifier is deprecated and will be removed in a future release. To remove this warning, do the following: 1) Pass option use_label_encoder=False when constructing XGBClassifier object; and 2) Encode your labels (y) as integers starting with 0, i.e. 0, 1, 2, ..., [num_class - 1].\n",
      "\n"
     ]
    }
   ],
   "source": [
    "# NOTE: there is inherent non-determinism in optuna hyperparameter selection\n",
    "#       we may not get the same hyperparameters when run twice.\n",
    "\n",
    "\n",
    "sampler = optuna.samplers.TPESampler(seed=SEED)\n",
    "N_TRIALS = 1 # make it large\n",
    "\n",
    "study = optuna.create_study(direction='maximize',\n",
    "                            sampler=sampler,\n",
    "                            study_name='xgb_optuna',\n",
    "                            storage='sqlite:///xgb_optuna_fraud_classifcation2.db',\n",
    "                            load_if_exists=True)\n",
    "\n",
    "study.optimize(objective, n_trials=N_TRIALS)"
   ]
  },
  {
   "cell_type": "code",
   "execution_count": 33,
   "metadata": {
    "ExecuteTime": {
     "end_time": "2021-08-10T17:41:13.591149Z",
     "start_time": "2021-08-10T17:41:13.324142Z"
    }
   },
   "outputs": [
    {
     "data": {
      "text/plain": [
       "{'learning_rate': 0.01567667719550607,\n",
       " 'max_depth': 16,\n",
       " 'n_estimators': 662,\n",
       " 'reg_alpha': 0.034828020870283326,\n",
       " 'reg_lambda': 0.028770084050677908,\n",
       " 'subsample': 0.863464954899069}"
      ]
     },
     "execution_count": 33,
     "metadata": {},
     "output_type": "execute_result"
    }
   ],
   "source": [
    "# best params\n",
    "params_best = study.best_trial.params\n",
    "params_best"
   ]
  },
  {
   "cell_type": "code",
   "execution_count": 34,
   "metadata": {
    "ExecuteTime": {
     "end_time": "2021-08-10T17:49:25.751927Z",
     "start_time": "2021-08-10T17:41:13.593399Z"
    }
   },
   "outputs": [
    {
     "name": "stdout",
     "output_type": "stream",
     "text": [
      "Profit = 23,700.\n",
      "CPU times: user 31min 14s, sys: 3.05 s, total: 31min 17s\n",
      "Wall time: 8min 11s\n"
     ]
    }
   ],
   "source": [
    "%%time\n",
    "\n",
    "model_name = 'xgboost'\n",
    "desc = 'grid search optuna custom loss'\n",
    "Xtr = df_Xtrain_orig\n",
    "ytr = ser_ytrain_orig.to_numpy().ravel()\n",
    "Xtx = df_Xtest\n",
    "ytx = ser_ytest.to_numpy().ravel()\n",
    "\n",
    "# use best model\n",
    "params_best =  study.best_trial.params\n",
    "\n",
    "model = xgb.XGBClassifier(random_state=SEED,eval_metric='logloss')\n",
    "model.set_params(**params_best)\n",
    "\n",
    "# fit the model\n",
    "model.fit(Xtr, ytr,verbose=50)\n",
    "\n",
    "# prediction\n",
    "ypreds = model.predict(df_Xtest)\n",
    "\n",
    "# evaluation\n",
    "profit = get_profit(ytest,ypreds)\n",
    "print(f\"Profit = {profit:,}.\")"
   ]
  },
  {
   "cell_type": "markdown",
   "metadata": {},
   "source": [
    "# Calibrate the probabilities (Stacking models)\n",
    "\n",
    "- [Towardsdatascience: Python’s «predict_proba» Doesn’t Actually Predict Probabilities (and How to Fix It)](https://towardsdatascience.com/pythons-predict-proba-doesn-t-actually-predict-probabilities-and-how-to-fix-it-f582c21d63fc)"
   ]
  },
  {
   "cell_type": "code",
   "execution_count": 35,
   "metadata": {
    "ExecuteTime": {
     "end_time": "2021-08-10T17:49:26.123733Z",
     "start_time": "2021-08-10T17:49:25.755365Z"
    }
   },
   "outputs": [],
   "source": [
    "from sklearn.isotonic import IsotonicRegression"
   ]
  },
  {
   "cell_type": "code",
   "execution_count": 36,
   "metadata": {
    "ExecuteTime": {
     "end_time": "2021-08-10T17:49:26.708033Z",
     "start_time": "2021-08-10T17:49:26.126190Z"
    }
   },
   "outputs": [
    {
     "data": {
      "text/plain": [
       "array([[9.9998218e-01, 1.7828401e-05],\n",
       "       [9.9994946e-01, 5.0526865e-05],\n",
       "       [9.9997103e-01, 2.8985065e-05],\n",
       "       [9.9996608e-01, 3.3921599e-05],\n",
       "       [9.9997801e-01, 2.1999766e-05]], dtype=float32)"
      ]
     },
     "execution_count": 36,
     "metadata": {},
     "output_type": "execute_result"
    }
   ],
   "source": [
    "# y_prob given from xgboost may not be well calibrated for imbalanced data\n",
    "# let's get another set of probabilities.\n",
    "\n",
    "vd_prob = model.predict_proba(df_Xvalid)\n",
    "vd_prob[:5]"
   ]
  },
  {
   "cell_type": "code",
   "execution_count": 37,
   "metadata": {
    "ExecuteTime": {
     "end_time": "2021-08-10T17:49:26.838051Z",
     "start_time": "2021-08-10T17:49:26.711157Z"
    }
   },
   "outputs": [
    {
     "data": {
      "text/plain": [
       "IsotonicRegression(out_of_bounds='clip', y_max=1, y_min=0)"
      ]
     },
     "execution_count": 37,
     "metadata": {},
     "output_type": "execute_result"
    }
   ],
   "source": [
    "# fit the model on validaton data\n",
    "model_isoreg = IsotonicRegression(y_min=0,y_max=1,out_of_bounds='clip')\n",
    "model_isoreg.fit(vd_prob[:,1], ser_yvalid.values)"
   ]
  },
  {
   "cell_type": "code",
   "execution_count": 38,
   "metadata": {
    "ExecuteTime": {
     "end_time": "2021-08-10T17:49:27.422577Z",
     "start_time": "2021-08-10T17:49:26.840579Z"
    }
   },
   "outputs": [
    {
     "name": "stdout",
     "output_type": "stream",
     "text": [
      "validation profit without calibration                 : $31,600\n",
      "validation profit with isotonic regression calibration: $31,600\n"
     ]
    }
   ],
   "source": [
    "# raw probabilities\n",
    "vd_prob = model.predict_proba(df_Xvalid)\n",
    "vd_pred = (vd_prob[:,1] >0.5).astype(np.int8)\n",
    "\n",
    "# calibrated probabilities\n",
    "vd_prob_iso = model_isoreg.predict(vd_prob[:,1])\n",
    "\n",
    "# predictions from probabilities\n",
    "vd_pred_iso = (np.array(vd_prob_iso) > 0.5).astype(np.int8)\n",
    "\n",
    "profit = get_profit(ser_yvalid.to_numpy().ravel(), vd_pred)\n",
    "\n",
    "# interestingly, isotonic regression gave me worse result.\n",
    "profit_iso = get_profit(ser_yvalid.to_numpy().ravel(), vd_pred_iso)\n",
    "\n",
    "print(f\"validation profit without calibration                 : ${profit:,}\")\n",
    "print(f\"validation profit with isotonic regression calibration: ${profit_iso:,}\")"
   ]
  },
  {
   "cell_type": "code",
   "execution_count": 39,
   "metadata": {
    "ExecuteTime": {
     "end_time": "2021-08-10T17:49:28.153722Z",
     "start_time": "2021-08-10T17:49:27.425802Z"
    }
   },
   "outputs": [
    {
     "name": "stdout",
     "output_type": "stream",
     "text": [
      "profit without calibration                 : $23,700\n",
      "profit with isotonic regression calibration: $24,200\n"
     ]
    }
   ],
   "source": [
    "# raw probabilities\n",
    "y_prob = model.predict_proba(df_Xtest)\n",
    "y_pred = (y_prob[:,1] >0.5).astype(np.int8)\n",
    "\n",
    "# calibrated probabilities\n",
    "y_prob_iso = model_isoreg.predict(y_prob[:,1])\n",
    "\n",
    "# predictions from probabilities\n",
    "y_pred_iso = (np.array(y_prob_iso) > 0.5).astype(np.int8)\n",
    "\n",
    "profit = get_profit(ser_ytest.to_numpy().ravel(), y_pred)\n",
    "\n",
    "# interestingly, isotonic regression gave me worse result.\n",
    "profit_iso = get_profit(ser_ytest.to_numpy().ravel(), y_pred_iso)\n",
    "\n",
    "\n",
    "print(f\"profit without calibration                 : ${profit:,}\")\n",
    "print(f\"profit with isotonic regression calibration: ${profit_iso:,}\")"
   ]
  },
  {
   "cell_type": "markdown",
   "metadata": {},
   "source": [
    "# Time Taken"
   ]
  },
  {
   "cell_type": "code",
   "execution_count": 40,
   "metadata": {
    "ExecuteTime": {
     "end_time": "2021-08-10T17:49:28.264515Z",
     "start_time": "2021-08-10T17:49:28.156960Z"
    }
   },
   "outputs": [
    {
     "name": "stdout",
     "output_type": "stream",
     "text": [
      "Time taken to run whole notebook: 0 hr 15 min 27 secs\n"
     ]
    }
   ],
   "source": [
    "time_taken = time.time() - time_start_notebook\n",
    "h,m = divmod(time_taken,60*60)\n",
    "print('Time taken to run whole notebook: {:.0f} hr '\\\n",
    "      '{:.0f} min {:.0f} secs'.format(h, *divmod(m,60)))"
   ]
  },
  {
   "cell_type": "code",
   "execution_count": null,
   "metadata": {},
   "outputs": [],
   "source": []
  }
 ],
 "metadata": {
  "colab": {
   "collapsed_sections": [],
   "name": "b05_classification_modelling_boosting_xgboost.ipynb",
   "provenance": []
  },
  "kernelspec": {
   "display_name": "Python (dataSc)",
   "language": "python",
   "name": "datasc"
  },
  "language_info": {
   "codemirror_mode": {
    "name": "ipython",
    "version": 3
   },
   "file_extension": ".py",
   "mimetype": "text/x-python",
   "name": "python",
   "nbconvert_exporter": "python",
   "pygments_lexer": "ipython3",
   "version": "3.7.7"
  },
  "toc": {
   "base_numbering": 1,
   "nav_menu": {},
   "number_sections": true,
   "sideBar": true,
   "skip_h1_title": false,
   "title_cell": "Table of Contents",
   "title_sidebar": "Contents",
   "toc_cell": true,
   "toc_position": {},
   "toc_section_display": true,
   "toc_window_display": false
  },
  "varInspector": {
   "cols": {
    "lenName": 16,
    "lenType": 16,
    "lenVar": 40
   },
   "kernels_config": {
    "python": {
     "delete_cmd_postfix": "",
     "delete_cmd_prefix": "del ",
     "library": "var_list.py",
     "varRefreshCmd": "print(var_dic_list())"
    },
    "r": {
     "delete_cmd_postfix": ") ",
     "delete_cmd_prefix": "rm(",
     "library": "var_list.r",
     "varRefreshCmd": "cat(var_dic_list()) "
    }
   },
   "types_to_exclude": [
    "module",
    "function",
    "builtin_function_or_method",
    "instance",
    "_Feature"
   ],
   "window_display": false
  }
 },
 "nbformat": 4,
 "nbformat_minor": 4
}
