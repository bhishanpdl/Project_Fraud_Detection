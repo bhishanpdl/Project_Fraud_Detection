{
 "cells": [
  {
   "cell_type": "markdown",
   "metadata": {
    "toc": "true"
   },
   "source": [
    "<h1>Table of Contents<span class=\"tocSkip\"></span></h1>\n",
    "<div class=\"toc\"><ul class=\"toc-item\"><li><span><a href=\"#Data-Description\" data-toc-modified-id=\"Data-Description-1\"><span class=\"toc-item-num\">1&nbsp;&nbsp;</span>Data Description</a></span></li><li><span><a href=\"#Business-Problem\" data-toc-modified-id=\"Business-Problem-2\"><span class=\"toc-item-num\">2&nbsp;&nbsp;</span>Business Problem</a></span></li><li><span><a href=\"#Imports\" data-toc-modified-id=\"Imports-3\"><span class=\"toc-item-num\">3&nbsp;&nbsp;</span>Imports</a></span></li><li><span><a href=\"#Useful-Scripts\" data-toc-modified-id=\"Useful-Scripts-4\"><span class=\"toc-item-num\">4&nbsp;&nbsp;</span>Useful Scripts</a></span></li><li><span><a href=\"#Load-the-data\" data-toc-modified-id=\"Load-the-data-5\"><span class=\"toc-item-num\">5&nbsp;&nbsp;</span>Load the data</a></span></li><li><span><a href=\"#EDA\" data-toc-modified-id=\"EDA-6\"><span class=\"toc-item-num\">6&nbsp;&nbsp;</span>EDA</a></span></li><li><span><a href=\"#Feature-Engineering\" data-toc-modified-id=\"Feature-Engineering-7\"><span class=\"toc-item-num\">7&nbsp;&nbsp;</span>Feature Engineering</a></span><ul class=\"toc-item\"><li><span><a href=\"#Temporal-Variables\" data-toc-modified-id=\"Temporal-Variables-7.1\"><span class=\"toc-item-num\">7.1&nbsp;&nbsp;</span>Temporal Variables</a></span></li><li><span><a href=\"#Bucketizing-Numerical-Features\" data-toc-modified-id=\"Bucketizing-Numerical-Features-7.2\"><span class=\"toc-item-num\">7.2&nbsp;&nbsp;</span>Bucketizing Numerical Features</a></span></li><li><span><a href=\"#Dummy-Variables-for-Binned-and-Categorical-Features\" data-toc-modified-id=\"Dummy-Variables-for-Binned-and-Categorical-Features-7.3\"><span class=\"toc-item-num\">7.3&nbsp;&nbsp;</span>Dummy Variables for Binned and Categorical Features</a></span></li><li><span><a href=\"#Log-Transform-Large-Numerical-Features\" data-toc-modified-id=\"Log-Transform-Large-Numerical-Features-7.4\"><span class=\"toc-item-num\">7.4&nbsp;&nbsp;</span>Log Transform Large Numerical Features</a></span></li><li><span><a href=\"#Combine-All-Features-to-One-Column\" data-toc-modified-id=\"Combine-All-Features-to-One-Column-7.5\"><span class=\"toc-item-num\">7.5&nbsp;&nbsp;</span>Combine All Features to One Column</a></span></li></ul></li><li><span><a href=\"#Feature-Scaling\" data-toc-modified-id=\"Feature-Scaling-8\"><span class=\"toc-item-num\">8&nbsp;&nbsp;</span>Feature Scaling</a></span></li><li><span><a href=\"#Train-Test-Splitting\" data-toc-modified-id=\"Train-Test-Splitting-9\"><span class=\"toc-item-num\">9&nbsp;&nbsp;</span>Train Test Splitting</a></span></li><li><span><a href=\"#Modelling\" data-toc-modified-id=\"Modelling-10\"><span class=\"toc-item-num\">10&nbsp;&nbsp;</span>Modelling</a></span><ul class=\"toc-item\"><li><span><a href=\"#Logistic-Regression\" data-toc-modified-id=\"Logistic-Regression-10.1\"><span class=\"toc-item-num\">10.1&nbsp;&nbsp;</span>Logistic Regression</a></span><ul class=\"toc-item\"><li><span><a href=\"#Model-Evaluation\" data-toc-modified-id=\"Model-Evaluation-10.1.1\"><span class=\"toc-item-num\">10.1.1&nbsp;&nbsp;</span>Model Evaluation</a></span></li><li><span><a href=\"#Predictions\" data-toc-modified-id=\"Predictions-10.1.2\"><span class=\"toc-item-num\">10.1.2&nbsp;&nbsp;</span>Predictions</a></span></li><li><span><a href=\"#Model-Evaluation-Using-ml.evaluation\" data-toc-modified-id=\"Model-Evaluation-Using-ml.evaluation-10.1.3\"><span class=\"toc-item-num\">10.1.3&nbsp;&nbsp;</span>Model Evaluation Using ml.evaluation</a></span></li></ul></li><li><span><a href=\"#KNN-Classifier\" data-toc-modified-id=\"KNN-Classifier-10.2\"><span class=\"toc-item-num\">10.2&nbsp;&nbsp;</span>KNN Classifier</a></span></li><li><span><a href=\"#Decision-Tree-Classifier\" data-toc-modified-id=\"Decision-Tree-Classifier-10.3\"><span class=\"toc-item-num\">10.3&nbsp;&nbsp;</span>Decision Tree Classifier</a></span></li><li><span><a href=\"#Random-Forest-Classifier\" data-toc-modified-id=\"Random-Forest-Classifier-10.4\"><span class=\"toc-item-num\">10.4&nbsp;&nbsp;</span>Random Forest Classifier</a></span></li></ul></li><li><span><a href=\"#Parameter-Tuning\" data-toc-modified-id=\"Parameter-Tuning-11\"><span class=\"toc-item-num\">11&nbsp;&nbsp;</span>Parameter Tuning</a></span></li><li><span><a href=\"#Feature-Importances\" data-toc-modified-id=\"Feature-Importances-12\"><span class=\"toc-item-num\">12&nbsp;&nbsp;</span>Feature Importances</a></span></li><li><span><a href=\"#Confusion-Matrix\" data-toc-modified-id=\"Confusion-Matrix-13\"><span class=\"toc-item-num\">13&nbsp;&nbsp;</span>Confusion Matrix</a></span></li></ul></div>"
   ]
  },
  {
   "cell_type": "markdown",
   "metadata": {},
   "source": [
    "<div class=\"alert alert-block alert-success\">\n",
    "<b>Kernel Author:</b>  <br>\n",
    "<a href=\"https://bhishanpdl.github.io/\" , target=\"_blank\">Bhishan Poudel,  Data Scientist, Ph.D Astrophysics</a> .\n",
    "</div>"
   ]
  },
  {
   "cell_type": "markdown",
   "metadata": {},
   "source": [
    "# Data Description\n",
    "\n",
    "> The datasets contains transactions made by credit cards in September\n",
    "2013 by european cardholders.\n",
    "\n",
    "\n",
    "> This dataset presents transactions that occurred in two days,\n",
    "where we have 492 frauds out of 284,807 transactions. \n",
    "\n",
    "> The dataset is highly unbalanced, the positive class (frauds)\n",
    "account for 0.172% of all transactions.\n",
    "\n",
    "> It contains only numerical input variables which are\n",
    "the result of a PCA transformation.\n",
    "\n",
    "\n",
    "> Unfortunately, due to confidentiality issues,\n",
    "we cannot provide the original features and \n",
    "more background information about the data.\n",
    "\n",
    "\n",
    "> Features V1, V2, ... V28 are the principal\n",
    "components obtained with PCA,\n",
    "the only features which have not been transformed with PCA are 'Time' and 'Amount'. \n",
    "\n",
    "> Feature 'Time' contains the seconds elapsed between each transaction\n",
    "and the first transaction in the dataset. The feature 'Amount'\n",
    "is the transaction Amount, this feature can be used for \n",
    "example-dependant cost-senstive learning. \n",
    "\n",
    "> Feature 'Class' is the response variable and it takes value\n",
    "1 in case of fraud and 0 otherwise."
   ]
  },
  {
   "cell_type": "markdown",
   "metadata": {},
   "source": [
    "# Business Problem\n",
    "\n",
    "<div class=\"alert alert-block alert-success\">\n",
    "<b>Business Problem:</b>  <br>\n",
    "Task &nbsp;&nbsp; : Detect the fraudulent activities. <br>\n",
    "Metric : Recall <br>\n",
    "Sampling: Synthetic Minority Over-Sampling Technique (SMOTE) <br>\n",
    "Question: How many frauds are correctly classified?\n",
    "</div>\n",
    "\n",
    "Remember that `Recall = TP / (TP + FN)`. In case of fraud detection,\n",
    "classifying a fraud as\n",
    "non-fraud (FN) is more risky so we use the metric `recall` to compare the \n",
    "performances of the models. Higher the recall, better is the model.\n",
    "\n",
    "\n",
    "The dataset is highly imbalanced. It has 284k non-frauds and 1k frauds.\n",
    "This means out of 1000 transatiosn, 998 are normal and 2 are fraud cases.\n",
    "\n",
    "Also, we should note that the data is just of two days, we implicitly assume that\n",
    "these two days are represent of the whole trend and reflects the property\n",
    "of the population properly.\n",
    "\n",
    "The could have been more or less fraudulent transactions in those particular days,\n",
    "but we would not take that into consideration and we generalizes the result.\n",
    "Or, we can say that based on the data from these two days we reached following\n",
    "conclusion and the result is appropriate for the population where the data\n",
    "distribution is similar to that of these two days.\n",
    "\n",
    "\n",
    "We are more interestd in finding the Fraud cases. i.e. FN (False Negative) cases,\n",
    "predicting fraud as non-fraud is riskier than predicting non-fraud as fraud.\n",
    "So, the suitable metric of model evaluation is RECALL.\n",
    "\n",
    "In banking, it is always the case that there are a lot of normal transactions,\n",
    "and only few of them are fraudulent. We may train our model with any transformation\n",
    "of the training data, but when testing the model the test set should look like\n",
    "real life, i.e., it has lots of normal cases and very few fraudulent cases.\n",
    "\n",
    "This means we can train our model using imbalanced or balanced (undersamples\n",
    "or oversampled) but we should test our model on IMBALANCED dataset.\n",
    "\n",
    "\n",
    "<div class=\"alert alert-block alert-danger\">\n",
    "<b>WARNINGS for Serialization:</b>\n",
    "    <br>\n",
    "When using the picked object (serialized object),\n",
    "the machine should have all the same versions of libraries used, such as numpy,\n",
    "pandas, scikit-learn, and all other dependency libraries. \n",
    "<br>\n",
    "So, to load the serialized object make sure you have the \n",
    "same conda environment as it was when creating the serialized object.\n",
    "</div>\n",
    "\n",
    "<div class=\"alert alert-block alert-info\">\n",
    "<b>NOTE:</b> When using Logistic Regression for classification problems,\n",
    "    we have different solvers in scikit-learn such as `liblinear`, `lbfgs`,\n",
    "    `sag`, `saga` and `newton-cg`.\n",
    "    <br>\n",
    "    `liblinear` only supports `l1` and `l2` penalty. and `saga` only supports\n",
    "    `elasticnet`.\n",
    "    <br>\n",
    "    <br>\n",
    "    For small datasets, ‘liblinear’ is a good choice, whereas ‘sag’ and ‘saga’ are faster for large ones.\n",
    "    <br>\n",
    "For multiclass problems, only ‘newton-cg’, ‘sag’, ‘saga’ and ‘lbfgs’ handle multinomial loss; ‘liblinear’ is limited to one-versus-rest schemes.\n",
    "    <br>\n",
    "‘newton-cg’, ‘lbfgs’, ‘sag’ and ‘saga’ handle L2 or no penalty<br>\n",
    "‘liblinear’ and ‘saga’ also handle L1 penalty<br>\n",
    "‘saga’ also supports ‘elasticnet’ penalty<br>\n",
    "‘liblinear’ does not handle no penalty.<br>\n",
    "    \n",
    "    \n",
    "</div>"
   ]
  },
  {
   "cell_type": "markdown",
   "metadata": {},
   "source": [
    "# Imports"
   ]
  },
  {
   "cell_type": "code",
   "execution_count": 43,
   "metadata": {
    "ExecuteTime": {
     "end_time": "2019-10-19T17:43:20.987609Z",
     "start_time": "2019-10-19T17:43:20.974692Z"
    }
   },
   "outputs": [
    {
     "name": "stdout",
     "output_type": "stream",
     "text": [
      "[('numpy', '1.17.1'), ('pandas', '0.25.1'), ('seaborn', '0.9.0'), ('matplotlib', '3.1.1')]\n"
     ]
    }
   ],
   "source": [
    "import numpy as np\n",
    "import pandas as pd\n",
    "import seaborn as sns\n",
    "sns.set(color_codes=True)\n",
    "\n",
    "import matplotlib\n",
    "import matplotlib.pyplot as plt\n",
    "%matplotlib inline\n",
    "\n",
    "import os\n",
    "import time\n",
    "\n",
    "# random state\n",
    "SEED = 0\n",
    "RNG = np.random.RandomState(SEED)\n",
    "\n",
    "# Jupyter notebook settings for pandas\n",
    "pd.set_option('display.max_columns', 200)\n",
    "pd.set_option('display.max_rows', 100) # None for all the rows\n",
    "pd.set_option('display.max_colwidth', 50)\n",
    "\n",
    "print([(x.__name__,x.__version__) for x in [np, pd,sns,matplotlib]])"
   ]
  },
  {
   "cell_type": "code",
   "execution_count": 44,
   "metadata": {
    "ExecuteTime": {
     "end_time": "2019-10-19T17:43:21.554519Z",
     "start_time": "2019-10-19T17:43:21.536736Z"
    }
   },
   "outputs": [
    {
     "data": {
      "application/javascript": [
       "IPython.OutputArea.auto_scroll_threshold = 9999;\n"
      ],
      "text/plain": [
       "<IPython.core.display.Javascript object>"
      ]
     },
     "metadata": {},
     "output_type": "display_data"
    }
   ],
   "source": [
    "%%javascript\n",
    "IPython.OutputArea.auto_scroll_threshold = 9999;"
   ]
  },
  {
   "cell_type": "code",
   "execution_count": 45,
   "metadata": {
    "ExecuteTime": {
     "end_time": "2019-10-19T17:43:22.044107Z",
     "start_time": "2019-10-19T17:43:22.036032Z"
    }
   },
   "outputs": [
    {
     "name": "stdout",
     "output_type": "stream",
     "text": [
      "[('numpy', '1.17.1'), ('pandas', '0.25.1'), ('pyspark', '2.4.4')]\n"
     ]
    }
   ],
   "source": [
    "# pyspark\n",
    "import pyspark\n",
    "spark = pyspark.sql.SparkSession.builder.appName('bhishan').getOrCreate()\n",
    "print([(x.__name__,x.__version__) for x in [np, pd, pyspark]])"
   ]
  },
  {
   "cell_type": "code",
   "execution_count": 46,
   "metadata": {
    "ExecuteTime": {
     "end_time": "2019-10-19T17:43:22.488018Z",
     "start_time": "2019-10-19T17:43:22.482990Z"
    }
   },
   "outputs": [],
   "source": [
    "# pyspark sql\n",
    "from pyspark.sql.functions import col\n",
    "from pyspark.sql.functions import udf # @udf(\"integer\") def myfunc(x,y): return x - y\n",
    "from pyspark.sql import functions as F # stddev format_number date_format, dayofyear, when\n",
    "from pyspark.sql.types import StructField, StringType, IntegerType, FloatType, StructType, DateType"
   ]
  },
  {
   "cell_type": "code",
   "execution_count": 47,
   "metadata": {
    "ExecuteTime": {
     "end_time": "2019-10-19T17:43:22.897800Z",
     "start_time": "2019-10-19T17:43:22.891202Z"
    }
   },
   "outputs": [],
   "source": [
    "# pyspark ml feature\n",
    "from pyspark.ml.feature import StringIndexer, VectorIndexer\n",
    "from pyspark.ml.feature import OneHotEncoder,OneHotEncoderEstimator\n",
    "from pyspark.ml.feature import Bucketizer\n",
    "from pyspark.ml.feature import VectorAssembler\n",
    "from pyspark.ml.feature import StandardScaler\n",
    "from pyspark.ml import Pipeline"
   ]
  },
  {
   "cell_type": "code",
   "execution_count": 48,
   "metadata": {
    "ExecuteTime": {
     "end_time": "2019-10-19T17:43:23.293014Z",
     "start_time": "2019-10-19T17:43:23.289624Z"
    }
   },
   "outputs": [],
   "source": [
    "# classifiers\n",
    "from pyspark.ml.classification import LogisticRegression\n",
    "from pyspark.ml.clustering import KMeans\n",
    "from pyspark.ml.classification import DecisionTreeClassifier\n",
    "from pyspark.ml.classification import RandomForestClassifier\n",
    "from pyspark.ml.classification import GBTClassifier"
   ]
  },
  {
   "cell_type": "code",
   "execution_count": 49,
   "metadata": {
    "ExecuteTime": {
     "end_time": "2019-10-19T17:43:23.710010Z",
     "start_time": "2019-10-19T17:43:23.691999Z"
    }
   },
   "outputs": [],
   "source": [
    "# cross validation\n",
    "from pyspark.ml.tuning import ParamGridBuilder\n",
    "from pyspark.ml.tuning import CrossValidator\n",
    "from pyspark.ml.tuning import CrossValidatorModel"
   ]
  },
  {
   "cell_type": "code",
   "execution_count": 144,
   "metadata": {
    "ExecuteTime": {
     "end_time": "2019-10-19T18:32:46.019371Z",
     "start_time": "2019-10-19T18:32:46.015503Z"
    }
   },
   "outputs": [],
   "source": [
    "# model evaluation\n",
    "from pyspark.ml.evaluation import BinaryClassificationEvaluator\n",
    "from pyspark.ml.evaluation import MulticlassClassificationEvaluator\n",
    "from pyspark.ml.evaluation import ClusteringEvaluator"
   ]
  },
  {
   "cell_type": "markdown",
   "metadata": {},
   "source": [
    "# Useful Scripts"
   ]
  },
  {
   "cell_type": "code",
   "execution_count": 215,
   "metadata": {
    "ExecuteTime": {
     "end_time": "2019-10-19T19:53:29.674791Z",
     "start_time": "2019-10-19T19:53:29.668282Z"
    }
   },
   "outputs": [],
   "source": [
    "def show_method_attributes(method, ncols=7):\n",
    "    \"\"\" Show all the attributes of a given method.\n",
    "    Example:\n",
    "    ========\n",
    "    show_method_attributes(list)\n",
    "     \"\"\"\n",
    "    x = [i for i in dir(method) if i[0]!='_' ]\n",
    "    x = [i for i in x \n",
    "         if i not in 'os np pd sys time psycopg2'.split() ]\n",
    "             \n",
    "\n",
    "    return pd.DataFrame(np.array_split(x,ncols)).T.fillna('')"
   ]
  },
  {
   "cell_type": "code",
   "execution_count": 217,
   "metadata": {
    "ExecuteTime": {
     "end_time": "2019-10-19T19:55:55.280478Z",
     "start_time": "2019-10-19T19:55:55.270216Z"
    }
   },
   "outputs": [
    {
     "data": {
      "text/html": [
       "<div>\n",
       "<style scoped>\n",
       "    .dataframe tbody tr th:only-of-type {\n",
       "        vertical-align: middle;\n",
       "    }\n",
       "\n",
       "    .dataframe tbody tr th {\n",
       "        vertical-align: top;\n",
       "    }\n",
       "\n",
       "    .dataframe thead th {\n",
       "        text-align: right;\n",
       "    }\n",
       "</style>\n",
       "<table border=\"1\" class=\"dataframe\">\n",
       "  <thead>\n",
       "    <tr style=\"text-align: right;\">\n",
       "      <th></th>\n",
       "      <th>model_name</th>\n",
       "      <th>desc</th>\n",
       "      <th>f1</th>\n",
       "      <th>weightedPrecision</th>\n",
       "      <th>weightedRecall</th>\n",
       "      <th>accuracy</th>\n",
       "      <th>areaUnderROC</th>\n",
       "      <th>areaUnderPR</th>\n",
       "    </tr>\n",
       "  </thead>\n",
       "  <tbody>\n",
       "  </tbody>\n",
       "</table>\n",
       "</div>"
      ],
      "text/plain": [
       "Empty DataFrame\n",
       "Columns: [model_name, desc, f1, weightedPrecision, weightedRecall, accuracy, areaUnderROC, areaUnderPR]\n",
       "Index: []"
      ]
     },
     "execution_count": 217,
     "metadata": {},
     "output_type": "execute_result"
    }
   ],
   "source": [
    "df_eval = pd.DataFrame({\n",
    "    'model_name':[],\n",
    "    'desc':[],\n",
    "    'f1':[],\n",
    "    'weightedPrecision':[],\n",
    "    'weightedRecall':[],\n",
    "    'accuracy':[],\n",
    "    'areaUnderROC':[],\n",
    "    'areaUnderPR':[]\n",
    "})\n",
    "\n",
    "df_eval"
   ]
  },
  {
   "cell_type": "markdown",
   "metadata": {},
   "source": [
    "# Load the data"
   ]
  },
  {
   "cell_type": "code",
   "execution_count": 52,
   "metadata": {
    "ExecuteTime": {
     "end_time": "2019-10-19T17:43:25.987008Z",
     "start_time": "2019-10-19T17:43:25.966945Z"
    }
   },
   "outputs": [
    {
     "name": "stdout",
     "output_type": "stream",
     "text": [
      "creditcard.csv\n",
      "creditcard.csv.zip\n"
     ]
    }
   ],
   "source": [
    "%%bash\n",
    "# unzip ../data/raw/creditcard.csv.zip -d ../data/raw/\n",
    "ls ../data/raw"
   ]
  },
  {
   "cell_type": "code",
   "execution_count": 53,
   "metadata": {
    "ExecuteTime": {
     "end_time": "2019-10-19T17:43:26.482676Z",
     "start_time": "2019-10-19T17:43:26.458754Z"
    }
   },
   "outputs": [
    {
     "name": "stdout",
     "output_type": "stream",
     "text": [
      "\"Time\",\"V1\",\"V2\",\"V3\",\"V4\",\"V5\",\"V6\",\"V7\",\"V8\",\"V9\",\"V10\",\"V11\",\"V12\",\"V13\",\"V14\",\"V15\",\"V16\",\"V17\",\"V18\",\"V19\",\"V20\",\"V21\",\"V22\",\"V23\",\"V24\",\"V25\",\"V26\",\"V27\",\"V28\",\"Amount\",\"Class\"\n",
      "0,-1.3598071336738,-0.0727811733098497,2.53634673796914,1.37815522427443,-0.338320769942518,0.462387777762292,0.239598554061257,0.0986979012610507,0.363786969611213,0.0907941719789316,-0.551599533260813,-0.617800855762348,-0.991389847235408,-0.311169353699879,1.46817697209427,-0.470400525259478,0.207971241929242,0.0257905801985591,0.403992960255733,0.251412098239705,-0.018306777944153,0.277837575558899,-0.110473910188767,0.0669280749146731,0.128539358273528,-0.189114843888824,0.133558376740387,-0.0210530534538215,149.62,\"0\"\n",
      "0,1.19185711131486,0.26615071205963,0.16648011335321,0.448154078460911,0.0600176492822243,-0.0823608088155687,-0.0788029833323113,0.0851016549148104,-0.255425128109186,-0.166974414004614,1.61272666105479,1.06523531137287,0.48909501589608,-0.143772296441519,0.635558093258208,0.463917041022171,-0.114804663102346,-0.183361270123994,-0.145783041325259,-0.0690831352230203,-0.225775248033138,-0.638671952771851,0.101288021253234,-0.339846475529127,0.167170404418143,0.125894532368176,-0.00898309914322813,0.0147241691924927,2.69,\"0\"\n"
     ]
    }
   ],
   "source": [
    "%%bash\n",
    "head -3 ../data/raw/creditcard.csv"
   ]
  },
  {
   "cell_type": "code",
   "execution_count": 54,
   "metadata": {
    "ExecuteTime": {
     "end_time": "2019-10-19T17:43:26.943341Z",
     "start_time": "2019-10-19T17:43:26.915049Z"
    }
   },
   "outputs": [
    {
     "name": "stdout",
     "output_type": "stream",
     "text": [
      "\"Time\"\n",
      "0\n",
      "0\n",
      "1\n",
      "1\n",
      "172786\n",
      "172787\n",
      "172788\n",
      "172788\n",
      "172792\n"
     ]
    }
   ],
   "source": [
    "%%bash\n",
    "head -5 ../data/raw/creditcard.csv | cut -d ',' -f 1\n",
    "tail -5 ../data/raw/creditcard.csv | cut -d ',' -f 1"
   ]
  },
  {
   "cell_type": "code",
   "execution_count": 55,
   "metadata": {
    "ExecuteTime": {
     "end_time": "2019-10-19T17:43:29.227073Z",
     "start_time": "2019-10-19T17:43:27.396660Z"
    }
   },
   "outputs": [
    {
     "name": "stdout",
     "output_type": "stream",
     "text": [
      "nrows =  284807 ncols =  31\n"
     ]
    },
    {
     "data": {
      "text/html": [
       "<div>\n",
       "<style scoped>\n",
       "    .dataframe tbody tr th:only-of-type {\n",
       "        vertical-align: middle;\n",
       "    }\n",
       "\n",
       "    .dataframe tbody tr th {\n",
       "        vertical-align: top;\n",
       "    }\n",
       "\n",
       "    .dataframe thead th {\n",
       "        text-align: right;\n",
       "    }\n",
       "</style>\n",
       "<table border=\"1\" class=\"dataframe\">\n",
       "  <thead>\n",
       "    <tr style=\"text-align: right;\">\n",
       "      <th></th>\n",
       "      <th>Time</th>\n",
       "      <th>V1</th>\n",
       "      <th>V2</th>\n",
       "      <th>V3</th>\n",
       "      <th>V4</th>\n",
       "      <th>V5</th>\n",
       "      <th>V6</th>\n",
       "      <th>V7</th>\n",
       "      <th>V8</th>\n",
       "      <th>V9</th>\n",
       "      <th>V10</th>\n",
       "      <th>V11</th>\n",
       "      <th>V12</th>\n",
       "      <th>V13</th>\n",
       "      <th>V14</th>\n",
       "      <th>V15</th>\n",
       "      <th>V16</th>\n",
       "      <th>V17</th>\n",
       "      <th>V18</th>\n",
       "      <th>V19</th>\n",
       "      <th>V20</th>\n",
       "      <th>V21</th>\n",
       "      <th>V22</th>\n",
       "      <th>V23</th>\n",
       "      <th>V24</th>\n",
       "      <th>V25</th>\n",
       "      <th>V26</th>\n",
       "      <th>V27</th>\n",
       "      <th>V28</th>\n",
       "      <th>Amount</th>\n",
       "      <th>Class</th>\n",
       "    </tr>\n",
       "  </thead>\n",
       "  <tbody>\n",
       "    <tr>\n",
       "      <td>0</td>\n",
       "      <td>0</td>\n",
       "      <td>-1.359807</td>\n",
       "      <td>-0.072781</td>\n",
       "      <td>2.536347</td>\n",
       "      <td>1.378155</td>\n",
       "      <td>-0.338321</td>\n",
       "      <td>0.462388</td>\n",
       "      <td>0.239599</td>\n",
       "      <td>0.098698</td>\n",
       "      <td>0.363787</td>\n",
       "      <td>0.090794</td>\n",
       "      <td>-0.551600</td>\n",
       "      <td>-0.617801</td>\n",
       "      <td>-0.991390</td>\n",
       "      <td>-0.311169</td>\n",
       "      <td>1.468177</td>\n",
       "      <td>-0.470401</td>\n",
       "      <td>0.207971</td>\n",
       "      <td>0.025791</td>\n",
       "      <td>0.403993</td>\n",
       "      <td>0.251412</td>\n",
       "      <td>-0.018307</td>\n",
       "      <td>0.277838</td>\n",
       "      <td>-0.110474</td>\n",
       "      <td>0.066928</td>\n",
       "      <td>0.128539</td>\n",
       "      <td>-0.189115</td>\n",
       "      <td>0.133558</td>\n",
       "      <td>-0.021053</td>\n",
       "      <td>149.62</td>\n",
       "      <td>0</td>\n",
       "    </tr>\n",
       "    <tr>\n",
       "      <td>1</td>\n",
       "      <td>0</td>\n",
       "      <td>1.191857</td>\n",
       "      <td>0.266151</td>\n",
       "      <td>0.166480</td>\n",
       "      <td>0.448154</td>\n",
       "      <td>0.060018</td>\n",
       "      <td>-0.082361</td>\n",
       "      <td>-0.078803</td>\n",
       "      <td>0.085102</td>\n",
       "      <td>-0.255425</td>\n",
       "      <td>-0.166974</td>\n",
       "      <td>1.612727</td>\n",
       "      <td>1.065235</td>\n",
       "      <td>0.489095</td>\n",
       "      <td>-0.143772</td>\n",
       "      <td>0.635558</td>\n",
       "      <td>0.463917</td>\n",
       "      <td>-0.114805</td>\n",
       "      <td>-0.183361</td>\n",
       "      <td>-0.145783</td>\n",
       "      <td>-0.069083</td>\n",
       "      <td>-0.225775</td>\n",
       "      <td>-0.638672</td>\n",
       "      <td>0.101288</td>\n",
       "      <td>-0.339846</td>\n",
       "      <td>0.167170</td>\n",
       "      <td>0.125895</td>\n",
       "      <td>-0.008983</td>\n",
       "      <td>0.014724</td>\n",
       "      <td>2.69</td>\n",
       "      <td>0</td>\n",
       "    </tr>\n",
       "    <tr>\n",
       "      <td>2</td>\n",
       "      <td>1</td>\n",
       "      <td>-1.358354</td>\n",
       "      <td>-1.340163</td>\n",
       "      <td>1.773209</td>\n",
       "      <td>0.379780</td>\n",
       "      <td>-0.503198</td>\n",
       "      <td>1.800499</td>\n",
       "      <td>0.791461</td>\n",
       "      <td>0.247676</td>\n",
       "      <td>-1.514654</td>\n",
       "      <td>0.207643</td>\n",
       "      <td>0.624501</td>\n",
       "      <td>0.066084</td>\n",
       "      <td>0.717293</td>\n",
       "      <td>-0.165946</td>\n",
       "      <td>2.345865</td>\n",
       "      <td>-2.890083</td>\n",
       "      <td>1.109969</td>\n",
       "      <td>-0.121359</td>\n",
       "      <td>-2.261857</td>\n",
       "      <td>0.524980</td>\n",
       "      <td>0.247998</td>\n",
       "      <td>0.771679</td>\n",
       "      <td>0.909412</td>\n",
       "      <td>-0.689281</td>\n",
       "      <td>-0.327642</td>\n",
       "      <td>-0.139097</td>\n",
       "      <td>-0.055353</td>\n",
       "      <td>-0.059752</td>\n",
       "      <td>378.66</td>\n",
       "      <td>0</td>\n",
       "    </tr>\n",
       "    <tr>\n",
       "      <td>3</td>\n",
       "      <td>1</td>\n",
       "      <td>-0.966272</td>\n",
       "      <td>-0.185226</td>\n",
       "      <td>1.792993</td>\n",
       "      <td>-0.863291</td>\n",
       "      <td>-0.010309</td>\n",
       "      <td>1.247203</td>\n",
       "      <td>0.237609</td>\n",
       "      <td>0.377436</td>\n",
       "      <td>-1.387024</td>\n",
       "      <td>-0.054952</td>\n",
       "      <td>-0.226487</td>\n",
       "      <td>0.178228</td>\n",
       "      <td>0.507757</td>\n",
       "      <td>-0.287924</td>\n",
       "      <td>-0.631418</td>\n",
       "      <td>-1.059647</td>\n",
       "      <td>-0.684093</td>\n",
       "      <td>1.965775</td>\n",
       "      <td>-1.232622</td>\n",
       "      <td>-0.208038</td>\n",
       "      <td>-0.108300</td>\n",
       "      <td>0.005274</td>\n",
       "      <td>-0.190321</td>\n",
       "      <td>-1.175575</td>\n",
       "      <td>0.647376</td>\n",
       "      <td>-0.221929</td>\n",
       "      <td>0.062723</td>\n",
       "      <td>0.061458</td>\n",
       "      <td>123.50</td>\n",
       "      <td>0</td>\n",
       "    </tr>\n",
       "    <tr>\n",
       "      <td>4</td>\n",
       "      <td>2</td>\n",
       "      <td>-1.158233</td>\n",
       "      <td>0.877737</td>\n",
       "      <td>1.548718</td>\n",
       "      <td>0.403034</td>\n",
       "      <td>-0.407193</td>\n",
       "      <td>0.095921</td>\n",
       "      <td>0.592941</td>\n",
       "      <td>-0.270533</td>\n",
       "      <td>0.817739</td>\n",
       "      <td>0.753074</td>\n",
       "      <td>-0.822843</td>\n",
       "      <td>0.538196</td>\n",
       "      <td>1.345852</td>\n",
       "      <td>-1.119670</td>\n",
       "      <td>0.175121</td>\n",
       "      <td>-0.451449</td>\n",
       "      <td>-0.237033</td>\n",
       "      <td>-0.038195</td>\n",
       "      <td>0.803487</td>\n",
       "      <td>0.408542</td>\n",
       "      <td>-0.009431</td>\n",
       "      <td>0.798278</td>\n",
       "      <td>-0.137458</td>\n",
       "      <td>0.141267</td>\n",
       "      <td>-0.206010</td>\n",
       "      <td>0.502292</td>\n",
       "      <td>0.219422</td>\n",
       "      <td>0.215153</td>\n",
       "      <td>69.99</td>\n",
       "      <td>0</td>\n",
       "    </tr>\n",
       "  </tbody>\n",
       "</table>\n",
       "</div>"
      ],
      "text/plain": [
       "  Time        V1        V2        V3        V4        V5        V6        V7  \\\n",
       "0    0 -1.359807 -0.072781  2.536347  1.378155 -0.338321  0.462388  0.239599   \n",
       "1    0  1.191857  0.266151  0.166480  0.448154  0.060018 -0.082361 -0.078803   \n",
       "2    1 -1.358354 -1.340163  1.773209  0.379780 -0.503198  1.800499  0.791461   \n",
       "3    1 -0.966272 -0.185226  1.792993 -0.863291 -0.010309  1.247203  0.237609   \n",
       "4    2 -1.158233  0.877737  1.548718  0.403034 -0.407193  0.095921  0.592941   \n",
       "\n",
       "         V8        V9       V10       V11       V12       V13       V14  \\\n",
       "0  0.098698  0.363787  0.090794 -0.551600 -0.617801 -0.991390 -0.311169   \n",
       "1  0.085102 -0.255425 -0.166974  1.612727  1.065235  0.489095 -0.143772   \n",
       "2  0.247676 -1.514654  0.207643  0.624501  0.066084  0.717293 -0.165946   \n",
       "3  0.377436 -1.387024 -0.054952 -0.226487  0.178228  0.507757 -0.287924   \n",
       "4 -0.270533  0.817739  0.753074 -0.822843  0.538196  1.345852 -1.119670   \n",
       "\n",
       "        V15       V16       V17       V18       V19       V20       V21  \\\n",
       "0  1.468177 -0.470401  0.207971  0.025791  0.403993  0.251412 -0.018307   \n",
       "1  0.635558  0.463917 -0.114805 -0.183361 -0.145783 -0.069083 -0.225775   \n",
       "2  2.345865 -2.890083  1.109969 -0.121359 -2.261857  0.524980  0.247998   \n",
       "3 -0.631418 -1.059647 -0.684093  1.965775 -1.232622 -0.208038 -0.108300   \n",
       "4  0.175121 -0.451449 -0.237033 -0.038195  0.803487  0.408542 -0.009431   \n",
       "\n",
       "        V22       V23       V24       V25       V26       V27       V28  \\\n",
       "0  0.277838 -0.110474  0.066928  0.128539 -0.189115  0.133558 -0.021053   \n",
       "1 -0.638672  0.101288 -0.339846  0.167170  0.125895 -0.008983  0.014724   \n",
       "2  0.771679  0.909412 -0.689281 -0.327642 -0.139097 -0.055353 -0.059752   \n",
       "3  0.005274 -0.190321 -1.175575  0.647376 -0.221929  0.062723  0.061458   \n",
       "4  0.798278 -0.137458  0.141267 -0.206010  0.502292  0.219422  0.215153   \n",
       "\n",
       "   Amount  Class  \n",
       "0  149.62      0  \n",
       "1    2.69      0  \n",
       "2  378.66      0  \n",
       "3  123.50      0  \n",
       "4   69.99      0  "
      ]
     },
     "execution_count": 55,
     "metadata": {},
     "output_type": "execute_result"
    }
   ],
   "source": [
    "df = spark.read.csv('../data/raw/creditcard.csv', header=True, inferSchema=True).cache()\n",
    "print('nrows = ', df.count(), 'ncols = ', len(df.columns))\n",
    "df.limit(5).toPandas()"
   ]
  },
  {
   "cell_type": "code",
   "execution_count": 56,
   "metadata": {
    "ExecuteTime": {
     "end_time": "2019-10-19T17:43:29.235555Z",
     "start_time": "2019-10-19T17:43:29.229865Z"
    }
   },
   "outputs": [
    {
     "name": "stdout",
     "output_type": "stream",
     "text": [
      "root\n",
      " |-- Time: decimal(10,0) (nullable = true)\n",
      " |-- V1: double (nullable = true)\n",
      " |-- V2: double (nullable = true)\n",
      " |-- V3: double (nullable = true)\n",
      " |-- V4: double (nullable = true)\n",
      " |-- V5: double (nullable = true)\n",
      " |-- V6: double (nullable = true)\n",
      " |-- V7: double (nullable = true)\n",
      " |-- V8: double (nullable = true)\n",
      " |-- V9: double (nullable = true)\n",
      " |-- V10: double (nullable = true)\n",
      " |-- V11: double (nullable = true)\n",
      " |-- V12: double (nullable = true)\n",
      " |-- V13: double (nullable = true)\n",
      " |-- V14: double (nullable = true)\n",
      " |-- V15: double (nullable = true)\n",
      " |-- V16: double (nullable = true)\n",
      " |-- V17: double (nullable = true)\n",
      " |-- V18: double (nullable = true)\n",
      " |-- V19: double (nullable = true)\n",
      " |-- V20: double (nullable = true)\n",
      " |-- V21: double (nullable = true)\n",
      " |-- V22: double (nullable = true)\n",
      " |-- V23: double (nullable = true)\n",
      " |-- V24: double (nullable = true)\n",
      " |-- V25: double (nullable = true)\n",
      " |-- V26: double (nullable = true)\n",
      " |-- V27: double (nullable = true)\n",
      " |-- V28: double (nullable = true)\n",
      " |-- Amount: double (nullable = true)\n",
      " |-- Class: integer (nullable = true)\n",
      "\n"
     ]
    }
   ],
   "source": [
    "df.printSchema()"
   ]
  },
  {
   "cell_type": "code",
   "execution_count": 57,
   "metadata": {
    "ExecuteTime": {
     "end_time": "2019-10-19T17:43:29.242831Z",
     "start_time": "2019-10-19T17:43:29.238593Z"
    }
   },
   "outputs": [
    {
     "name": "stdout",
     "output_type": "stream",
     "text": [
      "['Time', 'V1', 'V2', 'V3', 'V4', 'V5', 'V6', 'V7', 'V8', 'V9', 'V10', 'V11', 'V12', 'V13', 'V14', 'V15', 'V16', 'V17', 'V18', 'V19', 'V20', 'V21', 'V22', 'V23', 'V24', 'V25', 'V26', 'V27', 'V28', 'Amount', 'Class']\n"
     ]
    }
   ],
   "source": [
    "print(df.columns)"
   ]
  },
  {
   "cell_type": "markdown",
   "metadata": {},
   "source": [
    "# EDA"
   ]
  },
  {
   "cell_type": "code",
   "execution_count": 58,
   "metadata": {
    "ExecuteTime": {
     "end_time": "2019-10-19T17:43:29.615880Z",
     "start_time": "2019-10-19T17:43:29.514566Z"
    }
   },
   "outputs": [
    {
     "name": "stdout",
     "output_type": "stream",
     "text": [
      "+------+-----+\n",
      "|Amount|Class|\n",
      "+------+-----+\n",
      "|149.62|    0|\n",
      "|  2.69|    0|\n",
      "|378.66|    0|\n",
      "| 123.5|    0|\n",
      "| 69.99|    0|\n",
      "+------+-----+\n",
      "only showing top 5 rows\n",
      "\n"
     ]
    }
   ],
   "source": [
    "feat = 'Amount'\n",
    "target = 'Class'\n",
    "df.select([feat,target]).show(5)"
   ]
  },
  {
   "cell_type": "code",
   "execution_count": 59,
   "metadata": {
    "ExecuteTime": {
     "end_time": "2019-10-19T17:43:30.089973Z",
     "start_time": "2019-10-19T17:43:29.997326Z"
    }
   },
   "outputs": [
    {
     "name": "stdout",
     "output_type": "stream",
     "text": [
      "+----------------+-----------+\n",
      "|     avg(Amount)|max(Amount)|\n",
      "+----------------+-----------+\n",
      "|88.3496192509521|   25691.16|\n",
      "+----------------+-----------+\n",
      "\n"
     ]
    }
   ],
   "source": [
    "df.select(F.mean(feat), F.max(feat)).show()"
   ]
  },
  {
   "cell_type": "code",
   "execution_count": 60,
   "metadata": {
    "ExecuteTime": {
     "end_time": "2019-10-19T17:43:30.521629Z",
     "start_time": "2019-10-19T17:43:30.434664Z"
    }
   },
   "outputs": [
    {
     "name": "stdout",
     "output_type": "stream",
     "text": [
      "+-----------+-----------+\n",
      "|max(Amount)|min(Amount)|\n",
      "+-----------+-----------+\n",
      "|   25691.16|        0.0|\n",
      "+-----------+-----------+\n",
      "\n"
     ]
    }
   ],
   "source": [
    "df.select([x(df[feat]) \n",
    "           for x in [F.max, F.min ]]).show()"
   ]
  },
  {
   "cell_type": "code",
   "execution_count": 61,
   "metadata": {
    "ExecuteTime": {
     "end_time": "2019-10-19T17:43:31.357055Z",
     "start_time": "2019-10-19T17:43:30.946830Z"
    }
   },
   "outputs": [
    {
     "name": "stdout",
     "output_type": "stream",
     "text": [
      "+-----+\n",
      "|Class|\n",
      "+-----+\n",
      "|    1|\n",
      "|    0|\n",
      "+-----+\n",
      "\n"
     ]
    }
   ],
   "source": [
    "df.select(target).distinct().show()"
   ]
  },
  {
   "cell_type": "code",
   "execution_count": 62,
   "metadata": {
    "ExecuteTime": {
     "end_time": "2019-10-19T17:43:31.935231Z",
     "start_time": "2019-10-19T17:43:31.448387Z"
    }
   },
   "outputs": [
    {
     "name": "stdout",
     "output_type": "stream",
     "text": [
      "+-----+-----------+\n",
      "|Class|max(Amount)|\n",
      "+-----+-----------+\n",
      "|    1|    2125.87|\n",
      "|    0|   25691.16|\n",
      "+-----+-----------+\n",
      "\n"
     ]
    }
   ],
   "source": [
    "df.groupBy(target).agg(F.max(feat)).show()"
   ]
  },
  {
   "cell_type": "code",
   "execution_count": 63,
   "metadata": {
    "ExecuteTime": {
     "end_time": "2019-10-19T17:43:32.047202Z",
     "start_time": "2019-10-19T17:43:31.937393Z"
    }
   },
   "outputs": [
    {
     "name": "stdout",
     "output_type": "stream",
     "text": [
      "+------------+\n",
      "|count(Class)|\n",
      "+------------+\n",
      "|           7|\n",
      "+------------+\n",
      "\n"
     ]
    }
   ],
   "source": [
    "df.filter(df['Amount']>10000).agg({'Class': 'count'}).show()"
   ]
  },
  {
   "cell_type": "code",
   "execution_count": 64,
   "metadata": {
    "ExecuteTime": {
     "end_time": "2019-10-19T17:43:32.475742Z",
     "start_time": "2019-10-19T17:43:32.403907Z"
    }
   },
   "outputs": [
    {
     "name": "stdout",
     "output_type": "stream",
     "text": [
      "+----+------+\n",
      "|Time|Amount|\n",
      "+----+------+\n",
      "|   0|149.62|\n",
      "|   0|  2.69|\n",
      "+----+------+\n",
      "only showing top 2 rows\n",
      "\n"
     ]
    }
   ],
   "source": [
    "df.select('Time', 'Amount').filter(df['Class'].isin(0,1)).show(2)"
   ]
  },
  {
   "cell_type": "code",
   "execution_count": 65,
   "metadata": {
    "ExecuteTime": {
     "end_time": "2019-10-19T17:43:32.919133Z",
     "start_time": "2019-10-19T17:43:32.900260Z"
    }
   },
   "outputs": [],
   "source": [
    "grp =  df.groupBy(\"Class\").count().sort(\"Class\", ascending=False)"
   ]
  },
  {
   "cell_type": "code",
   "execution_count": 66,
   "metadata": {
    "ExecuteTime": {
     "end_time": "2019-10-19T17:43:34.404061Z",
     "start_time": "2019-10-19T17:43:33.394191Z"
    }
   },
   "outputs": [
    {
     "data": {
      "text/plain": [
       "<matplotlib.axes._subplots.AxesSubplot at 0x120a3cb10>"
      ]
     },
     "execution_count": 66,
     "metadata": {},
     "output_type": "execute_result"
    },
    {
     "data": {
      "image/png": "[encoded data removed]",
      "text/plain": [
       "<Figure size 432x288 with 1 Axes>"
      ]
     },
     "metadata": {
      "needs_background": "light"
     },
     "output_type": "display_data"
    }
   ],
   "source": [
    "grp.toPandas().plot.bar()"
   ]
  },
  {
   "cell_type": "code",
   "execution_count": 67,
   "metadata": {
    "ExecuteTime": {
     "end_time": "2019-10-19T17:43:36.247861Z",
     "start_time": "2019-10-19T17:43:34.406723Z"
    }
   },
   "outputs": [
    {
     "data": {
      "text/html": [
       "<div>\n",
       "<style scoped>\n",
       "    .dataframe tbody tr th:only-of-type {\n",
       "        vertical-align: middle;\n",
       "    }\n",
       "\n",
       "    .dataframe tbody tr th {\n",
       "        vertical-align: top;\n",
       "    }\n",
       "\n",
       "    .dataframe thead th {\n",
       "        text-align: right;\n",
       "    }\n",
       "</style>\n",
       "<table border=\"1\" class=\"dataframe\">\n",
       "  <thead>\n",
       "    <tr style=\"text-align: right;\">\n",
       "      <th></th>\n",
       "      <th>V1</th>\n",
       "      <th>V2</th>\n",
       "      <th>V3</th>\n",
       "      <th>V4</th>\n",
       "      <th>V5</th>\n",
       "      <th>V6</th>\n",
       "      <th>V7</th>\n",
       "      <th>V8</th>\n",
       "      <th>V9</th>\n",
       "      <th>V10</th>\n",
       "      <th>V11</th>\n",
       "      <th>V12</th>\n",
       "      <th>V13</th>\n",
       "      <th>V14</th>\n",
       "      <th>V15</th>\n",
       "      <th>V16</th>\n",
       "      <th>V17</th>\n",
       "      <th>V18</th>\n",
       "      <th>V19</th>\n",
       "      <th>V20</th>\n",
       "      <th>V21</th>\n",
       "      <th>V22</th>\n",
       "      <th>V23</th>\n",
       "      <th>V24</th>\n",
       "      <th>V25</th>\n",
       "      <th>V26</th>\n",
       "      <th>V27</th>\n",
       "      <th>V28</th>\n",
       "    </tr>\n",
       "    <tr>\n",
       "      <th>summary</th>\n",
       "      <th></th>\n",
       "      <th></th>\n",
       "      <th></th>\n",
       "      <th></th>\n",
       "      <th></th>\n",
       "      <th></th>\n",
       "      <th></th>\n",
       "      <th></th>\n",
       "      <th></th>\n",
       "      <th></th>\n",
       "      <th></th>\n",
       "      <th></th>\n",
       "      <th></th>\n",
       "      <th></th>\n",
       "      <th></th>\n",
       "      <th></th>\n",
       "      <th></th>\n",
       "      <th></th>\n",
       "      <th></th>\n",
       "      <th></th>\n",
       "      <th></th>\n",
       "      <th></th>\n",
       "      <th></th>\n",
       "      <th></th>\n",
       "      <th></th>\n",
       "      <th></th>\n",
       "      <th></th>\n",
       "      <th></th>\n",
       "    </tr>\n",
       "  </thead>\n",
       "  <tbody>\n",
       "    <tr>\n",
       "      <td>count</td>\n",
       "      <td>284807.000</td>\n",
       "      <td>284807.000</td>\n",
       "      <td>284807.000</td>\n",
       "      <td>284807.000</td>\n",
       "      <td>284807.000</td>\n",
       "      <td>284807.000</td>\n",
       "      <td>284807.000</td>\n",
       "      <td>284807.000</td>\n",
       "      <td>284807.000</td>\n",
       "      <td>284807.000</td>\n",
       "      <td>284807.000</td>\n",
       "      <td>284807.000</td>\n",
       "      <td>284807.000</td>\n",
       "      <td>284807.000</td>\n",
       "      <td>284807.000</td>\n",
       "      <td>284807.000</td>\n",
       "      <td>284807.000</td>\n",
       "      <td>284807.000</td>\n",
       "      <td>284807.000</td>\n",
       "      <td>284807.000</td>\n",
       "      <td>284807.000</td>\n",
       "      <td>284807.000</td>\n",
       "      <td>284807.000</td>\n",
       "      <td>284807.000</td>\n",
       "      <td>284807.000</td>\n",
       "      <td>284807.000</td>\n",
       "      <td>284807.000</td>\n",
       "      <td>284807.000</td>\n",
       "    </tr>\n",
       "    <tr>\n",
       "      <td>mean</td>\n",
       "      <td>0.000</td>\n",
       "      <td>0.000</td>\n",
       "      <td>-0.000</td>\n",
       "      <td>0.000</td>\n",
       "      <td>0.000</td>\n",
       "      <td>0.000</td>\n",
       "      <td>-0.000</td>\n",
       "      <td>-0.000</td>\n",
       "      <td>-0.000</td>\n",
       "      <td>0.000</td>\n",
       "      <td>-0.000</td>\n",
       "      <td>-0.000</td>\n",
       "      <td>0.000</td>\n",
       "      <td>0.000</td>\n",
       "      <td>0.000</td>\n",
       "      <td>0.000</td>\n",
       "      <td>-0.000</td>\n",
       "      <td>0.000</td>\n",
       "      <td>0.000</td>\n",
       "      <td>0.000</td>\n",
       "      <td>0.000</td>\n",
       "      <td>-0.000</td>\n",
       "      <td>0.000</td>\n",
       "      <td>0.000</td>\n",
       "      <td>0.000</td>\n",
       "      <td>0.000</td>\n",
       "      <td>-0.000</td>\n",
       "      <td>-0.000</td>\n",
       "    </tr>\n",
       "    <tr>\n",
       "      <td>stddev</td>\n",
       "      <td>1.959</td>\n",
       "      <td>1.651</td>\n",
       "      <td>1.516</td>\n",
       "      <td>1.416</td>\n",
       "      <td>1.380</td>\n",
       "      <td>1.332</td>\n",
       "      <td>1.237</td>\n",
       "      <td>1.194</td>\n",
       "      <td>1.099</td>\n",
       "      <td>1.089</td>\n",
       "      <td>1.021</td>\n",
       "      <td>0.999</td>\n",
       "      <td>0.995</td>\n",
       "      <td>0.959</td>\n",
       "      <td>0.915</td>\n",
       "      <td>0.876</td>\n",
       "      <td>0.849</td>\n",
       "      <td>0.838</td>\n",
       "      <td>0.814</td>\n",
       "      <td>0.771</td>\n",
       "      <td>0.735</td>\n",
       "      <td>0.726</td>\n",
       "      <td>0.624</td>\n",
       "      <td>0.606</td>\n",
       "      <td>0.521</td>\n",
       "      <td>0.482</td>\n",
       "      <td>0.404</td>\n",
       "      <td>0.330</td>\n",
       "    </tr>\n",
       "    <tr>\n",
       "      <td>min</td>\n",
       "      <td>-56.408</td>\n",
       "      <td>-72.716</td>\n",
       "      <td>-48.326</td>\n",
       "      <td>-5.683</td>\n",
       "      <td>-113.743</td>\n",
       "      <td>-26.161</td>\n",
       "      <td>-43.557</td>\n",
       "      <td>-73.217</td>\n",
       "      <td>-13.434</td>\n",
       "      <td>-24.588</td>\n",
       "      <td>-4.797</td>\n",
       "      <td>-18.684</td>\n",
       "      <td>-5.792</td>\n",
       "      <td>-19.214</td>\n",
       "      <td>-4.499</td>\n",
       "      <td>-14.130</td>\n",
       "      <td>-25.163</td>\n",
       "      <td>-9.499</td>\n",
       "      <td>-7.214</td>\n",
       "      <td>-54.498</td>\n",
       "      <td>-34.830</td>\n",
       "      <td>-10.933</td>\n",
       "      <td>-44.808</td>\n",
       "      <td>-2.837</td>\n",
       "      <td>-10.295</td>\n",
       "      <td>-2.605</td>\n",
       "      <td>-22.566</td>\n",
       "      <td>-15.430</td>\n",
       "    </tr>\n",
       "    <tr>\n",
       "      <td>max</td>\n",
       "      <td>2.455</td>\n",
       "      <td>22.058</td>\n",
       "      <td>9.383</td>\n",
       "      <td>16.875</td>\n",
       "      <td>34.802</td>\n",
       "      <td>73.302</td>\n",
       "      <td>120.589</td>\n",
       "      <td>20.007</td>\n",
       "      <td>15.595</td>\n",
       "      <td>23.745</td>\n",
       "      <td>12.019</td>\n",
       "      <td>7.848</td>\n",
       "      <td>7.127</td>\n",
       "      <td>10.527</td>\n",
       "      <td>8.878</td>\n",
       "      <td>17.315</td>\n",
       "      <td>9.254</td>\n",
       "      <td>5.041</td>\n",
       "      <td>5.592</td>\n",
       "      <td>39.421</td>\n",
       "      <td>27.203</td>\n",
       "      <td>10.503</td>\n",
       "      <td>22.528</td>\n",
       "      <td>4.585</td>\n",
       "      <td>7.520</td>\n",
       "      <td>3.517</td>\n",
       "      <td>31.612</td>\n",
       "      <td>33.848</td>\n",
       "    </tr>\n",
       "  </tbody>\n",
       "</table>\n",
       "</div>"
      ],
      "text/plain": [
       "                 V1          V2          V3          V4          V5  \\\n",
       "summary                                                               \n",
       "count    284807.000  284807.000  284807.000  284807.000  284807.000   \n",
       "mean          0.000       0.000      -0.000       0.000       0.000   \n",
       "stddev        1.959       1.651       1.516       1.416       1.380   \n",
       "min         -56.408     -72.716     -48.326      -5.683    -113.743   \n",
       "max           2.455      22.058       9.383      16.875      34.802   \n",
       "\n",
       "                 V6          V7          V8          V9         V10  \\\n",
       "summary                                                               \n",
       "count    284807.000  284807.000  284807.000  284807.000  284807.000   \n",
       "mean          0.000      -0.000      -0.000      -0.000       0.000   \n",
       "stddev        1.332       1.237       1.194       1.099       1.089   \n",
       "min         -26.161     -43.557     -73.217     -13.434     -24.588   \n",
       "max          73.302     120.589      20.007      15.595      23.745   \n",
       "\n",
       "                V11         V12         V13         V14         V15  \\\n",
       "summary                                                               \n",
       "count    284807.000  284807.000  284807.000  284807.000  284807.000   \n",
       "mean         -0.000      -0.000       0.000       0.000       0.000   \n",
       "stddev        1.021       0.999       0.995       0.959       0.915   \n",
       "min          -4.797     -18.684      -5.792     -19.214      -4.499   \n",
       "max          12.019       7.848       7.127      10.527       8.878   \n",
       "\n",
       "                V16         V17         V18         V19         V20  \\\n",
       "summary                                                               \n",
       "count    284807.000  284807.000  284807.000  284807.000  284807.000   \n",
       "mean          0.000      -0.000       0.000       0.000       0.000   \n",
       "stddev        0.876       0.849       0.838       0.814       0.771   \n",
       "min         -14.130     -25.163      -9.499      -7.214     -54.498   \n",
       "max          17.315       9.254       5.041       5.592      39.421   \n",
       "\n",
       "                V21         V22         V23         V24         V25  \\\n",
       "summary                                                               \n",
       "count    284807.000  284807.000  284807.000  284807.000  284807.000   \n",
       "mean          0.000      -0.000       0.000       0.000       0.000   \n",
       "stddev        0.735       0.726       0.624       0.606       0.521   \n",
       "min         -34.830     -10.933     -44.808      -2.837     -10.295   \n",
       "max          27.203      10.503      22.528       4.585       7.520   \n",
       "\n",
       "                V26         V27         V28  \n",
       "summary                                      \n",
       "count    284807.000  284807.000  284807.000  \n",
       "mean          0.000      -0.000      -0.000  \n",
       "stddev        0.482       0.404       0.330  \n",
       "min          -2.605     -22.566     -15.430  \n",
       "max           3.517      31.612      33.848  "
      ]
     },
     "execution_count": 67,
     "metadata": {},
     "output_type": "execute_result"
    }
   ],
   "source": [
    "df.drop('Time','Amount','Class').describe().toPandas().set_index('summary').astype(float).round(3)"
   ]
  },
  {
   "cell_type": "markdown",
   "metadata": {
    "ExecuteTime": {
     "end_time": "2019-09-29T20:26:51.539788Z",
     "start_time": "2019-09-29T20:26:51.387123Z"
    }
   },
   "source": [
    "# Feature Engineering"
   ]
  },
  {
   "cell_type": "markdown",
   "metadata": {},
   "source": [
    "## Temporal Variables"
   ]
  },
  {
   "cell_type": "code",
   "execution_count": 68,
   "metadata": {
    "ExecuteTime": {
     "end_time": "2019-10-19T17:43:36.283301Z",
     "start_time": "2019-10-19T17:43:36.252928Z"
    }
   },
   "outputs": [
    {
     "data": {
      "text/html": [
       "<div>\n",
       "<style scoped>\n",
       "    .dataframe tbody tr th:only-of-type {\n",
       "        vertical-align: middle;\n",
       "    }\n",
       "\n",
       "    .dataframe tbody tr th {\n",
       "        vertical-align: top;\n",
       "    }\n",
       "\n",
       "    .dataframe thead th {\n",
       "        text-align: right;\n",
       "    }\n",
       "</style>\n",
       "<table border=\"1\" class=\"dataframe\">\n",
       "  <thead>\n",
       "    <tr style=\"text-align: right;\">\n",
       "      <th></th>\n",
       "      <th>0</th>\n",
       "      <th>1</th>\n",
       "      <th>2</th>\n",
       "      <th>3</th>\n",
       "      <th>4</th>\n",
       "      <th>5</th>\n",
       "      <th>6</th>\n",
       "    </tr>\n",
       "  </thead>\n",
       "  <tbody>\n",
       "    <tr>\n",
       "      <td>0</td>\n",
       "      <td>agg</td>\n",
       "      <td>createOrReplaceGlobalTempView</td>\n",
       "      <td>dtypes</td>\n",
       "      <td>hint</td>\n",
       "      <td>printSchema</td>\n",
       "      <td>selectExpr</td>\n",
       "      <td>toLocalIterator</td>\n",
       "    </tr>\n",
       "    <tr>\n",
       "      <td>1</td>\n",
       "      <td>alias</td>\n",
       "      <td>createOrReplaceTempView</td>\n",
       "      <td>exceptAll</td>\n",
       "      <td>intersect</td>\n",
       "      <td>randomSplit</td>\n",
       "      <td>show</td>\n",
       "      <td>toPandas</td>\n",
       "    </tr>\n",
       "    <tr>\n",
       "      <td>2</td>\n",
       "      <td>approxQuantile</td>\n",
       "      <td>createTempView</td>\n",
       "      <td>explain</td>\n",
       "      <td>intersectAll</td>\n",
       "      <td>rdd</td>\n",
       "      <td>sort</td>\n",
       "      <td>union</td>\n",
       "    </tr>\n",
       "    <tr>\n",
       "      <td>3</td>\n",
       "      <td>cache</td>\n",
       "      <td>crossJoin</td>\n",
       "      <td>fillna</td>\n",
       "      <td>isLocal</td>\n",
       "      <td>registerTempTable</td>\n",
       "      <td>sortWithinPartitions</td>\n",
       "      <td>unionAll</td>\n",
       "    </tr>\n",
       "    <tr>\n",
       "      <td>4</td>\n",
       "      <td>checkpoint</td>\n",
       "      <td>crosstab</td>\n",
       "      <td>filter</td>\n",
       "      <td>isStreaming</td>\n",
       "      <td>repartition</td>\n",
       "      <td>sql_ctx</td>\n",
       "      <td>unionByName</td>\n",
       "    </tr>\n",
       "    <tr>\n",
       "      <td>5</td>\n",
       "      <td>coalesce</td>\n",
       "      <td>cube</td>\n",
       "      <td>first</td>\n",
       "      <td>is_cached</td>\n",
       "      <td>repartitionByRange</td>\n",
       "      <td>stat</td>\n",
       "      <td>unpersist</td>\n",
       "    </tr>\n",
       "    <tr>\n",
       "      <td>6</td>\n",
       "      <td>colRegex</td>\n",
       "      <td>describe</td>\n",
       "      <td>foreach</td>\n",
       "      <td>join</td>\n",
       "      <td>replace</td>\n",
       "      <td>storageLevel</td>\n",
       "      <td>where</td>\n",
       "    </tr>\n",
       "    <tr>\n",
       "      <td>7</td>\n",
       "      <td>collect</td>\n",
       "      <td>distinct</td>\n",
       "      <td>foreachPartition</td>\n",
       "      <td>limit</td>\n",
       "      <td>rollup</td>\n",
       "      <td>subtract</td>\n",
       "      <td>withColumn</td>\n",
       "    </tr>\n",
       "    <tr>\n",
       "      <td>8</td>\n",
       "      <td>columns</td>\n",
       "      <td>drop</td>\n",
       "      <td>freqItems</td>\n",
       "      <td>localCheckpoint</td>\n",
       "      <td>sample</td>\n",
       "      <td>summary</td>\n",
       "      <td>withColumnRenamed</td>\n",
       "    </tr>\n",
       "    <tr>\n",
       "      <td>9</td>\n",
       "      <td>corr</td>\n",
       "      <td>dropDuplicates</td>\n",
       "      <td>groupBy</td>\n",
       "      <td>na</td>\n",
       "      <td>sampleBy</td>\n",
       "      <td>take</td>\n",
       "      <td>withWatermark</td>\n",
       "    </tr>\n",
       "    <tr>\n",
       "      <td>10</td>\n",
       "      <td>count</td>\n",
       "      <td>drop_duplicates</td>\n",
       "      <td>groupby</td>\n",
       "      <td>orderBy</td>\n",
       "      <td>schema</td>\n",
       "      <td>toDF</td>\n",
       "      <td>write</td>\n",
       "    </tr>\n",
       "    <tr>\n",
       "      <td>11</td>\n",
       "      <td>cov</td>\n",
       "      <td>dropna</td>\n",
       "      <td>head</td>\n",
       "      <td>persist</td>\n",
       "      <td>select</td>\n",
       "      <td>toJSON</td>\n",
       "      <td>writeStream</td>\n",
       "    </tr>\n",
       "    <tr>\n",
       "      <td>12</td>\n",
       "      <td>createGlobalTempView</td>\n",
       "      <td></td>\n",
       "      <td></td>\n",
       "      <td></td>\n",
       "      <td></td>\n",
       "      <td></td>\n",
       "      <td></td>\n",
       "    </tr>\n",
       "  </tbody>\n",
       "</table>\n",
       "</div>"
      ],
      "text/plain": [
       "                       0                              1                 2  \\\n",
       "0                    agg  createOrReplaceGlobalTempView            dtypes   \n",
       "1                  alias        createOrReplaceTempView         exceptAll   \n",
       "2         approxQuantile                 createTempView           explain   \n",
       "3                  cache                      crossJoin            fillna   \n",
       "4             checkpoint                       crosstab            filter   \n",
       "5               coalesce                           cube             first   \n",
       "6               colRegex                       describe           foreach   \n",
       "7                collect                       distinct  foreachPartition   \n",
       "8                columns                           drop         freqItems   \n",
       "9                   corr                 dropDuplicates           groupBy   \n",
       "10                 count                drop_duplicates           groupby   \n",
       "11                   cov                         dropna              head   \n",
       "12  createGlobalTempView                                                    \n",
       "\n",
       "                  3                   4                     5  \\\n",
       "0              hint         printSchema            selectExpr   \n",
       "1         intersect         randomSplit                  show   \n",
       "2      intersectAll                 rdd                  sort   \n",
       "3           isLocal   registerTempTable  sortWithinPartitions   \n",
       "4       isStreaming         repartition               sql_ctx   \n",
       "5         is_cached  repartitionByRange                  stat   \n",
       "6              join             replace          storageLevel   \n",
       "7             limit              rollup              subtract   \n",
       "8   localCheckpoint              sample               summary   \n",
       "9                na            sampleBy                  take   \n",
       "10          orderBy              schema                  toDF   \n",
       "11          persist              select                toJSON   \n",
       "12                                                              \n",
       "\n",
       "                    6  \n",
       "0     toLocalIterator  \n",
       "1            toPandas  \n",
       "2               union  \n",
       "3            unionAll  \n",
       "4         unionByName  \n",
       "5           unpersist  \n",
       "6               where  \n",
       "7          withColumn  \n",
       "8   withColumnRenamed  \n",
       "9       withWatermark  \n",
       "10              write  \n",
       "11        writeStream  \n",
       "12                     "
      ]
     },
     "execution_count": 68,
     "metadata": {},
     "output_type": "execute_result"
    }
   ],
   "source": [
    "show_method_attributes(df.select('Time'))"
   ]
  },
  {
   "cell_type": "code",
   "execution_count": 69,
   "metadata": {
    "ExecuteTime": {
     "end_time": "2019-10-19T17:43:36.342845Z",
     "start_time": "2019-10-19T17:43:36.287535Z"
    }
   },
   "outputs": [
    {
     "name": "stdout",
     "output_type": "stream",
     "text": [
      "+----+\n",
      "|Time|\n",
      "+----+\n",
      "|   0|\n",
      "|   0|\n",
      "|   1|\n",
      "+----+\n",
      "only showing top 3 rows\n",
      "\n"
     ]
    }
   ],
   "source": [
    "df.select('Time').show(3)"
   ]
  },
  {
   "cell_type": "code",
   "execution_count": 70,
   "metadata": {
    "ExecuteTime": {
     "end_time": "2019-10-19T17:43:36.916561Z",
     "start_time": "2019-10-19T17:43:36.710246Z"
    }
   },
   "outputs": [
    {
     "name": "stdout",
     "output_type": "stream",
     "text": [
      "+-------+------------------+\n",
      "|summary|              Time|\n",
      "+-------+------------------+\n",
      "|  count|            284807|\n",
      "|   mean|        94813.8596|\n",
      "| stddev|47488.145954566324|\n",
      "|    min|                 0|\n",
      "|    max|            172792|\n",
      "+-------+------------------+\n",
      "\n"
     ]
    }
   ],
   "source": [
    "df.select('Time').describe().show()"
   ]
  },
  {
   "cell_type": "code",
   "execution_count": 71,
   "metadata": {
    "ExecuteTime": {
     "end_time": "2019-10-19T17:43:37.371241Z",
     "start_time": "2019-10-19T17:43:37.283773Z"
    }
   },
   "outputs": [
    {
     "data": {
      "text/plain": [
       "Decimal('1.999907407407407407407407408')"
      ]
     },
     "execution_count": 71,
     "metadata": {},
     "output_type": "execute_result"
    }
   ],
   "source": [
    "time_max = df.select(F.max('Time')).collect()[0][0]\n",
    "time_max / 60 / 60 / 24 # we have data of two days."
   ]
  },
  {
   "cell_type": "code",
   "execution_count": 72,
   "metadata": {
    "ExecuteTime": {
     "end_time": "2019-10-19T17:43:37.949280Z",
     "start_time": "2019-10-19T17:43:37.867137Z"
    }
   },
   "outputs": [
    {
     "name": "stdout",
     "output_type": "stream",
     "text": [
      "+----+-------------------+----+\n",
      "|Time|Date               |hour|\n",
      "+----+-------------------+----+\n",
      "|0   |2019-01-01 00:00:00|0   |\n",
      "|0   |2019-01-01 00:00:00|0   |\n",
      "|1   |2019-01-01 00:00:01|0   |\n",
      "|1   |2019-01-01 00:00:01|0   |\n",
      "|2   |2019-01-01 00:00:02|0   |\n",
      "+----+-------------------+----+\n",
      "only showing top 5 rows\n",
      "\n"
     ]
    }
   ],
   "source": [
    "from pyspark.sql.functions import expr, hour\n",
    "\n",
    "df_time_hour = (df.select('Time').withColumn('Date',\n",
    "    expr(\"timestamp(unix_timestamp('2019-01-01 00:00:00') + Time)\"))\n",
    "  .withColumn('hour', hour('Date')))\n",
    " \n",
    "df_time_hour.show(n=5,truncate=False)"
   ]
  },
  {
   "cell_type": "code",
   "execution_count": 73,
   "metadata": {
    "ExecuteTime": {
     "end_time": "2019-10-19T17:43:39.635641Z",
     "start_time": "2019-10-19T17:43:38.404002Z"
    }
   },
   "outputs": [
    {
     "data": {
      "text/plain": [
       "<matplotlib.axes._subplots.AxesSubplot at 0x120b13390>"
      ]
     },
     "execution_count": 73,
     "metadata": {},
     "output_type": "execute_result"
    },
    {
     "data": {
      "image/png": "[encoded data removed]",
      "text/plain": [
       "<Figure size 432x288 with 1 Axes>"
      ]
     },
     "metadata": {
      "needs_background": "light"
     },
     "output_type": "display_data"
    }
   ],
   "source": [
    "grp = df_time_hour.groupBy('hour').count().sort('hour',ascending=False)\n",
    "grp.toPandas().plot.bar()"
   ]
  },
  {
   "cell_type": "markdown",
   "metadata": {},
   "source": [
    "## Bucketizing Numerical Features"
   ]
  },
  {
   "cell_type": "code",
   "execution_count": 74,
   "metadata": {
    "ExecuteTime": {
     "end_time": "2019-10-19T17:43:41.592224Z",
     "start_time": "2019-10-19T17:43:39.640462Z"
    }
   },
   "outputs": [
    {
     "data": {
      "text/plain": [
       "<matplotlib.axes._subplots.AxesSubplot at 0x120ab6c10>"
      ]
     },
     "execution_count": 74,
     "metadata": {},
     "output_type": "execute_result"
    },
    {
     "data": {
      "image/png": "[encoded data removed]",
      "text/plain": [
       "<Figure size 432x288 with 1 Axes>"
      ]
     },
     "metadata": {
      "needs_background": "light"
     },
     "output_type": "display_data"
    }
   ],
   "source": [
    "df.select('Amount').toPandas().plot.hist(bins=100)"
   ]
  },
  {
   "cell_type": "code",
   "execution_count": 75,
   "metadata": {
    "ExecuteTime": {
     "end_time": "2019-10-19T17:43:41.826617Z",
     "start_time": "2019-10-19T17:43:41.598235Z"
    }
   },
   "outputs": [
    {
     "name": "stdout",
     "output_type": "stream",
     "text": [
      "+-------+-----------------+\n",
      "|summary|           Amount|\n",
      "+-------+-----------------+\n",
      "|  count|           284807|\n",
      "|   mean| 88.3496192509521|\n",
      "| stddev|250.1201092401885|\n",
      "|    min|              0.0|\n",
      "|    max|         25691.16|\n",
      "+-------+-----------------+\n",
      "\n"
     ]
    }
   ],
   "source": [
    "df.select('Amount').describe().show()"
   ]
  },
  {
   "cell_type": "code",
   "execution_count": 76,
   "metadata": {
    "ExecuteTime": {
     "end_time": "2019-10-19T17:43:42.096886Z",
     "start_time": "2019-10-19T17:43:41.829510Z"
    }
   },
   "outputs": [
    {
     "data": {
      "text/plain": [
       "(0.0, 25691.16)"
      ]
     },
     "execution_count": 76,
     "metadata": {},
     "output_type": "execute_result"
    }
   ],
   "source": [
    "# there is no easy way to get max or min in pyspark\n",
    "amt_min = df.agg({\"Amount\": \"min\"}).collect()[0][0]\n",
    "amt_max = df.agg({\"Amount\": \"max\"}).collect()[0][0] \n",
    "\n",
    "amt_min, amt_max"
   ]
  },
  {
   "cell_type": "code",
   "execution_count": 77,
   "metadata": {
    "ExecuteTime": {
     "end_time": "2019-10-19T17:43:42.112249Z",
     "start_time": "2019-10-19T17:43:42.105292Z"
    }
   },
   "outputs": [
    {
     "data": {
      "text/plain": [
       "array([    0.        ,  2854.68444444,  5709.36888889,  8564.05333333,\n",
       "       11418.73777778, 14273.42222222, 17128.10666667, 19982.79111111,\n",
       "       22837.47555556, 25692.16      ])"
      ]
     },
     "execution_count": 77,
     "metadata": {},
     "output_type": "execute_result"
    }
   ],
   "source": [
    "splits = np.linspace(amt_min, amt_max+1, 10)\n",
    "splits"
   ]
  },
  {
   "cell_type": "code",
   "execution_count": 78,
   "metadata": {
    "ExecuteTime": {
     "end_time": "2019-10-19T17:43:42.346593Z",
     "start_time": "2019-10-19T17:43:42.116836Z"
    }
   },
   "outputs": [
    {
     "name": "stdout",
     "output_type": "stream",
     "text": [
      "+------+----------+\n",
      "|Amount|Amount_cat|\n",
      "+------+----------+\n",
      "|149.62|       0.0|\n",
      "|  2.69|       0.0|\n",
      "|378.66|       0.0|\n",
      "| 123.5|       0.0|\n",
      "| 69.99|       0.0|\n",
      "+------+----------+\n",
      "only showing top 5 rows\n",
      "\n"
     ]
    }
   ],
   "source": [
    "from pyspark.ml.feature import Bucketizer\n",
    "\n",
    "bucketizer = Bucketizer(splits=splits,inputCol=\"Amount\", outputCol=\"Amount_cat\")\n",
    "\n",
    "df = bucketizer.setHandleInvalid(\"keep\").transform(df)\n",
    "\n",
    "df.select('Amount','Amount_cat').show(5)"
   ]
  },
  {
   "cell_type": "markdown",
   "metadata": {
    "ExecuteTime": {
     "end_time": "2019-09-29T21:44:02.051592Z",
     "start_time": "2019-09-29T21:44:02.039016Z"
    }
   },
   "source": [
    "## Dummy Variables for Binned and Categorical Features"
   ]
  },
  {
   "cell_type": "code",
   "execution_count": 79,
   "metadata": {
    "ExecuteTime": {
     "end_time": "2019-10-19T17:43:43.853001Z",
     "start_time": "2019-10-19T17:43:42.889578Z"
    }
   },
   "outputs": [
    {
     "name": "stdout",
     "output_type": "stream",
     "text": [
      "root\n",
      " |-- Time: decimal(10,0) (nullable = true)\n",
      " |-- V1: double (nullable = true)\n",
      " |-- V2: double (nullable = true)\n",
      " |-- V3: double (nullable = true)\n",
      " |-- V4: double (nullable = true)\n",
      " |-- V5: double (nullable = true)\n",
      " |-- V6: double (nullable = true)\n",
      " |-- V7: double (nullable = true)\n",
      " |-- V8: double (nullable = true)\n",
      " |-- V9: double (nullable = true)\n",
      " |-- V10: double (nullable = true)\n",
      " |-- V11: double (nullable = true)\n",
      " |-- V12: double (nullable = true)\n",
      " |-- V13: double (nullable = true)\n",
      " |-- V14: double (nullable = true)\n",
      " |-- V15: double (nullable = true)\n",
      " |-- V16: double (nullable = true)\n",
      " |-- V17: double (nullable = true)\n",
      " |-- V18: double (nullable = true)\n",
      " |-- V19: double (nullable = true)\n",
      " |-- V20: double (nullable = true)\n",
      " |-- V21: double (nullable = true)\n",
      " |-- V22: double (nullable = true)\n",
      " |-- V23: double (nullable = true)\n",
      " |-- V24: double (nullable = true)\n",
      " |-- V25: double (nullable = true)\n",
      " |-- V26: double (nullable = true)\n",
      " |-- V27: double (nullable = true)\n",
      " |-- V28: double (nullable = true)\n",
      " |-- Amount: double (nullable = true)\n",
      " |-- Class: integer (nullable = true)\n",
      " |-- Amount_cat: double (nullable = true)\n",
      " |-- Amount_cat_index: double (nullable = false)\n",
      " |-- Amount_cat_index_encoded: vector (nullable = true)\n",
      " |-- Amount_cat_vec: vector (nullable = true)\n",
      "\n"
     ]
    }
   ],
   "source": [
    "cols_cat = ['Amount_cat'] \n",
    "\n",
    "indexers = [StringIndexer(inputCol=column, outputCol=column+\"_index\")\n",
    "            for column in cols_cat]\n",
    "\n",
    "encoder = OneHotEncoderEstimator(\n",
    "    inputCols=[indexer.getOutputCol() for indexer in indexers],\n",
    "    outputCols=[\"{0}_encoded\".format(indexer.getOutputCol()) for indexer in indexers]\n",
    ")\n",
    "\n",
    "assembler = VectorAssembler(\n",
    "    inputCols=encoder.getOutputCols(),\n",
    "    outputCol=\"Amount_cat_vec\"\n",
    ")\n",
    "\n",
    "pipeline = Pipeline(stages=indexers + [encoder, assembler])\n",
    "df = pipeline.fit(df).transform(df)\n",
    "\n",
    "df.printSchema()"
   ]
  },
  {
   "cell_type": "code",
   "execution_count": 80,
   "metadata": {
    "ExecuteTime": {
     "end_time": "2019-10-19T17:43:43.969226Z",
     "start_time": "2019-10-19T17:43:43.856919Z"
    }
   },
   "outputs": [
    {
     "name": "stdout",
     "output_type": "stream",
     "text": [
      "+------+----------+----------------+------------------------+\n",
      "|Amount|Amount_cat|Amount_cat_index|Amount_cat_index_encoded|\n",
      "+------+----------+----------------+------------------------+\n",
      "|149.62|       0.0|             0.0|           (6,[0],[1.0])|\n",
      "|  2.69|       0.0|             0.0|           (6,[0],[1.0])|\n",
      "|378.66|       0.0|             0.0|           (6,[0],[1.0])|\n",
      "| 123.5|       0.0|             0.0|           (6,[0],[1.0])|\n",
      "| 69.99|       0.0|             0.0|           (6,[0],[1.0])|\n",
      "+------+----------+----------------+------------------------+\n",
      "only showing top 5 rows\n",
      "\n"
     ]
    }
   ],
   "source": [
    "feat = 'Amount'\n",
    "df.select(feat,f'{feat}_cat',f'{feat}_cat_index',f'{feat}_cat_index_encoded').show(5)"
   ]
  },
  {
   "cell_type": "markdown",
   "metadata": {},
   "source": [
    "## Log Transform Large Numerical Features\n",
    "We generally perform log or boxcox transformation of features with large number\n",
    "to make it look like more Gaussian."
   ]
  },
  {
   "cell_type": "code",
   "execution_count": 81,
   "metadata": {
    "ExecuteTime": {
     "end_time": "2019-10-19T17:43:44.572534Z",
     "start_time": "2019-10-19T17:43:44.512054Z"
    }
   },
   "outputs": [
    {
     "name": "stdout",
     "output_type": "stream",
     "text": [
      "+------+------------------+\n",
      "|Amount|      log1p_Amount|\n",
      "+------+------------------+\n",
      "|149.62| 5.014760108673205|\n",
      "|  2.69|1.3056264580524357|\n",
      "+------+------------------+\n",
      "only showing top 2 rows\n",
      "\n"
     ]
    }
   ],
   "source": [
    "df.select('Amount').withColumn('log1p_Amount', F.log1p(\"Amount\")).show(2)"
   ]
  },
  {
   "cell_type": "code",
   "execution_count": 82,
   "metadata": {
    "ExecuteTime": {
     "end_time": "2019-10-19T17:43:45.071392Z",
     "start_time": "2019-10-19T17:43:45.065626Z"
    }
   },
   "outputs": [
    {
     "data": {
      "text/plain": [
       "5.014760108673205"
      ]
     },
     "execution_count": 82,
     "metadata": {},
     "output_type": "execute_result"
    }
   ],
   "source": [
    "np.log1p(149.62)"
   ]
  },
  {
   "cell_type": "code",
   "execution_count": 83,
   "metadata": {
    "ExecuteTime": {
     "end_time": "2019-10-19T17:43:45.647819Z",
     "start_time": "2019-10-19T17:43:45.630621Z"
    }
   },
   "outputs": [],
   "source": [
    "cols_log = ['Time', 'Amount']\n",
    "\n",
    "for c in cols_log:\n",
    "    df = df.withColumn('log1p_' + c , F.log1p(c))"
   ]
  },
  {
   "cell_type": "code",
   "execution_count": 84,
   "metadata": {
    "ExecuteTime": {
     "end_time": "2019-10-19T17:43:46.158488Z",
     "start_time": "2019-10-19T17:43:46.148169Z"
    }
   },
   "outputs": [
    {
     "name": "stdout",
     "output_type": "stream",
     "text": [
      "['Time', 'V1', 'V2', 'V3', 'V4', 'V5', 'V6', 'V7', 'V8', 'V9', 'V10', 'V11', 'V12', 'V13', 'V14', 'V15', 'V16', 'V17', 'V18', 'V19', 'V20', 'V21', 'V22', 'V23', 'V24', 'V25', 'V26', 'V27', 'V28', 'Amount', 'Class', 'Amount_cat', 'Amount_cat_index', 'Amount_cat_index_encoded', 'Amount_cat_vec', 'log1p_Time', 'log1p_Amount']\n"
     ]
    }
   ],
   "source": [
    "print(df.columns)"
   ]
  },
  {
   "cell_type": "code",
   "execution_count": 85,
   "metadata": {
    "ExecuteTime": {
     "end_time": "2019-10-19T17:43:46.810511Z",
     "start_time": "2019-10-19T17:43:46.700558Z"
    }
   },
   "outputs": [
    {
     "name": "stdout",
     "output_type": "stream",
     "text": [
      "+----------+------------------+\n",
      "|log1p_Time|      log1p_Amount|\n",
      "+----------+------------------+\n",
      "|       0.0| 5.014760108673205|\n",
      "|       0.0|1.3056264580524357|\n",
      "+----------+------------------+\n",
      "only showing top 2 rows\n",
      "\n"
     ]
    }
   ],
   "source": [
    "df.select(['log1p_Time', 'log1p_Amount']).show(2)"
   ]
  },
  {
   "cell_type": "code",
   "execution_count": 86,
   "metadata": {
    "ExecuteTime": {
     "end_time": "2019-10-19T17:43:47.240157Z",
     "start_time": "2019-10-19T17:43:47.234723Z"
    }
   },
   "outputs": [
    {
     "data": {
      "text/plain": [
       "['log1p_Time', 'log1p_Amount']"
      ]
     },
     "execution_count": 86,
     "metadata": {},
     "output_type": "execute_result"
    }
   ],
   "source": [
    "cols_after_log = ['log1p_' + i for i in cols_log]\n",
    "cols_after_log"
   ]
  },
  {
   "cell_type": "markdown",
   "metadata": {},
   "source": [
    "## Combine All Features to One Column"
   ]
  },
  {
   "cell_type": "code",
   "execution_count": 87,
   "metadata": {
    "ExecuteTime": {
     "end_time": "2019-10-19T17:43:48.338320Z",
     "start_time": "2019-10-19T17:43:48.333980Z"
    }
   },
   "outputs": [
    {
     "name": "stdout",
     "output_type": "stream",
     "text": [
      "['Time', 'V1', 'V2', 'V3', 'V4', 'V5', 'V6', 'V7', 'V8', 'V9', 'V10', 'V11', 'V12', 'V13', 'V14', 'V15', 'V16', 'V17', 'V18', 'V19', 'V20', 'V21', 'V22', 'V23', 'V24', 'V25', 'V26', 'V27', 'V28', 'Amount', 'Class', 'Amount_cat', 'Amount_cat_index', 'Amount_cat_index_encoded', 'Amount_cat_vec', 'log1p_Time', 'log1p_Amount']\n"
     ]
    }
   ],
   "source": [
    "print(df.columns)"
   ]
  },
  {
   "cell_type": "code",
   "execution_count": 88,
   "metadata": {
    "ExecuteTime": {
     "end_time": "2019-10-19T17:43:48.883612Z",
     "start_time": "2019-10-19T17:43:48.879374Z"
    }
   },
   "outputs": [],
   "source": [
    "selected_features = [ 'V1', 'V2', 'V3', 'V4', 'V5', 'V6', 'V7', 'V8', 'V9',\n",
    "                     'V10', 'V11', 'V12', 'V13', 'V14', 'V15', 'V16', 'V17',\n",
    "                     'V18', 'V19', 'V20', 'V21', 'V22', 'V23', 'V24', 'V25',\n",
    "                     'V26', 'V27', 'V28',\n",
    "                     'log1p_Time', 'log1p_Amount']"
   ]
  },
  {
   "cell_type": "code",
   "execution_count": 89,
   "metadata": {
    "ExecuteTime": {
     "end_time": "2019-10-19T17:43:49.514091Z",
     "start_time": "2019-10-19T17:43:49.442156Z"
    }
   },
   "outputs": [
    {
     "name": "stdout",
     "output_type": "stream",
     "text": [
      "root\n",
      " |-- Time: decimal(10,0) (nullable = true)\n",
      " |-- V1: double (nullable = true)\n",
      " |-- V2: double (nullable = true)\n",
      " |-- V3: double (nullable = true)\n",
      " |-- V4: double (nullable = true)\n",
      " |-- V5: double (nullable = true)\n",
      " |-- V6: double (nullable = true)\n",
      " |-- V7: double (nullable = true)\n",
      " |-- V8: double (nullable = true)\n",
      " |-- V9: double (nullable = true)\n",
      " |-- V10: double (nullable = true)\n",
      " |-- V11: double (nullable = true)\n",
      " |-- V12: double (nullable = true)\n",
      " |-- V13: double (nullable = true)\n",
      " |-- V14: double (nullable = true)\n",
      " |-- V15: double (nullable = true)\n",
      " |-- V16: double (nullable = true)\n",
      " |-- V17: double (nullable = true)\n",
      " |-- V18: double (nullable = true)\n",
      " |-- V19: double (nullable = true)\n",
      " |-- V20: double (nullable = true)\n",
      " |-- V21: double (nullable = true)\n",
      " |-- V22: double (nullable = true)\n",
      " |-- V23: double (nullable = true)\n",
      " |-- V24: double (nullable = true)\n",
      " |-- V25: double (nullable = true)\n",
      " |-- V26: double (nullable = true)\n",
      " |-- V27: double (nullable = true)\n",
      " |-- V28: double (nullable = true)\n",
      " |-- Amount: double (nullable = true)\n",
      " |-- Class: integer (nullable = true)\n",
      " |-- Amount_cat: double (nullable = true)\n",
      " |-- Amount_cat_index: double (nullable = false)\n",
      " |-- Amount_cat_index_encoded: vector (nullable = true)\n",
      " |-- Amount_cat_vec: vector (nullable = true)\n",
      " |-- log1p_Time: double (nullable = true)\n",
      " |-- log1p_Amount: double (nullable = true)\n",
      " |-- features: vector (nullable = true)\n",
      "\n"
     ]
    }
   ],
   "source": [
    "assembler = VectorAssembler(\n",
    "    inputCols= selected_features,\n",
    "    outputCol='features'\n",
    ")\n",
    "\n",
    "df = assembler.transform(df)\n",
    "\n",
    "df.printSchema()"
   ]
  },
  {
   "cell_type": "markdown",
   "metadata": {},
   "source": [
    "# Feature Scaling"
   ]
  },
  {
   "cell_type": "code",
   "execution_count": 90,
   "metadata": {
    "ExecuteTime": {
     "end_time": "2019-10-19T17:43:51.755568Z",
     "start_time": "2019-10-19T17:43:50.503664Z"
    }
   },
   "outputs": [
    {
     "data": {
      "text/html": [
       "<div>\n",
       "<style scoped>\n",
       "    .dataframe tbody tr th:only-of-type {\n",
       "        vertical-align: middle;\n",
       "    }\n",
       "\n",
       "    .dataframe tbody tr th {\n",
       "        vertical-align: top;\n",
       "    }\n",
       "\n",
       "    .dataframe thead th {\n",
       "        text-align: right;\n",
       "    }\n",
       "</style>\n",
       "<table border=\"1\" class=\"dataframe\">\n",
       "  <thead>\n",
       "    <tr style=\"text-align: right;\">\n",
       "      <th></th>\n",
       "      <th>features</th>\n",
       "      <th>features_scaled</th>\n",
       "    </tr>\n",
       "  </thead>\n",
       "  <tbody>\n",
       "    <tr>\n",
       "      <td>0</td>\n",
       "      <td>[-1.3598071336738, -0.0727811733098497, 2.5363...</td>\n",
       "      <td>[-0.6942411021638845, -0.04407484719355172, 1....</td>\n",
       "    </tr>\n",
       "    <tr>\n",
       "      <td>1</td>\n",
       "      <td>[1.19185711131486, 0.26615071205963, 0.1664801...</td>\n",
       "      <td>[0.6084952594310945, 0.16117563692663966, 0.10...</td>\n",
       "    </tr>\n",
       "  </tbody>\n",
       "</table>\n",
       "</div>"
      ],
      "text/plain": [
       "                                            features  \\\n",
       "0  [-1.3598071336738, -0.0727811733098497, 2.5363...   \n",
       "1  [1.19185711131486, 0.26615071205963, 0.1664801...   \n",
       "\n",
       "                                     features_scaled  \n",
       "0  [-0.6942411021638845, -0.04407484719355172, 1....  \n",
       "1  [0.6084952594310945, 0.16117563692663966, 0.10...  "
      ]
     },
     "execution_count": 90,
     "metadata": {},
     "output_type": "execute_result"
    }
   ],
   "source": [
    "from pyspark.ml.feature import StandardScaler\n",
    "\n",
    "scaler = StandardScaler(inputCol='features', outputCol='features_scaled')\n",
    "df = scaler.fit(df).transform(df)\n",
    "\n",
    "df.select([\"features\",\"features_scaled\"]).limit(2).toPandas()"
   ]
  },
  {
   "cell_type": "markdown",
   "metadata": {},
   "source": [
    "# Train Test Splitting"
   ]
  },
  {
   "cell_type": "code",
   "execution_count": 91,
   "metadata": {
    "ExecuteTime": {
     "end_time": "2019-10-19T17:43:56.736616Z",
     "start_time": "2019-10-19T17:43:52.335860Z"
    }
   },
   "outputs": [
    {
     "data": {
      "text/plain": [
       "(227519, 57288)"
      ]
     },
     "execution_count": 91,
     "metadata": {},
     "output_type": "execute_result"
    }
   ],
   "source": [
    "train, test = df.randomSplit([0.8,0.2], seed=random_state)\n",
    "train.count(), test.count()"
   ]
  },
  {
   "cell_type": "markdown",
   "metadata": {},
   "source": [
    "# Modelling"
   ]
  },
  {
   "cell_type": "markdown",
   "metadata": {},
   "source": [
    "## Logistic Regression"
   ]
  },
  {
   "cell_type": "code",
   "execution_count": 168,
   "metadata": {
    "ExecuteTime": {
     "end_time": "2019-10-19T18:55:44.915527Z",
     "start_time": "2019-10-19T18:55:41.751089Z"
    }
   },
   "outputs": [],
   "source": [
    "from pyspark.ml.classification import LogisticRegression\n",
    "\n",
    "clf_lr = LogisticRegression(featuresCol='features_scaled',\n",
    "                      labelCol='Class',\n",
    "                     predictionCol='prediction',\n",
    "                     maxIter=10).fit(train)"
   ]
  },
  {
   "cell_type": "markdown",
   "metadata": {},
   "source": [
    "### Model Evaluation"
   ]
  },
  {
   "cell_type": "code",
   "execution_count": 169,
   "metadata": {
    "ExecuteTime": {
     "end_time": "2019-10-19T18:55:47.980591Z",
     "start_time": "2019-10-19T18:55:47.966336Z"
    }
   },
   "outputs": [
    {
     "data": {
      "text/html": [
       "<div>\n",
       "<style scoped>\n",
       "    .dataframe tbody tr th:only-of-type {\n",
       "        vertical-align: middle;\n",
       "    }\n",
       "\n",
       "    .dataframe tbody tr th {\n",
       "        vertical-align: top;\n",
       "    }\n",
       "\n",
       "    .dataframe thead th {\n",
       "        text-align: right;\n",
       "    }\n",
       "</style>\n",
       "<table border=\"1\" class=\"dataframe\">\n",
       "  <thead>\n",
       "    <tr style=\"text-align: right;\">\n",
       "      <th></th>\n",
       "      <th>0</th>\n",
       "      <th>1</th>\n",
       "      <th>2</th>\n",
       "      <th>3</th>\n",
       "      <th>4</th>\n",
       "      <th>5</th>\n",
       "      <th>6</th>\n",
       "    </tr>\n",
       "  </thead>\n",
       "  <tbody>\n",
       "    <tr>\n",
       "      <td>0</td>\n",
       "      <td>aggregationDepth</td>\n",
       "      <td>explainParams</td>\n",
       "      <td>hasDefault</td>\n",
       "      <td>labelCol</td>\n",
       "      <td>params</td>\n",
       "      <td>set</td>\n",
       "      <td>transform</td>\n",
       "    </tr>\n",
       "    <tr>\n",
       "      <td>1</td>\n",
       "      <td>coefficientMatrix</td>\n",
       "      <td>extractParamMap</td>\n",
       "      <td>hasParam</td>\n",
       "      <td>load</td>\n",
       "      <td>predictionCol</td>\n",
       "      <td>standardization</td>\n",
       "      <td>uid</td>\n",
       "    </tr>\n",
       "    <tr>\n",
       "      <td>2</td>\n",
       "      <td>coefficients</td>\n",
       "      <td>family</td>\n",
       "      <td>hasSummary</td>\n",
       "      <td>lowerBoundsOnCoefficients</td>\n",
       "      <td>probabilityCol</td>\n",
       "      <td>summary</td>\n",
       "      <td>upperBoundsOnCoefficients</td>\n",
       "    </tr>\n",
       "    <tr>\n",
       "      <td>3</td>\n",
       "      <td>copy</td>\n",
       "      <td>featuresCol</td>\n",
       "      <td>intercept</td>\n",
       "      <td>lowerBoundsOnIntercepts</td>\n",
       "      <td>rawPredictionCol</td>\n",
       "      <td>threshold</td>\n",
       "      <td>upperBoundsOnIntercepts</td>\n",
       "    </tr>\n",
       "    <tr>\n",
       "      <td>4</td>\n",
       "      <td>elasticNetParam</td>\n",
       "      <td>fitIntercept</td>\n",
       "      <td>interceptVector</td>\n",
       "      <td>maxIter</td>\n",
       "      <td>read</td>\n",
       "      <td>thresholds</td>\n",
       "      <td>weightCol</td>\n",
       "    </tr>\n",
       "    <tr>\n",
       "      <td>5</td>\n",
       "      <td>evaluate</td>\n",
       "      <td>getOrDefault</td>\n",
       "      <td>isDefined</td>\n",
       "      <td>numClasses</td>\n",
       "      <td>regParam</td>\n",
       "      <td>tol</td>\n",
       "      <td>write</td>\n",
       "    </tr>\n",
       "    <tr>\n",
       "      <td>6</td>\n",
       "      <td>explainParam</td>\n",
       "      <td>getParam</td>\n",
       "      <td>isSet</td>\n",
       "      <td>numFeatures</td>\n",
       "      <td>save</td>\n",
       "      <td></td>\n",
       "      <td></td>\n",
       "    </tr>\n",
       "  </tbody>\n",
       "</table>\n",
       "</div>"
      ],
      "text/plain": [
       "                   0                1                2  \\\n",
       "0   aggregationDepth    explainParams       hasDefault   \n",
       "1  coefficientMatrix  extractParamMap         hasParam   \n",
       "2       coefficients           family       hasSummary   \n",
       "3               copy      featuresCol        intercept   \n",
       "4    elasticNetParam     fitIntercept  interceptVector   \n",
       "5           evaluate     getOrDefault        isDefined   \n",
       "6       explainParam         getParam            isSet   \n",
       "\n",
       "                           3                 4                5  \\\n",
       "0                   labelCol            params              set   \n",
       "1                       load     predictionCol  standardization   \n",
       "2  lowerBoundsOnCoefficients    probabilityCol          summary   \n",
       "3    lowerBoundsOnIntercepts  rawPredictionCol        threshold   \n",
       "4                    maxIter              read       thresholds   \n",
       "5                 numClasses          regParam              tol   \n",
       "6                numFeatures              save                    \n",
       "\n",
       "                           6  \n",
       "0                  transform  \n",
       "1                        uid  \n",
       "2  upperBoundsOnCoefficients  \n",
       "3    upperBoundsOnIntercepts  \n",
       "4                  weightCol  \n",
       "5                      write  \n",
       "6                             "
      ]
     },
     "execution_count": 169,
     "metadata": {},
     "output_type": "execute_result"
    }
   ],
   "source": [
    "show_method_attributes(clf_lr,7)"
   ]
  },
  {
   "cell_type": "markdown",
   "metadata": {},
   "source": [
    "### Predictions"
   ]
  },
  {
   "cell_type": "code",
   "execution_count": 170,
   "metadata": {
    "ExecuteTime": {
     "end_time": "2019-10-19T18:55:57.448550Z",
     "start_time": "2019-10-19T18:55:55.389530Z"
    }
   },
   "outputs": [
    {
     "name": "stdout",
     "output_type": "stream",
     "text": [
      "+----------+-----+\n",
      "|prediction|count|\n",
      "+----------+-----+\n",
      "|       0.0|57215|\n",
      "|       1.0|   73|\n",
      "+----------+-----+\n",
      "\n"
     ]
    }
   ],
   "source": [
    "results_lr = clf_lr.transform(test)\n",
    "preds_lr = results_lr.select('prediction')\n",
    "preds_lr.groupBy('prediction').count().show()"
   ]
  },
  {
   "cell_type": "markdown",
   "metadata": {},
   "source": [
    "### Model Evaluation Using ml.evaluation\n",
    "https://spark.apache.org/docs/latest/api/python/_modules/pyspark/ml/evaluation.html\n",
    "\n",
    "```\n",
    "Binary Evualuator metrics: areaUnderROC|areaUnderPR\n",
    "Multiclass Evaluator metrics: f1|weightedPrecision|weightedRecall|accuracy\n",
    "\n",
    "```"
   ]
  },
  {
   "cell_type": "code",
   "execution_count": 171,
   "metadata": {
    "ExecuteTime": {
     "end_time": "2019-10-19T18:56:03.306464Z",
     "start_time": "2019-10-19T18:56:03.301922Z"
    }
   },
   "outputs": [],
   "source": [
    "from pyspark.ml.evaluation import BinaryClassificationEvaluator\n",
    "from pyspark.ml.evaluation import MulticlassClassificationEvaluator\n",
    "from pyspark.ml.evaluation import ClusteringEvaluator"
   ]
  },
  {
   "cell_type": "code",
   "execution_count": 172,
   "metadata": {
    "ExecuteTime": {
     "end_time": "2019-10-19T18:56:07.122644Z",
     "start_time": "2019-10-19T18:56:07.109474Z"
    }
   },
   "outputs": [],
   "source": [
    "def get_classification_eval_metrics(results,label_col,pred_col='prediction'):\n",
    "    \"\"\"Get Classification Evaluation Metrics for PySpark Modelling.\n",
    "    \n",
    "    \"\"\"\n",
    "    from pyspark.ml.evaluation import BinaryClassificationEvaluator\n",
    "    from pyspark.ml.evaluation import MulticlassClassificationEvaluator\n",
    "\n",
    "    # binary classification\n",
    "    bc_metrics = ['areaUnderROC', 'areaUnderPR']\n",
    "    bc_metrics_values = [BinaryClassificationEvaluator(\n",
    "        rawPredictionCol=pred_col,\n",
    "        labelCol=label_col,\n",
    "        metricName=m).evaluate(results)\n",
    "            for m in bc_metrics ]\n",
    "\n",
    "    bc_df_metrics = pd.DataFrame({'metric': bc_metrics,\n",
    "                                  'value': bc_metrics_values})\n",
    "\n",
    "\n",
    "    # multiclass classification\n",
    "    mc_metrics = ['f1', 'weightedPrecision', 'weightedRecall', 'accuracy']\n",
    "    mc_metrics_values = [ MulticlassClassificationEvaluator(\n",
    "        predictionCol=pred_col,\n",
    "        labelCol=label_col,\n",
    "        metricName=m).evaluate(results)\n",
    "            for m in mc_metrics ]\n",
    "\n",
    "    mc_df_metrics = pd.DataFrame({'metric': mc_metrics,\n",
    "                                  'value': mc_metrics_values})\n",
    "\n",
    "    # combine two dataframes\n",
    "    df_metrics = bc_df_metrics.append(mc_df_metrics).set_index('metric')\n",
    "    return df_metrics"
   ]
  },
  {
   "cell_type": "code",
   "execution_count": 218,
   "metadata": {
    "ExecuteTime": {
     "end_time": "2019-10-19T19:56:54.969185Z",
     "start_time": "2019-10-19T19:56:44.095542Z"
    }
   },
   "outputs": [
    {
     "data": {
      "text/html": [
       "<div>\n",
       "<style scoped>\n",
       "    .dataframe tbody tr th:only-of-type {\n",
       "        vertical-align: middle;\n",
       "    }\n",
       "\n",
       "    .dataframe tbody tr th {\n",
       "        vertical-align: top;\n",
       "    }\n",
       "\n",
       "    .dataframe thead th {\n",
       "        text-align: right;\n",
       "    }\n",
       "</style>\n",
       "<table border=\"1\" class=\"dataframe\">\n",
       "  <thead>\n",
       "    <tr style=\"text-align: right;\">\n",
       "      <th></th>\n",
       "      <th>value</th>\n",
       "    </tr>\n",
       "    <tr>\n",
       "      <th>metric</th>\n",
       "      <th></th>\n",
       "    </tr>\n",
       "  </thead>\n",
       "  <tbody>\n",
       "    <tr>\n",
       "      <td>areaUnderROC</td>\n",
       "      <td>0.846066</td>\n",
       "    </tr>\n",
       "    <tr>\n",
       "      <td>areaUnderPR</td>\n",
       "      <td>0.730487</td>\n",
       "    </tr>\n",
       "    <tr>\n",
       "      <td>f1</td>\n",
       "      <td>0.999300</td>\n",
       "    </tr>\n",
       "    <tr>\n",
       "      <td>weightedPrecision</td>\n",
       "      <td>0.999294</td>\n",
       "    </tr>\n",
       "    <tr>\n",
       "      <td>weightedRecall</td>\n",
       "      <td>0.999337</td>\n",
       "    </tr>\n",
       "    <tr>\n",
       "      <td>accuracy</td>\n",
       "      <td>0.999337</td>\n",
       "    </tr>\n",
       "  </tbody>\n",
       "</table>\n",
       "</div>"
      ],
      "text/plain": [
       "                      value\n",
       "metric                     \n",
       "areaUnderROC       0.846066\n",
       "areaUnderPR        0.730487\n",
       "f1                 0.999300\n",
       "weightedPrecision  0.999294\n",
       "weightedRecall     0.999337\n",
       "accuracy           0.999337"
      ]
     },
     "execution_count": 218,
     "metadata": {},
     "output_type": "execute_result"
    }
   ],
   "source": [
    "dfe = get_classification_eval_metrics(results_lr,'Class',pred_col='prediction')\n",
    "row = dfe.values.ravel().tolist()\n",
    "df_eval.loc[len(df_eval)] = ['Logistic Regression','log features'] + row\n",
    "df_eval.drop_duplicates().sort_values('weightedRecall')"
   ]
  },
  {
   "cell_type": "markdown",
   "metadata": {},
   "source": [
    "## KNN Classifier\n",
    "```\n",
    "Evaluator for Clustering results  expects\n",
    "two input columns: prediction and features.\n",
    "\n",
    "The metric computes the Silhouette measure using the squared Euclidean distance.\n",
    "\n",
    "The Silhouette is a measure for the validation of the consistency\n",
    "within clusters. It ranges between 1 and -1, where a value close to\n",
    "1 means that the points in a cluster are close to the other points\n",
    "in the same cluster and far from the points of the other clusters.\n",
    "```"
   ]
  },
  {
   "cell_type": "code",
   "execution_count": 145,
   "metadata": {
    "ExecuteTime": {
     "end_time": "2019-10-19T18:35:54.161079Z",
     "start_time": "2019-10-19T18:35:54.157602Z"
    }
   },
   "outputs": [],
   "source": [
    "from pyspark.ml.clustering import KMeans\n",
    "from pyspark.ml.evaluation import ClusteringEvaluator"
   ]
  },
  {
   "cell_type": "code",
   "execution_count": 174,
   "metadata": {
    "ExecuteTime": {
     "end_time": "2019-10-19T18:56:57.913545Z",
     "start_time": "2019-10-19T18:56:52.398837Z"
    }
   },
   "outputs": [],
   "source": [
    "clf_knn = KMeans(featuresCol='features_scaled',\n",
    "                 #labelCol='Class', # labelCol does not exist for KMeans\n",
    "                 seed=random_state,\n",
    "                 predictionCol='prediction',\n",
    "                 k=2).fit(train)"
   ]
  },
  {
   "cell_type": "code",
   "execution_count": 175,
   "metadata": {
    "ExecuteTime": {
     "end_time": "2019-10-19T18:57:00.442468Z",
     "start_time": "2019-10-19T18:56:57.915831Z"
    }
   },
   "outputs": [
    {
     "name": "stdout",
     "output_type": "stream",
     "text": [
      "+----------+-----+\n",
      "|prediction|count|\n",
      "+----------+-----+\n",
      "|         1|53836|\n",
      "|         0| 3452|\n",
      "+----------+-----+\n",
      "\n"
     ]
    }
   ],
   "source": [
    "results_knn = clf_knn.transform(test)\n",
    "preds_knn = results_knn.select('prediction')\n",
    "preds_knn.groupBy('prediction').count().show()"
   ]
  },
  {
   "cell_type": "code",
   "execution_count": 176,
   "metadata": {
    "ExecuteTime": {
     "end_time": "2019-10-19T18:57:07.247517Z",
     "start_time": "2019-10-19T18:57:07.238974Z"
    }
   },
   "outputs": [],
   "source": [
    "cluster_eval = ClusteringEvaluator(featuresCol='features_scaled',\n",
    "                 #labelCol='Class', # label col does not exist for KNN\n",
    "                 predictionCol='prediction',\n",
    "                 distanceMeasure=\"squaredEuclidean\",\n",
    "                 metricName=\"silhouette\")"
   ]
  },
  {
   "cell_type": "code",
   "execution_count": 177,
   "metadata": {
    "ExecuteTime": {
     "end_time": "2019-10-19T18:57:12.662184Z",
     "start_time": "2019-10-19T18:57:08.046091Z"
    }
   },
   "outputs": [
    {
     "data": {
      "text/plain": [
       "0.16745838107517577"
      ]
     },
     "execution_count": 177,
     "metadata": {},
     "output_type": "execute_result"
    }
   ],
   "source": [
    "cluster_eval.evaluate(results_knn)"
   ]
  },
  {
   "cell_type": "markdown",
   "metadata": {},
   "source": [
    "## Decision Tree Classifier"
   ]
  },
  {
   "cell_type": "code",
   "execution_count": 134,
   "metadata": {
    "ExecuteTime": {
     "end_time": "2019-10-19T18:25:49.838927Z",
     "start_time": "2019-10-19T18:25:49.835280Z"
    }
   },
   "outputs": [],
   "source": [
    "from pyspark.ml.classification import DecisionTreeClassifier"
   ]
  },
  {
   "cell_type": "code",
   "execution_count": 178,
   "metadata": {
    "ExecuteTime": {
     "end_time": "2019-10-19T18:57:22.122663Z",
     "start_time": "2019-10-19T18:57:14.297379Z"
    }
   },
   "outputs": [],
   "source": [
    "clf_dt = DecisionTreeClassifier(featuresCol='features_scaled',\n",
    "                 labelCol='Class',\n",
    "                 seed=random_state,\n",
    "                 predictionCol='prediction',\n",
    "                 ).fit(train)"
   ]
  },
  {
   "cell_type": "code",
   "execution_count": 179,
   "metadata": {
    "ExecuteTime": {
     "end_time": "2019-10-19T18:57:22.144515Z",
     "start_time": "2019-10-19T18:57:22.125018Z"
    }
   },
   "outputs": [
    {
     "data": {
      "text/html": [
       "<div>\n",
       "<style scoped>\n",
       "    .dataframe tbody tr th:only-of-type {\n",
       "        vertical-align: middle;\n",
       "    }\n",
       "\n",
       "    .dataframe tbody tr th {\n",
       "        vertical-align: top;\n",
       "    }\n",
       "\n",
       "    .dataframe thead th {\n",
       "        text-align: right;\n",
       "    }\n",
       "</style>\n",
       "<table border=\"1\" class=\"dataframe\">\n",
       "  <thead>\n",
       "    <tr style=\"text-align: right;\">\n",
       "      <th></th>\n",
       "      <th>0</th>\n",
       "      <th>1</th>\n",
       "      <th>2</th>\n",
       "      <th>3</th>\n",
       "      <th>4</th>\n",
       "      <th>5</th>\n",
       "      <th>6</th>\n",
       "    </tr>\n",
       "  </thead>\n",
       "  <tbody>\n",
       "    <tr>\n",
       "      <td>0</td>\n",
       "      <td>cacheNodeIds</td>\n",
       "      <td>extractParamMap</td>\n",
       "      <td>hasParam</td>\n",
       "      <td>maxBins</td>\n",
       "      <td>numFeatures</td>\n",
       "      <td>rawPredictionCol</td>\n",
       "      <td>thresholds</td>\n",
       "    </tr>\n",
       "    <tr>\n",
       "      <td>1</td>\n",
       "      <td>checkpointInterval</td>\n",
       "      <td>featureImportances</td>\n",
       "      <td>impurity</td>\n",
       "      <td>maxDepth</td>\n",
       "      <td>numNodes</td>\n",
       "      <td>read</td>\n",
       "      <td>toDebugString</td>\n",
       "    </tr>\n",
       "    <tr>\n",
       "      <td>2</td>\n",
       "      <td>copy</td>\n",
       "      <td>featuresCol</td>\n",
       "      <td>isDefined</td>\n",
       "      <td>maxMemoryInMB</td>\n",
       "      <td>params</td>\n",
       "      <td>save</td>\n",
       "      <td>transform</td>\n",
       "    </tr>\n",
       "    <tr>\n",
       "      <td>3</td>\n",
       "      <td>depth</td>\n",
       "      <td>getOrDefault</td>\n",
       "      <td>isSet</td>\n",
       "      <td>minInfoGain</td>\n",
       "      <td>predictionCol</td>\n",
       "      <td>seed</td>\n",
       "      <td>uid</td>\n",
       "    </tr>\n",
       "    <tr>\n",
       "      <td>4</td>\n",
       "      <td>explainParam</td>\n",
       "      <td>getParam</td>\n",
       "      <td>labelCol</td>\n",
       "      <td>minInstancesPerNode</td>\n",
       "      <td>probabilityCol</td>\n",
       "      <td>set</td>\n",
       "      <td>write</td>\n",
       "    </tr>\n",
       "    <tr>\n",
       "      <td>5</td>\n",
       "      <td>explainParams</td>\n",
       "      <td>hasDefault</td>\n",
       "      <td>load</td>\n",
       "      <td>numClasses</td>\n",
       "      <td></td>\n",
       "      <td></td>\n",
       "      <td></td>\n",
       "    </tr>\n",
       "  </tbody>\n",
       "</table>\n",
       "</div>"
      ],
      "text/plain": [
       "                    0                   1          2                    3  \\\n",
       "0        cacheNodeIds     extractParamMap   hasParam              maxBins   \n",
       "1  checkpointInterval  featureImportances   impurity             maxDepth   \n",
       "2                copy         featuresCol  isDefined        maxMemoryInMB   \n",
       "3               depth        getOrDefault      isSet          minInfoGain   \n",
       "4        explainParam            getParam   labelCol  minInstancesPerNode   \n",
       "5       explainParams          hasDefault       load           numClasses   \n",
       "\n",
       "                4                 5              6  \n",
       "0     numFeatures  rawPredictionCol     thresholds  \n",
       "1        numNodes              read  toDebugString  \n",
       "2          params              save      transform  \n",
       "3   predictionCol              seed            uid  \n",
       "4  probabilityCol               set          write  \n",
       "5                                                   "
      ]
     },
     "execution_count": 179,
     "metadata": {},
     "output_type": "execute_result"
    }
   ],
   "source": [
    "show_method_attributes(clf_dt)"
   ]
  },
  {
   "cell_type": "code",
   "execution_count": 180,
   "metadata": {
    "ExecuteTime": {
     "end_time": "2019-10-19T18:57:29.251230Z",
     "start_time": "2019-10-19T18:57:27.617787Z"
    }
   },
   "outputs": [
    {
     "name": "stdout",
     "output_type": "stream",
     "text": [
      "+----------+-----+\n",
      "|prediction|count|\n",
      "+----------+-----+\n",
      "|       0.0|57212|\n",
      "|       1.0|   76|\n",
      "+----------+-----+\n",
      "\n"
     ]
    }
   ],
   "source": [
    "results_dt = clf_dt.transform(test)\n",
    "preds_dt = results_dt.select('prediction')\n",
    "preds_dt.groupBy('prediction').count().show()"
   ]
  },
  {
   "cell_type": "code",
   "execution_count": 230,
   "metadata": {
    "ExecuteTime": {
     "end_time": "2019-10-19T20:01:22.719853Z",
     "start_time": "2019-10-19T20:01:12.844330Z"
    }
   },
   "outputs": [
    {
     "data": {
      "text/html": [
       "<div>\n",
       "<style scoped>\n",
       "    .dataframe tbody tr th:only-of-type {\n",
       "        vertical-align: middle;\n",
       "    }\n",
       "\n",
       "    .dataframe tbody tr th {\n",
       "        vertical-align: top;\n",
       "    }\n",
       "\n",
       "    .dataframe thead th {\n",
       "        text-align: right;\n",
       "    }\n",
       "</style>\n",
       "<table border=\"1\" class=\"dataframe\">\n",
       "  <thead>\n",
       "    <tr style=\"text-align: right;\">\n",
       "      <th></th>\n",
       "      <th>model_name</th>\n",
       "      <th>desc</th>\n",
       "      <th>f1</th>\n",
       "      <th>weightedPrecision</th>\n",
       "      <th>weightedRecall</th>\n",
       "      <th>accuracy</th>\n",
       "      <th>areaUnderROC</th>\n",
       "      <th>areaUnderPR</th>\n",
       "    </tr>\n",
       "  </thead>\n",
       "  <tbody>\n",
       "    <tr>\n",
       "      <td>0</td>\n",
       "      <td>Logistic Regression</td>\n",
       "      <td>log features</td>\n",
       "      <td>0.846066</td>\n",
       "      <td>0.730487</td>\n",
       "      <td>0.999300</td>\n",
       "      <td>0.999294</td>\n",
       "      <td>0.999337</td>\n",
       "      <td>0.999337</td>\n",
       "    </tr>\n",
       "    <tr>\n",
       "      <td>3</td>\n",
       "      <td>Decision Tree Classifier</td>\n",
       "      <td>log features</td>\n",
       "      <td>0.868053</td>\n",
       "      <td>0.765536</td>\n",
       "      <td>0.999398</td>\n",
       "      <td>0.999393</td>\n",
       "      <td>0.999424</td>\n",
       "      <td>0.999424</td>\n",
       "    </tr>\n",
       "  </tbody>\n",
       "</table>\n",
       "</div>"
      ],
      "text/plain": [
       "                 model_name          desc        f1  weightedPrecision  \\\n",
       "0       Logistic Regression  log features  0.846066           0.730487   \n",
       "3  Decision Tree Classifier  log features  0.868053           0.765536   \n",
       "\n",
       "   weightedRecall  accuracy  areaUnderROC  areaUnderPR  \n",
       "0        0.999300  0.999294      0.999337     0.999337  \n",
       "3        0.999398  0.999393      0.999424     0.999424  "
      ]
     },
     "execution_count": 230,
     "metadata": {},
     "output_type": "execute_result"
    }
   ],
   "source": [
    "dfe = get_classification_eval_metrics(results_dt,'Class',pred_col='prediction')\n",
    "row = dfe.values.ravel().tolist()\n",
    "df_eval.loc[len(df_eval)] = ['Decision Tree Classifier','log features'] + row\n",
    "df_eval.drop_duplicates().sort_values('weightedRecall')"
   ]
  },
  {
   "cell_type": "code",
   "execution_count": 182,
   "metadata": {
    "ExecuteTime": {
     "end_time": "2019-10-19T18:57:42.326954Z",
     "start_time": "2019-10-19T18:57:42.017978Z"
    }
   },
   "outputs": [
    {
     "data": {
      "text/plain": [
       "<matplotlib.axes._subplots.AxesSubplot at 0x122807d90>"
      ]
     },
     "execution_count": 182,
     "metadata": {},
     "output_type": "execute_result"
    },
    {
     "data": {
      "image/png": "[encoded data removed]",
      "text/plain": [
       "<Figure size 432x288 with 1 Axes>"
      ]
     },
     "metadata": {
      "needs_background": "light"
     },
     "output_type": "display_data"
    }
   ],
   "source": [
    "df_feature_imp = pd.DataFrame(clf_dt.featureImportances.toArray(),\n",
    "                          columns=['feature_importance'],\n",
    "                          index=selected_features)\n",
    "\n",
    "df_feature_imp.loc[lambda x: x['feature_importance'] >0]\\\n",
    ".sort_values('feature_importance',ascending=False)\\\n",
    ".plot.bar()"
   ]
  },
  {
   "cell_type": "markdown",
   "metadata": {},
   "source": [
    "## Random Forest Classifier"
   ]
  },
  {
   "cell_type": "code",
   "execution_count": 134,
   "metadata": {
    "ExecuteTime": {
     "end_time": "2019-10-19T18:25:49.838927Z",
     "start_time": "2019-10-19T18:25:49.835280Z"
    }
   },
   "outputs": [],
   "source": [
    "from pyspark.ml.classification import RandomForestClassifier"
   ]
  },
  {
   "cell_type": "code",
   "execution_count": 183,
   "metadata": {
    "ExecuteTime": {
     "end_time": "2019-10-19T18:57:59.177887Z",
     "start_time": "2019-10-19T18:57:51.456553Z"
    }
   },
   "outputs": [],
   "source": [
    "clf_rfc = RandomForestClassifier(featuresCol='features_scaled',\n",
    "                 labelCol='Class',\n",
    "                 seed=random_state,\n",
    "                 predictionCol='prediction',\n",
    "                 ).fit(train)"
   ]
  },
  {
   "cell_type": "code",
   "execution_count": 184,
   "metadata": {
    "ExecuteTime": {
     "end_time": "2019-10-19T18:57:59.203128Z",
     "start_time": "2019-10-19T18:57:59.179617Z"
    }
   },
   "outputs": [
    {
     "data": {
      "text/html": [
       "<div>\n",
       "<style scoped>\n",
       "    .dataframe tbody tr th:only-of-type {\n",
       "        vertical-align: middle;\n",
       "    }\n",
       "\n",
       "    .dataframe tbody tr th {\n",
       "        vertical-align: top;\n",
       "    }\n",
       "\n",
       "    .dataframe thead th {\n",
       "        text-align: right;\n",
       "    }\n",
       "</style>\n",
       "<table border=\"1\" class=\"dataframe\">\n",
       "  <thead>\n",
       "    <tr style=\"text-align: right;\">\n",
       "      <th></th>\n",
       "      <th>0</th>\n",
       "      <th>1</th>\n",
       "      <th>2</th>\n",
       "      <th>3</th>\n",
       "      <th>4</th>\n",
       "      <th>5</th>\n",
       "      <th>6</th>\n",
       "    </tr>\n",
       "  </thead>\n",
       "  <tbody>\n",
       "    <tr>\n",
       "      <td>0</td>\n",
       "      <td>cacheNodeIds</td>\n",
       "      <td>featureSubsetStrategy</td>\n",
       "      <td>impurity</td>\n",
       "      <td>maxDepth</td>\n",
       "      <td>numTrees</td>\n",
       "      <td>save</td>\n",
       "      <td>totalNumNodes</td>\n",
       "    </tr>\n",
       "    <tr>\n",
       "      <td>1</td>\n",
       "      <td>checkpointInterval</td>\n",
       "      <td>featuresCol</td>\n",
       "      <td>isDefined</td>\n",
       "      <td>maxMemoryInMB</td>\n",
       "      <td>params</td>\n",
       "      <td>seed</td>\n",
       "      <td>transform</td>\n",
       "    </tr>\n",
       "    <tr>\n",
       "      <td>2</td>\n",
       "      <td>copy</td>\n",
       "      <td>getNumTrees</td>\n",
       "      <td>isSet</td>\n",
       "      <td>minInfoGain</td>\n",
       "      <td>predictionCol</td>\n",
       "      <td>set</td>\n",
       "      <td>treeWeights</td>\n",
       "    </tr>\n",
       "    <tr>\n",
       "      <td>3</td>\n",
       "      <td>explainParam</td>\n",
       "      <td>getOrDefault</td>\n",
       "      <td>labelCol</td>\n",
       "      <td>minInstancesPerNode</td>\n",
       "      <td>probabilityCol</td>\n",
       "      <td>subsamplingRate</td>\n",
       "      <td>trees</td>\n",
       "    </tr>\n",
       "    <tr>\n",
       "      <td>4</td>\n",
       "      <td>explainParams</td>\n",
       "      <td>getParam</td>\n",
       "      <td>load</td>\n",
       "      <td>numClasses</td>\n",
       "      <td>rawPredictionCol</td>\n",
       "      <td>thresholds</td>\n",
       "      <td>uid</td>\n",
       "    </tr>\n",
       "    <tr>\n",
       "      <td>5</td>\n",
       "      <td>extractParamMap</td>\n",
       "      <td>hasDefault</td>\n",
       "      <td>maxBins</td>\n",
       "      <td>numFeatures</td>\n",
       "      <td>read</td>\n",
       "      <td>toDebugString</td>\n",
       "      <td>write</td>\n",
       "    </tr>\n",
       "    <tr>\n",
       "      <td>6</td>\n",
       "      <td>featureImportances</td>\n",
       "      <td>hasParam</td>\n",
       "      <td></td>\n",
       "      <td></td>\n",
       "      <td></td>\n",
       "      <td></td>\n",
       "      <td></td>\n",
       "    </tr>\n",
       "  </tbody>\n",
       "</table>\n",
       "</div>"
      ],
      "text/plain": [
       "                    0                      1          2                    3  \\\n",
       "0        cacheNodeIds  featureSubsetStrategy   impurity             maxDepth   \n",
       "1  checkpointInterval            featuresCol  isDefined        maxMemoryInMB   \n",
       "2                copy            getNumTrees      isSet          minInfoGain   \n",
       "3        explainParam           getOrDefault   labelCol  minInstancesPerNode   \n",
       "4       explainParams               getParam       load           numClasses   \n",
       "5     extractParamMap             hasDefault    maxBins          numFeatures   \n",
       "6  featureImportances               hasParam                                   \n",
       "\n",
       "                  4                5              6  \n",
       "0          numTrees             save  totalNumNodes  \n",
       "1            params             seed      transform  \n",
       "2     predictionCol              set    treeWeights  \n",
       "3    probabilityCol  subsamplingRate          trees  \n",
       "4  rawPredictionCol       thresholds            uid  \n",
       "5              read    toDebugString          write  \n",
       "6                                                    "
      ]
     },
     "execution_count": 184,
     "metadata": {},
     "output_type": "execute_result"
    }
   ],
   "source": [
    "show_method_attributes(clf_rfc)"
   ]
  },
  {
   "cell_type": "code",
   "execution_count": 185,
   "metadata": {
    "ExecuteTime": {
     "end_time": "2019-10-19T18:58:01.801614Z",
     "start_time": "2019-10-19T18:58:00.239598Z"
    }
   },
   "outputs": [
    {
     "name": "stdout",
     "output_type": "stream",
     "text": [
      "+----------+-----+\n",
      "|prediction|count|\n",
      "+----------+-----+\n",
      "|       0.0|57209|\n",
      "|       1.0|   79|\n",
      "+----------+-----+\n",
      "\n"
     ]
    }
   ],
   "source": [
    "results_rfc = clf_rfc.transform(test)\n",
    "preds_rfc = results_rfc.select('prediction')\n",
    "preds_rfc.groupBy('prediction').count().show()"
   ]
  },
  {
   "cell_type": "code",
   "execution_count": 232,
   "metadata": {
    "ExecuteTime": {
     "end_time": "2019-10-19T20:02:41.247049Z",
     "start_time": "2019-10-19T20:02:30.691307Z"
    }
   },
   "outputs": [
    {
     "data": {
      "text/html": [
       "<div>\n",
       "<style scoped>\n",
       "    .dataframe tbody tr th:only-of-type {\n",
       "        vertical-align: middle;\n",
       "    }\n",
       "\n",
       "    .dataframe tbody tr th {\n",
       "        vertical-align: top;\n",
       "    }\n",
       "\n",
       "    .dataframe thead th {\n",
       "        text-align: right;\n",
       "    }\n",
       "</style>\n",
       "<table border=\"1\" class=\"dataframe\">\n",
       "  <thead>\n",
       "    <tr style=\"text-align: right;\">\n",
       "      <th></th>\n",
       "      <th>model_name</th>\n",
       "      <th>desc</th>\n",
       "      <th>f1</th>\n",
       "      <th>weightedPrecision</th>\n",
       "      <th>weightedRecall</th>\n",
       "      <th>accuracy</th>\n",
       "      <th>areaUnderROC</th>\n",
       "      <th>areaUnderPR</th>\n",
       "    </tr>\n",
       "  </thead>\n",
       "  <tbody>\n",
       "    <tr>\n",
       "      <td>0</td>\n",
       "      <td>Logistic Regression</td>\n",
       "      <td>log features</td>\n",
       "      <td>0.846066</td>\n",
       "      <td>0.730487</td>\n",
       "      <td>0.999300</td>\n",
       "      <td>0.999294</td>\n",
       "      <td>0.999337</td>\n",
       "      <td>0.999337</td>\n",
       "    </tr>\n",
       "    <tr>\n",
       "      <td>3</td>\n",
       "      <td>Decision Tree Classifier</td>\n",
       "      <td>log features</td>\n",
       "      <td>0.868053</td>\n",
       "      <td>0.765536</td>\n",
       "      <td>0.999398</td>\n",
       "      <td>0.999393</td>\n",
       "      <td>0.999424</td>\n",
       "      <td>0.999424</td>\n",
       "    </tr>\n",
       "    <tr>\n",
       "      <td>4</td>\n",
       "      <td>Random Forest Classifier</td>\n",
       "      <td>log features</td>\n",
       "      <td>0.890040</td>\n",
       "      <td>0.800147</td>\n",
       "      <td>0.999494</td>\n",
       "      <td>0.999490</td>\n",
       "      <td>0.999511</td>\n",
       "      <td>0.999511</td>\n",
       "    </tr>\n",
       "  </tbody>\n",
       "</table>\n",
       "</div>"
      ],
      "text/plain": [
       "                 model_name          desc        f1  weightedPrecision  \\\n",
       "0       Logistic Regression  log features  0.846066           0.730487   \n",
       "3  Decision Tree Classifier  log features  0.868053           0.765536   \n",
       "4  Random Forest Classifier  log features  0.890040           0.800147   \n",
       "\n",
       "   weightedRecall  accuracy  areaUnderROC  areaUnderPR  \n",
       "0        0.999300  0.999294      0.999337     0.999337  \n",
       "3        0.999398  0.999393      0.999424     0.999424  \n",
       "4        0.999494  0.999490      0.999511     0.999511  "
      ]
     },
     "execution_count": 232,
     "metadata": {},
     "output_type": "execute_result"
    }
   ],
   "source": [
    "dfe = get_classification_eval_metrics(results_rfc,'Class',pred_col='prediction')\n",
    "row = dfe.values.ravel().tolist()\n",
    "df_eval.loc[len(df_eval)] = ['Random Forest Classifier','log features'] + row\n",
    "df_eval.drop_duplicates().sort_values('weightedRecall')"
   ]
  },
  {
   "cell_type": "code",
   "execution_count": 187,
   "metadata": {
    "ExecuteTime": {
     "end_time": "2019-10-19T18:58:23.074341Z",
     "start_time": "2019-10-19T18:58:22.682030Z"
    }
   },
   "outputs": [
    {
     "data": {
      "text/plain": [
       "<matplotlib.axes._subplots.AxesSubplot at 0x122803490>"
      ]
     },
     "execution_count": 187,
     "metadata": {},
     "output_type": "execute_result"
    },
    {
     "data": {
      "image/png": "[encoded data removed]",
      "text/plain": [
       "<Figure size 432x288 with 1 Axes>"
      ]
     },
     "metadata": {
      "needs_background": "light"
     },
     "output_type": "display_data"
    }
   ],
   "source": [
    "df_feature_imp = pd.DataFrame(clf_rfc.featureImportances.toArray(),\n",
    "                          columns=['feature_importance'],\n",
    "                          index=selected_features)\n",
    "\n",
    "df_feature_imp.loc[lambda x: x['feature_importance'] >0]\\\n",
    ".sort_values('feature_importance',ascending=False)\\\n",
    ".plot.bar()"
   ]
  },
  {
   "cell_type": "markdown",
   "metadata": {},
   "source": [
    "# Parameter Tuning"
   ]
  },
  {
   "cell_type": "code",
   "execution_count": 189,
   "metadata": {
    "ExecuteTime": {
     "end_time": "2019-10-19T18:58:38.552664Z",
     "start_time": "2019-10-19T18:58:38.545372Z"
    }
   },
   "outputs": [
    {
     "name": "stdout",
     "output_type": "stream",
     "text": [
      "['Time', 'V1', 'V2', 'V3', 'V4', 'V5', 'V6', 'V7', 'V8', 'V9', 'V10', 'V11', 'V12', 'V13', 'V14', 'V15', 'V16', 'V17', 'V18', 'V19', 'V20', 'V21', 'V22', 'V23', 'V24', 'V25', 'V26', 'V27', 'V28', 'Amount', 'Class', 'Amount_cat', 'Amount_cat_index', 'Amount_cat_index_encoded', 'Amount_cat_vec', 'log1p_Time', 'log1p_Amount', 'features', 'features_scaled']\n"
     ]
    }
   ],
   "source": [
    "print(train.columns)"
   ]
  },
  {
   "cell_type": "code",
   "execution_count": 191,
   "metadata": {
    "ExecuteTime": {
     "end_time": "2019-10-19T18:58:56.036773Z",
     "start_time": "2019-10-19T18:58:56.030694Z"
    }
   },
   "outputs": [
    {
     "name": "stdout",
     "output_type": "stream",
     "text": [
      "['V1', 'V2', 'V3', 'V4', 'V5', 'V6', 'V7', 'V8', 'V9', 'V10', 'V11', 'V12', 'V13', 'V14', 'V15', 'V16', 'V17', 'V18', 'V19', 'V20', 'V21', 'V22', 'V23', 'V24', 'V25', 'V26', 'V27', 'V28', 'log1p_Time', 'log1p_Amount']\n"
     ]
    }
   ],
   "source": [
    "print(selected_features)"
   ]
  },
  {
   "cell_type": "code",
   "execution_count": 194,
   "metadata": {
    "ExecuteTime": {
     "end_time": "2019-10-19T19:12:19.128799Z",
     "start_time": "2019-10-19T19:04:03.286821Z"
    }
   },
   "outputs": [
    {
     "name": "stderr",
     "output_type": "stream",
     "text": [
      "Exception ignored in: <function JavaWrapper.__del__ at 0x11ddf3440>\n",
      "Traceback (most recent call last):\n",
      "  File \"/Users/poudel/miniconda3/envs/spk/lib/python3.7/site-packages/pyspark/ml/wrapper.py\", line 40, in __del__\n",
      "    if SparkContext._active_spark_context and self._java_obj is not None:\n",
      "AttributeError: 'MulticlassClassificationEvaluator' object has no attribute '_java_obj'\n"
     ]
    },
    {
     "name": "stdout",
     "output_type": "stream",
     "text": [
      "Time taken: 8 min 16 secs\n"
     ]
    }
   ],
   "source": [
    "from pyspark.ml import Pipeline\n",
    "from pyspark.ml.tuning import ParamGridBuilder\n",
    "from pyspark.ml.tuning import CrossValidator\n",
    "import time\n",
    "\n",
    "t0 = time.time()\n",
    "\n",
    "clf_rfc = RandomForestClassifier(featuresCol='features_scaled',\n",
    "                                 labelCol = \"Class\",\n",
    "                                 numTrees = 50,\n",
    "                                 seed=random_state)\n",
    "\n",
    "grid_depths = [10,20]\n",
    "paramGrid = ParamGridBuilder()\\\n",
    "   .addGrid(clf_rfc.maxDepth, grid_depths)\\\n",
    "   .addGrid(clf_rfc.minInstancesPerNode, grid_depths)\\\n",
    "   .build()\n",
    "\n",
    "pipeline = Pipeline(stages = [clf_rfc])\n",
    "\n",
    "evaluator = MulticlassClassificationEvaluator(labelCol = \"Class\",\n",
    "                                              metricName = \"weightedRecall\") \n",
    "\n",
    "crossval = CrossValidator(estimator = pipeline,\n",
    "                          estimatorParamMaps = paramGrid,\n",
    "                          evaluator = evaluator,\n",
    "                          seed = random_state,\n",
    "                          parallelism=50, # number of threads to use\n",
    "                          numFolds = 5)\n",
    "\n",
    "\n",
    "# model_cv = crossval.fit(train)\n",
    "\n",
    "t1 = time.time() - t0\n",
    "print('Time taken: {:.0f} min {:.0f} secs'.format(*divmod(t1,60)))\n",
    "# Time taken: Time taken: 8 min 16 secs"
   ]
  },
  {
   "cell_type": "code",
   "execution_count": 199,
   "metadata": {
    "ExecuteTime": {
     "end_time": "2019-10-19T19:44:18.638616Z",
     "start_time": "2019-10-19T19:44:18.623252Z"
    }
   },
   "outputs": [
    {
     "data": {
      "text/html": [
       "<div>\n",
       "<style scoped>\n",
       "    .dataframe tbody tr th:only-of-type {\n",
       "        vertical-align: middle;\n",
       "    }\n",
       "\n",
       "    .dataframe tbody tr th {\n",
       "        vertical-align: top;\n",
       "    }\n",
       "\n",
       "    .dataframe thead th {\n",
       "        text-align: right;\n",
       "    }\n",
       "</style>\n",
       "<table border=\"1\" class=\"dataframe\">\n",
       "  <thead>\n",
       "    <tr style=\"text-align: right;\">\n",
       "      <th></th>\n",
       "      <th>0</th>\n",
       "      <th>1</th>\n",
       "      <th>2</th>\n",
       "      <th>3</th>\n",
       "      <th>4</th>\n",
       "      <th>5</th>\n",
       "      <th>6</th>\n",
       "    </tr>\n",
       "  </thead>\n",
       "  <tbody>\n",
       "    <tr>\n",
       "      <td>0</td>\n",
       "      <td>avgMetrics</td>\n",
       "      <td>evaluator</td>\n",
       "      <td>getEstimatorParamMaps</td>\n",
       "      <td>hasDefault</td>\n",
       "      <td>params</td>\n",
       "      <td>setEstimator</td>\n",
       "      <td>subModels</td>\n",
       "    </tr>\n",
       "    <tr>\n",
       "      <td>1</td>\n",
       "      <td>bestModel</td>\n",
       "      <td>explainParam</td>\n",
       "      <td>getEvaluator</td>\n",
       "      <td>hasParam</td>\n",
       "      <td>read</td>\n",
       "      <td>setEstimatorParamMaps</td>\n",
       "      <td>transform</td>\n",
       "    </tr>\n",
       "    <tr>\n",
       "      <td>2</td>\n",
       "      <td>copy</td>\n",
       "      <td>explainParams</td>\n",
       "      <td>getOrDefault</td>\n",
       "      <td>isDefined</td>\n",
       "      <td>save</td>\n",
       "      <td>setEvaluator</td>\n",
       "      <td>uid</td>\n",
       "    </tr>\n",
       "    <tr>\n",
       "      <td>3</td>\n",
       "      <td>estimator</td>\n",
       "      <td>extractParamMap</td>\n",
       "      <td>getParam</td>\n",
       "      <td>isSet</td>\n",
       "      <td>seed</td>\n",
       "      <td>setSeed</td>\n",
       "      <td>write</td>\n",
       "    </tr>\n",
       "    <tr>\n",
       "      <td>4</td>\n",
       "      <td>estimatorParamMaps</td>\n",
       "      <td>getEstimator</td>\n",
       "      <td>getSeed</td>\n",
       "      <td>load</td>\n",
       "      <td>set</td>\n",
       "      <td></td>\n",
       "      <td></td>\n",
       "    </tr>\n",
       "  </tbody>\n",
       "</table>\n",
       "</div>"
      ],
      "text/plain": [
       "                    0                1                      2           3  \\\n",
       "0          avgMetrics        evaluator  getEstimatorParamMaps  hasDefault   \n",
       "1           bestModel     explainParam           getEvaluator    hasParam   \n",
       "2                copy    explainParams           getOrDefault   isDefined   \n",
       "3           estimator  extractParamMap               getParam       isSet   \n",
       "4  estimatorParamMaps     getEstimator                getSeed        load   \n",
       "\n",
       "        4                      5          6  \n",
       "0  params           setEstimator  subModels  \n",
       "1    read  setEstimatorParamMaps  transform  \n",
       "2    save           setEvaluator        uid  \n",
       "3    seed                setSeed      write  \n",
       "4     set                                    "
      ]
     },
     "execution_count": 199,
     "metadata": {},
     "output_type": "execute_result"
    }
   ],
   "source": [
    "show_method_attributes(model_cv,7)"
   ]
  },
  {
   "cell_type": "code",
   "execution_count": 202,
   "metadata": {
    "ExecuteTime": {
     "end_time": "2019-10-19T19:47:38.283830Z",
     "start_time": "2019-10-19T19:47:38.281028Z"
    }
   },
   "outputs": [],
   "source": [
    "# model_cv.save('../models/serialization/pyspark_clf_rfc_grid_search.pkl')\n",
    "# AttributeError: 'Pipeline' object has no attribute '_transfer_param_map_to_java'"
   ]
  },
  {
   "cell_type": "code",
   "execution_count": 205,
   "metadata": {
    "ExecuteTime": {
     "end_time": "2019-10-19T19:49:13.170415Z",
     "start_time": "2019-10-19T19:49:13.128460Z"
    }
   },
   "outputs": [],
   "source": [
    "results_rfc_grid = model_cv.transform(test)"
   ]
  },
  {
   "cell_type": "code",
   "execution_count": 206,
   "metadata": {
    "ExecuteTime": {
     "end_time": "2019-10-19T19:49:21.515602Z",
     "start_time": "2019-10-19T19:49:21.497070Z"
    }
   },
   "outputs": [
    {
     "name": "stdout",
     "output_type": "stream",
     "text": [
      "['Time', 'V1', 'V2', 'V3', 'V4', 'V5', 'V6', 'V7', 'V8', 'V9', 'V10', 'V11', 'V12', 'V13', 'V14', 'V15', 'V16', 'V17', 'V18', 'V19', 'V20', 'V21', 'V22', 'V23', 'V24', 'V25', 'V26', 'V27', 'V28', 'Amount', 'Class', 'Amount_cat', 'Amount_cat_index', 'Amount_cat_index_encoded', 'Amount_cat_vec', 'log1p_Time', 'log1p_Amount', 'features', 'features_scaled', 'rawPrediction', 'probability', 'prediction']\n"
     ]
    }
   ],
   "source": [
    "print(results_rfc_grid.columns)"
   ]
  },
  {
   "cell_type": "code",
   "execution_count": 207,
   "metadata": {
    "ExecuteTime": {
     "end_time": "2019-10-19T19:49:53.972232Z",
     "start_time": "2019-10-19T19:49:51.610255Z"
    }
   },
   "outputs": [
    {
     "data": {
      "text/plain": [
       "0.9995636084345761"
      ]
     },
     "execution_count": 207,
     "metadata": {},
     "output_type": "execute_result"
    }
   ],
   "source": [
    "evaluator.evaluate(results_rfc_grid)"
   ]
  },
  {
   "cell_type": "code",
   "execution_count": 208,
   "metadata": {
    "ExecuteTime": {
     "end_time": "2019-10-19T19:49:58.296511Z",
     "start_time": "2019-10-19T19:49:58.289660Z"
    }
   },
   "outputs": [
    {
     "data": {
      "text/plain": [
       "[RandomForestClassificationModel (uid=RandomForestClassifier_dae08062b786) with 50 trees]"
      ]
     },
     "execution_count": 208,
     "metadata": {},
     "output_type": "execute_result"
    }
   ],
   "source": [
    "model_cv.bestModel.stages"
   ]
  },
  {
   "cell_type": "code",
   "execution_count": 209,
   "metadata": {
    "ExecuteTime": {
     "end_time": "2019-10-19T19:49:59.736055Z",
     "start_time": "2019-10-19T19:49:59.729646Z"
    }
   },
   "outputs": [
    {
     "data": {
      "text/plain": [
       "[Param(parent='CrossValidatorModel_e443802db3db', name='estimator', doc='estimator to be cross-validated'),\n",
       " Param(parent='CrossValidatorModel_e443802db3db', name='estimatorParamMaps', doc='estimator param maps'),\n",
       " Param(parent='CrossValidatorModel_e443802db3db', name='evaluator', doc='evaluator used to select hyper-parameters that maximize the validator metric'),\n",
       " Param(parent='CrossValidatorModel_e443802db3db', name='seed', doc='random seed.')]"
      ]
     },
     "execution_count": 209,
     "metadata": {},
     "output_type": "execute_result"
    }
   ],
   "source": [
    "model_cv.params"
   ]
  },
  {
   "cell_type": "code",
   "execution_count": 233,
   "metadata": {
    "ExecuteTime": {
     "end_time": "2019-10-19T20:03:55.201537Z",
     "start_time": "2019-10-19T20:03:44.261223Z"
    }
   },
   "outputs": [
    {
     "data": {
      "text/html": [
       "<div>\n",
       "<style scoped>\n",
       "    .dataframe tbody tr th:only-of-type {\n",
       "        vertical-align: middle;\n",
       "    }\n",
       "\n",
       "    .dataframe tbody tr th {\n",
       "        vertical-align: top;\n",
       "    }\n",
       "\n",
       "    .dataframe thead th {\n",
       "        text-align: right;\n",
       "    }\n",
       "</style>\n",
       "<table border=\"1\" class=\"dataframe\">\n",
       "  <thead>\n",
       "    <tr style=\"text-align: right;\">\n",
       "      <th></th>\n",
       "      <th>model_name</th>\n",
       "      <th>desc</th>\n",
       "      <th>f1</th>\n",
       "      <th>weightedPrecision</th>\n",
       "      <th>weightedRecall</th>\n",
       "      <th>accuracy</th>\n",
       "      <th>areaUnderROC</th>\n",
       "      <th>areaUnderPR</th>\n",
       "    </tr>\n",
       "  </thead>\n",
       "  <tbody>\n",
       "    <tr>\n",
       "      <td>0</td>\n",
       "      <td>Logistic Regression</td>\n",
       "      <td>log features</td>\n",
       "      <td>0.846066</td>\n",
       "      <td>0.730487</td>\n",
       "      <td>0.999300</td>\n",
       "      <td>0.999294</td>\n",
       "      <td>0.999337</td>\n",
       "      <td>0.999337</td>\n",
       "    </tr>\n",
       "    <tr>\n",
       "      <td>3</td>\n",
       "      <td>Decision Tree Classifier</td>\n",
       "      <td>log features</td>\n",
       "      <td>0.868053</td>\n",
       "      <td>0.765536</td>\n",
       "      <td>0.999398</td>\n",
       "      <td>0.999393</td>\n",
       "      <td>0.999424</td>\n",
       "      <td>0.999424</td>\n",
       "    </tr>\n",
       "    <tr>\n",
       "      <td>4</td>\n",
       "      <td>Random Forest Classifier</td>\n",
       "      <td>log features</td>\n",
       "      <td>0.890040</td>\n",
       "      <td>0.800147</td>\n",
       "      <td>0.999494</td>\n",
       "      <td>0.999490</td>\n",
       "      <td>0.999511</td>\n",
       "      <td>0.999511</td>\n",
       "    </tr>\n",
       "    <tr>\n",
       "      <td>6</td>\n",
       "      <td>Random Forest Classifier</td>\n",
       "      <td>log features, grid search</td>\n",
       "      <td>0.884580</td>\n",
       "      <td>0.836982</td>\n",
       "      <td>0.999541</td>\n",
       "      <td>0.999548</td>\n",
       "      <td>0.999564</td>\n",
       "      <td>0.999564</td>\n",
       "    </tr>\n",
       "  </tbody>\n",
       "</table>\n",
       "</div>"
      ],
      "text/plain": [
       "                 model_name                       desc        f1  \\\n",
       "0       Logistic Regression               log features  0.846066   \n",
       "3  Decision Tree Classifier               log features  0.868053   \n",
       "4  Random Forest Classifier               log features  0.890040   \n",
       "6  Random Forest Classifier  log features, grid search  0.884580   \n",
       "\n",
       "   weightedPrecision  weightedRecall  accuracy  areaUnderROC  areaUnderPR  \n",
       "0           0.730487        0.999300  0.999294      0.999337     0.999337  \n",
       "3           0.765536        0.999398  0.999393      0.999424     0.999424  \n",
       "4           0.800147        0.999494  0.999490      0.999511     0.999511  \n",
       "6           0.836982        0.999541  0.999548      0.999564     0.999564  "
      ]
     },
     "execution_count": 233,
     "metadata": {},
     "output_type": "execute_result"
    }
   ],
   "source": [
    "dfe = get_classification_eval_metrics(results_rfc_grid,'Class',pred_col='prediction')\n",
    "row = dfe.values.ravel().tolist()\n",
    "df_eval.loc[len(df_eval)] = ['Random Forest Classifier','log features, grid search'] + row\n",
    "df_eval.drop_duplicates().sort_values('weightedRecall')"
   ]
  },
  {
   "cell_type": "markdown",
   "metadata": {},
   "source": [
    "# Feature Importances"
   ]
  },
  {
   "cell_type": "code",
   "execution_count": 211,
   "metadata": {
    "ExecuteTime": {
     "end_time": "2019-10-19T19:51:09.622454Z",
     "start_time": "2019-10-19T19:51:09.589371Z"
    }
   },
   "outputs": [
    {
     "data": {
      "text/plain": [
       "SparseVector(30, {0: 0.0022, 1: 0.0085, 2: 0.0628, 3: 0.0334, 4: 0.0116, 5: 0.0056, 6: 0.1099, 7: 0.0146, 8: 0.0774, 9: 0.0748, 10: 0.0384, 11: 0.1133, 12: 0.0055, 13: 0.0883, 14: 0.008, 15: 0.0818, 16: 0.1451, 17: 0.0257, 18: 0.0024, 19: 0.0077, 20: 0.0058, 21: 0.0085, 22: 0.0058, 23: 0.0087, 24: 0.0019, 25: 0.0145, 26: 0.006, 27: 0.0077, 28: 0.0122, 29: 0.012})"
      ]
     },
     "execution_count": 211,
     "metadata": {},
     "output_type": "execute_result"
    }
   ],
   "source": [
    "model_cv.bestModel.stages[-1].featureImportances"
   ]
  },
  {
   "cell_type": "code",
   "execution_count": 212,
   "metadata": {
    "ExecuteTime": {
     "end_time": "2019-10-19T19:51:16.321000Z",
     "start_time": "2019-10-19T19:51:16.314683Z"
    }
   },
   "outputs": [
    {
     "data": {
      "text/plain": [
       "{'numeric': [{'idx': 0, 'name': 'V1'},\n",
       "  {'idx': 1, 'name': 'V2'},\n",
       "  {'idx': 2, 'name': 'V3'},\n",
       "  {'idx': 3, 'name': 'V4'},\n",
       "  {'idx': 4, 'name': 'V5'},\n",
       "  {'idx': 5, 'name': 'V6'},\n",
       "  {'idx': 6, 'name': 'V7'},\n",
       "  {'idx': 7, 'name': 'V8'},\n",
       "  {'idx': 8, 'name': 'V9'},\n",
       "  {'idx': 9, 'name': 'V10'},\n",
       "  {'idx': 10, 'name': 'V11'},\n",
       "  {'idx': 11, 'name': 'V12'},\n",
       "  {'idx': 12, 'name': 'V13'},\n",
       "  {'idx': 13, 'name': 'V14'},\n",
       "  {'idx': 14, 'name': 'V15'},\n",
       "  {'idx': 15, 'name': 'V16'},\n",
       "  {'idx': 16, 'name': 'V17'},\n",
       "  {'idx': 17, 'name': 'V18'},\n",
       "  {'idx': 18, 'name': 'V19'},\n",
       "  {'idx': 19, 'name': 'V20'},\n",
       "  {'idx': 20, 'name': 'V21'},\n",
       "  {'idx': 21, 'name': 'V22'},\n",
       "  {'idx': 22, 'name': 'V23'},\n",
       "  {'idx': 23, 'name': 'V24'},\n",
       "  {'idx': 24, 'name': 'V25'},\n",
       "  {'idx': 25, 'name': 'V26'},\n",
       "  {'idx': 26, 'name': 'V27'},\n",
       "  {'idx': 27, 'name': 'V28'},\n",
       "  {'idx': 28, 'name': 'log1p_Time'},\n",
       "  {'idx': 29, 'name': 'log1p_Amount'}]}"
      ]
     },
     "execution_count": 212,
     "metadata": {},
     "output_type": "execute_result"
    }
   ],
   "source": [
    "prediction.schema[\"features\"].metadata[\"ml_attr\"][\"attrs\"]"
   ]
  },
  {
   "cell_type": "code",
   "execution_count": 213,
   "metadata": {
    "ExecuteTime": {
     "end_time": "2019-10-19T19:51:19.213272Z",
     "start_time": "2019-10-19T19:51:19.201981Z"
    }
   },
   "outputs": [],
   "source": [
    "# https://stackoverflow.com/questions/42935914/how-to-map-features-from-the-output-of-a-vectorassembler-back-to-the-column-name\n",
    "def get_feature_importance_df(model_cv, dataset, featuresCol):\n",
    "    feat_imp = model_cv.bestModel.stages[-1].featureImportances\n",
    "    list_extract = []\n",
    "    for i in dataset.schema[featuresCol].metadata[\"ml_attr\"][\"attrs\"]:\n",
    "        list_extract += dataset.schema[featuresCol].metadata[\"ml_attr\"][\"attrs\"][i]\n",
    "        \n",
    "    pandas_df_feat_imp = pd.DataFrame(list_extract)\n",
    "    pandas_df_feat_imp['importance'] = pandas_df_feat_imp['idx'].apply(lambda x: feat_imp[x])\n",
    "    pandas_df_feat_imp = pandas_df_feat_imp.sort_values('importance', ascending = False)\n",
    "    \n",
    "    return pandas_df_feat_imp"
   ]
  },
  {
   "cell_type": "code",
   "execution_count": 214,
   "metadata": {
    "ExecuteTime": {
     "end_time": "2019-10-19T19:51:23.674890Z",
     "start_time": "2019-10-19T19:51:23.356092Z"
    }
   },
   "outputs": [
    {
     "data": {
      "text/html": [
       "<style  type=\"text/css\" >\n",
       "    #T_d44c6ab0_f2a9_11e9_8bd7_acde48001122row0_col2 {\n",
       "            background-color:  #023858;\n",
       "            color:  #f1f1f1;\n",
       "        }    #T_d44c6ab0_f2a9_11e9_8bd7_acde48001122row1_col2 {\n",
       "            background-color:  #056ba7;\n",
       "            color:  #f1f1f1;\n",
       "        }    #T_d44c6ab0_f2a9_11e9_8bd7_acde48001122row2_col2 {\n",
       "            background-color:  #056fae;\n",
       "            color:  #f1f1f1;\n",
       "        }    #T_d44c6ab0_f2a9_11e9_8bd7_acde48001122row3_col2 {\n",
       "            background-color:  #4094c3;\n",
       "            color:  #000000;\n",
       "        }    #T_d44c6ab0_f2a9_11e9_8bd7_acde48001122row4_col2 {\n",
       "            background-color:  #589ec8;\n",
       "            color:  #000000;\n",
       "        }    #T_d44c6ab0_f2a9_11e9_8bd7_acde48001122row5_col2 {\n",
       "            background-color:  #67a4cc;\n",
       "            color:  #000000;\n",
       "        }    #T_d44c6ab0_f2a9_11e9_8bd7_acde48001122row6_col2 {\n",
       "            background-color:  #6fa7ce;\n",
       "            color:  #000000;\n",
       "        }    #T_d44c6ab0_f2a9_11e9_8bd7_acde48001122row7_col2 {\n",
       "            background-color:  #93b5d6;\n",
       "            color:  #000000;\n",
       "        }    #T_d44c6ab0_f2a9_11e9_8bd7_acde48001122row8_col2 {\n",
       "            background-color:  #ced0e6;\n",
       "            color:  #000000;\n",
       "        }    #T_d44c6ab0_f2a9_11e9_8bd7_acde48001122row9_col2 {\n",
       "            background-color:  #d7d6e9;\n",
       "            color:  #000000;\n",
       "        }    #T_d44c6ab0_f2a9_11e9_8bd7_acde48001122row10_col2 {\n",
       "            background-color:  #e3e0ee;\n",
       "            color:  #000000;\n",
       "        }    #T_d44c6ab0_f2a9_11e9_8bd7_acde48001122row11_col2 {\n",
       "            background-color:  #f2ecf5;\n",
       "            color:  #000000;\n",
       "        }    #T_d44c6ab0_f2a9_11e9_8bd7_acde48001122row12_col2 {\n",
       "            background-color:  #f2ecf5;\n",
       "            color:  #000000;\n",
       "        }    #T_d44c6ab0_f2a9_11e9_8bd7_acde48001122row13_col2 {\n",
       "            background-color:  #f4eef6;\n",
       "            color:  #000000;\n",
       "        }    #T_d44c6ab0_f2a9_11e9_8bd7_acde48001122row14_col2 {\n",
       "            background-color:  #f4eef6;\n",
       "            color:  #000000;\n",
       "        }    #T_d44c6ab0_f2a9_11e9_8bd7_acde48001122row15_col2 {\n",
       "            background-color:  #f5eef6;\n",
       "            color:  #000000;\n",
       "        }    #T_d44c6ab0_f2a9_11e9_8bd7_acde48001122row16_col2 {\n",
       "            background-color:  #f8f1f8;\n",
       "            color:  #000000;\n",
       "        }    #T_d44c6ab0_f2a9_11e9_8bd7_acde48001122row17_col2 {\n",
       "            background-color:  #f8f1f8;\n",
       "            color:  #000000;\n",
       "        }    #T_d44c6ab0_f2a9_11e9_8bd7_acde48001122row18_col2 {\n",
       "            background-color:  #f8f1f8;\n",
       "            color:  #000000;\n",
       "        }    #T_d44c6ab0_f2a9_11e9_8bd7_acde48001122row19_col2 {\n",
       "            background-color:  #f9f2f8;\n",
       "            color:  #000000;\n",
       "        }    #T_d44c6ab0_f2a9_11e9_8bd7_acde48001122row20_col2 {\n",
       "            background-color:  #f9f2f8;\n",
       "            color:  #000000;\n",
       "        }    #T_d44c6ab0_f2a9_11e9_8bd7_acde48001122row21_col2 {\n",
       "            background-color:  #f9f2f8;\n",
       "            color:  #000000;\n",
       "        }    #T_d44c6ab0_f2a9_11e9_8bd7_acde48001122row22_col2 {\n",
       "            background-color:  #fbf3f9;\n",
       "            color:  #000000;\n",
       "        }    #T_d44c6ab0_f2a9_11e9_8bd7_acde48001122row23_col2 {\n",
       "            background-color:  #fbf4f9;\n",
       "            color:  #000000;\n",
       "        }    #T_d44c6ab0_f2a9_11e9_8bd7_acde48001122row24_col2 {\n",
       "            background-color:  #fbf4f9;\n",
       "            color:  #000000;\n",
       "        }    #T_d44c6ab0_f2a9_11e9_8bd7_acde48001122row25_col2 {\n",
       "            background-color:  #fbf4f9;\n",
       "            color:  #000000;\n",
       "        }    #T_d44c6ab0_f2a9_11e9_8bd7_acde48001122row26_col2 {\n",
       "            background-color:  #fbf4f9;\n",
       "            color:  #000000;\n",
       "        }    #T_d44c6ab0_f2a9_11e9_8bd7_acde48001122row27_col2 {\n",
       "            background-color:  #fff7fb;\n",
       "            color:  #000000;\n",
       "        }    #T_d44c6ab0_f2a9_11e9_8bd7_acde48001122row28_col2 {\n",
       "            background-color:  #fff7fb;\n",
       "            color:  #000000;\n",
       "        }    #T_d44c6ab0_f2a9_11e9_8bd7_acde48001122row29_col2 {\n",
       "            background-color:  #fff7fb;\n",
       "            color:  #000000;\n",
       "        }</style><table id=\"T_d44c6ab0_f2a9_11e9_8bd7_acde48001122\" ><thead>    <tr>        <th class=\"blank level0\" ></th>        <th class=\"col_heading level0 col0\" >idx</th>        <th class=\"col_heading level0 col1\" >name</th>        <th class=\"col_heading level0 col2\" >importance</th>    </tr></thead><tbody>\n",
       "                <tr>\n",
       "                        <th id=\"T_d44c6ab0_f2a9_11e9_8bd7_acde48001122level0_row0\" class=\"row_heading level0 row0\" >16</th>\n",
       "                        <td id=\"T_d44c6ab0_f2a9_11e9_8bd7_acde48001122row0_col0\" class=\"data row0 col0\" >16</td>\n",
       "                        <td id=\"T_d44c6ab0_f2a9_11e9_8bd7_acde48001122row0_col1\" class=\"data row0 col1\" >V17</td>\n",
       "                        <td id=\"T_d44c6ab0_f2a9_11e9_8bd7_acde48001122row0_col2\" class=\"data row0 col2\" >0.1451</td>\n",
       "            </tr>\n",
       "            <tr>\n",
       "                        <th id=\"T_d44c6ab0_f2a9_11e9_8bd7_acde48001122level0_row1\" class=\"row_heading level0 row1\" >11</th>\n",
       "                        <td id=\"T_d44c6ab0_f2a9_11e9_8bd7_acde48001122row1_col0\" class=\"data row1 col0\" >11</td>\n",
       "                        <td id=\"T_d44c6ab0_f2a9_11e9_8bd7_acde48001122row1_col1\" class=\"data row1 col1\" >V12</td>\n",
       "                        <td id=\"T_d44c6ab0_f2a9_11e9_8bd7_acde48001122row1_col2\" class=\"data row1 col2\" >0.1133</td>\n",
       "            </tr>\n",
       "            <tr>\n",
       "                        <th id=\"T_d44c6ab0_f2a9_11e9_8bd7_acde48001122level0_row2\" class=\"row_heading level0 row2\" >6</th>\n",
       "                        <td id=\"T_d44c6ab0_f2a9_11e9_8bd7_acde48001122row2_col0\" class=\"data row2 col0\" >6</td>\n",
       "                        <td id=\"T_d44c6ab0_f2a9_11e9_8bd7_acde48001122row2_col1\" class=\"data row2 col1\" >V7</td>\n",
       "                        <td id=\"T_d44c6ab0_f2a9_11e9_8bd7_acde48001122row2_col2\" class=\"data row2 col2\" >0.109919</td>\n",
       "            </tr>\n",
       "            <tr>\n",
       "                        <th id=\"T_d44c6ab0_f2a9_11e9_8bd7_acde48001122level0_row3\" class=\"row_heading level0 row3\" >13</th>\n",
       "                        <td id=\"T_d44c6ab0_f2a9_11e9_8bd7_acde48001122row3_col0\" class=\"data row3 col0\" >13</td>\n",
       "                        <td id=\"T_d44c6ab0_f2a9_11e9_8bd7_acde48001122row3_col1\" class=\"data row3 col1\" >V14</td>\n",
       "                        <td id=\"T_d44c6ab0_f2a9_11e9_8bd7_acde48001122row3_col2\" class=\"data row3 col2\" >0.088303</td>\n",
       "            </tr>\n",
       "            <tr>\n",
       "                        <th id=\"T_d44c6ab0_f2a9_11e9_8bd7_acde48001122level0_row4\" class=\"row_heading level0 row4\" >15</th>\n",
       "                        <td id=\"T_d44c6ab0_f2a9_11e9_8bd7_acde48001122row4_col0\" class=\"data row4 col0\" >15</td>\n",
       "                        <td id=\"T_d44c6ab0_f2a9_11e9_8bd7_acde48001122row4_col1\" class=\"data row4 col1\" >V16</td>\n",
       "                        <td id=\"T_d44c6ab0_f2a9_11e9_8bd7_acde48001122row4_col2\" class=\"data row4 col2\" >0.0818398</td>\n",
       "            </tr>\n",
       "            <tr>\n",
       "                        <th id=\"T_d44c6ab0_f2a9_11e9_8bd7_acde48001122level0_row5\" class=\"row_heading level0 row5\" >8</th>\n",
       "                        <td id=\"T_d44c6ab0_f2a9_11e9_8bd7_acde48001122row5_col0\" class=\"data row5 col0\" >8</td>\n",
       "                        <td id=\"T_d44c6ab0_f2a9_11e9_8bd7_acde48001122row5_col1\" class=\"data row5 col1\" >V9</td>\n",
       "                        <td id=\"T_d44c6ab0_f2a9_11e9_8bd7_acde48001122row5_col2\" class=\"data row5 col2\" >0.0773547</td>\n",
       "            </tr>\n",
       "            <tr>\n",
       "                        <th id=\"T_d44c6ab0_f2a9_11e9_8bd7_acde48001122level0_row6\" class=\"row_heading level0 row6\" >9</th>\n",
       "                        <td id=\"T_d44c6ab0_f2a9_11e9_8bd7_acde48001122row6_col0\" class=\"data row6 col0\" >9</td>\n",
       "                        <td id=\"T_d44c6ab0_f2a9_11e9_8bd7_acde48001122row6_col1\" class=\"data row6 col1\" >V10</td>\n",
       "                        <td id=\"T_d44c6ab0_f2a9_11e9_8bd7_acde48001122row6_col2\" class=\"data row6 col2\" >0.0747522</td>\n",
       "            </tr>\n",
       "            <tr>\n",
       "                        <th id=\"T_d44c6ab0_f2a9_11e9_8bd7_acde48001122level0_row7\" class=\"row_heading level0 row7\" >2</th>\n",
       "                        <td id=\"T_d44c6ab0_f2a9_11e9_8bd7_acde48001122row7_col0\" class=\"data row7 col0\" >2</td>\n",
       "                        <td id=\"T_d44c6ab0_f2a9_11e9_8bd7_acde48001122row7_col1\" class=\"data row7 col1\" >V3</td>\n",
       "                        <td id=\"T_d44c6ab0_f2a9_11e9_8bd7_acde48001122row7_col2\" class=\"data row7 col2\" >0.0628027</td>\n",
       "            </tr>\n",
       "            <tr>\n",
       "                        <th id=\"T_d44c6ab0_f2a9_11e9_8bd7_acde48001122level0_row8\" class=\"row_heading level0 row8\" >10</th>\n",
       "                        <td id=\"T_d44c6ab0_f2a9_11e9_8bd7_acde48001122row8_col0\" class=\"data row8 col0\" >10</td>\n",
       "                        <td id=\"T_d44c6ab0_f2a9_11e9_8bd7_acde48001122row8_col1\" class=\"data row8 col1\" >V11</td>\n",
       "                        <td id=\"T_d44c6ab0_f2a9_11e9_8bd7_acde48001122row8_col2\" class=\"data row8 col2\" >0.0383619</td>\n",
       "            </tr>\n",
       "            <tr>\n",
       "                        <th id=\"T_d44c6ab0_f2a9_11e9_8bd7_acde48001122level0_row9\" class=\"row_heading level0 row9\" >3</th>\n",
       "                        <td id=\"T_d44c6ab0_f2a9_11e9_8bd7_acde48001122row9_col0\" class=\"data row9 col0\" >3</td>\n",
       "                        <td id=\"T_d44c6ab0_f2a9_11e9_8bd7_acde48001122row9_col1\" class=\"data row9 col1\" >V4</td>\n",
       "                        <td id=\"T_d44c6ab0_f2a9_11e9_8bd7_acde48001122row9_col2\" class=\"data row9 col2\" >0.0334011</td>\n",
       "            </tr>\n",
       "            <tr>\n",
       "                        <th id=\"T_d44c6ab0_f2a9_11e9_8bd7_acde48001122level0_row10\" class=\"row_heading level0 row10\" >17</th>\n",
       "                        <td id=\"T_d44c6ab0_f2a9_11e9_8bd7_acde48001122row10_col0\" class=\"data row10 col0\" >17</td>\n",
       "                        <td id=\"T_d44c6ab0_f2a9_11e9_8bd7_acde48001122row10_col1\" class=\"data row10 col1\" >V18</td>\n",
       "                        <td id=\"T_d44c6ab0_f2a9_11e9_8bd7_acde48001122row10_col2\" class=\"data row10 col2\" >0.0256938</td>\n",
       "            </tr>\n",
       "            <tr>\n",
       "                        <th id=\"T_d44c6ab0_f2a9_11e9_8bd7_acde48001122level0_row11\" class=\"row_heading level0 row11\" >7</th>\n",
       "                        <td id=\"T_d44c6ab0_f2a9_11e9_8bd7_acde48001122row11_col0\" class=\"data row11 col0\" >7</td>\n",
       "                        <td id=\"T_d44c6ab0_f2a9_11e9_8bd7_acde48001122row11_col1\" class=\"data row11 col1\" >V8</td>\n",
       "                        <td id=\"T_d44c6ab0_f2a9_11e9_8bd7_acde48001122row11_col2\" class=\"data row11 col2\" >0.0145529</td>\n",
       "            </tr>\n",
       "            <tr>\n",
       "                        <th id=\"T_d44c6ab0_f2a9_11e9_8bd7_acde48001122level0_row12\" class=\"row_heading level0 row12\" >25</th>\n",
       "                        <td id=\"T_d44c6ab0_f2a9_11e9_8bd7_acde48001122row12_col0\" class=\"data row12 col0\" >25</td>\n",
       "                        <td id=\"T_d44c6ab0_f2a9_11e9_8bd7_acde48001122row12_col1\" class=\"data row12 col1\" >V26</td>\n",
       "                        <td id=\"T_d44c6ab0_f2a9_11e9_8bd7_acde48001122row12_col2\" class=\"data row12 col2\" >0.0145493</td>\n",
       "            </tr>\n",
       "            <tr>\n",
       "                        <th id=\"T_d44c6ab0_f2a9_11e9_8bd7_acde48001122level0_row13\" class=\"row_heading level0 row13\" >28</th>\n",
       "                        <td id=\"T_d44c6ab0_f2a9_11e9_8bd7_acde48001122row13_col0\" class=\"data row13 col0\" >28</td>\n",
       "                        <td id=\"T_d44c6ab0_f2a9_11e9_8bd7_acde48001122row13_col1\" class=\"data row13 col1\" >log1p_Time</td>\n",
       "                        <td id=\"T_d44c6ab0_f2a9_11e9_8bd7_acde48001122row13_col2\" class=\"data row13 col2\" >0.0121996</td>\n",
       "            </tr>\n",
       "            <tr>\n",
       "                        <th id=\"T_d44c6ab0_f2a9_11e9_8bd7_acde48001122level0_row14\" class=\"row_heading level0 row14\" >29</th>\n",
       "                        <td id=\"T_d44c6ab0_f2a9_11e9_8bd7_acde48001122row14_col0\" class=\"data row14 col0\" >29</td>\n",
       "                        <td id=\"T_d44c6ab0_f2a9_11e9_8bd7_acde48001122row14_col1\" class=\"data row14 col1\" >log1p_Amount</td>\n",
       "                        <td id=\"T_d44c6ab0_f2a9_11e9_8bd7_acde48001122row14_col2\" class=\"data row14 col2\" >0.0120428</td>\n",
       "            </tr>\n",
       "            <tr>\n",
       "                        <th id=\"T_d44c6ab0_f2a9_11e9_8bd7_acde48001122level0_row15\" class=\"row_heading level0 row15\" >4</th>\n",
       "                        <td id=\"T_d44c6ab0_f2a9_11e9_8bd7_acde48001122row15_col0\" class=\"data row15 col0\" >4</td>\n",
       "                        <td id=\"T_d44c6ab0_f2a9_11e9_8bd7_acde48001122row15_col1\" class=\"data row15 col1\" >V5</td>\n",
       "                        <td id=\"T_d44c6ab0_f2a9_11e9_8bd7_acde48001122row15_col2\" class=\"data row15 col2\" >0.0115613</td>\n",
       "            </tr>\n",
       "            <tr>\n",
       "                        <th id=\"T_d44c6ab0_f2a9_11e9_8bd7_acde48001122level0_row16\" class=\"row_heading level0 row16\" >23</th>\n",
       "                        <td id=\"T_d44c6ab0_f2a9_11e9_8bd7_acde48001122row16_col0\" class=\"data row16 col0\" >23</td>\n",
       "                        <td id=\"T_d44c6ab0_f2a9_11e9_8bd7_acde48001122row16_col1\" class=\"data row16 col1\" >V24</td>\n",
       "                        <td id=\"T_d44c6ab0_f2a9_11e9_8bd7_acde48001122row16_col2\" class=\"data row16 col2\" >0.00865824</td>\n",
       "            </tr>\n",
       "            <tr>\n",
       "                        <th id=\"T_d44c6ab0_f2a9_11e9_8bd7_acde48001122level0_row17\" class=\"row_heading level0 row17\" >1</th>\n",
       "                        <td id=\"T_d44c6ab0_f2a9_11e9_8bd7_acde48001122row17_col0\" class=\"data row17 col0\" >1</td>\n",
       "                        <td id=\"T_d44c6ab0_f2a9_11e9_8bd7_acde48001122row17_col1\" class=\"data row17 col1\" >V2</td>\n",
       "                        <td id=\"T_d44c6ab0_f2a9_11e9_8bd7_acde48001122row17_col2\" class=\"data row17 col2\" >0.00851461</td>\n",
       "            </tr>\n",
       "            <tr>\n",
       "                        <th id=\"T_d44c6ab0_f2a9_11e9_8bd7_acde48001122level0_row18\" class=\"row_heading level0 row18\" >21</th>\n",
       "                        <td id=\"T_d44c6ab0_f2a9_11e9_8bd7_acde48001122row18_col0\" class=\"data row18 col0\" >21</td>\n",
       "                        <td id=\"T_d44c6ab0_f2a9_11e9_8bd7_acde48001122row18_col1\" class=\"data row18 col1\" >V22</td>\n",
       "                        <td id=\"T_d44c6ab0_f2a9_11e9_8bd7_acde48001122row18_col2\" class=\"data row18 col2\" >0.00848692</td>\n",
       "            </tr>\n",
       "            <tr>\n",
       "                        <th id=\"T_d44c6ab0_f2a9_11e9_8bd7_acde48001122level0_row19\" class=\"row_heading level0 row19\" >14</th>\n",
       "                        <td id=\"T_d44c6ab0_f2a9_11e9_8bd7_acde48001122row19_col0\" class=\"data row19 col0\" >14</td>\n",
       "                        <td id=\"T_d44c6ab0_f2a9_11e9_8bd7_acde48001122row19_col1\" class=\"data row19 col1\" >V15</td>\n",
       "                        <td id=\"T_d44c6ab0_f2a9_11e9_8bd7_acde48001122row19_col2\" class=\"data row19 col2\" >0.00796113</td>\n",
       "            </tr>\n",
       "            <tr>\n",
       "                        <th id=\"T_d44c6ab0_f2a9_11e9_8bd7_acde48001122level0_row20\" class=\"row_heading level0 row20\" >19</th>\n",
       "                        <td id=\"T_d44c6ab0_f2a9_11e9_8bd7_acde48001122row20_col0\" class=\"data row20 col0\" >19</td>\n",
       "                        <td id=\"T_d44c6ab0_f2a9_11e9_8bd7_acde48001122row20_col1\" class=\"data row20 col1\" >V20</td>\n",
       "                        <td id=\"T_d44c6ab0_f2a9_11e9_8bd7_acde48001122row20_col2\" class=\"data row20 col2\" >0.00774602</td>\n",
       "            </tr>\n",
       "            <tr>\n",
       "                        <th id=\"T_d44c6ab0_f2a9_11e9_8bd7_acde48001122level0_row21\" class=\"row_heading level0 row21\" >27</th>\n",
       "                        <td id=\"T_d44c6ab0_f2a9_11e9_8bd7_acde48001122row21_col0\" class=\"data row21 col0\" >27</td>\n",
       "                        <td id=\"T_d44c6ab0_f2a9_11e9_8bd7_acde48001122row21_col1\" class=\"data row21 col1\" >V28</td>\n",
       "                        <td id=\"T_d44c6ab0_f2a9_11e9_8bd7_acde48001122row21_col2\" class=\"data row21 col2\" >0.00773218</td>\n",
       "            </tr>\n",
       "            <tr>\n",
       "                        <th id=\"T_d44c6ab0_f2a9_11e9_8bd7_acde48001122level0_row22\" class=\"row_heading level0 row22\" >26</th>\n",
       "                        <td id=\"T_d44c6ab0_f2a9_11e9_8bd7_acde48001122row22_col0\" class=\"data row22 col0\" >26</td>\n",
       "                        <td id=\"T_d44c6ab0_f2a9_11e9_8bd7_acde48001122row22_col1\" class=\"data row22 col1\" >V27</td>\n",
       "                        <td id=\"T_d44c6ab0_f2a9_11e9_8bd7_acde48001122row22_col2\" class=\"data row22 col2\" >0.00596056</td>\n",
       "            </tr>\n",
       "            <tr>\n",
       "                        <th id=\"T_d44c6ab0_f2a9_11e9_8bd7_acde48001122level0_row23\" class=\"row_heading level0 row23\" >20</th>\n",
       "                        <td id=\"T_d44c6ab0_f2a9_11e9_8bd7_acde48001122row23_col0\" class=\"data row23 col0\" >20</td>\n",
       "                        <td id=\"T_d44c6ab0_f2a9_11e9_8bd7_acde48001122row23_col1\" class=\"data row23 col1\" >V21</td>\n",
       "                        <td id=\"T_d44c6ab0_f2a9_11e9_8bd7_acde48001122row23_col2\" class=\"data row23 col2\" >0.00583038</td>\n",
       "            </tr>\n",
       "            <tr>\n",
       "                        <th id=\"T_d44c6ab0_f2a9_11e9_8bd7_acde48001122level0_row24\" class=\"row_heading level0 row24\" >22</th>\n",
       "                        <td id=\"T_d44c6ab0_f2a9_11e9_8bd7_acde48001122row24_col0\" class=\"data row24 col0\" >22</td>\n",
       "                        <td id=\"T_d44c6ab0_f2a9_11e9_8bd7_acde48001122row24_col1\" class=\"data row24 col1\" >V23</td>\n",
       "                        <td id=\"T_d44c6ab0_f2a9_11e9_8bd7_acde48001122row24_col2\" class=\"data row24 col2\" >0.00577398</td>\n",
       "            </tr>\n",
       "            <tr>\n",
       "                        <th id=\"T_d44c6ab0_f2a9_11e9_8bd7_acde48001122level0_row25\" class=\"row_heading level0 row25\" >5</th>\n",
       "                        <td id=\"T_d44c6ab0_f2a9_11e9_8bd7_acde48001122row25_col0\" class=\"data row25 col0\" >5</td>\n",
       "                        <td id=\"T_d44c6ab0_f2a9_11e9_8bd7_acde48001122row25_col1\" class=\"data row25 col1\" >V6</td>\n",
       "                        <td id=\"T_d44c6ab0_f2a9_11e9_8bd7_acde48001122row25_col2\" class=\"data row25 col2\" >0.00555172</td>\n",
       "            </tr>\n",
       "            <tr>\n",
       "                        <th id=\"T_d44c6ab0_f2a9_11e9_8bd7_acde48001122level0_row26\" class=\"row_heading level0 row26\" >12</th>\n",
       "                        <td id=\"T_d44c6ab0_f2a9_11e9_8bd7_acde48001122row26_col0\" class=\"data row26 col0\" >12</td>\n",
       "                        <td id=\"T_d44c6ab0_f2a9_11e9_8bd7_acde48001122row26_col1\" class=\"data row26 col1\" >V13</td>\n",
       "                        <td id=\"T_d44c6ab0_f2a9_11e9_8bd7_acde48001122row26_col2\" class=\"data row26 col2\" >0.00552945</td>\n",
       "            </tr>\n",
       "            <tr>\n",
       "                        <th id=\"T_d44c6ab0_f2a9_11e9_8bd7_acde48001122level0_row27\" class=\"row_heading level0 row27\" >18</th>\n",
       "                        <td id=\"T_d44c6ab0_f2a9_11e9_8bd7_acde48001122row27_col0\" class=\"data row27 col0\" >18</td>\n",
       "                        <td id=\"T_d44c6ab0_f2a9_11e9_8bd7_acde48001122row27_col1\" class=\"data row27 col1\" >V19</td>\n",
       "                        <td id=\"T_d44c6ab0_f2a9_11e9_8bd7_acde48001122row27_col2\" class=\"data row27 col2\" >0.00241755</td>\n",
       "            </tr>\n",
       "            <tr>\n",
       "                        <th id=\"T_d44c6ab0_f2a9_11e9_8bd7_acde48001122level0_row28\" class=\"row_heading level0 row28\" >0</th>\n",
       "                        <td id=\"T_d44c6ab0_f2a9_11e9_8bd7_acde48001122row28_col0\" class=\"data row28 col0\" >0</td>\n",
       "                        <td id=\"T_d44c6ab0_f2a9_11e9_8bd7_acde48001122row28_col1\" class=\"data row28 col1\" >V1</td>\n",
       "                        <td id=\"T_d44c6ab0_f2a9_11e9_8bd7_acde48001122row28_col2\" class=\"data row28 col2\" >0.00218484</td>\n",
       "            </tr>\n",
       "            <tr>\n",
       "                        <th id=\"T_d44c6ab0_f2a9_11e9_8bd7_acde48001122level0_row29\" class=\"row_heading level0 row29\" >24</th>\n",
       "                        <td id=\"T_d44c6ab0_f2a9_11e9_8bd7_acde48001122row29_col0\" class=\"data row29 col0\" >24</td>\n",
       "                        <td id=\"T_d44c6ab0_f2a9_11e9_8bd7_acde48001122row29_col1\" class=\"data row29 col1\" >V25</td>\n",
       "                        <td id=\"T_d44c6ab0_f2a9_11e9_8bd7_acde48001122row29_col2\" class=\"data row29 col2\" >0.00191832</td>\n",
       "            </tr>\n",
       "    </tbody></table>"
      ],
      "text/plain": [
       "<pandas.io.formats.style.Styler at 0x122cab4d0>"
      ]
     },
     "execution_count": 214,
     "metadata": {},
     "output_type": "execute_result"
    }
   ],
   "source": [
    "pandas_df_feat_imp = get_feature_importance_df(model_cv, prediction, \"features\")\n",
    "pandas_df_feat_imp.style.background_gradient(subset=['importance'])"
   ]
  },
  {
   "cell_type": "markdown",
   "metadata": {},
   "source": [
    "# Confusion Matrix"
   ]
  },
  {
   "cell_type": "code",
   "execution_count": 234,
   "metadata": {
    "ExecuteTime": {
     "end_time": "2019-10-19T20:19:05.069922Z",
     "start_time": "2019-10-19T20:19:04.303712Z"
    }
   },
   "outputs": [
    {
     "name": "stdout",
     "output_type": "stream",
     "text": [
      "+----------+-----+\n",
      "|prediction|Class|\n",
      "+----------+-----+\n",
      "|       0.0|    0|\n",
      "|       0.0|    0|\n",
      "|       0.0|    0|\n",
      "|       0.0|    0|\n",
      "|       0.0|    0|\n",
      "+----------+-----+\n",
      "only showing top 5 rows\n",
      "\n"
     ]
    }
   ],
   "source": [
    "results_rfc.select('prediction','Class').show(5)"
   ]
  },
  {
   "cell_type": "code",
   "execution_count": 263,
   "metadata": {
    "ExecuteTime": {
     "end_time": "2019-10-19T21:06:19.889533Z",
     "start_time": "2019-10-19T21:06:16.311573Z"
    }
   },
   "outputs": [
    {
     "name": "stdout",
     "output_type": "stream",
     "text": [
      "Model name     :  Random Forest, grid search\n",
      "True Positive  :  70\n",
      "True Negatives :  57193\n",
      "\n",
      "False Positives:  4\n",
      "False Negatives:  21\n",
      "\n",
      "Total          :  57288\n",
      "Precison       :  0.946\n",
      "Recall         :  0.769\n"
     ]
    }
   ],
   "source": [
    "def pyspark_confusion_matrix(model_name, results,\n",
    "                             label_col='Class',pred_col='prediction'):\n",
    "    \n",
    "    tp = results[(results[label_col] == 1) & (results[pred_col] == 1.0)].count()\n",
    "    tn = results[(results[label_col] == 0) & (results[pred_col] == 0.0)].count()\n",
    "    fp = results[(results[label_col] == 0) & (results[pred_col] == 1.0)].count()\n",
    "    fn = results[(results[label_col] == 1) & (results[pred_col] == 0.0)].count()\n",
    "\n",
    "    total = tp + tn + fp + fn\n",
    "\n",
    "    recall = float(tp)/(tp + fn)\n",
    "    precision = float(tp) / (tp + fp)\n",
    "\n",
    "    print('Model name     : ', model_name)\n",
    "    print(\"True Positive  : \", tp)\n",
    "    print(\"True Negatives : \", tn)\n",
    "    print()\n",
    "    print(\"False Positives: \", fp)\n",
    "    print(\"False Negatives: \", fn)\n",
    "    print()\n",
    "    print(\"Total          : \", total)\n",
    "    print(\"Precison       : \", round(precision,3))\n",
    "    print(\"Recall         : \", round(recall,3))\n",
    "    \n",
    "pyspark_confusion_matrix('Random Forest, grid search', results_rfc_grid)"
   ]
  },
  {
   "cell_type": "code",
   "execution_count": 258,
   "metadata": {
    "ExecuteTime": {
     "end_time": "2019-10-19T20:57:35.345777Z",
     "start_time": "2019-10-19T20:57:35.339609Z"
    }
   },
   "outputs": [
    {
     "data": {
      "text/plain": [
       "array([[57189,     8],\n",
       "       [   20,    71]])"
      ]
     },
     "execution_count": 258,
     "metadata": {},
     "output_type": "execute_result"
    }
   ],
   "source": [
    "cm = np.array([[tn,fp],\n",
    "               [fn,tp]\n",
    "              ])\n",
    "cm"
   ]
  },
  {
   "cell_type": "code",
   "execution_count": 255,
   "metadata": {
    "ExecuteTime": {
     "end_time": "2019-10-19T20:55:32.136093Z",
     "start_time": "2019-10-19T20:55:31.962352Z"
    }
   },
   "outputs": [
    {
     "data": {
      "text/plain": [
       "array([[57189,     8],\n",
       "       [   20,    71]])"
      ]
     },
     "execution_count": 255,
     "metadata": {},
     "output_type": "execute_result"
    }
   ],
   "source": [
    "from sklearn.metrics import confusion_matrix\n",
    "\n",
    "original_ytest = results_rfc.select('Class').toPandas().values\n",
    "y_preds = results_rfc.select('prediction').toPandas().values.astype(int)\n",
    "\n",
    "confusion_matrix(original_ytest,y_preds)"
   ]
  },
  {
   "cell_type": "code",
   "execution_count": 265,
   "metadata": {
    "ExecuteTime": {
     "end_time": "2019-10-19T21:08:38.639006Z",
     "start_time": "2019-10-19T21:08:38.633441Z"
    }
   },
   "outputs": [],
   "source": [
    "# help(confusion_matrix)"
   ]
  },
  {
   "cell_type": "code",
   "execution_count": null,
   "metadata": {},
   "outputs": [],
   "source": []
  }
 ],
 "metadata": {
  "kernelspec": {
   "display_name": "Spark3",
   "language": "python",
   "name": "spk"
  },
  "language_info": {
   "codemirror_mode": {
    "name": "ipython",
    "version": 3
   },
   "file_extension": ".py",
   "mimetype": "text/x-python",
   "name": "python",
   "nbconvert_exporter": "python",
   "pygments_lexer": "ipython3",
   "version": "3.7.7"
  },
  "toc": {
   "base_numbering": 1,
   "nav_menu": {},
   "number_sections": true,
   "sideBar": true,
   "skip_h1_title": false,
   "title_cell": "Table of Contents",
   "title_sidebar": "Contents",
   "toc_cell": true,
   "toc_position": {},
   "toc_section_display": true,
   "toc_window_display": false
  }
 },
 "nbformat": 4,
 "nbformat_minor": 2
}
